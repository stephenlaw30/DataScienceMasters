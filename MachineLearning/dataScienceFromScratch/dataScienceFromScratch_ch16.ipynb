{
 "cells": [
  {
   "cell_type": "markdown",
   "metadata": {},
   "source": [
    "## Chapter 16. Logistic Regression\n",
    "\n",
    "**Problem** = have anonymized data set of ~200 users containing  salary, years of experience, + if paid for a premium account. As is usual w/ categorical variables, represent dependent variable as 0 (no premium account) or 1 (premium account). As usual, data = matrix where each row = a list `[experience, salary, paid_account]`. Let’s turn it into the format we need:"
   ]
  }
 ],
 "metadata": {
  "kernelspec": {
   "display_name": "Python 3",
   "language": "python",
   "name": "python3"
  },
  "language_info": {
   "codemirror_mode": {
    "name": "ipython",
    "version": 3
   },
   "file_extension": ".py",
   "mimetype": "text/x-python",
   "name": "python",
   "nbconvert_exporter": "python",
   "pygments_lexer": "ipython3",
   "version": "3.6.0"
  }
 },
 "nbformat": 4,
 "nbformat_minor": 2
}
