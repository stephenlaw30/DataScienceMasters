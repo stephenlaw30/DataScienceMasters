{
 "cells": [
  {
   "cell_type": "markdown",
   "metadata": {},
   "source": [
    "## Chapter 21 Network Analysis\n",
    "\n",
    "Many interesting data problems can be fruitfully thought of in terms of **networks** consisting of **nodes** of some type + the **edges** that join them.\n",
    "Ex: FB friends form the nodes of a network whose edges = friendship relations, or the Web itself, w/ each web page a node, + each hyperlink from 1 page to another an edge.\n",
    "\n",
    "FB friendship = mutual, so in this case, edges = **undirected**. Hyperlinks are *not*, so those edges = **directed**\n",
    "\n",
    "### Betweenness Centrality\n",
    "\n",
    "Ch1: Computed the key connectors in the network by counting # of friends each user had. Now we have enough machinery to look @ other approaches. Recall that the network comprised users and friendships:"
   ]
  },
  {
   "cell_type": "code",
   "execution_count": 1,
   "metadata": {
    "collapsed": true
   },
   "outputs": [],
   "source": [
    "users = [\n",
    "    { \"id\": 0, \"name\": \"Hero\" },\n",
    "    { \"id\": 1, \"name\": \"Dunn\" },\n",
    "    { \"id\": 2, \"name\": \"Sue\" },\n",
    "    { \"id\": 3, \"name\": \"Chi\" },\n",
    "    { \"id\": 4, \"name\": \"Thor\" },\n",
    "    { \"id\": 5, \"name\": \"Clive\" },\n",
    "    { \"id\": 6, \"name\": \"Hicks\" },\n",
    "    { \"id\": 7, \"name\": \"Devin\" },\n",
    "    { \"id\": 8, \"name\": \"Kate\" },\n",
    "    { \"id\": 9, \"name\": \"Klein\" }\n",
    "]\n",
    "\n",
    "friendships = [(0, 1), (0, 2), (1, 2), (1, 3), (2, 3), (3, 4),\n",
    "               (4, 5), (5, 6), (5, 7), (6, 8), (7, 8), (8, 9)]"
   ]
  },
  {
   "cell_type": "markdown",
   "metadata": {},
   "source": [
    "We also added friend lists to each user `dict`:"
   ]
  },
  {
   "cell_type": "code",
   "execution_count": 2,
   "metadata": {
    "collapsed": true
   },
   "outputs": [],
   "source": [
    "for user in users:\n",
    "    user[\"friends\"] = []\n",
    "    \n",
    "for i,j in friendships:\n",
    "    # add i as friend of j and vice versa\n",
    "    users[i][\"friends\"].append(users[j])\n",
    "    users[j][\"friends\"].append(users[i])"
   ]
  },
  {
   "cell_type": "markdown",
   "metadata": {},
   "source": [
    "When we left off, we were dissatisfied w/ our notion of **degree centrality**, which didn’t really agree w/ intuition about the **key connectors** of the network.\n",
    "\n",
    "An alternative metric = **betweenness centrality** = ID's people who frequently are on the shortest paths between pairs of other people. In particular, the betweenness centrality of node `i` = adding up, for every other pair of nodes `j` and `k`, the proportion of shortest paths between node `j` and node `k` that pass through `i`.\n",
    "\n",
    "That is, to figure out Thor’s (4) betweenness centrality, compute all the shortest\n",
    "paths between all pairs of people who aren’t Thor + then count how many of those shortest paths pass through Thor. \n",
    "\n",
    "* Ex: Only shortest path between Chi (id 3) and Clive (id 5) passes through Thor (4), while neither of the 2 shortest paths between Hero (id 0) and Chi (id 3) does.\n",
    "\n",
    "So, as a 1st step, figure out the shortest paths between all pairs of people. There are some pretty sophisticated algorithms for doing so efficiently, but we will use a less efficient, easier-to-understand algorithm.\n",
    "\n",
    "This algorithm = an implementation of **breadth-first search**:\n",
    "\n",
    "1. Goal = a function that takes a `from_user` + finds all shortest paths to every other user.\n",
    "2. Represent a path = list of user IDs. Since every path starts at `from_user`, don’t include that ID in the list (length of list representing the path will be the length of the path itself).\n",
    "3. Maintain a dictionary `shortest_paths_to` where keys = user IDs + values = lists of paths that end at the user w/ the specified ID. If there is a unique shortest path, list will just contain that 1 path. If there are multiple shortest paths, list will contain all of them.\n",
    "4. Also maintain a queue `frontier` that contains the users we want to explore in the order we want to explore them, stored as pairs `(prev_user, user)` so we know how we got to each one. \n",
    "5. Initialize the queue w/ all neighbors of `from_user` (**queues** = data structures optimized for “add to the end” + “remove from the front” operations that, in Python, are implemented as **collections.deque**, which is actually a double-ended queue)\n",
    "6. Explore the graph, + whenever we find new neighbors we don’t already know shortest paths to, add them to the end of the queue to explore later, w/  current user as `prev_user`.\n",
    "7. When we take a user off the queue + we’ve never encountered that user before, we’ve definitely found 1+ shortest paths to him — each of the shortest paths to `prev_user` w/ 1 extra step added.\n",
    "8. When we take a user off the queue + have encountered that user before, either we’ve found another shortest path (in which case we should add it) or we’ve found a longer path (in which case we shouldn’t).\n",
    "9. When no more users are left on the queue, we’ve explored the whole graph (or, at least, the parts that are reachable from the starting user) + we’re done"
   ]
  },
  {
   "cell_type": "code",
   "execution_count": 3,
   "metadata": {},
   "outputs": [],
   "source": [
    "from collections import deque\n",
    "\n",
    "def shortest_paths_from(from_user):\n",
    "    # add dict of shortest paths to specified users with lists of paths to \n",
    "    # that user\n",
    "    shortest_paths_to = {from_user[\"id\"]: [[]]}\n",
    "    \n",
    "    # queue of (prev_user,nxt_user) that is to be checked\n",
    "    # starts out w/ all pairs (from_user,from_user_friend)\n",
    "    frontier = deque((from_user,friend) for friend in from_user[\"friends\"])\n",
    "    \n",
    "    # explore graph to find new neighbors until queue is empty\n",
    "    while frontier:\n",
    "        prev_user, user = frontier.popleft() # remove 1st user in queue\n",
    "        user_id = user[\"id\"]\n",
    "        \n",
    "        # because of way we're adding to the queue, we necessarily \n",
    "        # already know some shortest paths to prev_user\n",
    "        paths_to_prev_user = shortest_paths_to[prev_user[\"id\"]]\n",
    "        new_paths_to_user = [path + [user_id] for path in paths_to_prev_user]\n",
    "        \n",
    "        # possible we already know shortest path\n",
    "        old_paths_to_user = shortest_paths_to.get(user_id,[])\n",
    "        \n",
    "        # find shortest path to here that we have so far\n",
    "        if old_paths_to_user:\n",
    "            min_path_length = len(old_paths_to_user[0])\n",
    "        else:\n",
    "            min_path_length = float('inf')\n",
    "            \n",
    "        # only keep path that aren't too long + actually are new\n",
    "        new_paths_to_user = [path for path in new_paths_to_user\n",
    "                            if len(path) <= min_path_length\n",
    "                            and path not in old_paths_to_user]\n",
    "        \n",
    "        shortest_paths_to[user_id] = old_paths_to_user + new_paths_to_user\n",
    "        \n",
    "        # add never-before-seen neighbors to frontier queue\n",
    "        frontier.extend((user,friend) for friend in user[\"friends\"]\n",
    "                       if friend[\"id\"] not in shortest_paths_to)\n",
    "        \n",
    "    return shortest_paths_to"
   ]
  },
  {
   "cell_type": "markdown",
   "metadata": {},
   "source": [
    "Can store these `dict`s with each node:"
   ]
  },
  {
   "cell_type": "code",
   "execution_count": 4,
   "metadata": {},
   "outputs": [],
   "source": [
    "for user in users:\n",
    "    user[\"shortest_paths\"] = shortest_paths_from(user)"
   ]
  },
  {
   "cell_type": "markdown",
   "metadata": {},
   "source": [
    "Now generate sentences"
   ]
  },
  {
   "cell_type": "code",
   "execution_count": 5,
   "metadata": {},
   "outputs": [
    {
     "name": "stdout",
     "output_type": "stream",
     "text": [
      "{'id': 0, 'name': 'Hero', 'friends': [{'id': 1, 'name': 'Dunn', 'friends': [{...}, {'id': 2, 'name': 'Sue', 'friends': [{...}, {...}, {'id': 3, 'name': 'Chi', 'friends': [{...}, {...}, {'id': 4, 'name': 'Thor', 'friends': [{...}, {'id': 5, 'name': 'Clive', 'friends': [{...}, {'id': 6, 'name': 'Hicks', 'friends': [{...}, {'id': 8, 'name': 'Kate', 'friends': [{...}, {'id': 7, 'name': 'Devin', 'friends': [{...}, {...}], 'shortest_paths': {7: [[]], 5: [[5]], 8: [[8]], 4: [[5, 4]], 6: [[5, 6], [8, 6]], 9: [[8, 9]], 3: [[5, 4, 3]], 1: [[5, 4, 3, 1]], 2: [[5, 4, 3, 2]], 0: [[5, 4, 3, 1, 0], [5, 4, 3, 2, 0]]}}, {'id': 9, 'name': 'Klein', 'friends': [{...}], 'shortest_paths': {9: [[]], 8: [[8]], 6: [[8, 6]], 7: [[8, 7]], 5: [[8, 6, 5], [8, 7, 5]], 4: [[8, 6, 5, 4], [8, 7, 5, 4]], 3: [[8, 6, 5, 4, 3], [8, 7, 5, 4, 3]], 1: [[8, 6, 5, 4, 3, 1], [8, 7, 5, 4, 3, 1]], 2: [[8, 6, 5, 4, 3, 2], [8, 7, 5, 4, 3, 2]], 0: [[8, 6, 5, 4, 3, 1, 0], [8, 7, 5, 4, 3, 1, 0], [8, 6, 5, 4, 3, 2, 0], [8, 7, 5, 4, 3, 2, 0]]}}], 'shortest_paths': {8: [[]], 6: [[6]], 7: [[7]], 9: [[9]], 5: [[6, 5], [7, 5]], 4: [[6, 5, 4], [7, 5, 4]], 3: [[6, 5, 4, 3], [7, 5, 4, 3]], 1: [[6, 5, 4, 3, 1], [7, 5, 4, 3, 1]], 2: [[6, 5, 4, 3, 2], [7, 5, 4, 3, 2]], 0: [[6, 5, 4, 3, 1, 0], [7, 5, 4, 3, 1, 0], [6, 5, 4, 3, 2, 0], [7, 5, 4, 3, 2, 0]]}}], 'shortest_paths': {6: [[]], 5: [[5]], 8: [[8]], 4: [[5, 4]], 7: [[5, 7], [8, 7]], 9: [[8, 9]], 3: [[5, 4, 3]], 1: [[5, 4, 3, 1]], 2: [[5, 4, 3, 2]], 0: [[5, 4, 3, 1, 0], [5, 4, 3, 2, 0]]}}, {'id': 7, 'name': 'Devin', 'friends': [{...}, {'id': 8, 'name': 'Kate', 'friends': [{'id': 6, 'name': 'Hicks', 'friends': [{...}, {...}], 'shortest_paths': {6: [[]], 5: [[5]], 8: [[8]], 4: [[5, 4]], 7: [[5, 7], [8, 7]], 9: [[8, 9]], 3: [[5, 4, 3]], 1: [[5, 4, 3, 1]], 2: [[5, 4, 3, 2]], 0: [[5, 4, 3, 1, 0], [5, 4, 3, 2, 0]]}}, {...}, {'id': 9, 'name': 'Klein', 'friends': [{...}], 'shortest_paths': {9: [[]], 8: [[8]], 6: [[8, 6]], 7: [[8, 7]], 5: [[8, 6, 5], [8, 7, 5]], 4: [[8, 6, 5, 4], [8, 7, 5, 4]], 3: [[8, 6, 5, 4, 3], [8, 7, 5, 4, 3]], 1: [[8, 6, 5, 4, 3, 1], [8, 7, 5, 4, 3, 1]], 2: [[8, 6, 5, 4, 3, 2], [8, 7, 5, 4, 3, 2]], 0: [[8, 6, 5, 4, 3, 1, 0], [8, 7, 5, 4, 3, 1, 0], [8, 6, 5, 4, 3, 2, 0], [8, 7, 5, 4, 3, 2, 0]]}}], 'shortest_paths': {8: [[]], 6: [[6]], 7: [[7]], 9: [[9]], 5: [[6, 5], [7, 5]], 4: [[6, 5, 4], [7, 5, 4]], 3: [[6, 5, 4, 3], [7, 5, 4, 3]], 1: [[6, 5, 4, 3, 1], [7, 5, 4, 3, 1]], 2: [[6, 5, 4, 3, 2], [7, 5, 4, 3, 2]], 0: [[6, 5, 4, 3, 1, 0], [7, 5, 4, 3, 1, 0], [6, 5, 4, 3, 2, 0], [7, 5, 4, 3, 2, 0]]}}], 'shortest_paths': {7: [[]], 5: [[5]], 8: [[8]], 4: [[5, 4]], 6: [[5, 6], [8, 6]], 9: [[8, 9]], 3: [[5, 4, 3]], 1: [[5, 4, 3, 1]], 2: [[5, 4, 3, 2]], 0: [[5, 4, 3, 1, 0], [5, 4, 3, 2, 0]]}}], 'shortest_paths': {5: [[]], 4: [[4]], 6: [[6]], 7: [[7]], 3: [[4, 3]], 8: [[6, 8], [7, 8]], 1: [[4, 3, 1]], 2: [[4, 3, 2]], 9: [[6, 8, 9], [7, 8, 9]], 0: [[4, 3, 1, 0], [4, 3, 2, 0]]}}], 'shortest_paths': {4: [[]], 3: [[3]], 5: [[5]], 1: [[3, 1]], 2: [[3, 2]], 6: [[5, 6]], 7: [[5, 7]], 0: [[3, 1, 0], [3, 2, 0]], 8: [[5, 6, 8], [5, 7, 8]], 9: [[5, 6, 8, 9], [5, 7, 8, 9]]}}], 'shortest_paths': {3: [[]], 1: [[1]], 2: [[2]], 4: [[4]], 0: [[1, 0], [2, 0]], 5: [[4, 5]], 6: [[4, 5, 6]], 7: [[4, 5, 7]], 8: [[4, 5, 6, 8], [4, 5, 7, 8]], 9: [[4, 5, 6, 8, 9], [4, 5, 7, 8, 9]]}}], 'shortest_paths': {2: [[]], 0: [[0]], 1: [[1]], 3: [[3]], 4: [[3, 4]], 5: [[3, 4, 5]], 6: [[3, 4, 5, 6]], 7: [[3, 4, 5, 7]], 8: [[3, 4, 5, 6, 8], [3, 4, 5, 7, 8]], 9: [[3, 4, 5, 6, 8, 9], [3, 4, 5, 7, 8, 9]]}}, {'id': 3, 'name': 'Chi', 'friends': [{...}, {'id': 2, 'name': 'Sue', 'friends': [{...}, {...}, {...}], 'shortest_paths': {2: [[]], 0: [[0]], 1: [[1]], 3: [[3]], 4: [[3, 4]], 5: [[3, 4, 5]], 6: [[3, 4, 5, 6]], 7: [[3, 4, 5, 7]], 8: [[3, 4, 5, 6, 8], [3, 4, 5, 7, 8]], 9: [[3, 4, 5, 6, 8, 9], [3, 4, 5, 7, 8, 9]]}}, {'id': 4, 'name': 'Thor', 'friends': [{...}, {'id': 5, 'name': 'Clive', 'friends': [{...}, {'id': 6, 'name': 'Hicks', 'friends': [{...}, {'id': 8, 'name': 'Kate', 'friends': [{...}, {'id': 7, 'name': 'Devin', 'friends': [{...}, {...}], 'shortest_paths': {7: [[]], 5: [[5]], 8: [[8]], 4: [[5, 4]], 6: [[5, 6], [8, 6]], 9: [[8, 9]], 3: [[5, 4, 3]], 1: [[5, 4, 3, 1]], 2: [[5, 4, 3, 2]], 0: [[5, 4, 3, 1, 0], [5, 4, 3, 2, 0]]}}, {'id': 9, 'name': 'Klein', 'friends': [{...}], 'shortest_paths': {9: [[]], 8: [[8]], 6: [[8, 6]], 7: [[8, 7]], 5: [[8, 6, 5], [8, 7, 5]], 4: [[8, 6, 5, 4], [8, 7, 5, 4]], 3: [[8, 6, 5, 4, 3], [8, 7, 5, 4, 3]], 1: [[8, 6, 5, 4, 3, 1], [8, 7, 5, 4, 3, 1]], 2: [[8, 6, 5, 4, 3, 2], [8, 7, 5, 4, 3, 2]], 0: [[8, 6, 5, 4, 3, 1, 0], [8, 7, 5, 4, 3, 1, 0], [8, 6, 5, 4, 3, 2, 0], [8, 7, 5, 4, 3, 2, 0]]}}], 'shortest_paths': {8: [[]], 6: [[6]], 7: [[7]], 9: [[9]], 5: [[6, 5], [7, 5]], 4: [[6, 5, 4], [7, 5, 4]], 3: [[6, 5, 4, 3], [7, 5, 4, 3]], 1: [[6, 5, 4, 3, 1], [7, 5, 4, 3, 1]], 2: [[6, 5, 4, 3, 2], [7, 5, 4, 3, 2]], 0: [[6, 5, 4, 3, 1, 0], [7, 5, 4, 3, 1, 0], [6, 5, 4, 3, 2, 0], [7, 5, 4, 3, 2, 0]]}}], 'shortest_paths': {6: [[]], 5: [[5]], 8: [[8]], 4: [[5, 4]], 7: [[5, 7], [8, 7]], 9: [[8, 9]], 3: [[5, 4, 3]], 1: [[5, 4, 3, 1]], 2: [[5, 4, 3, 2]], 0: [[5, 4, 3, 1, 0], [5, 4, 3, 2, 0]]}}, {'id': 7, 'name': 'Devin', 'friends': [{...}, {'id': 8, 'name': 'Kate', 'friends': [{'id': 6, 'name': 'Hicks', 'friends': [{...}, {...}], 'shortest_paths': {6: [[]], 5: [[5]], 8: [[8]], 4: [[5, 4]], 7: [[5, 7], [8, 7]], 9: [[8, 9]], 3: [[5, 4, 3]], 1: [[5, 4, 3, 1]], 2: [[5, 4, 3, 2]], 0: [[5, 4, 3, 1, 0], [5, 4, 3, 2, 0]]}}, {...}, {'id': 9, 'name': 'Klein', 'friends': [{...}], 'shortest_paths': {9: [[]], 8: [[8]], 6: [[8, 6]], 7: [[8, 7]], 5: [[8, 6, 5], [8, 7, 5]], 4: [[8, 6, 5, 4], [8, 7, 5, 4]], 3: [[8, 6, 5, 4, 3], [8, 7, 5, 4, 3]], 1: [[8, 6, 5, 4, 3, 1], [8, 7, 5, 4, 3, 1]], 2: [[8, 6, 5, 4, 3, 2], [8, 7, 5, 4, 3, 2]], 0: [[8, 6, 5, 4, 3, 1, 0], [8, 7, 5, 4, 3, 1, 0], [8, 6, 5, 4, 3, 2, 0], [8, 7, 5, 4, 3, 2, 0]]}}], 'shortest_paths': {8: [[]], 6: [[6]], 7: [[7]], 9: [[9]], 5: [[6, 5], [7, 5]], 4: [[6, 5, 4], [7, 5, 4]], 3: [[6, 5, 4, 3], [7, 5, 4, 3]], 1: [[6, 5, 4, 3, 1], [7, 5, 4, 3, 1]], 2: [[6, 5, 4, 3, 2], [7, 5, 4, 3, 2]], 0: [[6, 5, 4, 3, 1, 0], [7, 5, 4, 3, 1, 0], [6, 5, 4, 3, 2, 0], [7, 5, 4, 3, 2, 0]]}}], 'shortest_paths': {7: [[]], 5: [[5]], 8: [[8]], 4: [[5, 4]], 6: [[5, 6], [8, 6]], 9: [[8, 9]], 3: [[5, 4, 3]], 1: [[5, 4, 3, 1]], 2: [[5, 4, 3, 2]], 0: [[5, 4, 3, 1, 0], [5, 4, 3, 2, 0]]}}], 'shortest_paths': {5: [[]], 4: [[4]], 6: [[6]], 7: [[7]], 3: [[4, 3]], 8: [[6, 8], [7, 8]], 1: [[4, 3, 1]], 2: [[4, 3, 2]], 9: [[6, 8, 9], [7, 8, 9]], 0: [[4, 3, 1, 0], [4, 3, 2, 0]]}}], 'shortest_paths': {4: [[]], 3: [[3]], 5: [[5]], 1: [[3, 1]], 2: [[3, 2]], 6: [[5, 6]], 7: [[5, 7]], 0: [[3, 1, 0], [3, 2, 0]], 8: [[5, 6, 8], [5, 7, 8]], 9: [[5, 6, 8, 9], [5, 7, 8, 9]]}}], 'shortest_paths': {3: [[]], 1: [[1]], 2: [[2]], 4: [[4]], 0: [[1, 0], [2, 0]], 5: [[4, 5]], 6: [[4, 5, 6]], 7: [[4, 5, 7]], 8: [[4, 5, 6, 8], [4, 5, 7, 8]], 9: [[4, 5, 6, 8, 9], [4, 5, 7, 8, 9]]}}], 'shortest_paths': {1: [[]], 0: [[0]], 2: [[2]], 3: [[3]], 4: [[3, 4]], 5: [[3, 4, 5]], 6: [[3, 4, 5, 6]], 7: [[3, 4, 5, 7]], 8: [[3, 4, 5, 6, 8], [3, 4, 5, 7, 8]], 9: [[3, 4, 5, 6, 8, 9], [3, 4, 5, 7, 8, 9]]}}, {'id': 2, 'name': 'Sue', 'friends': [{...}, {'id': 1, 'name': 'Dunn', 'friends': [{...}, {...}, {'id': 3, 'name': 'Chi', 'friends': [{...}, {...}, {'id': 4, 'name': 'Thor', 'friends': [{...}, {'id': 5, 'name': 'Clive', 'friends': [{...}, {'id': 6, 'name': 'Hicks', 'friends': [{...}, {'id': 8, 'name': 'Kate', 'friends': [{...}, {'id': 7, 'name': 'Devin', 'friends': [{...}, {...}], 'shortest_paths': {7: [[]], 5: [[5]], 8: [[8]], 4: [[5, 4]], 6: [[5, 6], [8, 6]], 9: [[8, 9]], 3: [[5, 4, 3]], 1: [[5, 4, 3, 1]], 2: [[5, 4, 3, 2]], 0: [[5, 4, 3, 1, 0], [5, 4, 3, 2, 0]]}}, {'id': 9, 'name': 'Klein', 'friends': [{...}], 'shortest_paths': {9: [[]], 8: [[8]], 6: [[8, 6]], 7: [[8, 7]], 5: [[8, 6, 5], [8, 7, 5]], 4: [[8, 6, 5, 4], [8, 7, 5, 4]], 3: [[8, 6, 5, 4, 3], [8, 7, 5, 4, 3]], 1: [[8, 6, 5, 4, 3, 1], [8, 7, 5, 4, 3, 1]], 2: [[8, 6, 5, 4, 3, 2], [8, 7, 5, 4, 3, 2]], 0: [[8, 6, 5, 4, 3, 1, 0], [8, 7, 5, 4, 3, 1, 0], [8, 6, 5, 4, 3, 2, 0], [8, 7, 5, 4, 3, 2, 0]]}}], 'shortest_paths': {8: [[]], 6: [[6]], 7: [[7]], 9: [[9]], 5: [[6, 5], [7, 5]], 4: [[6, 5, 4], [7, 5, 4]], 3: [[6, 5, 4, 3], [7, 5, 4, 3]], 1: [[6, 5, 4, 3, 1], [7, 5, 4, 3, 1]], 2: [[6, 5, 4, 3, 2], [7, 5, 4, 3, 2]], 0: [[6, 5, 4, 3, 1, 0], [7, 5, 4, 3, 1, 0], [6, 5, 4, 3, 2, 0], [7, 5, 4, 3, 2, 0]]}}], 'shortest_paths': {6: [[]], 5: [[5]], 8: [[8]], 4: [[5, 4]], 7: [[5, 7], [8, 7]], 9: [[8, 9]], 3: [[5, 4, 3]], 1: [[5, 4, 3, 1]], 2: [[5, 4, 3, 2]], 0: [[5, 4, 3, 1, 0], [5, 4, 3, 2, 0]]}}, {'id': 7, 'name': 'Devin', 'friends': [{...}, {'id': 8, 'name': 'Kate', 'friends': [{'id': 6, 'name': 'Hicks', 'friends': [{...}, {...}], 'shortest_paths': {6: [[]], 5: [[5]], 8: [[8]], 4: [[5, 4]], 7: [[5, 7], [8, 7]], 9: [[8, 9]], 3: [[5, 4, 3]], 1: [[5, 4, 3, 1]], 2: [[5, 4, 3, 2]], 0: [[5, 4, 3, 1, 0], [5, 4, 3, 2, 0]]}}, {...}, {'id': 9, 'name': 'Klein', 'friends': [{...}], 'shortest_paths': {9: [[]], 8: [[8]], 6: [[8, 6]], 7: [[8, 7]], 5: [[8, 6, 5], [8, 7, 5]], 4: [[8, 6, 5, 4], [8, 7, 5, 4]], 3: [[8, 6, 5, 4, 3], [8, 7, 5, 4, 3]], 1: [[8, 6, 5, 4, 3, 1], [8, 7, 5, 4, 3, 1]], 2: [[8, 6, 5, 4, 3, 2], [8, 7, 5, 4, 3, 2]], 0: [[8, 6, 5, 4, 3, 1, 0], [8, 7, 5, 4, 3, 1, 0], [8, 6, 5, 4, 3, 2, 0], [8, 7, 5, 4, 3, 2, 0]]}}], 'shortest_paths': {8: [[]], 6: [[6]], 7: [[7]], 9: [[9]], 5: [[6, 5], [7, 5]], 4: [[6, 5, 4], [7, 5, 4]], 3: [[6, 5, 4, 3], [7, 5, 4, 3]], 1: [[6, 5, 4, 3, 1], [7, 5, 4, 3, 1]], 2: [[6, 5, 4, 3, 2], [7, 5, 4, 3, 2]], 0: [[6, 5, 4, 3, 1, 0], [7, 5, 4, 3, 1, 0], [6, 5, 4, 3, 2, 0], [7, 5, 4, 3, 2, 0]]}}], 'shortest_paths': {7: [[]], 5: [[5]], 8: [[8]], 4: [[5, 4]], 6: [[5, 6], [8, 6]], 9: [[8, 9]], 3: [[5, 4, 3]], 1: [[5, 4, 3, 1]], 2: [[5, 4, 3, 2]], 0: [[5, 4, 3, 1, 0], [5, 4, 3, 2, 0]]}}], 'shortest_paths': {5: [[]], 4: [[4]], 6: [[6]], 7: [[7]], 3: [[4, 3]], 8: [[6, 8], [7, 8]], 1: [[4, 3, 1]], 2: [[4, 3, 2]], 9: [[6, 8, 9], [7, 8, 9]], 0: [[4, 3, 1, 0], [4, 3, 2, 0]]}}], 'shortest_paths': {4: [[]], 3: [[3]], 5: [[5]], 1: [[3, 1]], 2: [[3, 2]], 6: [[5, 6]], 7: [[5, 7]], 0: [[3, 1, 0], [3, 2, 0]], 8: [[5, 6, 8], [5, 7, 8]], 9: [[5, 6, 8, 9], [5, 7, 8, 9]]}}], 'shortest_paths': {3: [[]], 1: [[1]], 2: [[2]], 4: [[4]], 0: [[1, 0], [2, 0]], 5: [[4, 5]], 6: [[4, 5, 6]], 7: [[4, 5, 7]], 8: [[4, 5, 6, 8], [4, 5, 7, 8]], 9: [[4, 5, 6, 8, 9], [4, 5, 7, 8, 9]]}}], 'shortest_paths': {1: [[]], 0: [[0]], 2: [[2]], 3: [[3]], 4: [[3, 4]], 5: [[3, 4, 5]], 6: [[3, 4, 5, 6]], 7: [[3, 4, 5, 7]], 8: [[3, 4, 5, 6, 8], [3, 4, 5, 7, 8]], 9: [[3, 4, 5, 6, 8, 9], [3, 4, 5, 7, 8, 9]]}}, {'id': 3, 'name': 'Chi', 'friends': [{'id': 1, 'name': 'Dunn', 'friends': [{...}, {...}, {...}], 'shortest_paths': {1: [[]], 0: [[0]], 2: [[2]], 3: [[3]], 4: [[3, 4]], 5: [[3, 4, 5]], 6: [[3, 4, 5, 6]], 7: [[3, 4, 5, 7]], 8: [[3, 4, 5, 6, 8], [3, 4, 5, 7, 8]], 9: [[3, 4, 5, 6, 8, 9], [3, 4, 5, 7, 8, 9]]}}, {...}, {'id': 4, 'name': 'Thor', 'friends': [{...}, {'id': 5, 'name': 'Clive', 'friends': [{...}, {'id': 6, 'name': 'Hicks', 'friends': [{...}, {'id': 8, 'name': 'Kate', 'friends': [{...}, {'id': 7, 'name': 'Devin', 'friends': [{...}, {...}], 'shortest_paths': {7: [[]], 5: [[5]], 8: [[8]], 4: [[5, 4]], 6: [[5, 6], [8, 6]], 9: [[8, 9]], 3: [[5, 4, 3]], 1: [[5, 4, 3, 1]], 2: [[5, 4, 3, 2]], 0: [[5, 4, 3, 1, 0], [5, 4, 3, 2, 0]]}}, {'id': 9, 'name': 'Klein', 'friends': [{...}], 'shortest_paths': {9: [[]], 8: [[8]], 6: [[8, 6]], 7: [[8, 7]], 5: [[8, 6, 5], [8, 7, 5]], 4: [[8, 6, 5, 4], [8, 7, 5, 4]], 3: [[8, 6, 5, 4, 3], [8, 7, 5, 4, 3]], 1: [[8, 6, 5, 4, 3, 1], [8, 7, 5, 4, 3, 1]], 2: [[8, 6, 5, 4, 3, 2], [8, 7, 5, 4, 3, 2]], 0: [[8, 6, 5, 4, 3, 1, 0], [8, 7, 5, 4, 3, 1, 0], [8, 6, 5, 4, 3, 2, 0], [8, 7, 5, 4, 3, 2, 0]]}}], 'shortest_paths': {8: [[]], 6: [[6]], 7: [[7]], 9: [[9]], 5: [[6, 5], [7, 5]], 4: [[6, 5, 4], [7, 5, 4]], 3: [[6, 5, 4, 3], [7, 5, 4, 3]], 1: [[6, 5, 4, 3, 1], [7, 5, 4, 3, 1]], 2: [[6, 5, 4, 3, 2], [7, 5, 4, 3, 2]], 0: [[6, 5, 4, 3, 1, 0], [7, 5, 4, 3, 1, 0], [6, 5, 4, 3, 2, 0], [7, 5, 4, 3, 2, 0]]}}], 'shortest_paths': {6: [[]], 5: [[5]], 8: [[8]], 4: [[5, 4]], 7: [[5, 7], [8, 7]], 9: [[8, 9]], 3: [[5, 4, 3]], 1: [[5, 4, 3, 1]], 2: [[5, 4, 3, 2]], 0: [[5, 4, 3, 1, 0], [5, 4, 3, 2, 0]]}}, {'id': 7, 'name': 'Devin', 'friends': [{...}, {'id': 8, 'name': 'Kate', 'friends': [{'id': 6, 'name': 'Hicks', 'friends': [{...}, {...}], 'shortest_paths': {6: [[]], 5: [[5]], 8: [[8]], 4: [[5, 4]], 7: [[5, 7], [8, 7]], 9: [[8, 9]], 3: [[5, 4, 3]], 1: [[5, 4, 3, 1]], 2: [[5, 4, 3, 2]], 0: [[5, 4, 3, 1, 0], [5, 4, 3, 2, 0]]}}, {...}, {'id': 9, 'name': 'Klein', 'friends': [{...}], 'shortest_paths': {9: [[]], 8: [[8]], 6: [[8, 6]], 7: [[8, 7]], 5: [[8, 6, 5], [8, 7, 5]], 4: [[8, 6, 5, 4], [8, 7, 5, 4]], 3: [[8, 6, 5, 4, 3], [8, 7, 5, 4, 3]], 1: [[8, 6, 5, 4, 3, 1], [8, 7, 5, 4, 3, 1]], 2: [[8, 6, 5, 4, 3, 2], [8, 7, 5, 4, 3, 2]], 0: [[8, 6, 5, 4, 3, 1, 0], [8, 7, 5, 4, 3, 1, 0], [8, 6, 5, 4, 3, 2, 0], [8, 7, 5, 4, 3, 2, 0]]}}], 'shortest_paths': {8: [[]], 6: [[6]], 7: [[7]], 9: [[9]], 5: [[6, 5], [7, 5]], 4: [[6, 5, 4], [7, 5, 4]], 3: [[6, 5, 4, 3], [7, 5, 4, 3]], 1: [[6, 5, 4, 3, 1], [7, 5, 4, 3, 1]], 2: [[6, 5, 4, 3, 2], [7, 5, 4, 3, 2]], 0: [[6, 5, 4, 3, 1, 0], [7, 5, 4, 3, 1, 0], [6, 5, 4, 3, 2, 0], [7, 5, 4, 3, 2, 0]]}}], 'shortest_paths': {7: [[]], 5: [[5]], 8: [[8]], 4: [[5, 4]], 6: [[5, 6], [8, 6]], 9: [[8, 9]], 3: [[5, 4, 3]], 1: [[5, 4, 3, 1]], 2: [[5, 4, 3, 2]], 0: [[5, 4, 3, 1, 0], [5, 4, 3, 2, 0]]}}], 'shortest_paths': {5: [[]], 4: [[4]], 6: [[6]], 7: [[7]], 3: [[4, 3]], 8: [[6, 8], [7, 8]], 1: [[4, 3, 1]], 2: [[4, 3, 2]], 9: [[6, 8, 9], [7, 8, 9]], 0: [[4, 3, 1, 0], [4, 3, 2, 0]]}}], 'shortest_paths': {4: [[]], 3: [[3]], 5: [[5]], 1: [[3, 1]], 2: [[3, 2]], 6: [[5, 6]], 7: [[5, 7]], 0: [[3, 1, 0], [3, 2, 0]], 8: [[5, 6, 8], [5, 7, 8]], 9: [[5, 6, 8, 9], [5, 7, 8, 9]]}}], 'shortest_paths': {3: [[]], 1: [[1]], 2: [[2]], 4: [[4]], 0: [[1, 0], [2, 0]], 5: [[4, 5]], 6: [[4, 5, 6]], 7: [[4, 5, 7]], 8: [[4, 5, 6, 8], [4, 5, 7, 8]], 9: [[4, 5, 6, 8, 9], [4, 5, 7, 8, 9]]}}], 'shortest_paths': {2: [[]], 0: [[0]], 1: [[1]], 3: [[3]], 4: [[3, 4]], 5: [[3, 4, 5]], 6: [[3, 4, 5, 6]], 7: [[3, 4, 5, 7]], 8: [[3, 4, 5, 6, 8], [3, 4, 5, 7, 8]], 9: [[3, 4, 5, 6, 8, 9], [3, 4, 5, 7, 8, 9]]}}], 'shortest_paths': {0: [[]], 1: [[1]], 2: [[2]], 3: [[1, 3], [2, 3]], 4: [[1, 3, 4], [2, 3, 4]], 5: [[1, 3, 4, 5], [2, 3, 4, 5]], 6: [[1, 3, 4, 5, 6], [2, 3, 4, 5, 6]], 7: [[1, 3, 4, 5, 7], [2, 3, 4, 5, 7]], 8: [[1, 3, 4, 5, 6, 8], [2, 3, 4, 5, 6, 8], [1, 3, 4, 5, 7, 8], [2, 3, 4, 5, 7, 8]], 9: [[1, 3, 4, 5, 6, 8, 9], [2, 3, 4, 5, 6, 8, 9], [1, 3, 4, 5, 7, 8, 9], [2, 3, 4, 5, 7, 8, 9]]}}\n"
     ]
    }
   ],
   "source": [
    "print(users[0])"
   ]
  },
  {
   "cell_type": "markdown",
   "metadata": {},
   "source": [
    "Now ready to compute **betweenness centrality**: For every pair of nodes `i` and `j`, we know the `n` shortest paths from `i` to `j`. Then, for each of those paths, add `1/n` to the centrality of each node on that path:"
   ]
  },
  {
   "cell_type": "code",
   "execution_count": 6,
   "metadata": {
    "collapsed": true
   },
   "outputs": [],
   "source": [
    "for user in users:\n",
    "    user[\"betweenness_centrality\"] = 0\n",
    "    \n",
    "for source in users:\n",
    "    source_id = source[\"id\"]\n",
    "    for target_id, paths in source[\"shortest_paths\"].items():\n",
    "        if source_id < target_id: # prevent double counting\n",
    "            num_paths = len(paths) # count shortest paths\n",
    "            contrib = 1/num_paths # contribution to centrality\n",
    "            for path in paths:\n",
    "                for id in path:\n",
    "                    if id not in [source_id,target_id]:\n",
    "                        users[id][\"betweenness_centrality\"] += contrib\n"
   ]
  },
  {
   "cell_type": "code",
   "execution_count": 7,
   "metadata": {},
   "outputs": [
    {
     "name": "stdout",
     "output_type": "stream",
     "text": [
      "0 :  0\n",
      "1 :  3.5\n",
      "2 :  3.5\n",
      "3 :  18.0\n",
      "4 :  20.0\n",
      "5 :  20.5\n",
      "6 :  6.0\n",
      "7 :  6.0\n",
      "8 :  8.5\n",
      "9 :  0\n"
     ]
    }
   ],
   "source": [
    "for user in users:\n",
    "    print(user[\"id\"],\": \",user[\"betweenness_centrality\"])"
   ]
  },
  {
   "cell_type": "markdown",
   "metadata": {},
   "source": [
    "Users 0 + 9 have centrality = 0 (neither is on any shortest path between other users), whereas 3, 4, 5 all have high centralities (lie on many shortest paths).\n",
    "\n",
    "***NOTE***: Generally, centrality #'s aren’t that meaningful themselves. What we care about is *how the numbers for each node compare to the numbers for other nodes.*\n",
    "\n",
    "Another measure = **closeness centrality**. 1st, for each user, compute **farness** = sum of the lengths of their shortest paths to each other user. Since we’ve already computed shortest paths between each pair of nodes, it’s easy to add their lengths. (If there're multiple shortest paths, they all have the same length, so just look at the first one.)"
   ]
  },
  {
   "cell_type": "code",
   "execution_count": 8,
   "metadata": {},
   "outputs": [
    {
     "name": "stdout",
     "output_type": "stream",
     "text": [
      "0 :  0.029411764705882353\n",
      "1 :  0.037037037037037035\n",
      "2 :  0.037037037037037035\n",
      "3 :  0.045454545454545456\n",
      "4 :  0.05\n",
      "5 :  0.05\n",
      "6 :  0.041666666666666664\n",
      "7 :  0.041666666666666664\n",
      "8 :  0.03571428571428571\n",
      "9 :  0.027777777777777776\n"
     ]
    }
   ],
   "source": [
    "def farness(user):\n",
    "    \"\"\"Returns sum of lengths of the shortest paths to each other user\"\"\"\n",
    "    return sum(len(paths[0]) for paths in user[\"shortest_paths\"].values())\n",
    "\n",
    "# compute closeness centrality\n",
    "for user in users:\n",
    "    user[\"closeness_centrality\"] = 1/farness(user)\n",
    "    \n",
    "for user in users:\n",
    "    print(user[\"id\"],\": \",user[\"closeness_centrality\"])"
   ]
  },
  {
   "cell_type": "markdown",
   "metadata": {},
   "source": [
    "Much less variation here — even the very central nodes are still pretty far from nodes out on the periphery.\n",
    "\n",
    "As we saw, computing shortest paths = kind of a pain. For this reason, betweenness + closeness centrality aren’t often used on large networks. The less intuitive (but generally easier to compute) **eigenvector centrality** is more frequently used.\n",
    "\n",
    "### Eigenvector Centrality\n",
    "\n",
    "If A is a n1\\*k1 matrix + B is a n2\\*k2 matrix, their product AB = n1\\*k2 matrix whose (i,j)th entry is:\n",
    "\n",
    "* A_i1\\*B_1j + A_i2\\*B_2j + ... + A_ik\\*B_kj\n",
    "\n",
    "Which just = dot product of ith row of A (as a vector) w/ jth col of B (as a vector):\n"
   ]
  },
  {
   "cell_type": "code",
   "execution_count": 9,
   "metadata": {},
   "outputs": [],
   "source": [
    "import sys\n",
    "\n",
    "sys.path.insert(0, './../../../00_DataScience/DSFromScratch/code')\n",
    "\n",
    "from linear_algebra import dot, get_row, get_column, make_matrix, magnitude, scalar_multiply, shape, distance\n",
    "from functools import partial"
   ]
  },
  {
   "cell_type": "code",
   "execution_count": 10,
   "metadata": {
    "collapsed": true
   },
   "outputs": [],
   "source": [
    "def matrix_product_entry(A,B,i,j):\n",
    "    return dot(get_row(A,i),get_column(B,j))\n",
    "\n",
    "def matrix_multiply(A,B):\n",
    "    n1,k1 = shape(A)\n",
    "    n2,k2 = shape(B)\n",
    "    if k1 != n2:\n",
    "        raise ArithmeticError(\"Incompatible Dimensions\")\n",
    "        \n",
    "    return make_matrix(n1,k2,partial(matrix_product_entry,A,B))"
   ]
  },
  {
   "cell_type": "markdown",
   "metadata": {},
   "source": [
    "Notice if A = a n\\*k matrix + B is a k\\*1 matrix, AB is a n\\*1 matrix. If we treat a vector as a 1-col matrix, can think of A as a function that maps k-dimensional vectors to n-dimensional vectors, where the function is just matrix multiplication.\n",
    "\n",
    "Previously represented vectors simply as lists, which isn’t quite the same:"
   ]
  },
  {
   "cell_type": "code",
   "execution_count": 11,
   "metadata": {},
   "outputs": [
    {
     "name": "stdout",
     "output_type": "stream",
     "text": [
      "[1, 2, 3] \n",
      " [[1], [2], [3]]\n"
     ]
    }
   ],
   "source": [
    "v = [1, 2, 3]\n",
    "v_as_matrix = [[1],[2],[3]]\n",
    "print(v,\"\\n\",v_as_matrix)"
   ]
  },
  {
   "cell_type": "markdown",
   "metadata": {},
   "source": [
    "Need some helper functions to convert back + forth between the 2 representations:"
   ]
  },
  {
   "cell_type": "code",
   "execution_count": 12,
   "metadata": {
    "collapsed": true
   },
   "outputs": [],
   "source": [
    "def vector_as_mtx(v):\n",
    "    \"\"\"Converts vector v (as a list) into n*1 matrix\"\"\"\n",
    "    return [[v_i] for v_i in v]\n",
    "\n",
    "def vector_from_mtx(v_as_mtx):\n",
    "    \"\"\"Converts an n*1 matrix v_as_mtx into a list of values\"\"\"\n",
    "    return [row[0] for row in v_as_mtx]\n",
    "\n",
    "# define matrix operation\n",
    "def matrix_operation(A,v):\n",
    "    v_as_mtx = vector_as_mtx(v)\n",
    "    product = matrix_multiply(A,v_as_mtx)\n",
    "    return vector_from_mtx(product)"
   ]
  },
  {
   "cell_type": "markdown",
   "metadata": {},
   "source": [
    "When A = square matrix, this operation maps n-dimensional vectors to other n-dimensional vectors. It’s possible that, for some matrix A + vector v, when A operates on v we get back a scalar multiple of v (vector that points in the\n",
    "same direction as v). When this happens (+ when, in addition, v is not a vector of all 0's), we call v an eigenvector of A + call the multiplier an eigenvalue.\n",
    "\n",
    "1 possible way to find an eigenvector of A = picking a starting vector v, applying `matrix_operate`, rescaling the result to have magnitude = 1, + repeating until process converges:"
   ]
  },
  {
   "cell_type": "code",
   "execution_count": 13,
   "metadata": {},
   "outputs": [],
   "source": [
    "import random\n",
    "\n",
    "def find_eigenvector(A,tolerance=.00001):\n",
    "    guess = [random.random() for __ in A]\n",
    "    #guess = [0.2672612419124244, 0.5345224838248488, 0.8017837257372732]\n",
    "    #return guess\n",
    "    #guessv = vector_as_matrix(guess)\n",
    "    #matrix_multiply(A,v_as_matrix)\n",
    "    #product = matrix_multiply(adjancency_mtx,guessv)\n",
    "    #return product\n",
    "    #print(vector_from_matrix(product),[row[0] for row in product])\n",
    "    #result = matrix_operation(A,guess)\n",
    "    #return result\n",
    "    #length = magnitude(result)\n",
    "    #return length\n",
    "    #next_guess = scalar_multiply(1/length,result)\n",
    "    #return next_guess\n",
    "    #return distance(guess,next_guess)\n",
    "    #if distance(guess,next_guess) < tolerance:\n",
    "    #    return next_guess, length # eigenvector, eigenvalue\n",
    "    #guess = next_guess\n",
    "    #return guess\n",
    "    while True:\n",
    "        result = matrix_operation(A,guess)\n",
    "        length = magnitude(result)\n",
    "        next_guess = scalar_multiply(1/length,result)\n",
    "        \n",
    "        if distance(guess,next_guess) < tolerance:\n",
    "            return next_guess, length # eigenvector, eigenvalue\n",
    "        \n",
    "        guess = next_guess"
   ]
  },
  {
   "cell_type": "markdown",
   "metadata": {},
   "source": [
    "By construction, returned `guess` = vector such that, when you apply `matrix_operate` to it + rescale it to have length = 1, you get back (a vector very close to) itself == means it’s an eigenvector.\n",
    "\n",
    "**Not all matrices of real #'s have eigenvectors and eigenvalues.**\n",
    "\n",
    "* Ex: matrix:"
   ]
  },
  {
   "cell_type": "code",
   "execution_count": 14,
   "metadata": {
    "collapsed": true
   },
   "outputs": [],
   "source": [
    "rotate = [[ 0, 1],\n",
    "          [-1, 0]]"
   ]
  },
  {
   "cell_type": "markdown",
   "metadata": {},
   "source": [
    "rotates vectors 90 degrees CW = means the only vector it maps to a scalar\n",
    "multiple of itself = a vector of 0's. If you tried `find_eigenvector(rotate)` it would run forever. \n",
    "\n",
    "Even matrices that DO have eigenvectors can sometimes get stuck in cycles. Consider the matrix:"
   ]
  },
  {
   "cell_type": "code",
   "execution_count": 15,
   "metadata": {
    "collapsed": true
   },
   "outputs": [],
   "source": [
    "flip = [[0, 1],\n",
    "        [1, 0]]"
   ]
  },
  {
   "cell_type": "markdown",
   "metadata": {},
   "source": [
    "which maps any vector `[x, y]` to `[y, x]` which means that, for example, `[1, 1]` = eigenvector w/ eigenvalue = 1. However, if you start w/ a random vector w/ unequal coordinates, `find_eigenvector` will just repeatedly swap coordinates forever. (Not-from-scratch libraries like `NumPy` use different methods that *would* work in this case.)\n",
    "\n",
    "Nonetheless, when `find_eigenvector` does return a result, that result is indeed an eigenvector.\n",
    "\n",
    "### Centrality\n",
    "How does this help us understand the network? To start, need to represent connections in the network as an **adjacency_matrix**, whose `(i,j)`th entry = either 1 (if user i + j are friends) or 0 (if not):"
   ]
  },
  {
   "cell_type": "code",
   "execution_count": 16,
   "metadata": {
    "collapsed": true
   },
   "outputs": [],
   "source": [
    "def entry_fn(i,j):\n",
    "    return 1 if (i,j) in friendships or (j,i) in friendships else 0\n",
    "\n",
    "n = len(users)\n",
    "adjancency_mtx = make_matrix(n,n,entry_fn)"
   ]
  },
  {
   "cell_type": "markdown",
   "metadata": {},
   "source": [
    "**Eigenvector centrality** for each user is then = entry corresponding to that user in the eigenvector returned by `find_eigenvector`"
   ]
  },
  {
   "cell_type": "code",
   "execution_count": 17,
   "metadata": {},
   "outputs": [
    {
     "name": "stdout",
     "output_type": "stream",
     "text": [
      "0 \n",
      " 0.38578111445729296\n",
      "1 \n",
      " 0.5147899655330744\n",
      "2 \n",
      " 0.5147899655330744\n",
      "3 \n",
      " 0.47331410444943184\n",
      "4 \n",
      " 0.23360716314993174\n",
      "5 \n",
      " 0.15014844101027033\n",
      "6 \n",
      " 0.08355089936265171\n",
      "7 \n",
      " 0.08355089936265171\n",
      "8 \n",
      " 0.07284251560048505\n",
      "9 \n",
      " 0.02729238666436498\n"
     ]
    }
   ],
   "source": [
    "eigenvector_centralities, _ = find_eigenvector(adjancency_mtx)\n",
    "for i,user in enumerate(users):\n",
    "    print(user[\"id\"],\"\\n\",eigenvector_centralities[i])"
   ]
  },
  {
   "cell_type": "markdown",
   "metadata": {},
   "source": [
    "***NOTE***; For technical reasons beyond scope of this book, any non-zero adjacency matrix necessarily has an eigenvector, all of whose values = non-negative. Fortunately for us, for this `adjacency_matrix` our `find_eigenvector` function finds it.\n",
    "\n",
    "Users w/ high eigenvector centrality should be those who have a lot of connections + connections to people who themselves have high centrality. Here users 1 + 2 = most central (both have 3 connections to people who are themselves highly central). As we move away from them, people’s centralities steadily drop off.\n",
    "\n",
    "On a network this small, eigenvector centrality behaves somewhat erratically. If you try adding or subtracting links, you’ll find that small changes in the network can dramatically change the centrality numbers. In a much larger network this would not particularly be the case.\n",
    "\n",
    "We still haven’t motivated why an eigenvector might lead to a reasonable notion of centrality. \"Being an eigenvector\" = if you compute:"
   ]
  },
  {
   "cell_type": "code",
   "execution_count": 18,
   "metadata": {},
   "outputs": [
    {
     "data": {
      "text/plain": [
       "[1.0295799310661489,\n",
       " 1.3738851844397992,\n",
       " 1.3738851844397992,\n",
       " 1.2631870942160806,\n",
       " 0.6234625454597021,\n",
       " 0.40070896187523514,\n",
       " 0.22299095661075538,\n",
       " 0.22299095661075538,\n",
       " 0.1943941853896684,\n",
       " 0.07284251560048505]"
      ]
     },
     "execution_count": 18,
     "metadata": {},
     "output_type": "execute_result"
    }
   ],
   "source": [
    "matrix_operation(adjancency_mtx,eigenvector_centralities)"
   ]
  },
  {
   "cell_type": "markdown",
   "metadata": {},
   "source": [
    "The result = a scalar multiple of `eigenvector_centralities.`"
   ]
  },
  {
   "cell_type": "code",
   "execution_count": 19,
   "metadata": {},
   "outputs": [
    {
     "name": "stdout",
     "output_type": "stream",
     "text": [
      "2.668818903990507\n",
      "2.6688266602421358\n",
      "2.6688266602421358\n",
      "2.668813547581567\n",
      "2.668850291459414\n",
      "2.6687520641511435\n",
      "2.6689234743346772\n",
      "2.6689234743346772\n",
      "2.668691268926659\n",
      "2.6689683279181216\n"
     ]
    }
   ],
   "source": [
    "for i,j in enumerate(matrix_operation(adjancency_mtx,eigenvector_centralities)):\n",
    "    print(j/eigenvector_centralities[i])"
   ]
  },
  {
   "cell_type": "markdown",
   "metadata": {},
   "source": [
    "If you look @ how matrix multiplication works, `matrix_operate` produces a vector whose `i`th element ="
   ]
  },
  {
   "cell_type": "code",
   "execution_count": 20,
   "metadata": {},
   "outputs": [
    {
     "data": {
      "text/plain": [
       "0.07284251560048505"
      ]
     },
     "execution_count": 20,
     "metadata": {},
     "output_type": "execute_result"
    }
   ],
   "source": [
    "dot(get_row(adjancency_mtx,i),eigenvector_centralities)"
   ]
  },
  {
   "cell_type": "markdown",
   "metadata": {},
   "source": [
    "which is precisely the sum of the eigenvector centralities of the users connected to user i. In other words, eigenvector centralities = #'s, 1 per user, such that each user’s value = a constant multiple of the sum of his neighbors’ values. \n",
    "\n",
    "In this case centrality = being connected to people who themselves are central. The more centrality you are directly connected to, the more central you are. This is of course a circular definition + eigenvectors are the way of breaking out of the circularity.\n",
    "\n",
    "Another way of understanding this is by thinking about what `find_eigenvector` is doing here: Starts by assigning each node a random centrality + then repeats the following 2 steps until the process converges:\n",
    "1. Give each node a new centrality score that = sum of its neighbors’ (old) centrality scores.\n",
    "2. Rescale vector of centralities to have magnitude 1.\n",
    "\n",
    "Although the math behind it may seem somewhat opaque at first, the calculation\n",
    "itself is relatively straightforward (unlike, say, betweenness centrality) + is pretty easy to perform on even very large graphs.\n",
    "\n",
    "### Directed Graphs and PageRank\n",
    "DataSciencester isn’t getting much traction, so the VP of Revenue considers pivoting from\n",
    "a friendship model to an endorsement model. It turns out that no one particularly cares\n",
    "which data scientists are friends with one another, but tech recruiters care very much\n",
    "which data scientists are respected by other data scientists.\n",
    "In this new model, we’ll track endorsements (source, target) that no longer represent a\n",
    "reciprocal relationship, but rather that source endorses target as an awesome data\n",
    "scientist (Figure 21-5). We’ll need to account for this asymmetry:\n",
    "endorsements = [(0, 1), (1, 0), (0, 2), (2, 0), (1, 2),\n",
    "(2, 1), (1, 3), (2, 3), (3, 4), (5, 4),\n",
    "(5, 6), (7, 5), (6, 8), (8, 7), (8, 9)]\n",
    "for user in users:\n",
    "user[\"endorses\"] = [] # add one list to track outgoing endorsements\n",
    "user[\"endorsed_by\"] = [] # and another to track endorsements\n",
    "for source_id, target_id in endorsements:\n",
    "users[source_id][\"endorses\"].append(users[target_id])\n",
    "users[target_id][\"endorsed_by\"].append(users[source_id])\n",
    "Figure 21-5. The DataSciencester network of endorsements\n",
    "after which we can easily find the most_endorsed data scientists and sell that information\n",
    "to recruiters:\n",
    "endorsements_by_id = [(user[\"id\"], len(user[\"endorsed_by\"]))\n",
    "for user in users]\n",
    "sorted(endorsements_by_id,\n",
    "key=lambda (user_id, num_endorsements): num_endorsements,\n",
    "reverse=True)\n",
    "However, “number of endorsements” is an easy metric to game. All you need to do is\n",
    "create phony accounts and have them endorse you. Or arrange with your friends to\n",
    "endorse each other. (As users 0, 1, and 2 seem to have done.)\n",
    "A better metric would take into account who endorses you. Endorsements from people\n",
    "who have a lot of endorsements should somehow count more than endorsements from\n",
    "people with few endorsements. This is the essence of the PageRank algorithm, used by\n",
    "Google to rank websites based on which other websites link to them, which other websites\n",
    "link to those, and so on.\n",
    "(If this sort of reminds you of the idea behind eigenvector centrality, it should.)\n",
    "A simplified version looks like this:\n",
    "1. There is a total of 1.0 (or 100%) PageRank in the network.\n",
    "2. Initially this PageRank is equally distributed among nodes.\n",
    "3. At each step, a large fraction of each node’s PageRank is distributed evenly among\n",
    "its outgoing links.\n",
    "4. At each step, the remainder of each node’s PageRank is distributed evenly among all\n",
    "nodes.\n",
    "def page_rank(users, damping = 0.85, num_iters = 100):\n",
    "# initially distribute PageRank evenly\n",
    "num_users = len(users)\n",
    "pr = { user[\"id\"] : 1 / num_users for user in users }\n",
    "# this is the small fraction of PageRank\n",
    "# that each node gets each iteration\n",
    "base_pr = (1 - damping) / num_users\n",
    "for __ in range(num_iters):\n",
    "next_pr = { user[\"id\"] : base_pr for user in users }\n",
    "for user in users:\n",
    "# distribute PageRank to outgoing links\n",
    "links_pr = pr[user[\"id\"]] * damping\n",
    "for endorsee in user[\"endorses\"]:\n",
    "next_pr[endorsee[\"id\"]] += links_pr / len(user[\"endorses\"])\n",
    "pr = next_pr\n",
    "return pr\n",
    "PageRank (Figure 21-6) identifies user 4 (Thor) as the highest ranked data scientist.\n",
    "Figure 21-6. The DataSciencester network sized by PageRank\n",
    "Even though he has fewer endorsements (2) than users 0, 1, and 2, his endorsements carry\n",
    "with them rank from their endorsements. Additionally, both of his endorsers endorsed only\n",
    "him, which means that he doesn’t have to divide their rank with anyone else.\n",
    "For Further Exploration\n",
    "There are many other notions of centrality besides the ones we used (although the ones\n",
    "we used are pretty much the most popular ones).\n",
    "NetworkX is a Python library for network analysis. It has functions for computing\n",
    "centralities and for visualizing graphs.\n",
    "Gephi is a love-it/hate-it GUI-based network-visualization tool"
   ]
  },
  {
   "cell_type": "code",
   "execution_count": null,
   "metadata": {
    "collapsed": true
   },
   "outputs": [],
   "source": []
  }
 ],
 "metadata": {
  "kernelspec": {
   "display_name": "Python 3",
   "language": "python",
   "name": "python3"
  },
  "language_info": {
   "codemirror_mode": {
    "name": "ipython",
    "version": 3
   },
   "file_extension": ".py",
   "mimetype": "text/x-python",
   "name": "python",
   "nbconvert_exporter": "python",
   "pygments_lexer": "ipython3",
   "version": "3.6.3"
  }
 },
 "nbformat": 4,
 "nbformat_minor": 2
}
