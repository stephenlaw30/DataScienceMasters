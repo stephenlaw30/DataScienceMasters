{
 "cells": [
  {
   "cell_type": "markdown",
   "metadata": {},
   "source": [
    "## Chapter 16. Logistic Regression\n",
    "\n",
    "**Problem** = have anonymized data set of ~200 users containing  salary, years of experience, + if paid for a premium account. As is usual w/ categorical variables, represent dependent variable as 0 (no premium account) or 1 (premium account). As usual, data = matrix where each row = a list `[experience, salary, paid_account]`. "
   ]
  },
  {
   "cell_type": "code",
   "execution_count": 1,
   "metadata": {},
   "outputs": [],
   "source": [
    "data = [(0.7,48000,1),(1.9,48000,0),(2.5,60000,1),(4.2,63000,0),(6,76000,0),(6.5,69000,0),(7.5,76000,0),(8.1,88000,0),(8.7,83000,1),(10,83000,1),(0.8,43000,0),(1.8,60000,0),(10,79000,1),(6.1,76000,0),(1.4,50000,0),(9.1,92000,0),(5.8,75000,0),(5.2,69000,0),(1,56000,0),(6,67000,0),(4.9,74000,0),(6.4,63000,1),(6.2,82000,0),(3.3,58000,0),(9.3,90000,1),(5.5,57000,1),(9.1,102000,0),(2.4,54000,0),(8.2,65000,1),(5.3,82000,0),(9.8,107000,0),(1.8,64000,0),(0.6,46000,1),(0.8,48000,0),(8.6,84000,1),(0.6,45000,0),(0.5,30000,1),(7.3,89000,0),(2.5,48000,1),(5.6,76000,0),(7.4,77000,0),(2.7,56000,0),(0.7,48000,0),(1.2,42000,0),(0.2,32000,1),(4.7,56000,1),(2.8,44000,1),(7.6,78000,0),(1.1,63000,0),(8,79000,1),(2.7,56000,0),(6,52000,1),(4.6,56000,0),(2.5,51000,0),(5.7,71000,0),(2.9,65000,0),(1.1,33000,1),(3,62000,0),(4,71000,0),(2.4,61000,0),(7.5,75000,0),(9.7,81000,1),(3.2,62000,0),(7.9,88000,0),(4.7,44000,1),(2.5,55000,0),(1.6,41000,0),(6.7,64000,1),(6.9,66000,1),(7.9,78000,1),(8.1,102000,0),(5.3,48000,1),(8.5,66000,1),(0.2,56000,0),(6,69000,0),(7.5,77000,0),(8,86000,0),(4.4,68000,0),(4.9,75000,0),(1.5,60000,0),(2.2,50000,0),(3.4,49000,1),(4.2,70000,0),(7.7,98000,0),(8.2,85000,0),(5.4,88000,0),(0.1,46000,0),(1.5,37000,0),(6.3,86000,0),(3.7,57000,0),(8.4,85000,0),(2,42000,0),(5.8,69000,1),(2.7,64000,0),(3.1,63000,0),(1.9,48000,0),(10,72000,1),(0.2,45000,0),(8.6,95000,0),(1.5,64000,0),(9.8,95000,0),(5.3,65000,0),(7.5,80000,0),(9.9,91000,0),(9.7,50000,1),(2.8,68000,0),(3.6,58000,0),(3.9,74000,0),(4.4,76000,0),(2.5,49000,0),(7.2,81000,0),(5.2,60000,1),(2.4,62000,0),(8.9,94000,0),(2.4,63000,0),(6.8,69000,1),(6.5,77000,0),(7,86000,0),(9.4,94000,0),(7.8,72000,1),(0.2,53000,0),(10,97000,0),(5.5,65000,0),(7.7,71000,1),(8.1,66000,1),(9.8,91000,0),(8,84000,0),(2.7,55000,0),(2.8,62000,0),(9.4,79000,0),(2.5,57000,0),(7.4,70000,1),(2.1,47000,0),(5.3,62000,1),(6.3,79000,0),(6.8,58000,1),(5.7,80000,0),(2.2,61000,0),(4.8,62000,0),(3.7,64000,0),(4.1,85000,0),(2.3,51000,0),(3.5,58000,0),(0.9,43000,0),(0.9,54000,0),(4.5,74000,0),(6.5,55000,1),(4.1,41000,1),(7.1,73000,0),(1.1,66000,0),(9.1,81000,1),(8,69000,1),(7.3,72000,1),(3.3,50000,0),(3.9,58000,0),(2.6,49000,0),(1.6,78000,0),(0.7,56000,0),(2.1,36000,1),(7.5,90000,0),(4.8,59000,1),(8.9,95000,0),(6.2,72000,0),(6.3,63000,0),(9.1,100000,0),(7.3,61000,1),(5.6,74000,0),(0.5,66000,0),(1.1,59000,0),(5.1,61000,0),(6.2,70000,0),(6.6,56000,1),(6.3,76000,0),(6.5,78000,0),(5.1,59000,0),(9.5,74000,1),(4.5,64000,0),(2,54000,0),(1,52000,0),(4,69000,0),(6.5,76000,0),(3,60000,0),(4.5,63000,0),(7.8,70000,0),(3.9,60000,1),(0.8,51000,0),(4.2,78000,0),(1.1,54000,0),(6.2,60000,0),(2.9,59000,0),(2.1,52000,0),(8.2,87000,0),(4.8,73000,0),(2.2,42000,1),(9.1,98000,0),(6.5,84000,0),(6.9,73000,0),(5.1,72000,0),(9.1,69000,1),(9.8,79000,1),]\n",
    "data = list(map(list, data)) # change tuples to lists\n",
    "\n",
    "x = [[1] + row[:2] for row in data] # creates list = [1, exp, sal]\n",
    "y = [row[2] for row in data] # each element = paid_acc binary"
   ]
  },
  {
   "cell_type": "markdown",
   "metadata": {},
   "source": [
    "Obvious 1st approach = linear regression: `paid_acct = B0 + B1*exp + B2*salary + eps)`. "
   ]
  },
  {
   "cell_type": "code",
   "execution_count": 2,
   "metadata": {},
   "outputs": [
    {
     "data": {
      "image/png": "[encoded data removed]",
      "text/plain": [
       "<matplotlib.figure.Figure at 0x184bfd21ef0>"
      ]
     },
     "metadata": {},
     "output_type": "display_data"
    }
   ],
   "source": [
    "%matplotlib inline\n",
    "\n",
    "from matplotlib import pyplot as plt\n",
    "\n",
    "#plt.scatter([exp[1] for exp in x],[sal[2] for sal in x])\n",
    "plt.plot([exp[0] for exp in data if exp[2] == 1],\n",
    "         [sal[1] for sal in data if sal[2] == 1], '+')\n",
    "plt.plot([exp[0] for exp in data if exp[2] == 0],\n",
    "         [sal[1] for sal in data if sal[2] == 0], '*')\n",
    "plt.title(\"Paid and Unpaid Users\")\n",
    "plt.xlabel(\"Years Experience\")\n",
    "plt.ylabel(\"Annual Salary\")\n",
    "plt.legend([\"paid\",\"unpaid\"])\n",
    "plt.show()"
   ]
  },
  {
   "cell_type": "markdown",
   "metadata": {},
   "source": [
    "Certainly, there’s nothing preventing us from modeling the problem this way."
   ]
  },
  {
   "cell_type": "code",
   "execution_count": 3,
   "metadata": {},
   "outputs": [
    {
     "name": "stdout",
     "output_type": "stream",
     "text": [
      "[0.2600213427419481, 0.43868820640135925, -0.4273578429123689]\n"
     ]
    }
   ],
   "source": [
    "import sys\n",
    "\n",
    "sys.path.insert(0, './../../../00_DataScience/DSFromScratch/code')\n",
    "\n",
    "from linear_algebra import dot, vector_add\n",
    "from gradient_descent import maximize_stochastic, maximize_batch\n",
    "from multiple_regression import estimate_beta, predict\n",
    "from working_with_data import rescale\n",
    "\n",
    "rescaled_x = rescale(x)\n",
    "beta = estimate_beta(rescaled_x,y)\n",
    "print(beta) #[intercept, yrs exp, salary] coefficients"
   ]
  },
  {
   "cell_type": "code",
   "execution_count": 4,
   "metadata": {},
   "outputs": [
    {
     "data": {
      "image/png": "[encoded data removed]",
      "text/plain": [
       "<matplotlib.figure.Figure at 0x184c0fa3320>"
      ]
     },
     "metadata": {},
     "output_type": "display_data"
    }
   ],
   "source": [
    "predictions = [predict(x_i,beta) for x_i in rescaled_x]\n",
    "\n",
    "plt.scatter(predictions,y)\n",
    "plt.xlabel(\"Predictions\")\n",
    "plt.ylabel(\"Actual\")\n",
    "plt.show()"
   ]
  },
  {
   "cell_type": "markdown",
   "metadata": {},
   "source": [
    "But this approach leads to a couple of immediate problems:\n",
    "* Want predicted outputs to be 0 or 1 to indicate class membership. It’s fine if between 0-1 (can interpret these as probabilities) But the outputs of the linear model can be huge positive or even negative #'s =  not clear how to interpret. Indeed, here a lot of our predictions were negative.\n",
    "* Linear regression model assumed errors were uncorrelated w/ the cols of x. But here, the regression coefficent for experience = 0.43, indicating more experience = greater likelihood of a premium account. This means our model outputs very large values for people w/ lots of experience. But we know actual values must be *at most* = 1, which means that very large outputs (+ therefore very large values of experience) correspond to very large negative values of the error term. B/c this is the case, *our estimate of beta is biased.*\n",
    "\n",
    "Want instead for large positive values of `dot(x_i, beta)` to correspond to probabilities close to 1 + for large negative values to correspond to probabilities close to 0 --> accomplished w/ **logistic function**\n",
    "\n",
    "### The Logistic Function\n"
   ]
  },
  {
   "cell_type": "code",
   "execution_count": 5,
   "metadata": {
    "collapsed": true
   },
   "outputs": [],
   "source": [
    "def logistic_fn(x):\n",
    "    return 1 / (1 + math.exp(-x))"
   ]
  },
  {
   "cell_type": "markdown",
   "metadata": {},
   "source": [
    "As input gets large + positive, logistict/**Sigmoid** gets closer + closer to 1. As its input gets large + negative, it gets closer + closer to 0. Additionally, it has the convenient property = its derivative is given by:\n"
   ]
  },
  {
   "cell_type": "code",
   "execution_count": 6,
   "metadata": {
    "collapsed": true
   },
   "outputs": [],
   "source": [
    "def logistic_derivative(x):\n",
    "    return logistic_fn(x) * (1 - logistic_fn(x))"
   ]
  },
  {
   "cell_type": "markdown",
   "metadata": {},
   "source": [
    "This is used to fit a model `y_i = f(B*x_i) + eps_i` where f = the logistic function. \n",
    "\n",
    "Recall for linear regression, we *fit the model by minimizing SSE*,\n",
    "which ended up choosing *`B` values that maximized the likelihood of the data.*\n",
    "\n",
    "**Here the 2 aren’t equivalent**, so use gradient descent to **maximize the likelihood *directly*** = means we need to calculate the likelihood function + its gradient: Given some `B`, our model says each `y_i` should = 1 w/ `p = f(B*X_i)` and = 0 with `p = 1 - f(B*X_i)`.\n",
    "\n",
    "In particular, the PDF for y_i can be written as:\n",
    "* `p(y_i | x_i, B) = f(B*x_i)^(y_i) * (1 - f(B*x_i))^(1-y_i)`\n",
    "\n",
    "Then, if `y_i = 0`, this = `1-f(B*x_i)`, and if `y_i = 1`, this = `f(B*X_i)`\n",
    "\n",
    "**It turns out it’s actually simpler to maximize the log likelihood:**\n",
    "* `log L(B | x_i, y_i) = y_i*log(f(B*x_i)) + (1-y_i)*log(1 - f(B*x_i))`\n",
    "\n",
    "**B/c log = a strictly increasing function, any beta that maximizes log likelihood also maximizes the likelihood, and vice versa.**\n"
   ]
  },
  {
   "cell_type": "code",
   "execution_count": 7,
   "metadata": {
    "collapsed": true
   },
   "outputs": [],
   "source": [
    "def logistic_log_likelihood_i(x_i,y_i,beta):\n",
    "    if y_i == 1:\n",
    "        return math.log(logistic_fn(dot(x_i,beta)))\n",
    "    else:\n",
    "        return math.log(1 - logistic_fn(dot(x_i,beta)))"
   ]
  },
  {
   "cell_type": "markdown",
   "metadata": {},
   "source": [
    "If we assume different DP's = independent from another, overall likelihood = just the product of individual likelihoods, which means overall log likelihood = sum of individual log likelihoods:"
   ]
  },
  {
   "cell_type": "code",
   "execution_count": 8,
   "metadata": {
    "collapsed": true
   },
   "outputs": [],
   "source": [
    "def logistic_log_likelihood(x,y,beta):\n",
    "    return sum(logistic_log_likelihood_i(x_i,y_i,beta) \n",
    "              for x_i,y_i in zip(x,y))"
   ]
  },
  {
   "cell_type": "markdown",
   "metadata": {},
   "source": [
    "Use calculus gives us the gradient:"
   ]
  },
  {
   "cell_type": "code",
   "execution_count": 9,
   "metadata": {
    "collapsed": true
   },
   "outputs": [],
   "source": [
    "from functools import partial, reduce\n",
    "\n",
    "def logistic_log_partial_deriv_ij(x_i,y_i,beta,j):\n",
    "    \"\"\"Here i = index of the data point and \n",
    "    j = index of the derivative\"\"\"\n",
    "    return (y_i - logistic_fn(dot(x_i,beta)))*x_i[j]\n",
    "\n",
    "def logistic_log_gradient_i(x_i,y_i,beta):\n",
    "    \"\"\"Calculates gradient of log likelihood corresponding\n",
    "    to the ith data point\"\"\"\n",
    "    return [logistic_log_partial_deriv_ij(x_i,y_i,beta,j)\n",
    "           for j, _ in enumerate(beta)]\n",
    "\n",
    "def logistic_log_gradient(x,y,beta):\n",
    "    return reduce(vector_add, \n",
    "                 [logistic_log_gradient_i(x_i,y_i,beta)\n",
    "                 for x_i,y_i in zip(x,y)])"
   ]
  },
  {
   "cell_type": "markdown",
   "metadata": {},
   "source": [
    "Now we have all the pieces we need.\n",
    "\n",
    "### Applying the Model\n",
    "1) Split data into a training set and a test set:\n"
   ]
  },
  {
   "cell_type": "code",
   "execution_count": 10,
   "metadata": {},
   "outputs": [
    {
     "name": "stdout",
     "output_type": "stream",
     "text": [
      "[-1.9061972272093648, 4.053123658820201, -3.8789401596847526] \n",
      "\n",
      "[-1.9042766078873332, 4.047489956690998, -3.8751362233682034]\n"
     ]
    }
   ],
   "source": [
    "from machine_learning import train_test_split\n",
    "import random\n",
    "import math\n",
    "\n",
    "random.seed(0)\n",
    "\n",
    "x_train,x_test,y_train,y_test = train_test_split(rescaled_x,y,.33)\n",
    "\n",
    "fn = partial(logistic_log_likelihood,x_train,y_train)\n",
    "gradient_fn = partial(logistic_log_gradient,x_train,y_train)\n",
    "\n",
    "# pick random starting point\n",
    "beta_0 = [random.random() for _ in range(3)]\n",
    "\n",
    "# maximize log likelihood on training data using gradient descent\n",
    "beta_hat = maximize_batch(fn, gradient_fn, beta_0)\n",
    "\n",
    "# or use stochastic gradient descent\n",
    "beta_hat_stochastic = maximize_stochastic(logistic_log_likelihood_i\n",
    "                                          ,logistic_log_gradient_i\n",
    "                                          ,x_train\n",
    "                                          ,y_train\n",
    "                                          ,beta_0)\n",
    "print(beta_hat,\"\\n\")\n",
    "print(beta_hat_stochastic)"
   ]
  },
  {
   "cell_type": "markdown",
   "metadata": {},
   "source": [
    "Now have coefficients for *rescaled* data ==> transform back to\n",
    "original data"
   ]
  },
  {
   "cell_type": "code",
   "execution_count": null,
   "metadata": {
    "collapsed": true
   },
   "outputs": [],
   "source": [
    "beta_hat_unscaled = [7.61, 1.42, -0.000249]"
   ]
  },
  {
   "cell_type": "markdown",
   "metadata": {},
   "source": [
    "Unfortunately, these = not as easy to interpret as linear regression coefficients. All else being equal, extra year of experience = +1.42 to the input of `logistic`. All else being equal, extra $10k of salary = -2.49 from the input of `logistic`.\n",
    "\n",
    "Impact on *the output*, however, **depends on the other inputs as well**. If `dot(beta,x_i)` = already large (corresponding to p close to 1), increasing it even by a lot cannot affect p very much. If it’s close to 0, increasing it just a little might increase p quite a bit.\n",
    "\n",
    "What we *can* say is that, *all else being equal*, people w/ more experience = more likely to pay for accounts + that *all else being equal*, people w/ higher salaries = less likely to pay for accounts. (was also somewhat apparent when we plotted data)\n",
    "\n",
    "### Goodness of Fit\n",
    "\n",
    "We haven’t yet used test data --> predict `paid account` whenever p > 0.5:"
   ]
  },
  {
   "cell_type": "code",
   "execution_count": 12,
   "metadata": {},
   "outputs": [
    {
     "name": "stdout",
     "output_type": "stream",
     "text": [
      "precision:  0.9333333333333333 \n",
      " recall:  0.8235294117647058\n"
     ]
    }
   ],
   "source": [
    "true_pos = false_pos = true_neg = false_neg = 0\n",
    "\n",
    "for x_i,y_i in zip(x_test,y_test):\n",
    "    predict = logistic_fn(dot(beta_hat,x_i))\n",
    "    \n",
    "    if y_i == 1 and predict >= .5: \n",
    "        true_pos += 1   # TP = paid + predicted paid\n",
    "    elif y_i == 1: # and predict < .5:\n",
    "        false_neg += 1  # FN = paid + predicted unpaid\n",
    "    elif predict >= .5: # and y_i == 0\n",
    "        false_pos += 1  # FP = not paid + predicted paid\n",
    "    else:\n",
    "        true_neg += 1   # TN = not paid + predicted not paid\n",
    "\n",
    "precision = true_pos / (true_pos + false_pos)\n",
    "recall = true_pos / (true_pos + false_neg)\n",
    "\n",
    "print('precision: ', precision, '\\n', 'recall: ', recall)"
   ]
  },
  {
   "cell_type": "markdown",
   "metadata": {},
   "source": [
    "When we predict paid, we’re right 93% of the time (**precision = TP rate**) + when a user *actually* paid, we predict paid 82% of the time, both of which = pretty respectable numbers.\n",
    "\n",
    "Can also plot predictions vs. actuals, which also shows the model performs well:"
   ]
  },
  {
   "cell_type": "code",
   "execution_count": 13,
   "metadata": {
    "scrolled": true
   },
   "outputs": [
    {
     "data": {
      "image/png": "[encoded data removed]",
      "text/plain": [
       "<matplotlib.figure.Figure at 0x184c3ac77f0>"
      ]
     },
     "metadata": {},
     "output_type": "display_data"
    }
   ],
   "source": [
    "predictions = [logistic_fn(dot(beta_hat,x_i)) for x_i in x_test]\n",
    "\n",
    "plt.scatter(predictions,y_test)\n",
    "plt.xlabel(\"Predicted Probability\")\n",
    "plt.ylabel(\"Actual Outcome\")\n",
    "plt.title(\"Logistic Regression Predicted vs. Actual\")\n",
    "plt.show()"
   ]
  },
  {
   "cell_type": "markdown",
   "metadata": {},
   "source": [
    "### Support Vector Machines\n",
    "\n",
    "Set of points where `dot(beta_hat, x_i)` = 0 is the **boundary** between  classes, which can be plotted to see exactly what our model is doing."
   ]
  },
  {
   "cell_type": "code",
   "execution_count": 33,
   "metadata": {},
   "outputs": [
    {
     "data": {
      "image/png": "[encoded data removed]",
      "text/plain": [
       "<matplotlib.figure.Figure at 0x184c45b4a90>"
      ]
     },
     "metadata": {},
     "output_type": "display_data"
    }
   ],
   "source": [
    "plt.plot([exp[0] for exp in data if exp[2] == 1],\n",
    "         [sal[1] for sal in data if sal[2] == 1], '+')\n",
    "plt.plot([exp[0] for exp in data if exp[2] == 0],\n",
    "         [sal[1] for sal in data if sal[2] == 0], '*')\n",
    "plt.plot([exp[0] for exp in data],[5000*exp[0] + 36000 for exp in data],\n",
    "         color = \"green\",linestyle = \"solid\")\n",
    "plt.title(\"Paid and Unpaid Users\")\n",
    "plt.xlabel(\"Years Experience\")\n",
    "plt.ylabel(\"Annual Salary\")\n",
    "plt.legend([\"paid\",\"unpaid\"])\n",
    "plt.show()"
   ]
  },
  {
   "cell_type": "markdown",
   "metadata": {},
   "source": [
    "This boundary = a **hyperplane** that splits the parameter space into 2 half-spaces, corresponding to predict `paid` vs predict `unpaid`. We found it as a side-effect of finding the most likely logistic model.\n",
    "\n",
    "Alternative approach = look for the hyperplane that “best” separates classes in training data = **support vector machine (SVM)** = finds hyperplane that **maximizes the distance to the nearest point in\n",
    "each class**\n",
    "\n",
    "Finding such a hyperplane = an **optimization** problem that involves techniques too advanced for us. \n",
    "\n",
    "A different problem = a separating hyperplane **might not exist at all**\n",
    "In our data set, there's simply no line that *perfectly* separates paid users from unpaid users.\n",
    "\n",
    "Can (sometimes) get around this by transforming data into a higher-dimensional space. In a simple 1D data set, it’s clear there’s no hyperplane that separates positive from negative examples. However, if we map this 1D data set to 2D by sending point `x` to `(x, x^2)`, suddenly it’s possible to find a hyperplane that splits the data\n",
    "\n",
    "This = usually called the **kernel trick** b/c rather than *actually* mapping points into the higher-dimensional space (could be expensive if there're a lot of points + the mapping is complicated), can use a **kernel function** to compute dot products in the higher-dimensional space + use those to find a hyperplane.\n",
    "\n",
    "It’s hard (+ probably not a good idea) to use SVM's w/out relying on\n",
    "specialized optimization software.\n",
    "\n",
    "### For Further Investigation\n",
    "* scikit-learn has modules for both Logistic Regression + SVM\n",
    "* libsvm = SVM implementation scikit-learn is using behind the scenes. Its website has a variety of useful documentation about SVM"
   ]
  }
 ],
 "metadata": {
  "kernelspec": {
   "display_name": "Python 3",
   "language": "python",
   "name": "python3"
  },
  "language_info": {
   "codemirror_mode": {
    "name": "ipython",
    "version": 3
   },
   "file_extension": ".py",
   "mimetype": "text/x-python",
   "name": "python",
   "nbconvert_exporter": "python",
   "pygments_lexer": "ipython3",
   "version": "3.6.3"
  }
 },
 "nbformat": 4,
 "nbformat_minor": 2
}
