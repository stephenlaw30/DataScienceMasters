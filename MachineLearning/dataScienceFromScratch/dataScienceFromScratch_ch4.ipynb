{
 "cells": [
  {
   "cell_type": "markdown",
   "metadata": {},
   "source": [
    "# Ch4 - Linear Algebra\n",
    "\n",
    "This is a branch of math that deals with **vector spaces** and which underlines a significant amount of data science and machine learning concepts and techniques.\n",
    "\n",
    "### Vectors\n",
    "\n",
    "These are objects that can be added together or multiplied by scalars, both of which form new vectors.\n",
    "\n",
    "There are points in some finit-dimensional space and are a good way to represent numeric data, such as 3D and 4D vectors of `(height,weight,age)` and `(exam1,exam2,exam3,exam4)`\n",
    "\n",
    "The simplest \"from-scratch\" way to represent vectors are as `list`'s of numbers"
   ]
  },
  {
   "cell_type": "code",
   "execution_count": 1,
   "metadata": {
    "collapsed": true
   },
   "outputs": [],
   "source": [
    "# 3d vector\n",
    "eight_weight_age = [70,140,40] # inches, lbs, years"
   ]
  },
  {
   "cell_type": "markdown",
   "metadata": {},
   "source": [
    "A problem with this representation = lists aren't vectors and therefore provide no way to perform vector arithmetic, so we need to build them.\n",
    "\n",
    "Vectors add *component-wise*/*element-wise*"
   ]
  },
  {
   "cell_type": "code",
   "execution_count": 2,
   "metadata": {
    "collapsed": false
   },
   "outputs": [
    {
     "data": {
      "text/plain": [
       "[(1, 3), (2, 5)]"
      ]
     },
     "execution_count": 2,
     "metadata": {},
     "output_type": "execute_result"
    }
   ],
   "source": [
    "v = [1,2]\n",
    "w = [3,5]\n",
    "list(zip(v,w))"
   ]
  },
  {
   "cell_type": "code",
   "execution_count": 3,
   "metadata": {
    "collapsed": false
   },
   "outputs": [
    {
     "name": "stdout",
     "output_type": "stream",
     "text": [
      "[4, 7]   [-2, -3]\n"
     ]
    }
   ],
   "source": [
    "def vector_add(v,w):\n",
    "    \"\"\"Adds corresponding elements\"\"\"\n",
    "    return[v_i + w_i\n",
    "          for v_i, w_i in zip(v,w)]\n",
    "\n",
    "def vector_subtract(v,w):\n",
    "    \"\"\"Adds corresponding elements\"\"\"\n",
    "    return[v_i - w_i\n",
    "          for v_i, w_i in zip(v,w)]\n",
    "\n",
    "print(vector_add(v,w),\" \",vector_subtract(v,w))"
   ]
  },
  {
   "cell_type": "markdown",
   "metadata": {},
   "source": [
    "It's also useful to sometime sum a list of vectors component-wise, i.e. create a new vector whose 1st element = sum of all 1st elements, etc. The easiest way to do this is to add one vector at a time"
   ]
  },
  {
   "cell_type": "code",
   "execution_count": 4,
   "metadata": {
    "collapsed": true
   },
   "outputs": [],
   "source": [
    "def vector_sum(vects):\n",
    "    \"\"\"Sums all corresponding elements\"\"\"\n",
    "    # init new vector with 1st vector in list\n",
    "    result = vects[0]\n",
    "    # for each vector in the list, add it to the totals\n",
    "    for vec in vects[1:]:\n",
    "        result = vector_add(result,vec)\n",
    "    return result"
   ]
  },
  {
   "cell_type": "code",
   "execution_count": 5,
   "metadata": {
    "collapsed": false
   },
   "outputs": [
    {
     "data": {
      "text/plain": [
       "[6, 10]"
      ]
     },
     "execution_count": 5,
     "metadata": {},
     "output_type": "execute_result"
    }
   ],
   "source": [
    "v = [1,2]\n",
    "w = [3,5]\n",
    "z = [2,3]\n",
    "\n",
    "vector_sum([v,w,z])"
   ]
  },
  {
   "cell_type": "code",
   "execution_count": 6,
   "metadata": {
    "collapsed": false
   },
   "outputs": [
    {
     "data": {
      "text/plain": [
       "[6, 10]"
      ]
     },
     "execution_count": 6,
     "metadata": {},
     "output_type": "execute_result"
    }
   ],
   "source": [
    "# the above is the same as reducing a list via 'vector_add()'\n",
    "# re-write the above more briefly via higher-order functions\n",
    "from functools import reduce\n",
    "\n",
    "def vector_sum2(vects):\n",
    "    return reduce(vector_add, vects)\n",
    "\n",
    "vector_sum2([v,w,z]) # probably more clever than helpful"
   ]
  },
  {
   "cell_type": "code",
   "execution_count": 7,
   "metadata": {
    "collapsed": false
   },
   "outputs": [
    {
     "data": {
      "text/plain": [
       "[2, 4, 6]"
      ]
     },
     "execution_count": 7,
     "metadata": {},
     "output_type": "execute_result"
    }
   ],
   "source": [
    "# multiply (each element of a) vector by a scalar\n",
    "def vector_mult(v,s):\n",
    "    \"\"\"v is a vector, s is a scalar\"\"\"\n",
    "    return [s*element for element in v]\n",
    "\n",
    "vector_mult([1,2,3],2)"
   ]
  },
  {
   "cell_type": "markdown",
   "metadata": {},
   "source": [
    "This then lets us find component-wise means of a list of same-sized vectors"
   ]
  },
  {
   "cell_type": "code",
   "execution_count": 8,
   "metadata": {
    "collapsed": false
   },
   "outputs": [
    {
     "data": {
      "text/plain": [
       "[2.0, 3.333333333333333]"
      ]
     },
     "execution_count": 8,
     "metadata": {},
     "output_type": "execute_result"
    }
   ],
   "source": [
    "def vec_means(vecs):\n",
    "    \"\"\"Compute vector whose ith element = mean of the\n",
    "    ith element of the input vectors\"\"\"\n",
    "    # get # of vectors\n",
    "    n = len(vecs)\n",
    "    return vector_mult(vector_sum(vecs),1/n)\n",
    "\n",
    "vec_means([v,w,z]) # [6/3, 10/3]"
   ]
  },
  {
   "cell_type": "markdown",
   "metadata": {},
   "source": [
    "A **dot product** = measures how far vector *v* extends in the direction of *w*. If `w = [1,0]`, then `dot(v,w)` is just the first component of `v`, as the second is cancelled out by the `0` in `w` (i.e. the length of a vector resulting from **projecting** vector `v` onto vector `w`"
   ]
  },
  {
   "cell_type": "code",
   "execution_count": 9,
   "metadata": {
    "collapsed": false
   },
   "outputs": [
    {
     "data": {
      "text/plain": [
       "13"
      ]
     },
     "execution_count": 9,
     "metadata": {},
     "output_type": "execute_result"
    }
   ],
   "source": [
    "# perform dot product = sum of component-wise products\n",
    "def dot_prod(v,w):\n",
    "    # for each component in vectors the zip list, multiply it by the\n",
    "    # corresponding-indexed element in the other vectors in the zipped list\n",
    "    return sum(v_i*w_i           \n",
    "              for v_i,w_i in zip(v,w))\n",
    "\n",
    "dot_prod(v,w)"
   ]
  },
  {
   "cell_type": "code",
   "execution_count": 11,
   "metadata": {
    "collapsed": false
   },
   "outputs": [
    {
     "data": {
      "text/plain": [
       "34"
      ]
     },
     "execution_count": 11,
     "metadata": {},
     "output_type": "execute_result"
    }
   ],
   "source": [
    "## use dot product to easily compute SUM OF SQUARES of a vector\n",
    "def vector_SS(v):\n",
    "    \"\"\"v1*v1 + ... + vn*vn\"\"\"\n",
    "    return dot_prod(v,v)\n",
    "\n",
    "vector_SS(w) # 9 + 25 == 3**2 + 5**2"
   ]
  },
  {
   "cell_type": "code",
   "execution_count": 12,
   "metadata": {
    "collapsed": false
   },
   "outputs": [
    {
     "data": {
      "text/plain": [
       "5.830951894845301"
      ]
     },
     "execution_count": 12,
     "metadata": {},
     "output_type": "execute_result"
    }
   ],
   "source": [
    "## use SS to compute magnitude (length)\n",
    "from math import sqrt\n",
    "\n",
    "def vector_mag(v):\n",
    "    return sqrt(vector_SS(v))\n",
    "\n",
    "vector_mag(w)"
   ]
  },
  {
   "cell_type": "code",
   "execution_count": 15,
   "metadata": {
    "collapsed": false
   },
   "outputs": [
    {
     "name": "stdout",
     "output_type": "stream",
     "text": [
      "[1, 2] [3, 5] [-2, -3] 13\n"
     ]
    }
   ],
   "source": [
    "## can now compute distance between 2 vectors == sqrt[(v1 - w1)**2 + ... + (vn-wn)**2]\n",
    "def squared_distance(v,w):\n",
    "    # get squared distance from each element-wise difference\n",
    "    return vector_SS(vector_subtract(v,w))\n",
    "\n",
    "print(v,w,vector_subtract(v,w),squared_distance(v,w))# -2**2 + -3**2"
   ]
  },
  {
   "cell_type": "code",
   "execution_count": 16,
   "metadata": {
    "collapsed": false
   },
   "outputs": [
    {
     "data": {
      "text/plain": [
       "3.605551275463989"
      ]
     },
     "execution_count": 16,
     "metadata": {},
     "output_type": "execute_result"
    }
   ],
   "source": [
    "def distance(v,w):\n",
    "    return sqrt(squared_distance(v,w))\n",
    "\n",
    "distance(v,w)"
   ]
  },
  {
   "cell_type": "code",
   "execution_count": 17,
   "metadata": {
    "collapsed": false
   },
   "outputs": [
    {
     "name": "stdout",
     "output_type": "stream",
     "text": [
      "[1, 2] [3, 5] [-2, -3] 3.605551275463989\n"
     ]
    }
   ],
   "source": [
    "## equivalent to above:\n",
    "def distance2(v,w):\n",
    "    return vector_mag(vector_subtract(v,w))\n",
    "\n",
    "print(v,w,vector_subtract(v,w),distance2(v,w))"
   ]
  },
  {
   "cell_type": "markdown",
   "metadata": {},
   "source": [
    "### Matrices\n",
    "\n",
    "These are 2D collections of numbers, represented in Python as `lists`s of `list`s, with each inner list being the same size as they represent *rows*. \n",
    "\n",
    "For a matrix `A`, the *i*th row and *j*th column = `A[i][j]`."
   ]
  },
  {
   "cell_type": "code",
   "execution_count": 20,
   "metadata": {
    "collapsed": false
   },
   "outputs": [
    {
     "name": "stdout",
     "output_type": "stream",
     "text": [
      "[[1, 2, 3], [4, 5, 6]] [[1, 2], [3, 4], [5, 6]]\n"
     ]
    }
   ],
   "source": [
    "# 2x3\n",
    "A = [[1,2,3],\n",
    "     [4,5,6]]\n",
    "\n",
    "# 3x2\n",
    "B = [[1,2],\n",
    "     [3,4],\n",
    "     [5,6]]\n",
    "\n",
    "print(A,B)"
   ]
  },
  {
   "cell_type": "code",
   "execution_count": 21,
   "metadata": {
    "collapsed": false
   },
   "outputs": [
    {
     "name": "stdout",
     "output_type": "stream",
     "text": [
      "2\n",
      "3\n"
     ]
    }
   ],
   "source": [
    "# get # of rows\n",
    "print(len(A))\n",
    "\n",
    "# get # of cols (elements in 1st row)\n",
    "print(len(A[0]))"
   ]
  },
  {
   "cell_type": "code",
   "execution_count": 22,
   "metadata": {
    "collapsed": false
   },
   "outputs": [
    {
     "data": {
      "text/plain": [
       "(3, 2)"
      ]
     },
     "execution_count": 22,
     "metadata": {},
     "output_type": "execute_result"
    }
   ],
   "source": [
    "def mtx_shape(A):\n",
    "    num_rows = len(A)\n",
    "    num_cols = len(A[0])\n",
    "    return num_rows,num_cols\n",
    "\n",
    "mtx_shape(B)"
   ]
  },
  {
   "cell_type": "markdown",
   "metadata": {},
   "source": [
    "Can think of an `n*k` matrix as having rows as vectors of length `k` and having columns as vectors of length `n`"
   ]
  },
  {
   "cell_type": "code",
   "execution_count": 26,
   "metadata": {
    "collapsed": false
   },
   "outputs": [
    {
     "name": "stdout",
     "output_type": "stream",
     "text": [
      "[4, 5, 6] [2, 5]\n"
     ]
    }
   ],
   "source": [
    "def get_row(A,i):\n",
    "    return A[i]\n",
    "\n",
    "def get_col(A,j):\n",
    "    return [Ai[j] for Ai in A] # for each row in A, get the column values for specified column\n",
    "\n",
    "print(get_row(A,1),get_col(A,1))"
   ]
  },
  {
   "cell_type": "code",
   "execution_count": 32,
   "metadata": {
    "collapsed": false
   },
   "outputs": [
    {
     "data": {
      "text/plain": [
       "[[1, 0, 0, 0, 0],\n",
       " [0, 1, 0, 0, 0],\n",
       " [0, 0, 1, 0, 0],\n",
       " [0, 0, 0, 1, 0],\n",
       " [0, 0, 0, 0, 1]]"
      ]
     },
     "execution_count": 32,
     "metadata": {},
     "output_type": "execute_result"
    }
   ],
   "source": [
    "## create matrix given its shape + generate its elements some function using nested list comprehension\n",
    "def make_matrix(rows,cols,entry_f):\n",
    "    \"\"\"Returns a rows*cols matrix whose\n",
    "    (i,j)th entry is entry_f(i,j)\"\"\"\n",
    "    return [[entry_f(i,j)\n",
    "              for j in range(cols)] # given i, create list = [entry_f(i,0), entry_f(i,1) ...]\n",
    "             for i in range(rows)]  # create one list for each i\n",
    "    \n",
    "## make 5x5 identity matrix w/ above\n",
    "def is_diagonal(i,j):\n",
    "    \"\"\"Return identity matrix (1's on the diagonal, 0's elsewhere)\"\"\"\n",
    "    return 1 if i == j else 0\n",
    "\n",
    "identity_5 = make_matrix(5,5,is_diagonal)\n",
    "identity_5"
   ]
  },
  {
   "cell_type": "markdown",
   "metadata": {},
   "source": [
    "Can use a matrix to represent a data set consisting of multiple vectors, simply by considering each vector as a row of the matrix. \n",
    "\n",
    "If we had heights, weights, and ages of 1,000 people you could put them in a 1000x3 matrix:"
   ]
  },
  {
   "cell_type": "code",
   "execution_count": 33,
   "metadata": {
    "collapsed": true
   },
   "outputs": [],
   "source": [
    "data = [[70, 170, 40], # height,weight,age\n",
    "[65, 120, 26],\n",
    "[77, 250, 19]]"
   ]
  },
  {
   "cell_type": "markdown",
   "metadata": {},
   "source": [
    "Can use an matrix to represent a **linear function** that maps *k*-dimensional vectors to *n*-dimensional vectors\n",
    "\n",
    "Can also use matrices to represent **binary relationships**, such a matrix *A* such that `A[i][j]` = 1 if nodes `i` and `j` in a network graph are connected and 0 otherwise."
   ]
  },
  {
   "cell_type": "code",
   "execution_count": 35,
   "metadata": {
    "collapsed": false
   },
   "outputs": [
    {
     "name": "stdout",
     "output_type": "stream",
     "text": [
      "[[0, 1, 1, 0, 0, 0, 0, 0, 0, 0], [1, 0, 1, 1, 0, 0, 0, 0, 0, 0], [1, 1, 0, 1, 0, 0, 0, 0, 0, 0], [0, 1, 1, 0, 1, 0, 0, 0, 0, 0], [0, 0, 0, 1, 0, 1, 0, 0, 0, 0], [0, 0, 0, 0, 1, 0, 1, 1, 0, 0], [0, 0, 0, 0, 0, 1, 0, 0, 1, 0], [0, 0, 0, 0, 0, 1, 0, 0, 1, 0], [0, 0, 0, 0, 0, 0, 1, 1, 0, 1], [0, 0, 0, 0, 0, 0, 0, 0, 1, 0]]\n"
     ]
    }
   ],
   "source": [
    "## network before (ch1)\n",
    "friendships = [(0, 1), (0, 2), (1, 2), (1, 3), (2, 3), (3, 4),\n",
    "               (4, 5), (5, 6), (5, 7), (6, 8), (7, 8), (8, 9)]\n",
    "\n",
    "## binary network\n",
    "# user 0 1 2 3 4 5 6 7 8 9\n",
    "friendships_binary = [[0, 1, 1, 0, 0, 0, 0, 0, 0, 0], # user 0\n",
    "[1, 0, 1, 1, 0, 0, 0, 0, 0, 0], # user 1\n",
    "[1, 1, 0, 1, 0, 0, 0, 0, 0, 0], # user 2\n",
    "[0, 1, 1, 0, 1, 0, 0, 0, 0, 0], # user 3\n",
    "[0, 0, 0, 1, 0, 1, 0, 0, 0, 0], # user 4\n",
    "[0, 0, 0, 0, 1, 0, 1, 1, 0, 0], # user 5\n",
    "[0, 0, 0, 0, 0, 1, 0, 0, 1, 0], # user 6\n",
    "[0, 0, 0, 0, 0, 1, 0, 0, 1, 0], # user 7\n",
    "[0, 0, 0, 0, 0, 0, 1, 1, 0, 1], # user 8\n",
    "[0, 0, 0, 0, 0, 0, 0, 0, 1, 0]] # user 9\n",
    "print(friendships_binary)"
   ]
  },
  {
   "cell_type": "markdown",
   "metadata": {},
   "source": [
    "If there are very few connections, this is a much more inefficient representation, since we end up storing a lot of 0's (**sparse matrix**). However, with the matrix representation, it's much quicker to check if 2 nodes are connected via a **matrix lookup** instead of (potentially) inspecting every edge:"
   ]
  },
  {
   "cell_type": "code",
   "execution_count": 37,
   "metadata": {
    "collapsed": false
   },
   "outputs": [
    {
     "data": {
      "text/plain": [
       "1"
      ]
     },
     "execution_count": 37,
     "metadata": {},
     "output_type": "execute_result"
    }
   ],
   "source": [
    "# are user 2 and user 3 connected?\n",
    "friendships_binary[2][3]"
   ]
  },
  {
   "cell_type": "markdown",
   "metadata": {},
   "source": [
    "Similarly, to find connections a node *does* have, you only need to inspect the column (or row) corresponding to said node:"
   ]
  },
  {
   "cell_type": "code",
   "execution_count": null,
   "metadata": {
    "collapsed": true
   },
   "outputs": [],
   "source": [
    "list(enumerate(friendships_binary[5]))"
   ]
  },
  {
   "cell_type": "code",
   "execution_count": 43,
   "metadata": {
    "collapsed": false
   },
   "outputs": [
    {
     "data": {
      "text/plain": [
       "[4, 6, 7]"
      ]
     },
     "execution_count": 43,
     "metadata": {},
     "output_type": "execute_result"
    }
   ],
   "source": [
    "# return index of users where is_friend = T in our enumeration\n",
    "friends_of_five = [i\n",
    "                # make list of 1/0 = T/F for which users 5 is friends with\n",
    "                  for i,is_friend in enumerate(friendships_binary[5]) \n",
    "                  if is_friend]\n",
    "friends_of_five"
   ]
  }
 ],
 "metadata": {
  "kernelspec": {
   "display_name": "Python 3",
   "language": "python",
   "name": "python3"
  },
  "language_info": {
   "codemirror_mode": {
    "name": "ipython",
    "version": 3
   },
   "file_extension": ".py",
   "mimetype": "text/x-python",
   "name": "python",
   "nbconvert_exporter": "python",
   "pygments_lexer": "ipython3",
   "version": "3.6.0"
  }
 },
 "nbformat": 4,
 "nbformat_minor": 2
}
