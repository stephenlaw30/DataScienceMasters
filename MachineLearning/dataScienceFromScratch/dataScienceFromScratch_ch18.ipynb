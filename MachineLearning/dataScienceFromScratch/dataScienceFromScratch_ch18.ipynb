{
 "cells": [
  {
   "cell_type": "markdown",
   "metadata": {},
   "source": [
    "## Chapter 18. Neural Networks\n",
    "\n",
    "An **artificial neural network** (ANN or neural network for short) = a predictive model motivated by the way the brain operates. Brain = collection of neurons wired together, each neuron looking @ the outputs of other neurons that feed into it, then performing a calculation, + then either fires (if calculation exceeds some threshhold) or doesn’t (if it doesn’t).\n",
    "\n",
    "Accordingly, ANNs consist of artificial neurons, which perform similar\n",
    "calculations over their inputs. NNs can solve a wide variety of problems like handwriting recognition + face detection, + are used heavily in **deep learning**, a trendy subfields of data science. However, most NNs = “black boxes” — inspecting their details doesn’t give much understanding of *HOW* they’re solving a problem. Large NNs can be difficult to train. **For most problems, they’re probably not the right choice.**\n",
    "\n",
    "### Perceptrons\n",
    "\n",
    "Simplest NN = the **perceptron** = approximates a single neuron w/ `n` binary inputs + computes a *weighted sum* of its inputs + “fires” if that weighted sum >= 0\n"
   ]
  },
  {
   "cell_type": "code",
   "execution_count": 1,
   "metadata": {
    "collapsed": true
   },
   "outputs": [],
   "source": [
    "import sys\n",
    "\n",
    "sys.path.insert(0, './../../../00_DataScience/DSFromScratch/code')\n",
    "\n",
    "from linear_algebra import dot\n",
    "\n",
    "def step_function(x):\n",
    "    return 1 if x >= 0 else 0\n",
    "\n",
    "def perceptron_output(weights,bias,x):\n",
    "    \"\"\"Returns 1 if perceptron fires, 0 if not\"\"\"\n",
    "    calculation = dot(weights,x) + bias\n",
    "    return step_function(calculation)"
   ]
  },
  {
   "cell_type": "markdown",
   "metadata": {},
   "source": [
    "Perceptron = simply distinguishing between the half spaces separated by the **hyperplane** of points `x` for which `dot(weights,x) + bias == 0`."
   ]
  },
  {
   "cell_type": "markdown",
   "metadata": {
    "collapsed": true
   },
   "source": [
    "W/ properly chosen weights, perceptrons can solve a # of simple problems\n",
    "\n",
    "* EX: can create an **AND gate** = returns 1 if both inputs = 1 but returns 0 if 1 input = 0) with:"
   ]
  },
  {
   "cell_type": "code",
   "execution_count": 2,
   "metadata": {
    "collapsed": true
   },
   "outputs": [],
   "source": [
    "weights = [2, 2]\n",
    "bias = -3"
   ]
  },
  {
   "cell_type": "markdown",
   "metadata": {
    "collapsed": true
   },
   "source": [
    "If both inputs = 1, `calculation` = 2 + 2 - 3 = 1, so `output = 1`. If only 1 input = 1, `calculation` = 2 + 0 - 3 = -1, so `output = 0`. If *both* inputs = 0, `calculation` = -3, so output = 0. \n",
    "\n",
    "Similarly, we could build an **OR gate with:**"
   ]
  },
  {
   "cell_type": "code",
   "execution_count": 3,
   "metadata": {
    "collapsed": true
   },
   "outputs": [],
   "source": [
    "weights = [2, 2]\n",
    "bias = -1"
   ]
  },
  {
   "cell_type": "markdown",
   "metadata": {},
   "source": [
    "And we could build a **NOT gate** (1 input + converts 1 to 0 and 0 to 1) with:"
   ]
  },
  {
   "cell_type": "code",
   "execution_count": 4,
   "metadata": {
    "collapsed": true
   },
   "outputs": [],
   "source": [
    "weights = [-2]\n",
    "bias = 1"
   ]
  },
  {
   "cell_type": "markdown",
   "metadata": {},
   "source": [
    "However, some problems simply can’t be solved by a single perceptron. \n",
    "* Ex: Cannot use a perceptron to build an **XOR gate** = outputs 1 if exactly 1 input = 1 and 0 otherwise. \n",
    "\n",
    "This needs more-complicated NNs. Of course, you don’t need to approximate a neuron in order to build a logic gate:"
   ]
  },
  {
   "cell_type": "code",
   "execution_count": 5,
   "metadata": {
    "collapsed": true
   },
   "outputs": [],
   "source": [
    "and_gate = min\n",
    "or_gate = max\n",
    "xor_gate = lambda x, y: 0 if x == y else 1"
   ]
  },
  {
   "cell_type": "markdown",
   "metadata": {},
   "source": [
    "Like real neurons, artificial neurons = more interesting when connected together.\n",
    "\n",
    "### Feed-Forward Neural Networks\n",
    "\n",
    "Topology of brain = enormously complicated, so it’s common to *approximate* it w an idealized **feed-forward NN** that consists of discrete **layers** of neurons, each connected to the next, which typically entails an **input layer** (receives inputs + feeds them forward *unchanged*), 1+ **hidden layers** (each consists of neurons that take outputs of previous layer, perform some calculation, + passes\n",
    "result to next layer), + an **output layer** (produces final outputs).\n",
    "\n",
    "Just like a perceptron, each (non-input) neuron has a **weight** corresponding to each of its inputs + a **bias**. To make representation impler, add the bias to the end of the weights vector + give each neuron a bias input that always = 1.\n",
    "\n",
    "As w/ a perceptron, for each neuron --> sum up products of its inputs + its weights. But here, rather than outputting `step_function()` applied to that product, output a **smooth approximation** of a step function = **the sigmoid function**"
   ]
  },
  {
   "cell_type": "code",
   "execution_count": 6,
   "metadata": {
    "collapsed": true
   },
   "outputs": [],
   "source": [
    "import math\n",
    "\n",
    "def sigmoid(t):\n",
    "    return 1/(1+math.exp(-t))"
   ]
  },
  {
   "cell_type": "markdown",
   "metadata": {},
   "source": [
    "Why use sigmoid instead of the simpler `step_function()`? = **In order to train a NN, need to use calculus, + to use calculus, need smooth functions**, + the **step function isn’t even continuous, + sigmoid = a good smooth approximation of it.**\n",
    "\n",
    "***NOTE*** sigmoid shape = logistic function\n",
    "\n",
    "After smoothing, calculate the output as:"
   ]
  },
  {
   "cell_type": "code",
   "execution_count": 7,
   "metadata": {
    "collapsed": true
   },
   "outputs": [],
   "source": [
    "def neuron_output(weights,inputs):\n",
    "    return sigmoid(dot(weights,inputs))"
   ]
  },
  {
   "cell_type": "markdown",
   "metadata": {},
   "source": [
    "Given this function, can represent a neuron simply as a **`list` of weights w/ length = 1 more than # of inputs it takes (b/c of bias weight)**. Then can represent a NN as a **`list` of (noninput) layers, where each layer = just a `list` of neurons in that layer**\n",
    "\n",
    "* ***NN = `list` (layers) of `lists` (neurons) of `lists` (weights).***\n",
    "\n",
    "Given such a representation, *using* a NN is quite simple"
   ]
  },
  {
   "cell_type": "code",
   "execution_count": 8,
   "metadata": {
    "collapsed": true
   },
   "outputs": [],
   "source": [
    "def feed_forward(neural_network,input_vec):\n",
    "    \"\"\"Takes in a NN, represented as a list of lists of lists of weights\n",
    "    and returns the output from forward-propogating the input\"\"\"\n",
    "    outputs = []\n",
    "    \n",
    "    # process 1 layer at a time\n",
    "    for layer in neural_network:\n",
    "        # add bias input\n",
    "        input_with_bias = input_vec + [1]\n",
    "        # computer layer (neuron) output\n",
    "        output = [neuron_output(neuron,input_with_bias)\n",
    "                 for neuron in layer]\n",
    "        # remember the output\n",
    "        outputs.append(output)\n",
    "        \n",
    "        # then send output to next layer as an input\n",
    "        input_vec = output\n",
    "    \n",
    "    # return final outputs\n",
    "    return outputs"
   ]
  },
  {
   "cell_type": "markdown",
   "metadata": {},
   "source": [
    "Now it’s easy to build the **XOR gate** we couldn’t build w/ a single perceptron. We just need to scale the weights up so the `neuron_outputs` are either really close to 0 or really close to 1"
   ]
  },
  {
   "cell_type": "code",
   "execution_count": 9,
   "metadata": {
    "collapsed": false
   },
   "outputs": [
    {
     "name": "stdout",
     "output_type": "stream",
     "text": [
      "0 0 [9.38314668300676e-14]\n",
      "0 1 [0.9999999999999059]\n",
      "1 0 [0.9999999999999059]\n",
      "1 1 [9.383146683006828e-14]\n"
     ]
    }
   ],
   "source": [
    "xor_network = [ # hidden layer\n",
    "                [[20,20,-30],  # 'and' neuron\n",
    "                 [20,20,-10]], # 'or' neuron\n",
    "                # output layer\n",
    "                [[-60,60,-30]]] # 2nd input (but not 1st input's neuron)\n",
    "\n",
    "for x in [0,1]:\n",
    "    for y in [0,1]:\n",
    "        # feed-forward produces the outputs of every neuron\n",
    "        # feedforward[-1] = outputs of output-layer neurons\n",
    "        print(x,y,feed_forward(xor_network,[x,y])[-1])"
   ]
  },
  {
   "cell_type": "markdown",
   "metadata": {
    "collapsed": true
   },
   "source": [
    "By using a hidden layer, we're able to feed the output of an “and” neuron + output of an “or” neuron into a “2nd input but not 1st input” neuron. The result = a network that performs “or, but not and,” which is precisely XOR \n",
    "\n",
    "### Backpropagation\n",
    "\n",
    "Usually don’t build NNs by hand in part b/c we use them to solve much bigger problems (image recognition problem might involve hundreds or thousands of neurons) + in part b/c we usually won’t be able to “reason out” what the neurons should be.\n",
    "\n",
    "Instead (as usual), use data to train NN + 1 popular approach = **backpropagation algorithm** = similarities w/ gradient descent algorithm.\n",
    "\n",
    "Imagine we have a training set w/ input vectors + corresponding target output vectors.\n",
    "\n",
    "* Ex: xor_network --> input vector = `[1,0]` correspondeds to target output `[1]`.\n",
    "\n",
    "Imagine our network has some set of weights that we adjust using the following algorithm:\n",
    "\n",
    "* 1. Run `feed_forward()` on an input vector to produce outputs of all neurons in the network.\n",
    "* 2. Results in an error for each output neuron (difference between its output\n",
    "+ its target)\n",
    "3. Compute the gradient of this error as a function of the neuron’s weights + adjust its weights in the direction that most decreases the error.\n",
    "* 4. “Propagate” these output errors *backward* to **infer errors** for the hidden layer.\n",
    "* 5. Compute gradients of *these* errors + adjust the hidden layer’s weights in the same manner.\n",
    "\n",
    "Typically run this algorithm many times for an entire training set until the network **converges**:"
   ]
  },
  {
   "cell_type": "code",
   "execution_count": 10,
   "metadata": {
    "collapsed": true
   },
   "outputs": [],
   "source": [
    "def backprop(network, input_vec, targets):\n",
    "    \n",
    "    hidden_outputs, outputs = feed_forward(network,input_vec)\n",
    "    \n",
    "    # output*(1-output) = derivative of sigmoid\n",
    "    output_deltas = [output*(1 - output)*(output - targets[i])\n",
    "                     for i, output in enumerate(outputs)]\n",
    "    \n",
    "    # adjust weights for output later, 1 neuron at a time\n",
    "    for i, output_neuron in enumerate(network[-1]):\n",
    "        # focus on ith output later neuron\n",
    "        for j, hidden_output in enumerate(hidden_outputs+[1]):\n",
    "            # adjust jth weight based on both ith neuron's delta\n",
    "            # + its jth input\n",
    "            output_neuron[j] -= output_deltas[i]*hidden_output\n",
    "    \n",
    "    # back-propogate errors to hidden layer\n",
    "    hidden_deltas = [hidden_output*(1*hidden_ouput)*\n",
    "                     dot(output_deltas,[n[i] for n in output_layer])\n",
    "                     for i, hidden_output in enumerate(hidden_outputs)]\n",
    "    \n",
    "    # adjust weights for hidden layer, 1 neuron at a time\n",
    "    for i, hidden_neuron in enumerate(network[0]):\n",
    "        for j, input in enumerate(input_vec + [1]):\n",
    "            hidden_neuron[j] -= hidden_deltas[i]*input"
   ]
  },
  {
   "cell_type": "code",
   "execution_count": 11,
   "metadata": {
    "collapsed": true
   },
   "outputs": [],
   "source": [
    "def backpropagate(network, input_vector, target):\n",
    "\n",
    "    hidden_outputs, outputs = feed_forward(network, input_vector)\n",
    "\n",
    "    # the output * (1 - output) is from the derivative of sigmoid\n",
    "    output_deltas = [output * (1 - output) * (output - target[i])\n",
    "                     for i, output in enumerate(outputs)]\n",
    "\n",
    "    # adjust weights for output layer (network[-1])\n",
    "    for i, output_neuron in enumerate(network[-1]):\n",
    "        for j, hidden_output in enumerate(hidden_outputs + [1]):\n",
    "            output_neuron[j] -= output_deltas[i] * hidden_output\n",
    "\n",
    "    # back-propagate errors to hidden layer\n",
    "    hidden_deltas = [hidden_output * (1 - hidden_output) *\n",
    "                      dot(output_deltas, [n[i] for n in network[-1]])\n",
    "                     for i, hidden_output in enumerate(hidden_outputs)]\n",
    "\n",
    "    # adjust weights for hidden layer (network[0])\n",
    "    for i, hidden_neuron in enumerate(network[0]):\n",
    "        for j, input in enumerate(input_vector + [1]):\n",
    "            hidden_neuron[j] -= hidden_deltas[i] * input"
   ]
  },
  {
   "cell_type": "markdown",
   "metadata": {},
   "source": [
    "This is pretty much doing the same thing as if you explicitly wrote the squared error as a function of the weights + used `minimize_stochastic()`. In this case, explicitly writing out the gradient function turns out to be kind of a pain. If you know calc + the chain rule, the mathematical details are relatively straightforward, but keeping the notation straight (“the partial derivative of the error function w/ respect to the weight that neuron `i` assigns to the input coming from neuron `j`”) is not much fun.\n",
    "\n",
    "### Example: Defeating a CAPTCHA\n",
    "    \n",
    "To make sure people registering for a site are actually people, VP of Product\n",
    "Management wants to implement a CAPTCHA as part of the registration process. In particular, wants to show users a pic of a digit + require them to input that digit to prove they’re human. He doesn’t believe you that CPUs can easily solve this problem, so you decide to prove it.\n",
    "\n",
    "Represent each digit as a 5 × 5 image:\n",
    "\n",
    "@@@@@ ..@.. @@@@@ @@@@@ @...@ @@@@@ @@@@@ @@@@@ @@@@@ @@@@@\n",
    "@...@ ..@.. ....@ ....@ @...@ @.... @.... ....@ @...@ @...@\n",
    "@...@ ..@.. @@@@@ @@@@@ @@@@@ @@@@@ @@@@@ ....@ @@@@@ @@@@@\n",
    "@...@ ..@.. @.... ....@ ....@ ....@ @...@ ....@ @...@ ....@\n",
    "@@@@@ ..@.. @@@@@ @@@@@ ....@ @@@@@ @@@@@ ....@ @@@@@ @@@@@\n",
    "\n",
    "The NN wants an input to be a *vector of #'s* --> so transform each image to a vector of length 25 w/ elements = either 1 (“this pixel is in the image”) or\n",
    "0 (“this pixel is not in the image”).\n",
    "\n",
    "* Ex: '0' digit would be represented as:"
   ]
  },
  {
   "cell_type": "code",
   "execution_count": 12,
   "metadata": {
    "collapsed": true
   },
   "outputs": [],
   "source": [
    "zero_digit = [1,1,1,1,1,\n",
    "              1,0,0,0,1,\n",
    "              1,0,0,0,1,\n",
    "              1,0,0,0,1,\n",
    "              1,1,1,1,1]"
   ]
  },
  {
   "cell_type": "markdown",
   "metadata": {},
   "source": [
    "Want output to indicate which digit the NN thinks it is, so we need 10 outputs, where (for ex) correct output for digit '4' = `[0, 0, 0, 0, 1, 0, 0, 0, 0, 0]`. Then, assuming inputs are correctly ordered from 0 to 9, our targets will be:"
   ]
  },
  {
   "cell_type": "code",
   "execution_count": 13,
   "metadata": {
    "collapsed": true
   },
   "outputs": [],
   "source": [
    "targets = [[1 if i == j else 0 for i in range(10)] for j in range(10)]"
   ]
  },
  {
   "cell_type": "markdown",
   "metadata": {},
   "source": [
    "So that (for example) `targets[4]` = the correct output for digit '4'.\n",
    "\n",
    "At which point we’re ready to build our NN:"
   ]
  },
  {
   "cell_type": "code",
   "execution_count": 14,
   "metadata": {
    "collapsed": false
   },
   "outputs": [],
   "source": [
    "### DATA SETUP\n",
    "\n",
    "raw_digits = [\n",
    "          \"\"\"11111\n",
    "             1...1\n",
    "             1...1\n",
    "             1...1\n",
    "             11111\"\"\",\n",
    "\n",
    "          \"\"\"..1..\n",
    "             ..1..\n",
    "             ..1..\n",
    "             ..1..\n",
    "             ..1..\"\"\",\n",
    "\n",
    "          \"\"\"11111\n",
    "             ....1\n",
    "             11111\n",
    "             1....\n",
    "             11111\"\"\",\n",
    "\n",
    "          \"\"\"11111\n",
    "             ....1\n",
    "             11111\n",
    "             ....1\n",
    "             11111\"\"\",\n",
    "\n",
    "          \"\"\"1...1\n",
    "             1...1\n",
    "             11111\n",
    "             ....1\n",
    "             ....1\"\"\",\n",
    "\n",
    "          \"\"\"11111\n",
    "             1....\n",
    "             11111\n",
    "             ....1\n",
    "             11111\"\"\",\n",
    "\n",
    "          \"\"\"11111\n",
    "             1....\n",
    "             11111\n",
    "             1...1\n",
    "             11111\"\"\",\n",
    "\n",
    "          \"\"\"11111\n",
    "             ....1\n",
    "             ....1\n",
    "             ....1\n",
    "             ....1\"\"\",\n",
    "\n",
    "          \"\"\"11111\n",
    "             1...1\n",
    "             11111\n",
    "             1...1\n",
    "             11111\"\"\",\n",
    "\n",
    "          \"\"\"11111\n",
    "             1...1\n",
    "             11111\n",
    "             ....1\n",
    "             11111\"\"\"]\n",
    "\n",
    "def make_digit(raw_digit):\n",
    "    return [1 if c == '1' else 0\n",
    "            for row in raw_digit.split(\"\\n\")\n",
    "            for c in row.strip()]\n",
    "\n",
    "inputs = list(map(make_digit, raw_digits))\n",
    "targets = [[1 if i == j else 0 for i in range(10)]\n",
    "           for j in range(10)]"
   ]
  },
  {
   "cell_type": "code",
   "execution_count": 16,
   "metadata": {
    "collapsed": false
   },
   "outputs": [],
   "source": [
    "import random \n",
    "\n",
    "random.seed(0)   \n",
    "input_size = 25  # dimensions of img = lenght-25 vector\n",
    "num_hidden = 5   # 5 neurons in hidden layer\n",
    "output_size = 10 # 10 outputs for each input (binary 1/0 for each digit)\n",
    "\n",
    "### # the network starts out with random weights\n",
    "# each hidden neuron = 1 weight per input, + a bias weight\n",
    "hidden_layer = [[random.random() for __ in range(input_size + 1)]\n",
    "                for __ in range(num_hidden)]\n",
    "\n",
    "# each output neuron = 1 weight per hidden neuron, + a bias weight\n",
    "output_layer = [[random.random() for __ in range(num_hidden + 1)]\n",
    "                for __ in range(output_size)]\n",
    "\n",
    "network = [hidden_layer, output_layer]\n",
    "\n",
    "# seems to converge ~10k iterations\n",
    "for __ in range(10000):\n",
    "    for input_vector, target_vector in zip(inputs, targets):\n",
    "        backpropagate(network, input_vector, target_vector)\n",
    "\n",
    "def predict(input):\n",
    "    return feed_forward(network, input)[-1]"
   ]
  },
  {
   "cell_type": "code",
   "execution_count": 17,
   "metadata": {
    "collapsed": false
   },
   "outputs": [
    {
     "name": "stdout",
     "output_type": "stream",
     "text": [
      "[0.024099252251227495, 6.535805275537946e-06, 7.82498285497602e-11, 0.017301919554017466, 0.0011793422713514314, 6.648285303812686e-10, 4.480803518696326e-08, 0.969007735053818, 1.0889968608877994e-08, 2.565215480544878e-08]\n"
     ]
    }
   ],
   "source": [
    "print(predict(inputs[7]))"
   ]
  },
  {
   "cell_type": "markdown",
   "metadata": {},
   "source": [
    "This output indicates the digit '7' output neuron produces `0.97`, while all other output\n",
    "neurons produce very small numbers. But we can also apply it to differently drawn digits, like stylized 3 or 8"
   ]
  },
  {
   "cell_type": "code",
   "execution_count": 20,
   "metadata": {
    "collapsed": false
   },
   "outputs": [
    {
     "name": "stdout",
     "output_type": "stream",
     "text": [
      "[8.089379748597191e-09, 0.0015111927756024143, 1.2269558364879473e-08, 0.9449497176995292, 6.320723731390414e-07, 4.772839810266144e-06, 2.566661329270676e-10, 0.009159247290970103, 6.425186805525349e-08, 0.1296193147755028]\n",
      "\n",
      "\n",
      "[2.8398960946147525e-06, 3.420730717233115e-13, 7.377641549372272e-09, 0.0003464790956137235, 1.3653801311139735e-10, 0.5915126275536223, 2.9656227284800537e-05, 1.7741535556168957e-07, 0.9492129655894995, 0.9961441866705154]\n"
     ]
    }
   ],
   "source": [
    "# classify a '3'\n",
    "print(predict([0,1,1,1,0, # .@@@.\n",
    "         0,0,0,1,1, # ...@@\n",
    "         0,0,1,1,0, # ..@@.\n",
    "         0,0,0,1,1, # ...@@\n",
    "         0,1,1,1,0])) # .@@@.\n",
    "print('\\n')\n",
    "# classify an '8'\n",
    "print(predict([0,1,1,1,0, # .@@@.\n",
    "               1,0,0,1,1, # @..@@\n",
    "               0,1,1,1,0, # .@@@.\n",
    "               1,0,0,1,1, # @..@@\n",
    "               0,1,1,1,0])) # .@@@."
   ]
  },
  {
   "cell_type": "markdown",
   "metadata": {},
   "source": [
    "NN thinks stylized 3 looks like a 3, but stylized 8 gets votes for being a 5, an 8, + a 9. Having a larger training set would probably help.\n",
    "\n",
    "Although the NN’s operation is not exactly transparent, we can inspect weights of the hidden layer to get a sense of what they’re recognizing. In particular, can plot weights of each neuron in a 5x5 grid corresponding to the 5×5 inputs, w/ 0 weights = white + larger positive weights more green + larger negative weights more red. Or, just have far-away-from-0 weights get darker + darker, using **crosshatching** to indicate negative weights."
   ]
  },
  {
   "cell_type": "code",
   "execution_count": 29,
   "metadata": {
    "collapsed": false
   },
   "outputs": [
    {
     "data": {
      "image/png": "[encoded data removed]",
      "text/plain": [
       "<matplotlib.figure.Figure at 0x858b048>"
      ]
     },
     "metadata": {},
     "output_type": "display_data"
    }
   ],
   "source": [
    "%matplotlib inline\n",
    "\n",
    "import matplotlib.pyplot as plt\n",
    "import matplotlib\n",
    "\n",
    "weights = network[0][0] # 1st neuron in hidden layer\n",
    "abs_weights = [abs(weight) for weight in weights] # darkness will only depend on absolute value\n",
    "\n",
    "grid = [abs_weights[row:(row+5)] # turn weights into 5x5 grid\n",
    "       for row in range(0,25,5)] # weights[0:5], ..., weights[20:25]\n",
    "\n",
    "ax = plt.gca() # need axis to plot hatching\n",
    "\n",
    "# cmap = white-black color scale, interpolation='none' for plotting blocks as blocks\n",
    "ax.imshow(grid, cmap=matplotlib.cm.binary, interpolation=\"none\")\n",
    "\n",
    "def patch(x,y,hatch,color):\n",
    "    \"\"\"Return a matplotlib 'patch' object with the specified location,\n",
    "    crosshatch pattern, and color\"\"\"\n",
    "    return matplotlib.patches.Rectangle((x-.5,y-.5),1,1,\n",
    "                                       hatch=hatch,fill=False,color=color)\n",
    "\n",
    "# cross-hatch the negative weights\n",
    "for i in range(5): # row\n",
    "    for j in range(5): # col\n",
    "        if weights[5*i+j]<0: # row i, col j = weights[5*i+j]\n",
    "            # add B&W hatches visible whether dark or light\n",
    "            ax.add_patch(patch(j,i,'/','white'))\n",
    "            ax.add_patch(patch(j,i,'\\\\','black'))\n",
    "plt.show()"
   ]
  },
  {
   "cell_type": "code",
   "execution_count": 30,
   "metadata": {
    "collapsed": false
   },
   "outputs": [
    {
     "data": {
      "image/png": "[encoded data removed]",
      "text/plain": [
       "<matplotlib.figure.Figure at 0x858b978>"
      ]
     },
     "metadata": {},
     "output_type": "display_data"
    }
   ],
   "source": [
    "weights = network[0][1] # 2nd neuron in hidden layer\n",
    "abs_weights = [abs(weight) for weight in weights] # darkness will only depend on absolute value\n",
    "\n",
    "grid = [abs_weights[row:(row+5)] # turn weights into 5x5 grid\n",
    "       for row in range(0,25,5)] # weights[0:5], ..., weights[20:25]\n",
    "\n",
    "ax = plt.gca() # need axis to plot hatching\n",
    "\n",
    "# cmap = white-black color scale, interpolation='none' for plotting blocks as blocks\n",
    "ax.imshow(grid, cmap=matplotlib.cm.binary, interpolation=\"none\")\n",
    "\n",
    "# cross-hatch the negative weights\n",
    "for i in range(5): # row\n",
    "    for j in range(5): # col\n",
    "        if weights[5*i+j]<0: # row i, col j = weights[5*i+j]\n",
    "            # add B&W hatches visible whether dark or light\n",
    "            ax.add_patch(patch(j,i,'/','white'))\n",
    "            ax.add_patch(patch(j,i,'\\\\','black'))\n",
    "plt.show()"
   ]
  },
  {
   "cell_type": "code",
   "execution_count": 31,
   "metadata": {
    "collapsed": false
   },
   "outputs": [
    {
     "data": {
      "image/png": "[encoded data removed]",
      "text/plain": [
       "<matplotlib.figure.Figure at 0x82bdda0>"
      ]
     },
     "metadata": {},
     "output_type": "display_data"
    },
    {
     "data": {
      "image/png": "[encoded data removed]",
      "text/plain": [
       "<matplotlib.figure.Figure at 0x85c8ef0>"
      ]
     },
     "metadata": {},
     "output_type": "display_data"
    }
   ],
   "source": [
    "weights = network[0][3] # 2nd neuron in hidden layer\n",
    "abs_weights = [abs(weight) for weight in weights] # darkness will only depend on absolute value\n",
    "\n",
    "grid = [abs_weights[row:(row+5)] # turn weights into 5x5 grid\n",
    "       for row in range(0,25,5)] # weights[0:5], ..., weights[20:25]\n",
    "\n",
    "ax = plt.gca() # need axis to plot hatching\n",
    "\n",
    "# cmap = white-black color scale, interpolation='none' for plotting blocks as blocks\n",
    "ax.imshow(grid, cmap=matplotlib.cm.binary, interpolation=\"none\")\n",
    "\n",
    "# cross-hatch the negative weights\n",
    "for i in range(5): # row\n",
    "    for j in range(5): # col\n",
    "        if weights[5*i+j]<0: # row i, col j = weights[5*i+j]\n",
    "            # add B&W hatches visible whether dark or light\n",
    "            ax.add_patch(patch(j,i,'/','white'))\n",
    "            ax.add_patch(patch(j,i,'\\\\','black'))\n",
    "plt.show()\n",
    "\n",
    "weights = network[0][4] # 2nd neuron in hidden layer\n",
    "abs_weights = [abs(weight) for weight in weights] # darkness will only depend on absolute value\n",
    "\n",
    "grid = [abs_weights[row:(row+5)] # turn weights into 5x5 grid\n",
    "       for row in range(0,25,5)] # weights[0:5], ..., weights[20:25]\n",
    "\n",
    "ax = plt.gca() # need axis to plot hatching\n",
    "\n",
    "# cmap = white-black color scale, interpolation='none' for plotting blocks as blocks\n",
    "ax.imshow(grid, cmap=matplotlib.cm.binary, interpolation=\"none\")\n",
    "\n",
    "# cross-hatch the negative weights\n",
    "for i in range(5): # row\n",
    "    for j in range(5): # col\n",
    "        if weights[5*i+j]<0: # row i, col j = weights[5*i+j]\n",
    "            # add B&W hatches visible whether dark or light\n",
    "            ax.add_patch(patch(j,i,'/','white'))\n",
    "            ax.add_patch(patch(j,i,'\\\\','black'))\n",
    "plt.show()"
   ]
  },
  {
   "cell_type": "markdown",
   "metadata": {},
   "source": [
    "See the 1st hidden neuron has large positive weights in the left col + center of middle row, w/ large negative weights in  right column. (has a pretty large negative bias, which means it won’t fire strongly unless it gets precisely the positive inputs it’s “looking for.”)\n",
    "\n",
    "Indeed, on those inputs, it does what you’d expect:"
   ]
  },
  {
   "cell_type": "code",
   "execution_count": 35,
   "metadata": {
    "collapsed": false
   },
   "outputs": [
    {
     "name": "stdout",
     "output_type": "stream",
     "text": [
      "0.9999757061230374\n",
      "0.9454650524875013\n",
      "2.0967428729819267e-09\n"
     ]
    }
   ],
   "source": [
    "left_col_only = [1, 0, 0, 0, 0]*5\n",
    "print(feed_forward(network,left_col_only)[0][0])\n",
    "\n",
    "center_middle_row = [0, 0, 0, 0, 0]*2 + [0, 1, 1, 1, 0] + [0, 0, 0, 0, 0] * 2\n",
    "print(feed_forward(network,center_middle_row)[0][0])\n",
    "\n",
    "right_col_only = [0, 0, 0, 0, 1]*5\n",
    "print(feed_forward(network,right_col_only)[0][0])"
   ]
  },
  {
   "cell_type": "markdown",
   "metadata": {},
   "source": [
    "Similarly, the middle hidden neuron seems to “like” horizontal lines but not side vertical lines, + the last hidden neuron seems to “like” the center row but not the right col. (The other two neurons are harder to interpret.)\n",
    "\n",
    "What happens when we run my stylized 3 through the network?\n"
   ]
  },
  {
   "cell_type": "code",
   "execution_count": 41,
   "metadata": {
    "collapsed": false
   },
   "outputs": [
    {
     "name": "stdout",
     "output_type": "stream",
     "text": [
      "[0.10087970544675262, 0.9999789525258017, 0.9999999995375104, 0.999992327786406, 2.5371920979367814e-07]\n",
      "\n",
      " [8.089379748597191e-09, 0.0015111927756024143, 1.2269558364879473e-08, 0.9449497176995292, 6.320723731390414e-07, 4.772839810266144e-06, 2.566661329270676e-10, 0.009159247290970103, 6.425186805525349e-08, 0.1296193147755028]\n"
     ]
    }
   ],
   "source": [
    "my_three = [0,1,1,1,0, # .@@@.\n",
    "            0,0,0,1,1, # ...@@\n",
    "            0,0,1,1,0, # ..@@.\n",
    "            0,0,0,1,1, # ...@@\n",
    "            0,1,1,1,0] # .@@@.\n",
    "\n",
    "hidden, output = feed_forward(network,my_three)\n",
    "\n",
    "print(hidden)\n",
    "print(\"\\n\",output)"
   ]
  },
  {
   "cell_type": "markdown",
   "metadata": {},
   "source": [
    "Hidden outputs are:\n",
    "* 0.121080 = from network\\[0][0], probably dinged by (1, 4)\n",
    "* 0.999979 = from network\\[0][1], big contributions from (0, 2) and (2, 2)\n",
    "* 0.999999 = from network\\[0][2], positive everywhere except (3, 4)\n",
    "* 0.999992 = from network\\[0][3], again big contributions from (0, 2) and (2, 2)\n",
    "* 0.000000 = from network\\[0][4], negative or 0 everywhere except center row\n",
    "\n",
    "which enter into the “three” output neuron w/ weights:"
   ]
  },
  {
   "cell_type": "code",
   "execution_count": 42,
   "metadata": {
    "collapsed": false
   },
   "outputs": [
    {
     "name": "stdout",
     "output_type": "stream",
     "text": [
      "[-12.020905997913047, -2.105345568125583, 9.343087556164646, -1.3176301244196778, -11.652280680184836, -1.8646131418995124]\n"
     ]
    }
   ],
   "source": [
    "print(network[-1][3])"
   ]
  },
  {
   "cell_type": "markdown",
   "metadata": {},
   "source": [
    "* -12.02 # weight for hidden[0]\n",
    "* -2.10 # weight for hidden[1]\n",
    "* 9.34 # weight for hidden[2]\n",
    "* -1.317 # weight for hidden[3]\n",
    "* -11.65 # weight for hidden[4]\n",
    "* -1.86 # weight for bias input"
   ]
  },
  {
   "cell_type": "markdown",
   "metadata": {},
   "source": [
    "So that the neuron computes:"
   ]
  },
  {
   "cell_type": "code",
   "execution_count": 44,
   "metadata": {
    "collapsed": false
   },
   "outputs": [
    {
     "data": {
      "text/plain": [
       "0.9194716562747247"
      ]
     },
     "execution_count": 44,
     "metadata": {},
     "output_type": "execute_result"
    }
   ],
   "source": [
    "sigmoid(.121 * -11.61 + 1 * -2.17 + 1 * 9.31 - 1.38 * 1 - 0 * 11.47 - 1.92)"
   ]
  },
  {
   "cell_type": "markdown",
   "metadata": {},
   "source": [
    "In essence, the hidden layer is computing 5 different partitions of 25D space, mapping each 25D input down to 5 #'s, then each output neuron looks only at the results of those 5 partitions.\n",
    "\n",
    "`my_three` falls slightly on the “low” side of partition 0 (i.e., only slightly activates hidden neuron 0), far on the “high” side of partitions 1, 2, + 3, (i.e., strongly activates those hidden neurons), + far on the low side of partition 4 (i.e., doesn’t activate that neuron at all), + then each of the 10 output neurons uses only those 5 activations to decide whether `my_three` is their digit or not.\n",
    "\n",
    "### For Further Exploration\n",
    "* [Coursera](https://www.coursera.org/learn/neural-networks) has a free course on Neural Networks for Machine Learning. \n",
    "* Michael Nielsen is writing a free [online book](http://neuralnetworksanddeeplearning.com/) on Neural Networks and Deep Learning.\n",
    "* PyBrain is a pretty simple Python neural network library.\n",
    "* Pylearn2 is a much more advanced (and much harder to use) neural network library."
   ]
  }
 ],
 "metadata": {
  "kernelspec": {
   "display_name": "Python 3",
   "language": "python",
   "name": "python3"
  },
  "language_info": {
   "codemirror_mode": {
    "name": "ipython",
    "version": 3
   },
   "file_extension": ".py",
   "mimetype": "text/x-python",
   "name": "python",
   "nbconvert_exporter": "python",
   "pygments_lexer": "ipython3",
   "version": "3.6.0"
  }
 },
 "nbformat": 4,
 "nbformat_minor": 2
}
