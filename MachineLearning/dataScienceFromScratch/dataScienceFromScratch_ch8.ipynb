{
 "cells": [
  {
   "cell_type": "markdown",
   "metadata": {},
   "source": [
    "## Chapter 8. Gradient Descent\n",
    "\n",
    "Frequently when doing data science, we’ll be trying to the find the best model for a certain situation. And usually “best” means **“minimizes the error of the model”** or **“maximizes the likelihood of the data.”** In other words, it will represent the solution to some sort of optimization problem.\n",
    "\n",
    "This means we’ll need to solve a number of optimization problems. In particular,\n",
    "we’ll need to solve them from scratch, + our approach = **gradient descent**, which lends itself pretty well to a from-scratch treatment.\n",
    "\n",
    "### The Idea Behind Gradient Descent\n",
    "\n",
    "Suppose we have some function `f` that takes as input a vector of real numbers and outputs a single real number. One simple such function is:"
   ]
  },
  {
   "cell_type": "code",
   "execution_count": 1,
   "metadata": {
    "collapsed": true
   },
   "outputs": [],
   "source": [
    "def sum_of_squares(vector):\n",
    "    \"\"\"Compute sum of squared elements in given vector\"\"\"\n",
    "    return sum(element**2 for element in vector)"
   ]
  },
  {
   "cell_type": "markdown",
   "metadata": {},
   "source": [
    "We’ll frequently need to maximize (or minimize) such functions, i.e. find the input `vector` that produces the largest (or smallest) possible value. For functions like ours, the **gradient** (vector of partial derivatives) gives the input a direction in which the function most quickly increases.\n",
    "\n",
    "Accordingly, one approach to maximizing a function is to pick a random starting point,\n",
    "compute the gradient, take a small step in the direction of the gradient (direction that causes the function to increase the most), and repeat with the new starting point.\n",
    "\n",
    "Similarly, you can try to minimize a function by taking small steps in the opposite\n",
    "direction (negative gradient)\n",
    "\n",
    "* ***NOTE***: If a function has a unique **global minimum**, this procedure is likely to find it. If a function has **local (i.e. multiple) minima**, this procedure might “find” the wrong one of *them*, in which case you might re-run the procedure from a variety of starting points. **If a function has no minimum, then it’s possible the procedure might go on forever.**\n",
    "\n",
    "## Estimating the Gradient\n",
    "\n",
    "If `f` is a function of 1 variable, its **derivative** at a point `x` measures how f(x) changes when we make a very small change to x (**rate of change**). It is defined as the limit of the difference quotients:"
   ]
  },
  {
   "cell_type": "code",
   "execution_count": 2,
   "metadata": {
    "collapsed": true
   },
   "outputs": [],
   "source": [
    "def difference_quotient(f,x,h):\n",
    "    return (f(x+h) - f(x)) / h"
   ]
  },
  {
   "cell_type": "markdown",
   "metadata": {},
   "source": [
    "**Derivative = slope of the tangent line at `(x, f(x))`**, while the **difference quotient = slope of the not-quite-tangent line that runs through `(x+h, f(x+h))`**. As h gets smaller and smaller, the not-quite-tangent line gets closer and closer to the tangent line.For many functions it’s easy to exactly calculate derivatives. For example, the `square`\n",
    "function's derivative:"
   ]
  },
  {
   "cell_type": "code",
   "execution_count": 3,
   "metadata": {
    "collapsed": true
   },
   "outputs": [],
   "source": [
    "def square(x):\n",
    "    return x*x\n",
    "\n",
    "def d_square(x):\n",
    "    return 2*x"
   ]
  },
  {
   "cell_type": "markdown",
   "metadata": {},
   "source": [
    "Can check, if so inclined, by explicitly computing the difference quotient and taking the limit.\n",
    "\n",
    "What if you couldn’t (or didn’t want to) find the gradient? Although we can’t take limits in Python, we can *estimate derivatives by evaluating the difference quotient for a very small `e`*"
   ]
  },
  {
   "cell_type": "code",
   "execution_count": 4,
   "metadata": {
    "collapsed": true
   },
   "outputs": [],
   "source": [
    "## parital() = returns new partial object which when called behaves like\n",
    "##   func called w/ the positional arguments `args` and keyword \n",
    "##   arguments `keywords`. \n",
    "## If more arguments are supplied, they are appended to args. \n",
    "## If additional keyword arguments are supplied, they extend + override \n",
    "##    keywords\n",
    "from functools import partial\n",
    "\n",
    "derivative_estimate = partial(difference_quotient, square, h = .00001)\n",
    "#derivative_estimate = lambda x: difference_quotient(square, x, h=0.00001)"
   ]
  },
  {
   "cell_type": "code",
   "execution_count": 5,
   "metadata": {
    "collapsed": false
   },
   "outputs": [
    {
     "data": {
      "image/png": "[encoded data removed]",
      "text/plain": [
       "<matplotlib.figure.Figure at 0x21f4af8ef28>"
      ]
     },
     "metadata": {},
     "output_type": "display_data"
    }
   ],
   "source": [
    "%matplotlib inline\n",
    "\n",
    "# plot derivative + its estimate\n",
    "import matplotlib.pyplot as plt\n",
    "\n",
    "x = range(-10,10)\n",
    "plt.title(\"Actual Derivative vs. Estimates\")\n",
    "# convert map result to list as matplotlib doesn't take generators as input\n",
    "plt.plot(x, list(map(d_square, x)), 'rx', label=\"Actual Dx\")\n",
    "plt.plot(x, list(map(derivative_estimate, x)), 'b+', label=\"Estimate Dx\")\n",
    "plt.legend(loc=8)\n",
    "plt.show()"
   ]
  },
  {
   "cell_type": "markdown",
   "metadata": {},
   "source": [
    "When `f` is a function of many variables, it has *multiple* partial derivatives, each indicating how f changes when we make small changes w/ respect to just 1 of the input variables.\n",
    "We calculate ith partial derivatives by treating them  as a function of just the ith variable, holding the other variables fixed:"
   ]
  },
  {
   "cell_type": "code",
   "execution_count": 7,
   "metadata": {
    "collapsed": true
   },
   "outputs": [],
   "source": [
    "def partial_difference_quotient(f,v,i,h):\n",
    "    # add h to only the ith element of v\n",
    "    w = [v_j + (h if j == i else 0)\n",
    "        for j, v_j in enumerate(v)]\n",
    "    \n",
    "    return (f(x) - f(v)) / h\n",
    "\n",
    "# estimate gradient in same manner\n",
    "def estimate_gradient(f,v,h=.00001):\n",
    "    return [partial_difference_quotient(f,v,i,h)\n",
    "           for i, _ in enumerate(v)]"
   ]
  },
  {
   "cell_type": "markdown",
   "metadata": {},
   "source": [
    "***NOTE***: Major drawback to this “estimate using difference quotients” approach = computationally expensive. If `v` has length `n`, `estimate_gradient` has to evaluate `f` on `2n` different inputs. If repeatedly estimating gradients, you’re doing a whole lot of extra work\n",
    "\n",
    "### Using the Gradient\n",
    "\n",
    "Easy to see that `sum_of_squares()` is smallest when input `v` = a vector of 0's. But imagine we didn’t know that. Let’s use gradients to find the minimum among all 3D vectors. Just pick a random starting point + then take tiny steps in the *opposite* direction of the gradient until we reach a point where the gradient is very small:"
   ]
  },
  {
   "cell_type": "code",
   "execution_count": 12,
   "metadata": {
    "collapsed": false
   },
   "outputs": [
    {
     "name": "stdout",
     "output_type": "stream",
     "text": [
      "[0.0, 2.9277120618321604e-08, -9.759040206107214e-08]\n"
     ]
    }
   ],
   "source": [
    "from math import sqrt\n",
    "import random\n",
    "\n",
    "def step(v,direction,step_size):\n",
    "    \"\"\"Move step_size units in `direction` from `v`\"\"\"\n",
    "    return [v_i + step_size * direction_i\n",
    "            for v_i, direction_i in zip(v,direction)]\n",
    "\n",
    "def sum_of_squares_gradient(v):\n",
    "    return [2*v_i for v_i in v]\n",
    "\n",
    "def dot(v,w):\n",
    "    return sum(v_i*w_i for v_i, w_i in zip(v,w))\n",
    "\n",
    "def sum_of_squares(v):\n",
    "    return dot(v,v)\n",
    "\n",
    "def distance(v,w):\n",
    "    return sqrt(sum_of_squares(v))\n",
    "\n",
    "# pick random starting point\n",
    "v = [random.randint(-10,10) for i in range(3)]\n",
    "\n",
    "tolerance=.0000001\n",
    "\n",
    "while True:\n",
    "    # compute gradient @ v\n",
    "    gradient = sum_of_squares_gradient(v)\n",
    "    # take negative gradient step (towards min)\n",
    "    next_v = step(v,gradient,-.01)\n",
    "    # stop if converging, continue if not\n",
    "    if distance(next_v,v) < tolerance:\n",
    "        break\n",
    "    v = next_v\n",
    "    \n",
    "print(v)"
   ]
  },
  {
   "cell_type": "markdown",
   "metadata": {},
   "source": [
    "This will always ends up with a `v` very close to [0,0,0]. The smaller the `tolerance`, the closer it will get\n",
    "\n",
    "### Choosing the Right Step Size\n",
    "\n",
    "Although the rationale for moving against the gradient is clear, how far to move is not. Choosing correct step size = more of an art than a science. Popular options include:\n",
    "\n",
    "* Using a fixed step size\n",
    "* Gradually shrinking step size over time\n",
    "* At each step, choosing step size that minimizes the value of the **objective function** (sounds optimal but is, in practice, a costly computation). \n",
    "\n",
    "We can approximate it the 3rd option by trying a variety of step sizes + choosing the one that results in the smallest value of the objective function. \n",
    "\n",
    "It is possible that certain step sizes will result in invalid inputs for our function, so we’ll create a `“safe apply”` function that returns infinity (which should never be the minimum of anything) for invalid inputs."
   ]
  },
  {
   "cell_type": "code",
   "execution_count": 13,
   "metadata": {
    "collapsed": true
   },
   "outputs": [],
   "source": [
    "step_sizes = [100,10,1,.1,.01,.001,.0001,.00001]\n",
    "\n",
    "def safe(f):\n",
    "    \"\"\"Return a new function that's the same as f except\n",
    "    it outputs Infinity whenever f produces an error\"\"\"\n",
    "    def safe_f(*args,**kwargs):\n",
    "        try:\n",
    "            return f(*args,**kwargs)\n",
    "        except:\n",
    "            return float('inf') # = infinity in Python\n",
    "    return safe_f"
   ]
  },
  {
   "cell_type": "markdown",
   "metadata": {},
   "source": [
    "### Putting It All Together\n",
    "\n",
    "In the general case, we have some `target_fn` we want to minimize, and we also have its `gradient_fn`. For example, `target_fn` could represent the errors in a model as a function of its parameters, + we might want to find the parameters that make the errors as small as possible.\n",
    "\n",
    "Furthermore, let’s say we have (somehow) chosen a starting value for the parameters `theta_0`. Then we can implement gradient descent as:"
   ]
  },
  {
   "cell_type": "code",
   "execution_count": 14,
   "metadata": {
    "collapsed": true
   },
   "outputs": [],
   "source": [
    "def minimize_batch(target_f,gradient_f,theta0,tolerance=.00001):\n",
    "    \"\"\"Use gradient descent to find theta that minimizes target function\"\"\"\n",
    "    step_sizes = [100,10,1,.1,.01,.001,.0001,.00001]\n",
    "    \n",
    "    theta=theta0                    # set theta to initial value\n",
    "    target_f = safe(target_f)       # safe version of target function\n",
    "    value = target_f(theta)         # value to minimize\n",
    "    \n",
    "    while True:\n",
    "        gradient=gradient_f(theta)\n",
    "        next_thetas = [step(theta,gradient,-step_size)\n",
    "                      for step_size in step_sizes]\n",
    "        # choose theta that minimizes error function\n",
    "        next_theta = min(next_theta, keys=target_f)\n",
    "        next_value = target_f(next_theta)\n",
    "        # stop if converging\n",
    "        if abs(value-next_value) < tolerance:\n",
    "            return theta\n",
    "        else:\n",
    "            theta,value = next_theta,next_value"
   ]
  },
  {
   "cell_type": "markdown",
   "metadata": {},
   "source": [
    "We called it `minimize_batch` b/c, for each gradient step, it looks at the entire data set (b/c `target_fn` returns the error on the *whole* data set). Later, we’ll see an alternative approach that only looks at 1 DP at a time.\n",
    "\n",
    "Sometimes we’ll instead want to maximize a function, which we can do by minimizing its negative (which has a corresponding negative gradient):"
   ]
  },
  {
   "cell_type": "code",
   "execution_count": 15,
   "metadata": {
    "collapsed": true
   },
   "outputs": [],
   "source": [
    "def negate(f):\n",
    "    \"\"\"Return a function that, for any input, x, returns -f(x)\"\"\"\n",
    "    return lambda *args,**kwargs: -f(*args,**kwargs)\n",
    "\n",
    "def negate_all(f):\n",
    "    \"\"\"Same as above but for when f returns a list of numbers\"\"\"\n",
    "    return lambda *args,**kwargs: [-y for y in f(*args,**kwargs)]\n",
    "\n",
    "def maximize_batch(target_f,gradient_f,theta0,tolerance=.00001):\n",
    "    return minimize_batch(negate(target_f),\n",
    "                         negate_all(gradient_f),\n",
    "                         theta0,\n",
    "                         tolerance)"
   ]
  },
  {
   "cell_type": "markdown",
   "metadata": {},
   "source": [
    "### Stochastic Gradient Descent\n",
    "\n",
    "Often we’ll be using gradient descent to choose the parameters of a model in a way that minimizes some notion of error. Using the previous batch approach, each gradient step requires us to make a prediction and compute the gradient for the *whole data set*, which makes each step take a long time.\n",
    "\n",
    "Usually these error functions are **additive** = the predictive error on\n",
    "the whole data set is simply the sum of the predictive errors for each DP. When this is the case, we can instead apply **stochastic gradient descent** = computes the gradient (+ takes a step) for only *one* point at a time. It cycles over data repeatedly until it reaches a stopping point. During each cycle, we’ll want to iterate through our data in a random order:"
   ]
  },
  {
   "cell_type": "code",
   "execution_count": 16,
   "metadata": {
    "collapsed": true
   },
   "outputs": [],
   "source": [
    "def in_random_order(data):\n",
    "    \"\"\"Generator that returns elements of data in random order\"\"\"\n",
    "    indexes = [i for i, _ in enumerate(data)] # create list of indexes\n",
    "    random.shuffle(indexes)                   # shuffle indices\n",
    "    for i in indexes:                         # return data in that order\n",
    "        yield data[i] #????????"
   ]
  },
  {
   "cell_type": "markdown",
   "metadata": {},
   "source": [
    "Want to take a gradient step for each DP, + this approach leaves the possibility that we might circle around near a minimum forever, so whenever we stop getting improvements we’ll decrease the step size and eventually quit:"
   ]
  },
  {
   "cell_type": "code",
   "execution_count": 18,
   "metadata": {
    "collapsed": true
   },
   "outputs": [],
   "source": [
    "def scalar_multiply(c, v):\n",
    "    return [c * v_i for v_i in v]\n",
    "\n",
    "def vector_subtract(v, w):\n",
    "    \"\"\"subtracts two vectors componentwise\"\"\"\n",
    "    return [v_i - w_i for v_i, w_i in zip(v,w)]\n",
    "\n",
    "def minimize_stochastic(target_f,gradient_f,x,y,theta0,alpha0=.01):\n",
    "    data = zip(x,y)\n",
    "    theta=theta0                     # initial guess\n",
    "    alpha=alpha0                     # initial step size\n",
    "    min_theta,min_value = None, float(\"inf\")\n",
    "    iterations_with_no_improvement = 0\n",
    "    \n",
    "    # If we get to 100 iterations w/ no improvement, stop\n",
    "    while iterations_with_no_improvement < 100:\n",
    "        value = sum(target_f(x_i,y_i,theta) for x_i,y_i in data)\n",
    "        \n",
    "        if value < min_value:\n",
    "            # if a new min is found, remember it and \n",
    "            # go back to original step size\n",
    "            min_theta,min_value = theta,value\n",
    "            iterations_with_no_improvement=0\n",
    "            alpha=alpha0\n",
    "        else:\n",
    "            # otherwise, no improvement found, so try shrinking step size\n",
    "            iterations_with_no_improvement += 1\n",
    "            alpha *= .9\n",
    "        \n",
    "        # take gradient step for each data point\n",
    "        for x_i,y_i in in_random_order(data):\n",
    "            gradient_i = gradient_f(x_i,y_i,theta)\n",
    "            theta=vector_subtract(theta,scalar_multiply(alpha,gradient_i))\n",
    "            \n",
    "    return min_theta"
   ]
  },
  {
   "cell_type": "markdown",
   "metadata": {},
   "source": [
    "The stochastic version will typically be a lot faster than the batch version. Of course, we’ll want a version that maximizes as well"
   ]
  },
  {
   "cell_type": "code",
   "execution_count": 19,
   "metadata": {
    "collapsed": true
   },
   "outputs": [],
   "source": [
    "def maximize_stochastic(target_f,gradient_f,x,y,theta0,alpha0=.01):\n",
    "    return minimize_stochastic(negate(target_f),\n",
    "                              negate_all(gradient_f),\n",
    "                              x,y,theta0,alpha0)"
   ]
  },
  {
   "cell_type": "code",
   "execution_count": null,
   "metadata": {
    "collapsed": true
   },
   "outputs": [],
   "source": []
  }
 ],
 "metadata": {
  "kernelspec": {
   "display_name": "Python 3",
   "language": "python",
   "name": "python3"
  },
  "language_info": {
   "codemirror_mode": {
    "name": "ipython",
    "version": 3
   },
   "file_extension": ".py",
   "mimetype": "text/x-python",
   "name": "python",
   "nbconvert_exporter": "python",
   "pygments_lexer": "ipython3",
   "version": "3.6.0"
  }
 },
 "nbformat": 4,
 "nbformat_minor": 2
}
