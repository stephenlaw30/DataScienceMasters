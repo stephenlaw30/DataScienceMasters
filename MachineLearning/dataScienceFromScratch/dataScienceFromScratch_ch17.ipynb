{
 "cells": [
  {
   "cell_type": "markdown",
   "metadata": {},
   "source": [
    "## Chapter 17. Decision Trees\n",
    "\n",
    "VP of Talent has interviewed a # of job candidates from the site, w/ varying degrees of success, + collected a data set w/ several (qualitative) attributes of each candidate, as well as whether candidate interviewed well or poorly. Want to build a model IDing which future candidates will interview well = seems like a good fit for a **decision tree**\n",
    "\n",
    "### Decision Tree\n",
    "\n",
    "**DTs** use a tree structure to represent a # of possible decision paths + an outcome for each path."
   ]
  }
 ],
 "metadata": {
  "kernelspec": {
   "display_name": "Python 3",
   "language": "python",
   "name": "python3"
  },
  "language_info": {
   "codemirror_mode": {
    "name": "ipython",
    "version": 3
   },
   "file_extension": ".py",
   "mimetype": "text/x-python",
   "name": "python",
   "nbconvert_exporter": "python",
   "pygments_lexer": "ipython3",
   "version": "3.6.3"
  }
 },
 "nbformat": 4,
 "nbformat_minor": 2
}
