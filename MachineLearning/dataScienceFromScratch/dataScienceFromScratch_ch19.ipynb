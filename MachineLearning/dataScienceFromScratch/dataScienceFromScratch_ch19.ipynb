{
 "cells": [
  {
   "cell_type": "markdown",
   "metadata": {},
   "source": [
    "## Chapter 19. Clustering\n",
    "\n",
    "***Clustering*** = unsupervised learning = completely unlabeled data (or data has labels but we ignore them)\n",
    "\n",
    "### The Idea\n",
    "Whenever you look at some source of data, it’s likely it will somehow form clusters. A data set showing where millionaires live probably has clusters in places like Beverly Hills and Manhattan. A data set showing how many hours people work each week\n",
    "probably has a cluster around 40.. A data set of demographics of registered voters likely forms a variety of clusters (e.g., “soccer moms,” “bored retirees,” “unemployed millennials”) that pollsters + political consultants likely consider relevant.\n",
    "\n",
    "Generally no “correct” clustering. An alternative clustering scheme might group some of the “unemployed millenials” w/ “grad students,” others w/ “parents’ basement dwellers.” Neither scheme is necessarily more correct + each is likely more optimal w/ respect to its own “how good are the clusters?” metric.\n",
    "\n",
    "Furthermore, the **clusters won’t label themselves. You’ll have to do that by looking at the data underlying each one.**\n",
    "\n",
    "### The Model\n",
    "\n",
    "For us, each input = vector in d-dimensional space (represented as a list of #'s) w/ goal = ID clusters of similar inputs + (sometimes) to find a representative value for each cluster.\n",
    "\n",
    "* Ex: each input could be a numeric vector that somehow represents the title of a blog post, in which case goal might be = find clusters of similar posts, perhaps in order to understand what users are blogging about\n",
    "* Ex: Have a picture containing thousands of RGB colors we need to screen-print a 10-color version of = Clustering can help us choose 10 colors that will minimize total “color error.”\n",
    "\n",
    "1 of simplest clustering methods = **k-means** = # of clusters `k` (chosen in advance) after which goal is to partition inputs into sets in a way that minimizes TSS distances from each point to the mean of its assigned cluster.\n",
    "\n",
    "There are a lot of ways to assign n points to k clusters, which means finding an optimal clustering = very hard problem. Can settle for an iterative algorithm that usually finds a good clustering:\n",
    "1. Start w/ a set of *k-means* = points in d-dimensional space.\n",
    "2. Assign each point to the mean to which it is closest.\n",
    "3. If no point’s assignment has changed, stop + keep the clusters.\n",
    "4. If some point’s assignment change, recompute the means + return to step 2.\n",
    "\n",
    "Using `vector_mean()`, it’s pretty simple to create a class that does this:"
   ]
  },
  {
   "cell_type": "code",
   "execution_count": 1,
   "metadata": {
    "collapsed": false
   },
   "outputs": [],
   "source": [
    "import sys\n",
    "import random\n",
    "\n",
    "sys.path.insert(0, './../../../00_DataScience/DSFromScratch/code')\n",
    "\n",
    "from linear_algebra import vector_mean, squared_distance, distance\n",
    "\n",
    "class Kmeans:\n",
    "    \"\"\"Performas k-means clustering\"\"\"\n",
    "    \n",
    "    def __init__(self,k):\n",
    "        self.k = k          # number of clusters\n",
    "        self.means = None   # means of clusters\n",
    "    \n",
    "    def classify(self, input):\n",
    "        \"\"\"Returns index of cluster closest to given input\"\"\"\n",
    "        # compute squared distance of each input from each of the cluster means\n",
    "        # and return the index of the minimum squared_distance\n",
    "        return min(range(self.k),\n",
    "                  key=lambda i: squared_distance(input, self.means[i]))\n",
    "    \n",
    "    def train(self,input):\n",
    "        # choose k random points as initial means\n",
    "        self.means = random.sample(inputs, self.k)\n",
    "        assignments = None\n",
    "        \n",
    "        while True:\n",
    "            # find new assignments by classifying each input point\n",
    "            new_assignments = list(map(self.classify, inputs))\n",
    "            \n",
    "            # check if assignments changed and end if not\n",
    "            if assignments == new_assignments:\n",
    "                return\n",
    "            \n",
    "            # if changed, keep new assigments\n",
    "            assignments = new_assignments\n",
    "            \n",
    "            for i in range(self.k):\n",
    "                i_points = [p for p,a in zip(inputs,assignments) if a == i]\n",
    "                # avoids dividing by 0 if i_points = empty\n",
    "                if i_points:\n",
    "                    self.means[i] = vector_mean(i_points)"
   ]
  },
  {
   "cell_type": "markdown",
   "metadata": {},
   "source": [
    "### Ex: Meetups\n",
    "\n",
    "VP of User Rewards wants to organize several in-person meetups for hometown users. we know locations of all local users."
   ]
  },
  {
   "cell_type": "code",
   "execution_count": 2,
   "metadata": {
    "collapsed": false
   },
   "outputs": [
    {
     "data": {
      "image/png": "[encoded data removed]",
      "text/plain": [
       "<matplotlib.figure.Figure at 0x7e95208>"
      ]
     },
     "metadata": {},
     "output_type": "display_data"
    }
   ],
   "source": [
    "%matplotlib inline\n",
    "\n",
    "from matplotlib import pyplot as plt\n",
    "\n",
    "inputs = [[-14,-5],[13,13],[20,23],[-19,-11],[-9,-16],[21,27],[-49,15],[26,13],[-46,5],[-34,-1],[11,15],[-49,0],[-22,-16],[19,28],[-12,-8],[-13,-19],[-41,8],[-11,-6],[-25,-9],[-18,-3]]\n",
    "\n",
    "plt.scatter([input[0] for input in inputs],[input[1] for input in inputs])\n",
    "plt.title(\"Axes Aren't Comparable\")\n",
    "plt.xlabel(\"test 1 grade\")\n",
    "plt.ylabel(\"test 2 grade\")\n",
    "plt.show()"
   ]
  },
  {
   "cell_type": "markdown",
   "metadata": {},
   "source": [
    "Wants us to choose meetup locations that make it convenient for everyone to attend. We see 2-3 clusters. (easy to do visually b/c data is only 2D + more dimensions = harder). Imagine we have enough budget for 3 meetups."
   ]
  },
  {
   "cell_type": "code",
   "execution_count": 3,
   "metadata": {
    "collapsed": false
   },
   "outputs": [
    {
     "name": "stdout",
     "output_type": "stream",
     "text": [
      "[[-25.857142857142854, -4.714285714285714], [20.0, 26.0], [16.666666666666664, 13.666666666666666]]\n"
     ]
    }
   ],
   "source": [
    "random.seed(0) # so you get the same results as me\n",
    "clusterer = Kmeans(3) # start with 3 clusters\n",
    "clusterer.train(inputs)\n",
    "print(clusterer.means)"
   ]
  },
  {
   "cell_type": "markdown",
   "metadata": {},
   "source": [
    "Find 3 clusters centered at [-25.85, -4.71], [20.0, 26.0], and [16.67, 13.67], and you look for meetup venues near those locations. Show it to the VP, who informs you that now she only has enough budget for 2 meetups."
   ]
  },
  {
   "cell_type": "code",
   "execution_count": 4,
   "metadata": {
    "collapsed": false
   },
   "outputs": [
    {
     "name": "stdout",
     "output_type": "stream",
     "text": [
      "[[-25.857142857142854, -4.714285714285714], [18.333333333333332, 19.833333333333332]]\n"
     ]
    }
   ],
   "source": [
    "random.seed(0) # so you get the same results as me\n",
    "clusterer = Kmeans(2) # start with 3 clusters\n",
    "clusterer.train(inputs)\n",
    "print(clusterer.means)"
   ]
  },
  {
   "cell_type": "markdown",
   "metadata": {},
   "source": [
    "One meetup should still be near [-25.85, -4.71], but the other is now near [18.33, 19.83]\n",
    "\n",
    "### Choosing k\n",
    "\n",
    "Previous example = choice of k = driven by factors outside our control. In general, won’t be the case. There's a wide variety of ways to choose a k. 1 reasonably easy to understand way = plotting the SEE (between each DP + mean of its cluster) as a function of k and looking at where the graph “bends”/has an \"elbow\""
   ]
  },
  {
   "cell_type": "code",
   "execution_count": 5,
   "metadata": {
    "collapsed": false
   },
   "outputs": [
    {
     "data": {
      "image/png": "[encoded data removed]",
      "text/plain": [
       "<matplotlib.figure.Figure at 0x4db1588>"
      ]
     },
     "metadata": {},
     "output_type": "display_data"
    }
   ],
   "source": [
    "def squared_cluster_errors(inputs,k):\n",
    "    \"\"\"Finds Total Squared Error from k-means clustering on inputs\"\"\"\n",
    "    \n",
    "    clusterer = Kmeans(k)\n",
    "    clusterer.train(inputs)\n",
    "    means = clusterer.means\n",
    "    \n",
    "    assignments = map(clusterer.classify,inputs)\n",
    "    \n",
    "    return sum(squared_distance(input,means[cluster])\n",
    "               for input,cluster in zip(inputs,assignments))\n",
    "\n",
    "# plot from k=1 upward to length(inputs)\n",
    "ks = range(1,len(inputs)+1)\n",
    "errors = [squared_cluster_errors(inputs,k) for k in ks]\n",
    "\n",
    "plt.plot(ks,errors)\n",
    "plt.xticks(ks)\n",
    "plt.xlabel(\"k\")\n",
    "plt.ylabel(\"Total Squared Error\")\n",
    "plt.title(\"Total Squared Error by choice of k\")\n",
    "plt.show()"
   ]
  },
  {
   "cell_type": "markdown",
   "metadata": {},
   "source": [
    "This method agrees w/ original eyeballing for k = 3 = “right” # of clusters.\n",
    "\n",
    "### Example: Clustering Colors\n",
    "\n",
    "VP of Product Marketing = designed attractive stickers to hand out at meetups. Unfortunately, the printer can print at most 5 colors per sticker, VP of Art = on sabbatical, + we need some way to take the design + modify it so that it only contains 5 colors.\n",
    "\n",
    "CPU images can be represented as 2D array of pixels, each itself a 3D vector (RGB) indicating its color. Creating a 5-color version of the image then entails:\n",
    "1. Choosing 5 colors\n",
    "2. Assigning 1 color to each pixel\n",
    "\n",
    "This = a great task for k-means clustering, which can partition pixels into 5 clusters in a RGB space + then recolor pixels in each cluster to the mean color. To start, load image into Python w/ matplotlib:"
   ]
  },
  {
   "cell_type": "code",
   "execution_count": 6,
   "metadata": {
    "collapsed": false
   },
   "outputs": [],
   "source": [
    "import matplotlib.image as mpimg\n",
    "\n",
    "path_to_png_file = r\"./img.jpg\" \n",
    "img = mpimg.imread(path_to_png_file)"
   ]
  },
  {
   "cell_type": "markdown",
   "metadata": {},
   "source": [
    "BTS, `img` = NumPy array, but for our purposes, treat it as a list of lists of lists where `img[i][j]` = pixel in ith row + jth col, + each pixel = a list `[R,G,B]` of #'s between 0-1 indicating the color of that pixel:"
   ]
  },
  {
   "cell_type": "code",
   "execution_count": 7,
   "metadata": {
    "collapsed": false
   },
   "outputs": [
    {
     "name": "stdout",
     "output_type": "stream",
     "text": [
      "[[[163  50  44]\n",
      "  [163  50  44]\n",
      "  [165  50  45]\n",
      "  ..., \n",
      "  [158  90  87]\n",
      "  [171 104  98]\n",
      "  [184 117 109]]\n",
      "\n",
      " [[162  49  43]\n",
      "  [163  50  44]\n",
      "  [165  50  45]\n",
      "  ..., \n",
      "  [158  91  85]\n",
      "  [165  98  90]\n",
      "  [171 104  96]]\n",
      "\n",
      " [[162  49  43]\n",
      "  [163  50  44]\n",
      "  [165  50  45]\n",
      "  ..., \n",
      "  [162  93  86]\n",
      "  [160  91  84]\n",
      "  [160  90  82]]\n",
      "\n",
      " ..., \n",
      " [[179  56  58]\n",
      "  [179  56  58]\n",
      "  [179  56  58]\n",
      "  ..., \n",
      "  [188  64  64]\n",
      "  [190  66  66]\n",
      "  [191  67  67]]\n",
      "\n",
      " [[176  52  54]\n",
      "  [177  54  56]\n",
      "  [178  55  57]\n",
      "  ..., \n",
      "  [186  62  62]\n",
      "  [188  64  64]\n",
      "  [189  65  65]]\n",
      "\n",
      " [[175  55  56]\n",
      "  [177  57  58]\n",
      "  [180  60  61]\n",
      "  ..., \n",
      "  [187  62  60]\n",
      "  [189  63  64]\n",
      "  [189  63  64]]]\n"
     ]
    }
   ],
   "source": [
    "print(img)"
   ]
  },
  {
   "cell_type": "code",
   "execution_count": 8,
   "metadata": {
    "collapsed": false
   },
   "outputs": [
    {
     "name": "stdout",
     "output_type": "stream",
     "text": [
      "163 50 44\n"
     ]
    }
   ],
   "source": [
    "top_row = img[0]\n",
    "top_left_px = top_row[0]\n",
    "red,green,blue = top_left_px\n",
    "print(red,green,blue)"
   ]
  },
  {
   "cell_type": "markdown",
   "metadata": {},
   "source": [
    "In particular, can get a flattened list of all pixels, plug them into the clusterer, then construct a new image with the same format"
   ]
  },
  {
   "cell_type": "code",
   "execution_count": 9,
   "metadata": {
    "collapsed": false
   },
   "outputs": [],
   "source": [
    "# flattened list of all pixels\n",
    "pxls = [px for row in img for px in row]\n",
    "\n",
    "clusterer = Kmeans(5) # 5-color printer\n",
    "clusterer.train(pxls)\n",
    "\n",
    "# construct new image\n",
    "def recolor(px):\n",
    "    cluster = clusterer.classify(px) # index of closest cluster\n",
    "    return clusterer.means[cluster] # mean of closest cluster\n",
    "\n",
    "# recolor row of pixels each row in image\n",
    "#new_img = [[recolor(px) for px in row] for row in img]"
   ]
  },
  {
   "cell_type": "code",
   "execution_count": 10,
   "metadata": {
    "collapsed": false
   },
   "outputs": [
    {
     "data": {
      "text/plain": [
       "[12.0, 14.0]"
      ]
     },
     "execution_count": 10,
     "metadata": {},
     "output_type": "execute_result"
    }
   ],
   "source": [
    "# clusterer.classify(pxls[1]) # = 4\n",
    "clusterer.means[4]"
   ]
  },
  {
   "cell_type": "code",
   "execution_count": 11,
   "metadata": {
    "collapsed": true
   },
   "outputs": [],
   "source": [
    "class KMeans:\n",
    "    \"\"\"performs k-means clustering\"\"\"\n",
    "\n",
    "    def __init__(self, k):\n",
    "        self.k = k          # number of clusters\n",
    "        self.means = None   # means of clusters\n",
    "\n",
    "    def classify(self, input):\n",
    "        \"\"\"return the index of the cluster closest to the input\"\"\"\n",
    "        return min(range(self.k),\n",
    "                   key=lambda i: squared_distance(input, self.means[i]))\n",
    "\n",
    "    def train(self, inputs):\n",
    "\n",
    "        self.means = random.sample(inputs, self.k)\n",
    "        assignments = None\n",
    "\n",
    "        while True:\n",
    "            # Find new assignments\n",
    "            new_assignments = list(map(self.classify, inputs))\n",
    "\n",
    "            # If no assignments have changed, we're done.\n",
    "            if assignments == new_assignments:\n",
    "                return\n",
    "\n",
    "            # Otherwise keep the new assignments,\n",
    "            assignments = new_assignments\n",
    "\n",
    "            for i in range(self.k):\n",
    "                i_points = [p for p, a in zip(inputs, assignments) if a == i]\n",
    "                # avoid divide-by-zero if i_points is empty\n",
    "                if i_points:\n",
    "                    self.means[i] = vector_mean(i_points)"
   ]
  },
  {
   "cell_type": "code",
   "execution_count": 13,
   "metadata": {
    "collapsed": false
   },
   "outputs": [
    {
     "data": {
      "text/plain": [
       "[array([163,  50,  44], dtype=uint8),\n",
       " array([163,  50,  44], dtype=uint8),\n",
       " array([165,  50,  45], dtype=uint8),\n",
       " array([166,  51,  46], dtype=uint8),\n",
       " array([168,  50,  46], dtype=uint8)]"
      ]
     },
     "execution_count": 13,
     "metadata": {},
     "output_type": "execute_result"
    }
   ],
   "source": [
    "pxls = [px for row in img for px in row]\n",
    "pxls[0:5]"
   ]
  },
  {
   "cell_type": "code",
   "execution_count": null,
   "metadata": {
    "collapsed": false
   },
   "outputs": [],
   "source": [
    "clusterer = KMeans(5) # 5-color printer\n",
    "clusterer.train(pxls)\n",
    "#pxls[1]"
   ]
  },
  {
   "cell_type": "code",
   "execution_count": null,
   "metadata": {
    "collapsed": true
   },
   "outputs": [],
   "source": [
    "pxls[1]"
   ]
  },
  {
   "cell_type": "code",
   "execution_count": null,
   "metadata": {
    "collapsed": true
   },
   "outputs": [],
   "source": [
    "clusterer.classify(px) # index of closest cluster"
   ]
  },
  {
   "cell_type": "code",
   "execution_count": null,
   "metadata": {
    "collapsed": true
   },
   "outputs": [],
   "source": [
    "# construct new image\n",
    "def recolor(px):\n",
    "    cluster = clusterer.classify(px) # index of closest cluster\n",
    "    return clusterer.means[cluster] # mean of closest cluster"
   ]
  },
  {
   "cell_type": "code",
   "execution_count": null,
   "metadata": {
    "collapsed": false
   },
   "outputs": [],
   "source": [
    "#display images\n",
    "plt.imshow(img)\n",
    "plt.axis(\"off\")\n",
    "plt.show()"
   ]
  },
  {
   "cell_type": "code",
   "execution_count": null,
   "metadata": {
    "collapsed": false
   },
   "outputs": [],
   "source": [
    "#display images\n",
    "#plt.imshow(new_img)\n",
    "#plt.axis(\"off\")\n",
    "#plt.show()\n",
    "[[recolor(px) for px in row] for row in img]"
   ]
  },
  {
   "cell_type": "code",
   "execution_count": null,
   "metadata": {
    "collapsed": false
   },
   "outputs": [],
   "source": [
    "import numpy as np\n",
    "\n",
    "def recolor_image(input_file, k=5):\n",
    "\n",
    "    img = mpimg.imread(path_to_png_file)\n",
    "    pixels = [pixel for row in img for pixel in row]\n",
    "    clusterer = Kmeans(k)\n",
    "    clusterer.train(pixels) # this might take a while\n",
    "\n",
    "    def recolor(pixel):\n",
    "        cluster = clusterer.classify(pixel) # index of the closest cluster\n",
    "        return clusterer.means[cluster]     # mean of the closest cluster\n",
    "\n",
    "    new_img = [[recolor(pixel) for pixel in row]\n",
    "               for row in img]\n",
    "\n",
    "    np.expand_dims(new_img,axis=0)\n",
    "    \n",
    "    plt.imshow(new_img)\n",
    "    plt.axis('off')\n",
    "    plt.show()\n",
    "\n",
    "#\n",
    "#a = np.array([1,2,3,4,5])\n",
    "#a = np.expand_dims(a, axis=0)\n",
    "recolor_image(img,5)"
   ]
  },
  {
   "cell_type": "code",
   "execution_count": null,
   "metadata": {
    "collapsed": false
   },
   "outputs": [],
   "source": [
    "def valid_imshow_data(data):\n",
    "    data = np.asarray(data)\n",
    "    if data.ndim == 2:\n",
    "        return True\n",
    "    elif data.ndim == 3:\n",
    "        if 3 <= data.shape[2] <= 4:\n",
    "            return True\n",
    "        else:\n",
    "            print('The \"data\" has 3 dimensions but the last dimension '\n",
    "                  'must have a length of 3 (RGB) or 4 (RGBA), not \"{}\".'\n",
    "                  ''.format(data.shape[2]))\n",
    "            return False\n",
    "    else:\n",
    "        print('To visualize an image the data must be 2 dimensional or '\n",
    "              '3 dimensional, not \"{}\".'\n",
    "              ''.format(data.ndim))\n",
    "        return False\n",
    "    \n",
    "valid_imshow_data(new_img)"
   ]
  },
  {
   "cell_type": "markdown",
   "metadata": {},
   "source": [
    "### Bottom-up Hierarchical Clustering\n",
    "\n",
    "Alternative approach to clustering = “grow” clusters from the bottom up:\n",
    "\n",
    "1. Make each input its own cluster of one.\n",
    "2. As long as there're multiple clusters remaining, find the 2 closest clusters +\n",
    "merge them.\n",
    "At the end, we’ll have one giant cluster containing all the inputs. If we keep track of the\n",
    "merge order, we can recreate any number of clusters by unmerging. For example, if we\n",
    "want three clusters, we can just undo the last two merges.\n",
    "We’ll use a really simple representation of clusters. Our values will live in leaf clusters,\n",
    "which we will represent as 1-tuples:\n",
    "leaf1 = ([10, 20],) # to make a 1-tuple you need the trailing comma\n",
    "leaf2 = ([30, -15],) # otherwise Python treats the parentheses as parentheses\n",
    "We’ll use these to grow merged clusters, which we will represent as 2-tuples (merge order,\n",
    "children):\n",
    "merged = (1, [leaf1, leaf2])\n",
    "We’ll talk about merge order in a bit, but first let’s create a few helper functions:\n",
    "def is_leaf(cluster):\n",
    "\"\"\"a cluster is a leaf if it has length 1\"\"\"\n",
    "return len(cluster) == 1\n",
    "def get_children(cluster):\n",
    "\"\"\"returns the two children of this cluster if it's a merged cluster;\n",
    "raises an exception if this is a leaf cluster\"\"\"\n",
    "if is_leaf(cluster):\n",
    "raise TypeError(\"a leaf cluster has no children\")\n",
    "else:\n",
    "return cluster[1]\n",
    "def get_values(cluster):\n",
    "\"\"\"returns the value in this cluster (if it's a leaf cluster)\n",
    "or all the values in the leaf clusters below it (if it's not)\"\"\"\n",
    "if is_leaf(cluster):\n",
    "return cluster # is already a 1-tuple containing value\n",
    "else:\n",
    "return [value\n",
    "for child in get_children(cluster)\n",
    "for value in get_values(child)]\n",
    "In order to merge the closest clusters, we need some notion of the distance between\n",
    "clusters. We’ll use the minimum distance between elements of the two clusters, which\n",
    "merges the two clusters that are closest to touching (but will sometimes produce large\n",
    "chain-like clusters that aren’t very tight). If we wanted tight spherical clusters, we might\n",
    "use the maximum distance instead, as it merges the two clusters that fit in the smallest ball.\n",
    "Both are common choices, as is the average distance:\n",
    "def cluster_distance(cluster1, cluster2, distance_agg=min):\n",
    "\"\"\"compute all the pairwise distances between cluster1 and cluster2\n",
    "and apply _distance_agg_ to the resulting list\"\"\"\n",
    "return distance_agg([distance(input1, input2)\n",
    "for input1 in get_values(cluster1)\n",
    "for input2 in get_values(cluster2)])\n",
    "We’ll use the merge order slot to track the order in which we did the merging. Smaller\n",
    "numbers will represent later merges. This means when we want to unmerge clusters, we\n",
    "do so from lowest merge order to highest. Since leaf clusters were never merged (which\n",
    "means we never want to unmerge them), we’ll assign them infinity:\n",
    "def get_merge_order(cluster):\n",
    "if is_leaf(cluster):\n",
    "return float('inf')\n",
    "else:\n",
    "return cluster[0] # merge_order is first element of 2-tuple\n",
    "Now we’re ready to create the clustering algorithm:\n",
    "def bottom_up_cluster(inputs, distance_agg=min):\n",
    "# start with every input a leaf cluster / 1-tuple\n",
    "clusters = [(input,) for input in inputs]\n",
    "# as long as we have more than one cluster left…\n",
    "while len(clusters) > 1:\n",
    "# find the two closest clusters\n",
    "c1, c2 = min([(cluster1, cluster2)\n",
    "for i, cluster1 in enumerate(clusters)\n",
    "for cluster2 in clusters[:i]],\n",
    "key=lambda (x, y): cluster_distance(x, y, distance_agg))\n",
    "# remove them from the list of clusters\n",
    "clusters = [c for c in clusters if c != c1 and c != c2]\n",
    "# merge them, using merge_order = # of clusters left\n",
    "merged_cluster = (len(clusters), [c1, c2])\n",
    "# and add their merge\n",
    "clusters.append(merged_cluster)\n",
    "# when there's only one cluster left, return it\n",
    "return clusters[0]\n",
    "Its use is very simple:\n",
    "base_cluster = bottom_up_cluster(inputs)\n",
    "This produces a cluster whose ugly representation is:\n",
    "(0, [(1, [(3, [(14, [(18, [([19, 28],),\n",
    "([21, 27],)]),\n",
    "([20, 23],)]),\n",
    "([26, 13],)]),\n",
    "(16, [([11, 15],),\n",
    "([13, 13],)])]),\n",
    "(2, [(4, [(5, [(9, [(11, [([-49, 0],),\n",
    "([-46, 5],)]),\n",
    "([-41, 8],)]),\n",
    "([-49, 15],)]),\n",
    "([-34, -1],)]),\n",
    "(6, [(7, [(8, [(10, [([-22, -16],),\n",
    "([-19, -11],)]),\n",
    "([-25, -9],)]),\n",
    "(13, [(15, [(17, [([-11, -6],),\n",
    "([-12, -8],)]),\n",
    "([-14, -5],)]),\n",
    "([-18, -3],)])]),\n",
    "(12, [([-13, -19],),\n",
    "([-9, -16],)])])])])\n",
    "For every merged cluster, I lined up its children vertically. If we say “cluster 0” for the\n",
    "cluster with merge order 0, you can interpret this as:\n",
    "Cluster 0 is the merger of cluster 1 and cluster 2.\n",
    "Cluster 1 is the merger of cluster 3 and cluster 16.\n",
    "Cluster 16 is the merger of the leaf [11, 15] and the leaf [13, 13].\n",
    "And so on…\n",
    "Since we had 20 inputs, it took 19 merges to get to this one cluster. The first merge created\n",
    "cluster 18 by combining the leaves [19, 28] and [21, 27]. And the last merge created\n",
    "cluster 0.\n",
    "Generally, though, we don’t want to be squinting at nasty text representations like this.\n",
    "(Although it could be an interesting exercise to create a user-friendlier visualization of the\n",
    "cluster hierarchy.) Instead let’s write a function that generates any number of clusters by\n",
    "performing the appropriate number of unmerges:\n",
    "def generate_clusters(base_cluster, num_clusters):\n",
    "# start with a list with just the base cluster\n",
    "clusters = [base_cluster]\n",
    "# as long as we don't have enough clusters yet…\n",
    "while len(clusters) < num_clusters:\n",
    "# choose the last-merged of our clusters\n",
    "next_cluster = min(clusters, key=get_merge_order)\n",
    "# remove it from the list\n",
    "clusters = [c for c in clusters if c != next_cluster]\n",
    "# and add its children to the list (i.e., unmerge it)\n",
    "clusters.extend(get_children(next_cluster))\n",
    "# once we have enough clusters…\n",
    "return clusters\n",
    "So, for example, if we want to generate three clusters, we can just do:\n",
    "three_clusters = [get_values(cluster)\n",
    "for cluster in generate_clusters(base_cluster, 3)]\n",
    "which we can easily plot:\n",
    "for i, cluster, marker, color in zip([1, 2, 3],\n",
    "three_clusters,\n",
    "['D','o','*'],\n",
    "['r','g','b']):\n",
    "xs, ys = zip(*cluster) # magic unzipping trick\n",
    "plt.scatter(xs, ys, color=color, marker=marker)\n",
    "# put a number at the mean of the cluster\n",
    "x, y = vector_mean(cluster)\n",
    "plt.plot(x, y, marker='$' + str(i) + '$', color='black')\n",
    "plt.title(\"User Locations—3 Bottom-Up Clusters, Min\")\n",
    "plt.xlabel(\"blocks east of city center\")\n",
    "plt.ylabel(\"blocks north of city center\")\n",
    "plt.show()\n",
    "This gives very different results than k-means did, as shown in Figure 19-6.\n",
    "Figure 19-6. Three bottom-up clusters using min distance\n",
    "As we mentioned above, this is because using min in cluster_distance tends to give\n",
    "chain-like clusters. If we instead use max (which gives tight clusters) it looks the same as\n",
    "the 3-means result (Figure 19-7).\n",
    "NOTE\n",
    "The bottom_up_clustering implementation above is relatively simple, but it’s also shockingly inefficient.\n",
    "In particular, it recomputes the distance between each pair of inputs at every step. A more efficient\n",
    "implementation might precompute the distances between each pair of inputs and then perform a lookup\n",
    "inside cluster_distance. A really efficient implementation would likely also remember the\n",
    "cluster_distances from the previous step.\n",
    "Figure 19-7. Three bottom-up clusters using max distance\n",
    "For Further Exploration\n",
    "scikit-learn has an entire module sklearn.cluster that contains several clustering\n",
    "algorithms including KMeans and the Ward hierarchical clustering algorithm (which uses\n",
    "a different criterion for merging clusters than ours did).\n",
    "SciPy has two clustering models scipy.cluster.vq (which does k-means) and\n",
    "scipy.cluster.hierarchy (which has a variety of hierarchical clustering algorithms)."
   ]
  }
 ],
 "metadata": {
  "kernelspec": {
   "display_name": "Python 3",
   "language": "python",
   "name": "python3"
  },
  "language_info": {
   "codemirror_mode": {
    "name": "ipython",
    "version": 3
   },
   "file_extension": ".py",
   "mimetype": "text/x-python",
   "name": "python",
   "nbconvert_exporter": "python",
   "pygments_lexer": "ipython3",
   "version": "3.6.0"
  }
 },
 "nbformat": 4,
 "nbformat_minor": 2
}
