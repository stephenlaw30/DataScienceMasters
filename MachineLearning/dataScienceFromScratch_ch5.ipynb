{
 "cells": [
  {
   "cell_type": "markdown",
   "metadata": {},
   "source": [
    "# Ch5 - Stats\n",
    "\n",
    "**Statistics** = mathematics and techniques with which we understand data, a rich, enormous field\n",
    "\n",
    "Below is just enough to be dangerous.\n",
    "\n",
    "## Describing a Single Set of Data\n",
    "\n",
    "The social network has grown to dozens of members, and VP of Fundraising asks for some sort of description of how many friends the members have such that he can include the info his in elevator pitches.\n",
    "\n",
    "One obvious description of any data set is simply the data itself:"
   ]
  },
  {
   "cell_type": "code",
   "execution_count": 1,
   "metadata": {
    "collapsed": true
   },
   "outputs": [],
   "source": [
    "num_friends = [100,49,41,40,25,21,21,19,19,18,18,16,15,15,15,15,14,14,13,13,13,13,12,12,11,10,10,10,10,10,10,10,10,10,10,10,10,10,10,10,9,9,9,9,9,9,9,9,9,9,9,9,9,9,9,9,9,9,8,8,8,8,8,8,8,8,8,8,8,8,8,7,7,7,7,7,7,7,7,7,7,7,7,7,7,7,6,6,6,6,6,6,6,6,6,6,6,6,6,6,6,6,6,6,6,6,6,6,5,5,5,5,5,5,5,5,5,5,5,5,5,5,5,5,5,4,4,4,4,4,4,4,4,4,4,4,4,4,4,4,4,4,4,4,4,3,3,3,3,3,3,3,3,3,3,3,3,3,3,3,3,3,3,3,3,2,2,2,2,2,2,2,2,2,2,2,2,2,2,2,2,2,1,1,1,1,1,1,1,1,1,1,1,1,1,1,1,1,1,1,1,1,1,1]"
   ]
  },
  {
   "cell_type": "markdown",
   "metadata": {},
   "source": [
    "For a small enough data set this might even be the best description. But for a larger data set, this is unwieldy and opaque. (i.e. staring at a list of 1 million numbers.)\n",
    "\n",
    "For that reason, we use stats to distill + communicate relevant features of the data.\n",
    "\n",
    "A first approach = put friend counts into a histogram using `Counter` + `plt.bar()`"
   ]
  },
  {
   "cell_type": "code",
   "execution_count": 2,
   "metadata": {
    "collapsed": false
   },
   "outputs": [
    {
     "data": {
      "image/png": "[encoded data removed]",
      "text/plain": [
       "<matplotlib.figure.Figure at 0x7f87cc0>"
      ]
     },
     "metadata": {},
     "output_type": "display_data"
    }
   ],
   "source": [
    "%matplotlib inline\n",
    "\n",
    "from collections import Counter\n",
    "from matplotlib import pyplot as plt\n",
    "\n",
    "friend_counts = Counter(num_friends)\n",
    "x_ax = range(101) # largest val = 100\n",
    "y_ax = [friend_counts[x] for x in x_ax] # height = # of friends\n",
    "plt.bar(x_ax,y_ax)\n",
    "plt.axis([0,101, 0,25])\n",
    "plt.title(\"Histogram of Friend Counts\")\n",
    "plt.xlabel(\"Number of Friends\")\n",
    "plt.ylabel(\"Number of People\")\n",
    "plt.show()"
   ]
  },
  {
   "cell_type": "code",
   "execution_count": 3,
   "metadata": {
    "collapsed": false
   },
   "outputs": [
    {
     "name": "stdout",
     "output_type": "stream",
     "text": [
      "204 1 100\n"
     ]
    }
   ],
   "source": [
    "# number of DPs in dataset\n",
    "dps = len(num_friends)\n",
    "\n",
    "# get min and max\n",
    "min_friends = min(num_friends)\n",
    "max_friends = max(num_friends)\n",
    "\n",
    "print(dps,min_friends,max_friends)"
   ]
  },
  {
   "cell_type": "code",
   "execution_count": 4,
   "metadata": {
    "collapsed": false
   },
   "outputs": [
    {
     "name": "stdout",
     "output_type": "stream",
     "text": [
      "204 1 100\n"
     ]
    }
   ],
   "source": [
    "# get min and max via sorting + indices\n",
    "sorted_values = sorted(num_friends)\n",
    "\n",
    "min_friends = sorted_values[0]\n",
    "max_friends = sorted_values[-1]\n",
    "\n",
    "print(dps,min_friends,max_friends)"
   ]
  },
  {
   "cell_type": "code",
   "execution_count": 5,
   "metadata": {
    "collapsed": false
   },
   "outputs": [
    {
     "name": "stdout",
     "output_type": "stream",
     "text": [
      "204 1 49\n"
     ]
    }
   ],
   "source": [
    "# get 2nd smallest and 2nd largest number of friends\n",
    "second_smallest_friends = sorted_values[1]\n",
    "second_largest_friends = sorted_values[-2]\n",
    "\n",
    "print(dps,second_smallest_friends,second_largest_friends)"
   ]
  },
  {
   "cell_type": "markdown",
   "metadata": {},
   "source": [
    "### Central Tendencies\n",
    "\n",
    "One usually want some notion of where the data is centered, typically using the mean"
   ]
  },
  {
   "cell_type": "code",
   "execution_count": 6,
   "metadata": {
    "collapsed": false
   },
   "outputs": [
    {
     "data": {
      "text/plain": [
       "7.333333333333333"
      ]
     },
     "execution_count": 6,
     "metadata": {},
     "output_type": "execute_result"
    }
   ],
   "source": [
    "from __future__ import division # for float point division w/ \"/\", int division w/ \"//\"\n",
    "\n",
    "def mean(x):\n",
    "    \"\"\"x is a vector\"\"\"\n",
    "    return sum(x)/len(x)\n",
    "mean(num_friends)"
   ]
  },
  {
   "cell_type": "markdown",
   "metadata": {},
   "source": [
    "W/ more DP's, the mean shifts around, but it *always* depends on the value of *every* point, meaning it is susceptible to effects from outliers and non-normal distributions.\n",
    "\n",
    "In such a case, we use median = the middle-most value (if # of DP's is odd) or the average of the  middle-most values (if # \n",
    "of DP's is even).\n",
    "\n",
    "For instance, if we have 5 DP's in a sorted vector x, the median is `x[5 // 2]` or `x[2]`. If we have 6 DP's, we want the average of `x[2]` (3rd DP) and `x[3]` (4th DP).\n",
    "\n",
    "Unlike mean — median doesn’t depend on every value in your data. If you make the largest point larger (or smallest point smaller), middle points remain unchanged, so too does the median.\n",
    "\n",
    "The median function is slightly more complicated than expected, mostly because of the “even” case:"
   ]
  },
  {
   "cell_type": "code",
   "execution_count": 7,
   "metadata": {
    "collapsed": false
   },
   "outputs": [
    {
     "data": {
      "text/plain": [
       "6.0"
      ]
     },
     "execution_count": 7,
     "metadata": {},
     "output_type": "execute_result"
    }
   ],
   "source": [
    "def median(x):\n",
    "    \"\"\"x is a vector\"\"\"\n",
    "    n = len(x)\n",
    "    sorted_x = sorted(x)\n",
    "    midpoint = n // 2 # integer division = no remainder, rounded\n",
    "    \n",
    "    # if n = odd, get middle-most value\n",
    "    if n % 2 == 1:\n",
    "        median = x[midpoint]\n",
    "    # if even, get average of 2 middle-most points\n",
    "    else:\n",
    "        mid_low = midpoint - 1\n",
    "        mid_high = midpoint\n",
    "        median = (sorted_x[mid_low] + sorted_x[mid_high]) / 2\n",
    "    return median\n",
    "median(num_friends)"
   ]
  },
  {
   "cell_type": "code",
   "execution_count": 8,
   "metadata": {
    "collapsed": false
   },
   "outputs": [
    {
     "data": {
      "text/plain": [
       "6.0"
      ]
     },
     "execution_count": 8,
     "metadata": {},
     "output_type": "execute_result"
    }
   ],
   "source": [
    "# 2 lines less of code = return within the IF\n",
    "def median2(x):\n",
    "    \"\"\"x is a vector\"\"\"\n",
    "    n = len(x)\n",
    "    sorted_x = sorted(x)\n",
    "    midpoint = n // 2 # integer division = no remainder, rounded\n",
    "    \n",
    "    # if n = odd, get middle-most value\n",
    "    if n % 2 == 1:\n",
    "        return x[midpoint]\n",
    "    # if even, get average of 2 middle-most points\n",
    "    else:\n",
    "        mid_low = midpoint - 1\n",
    "        mid_high = midpoint\n",
    "        return (sorted_x[mid_low] + sorted_x[mid_high]) / 2\n",
    "median2(num_friends)"
   ]
  },
  {
   "cell_type": "markdown",
   "metadata": {},
   "source": [
    "Mean is simpler to compute, and varies smoothly as data changes. If we have `n` DP's and one increases by some small amount , `e`, then, necessarily,  the mean will increase by `e / n`. (makes the mean amenable to all sorts of calculus tricks.)\n",
    "\n",
    "Whereas in order to find the median, we must *sort* our data, and changing a DP by a small amount `e` might increase the median by `e`, by some number less than `e`, or not at all (depending on the rest of the data).\n",
    "\n",
    "*Note*: There are nonobvious tricks to efficiently compute medians without sorting the data (beyond the scope of this book, so we sort the data).\n",
    "\n",
    "But, mean is very sensitive to outliers. If our friendliest user had 200 friends (instead of 100), the mean would rise to 7.82, while the median would stay the same. If outliers are likely to be bad data (or otherwise unrepresentative of whatever phenomenon we’re trying to understand), the mean can sometimes give us a misleading picture. \n",
    "\n",
    "For example, in the mid-1980s, the major at UNC with the highest average starting salary was geography, mostly on account of NBA star (and outlier) Michael Jordan.\n",
    "\n",
    "A generalization of the median is the **quantile**, which represents the value *less* than which a certain percentile of  data lies. (median = the value less than which 50% of the data lies)."
   ]
  },
  {
   "cell_type": "code",
   "execution_count": 9,
   "metadata": {
    "collapsed": false
   },
   "outputs": [
    {
     "name": "stdout",
     "output_type": "stream",
     "text": [
      "13 1 6 3 9\n"
     ]
    }
   ],
   "source": [
    "def quantile(x,p):\n",
    "    \"\"\"x is a vector, p is pth percentile value in x\"\"\"\n",
    "    p_index = int((p/100)*len(x)) # i.e. median = 50th percentile = .5*len(x) = middlemost value\n",
    "    return sorted(x)[p_index] # get the value which pth% of the data is below\n",
    "\n",
    "print(quantile(num_friends,90)\n",
    ",quantile(num_friends,10)\n",
    ",quantile(num_friends,50)\n",
    ",quantile(num_friends,25)\n",
    ",quantile(num_friends,75))"
   ]
  },
  {
   "cell_type": "code",
   "execution_count": 10,
   "metadata": {
    "collapsed": false
   },
   "outputs": [
    {
     "data": {
      "text/plain": [
       "[6, 1]"
      ]
     },
     "execution_count": 10,
     "metadata": {},
     "output_type": "execute_result"
    }
   ],
   "source": [
    "# most common value\n",
    "def mode(x):\n",
    "    \"\"\"returns a list as there may be > 1 mode\"\"\"\n",
    "    counts = Counter(x) # enumerable with counts of value in x\n",
    "    max_count = max(counts.values())\n",
    "    # get the index for the max count value\n",
    "    return [xi for xi, count in counts.items()\n",
    "           if count == max_count] # .iteritems() in Python2.7\n",
    "\n",
    "mode(num_friends)"
   ]
  },
  {
   "cell_type": "markdown",
   "metadata": {},
   "source": [
    "### Dispersion\n",
    "This refers to measures of how spread out our data is. Typically, they’re statistics for which values near zero signify *not spread out at all* and for which large values signify *very spread out*.\n",
    "\n",
    "Very simple measure = range == difference between the largest and smallest elements:"
   ]
  },
  {
   "cell_type": "code",
   "execution_count": 11,
   "metadata": {
    "collapsed": false
   },
   "outputs": [
    {
     "data": {
      "text/plain": [
       "99"
      ]
     },
     "execution_count": 11,
     "metadata": {},
     "output_type": "execute_result"
    }
   ],
   "source": [
    "def data_range(x):\n",
    "    return max(x) - min(x)\n",
    "data_range(num_friends)"
   ]
  },
  {
   "cell_type": "markdown",
   "metadata": {},
   "source": [
    "The range = 0 when max and min are equal, which can only happen if all elements of x are all the same, which means the data is as undispersed as possible. Conversely, if range is large, the max is much larger than the min and the data is more spread out.\n",
    "\n",
    "Like the median, the range doesn’t really depend on the whole data set. A data set whose points are all either 0 or 100 has the same range as a data set whose values are 0, 100, and lots of 50's. But it seems like the first data set “should” be more spread out.\n",
    "\n",
    "A more complex measure of dispersion = the **variance**, which is computed as:"
   ]
  },
  {
   "cell_type": "code",
   "execution_count": 12,
   "metadata": {
    "collapsed": false
   },
   "outputs": [
    {
     "data": {
      "text/plain": [
       "81.54351395730716"
      ]
     },
     "execution_count": 12,
     "metadata": {},
     "output_type": "execute_result"
    }
   ],
   "source": [
    "def normalize_mean(x):\n",
    "    \"\"\"Transform x by subtracting the mean from each\n",
    "    data point so that the resulting vector has mean = 0\"\"\"\n",
    "    x_bar = mean(x)\n",
    "    return [x_i - x_bar for x_i in x]\n",
    "\n",
    "def dot_prod(v,w):\n",
    "    # for each component in vectors the zip list, multiply it by the\n",
    "    # corresponding-indexed element in the other vectors in the zipped list\n",
    "    return sum(v_i*w_i           \n",
    "              for v_i,w_i in zip(v,w))\n",
    "\n",
    "## use dot product to easily compute SUM OF SQUARES of a vector\n",
    "def sum_of_squares(v):\n",
    "    \"\"\"v1*v1 + ... + vn*vn\"\"\"\n",
    "    return dot_prod(v,v)\n",
    "\n",
    "def variance(x):\n",
    "    \"\"\"Assuming x has at least 2 elements\"\"\"\n",
    "    n = len(x)\n",
    "    deviations = normalize_mean(x)\n",
    "    return sum_of_squares(deviations) / (n-1)\n",
    "\n",
    "variance(num_friends)"
   ]
  },
  {
   "cell_type": "markdown",
   "metadata": {
    "collapsed": true
   },
   "source": [
    "This is *almost* the average squared deviation from the mean, except we’re dividing by n-1 not n. When dealing with a sample from a larger population, `x_bar` is only an estimate of the population mean, which means that, on average `(x_i - x_bar)**2` is an *underestimate* of `x_i`’s squared deviation from the mean, which is why we divide by n-1 instead of n.\n",
    "\n",
    "Variance has units that are the *square* of the original units (e.g., “friends squared. This is hard to interpret, so we often look instead at the standard deviation:"
   ]
  },
  {
   "cell_type": "code",
   "execution_count": 14,
   "metadata": {
    "collapsed": false
   },
   "outputs": [
    {
     "data": {
      "text/plain": [
       "9.03014473623248"
      ]
     },
     "execution_count": 14,
     "metadata": {},
     "output_type": "execute_result"
    }
   ],
   "source": [
    "def stddev(x):\n",
    "    from math import sqrt\n",
    "    return sqrt(variance(x))\n",
    "\n",
    "stddev(num_friends)"
   ]
  },
  {
   "cell_type": "markdown",
   "metadata": {
    "collapsed": true
   },
   "source": [
    "Both range and SD are affected by outliers. If our friendliest user had instead 200 friends, SD would be 14.89, more than 60% higher! A more robust alternative is IQR"
   ]
  },
  {
   "cell_type": "code",
   "execution_count": 15,
   "metadata": {
    "collapsed": false
   },
   "outputs": [
    {
     "data": {
      "text/plain": [
       "6"
      ]
     },
     "execution_count": 15,
     "metadata": {},
     "output_type": "execute_result"
    }
   ],
   "source": [
    "def quantile(x,p):\n",
    "    \"\"\"x is a vector, p is pth percentile value in x\"\"\"\n",
    "    p_index = int((p/100)*len(x)) # i.e. median = 50th percentile = .5*len(x) = middlemost value\n",
    "    return sorted(x)[p_index] # get the value which pth% of the data is below\n",
    "\n",
    "def iqr(x):\n",
    "    return quantile(x,75)-quantile(x,25)\n",
    "\n",
    "iqr(num_friends)"
   ]
  },
  {
   "cell_type": "markdown",
   "metadata": {},
   "source": [
    "## Correlation\n",
    "\n",
    "VP of Growth has a theory that the amount of time people spend on the site is related to number of friends they have, and we must verify this.\n",
    "\n",
    "After digging through traffic logs, we get a list `daily_minutes` that shows\n",
    "how many minutes per day each user spends on the site, and we’ve ordered it so\n",
    "that its elements correspond to the elements of our previous `num_friends` list. \n",
    "\n",
    "We’d like to investigate the relationship between these 2 metrics, first looking at **covariance**, the paired analogue of variance. Whereas variance\n",
    "measures how a *single* variable deviates from its mean, **covariance** measures how 2 variables vary *in tandem* from their means:"
   ]
  },
  {
   "cell_type": "code",
   "execution_count": 17,
   "metadata": {
    "collapsed": false
   },
   "outputs": [
    {
     "data": {
      "text/plain": [
       "22.425435139573064"
      ]
     },
     "execution_count": 17,
     "metadata": {},
     "output_type": "execute_result"
    }
   ],
   "source": [
    "daily_minutes = [1,68.77,51.25,52.08,38.36,44.54,57.13,51.4,41.42,31.22,34.76,54.01,38.79,47.59,49.1,27.66,41.03,36.73,48.65,28.12,46.62,35.57,32.98,35,26.07,23.77,39.73,40.57,31.65,31.21,36.32,20.45,21.93,26.02,27.34,23.49,46.94,30.5,33.8,24.23,21.4,27.94,32.24,40.57,25.07,19.42,22.39,18.42,46.96,23.72,26.41,26.97,36.76,40.32,35.02,29.47,30.2,31,38.11,38.18,36.31,21.03,30.86,36.07,28.66,29.08,37.28,15.28,24.17,22.31,30.17,25.53,19.85,35.37,44.6,17.23,13.47,26.33,35.02,32.09,24.81,19.33,28.77,24.26,31.98,25.73,24.86,16.28,34.51,15.23,39.72,40.8,26.06,35.76,34.76,16.13,44.04,18.03,19.65,32.62,35.59,39.43,14.18,35.24,40.13,41.82,35.45,36.07,43.67,24.61,20.9,21.9,18.79,27.61,27.21,26.61,29.77,20.59,27.53,13.82,33.2,25,33.1,36.65,18.63,14.87,22.2,36.81,25.53,24.62,26.25,18.21,28.08,19.42,29.79,32.8,35.99,28.32,27.79,35.88,29.06,36.28,14.1,36.63,37.49,26.9,18.58,38.48,24.48,18.95,33.55,14.24,29.04,32.51,25.63,22.22,19,32.73,15.16,13.9,27.2,32.01,29.27,33,13.74,20.42,27.32,18.23,35.35,28.48,9.08,24.62,20.12,35.26,19.92,31.02,16.49,12.16,30.7,31.22,34.65,13.13,27.51,33.2,31.57,14.1,33.42,17.44,10.12,24.42,9.82,23.39,30.93,15.03,21.67,31.09,33.29,22.61,26.89,23.48,8.38,27.81,32.35,23.84]\n",
    "\n",
    "def dot_prod(v,w):\n",
    "    # for each component in vectors the zip list, multiply it by the\n",
    "    # corresponding-indexed element in the other vectors in the zipped list\n",
    "    return sum(v_i*w_i           \n",
    "              for v_i,w_i in zip(v,w))\n",
    "\n",
    "def normalize_mean(x):\n",
    "    \"\"\"Transform x by subtracting the mean from each\n",
    "    data point so that the resulting vector has mean = 0\"\"\"\n",
    "    x_bar = mean(x)\n",
    "    return [x_i - x_bar for x_i in x]\n",
    "\n",
    "def covariance(x,y):\n",
    "    n = len(x)\n",
    "    return dot_prod(normalize_mean(x),normalize_mean(y)) / (n-1)\n",
    "\n",
    "covariance(num_friends,daily_minutes)"
   ]
  },
  {
   "cell_type": "markdown",
   "metadata": {},
   "source": [
    "When corresponding elements of `x` and `y` are either both above or both below their means, a positive number enters the sum. When one is above its mean and the other below, a negative number enters the sum. \n",
    "\n",
    "So, a “large” positive covariance = x tends to be large when y is large and small when y is small. A “large” negative covariance means the opposite = x tends to be small when y is large and vice versa. Covariance close to 0 means no such relationship exists.\n",
    "\n",
    "Nonetheless, this number can be hard to interpret, for a couple of reasons:\n",
    "* Its units = the product of the inputs’ units (e.g., friend-minutes-per-day), which can be hard to make sense of.\n",
    "* If each user had 2X as many friends (but same number of minutes), the covariance would be twice as large. *But, in a sense the variables would be just as interrelated*. Said differently, *it’s hard to say what counts as a “large” covariance.*\n",
    "\n",
    "For this reason, it’s more common to look at the **correlation**, which divides out the standard deviations of both variables:"
   ]
  },
  {
   "cell_type": "code",
   "execution_count": 19,
   "metadata": {
    "collapsed": false
   },
   "outputs": [
    {
     "data": {
      "text/plain": [
       "0.24736957366478218"
      ]
     },
     "execution_count": 19,
     "metadata": {},
     "output_type": "execute_result"
    }
   ],
   "source": [
    "def correlation(x,y):\n",
    "    sd_x = stddev(x)\n",
    "    sd_y = stddev(y)\n",
    "    \n",
    "    if sd_x > 0 and sd_y > 0:\n",
    "        return covariance(x,y) / sd_x / sd_y\n",
    "    else:\n",
    "        return 0 # if there's no variation, there's no correlation\n",
    "    \n",
    "correlation(num_friends,daily_minutes)"
   ]
  },
  {
   "cell_type": "markdown",
   "metadata": {},
   "source": [
    "Correlation is unitless and always lies between -1 (perfect anti-correlation) and 1 (perfect correlation). A number like 0.25 represents a relatively weak positive correlation.\n",
    "\n",
    "However, one thing we neglected to do was examine our data."
   ]
  },
  {
   "cell_type": "code",
   "execution_count": 21,
   "metadata": {
    "collapsed": false
   },
   "outputs": [
    {
     "data": {
      "image/png": "[encoded data removed]",
      "text/plain": [
       "<matplotlib.figure.Figure at 0x86af898>"
      ]
     },
     "metadata": {},
     "output_type": "display_data"
    }
   ],
   "source": [
    "%matplotlib inline\n",
    "\n",
    "from matplotlib import pyplot as plt\n",
    "\n",
    "# minutes vs. friends\n",
    "plt.scatter(num_friends,daily_minutes)\n",
    "plt.title(\"Correlation with an Outlier\")\n",
    "plt.xlabel(\"Number of Friends\")\n",
    "plt.ylabel(\"Daily Minutes Spend on Site Per Day\")\n",
    "plt.show()"
   ]
  },
  {
   "cell_type": "markdown",
   "metadata": {},
   "source": [
    "The person with 100 friends (who spends only one minute per day on the site) is a huge outlier, and **correlation can be very sensitive to outliers**. What happens if we ignore him?"
   ]
  },
  {
   "cell_type": "code",
   "execution_count": 25,
   "metadata": {
    "collapsed": false
   },
   "outputs": [
    {
     "data": {
      "image/png": "[encoded data removed]",
      "text/plain": [
       "<matplotlib.figure.Figure at 0x87cd710>"
      ]
     },
     "metadata": {},
     "output_type": "display_data"
    },
    {
     "name": "stdout",
     "output_type": "stream",
     "text": [
      "0.5736792115665573\n"
     ]
    }
   ],
   "source": [
    "outlier = num_friends.index(100)\n",
    "\n",
    "# get number of friends values, ignoring index of outlier user\n",
    "num_friends_good = [x\n",
    "                   for i,x in enumerate(num_friends)\n",
    "                   if i!= outlier]\n",
    "\n",
    "# get number of minutes values, ignoring index of outlier user\n",
    "num_minutes_good = [x\n",
    "                   for i,x in enumerate(daily_minutes)\n",
    "                   if i!= outlier]\n",
    "\n",
    "plt.scatter(num_friends_good,num_minutes_good)\n",
    "plt.title(\"Correlation with an Outlier\")\n",
    "plt.xlabel(\"Number of Friends\")\n",
    "plt.ylabel(\"Daily Minutes Spend on Site Per Day\")\n",
    "plt.show()\n",
    "print(correlation(num_friends_good,num_minutes_good))\n",
    "# = .57 ==> Without the outlier, there is a much stronger correlation"
   ]
  },
  {
   "cell_type": "markdown",
   "metadata": {},
   "source": [
    "Investigating further, we discover the outlier was actually an internal test account that no one ever bothered to remove, so it's justified in excluding it."
   ]
  },
  {
   "cell_type": "markdown",
   "metadata": {},
   "source": [
    "## Simpson’s Paradox\n",
    "\n",
    "One *not* uncommon surprise when analyzing data is **Simpson’s Paradox**, in which correlations can be misleading **when confounding variables are ignored.**\n",
    "\n",
    "Imagine that you can ID all members as either `East Coast` data scientists or `West Coast` data scientists. You decide to examine which coast’s data scientists are friendlier.\n",
    "\n",
    "West Coast has 101 members with an average # of friends of 8.2. East Coast has 106 members with an average # of friends of 6.5.\n",
    "\n",
    "It certainly looks like the West Coast is friendlier than the East Coast. Coworkers advance all sorts of theories as to why this might be: the sun, the coffee, the organic produce, or the laid-back Pacific vibe?\n",
    "\n",
    "BUT, if you only look at people with PhDs, East Coast has more friends on average (70 members, 3.2 friends vs. West = 35 members, 3.1 friends). And if you only look at people without PhDs, East Coast *again* has more friends on average (33 members, 13.4 friends vs. West = 66 members, 10.9 friends)!\n",
    "\n",
    "*Once you account for degrees, the correlation goes in the opposite direction!*\n",
    "\n",
    "Bucketing data as East Coast/West Coast disguised the fact that the East Coast data scientists skew much more heavily toward PhD types. \n",
    "\n",
    "This phenomenon crops up in the real world with some regularity. The key issue is that correlation is measuring the relationship between your 2 variables *all else being equal*. If data classes are assigned at random (as they might be in a well-designed experiment,) “all else being equal” might not be a terrible assumption. But when there is a deeper pattern to class assignments, “all else being equal” can be an awful assumption.\n",
    "\n",
    "The only real way to avoid this is by *knowing your data* and by doing what you can to make sure you’ve checked for possible confounding factors. This is not always possible. If you didn’t have the educational attainment of these 200 data scientists, you might simply conclude that there was something inherently more sociable about the West Coast.\n",
    "\n",
    "## Some Other Correlational Caveats\n",
    "A correlation of 0 indicates there's no *linear* relationship between 2 variables. However, there *may* be other sorts of relationships. For example, if:"
   ]
  },
  {
   "cell_type": "code",
   "execution_count": 28,
   "metadata": {
    "collapsed": false
   },
   "outputs": [
    {
     "data": {
      "text/plain": [
       "0.0"
      ]
     },
     "execution_count": 28,
     "metadata": {},
     "output_type": "execute_result"
    }
   ],
   "source": [
    "x = [-2, -1, 0, 1, 2]\n",
    "y = [ 2, 1, 0, 1, 2]\n",
    "correlation(x,y)"
   ]
  },
  {
   "cell_type": "markdown",
   "metadata": {},
   "source": [
    "hen x and y have 0 correlation, but they certainly have a relationship — each element of `y` = absolute value of the corresponding element of `x`. What they *don’t* have is a relationship in which knowing how `x_i` compares to `mean(x)` gives us info about how `y_i` compares to `mean(y)`, which is the sort of relationship that correlation looks for.\n",
    "\n",
    "In addition, correlation tells you nothing about how *large* the relationship is. Variables:"
   ]
  },
  {
   "cell_type": "code",
   "execution_count": 29,
   "metadata": {
    "collapsed": false
   },
   "outputs": [
    {
     "data": {
      "text/plain": [
       "0.8340576562281805"
      ]
     },
     "execution_count": 29,
     "metadata": {},
     "output_type": "execute_result"
    }
   ],
   "source": [
    "x = [-2, 1, 0, 1, 2]\n",
    "y = [99.98, 99.99, 100, 100.01, 100.02]\n",
    "correlation(x,y)"
   ]
  },
  {
   "cell_type": "markdown",
   "metadata": {},
   "source": [
    "are almost perfectly correlated, but (depending on what you’re measuring) it’s quite possible that this relationship isn’t all that interesting.\n",
    "\n",
    "## Correlation and Causation\n",
    "\n",
    "If x and y are strongly correlated, that *might* mean \"x causes y\", that \"y causes x\", that each causes the other, that some 3rd factor causes both, *or it might mean nothing*.\n",
    "\n",
    "Consider the relationship between `num_friends` and `daily_minutes`. It’s possible that having more friends on the site causes users to spend more time on the site. This might be the case if each friend posts a certain amount of content each day, which means the more friends you have, the more time it takes to stay current with their updates.\n",
    "\n",
    "However, it’s also possible that the more time you spend arguing in the forums, the more you encounter and befriend like-minded people. That is, spending more time on the site causes users to have more friends.\n",
    "\n",
    "A third possibility is users who are most passionate about data science spend more time on the site (b/c they find it more interesting) and more actively collect data science friends (b/c they don’t want to associate with anyone else).\n",
    "\n",
    "One way to feel more confident about **causality** is by conducting **randomized trials**. If you can randomly split users into 2 groups with similar demographics and give 1 group a slightly different experience, you can often feel pretty good that the different experiences are causing the different outcomes.\n",
    "\n",
    "For instance, you could randomly choose a subset of users and show them content from only a fraction of their friends. If this subset subsequently spent less time on the site, this would give you some confidence that having more friends causes more time on the site.\n",
    "\n",
    "## For Further Exploration\n",
    "\n",
    "**SciPy**,**pandas**, and **StatsModels** all come with a wide variety of statistical functions.\n",
    "\n",
    "Many statistics textbooks are freely available online: **OpenIntro Statistics**, and **OpenStax Introductory Statistics**"
   ]
  }
 ],
 "metadata": {
  "kernelspec": {
   "display_name": "Python 3",
   "language": "python",
   "name": "python3"
  },
  "language_info": {
   "codemirror_mode": {
    "name": "ipython",
    "version": 3
   },
   "file_extension": ".py",
   "mimetype": "text/x-python",
   "name": "python",
   "nbconvert_exporter": "python",
   "pygments_lexer": "ipython3",
   "version": "3.6.0"
  }
 },
 "nbformat": 4,
 "nbformat_minor": 2
}
