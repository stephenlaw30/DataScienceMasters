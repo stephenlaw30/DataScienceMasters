{
 "cells": [
  {
   "cell_type": "markdown",
   "metadata": {},
   "source": [
    "# Ch7 - Hypothesis and Inference\n",
    "\n",
    "The *science* part of data science frequently involves forming and testing hypotheses about data and the processes that generate it.\n",
    "\n",
    "## Statistical Hypothesis Testing\n",
    "\n",
    "Often we want to test whether a certain hypothesis (assertions like “this coin is fair” or “data scientists prefer Python to R” that can be translated into statistics about data) is likely to be true. \n",
    "\n",
    "*Under various assumptions*, those statistics can be thought of as **observations of random variables from known distributions**, which allows us to make statements about how likely those assumptions are to hold.\n",
    "\n",
    "In the classical setup, we have a null hypothesis `H0` that represents some default position, and some alternative hypothesis `H1` that we’d like to compare it with, and we use statistics to decide whether we can reject `H0` as false or not, or fail to reject `H0`.\n",
    "\n",
    "#### Example: Flipping a Coin\n",
    "Imagine we have a coin to test if it’s fair. Make the assumption\n",
    "that the coin has some probability p of landing heads, so our `H0` = the\n",
    "coin is fair — that is, that `p = .5` . We’ll test this against the alternative hypothesis, `p != .5`\n",
    "\n",
    "In particular, our test will involve flipping the coin some number `n` times and counting the number of heads `X`. *Each coin flip is a Bernoulli trial*, which means that `X` = a *Binomial(n,p) random variable*, which we can approximate using the Gaussian distribution:\n",
    "\n"
   ]
  },
  {
   "cell_type": "code",
   "execution_count": 1,
   "metadata": {
    "collapsed": false
   },
   "outputs": [
    {
     "name": "stdout",
     "output_type": "stream",
     "text": [
      "(5000.0, 50.0)\n",
      "(8000.0, 39.99999999999999)\n",
      "(2000.0, 40.0)\n"
     ]
    }
   ],
   "source": [
    "import math\n",
    "\n",
    "def normal_approx_to_binomial(n,p):\n",
    "    \"\"\"Find mu and sigma corresponding to \n",
    "    a Binomial(n,p) random variable\"\"\"\n",
    "    mu = n*p\n",
    "    sigma = math.sqrt(n*p*(1-p))\n",
    "    return mu, sigma\n",
    "\n",
    "print(normal_approx_to_binomial(10000,.5))\n",
    "print(normal_approx_to_binomial(10000,.8))\n",
    "print(normal_approx_to_binomial(10000,.2))"
   ]
  },
  {
   "cell_type": "markdown",
   "metadata": {},
   "source": [
    "Whenever a random variable follows a normal distribution, we can use `normal_cdf()` to figure out the probability its realized value lies within (or outside) a particular interval:"
   ]
  },
  {
   "cell_type": "code",
   "execution_count": 2,
   "metadata": {
    "collapsed": true
   },
   "outputs": [],
   "source": [
    "## Normal/Gaussian CDF = probability the variable is BELOW a threshold\n",
    "def normal_cdf(x,mu=0,sigma=1):\n",
    "    return (1+math.erf((x-mu)/math.sqrt(2)/sigma))/2\n",
    "normal_prob_below = normal_cdf\n",
    "\n",
    "# it is ABOVE threshold if it's NOT BELOW threshold\n",
    "def normal_prob_above(lo,mu=0,sigma=1):\n",
    "    return 1 - normal_cdf(lo,mu,sigma)\n",
    "\n",
    "# it is WITHIN if it's LESS THAN HI + MORE THAN LO\n",
    "def normal_prob_between(lo,hi,mu=0,sigma=1):\n",
    "    return normal_cdf(hi,mu,sigma) - normal_cdf(lo,mu,sigma)\n",
    "\n",
    "# it is OUTSIDE if it's BETWEEN HI AND LOW\n",
    "def normal_prob_outside(lo,hi,mu=0,sigma=1):\n",
    "    return 1 - normal_prob_between(lo,hi,mu,sigma)"
   ]
  },
  {
   "cell_type": "markdown",
   "metadata": {},
   "source": [
    "We can also do the reverse == *find either the nontail region or the (symmetric) interval around the mean that accounts for a certain level of likelihood*. \n",
    "\n",
    "For example, to find an interval centered at the mean + containing 60% probability, then we find the cutoffs where the upper and lower tails each contain 20% of the probability (leaving 60%):"
   ]
  },
  {
   "cell_type": "code",
   "execution_count": 3,
   "metadata": {
    "collapsed": true
   },
   "outputs": [],
   "source": [
    "def inverse_normal_cdf(p,mu=0,sigma=1,tolerance=.00001):\n",
    "    \"\"\"Find the approximate inverse using binary search\"\"\"\n",
    "    \n",
    "    # if not standard, standardize and re-scale\n",
    "    if mu != 0 or sigma != 1:\n",
    "        return mu + sigma*inverse_normal_cdf(p,tolerance=tolerance)\n",
    "    \n",
    "    low_z, low_p = -10.0, 0  # normal_cdf(-10) = very close to 0\n",
    "    hi_z, hi_p = 10.0, 1     # normal_cdf(10) = very close to 1\n",
    "    \n",
    "    while hi_z - low_z > tolerance: \n",
    "        mid_z = (low_z + hi_z) / 2 # consider midpoint\n",
    "        mid_p = normal_cdf(mid_z)  # and the CDF's value there\n",
    "        \n",
    "        if mid_p < p:\n",
    "            # if midpoint is still too low, search above it\n",
    "            low_z, low_p = mid_z, mid_p\n",
    "        elif mid_p > p:\n",
    "            # if midpoint is still too high, search below it\n",
    "            hi_z, hi_p = mid_z, mid_p \n",
    "        else:\n",
    "            break\n",
    "    \n",
    "    return mid_z\n",
    "\n",
    "def normal_upper_bound(p,mu=0,sigma=1):\n",
    "    \"\"\"Return the z for which P(Z <= z) = given p\"\"\"\n",
    "    return inverse_normal_cdf(p,mu,sigma)\n",
    "\n",
    "def normal_lower_bound(p,mu=0,sigma=1):\n",
    "    \"\"\"Return the z for which P(Z >= z) = given p\"\"\"\n",
    "    return inverse_normal_cdf(1-p,mu,sigma)\n",
    "\n",
    "def normal_two_sided_bounds(p,mu=0,sigma=1):\n",
    "    \"\"\"Returns symmetric (about the mean) interval\n",
    "    that contains given p\"\"\"\n",
    "    tail_probability = (1-p)/2\n",
    "    \n",
    "    # upper bound = tail probability value above it\n",
    "    upper_bound = normal_lower_bound(tail_probability,mu,sigma)\n",
    "    \n",
    "    # lower bound = tail probability value below it\n",
    "    lower_bound = normal_upper_bound(tail_probability,mu,sigma)\n",
    "    \n",
    "    return lower_bound,upper_bound"
   ]
  },
  {
   "cell_type": "markdown",
   "metadata": {},
   "source": [
    "Let's say we choose to flip `n=100` times. If `H0` is true, then `X` should be distributed approximately normally with mean 50 and SD 15.8"
   ]
  },
  {
   "cell_type": "code",
   "execution_count": 4,
   "metadata": {
    "collapsed": false
   },
   "outputs": [
    {
     "name": "stdout",
     "output_type": "stream",
     "text": [
      "500.0 15.811388300841896\n"
     ]
    }
   ],
   "source": [
    "mu_0, sigma_0 = normal_approx_to_binomial(1000,.5)\n",
    "print(mu_0, sigma_0)"
   ]
  },
  {
   "cell_type": "markdown",
   "metadata": {},
   "source": [
    "Now, we need to make a decision about **significance** — how willing we are to make a **type 1 error (“false positive”, or FP)**, in which we reject `H0` even though it’s true. This willingness is often set at 5% or 1%.\n",
    "\n",
    "Consider the test that rejects if X falls outside the bounds given by:"
   ]
  },
  {
   "cell_type": "code",
   "execution_count": 5,
   "metadata": {
    "collapsed": false
   },
   "outputs": [
    {
     "data": {
      "text/plain": [
       "(469.01026640487555, 530.9897335951244)"
      ]
     },
     "execution_count": 5,
     "metadata": {},
     "output_type": "execute_result"
    }
   ],
   "source": [
    "# 5% significance level\n",
    "normal_two_sided_bounds(.95,mu_0,sigma_0)"
   ]
  },
  {
   "cell_type": "markdown",
   "metadata": {},
   "source": [
    "Assuming `p` *really* equals 0.5 (i.e., `H0` is true), there is just a 5% chance we observe an `X` that lies outside this interval, `(469,531)`, which is the *exact* significance we wanted. \n",
    "\n",
    "Said differently, if `H0` is true, then, approximately 19 times out of 20, this test will give the correct result.\n",
    "\n",
    "We are also often interested in **power** of a test = **the probability of not making a type 2 error (\"false negative\", or FN) = fail to reject `H0` even though it’s false**. \n",
    "\n",
    "To measure this, we must specify *exactly* what \"`H0` being false\" means. (merely knowing p is *not* 0.5 doesn’t give a ton of info about the distribution of `X`). \n",
    "\n",
    "In particular, let’s check what happens if p is *actually* 0.55, so that the coin is slightly biased toward heads. In that case, we can calculate the power of the test with:"
   ]
  },
  {
   "cell_type": "code",
   "execution_count": 6,
   "metadata": {
    "collapsed": false
   },
   "outputs": [
    {
     "name": "stdout",
     "output_type": "stream",
     "text": [
      "0.886548001295367\n"
     ]
    }
   ],
   "source": [
    "# 95% bounds based on assumption that p=.5 (coin is fair)\n",
    "lo,hi = normal_two_sided_bounds(.95,mu_0,sigma_0)\n",
    "\n",
    "# actual mu + sigma based on p=.55\n",
    "mu_1, sigma_1 = normal_approx_to_binomial(1000,.55)\n",
    "\n",
    "# Type II Error (FN) = fail to reject H0 when it is indeed false\n",
    "# Occurs when random variable X is still in the original interval\n",
    "type_2_probability = normal_prob_between(lo,hi,mu_1,sigma_1)\n",
    "\n",
    "power = 1 - type_2_probability\n",
    "print(power)"
   ]
  },
  {
   "cell_type": "markdown",
   "metadata": {},
   "source": [
    "Imagine instead that `H0` was that the coin is *not* biased toward heads, or that `p<=.5`. In that case we want a *one-sided test* that rejects  when X is much larger than 50, but *not* when X is smaller than 50. \n",
    "\n",
    "So a 5%-significance test involves using `normal_probability_below` to find the cutoff below which 95% of the probability lies:"
   ]
  },
  {
   "cell_type": "code",
   "execution_count": 7,
   "metadata": {
    "collapsed": false
   },
   "outputs": [
    {
     "name": "stdout",
     "output_type": "stream",
     "text": [
      "526.0073585242053\n"
     ]
    }
   ],
   "source": [
    "hi = normal_upper_bound(.95,mu_0,sigma_0)\n",
    "print(hi)"
   ]
  },
  {
   "cell_type": "markdown",
   "metadata": {},
   "source": [
    "This value of 526 is less than 531 (upper bound of the interval, since we need more probability in the upper tail))"
   ]
  },
  {
   "cell_type": "code",
   "execution_count": 8,
   "metadata": {
    "collapsed": false
   },
   "outputs": [
    {
     "name": "stdout",
     "output_type": "stream",
     "text": [
      "0.9363794803307173\n"
     ]
    }
   ],
   "source": [
    "type_2_probability = normal_prob_below(hi,mu_1,sigma_1)\n",
    "power = 1-type_2_probability\n",
    "print(power)"
   ]
  },
  {
   "cell_type": "markdown",
   "metadata": {},
   "source": [
    "This is a more powerful test, since it no longer rejects `H0` when X is below 469 (very unlikely to happen if `H0` is true) and instead rejects when X is between 526 and 531 (somewhat likely to happen if `H0` is true). \n",
    "\n",
    "### p-values\n",
    "\n",
    "An alternative way of thinking about the preceding test involves **p-values**. Instead of choosing bounds based on some probability cutoff, we compute the probability (assuming `H0` is true) that we'd see a value at *least as extreme* as the one actually observed.\n",
    "\n",
    "For our two-sided test of whether the coin is fair,  compute:"
   ]
  },
  {
   "cell_type": "code",
   "execution_count": 9,
   "metadata": {
    "collapsed": true
   },
   "outputs": [],
   "source": [
    "def two_sided_p_val(x,mu=0,sigma=1):\n",
    "    # if observed value > mean, the tail is what's GREATER than x\n",
    "    if x >= mu:\n",
    "        return 2*normal_prob_above(x,mu,sigma)\n",
    "    # if observed value < mean, the tail is what's LESS than x\n",
    "    else:\n",
    "        return 2*normal_prob_below(x,mu,sigma)"
   ]
  },
  {
   "cell_type": "markdown",
   "metadata": {},
   "source": [
    "If we sat 530 heads in 100 flips, compute"
   ]
  },
  {
   "cell_type": "code",
   "execution_count": 10,
   "metadata": {
    "collapsed": false
   },
   "outputs": [
    {
     "name": "stdout",
     "output_type": "stream",
     "text": [
      "500.0 15.811388300841896\n",
      "0.05777957112359733\n"
     ]
    }
   ],
   "source": [
    "mu_0, sigma_0 = normal_approx_to_binomial(1000,.5)\n",
    "print(mu_0, sigma_0)\n",
    "\n",
    "print(two_sided_p_val(530,mu_0,sigma_0))"
   ]
  },
  {
   "cell_type": "code",
   "execution_count": 11,
   "metadata": {
    "collapsed": false
   },
   "outputs": [
    {
     "name": "stdout",
     "output_type": "stream",
     "text": [
      "500.0 15.811388300841896\n",
      "0.06207721579598857\n"
     ]
    }
   ],
   "source": [
    "mu_0, sigma_0 = normal_approx_to_binomial(1000,.5)\n",
    "print(mu_0, sigma_0)\n",
    "\n",
    "print(two_sided_p_val(529.5,mu_0,sigma_0))"
   ]
  },
  {
   "cell_type": "markdown",
   "metadata": {},
   "source": [
    "* Using `529.5` instead of `530` = a **continuity correction**, which reflects the fact that `normal_probability_between(529.5,530.5,mu_0,sigma_0)` is a better estimate of the probability of seeing 530 heads than `normal_probability_between(530, 531, mu_0, sigma_0)` is.\n",
    "\n",
    "* Correspondingly, `normal_probability_above(529.5,mu_0,sigma_0)` is a better estimate of the probability of seeing at least 530 heads.\n",
    "\n",
    "One way to convince yourself this is a sensible estimate is with a simulation:"
   ]
  },
  {
   "cell_type": "code",
   "execution_count": 12,
   "metadata": {
    "collapsed": false
   },
   "outputs": [
    {
     "name": "stdout",
     "output_type": "stream",
     "text": [
      "0.06237\n"
     ]
    }
   ],
   "source": [
    "import random\n",
    "\n",
    "extreme_value_count = 0\n",
    "for _ in range(100000):\n",
    "    # count heads in 1000 flips\n",
    "    num_heads = sum(1 if random.random() < .5 else 0\n",
    "                   for _ in range(1000))\n",
    "    \n",
    "    # count how often this value is at least \"extreme\"\n",
    "    if num_heads >= 530 or num_heads <= 470:\n",
    "        extreme_value_count += 1\n",
    "    \n",
    "print(extreme_value_count/100000)    "
   ]
  },
  {
   "cell_type": "markdown",
   "metadata": {},
   "source": [
    "Since this p-value > .05 and therefore > our 5% significance, we do NOT reject `H0`. If instead we saw 532 heads:"
   ]
  },
  {
   "cell_type": "code",
   "execution_count": 13,
   "metadata": {
    "collapsed": false
   },
   "outputs": [
    {
     "name": "stdout",
     "output_type": "stream",
     "text": [
      "0.046345287837786575\n"
     ]
    }
   ],
   "source": [
    "print(two_sided_p_val(531.5,mu_0,sigma_0))"
   ]
  },
  {
   "cell_type": "markdown",
   "metadata": {},
   "source": [
    "Now we CAN reject `H0`. This is the exact same test as before, just a different way of approaching the statistics.\n",
    "\n",
    "Similarly, we'd have:"
   ]
  },
  {
   "cell_type": "code",
   "execution_count": 14,
   "metadata": {
    "collapsed": true
   },
   "outputs": [],
   "source": [
    "upper_p_value = normal_prob_above\n",
    "lower_p_value = normal_prob_below"
   ]
  },
  {
   "cell_type": "markdown",
   "metadata": {},
   "source": [
    "For our one-sided test, if we saw 525 heads vs. 527 heads:"
   ]
  },
  {
   "cell_type": "code",
   "execution_count": 15,
   "metadata": {
    "collapsed": false
   },
   "outputs": [
    {
     "name": "stdout",
     "output_type": "stream",
     "text": [
      "0.06062885772582083\n",
      "0.04686839508859242\n"
     ]
    }
   ],
   "source": [
    "print(upper_p_value(524.5, mu_0, sigma_0))\n",
    "print(upper_p_value(526.5, mu_0, sigma_0))"
   ]
  },
  {
   "cell_type": "markdown",
   "metadata": {},
   "source": [
    "we'd fail to reject and then reject, respectively."
   ]
  },
  {
   "cell_type": "markdown",
   "metadata": {},
   "source": [
    "### WARNING\n",
    "\n",
    "Make sure the data is roughly normally distributed before using `normal_probability_above` to compute p-values. The annals of bad data science are filled with examples of people opining that the chance of some\n",
    "observed event occurring at random is one in a million, when what they really mean is “the chance, assuming the data is distributed normally,” which is pretty meaningless if the data isn’t.\n",
    "\n",
    "There are various statistical tests for normality, but even plotting the data is a good start."
   ]
  },
  {
   "cell_type": "markdown",
   "metadata": {
    "collapsed": true
   },
   "source": [
    "### Confidence Intervals\n",
    "\n",
    "We’ve been testing hypotheses about the value of the heads probability, p, which is a **parameter** of the *unknown* “heads” *distribution*. When this is the case, a 3rd approach is to construct a **confidence interval (CI)** *around the observed value of the parameter*.\n",
    "\n",
    "Ex: Can estimate the probability of an unfair coin by *looking at the average value of the Bernoulli random variables corresponding to each flip* — 1 if heads, 0 if tails. If we observe 525/1000 H in 1K flips, we estimate p = 0.525.\n",
    "*How confident can we be about this estimate?* Well, if we knew the *exact* value of p, the CLT tells us that the *average of those Bernoulli variables should be approximately normal*, with mean = p and standard deviation:"
   ]
  },
  {
   "cell_type": "code",
   "execution_count": 16,
   "metadata": {
    "collapsed": true
   },
   "outputs": [],
   "source": [
    "def sd_ci(p,n):\n",
    "    return math.sqrt(p*(1-p)/n)"
   ]
  },
  {
   "cell_type": "markdown",
   "metadata": {},
   "source": [
    "We do NOT know p, so we use out estimate, 525/1000"
   ]
  },
  {
   "cell_type": "code",
   "execution_count": 17,
   "metadata": {
    "collapsed": false
   },
   "outputs": [
    {
     "name": "stdout",
     "output_type": "stream",
     "text": [
      "0.015791611697353755\n"
     ]
    }
   ],
   "source": [
    "heads = 525\n",
    "n = 1000\n",
    "p_hat = heads/n\n",
    "mu = p_hat\n",
    "sigma = sd_ci(p_hat,n)\n",
    "print(sigma)"
   ]
  },
  {
   "cell_type": "markdown",
   "metadata": {},
   "source": [
    "This is not entirely justified, but people seem to do it anyway. Using **the normal approximation**, we conclude \"we are '95% confident' that the following interval contains the true parameter p\":"
   ]
  },
  {
   "cell_type": "code",
   "execution_count": 18,
   "metadata": {
    "collapsed": false
   },
   "outputs": [
    {
     "name": "stdout",
     "output_type": "stream",
     "text": [
      "(0.4940490278129096, 0.5559509721870904)\n"
     ]
    }
   ],
   "source": [
    "def normal_upper_bound(p,mu=0,sigma=1):\n",
    "    \"\"\"Return the z for which P(Z <= z) = given p\"\"\"\n",
    "    return inverse_normal_cdf(p,mu,sigma)\n",
    "\n",
    "def normal_lower_bound(p,mu=0,sigma=1):\n",
    "    \"\"\"Return the z for which P(Z >= z) = given p\"\"\"\n",
    "    return inverse_normal_cdf(1-p,mu,sigma)\n",
    "\n",
    "def normal_two_sided_bounds(p,mu=0,sigma=1):\n",
    "    \"\"\"Returns symmetric (about the mean) interval\n",
    "    that contains given p\"\"\"\n",
    "    tail_probability = (1-p)/2\n",
    "    \n",
    "    # upper bound = tail probability value above it\n",
    "    upper_bound = normal_lower_bound(tail_probability,mu,sigma)\n",
    "    \n",
    "    # lower bound = tail probability value below it\n",
    "    lower_bound = normal_upper_bound(tail_probability,mu,sigma)\n",
    "    \n",
    "    return lower_bound,upper_bound\n",
    "\n",
    "print(normal_two_sided_bounds(.95,mu,sigma))"
   ]
  },
  {
   "cell_type": "markdown",
   "metadata": {},
   "source": [
    "***NOTE***: This is a statement about the *interval*, NOT about p. Understand it as the assertion that if you were to repeat the experiment many times, 95% of the time the “true” parameter (which is the same every time) would lie within the observed CI (which might be different every time).\n",
    "\n",
    "In particular, we do NOT conclude the coin is unfair, *since 0.5 falls within our confidence interval*.\n",
    "\n",
    "If instead we’d seen 540 heads, then we’d have:"
   ]
  },
  {
   "cell_type": "code",
   "execution_count": 19,
   "metadata": {
    "collapsed": false
   },
   "outputs": [
    {
     "name": "stdout",
     "output_type": "stream",
     "text": [
      "(0.5091095927295919, 0.5708904072704082)\n"
     ]
    }
   ],
   "source": [
    "heads = 540\n",
    "n = 1000\n",
    "p_hat = heads/n\n",
    "mu = p_hat\n",
    "sigma = sd_ci(p_hat,n)\n",
    "print(normal_two_sided_bounds(.95,mu,sigma))"
   ]
  },
  {
   "cell_type": "markdown",
   "metadata": {},
   "source": [
    "Here, “fair coin” doesn’t lie in the CI, and The “fair coin” hypothesis doesn’t pass a test that you’d expect it to pass 95% of the time if it were true.\n",
    "\n",
    "## P-hacking\n",
    "\n",
    "A procedure that *erroneously* rejects the null `H0` only 5% of the time will, by definition, 5% of the time erroneously reject `H0`:\n"
   ]
  },
  {
   "cell_type": "code",
   "execution_count": 20,
   "metadata": {
    "collapsed": false
   },
   "outputs": [
    {
     "name": "stdout",
     "output_type": "stream",
     "text": [
      "False\n"
     ]
    }
   ],
   "source": [
    "def run_experiment():\n",
    "    \"\"\"Flip fair coin 1K times wher T = heads and F = tails\"\"\"\n",
    "    return [random.random() < .5 for _ in range(1000)]\n",
    "    \n",
    "def reject_fairness(experiment):\n",
    "    \"\"\"Using 5% significance level\"\"\"\n",
    "    # count flips that were = T (random was < .5)\n",
    "    num_heads = len([flip for flip in experiment if flip])\n",
    "    # check if value is within interval\n",
    "    return num_heads < 469 or num_heads > 531\n",
    "\n",
    "random.seed(0)\n",
    "# run 1000 experiments of 1000 flips \n",
    "# each index of experiments = heads and tails in 1000 flips\n",
    "experiments = [run_experiment() for _ in range(1000)]\n",
    "#print(experiments)\n",
    "# count TRUE's in 1st experiment and if not within interval, return FALSE\n",
    "print(reject_fairness(experiments[0]))"
   ]
  },
  {
   "cell_type": "code",
   "execution_count": 21,
   "metadata": {
    "collapsed": false
   },
   "outputs": [
    {
     "name": "stdout",
     "output_type": "stream",
     "text": [
      "46\n"
     ]
    }
   ],
   "source": [
    "# for each experiment in the 1K experiments...\n",
    "# count how many FALSE are returned (count of H not w/in interval)\n",
    "num_rejections = len([experiment for experiment in experiments\n",
    "                     if reject_fairness(experiment)])\n",
    "print(num_rejections)"
   ]
  },
  {
   "cell_type": "markdown",
   "metadata": {},
   "source": [
    "What this means is, if you’re setting out to find “significant” results, you usually can. If we test enough hypotheses against a data set, at least one of them will almost certainly appear significant. Remove the right outliers, and you can probably get p-values < 0.05. (We did something vaguely similar in “Correlation”)\n",
    "\n",
    "This is sometimes called **[p-hacking](https://www.nature.com/news/scientific-method-statistical-errors-1.14700)**, and is, in some ways, a consequence of the “inference from p-values framework.” A good article criticizing this approach is [“The Earth Is Round.”](https://www.ics.uci.edu/~sternh/courses/210/cohen94_pval.pdf)\n",
    "\n",
    "If you want to do good science, determine your hypotheses *before* looking at the data, clean data *without the hypotheses in mind*, and keep in mind that *p-values are not substitutes for common sense*. (An alternative approach = Bayesian Inference)\n",
    "\n",
    "## Example: Running an A/B Test\n",
    "\n",
    "A primary reponsibility of our roel = **experience optimization**, a euphemism for trying to get people to click on ads. One advertiser has developed a new energy drink targeted at data scientists, and VP of\n",
    "Advertisements wants your help choosing between advertisement A (“tastes great!”) and advertisement B (“less bias!”).\n",
    "\n",
    "Being a scientist, you decide to run an experiment by randomly showing site visitors 1 of the 2 ads + tracking how many people click on each.\n",
    "\n",
    "If 990/1000 A-viewers click their ad while only 10/1,000 B-viewers click\n",
    "their ad, you can be pretty confident A is the better ad. But what if the differences are not so stark? Here’s where you’d use statistical inference.\n",
    "\n",
    "Let’s say `N_a` people see ad A, + `n_a` of them click it. We can think of each ad view as a Bernoulli trial where `p_a` = probability someone clicks ad A. Then (if `N_a` is large, which it is here), we know `n_a/N_a` is approximately a normal random variable with mean = `p_a` and standard deviation = `√p_a(1-p_a) / N_a`. Similarly, `n_b/N_b` is approximately a normal random variable with mean = `p_b` and standard deviation = `√p_b(1-p_b) / N_b`"
   ]
  },
  {
   "cell_type": "code",
   "execution_count": 22,
   "metadata": {
    "collapsed": true
   },
   "outputs": [],
   "source": [
    "def estimated_parameters(N,n):\n",
    "    p = n/N\n",
    "    sigma = math.sqrt(p*(1-p)/N)\n",
    "    return p,sigma"
   ]
  },
  {
   "cell_type": "markdown",
   "metadata": {},
   "source": [
    "If we assume those two normals are independent (which seems reasonable, since the individual Bernoulli trials ought to be), then their difference should also be normal with mean = `p_b - p_a` and standard deviation = `√sigma_a^2 + sigma_b^2`.\n",
    "\n",
    "* ***NOTE***: This is sort of cheating. The math only works out exactly like this if you *know the standard deviations*. Here we’re *estimating* them from the data, which means that we really should be using a **t-distribution**. But for large enough data sets, it’s close enough that it doesn’t make much of a difference.\n",
    "\n",
    "Now, we can test the null hypothesis that `p_a` and `p_b` are the same (that is, that `p_a - p_b` = 0), using the statistic:"
   ]
  },
  {
   "cell_type": "code",
   "execution_count": 23,
   "metadata": {
    "collapsed": true
   },
   "outputs": [],
   "source": [
    "def ab_test_statistic(N_a,n_a,N_b,n_b):\n",
    "    p_a, sigma_a = estimated_parameters(N_a,n_a)\n",
    "    p_b, sigma_b = estimated_parameters(N_b,n_b)\n",
    "    \n",
    "    return (p_b - p_a) / math.sqrt(sigma_a**2 + sigma_b**2)"
   ]
  },
  {
   "cell_type": "markdown",
   "metadata": {},
   "source": [
    "which should approximately be a standard normal.\n",
    "\n",
    "For example, if “tastes great” gets 200 clicks in 1,000 views + “less bias” gets 180 clicks in 1,000 views, the statistic equals:"
   ]
  },
  {
   "cell_type": "code",
   "execution_count": 24,
   "metadata": {
    "collapsed": false
   },
   "outputs": [
    {
     "name": "stdout",
     "output_type": "stream",
     "text": [
      "-1.1403464899034472\n"
     ]
    }
   ],
   "source": [
    "z = ab_test_statistic(1000,200,1000,180)\n",
    "print(z)"
   ]
  },
  {
   "cell_type": "markdown",
   "metadata": {},
   "source": [
    "The probability of seeing such a large difference if the means were actually equal would be:"
   ]
  },
  {
   "cell_type": "code",
   "execution_count": 25,
   "metadata": {
    "collapsed": false
   },
   "outputs": [
    {
     "data": {
      "text/plain": [
       "0.254141976542236"
      ]
     },
     "execution_count": 25,
     "metadata": {},
     "output_type": "execute_result"
    }
   ],
   "source": [
    "two_sided_p_val(z)"
   ]
  },
  {
   "cell_type": "markdown",
   "metadata": {},
   "source": [
    "which is large enough that **you can’t conclude there’s much of a difference**. \n",
    "\n",
    "On the other hand, if “less bias” only got 150 clicks, we’d have"
   ]
  },
  {
   "cell_type": "code",
   "execution_count": 26,
   "metadata": {
    "collapsed": false
   },
   "outputs": [
    {
     "name": "stdout",
     "output_type": "stream",
     "text": [
      "-2.948839123097944\n",
      "0.003189699706216853\n"
     ]
    }
   ],
   "source": [
    "z = ab_test_statistic(1000,200,1000,150)\n",
    "print(z)\n",
    "print(two_sided_p_val(z))"
   ]
  },
  {
   "cell_type": "markdown",
   "metadata": {},
   "source": [
    "which means there’s only a 0.003 (.3%) probability you’d see such a large difference if the ads were equally effective.\n",
    "\n",
    "## Bayesian Inference\n",
    "\n",
    "The procedures we’ve looked at have involved making probability statements about our tests, i.e. “there’s only a 3% chance you’d observe such an extreme statistic if our null is true.”\n",
    "\n",
    "An alternative approach to inference involves treating the unknown parameters *themselves* as random variables. The analyst starts w/ a **prior distribution** for the parameters + then uses observed data + **Bayes’s Theorem** to get an updated **posterior distribution** for the parameters. \n",
    "\n",
    "Rather than *making probability judgments about the tests*, you *make probability judgments about the parameters themselves*. For example, when the unknown parameter = a probability (coin-flipping), we often use a prior from the **Beta distribution**, which puts all its probability between 0-1:"
   ]
  },
  {
   "cell_type": "code",
   "execution_count": 27,
   "metadata": {
    "collapsed": true
   },
   "outputs": [],
   "source": [
    "def beta_distr(alpha,beta):\n",
    "    \"\"\"Normalizing constant so that total probability = 1\"\"\"\n",
    "    return math.gamma(alpha) * math.gamma(beta) / math.gamma(alpha+beta)\n",
    "\n",
    "def beta_pdf(x,alpha,beta):\n",
    "    if x < 0 or x > 1: # no weight outside [0,1]\n",
    "        return 0\n",
    "    return x**(alpha-1)*(1-x)**(beta-1) / beta_distr(alpha,beta)"
   ]
  },
  {
   "cell_type": "markdown",
   "metadata": {},
   "source": [
    "Generall speaking, this distribution centers its weight at `alpha/(alpha+beta)`, and then, the larger alpha and beta are, the “tighter” the distribution is.\n",
    "\n",
    "Ex: If alpha and beta both = 1, it’s just the uniform distribution (1 / (1+1) = 1/2 = centered at 0.5, very dispersed). If alpha is much larger than beta, most of the weight is near 1. And if alpha is much smaller than beta, most of the weight is near 0. Below shows several different Beta distributions."
   ]
  },
  {
   "cell_type": "code",
   "execution_count": 28,
   "metadata": {
    "collapsed": false
   },
   "outputs": [
    {
     "data": {
      "image/png": "[encoded data removed]",
      "text/plain": [
       "<matplotlib.figure.Figure at 0x6bc3cc0>"
      ]
     },
     "metadata": {},
     "output_type": "display_data"
    }
   ],
   "source": [
    "%matplotlib inline\n",
    "\n",
    "#from collections import Counter\n",
    "from matplotlib import pyplot as plt\n",
    "\n",
    "# plot some PDFs\n",
    "x_ax = [x/100 for x in range(0,100)]\n",
    "plt.plot(x_ax, [beta_pdf(x,1,1) for x in x_ax], linestyle='-'\n",
    "         ,label=\"Beta(1,1)\")\n",
    "plt.plot(x_ax, [beta_pdf(x,10,10) for x in x_ax], linestyle='--'\n",
    "         ,label=\"Beta(10,10)\")\n",
    "plt.plot(x_ax, [beta_pdf(x,4,16) for x in x_ax], linestyle=':'\n",
    "         ,label=\"Beta(4,16)\")\n",
    "plt.plot(x_ax, [beta_pdf(x,16,4) for x in x_ax], linestyle='-.'\n",
    "         ,label=\"Beta(16,4)\")\n",
    "plt.legend()\n",
    "plt.title(\"Various Binomial PDFs\")\n",
    "plt.show()"
   ]
  },
  {
   "cell_type": "markdown",
   "metadata": {},
   "source": [
    "Let’s say we **assume a prior distribution on p**. Maybe we don’t want to take a stand on\n",
    "whether the coin is fair, + we choose alpha and beta to both = 1. Or maybe we have\n",
    "a strong belief it lands heads 55% of the time, and+we choose alpha = 55, beta = 45.\n",
    "\n",
    "Then, we flip our coin a bunch of times + see `h` heads and `t` tails. Bayes’s Theorem (+ some tedious math) tells us that the posterior distribution for p is, again, a Beta distribution but with parameters **`alpha + h`** and **`beta + t`**\n",
    "\n",
    "Let’s say we flip a coin 10 times + see only 3 heads. If we started w/ the uniform prior (in some sense refusing to take a stand about coin’s fairness), the posterior distribution would be a **`Beta(4, 8)`**, centered around 0.33. Since we considered all probabilities equally likely (uniform distribution), your best guess is something pretty close to the observed probability.\n",
    "\n",
    "If you started w/ a **`Beta(20, 20)`** (expressing a belief the coin was roughly fair),\n",
    "your posterior distribution would be a **`Beta(23, 27)`**, centered around 0.46, indicating a revised belief that maybe the coin is slightly biased toward tails.\n",
    "\n",
    "And if you started with a **`Beta(30, 10`)** (expressing a belief the coin was biased to flip 75% heads), your posterior distribution would be a **`Beta(33, 17)`**, centered around 0.66. In that case you’d still believe in a heads bias, but less strongly than you did initially. \n",
    "\n",
    "These three different posteriors:"
   ]
  },
  {
   "cell_type": "code",
   "execution_count": 29,
   "metadata": {
    "collapsed": false
   },
   "outputs": [
    {
     "data": {
      "image/png": "[encoded data removed]",
      "text/plain": [
       "<matplotlib.figure.Figure at 0x4f2dd68>"
      ]
     },
     "metadata": {},
     "output_type": "display_data"
    }
   ],
   "source": [
    "x_ax = [x/100 for x in range(0,100)]\n",
    "x_ax = [x/100 for x in range(0,100)]\n",
    "plt.plot(x_ax, [beta_pdf(x,4,8) for x in x_ax], linestyle='-'\n",
    "         ,label=\"Beta(4,8)\")\n",
    "plt.plot(x_ax, [beta_pdf(x,23,27) for x in x_ax], linestyle='--'\n",
    "         ,label=\"Beta(23,27)\")\n",
    "plt.plot(x_ax, [beta_pdf(x,33,17) for x in x_ax], linestyle=':'\n",
    "         ,label=\"Beta(33,17)\")\n",
    "plt.legend()\n",
    "plt.title(\"Various Posterior Binomial PDFs\")\n",
    "plt.show()"
   ]
  },
  {
   "cell_type": "markdown",
   "metadata": {},
   "source": [
    "**If you flipped the coin more + more, the prior would matter less + less until eventually you’d have (nearly) the same posterior distribution no matter which prior you\n",
    "started with.**\n",
    "\n",
    "Ex: No matter how biased you initially thought the coin was, it would be hard to\n",
    "maintain that belief after seeing 1000 heads out of 2000 flips. What’s interesting is that this allows us to make probability statements about hypotheses: *“Based on the prior + the observed data, there is only a 5% likelihood the coin’s heads probability is between 49% and 51%.”* \n",
    "\n",
    "This is philosophically very different from a statement like “if the coin were fair we would expect to observe data so extreme only 5% of the time.”\n",
    "\n",
    "Using Bayesian inference to test hypotheses is considered somewhat controversial — in\n",
    "part b/c its mathematics can get somewhat complicated, + in part b/c of the\n",
    "subjective nature of choosing a prior."
   ]
  }
 ],
 "metadata": {
  "kernelspec": {
   "display_name": "Python 3",
   "language": "python",
   "name": "python3"
  },
  "language_info": {
   "codemirror_mode": {
    "name": "ipython",
    "version": 3
   },
   "file_extension": ".py",
   "mimetype": "text/x-python",
   "name": "python",
   "nbconvert_exporter": "python",
   "pygments_lexer": "ipython3",
   "version": "3.6.0"
  }
 },
 "nbformat": 4,
 "nbformat_minor": 2
}
