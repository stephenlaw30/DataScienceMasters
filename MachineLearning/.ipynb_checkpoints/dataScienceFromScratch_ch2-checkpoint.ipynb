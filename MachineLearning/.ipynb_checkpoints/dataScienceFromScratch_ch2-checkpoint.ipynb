{
 "cells": [
  {
   "cell_type": "markdown",
   "metadata": {},
   "source": [
    "# Ch. 2 - Crash Course in Python\n",
    "\n",
    "## Basics\n",
    "\n",
    "<ul>\n",
    "<li>Whitespace\tis\tignored\tinside\tparentheses\tand\tbrackets = helpful\tfor\tlong-winded\tcomputations and\tfor\tmaking\tcode\teasier\tto\tread</li>\n",
    "<li>Can use a backslash to indicate statements continue onto next line</li>"
   ]
  },
  {
   "cell_type": "code",
   "execution_count": 1,
   "metadata": {},
   "outputs": [
    {
     "name": "stdout",
     "output_type": "stream",
     "text": [
      "[[1, 2, 3], [4, 5, 6], [7, 8, 9]]\n",
      "5\n"
     ]
    }
   ],
   "source": [
    "list_of_lists = [[1,2,3],[4,5,6],\n",
    "                [7,8,9]]\n",
    "\n",
    "two_plus_three = 2 + \\\n",
    "3\n",
    "print(list_of_lists)\n",
    "print(two_plus_three)"
   ]
  },
  {
   "cell_type": "markdown",
   "metadata": {},
   "source": [
    "IPython has a **magic function** `%paste` which allows one to *correctly* paste whatever is on the clipboard, and keep the formatting, in a shell, for example.\n",
    "\n",
    "## Modules\n",
    "\n",
    "**Modules** are **imported**, as well as explictly importing specific values/functions to use them without qualifiers."
   ]
  },
  {
   "cell_type": "code",
   "execution_count": 2,
   "metadata": {
    "collapsed": true
   },
   "outputs": [],
   "source": [
    "from collections import defaultdict, Counter"
   ]
  },
  {
   "cell_type": "markdown",
   "metadata": {},
   "source": [
    "If using Python 2.7 and want to overwrite using **integer division** (i.e. 5/2 = 2), use"
   ]
  },
  {
   "cell_type": "code",
   "execution_count": 3,
   "metadata": {},
   "outputs": [
    {
     "name": "stdout",
     "output_type": "stream",
     "text": [
      "2.5\n",
      "2\n"
     ]
    }
   ],
   "source": [
    "from __future__ import division\n",
    "\n",
    "print(5/2)\n",
    "\n",
    "# use // to do integer division\n",
    "print(5//2)"
   ]
  },
  {
   "cell_type": "markdown",
   "metadata": {},
   "source": [
    "## Functions\n",
    "\n",
    "These are rules taking in 0+ inputs and returning an output, defined starting with `def`. They are also **first-class** = they can be assigned to variables and passed into other functions."
   ]
  },
  {
   "cell_type": "code",
   "execution_count": 4,
   "metadata": {},
   "outputs": [
    {
     "name": "stdout",
     "output_type": "stream",
     "text": [
      "2\n"
     ]
    }
   ],
   "source": [
    "def double(x):\n",
    "    \"\"\"optional docstring to describe\n",
    "    what function does\"\"\"\n",
    "    return x*2\n",
    "\n",
    "def apply_to_one(func):\n",
    "    \"\"\"calls provided function with an\n",
    "    argument of an integer = 1\"\"\"\n",
    "    return func(1)\n",
    "\n",
    "my_double = double\n",
    "x = apply_to_one(my_double)\n",
    "print(x)"
   ]
  },
  {
   "cell_type": "markdown",
   "metadata": {},
   "source": [
    "We can also create **lambdas**, which are short, anonymous (non-named) functions, which we *could* assign to a variable, but it'd be better to use `def` instead in such cases."
   ]
  },
  {
   "cell_type": "code",
   "execution_count": 5,
   "metadata": {
    "collapsed": true
   },
   "outputs": [],
   "source": [
    "# lambda argument = *action to do to argument*\n",
    "another_double = lambda x: 2*x # bad\n",
    "\n",
    "def another_double_2(x): # good\n",
    "    return 2*x"
   ]
  },
  {
   "cell_type": "code",
   "execution_count": 6,
   "metadata": {},
   "outputs": [
    {
     "name": "stdout",
     "output_type": "stream",
     "text": [
      "hello\n",
      "default\n"
     ]
    }
   ],
   "source": [
    "# make function with default value\n",
    "def my_print(message = \"default\"):\n",
    "    print(message)\n",
    "    \n",
    "my_print(\"hello\")\n",
    "my_print()"
   ]
  },
  {
   "cell_type": "code",
   "execution_count": 8,
   "metadata": {},
   "outputs": [
    {
     "name": "stdout",
     "output_type": "stream",
     "text": [
      "3\n",
      "5\n",
      "-5\n"
     ]
    }
   ],
   "source": [
    "# call function while specifying argument by name\n",
    "def subtract(a=0, b=0):\n",
    "    #return a-b\n",
    "    print(a-b)\n",
    "\n",
    "subtract(10,7)\n",
    "subtract(5)\n",
    "subtract(b=5)"
   ]
  },
  {
   "cell_type": "markdown",
   "metadata": {},
   "source": [
    "## Strings\n",
    "\n",
    "Can be delimited by single *or* double quotes (but they must match). \n",
    "\n",
    "To encode special characters, use must **escape** them with backslashes, but to use normal backslashes, create a **raw string** via `r\"xxxxx\"`.\n",
    "\n",
    "Create multi-line strings with triple-double quotes"
   ]
  },
  {
   "cell_type": "code",
   "execution_count": 10,
   "metadata": {},
   "outputs": [
    {
     "name": "stdout",
     "output_type": "stream",
     "text": [
      "1\n",
      "\\t\n"
     ]
    }
   ],
   "source": [
    "# tab as string\n",
    "tab_as_tab = \"\\t\"\n",
    "print(len(tab_as_tab))\n",
    "\n",
    "tab_as_string = r\"\\t\"\n",
    "print(tab_as_string)"
   ]
  },
  {
   "cell_type": "markdown",
   "metadata": {},
   "source": [
    "## Try and Except\n",
    "\n",
    "To try and handle an **exception** (something going wrong), **try** to remedy it:"
   ]
  },
  {
   "cell_type": "code",
   "execution_count": 11,
   "metadata": {},
   "outputs": [
    {
     "name": "stdout",
     "output_type": "stream",
     "text": [
      "can't divide by zero\n"
     ]
    }
   ],
   "source": [
    "try:\n",
    "    print(0/0)\n",
    "except ZeroDivisionError:\n",
    "    print(\"can't divide by zero\")"
   ]
  },
  {
   "cell_type": "markdown",
   "metadata": {},
   "source": [
    "## Lists\n",
    "\n",
    "**List** = ordered **collection** (like an array but with added functionality)."
   ]
  },
  {
   "cell_type": "code",
   "execution_count": 13,
   "metadata": {
    "collapsed": true
   },
   "outputs": [],
   "source": [
    "int_list = [1,2,3]\n",
    "heterogenous_list = [1,\"string\",0.5,True]\n",
    "list_of_lists = [[1,2,3],[4,5],[6]]"
   ]
  },
  {
   "cell_type": "code",
   "execution_count": 15,
   "metadata": {},
   "outputs": [
    {
     "name": "stdout",
     "output_type": "stream",
     "text": [
      "3\n",
      "6\n"
     ]
    }
   ],
   "source": [
    "print(len(list_of_lists))\n",
    "print(sum(int_list))"
   ]
  },
  {
   "cell_type": "code",
   "execution_count": 21,
   "metadata": {},
   "outputs": [
    {
     "name": "stdout",
     "output_type": "stream",
     "text": [
      "0\n",
      "1\n"
     ]
    }
   ],
   "source": [
    "# make list of integers from 0-9\n",
    "x = range(10)\n",
    "\n",
    "# get 1st and then 2nd element\n",
    "print(x[0])\n",
    "print(x[1])"
   ]
  },
  {
   "cell_type": "code",
   "execution_count": 22,
   "metadata": {},
   "outputs": [
    {
     "name": "stdout",
     "output_type": "stream",
     "text": [
      "9\n",
      "8\n"
     ]
    }
   ],
   "source": [
    "# get the last and 2nd-to-last elements in the Pythonic way\n",
    "print(x[-1])\n",
    "print(x[-2])"
   ]
  },
  {
   "cell_type": "code",
   "execution_count": 27,
   "metadata": {},
   "outputs": [
    {
     "name": "stdout",
     "output_type": "stream",
     "text": [
      "-1\n",
      "1\n",
      "2\n",
      "3\n",
      "4\n"
     ]
    }
   ],
   "source": [
    "# change 1st element to -1 \n",
    "# must first convert to list first as range() is a generator in Python3\n",
    "# no longer returns a list\n",
    "x = list(x)\n",
    "x[0] = -1\n",
    "\n",
    "i = 0\n",
    "while i < 5:\n",
    "    print(x[i])\n",
    "    i = i+1"
   ]
  },
  {
   "cell_type": "code",
   "execution_count": 32,
   "metadata": {},
   "outputs": [
    {
     "name": "stdout",
     "output_type": "stream",
     "text": [
      "[-1, 1, 2]\n",
      "[3, 4, 5, 6, 7, 8, 9]\n"
     ]
    }
   ],
   "source": [
    "# slice lists with square brackets\n",
    "\n",
    "# get 1st 3 elements\n",
    "print(x[:3])\n",
    "# get from 3rd element to the end\n",
    "print(x[3:])"
   ]
  },
  {
   "cell_type": "code",
   "execution_count": 33,
   "metadata": {},
   "outputs": [
    {
     "name": "stdout",
     "output_type": "stream",
     "text": [
      "[7, 8, 9]\n",
      "[1, 2, 3, 4, 5, 6, 7, 8]\n"
     ]
    }
   ],
   "source": [
    "# get last 3 elements\n",
    "print(x[-3:])\n",
    "# cut off 1st and last\n",
    "print(x[1:-1])"
   ]
  },
  {
   "cell_type": "code",
   "execution_count": 35,
   "metadata": {},
   "outputs": [
    {
     "name": "stdout",
     "output_type": "stream",
     "text": [
      "[-1, 1, 2, 3, 4, 5, 6, 7, 8, 9]\n"
     ]
    }
   ],
   "source": [
    "# make a copy of list\n",
    "x2 = x[:]\n",
    "print(x2)"
   ]
  },
  {
   "cell_type": "code",
   "execution_count": 37,
   "metadata": {},
   "outputs": [
    {
     "name": "stdout",
     "output_type": "stream",
     "text": [
      "True\n",
      "False\n"
     ]
    }
   ],
   "source": [
    "# check for values within a list\n",
    "print(4 in x)\n",
    "print(6 in [2,2,2,3])"
   ]
  },
  {
   "cell_type": "markdown",
   "metadata": {},
   "source": [
    "The above list **membership** check goes over each element one-by-one, so it shouldn't be used unless the list is small."
   ]
  },
  {
   "cell_type": "code",
   "execution_count": 38,
   "metadata": {},
   "outputs": [
    {
     "name": "stdout",
     "output_type": "stream",
     "text": [
      "[1, 2, 3, 3, 4, 5]\n"
     ]
    }
   ],
   "source": [
    "# concatenate lists\n",
    "x1 = [1,2,3]\n",
    "x1.extend([3,4,5])\n",
    "print(x1)"
   ]
  },
  {
   "cell_type": "code",
   "execution_count": 43,
   "metadata": {},
   "outputs": [
    {
     "name": "stdout",
     "output_type": "stream",
     "text": [
      "[-1, 1, 2, 3, 4, 5, 6, 7, 8, 9, 1, 1, 1]\n"
     ]
    }
   ],
   "source": [
    "# add to elements of list\n",
    "y = x + [1,1,1]\n",
    "print(y)"
   ]
  },
  {
   "cell_type": "code",
   "execution_count": 44,
   "metadata": {},
   "outputs": [
    {
     "name": "stdout",
     "output_type": "stream",
     "text": [
      "[-1, 1, 2, 3, 4, 5, 6, 7, 8, 9, 15]\n"
     ]
    }
   ],
   "source": [
    "# append items to list one at a time\n",
    "x.append(15)\n",
    "print(x)"
   ]
  },
  {
   "cell_type": "markdown",
   "metadata": {},
   "source": [
    "It is helpful to **unpack lists** if we are unsure of how many elements it contains"
   ]
  },
  {
   "cell_type": "code",
   "execution_count": 45,
   "metadata": {},
   "outputs": [
    {
     "name": "stdout",
     "output_type": "stream",
     "text": [
      "1\n",
      "2\n"
     ]
    }
   ],
   "source": [
    "x,y = [1,2]\n",
    "print(x)\n",
    "print(y)"
   ]
  },
  {
   "cell_type": "markdown",
   "metadata": {},
   "source": [
    "The above returns a `ValueError` if there is not the same number of elements on both sides. If we're going to throw a value away while unpacking, we use an underscore."
   ]
  },
  {
   "cell_type": "code",
   "execution_count": 46,
   "metadata": {},
   "outputs": [
    {
     "name": "stdout",
     "output_type": "stream",
     "text": [
      "2\n",
      "1\n"
     ]
    }
   ],
   "source": [
    "_,y,z = [3,2,1] # 3 is nowhere to be found\n",
    "print(y)\n",
    "print(z)"
   ]
  },
  {
   "cell_type": "markdown",
   "metadata": {},
   "source": [
    "## Tuples\n",
    "\n",
    "These are **immutable** versions of lists, as anything we can do to lists, we can do to tuples, except change them."
   ]
  },
  {
   "cell_type": "code",
   "execution_count": 47,
   "metadata": {
    "collapsed": true
   },
   "outputs": [],
   "source": [
    "my_list = [1,2]\n",
    "my_tuple = (1,2)\n",
    "tupl2 = 3,4\n",
    "my_list[1] = 3"
   ]
  },
  {
   "cell_type": "code",
   "execution_count": 48,
   "metadata": {},
   "outputs": [
    {
     "name": "stdout",
     "output_type": "stream",
     "text": [
      "[1, 3]\n"
     ]
    }
   ],
   "source": [
    "print(my_list)"
   ]
  },
  {
   "cell_type": "code",
   "execution_count": 50,
   "metadata": {},
   "outputs": [
    {
     "name": "stdout",
     "output_type": "stream",
     "text": [
      "can't modify a tuple\n"
     ]
    }
   ],
   "source": [
    "try:\n",
    "    my_tuple[1] = 3\n",
    "except TypeError:\n",
    "    print(\"can't modify a tuple\")"
   ]
  },
  {
   "cell_type": "markdown",
   "metadata": {},
   "source": [
    "A good use of tuples is returning multiple values from a function."
   ]
  },
  {
   "cell_type": "code",
   "execution_count": 51,
   "metadata": {},
   "outputs": [
    {
     "name": "stdout",
     "output_type": "stream",
     "text": [
      "(5, 6)\n"
     ]
    }
   ],
   "source": [
    "def sum_and_product(x,y):\n",
    "    return (x+y),(x*y)\n",
    "\n",
    "print(sum_and_product(2,3))"
   ]
  },
  {
   "cell_type": "code",
   "execution_count": 52,
   "metadata": {},
   "outputs": [
    {
     "name": "stdout",
     "output_type": "stream",
     "text": [
      "7\n",
      "12\n"
     ]
    }
   ],
   "source": [
    "sp = sum_and_product(4,3)\n",
    "# unpack sp\n",
    "s,p = sp\n",
    "print(s)\n",
    "print(p)"
   ]
  },
  {
   "cell_type": "code",
   "execution_count": 53,
   "metadata": {},
   "outputs": [
    {
     "name": "stdout",
     "output_type": "stream",
     "text": [
      "15\n",
      "50\n"
     ]
    }
   ],
   "source": [
    "s,p = sum_and_product(5,10)\n",
    "print(s)\n",
    "print(p)"
   ]
  },
  {
   "cell_type": "markdown",
   "metadata": {},
   "source": [
    "Can also use tuples and lists for **multiple assignment**."
   ]
  },
  {
   "cell_type": "code",
   "execution_count": 54,
   "metadata": {},
   "outputs": [
    {
     "name": "stdout",
     "output_type": "stream",
     "text": [
      "1\n",
      "2\n",
      "2\n",
      "1\n"
     ]
    }
   ],
   "source": [
    "x,y, = 1,2\n",
    "print(x)\n",
    "print(y)\n",
    "# swap variables in the Pythonic way\n",
    "x,y = y,x\n",
    "print(x)\n",
    "print(y)"
   ]
  },
  {
   "cell_type": "markdown",
   "metadata": {
    "collapsed": true
   },
   "source": [
    "## Dictionaries\n",
    "\n",
    "These are containers for **key-value (kv) pairs** from which we can easily obtain values via their keys"
   ]
  },
  {
   "cell_type": "code",
   "execution_count": 1,
   "metadata": {
    "collapsed": true
   },
   "outputs": [],
   "source": [
    "empty_dict = {} # = Pythonic manner\n",
    "empty_dict2 = dict() # = not-so Pythonic\n",
    "\n",
    "grades = {\"Joel\":80,\"Tim\":95} # literal defining of dict"
   ]
  },
  {
   "cell_type": "code",
   "execution_count": 2,
   "metadata": {},
   "outputs": [
    {
     "name": "stdout",
     "output_type": "stream",
     "text": [
      "80\n"
     ]
    }
   ],
   "source": [
    "# look up values via a key in square brackets\n",
    "joels_grade = grades[\"Joel\"]\n",
    "print(joels_grade)"
   ]
  },
  {
   "cell_type": "code",
   "execution_count": 3,
   "metadata": {},
   "outputs": [
    {
     "ename": "KeyError",
     "evalue": "'Bob'",
     "output_type": "error",
     "traceback": [
      "\u001b[1;31m---------------------------------------------------------------------------\u001b[0m",
      "\u001b[1;31mKeyError\u001b[0m                                  Traceback (most recent call last)",
      "\u001b[1;32m<ipython-input-3-310da935b38e>\u001b[0m in \u001b[0;36m<module>\u001b[1;34m()\u001b[0m\n\u001b[0;32m      1\u001b[0m \u001b[1;31m# get KeyError if we ask for a key that doesn't exist in dict\u001b[0m\u001b[1;33m\u001b[0m\u001b[1;33m\u001b[0m\u001b[0m\n\u001b[1;32m----> 2\u001b[1;33m \u001b[0mgrades\u001b[0m\u001b[1;33m[\u001b[0m\u001b[1;34m\"Bob\"\u001b[0m\u001b[1;33m]\u001b[0m\u001b[1;33m\u001b[0m\u001b[0m\n\u001b[0m",
      "\u001b[1;31mKeyError\u001b[0m: 'Bob'"
     ]
    }
   ],
   "source": [
    "# get KeyError if we ask for a key that doesn't exist in dict\n",
    "grades[\"Bob\"]"
   ]
  },
  {
   "cell_type": "code",
   "execution_count": 4,
   "metadata": {},
   "outputs": [
    {
     "name": "stdout",
     "output_type": "stream",
     "text": [
      "No grade for Kate\n"
     ]
    }
   ],
   "source": [
    "# check for existence of keys via Try/Except\n",
    "try:\n",
    "    kates_grade = grades[\"Kate\"]\n",
    "except KeyError:\n",
    "    print(\"No grade for Kate\")"
   ]
  },
  {
   "cell_type": "code",
   "execution_count": 5,
   "metadata": {},
   "outputs": [
    {
     "name": "stdout",
     "output_type": "stream",
     "text": [
      "True\n",
      "False\n"
     ]
    }
   ],
   "source": [
    "# check for existence of keys via 'in'\n",
    "joel_has_grade = \"Joel\" in grades\n",
    "rob_has_grade = \"Rob\" in grades\n",
    "\n",
    "print(joel_has_grade)\n",
    "print(rob_has_grade)"
   ]
  },
  {
   "cell_type": "code",
   "execution_count": 6,
   "metadata": {},
   "outputs": [
    {
     "name": "stdout",
     "output_type": "stream",
     "text": [
      "80\n",
      "2\n",
      "None\n"
     ]
    }
   ],
   "source": [
    "# get default value for a key instead of raising exception via .get()\n",
    "joels_grade = grades.get(\"Joel\",0)\n",
    "kates_grade = grades.get(\"Kate\",2)\n",
    "no_ones_grade = grades.get(\"NA\") # default value of None\n",
    "\n",
    "print(joels_grade)\n",
    "print(kates_grade)\n",
    "print(no_ones_grade)"
   ]
  },
  {
   "cell_type": "code",
   "execution_count": 7,
   "metadata": {},
   "outputs": [
    {
     "name": "stdout",
     "output_type": "stream",
     "text": [
      "{'Joel': 80, 'Tim': 99, 'Kate': 78}\n"
     ]
    }
   ],
   "source": [
    "# assing KV pairs via brackets\n",
    "grades[\"Tim\"] = 99 # used to be 95\n",
    "grades[\"Kate\"] = 78 # new KV pair\n",
    "\n",
    "print(grades)"
   ]
  },
  {
   "cell_type": "markdown",
   "metadata": {},
   "source": [
    "Dictionaries are frequently used to display structured data in a simple manner."
   ]
  },
  {
   "cell_type": "code",
   "execution_count": 8,
   "metadata": {},
   "outputs": [
    {
     "name": "stdout",
     "output_type": "stream",
     "text": [
      "{'user': 'joel_grus', 'text': 'Hello world', 'retweet_count': 108, 'hashtags': ['data', 'science', 'hello', 'world']}\n"
     ]
    }
   ],
   "source": [
    "tweet = {\n",
    "    \"user\":\"joel_grus\"\n",
    "    ,\"text\": \"Hello world\"\n",
    "    ,\"retweet_count\":108\n",
    "    ,\"hashtags\":[\"data\",\"science\",\"hello\",\"world\"] # list\n",
    "}\n",
    "\n",
    "print(tweet)"
   ]
  },
  {
   "cell_type": "code",
   "execution_count": 10,
   "metadata": {},
   "outputs": [
    {
     "name": "stdout",
     "output_type": "stream",
     "text": [
      "dict_keys(['user', 'text', 'retweet_count', 'hashtags'])\n",
      "dict_values(['joel_grus', 'Hello world', 108, ['data', 'science', 'hello', 'world']])\n",
      "dict_items([('user', 'joel_grus'), ('text', 'Hello world'), ('retweet_count', 108), ('hashtags', ['data', 'science', 'hello', 'world'])])\n"
     ]
    }
   ],
   "source": [
    "# look for ALL keys\n",
    "tweet_keys = tweet.keys()\n",
    "\n",
    "# get ALL values\n",
    "tweet_vals = tweet.values()\n",
    "\n",
    "# get all KV pairs (tuples w/in dict)\n",
    "tweet_tuples = tweet.items()\n",
    "\n",
    "print(tweet_keys)\n",
    "print(tweet_vals)\n",
    "print(tweet_tuples)"
   ]
  },
  {
   "cell_type": "code",
   "execution_count": 11,
   "metadata": {},
   "outputs": [
    {
     "name": "stdout",
     "output_type": "stream",
     "text": [
      "False\n",
      "True\n"
     ]
    }
   ],
   "source": [
    "print(\"joel_grus\" in tweet_keys)\n",
    "print(\"joel_grus\" in tweet_vals)"
   ]
  },
  {
   "cell_type": "markdown",
   "metadata": {},
   "source": [
    "Dictionary keys *must* be immutable, so we **cannot use lists as keys**. \n",
    "\n",
    "To create a multi-part key, we must use a tuple or we must figure out a way to turn the key into a string.\n",
    "\n",
    "## defaultdict\n",
    "\n",
    "This is like a regular dictionary, but its imported from `collections` and when we attempt to lookup a key that doesn't exist, it adds the key to the dictionary with a value using a zero-argument function provided when the dictionary was created."
   ]
  },
  {
   "cell_type": "code",
   "execution_count": 13,
   "metadata": {},
   "outputs": [],
   "source": [
    "# try to count words in a doc in a dict where keys = words\n",
    "# and vals = counts\n",
    "\n",
    "# increment counts by 1 each time a word is checked and its in the\n",
    "# dict, and add it to the dict if its not\n",
    "word_counts = {};\n",
    "doc = \"Hello, world, hi\"\n",
    "for word in doc:\n",
    "    if word in word_counts:\n",
    "        word_counts[word] += 1 # increment word count if present\n",
    "    else:\n",
    "        word_counts[word] = 1 # add word if not present"
   ]
  },
  {
   "cell_type": "code",
   "execution_count": 14,
   "metadata": {
    "collapsed": true
   },
   "outputs": [],
   "source": [
    "# Try \"forgiveness is better than permission\" = handle the exception\n",
    "# from trying to loop up a missing/invalid key\n",
    "word_counts = {};\n",
    "doc = \"Hello, world, hi\"\n",
    "for word in doc:\n",
    "    try:\n",
    "        word_counts[word] += 1 # increment word count if present\n",
    "    except KeyError:\n",
    "        word_counts[word] = 1 # add word if not present"
   ]
  },
  {
   "cell_type": "code",
   "execution_count": 27,
   "metadata": {
    "collapsed": true
   },
   "outputs": [],
   "source": [
    "# another approach = use .get() with a default value for missing keys\n",
    "word_counts = {};\n",
    "doc = [\"Hello\", \"world\", \"hi\"]\n",
    "for word in doc:\n",
    "    previous_count = word_counts.get(word,1)\n",
    "    word_counts[word] = previous_count + 1"
   ]
  },
  {
   "cell_type": "code",
   "execution_count": 16,
   "metadata": {
    "collapsed": true
   },
   "outputs": [],
   "source": [
    "# use defaultdict (better)\n",
    "from collections import defaultdict\n",
    "\n",
    "word_counts = defaultdict(int); # (int)= int() = produces a value of 0\n",
    "doc = [\"Hello\", \"world\", \"hi\"]\n",
    "\n",
    "for word in doc:\n",
    "    word_counts[word] += 1 # increment word count if present"
   ]
  },
  {
   "cell_type": "markdown",
   "metadata": {},
   "source": [
    "`defaultdict`'s are also useful with `list`'s or `dict`'s, or user-defined functions."
   ]
  },
  {
   "cell_type": "code",
   "execution_count": 17,
   "metadata": {},
   "outputs": [
    {
     "name": "stdout",
     "output_type": "stream",
     "text": [
      "defaultdict(<class 'list'>, {2: [1]})\n"
     ]
    }
   ],
   "source": [
    "dd_list = defaultdict(list) # (list) = list() =  produces empty list\n",
    "\n",
    "# dd.list[key].append(value)\n",
    "dd_list[2].append(1) \n",
    "\n",
    "print(dd_list)"
   ]
  },
  {
   "cell_type": "code",
   "execution_count": 18,
   "metadata": {},
   "outputs": [
    {
     "name": "stdout",
     "output_type": "stream",
     "text": [
      "defaultdict(<class 'dict'>, {'Joel': {'City': 'Seattle'}})\n"
     ]
    }
   ],
   "source": [
    "dd_dict = defaultdict(dict) # = dict() = produces empty dict\n",
    "\n",
    "# dd_dict[Key][InnerKey] = Value\n",
    "dd_dict[\"Joel\"][\"City\"] = \"Seattle\" # uses dictionary as a value\n",
    "\n",
    "print(dd_dict)"
   ]
  },
  {
   "cell_type": "code",
   "execution_count": 22,
   "metadata": {},
   "outputs": [
    {
     "name": "stdout",
     "output_type": "stream",
     "text": [
      "{}\n"
     ]
    }
   ],
   "source": [
    "# use lambda (anonymous) function to set 1st keys value = [0,0]\n",
    "dd_pair = defaultdict(lambda: [0,0])\n",
    "print(dict(dd_pair))"
   ]
  },
  {
   "cell_type": "code",
   "execution_count": 23,
   "metadata": {},
   "outputs": [
    {
     "name": "stdout",
     "output_type": "stream",
     "text": [
      "{2: [0, 1]}\n"
     ]
    }
   ],
   "source": [
    "# for key = 2, make the 2nd value for this key = 1\n",
    "dd_pair[2][1] = 1\n",
    "print(dict(dd_pair))"
   ]
  },
  {
   "cell_type": "markdown",
   "metadata": {},
   "source": [
    "These are also useful for collecting results by some key and we don't want to check if a key exists yet every time\n",
    "\n",
    "## Counter\n",
    "\n",
    "These turn sequences of values into a `defaultdict(int)`-like object, mapping keys to counts. It's primarily used to create histograms."
   ]
  },
  {
   "cell_type": "code",
   "execution_count": 25,
   "metadata": {},
   "outputs": [
    {
     "name": "stdout",
     "output_type": "stream",
     "text": [
      "Counter({0: 2, 1: 1, 2: 1, 3: 1})\n"
     ]
    }
   ],
   "source": [
    "from collections import Counter\n",
    "c = Counter([0,1,2,3,0])\n",
    "print(c)"
   ]
  },
  {
   "cell_type": "markdown",
   "metadata": {},
   "source": [
    "This provides a simple solution to the `word_counts` problem"
   ]
  },
  {
   "cell_type": "code",
   "execution_count": 33,
   "metadata": {},
   "outputs": [
    {
     "name": "stdout",
     "output_type": "stream",
     "text": [
      "Counter({'hi': 5, 'Hello': 1, 'world': 1, 'but': 1, 'flyers': 1, 'why': 1, 'suck': 1, 'pizza': 1})\n"
     ]
    }
   ],
   "source": [
    "doc = [\"Hello\", \"world\", \"hi\",\"hi\",\"hi\",\"hi\",\"hi\",\"but\",\"flyers\",\n",
    "      \"why\",\"suck\",\"pizza\"]\n",
    "\n",
    "word_counts = Counter(doc)\n",
    "print(word_counts)"
   ]
  },
  {
   "cell_type": "code",
   "execution_count": 34,
   "metadata": {},
   "outputs": [
    {
     "name": "stdout",
     "output_type": "stream",
     "text": [
      "hi 5\n",
      "Hello 1\n",
      "world 1\n",
      "but 1\n",
      "flyers 1\n",
      "why 1\n",
      "suck 1\n",
      "pizza 1\n"
     ]
    }
   ],
   "source": [
    "# get most common word\n",
    "for word,count in word_counts.most_common(10):\n",
    "    print(word,count)"
   ]
  },
  {
   "cell_type": "code",
   "execution_count": 35,
   "metadata": {},
   "outputs": [
    {
     "data": {
      "text/plain": [
       "[('hi', 5),\n",
       " ('Hello', 1),\n",
       " ('world', 1),\n",
       " ('but', 1),\n",
       " ('flyers', 1),\n",
       " ('why', 1),\n",
       " ('suck', 1),\n",
       " ('pizza', 1)]"
      ]
     },
     "execution_count": 35,
     "metadata": {},
     "output_type": "execute_result"
    }
   ],
   "source": [
    "word_counts.most_common(10)"
   ]
  },
  {
   "cell_type": "markdown",
   "metadata": {},
   "source": [
    "## Sets\n",
    "\n",
    "These are a collection of *distint* elements."
   ]
  },
  {
   "cell_type": "code",
   "execution_count": 36,
   "metadata": {},
   "outputs": [
    {
     "name": "stdout",
     "output_type": "stream",
     "text": [
      "{1, 2}\n"
     ]
    }
   ],
   "source": [
    "s = set()\n",
    "s.add(1)\n",
    "s.add(2)\n",
    "s.add(2) # does not change the set as we already have a '2'\n",
    "print(s)"
   ]
  },
  {
   "cell_type": "code",
   "execution_count": 37,
   "metadata": {},
   "outputs": [
    {
     "name": "stdout",
     "output_type": "stream",
     "text": [
      "2 True False\n"
     ]
    }
   ],
   "source": [
    "x = len(s)\n",
    "y = 2 in s\n",
    "z = 3 in s\n",
    "print(x,y,z)"
   ]
  },
  {
   "cell_type": "markdown",
   "metadata": {},
   "source": [
    "Sets are useful because `in` works very fast on sets, and to find distinct elements in a collection (but used less than `dict`'s and `list`'s\n",
    "\n",
    "If we have a large collection of items we want to use for a **membership test**, sets are more appropriate than lists."
   ]
  },
  {
   "cell_type": "code",
   "execution_count": 41,
   "metadata": {},
   "outputs": [
    {
     "name": "stdout",
     "output_type": "stream",
     "text": [
      "False\n",
      "False\n"
     ]
    }
   ],
   "source": [
    "stopwords_list = [\"a\",\"an\",\"at\"] + [\"yet\",\"you\"];\n",
    "\n",
    "print(\"zip\" in stopwords_list) # must check every element in list\n",
    "\n",
    "stopwords_set = set(stopwords_list)\n",
    "print(\"zip\" in stopwords_set) # faster"
   ]
  },
  {
   "cell_type": "code",
   "execution_count": 43,
   "metadata": {},
   "outputs": [
    {
     "name": "stdout",
     "output_type": "stream",
     "text": [
      "[1, 2, 3, 1, 2, 3]\n",
      "6\n",
      "{1, 2, 3}\n",
      "3\n",
      "[1, 2, 3]\n"
     ]
    }
   ],
   "source": [
    "# find distinct items\n",
    "item_list = [1,2,3,1,2,3]\n",
    "num_items = len(item_list)\n",
    "\n",
    "# get distinct items\n",
    "item_set = set(item_list)\n",
    "num_distinct_items = len(item_set)\n",
    "\n",
    "# convert back to list\n",
    "distinct_item_list = list(item_set)\n",
    "\n",
    "print(item_list)\n",
    "print(num_items)\n",
    "print(item_set)\n",
    "print(num_distinct_items)\n",
    "print(distinct_item_list)"
   ]
  },
  {
   "cell_type": "markdown",
   "metadata": {},
   "source": [
    "## Control Flow\n",
    "\n",
    "Perform an action **conditionally** using `if`"
   ]
  },
  {
   "cell_type": "code",
   "execution_count": 45,
   "metadata": {},
   "outputs": [
    {
     "name": "stdout",
     "output_type": "stream",
     "text": [
      "when all else fails (if desired)\n"
     ]
    }
   ],
   "source": [
    "if 1 > 3:\n",
    "    message = \"if only 1 were greater than 3...\"\n",
    "elif 1 > 4:\n",
    "    message = \"nope\"\n",
    "else:\n",
    "    message = \"when all else fails (if desired)\"\n",
    "    \n",
    "print(message)"
   ]
  },
  {
   "cell_type": "markdown",
   "metadata": {},
   "source": [
    "Can also write **ternary** if-then-else statements on one line"
   ]
  },
  {
   "cell_type": "code",
   "execution_count": 46,
   "metadata": {},
   "outputs": [
    {
     "name": "stdout",
     "output_type": "stream",
     "text": [
      "even\n"
     ]
    }
   ],
   "source": [
    "parity = \"even\" if x % 2 == 0 else \"odd\"\n",
    "print(parity)"
   ]
  },
  {
   "cell_type": "code",
   "execution_count": 47,
   "metadata": {},
   "outputs": [
    {
     "name": "stdout",
     "output_type": "stream",
     "text": [
      "0 is less than 10\n",
      "1 is less than 10\n",
      "2 is less than 10\n",
      "3 is less than 10\n",
      "4 is less than 10\n",
      "5 is less than 10\n",
      "6 is less than 10\n",
      "7 is less than 10\n",
      "8 is less than 10\n",
      "9 is less than 10\n"
     ]
    }
   ],
   "source": [
    "# WHILE loops\n",
    "x = 0\n",
    "while x < 10:\n",
    "    print(x,\"is less than 10\")\n",
    "    x += 1"
   ]
  },
  {
   "cell_type": "code",
   "execution_count": 48,
   "metadata": {},
   "outputs": [
    {
     "name": "stdout",
     "output_type": "stream",
     "text": [
      "0 is less than 10\n",
      "1 is less than 10\n",
      "2 is less than 10\n",
      "3 is less than 10\n",
      "4 is less than 10\n",
      "5 is less than 10\n",
      "6 is less than 10\n",
      "7 is less than 10\n",
      "8 is less than 10\n",
      "9 is less than 10\n"
     ]
    }
   ],
   "source": [
    "# more common to use `for` and `in` than a `while`\n",
    "for x in range(10):\n",
    "    print(x,\"is less than 10\")"
   ]
  },
  {
   "cell_type": "code",
   "execution_count": 49,
   "metadata": {},
   "outputs": [
    {
     "name": "stdout",
     "output_type": "stream",
     "text": [
      "0\n",
      "1\n",
      "2\n",
      "4\n"
     ]
    }
   ],
   "source": [
    "# more complex logic = use `continue` and `break`\n",
    "for x in range(10):\n",
    "    if x == 3:\n",
    "        continue # go to next iteration (increase x)\n",
    "    if x == 5:\n",
    "        break # quit loop\n",
    "    print(x)"
   ]
  },
  {
   "cell_type": "markdown",
   "metadata": {},
   "source": [
    "## Truthiness\n",
    "\n",
    "**Booleans** work like in other languages, but capitalized"
   ]
  },
  {
   "cell_type": "code",
   "execution_count": 50,
   "metadata": {},
   "outputs": [
    {
     "name": "stdout",
     "output_type": "stream",
     "text": [
      "True\n",
      "False\n"
     ]
    }
   ],
   "source": [
    "print(1 < 2)\n",
    "print(True == False)"
   ]
  },
  {
   "cell_type": "markdown",
   "metadata": {},
   "source": [
    "Python uses `None` for nonexistent values (such as `Null`, `Nan` or `NA`'s)"
   ]
  },
  {
   "cell_type": "code",
   "execution_count": 51,
   "metadata": {},
   "outputs": [
    {
     "name": "stdout",
     "output_type": "stream",
     "text": [
      "True\n",
      "True\n"
     ]
    }
   ],
   "source": [
    "x = None\n",
    "print(x == None)\n",
    "print(x is None)"
   ]
  },
  {
   "cell_type": "markdown",
   "metadata": {},
   "source": [
    "We can use any value where Python expects a Boolean"
   ]
  },
  {
   "cell_type": "code",
   "execution_count": 53,
   "metadata": {},
   "outputs": [],
   "source": [
    "# all False\n",
    "falsy = [False, None, [], {}, \"\", set(), 0, 0.0]"
   ]
  },
  {
   "cell_type": "markdown",
   "metadata": {},
   "source": [
    "Anythin else is treated at `True`. This makes it easy to use `if` statements to test for empty lists/strings/dicts, etc. But it can also cause bugs if we're not expecting this behavior"
   ]
  },
  {
   "cell_type": "code",
   "execution_count": 57,
   "metadata": {},
   "outputs": [
    {
     "data": {
      "text/plain": [
       "'i'"
      ]
     },
     "execution_count": 57,
     "metadata": {},
     "output_type": "execute_result"
    }
   ],
   "source": [
    "def function_returning_a_string():\n",
    "    return \"it's a string, baby\"\n",
    "\n",
    "s = function_returning_a_string()\n",
    "if s:\n",
    "    first_char = s[0]\n",
    "else:\n",
    "    first_char = \"\"\n",
    "    \n",
    "first_char"
   ]
  },
  {
   "cell_type": "code",
   "execution_count": 62,
   "metadata": {},
   "outputs": [
    {
     "data": {
      "text/plain": [
       "'i'"
      ]
     },
     "execution_count": 62,
     "metadata": {},
     "output_type": "execute_result"
    }
   ],
   "source": [
    "# simpler way of doing the above\n",
    "# return 2nd arg when 1st arg is \"Truthy\", return 1st arg if not\n",
    "first_char"
   ]
  },
  {
   "cell_type": "code",
   "execution_count": 63,
   "metadata": {},
   "outputs": [
    {
     "data": {
      "text/plain": [
       "0"
      ]
     },
     "execution_count": 63,
     "metadata": {},
     "output_type": "execute_result"
    }
   ],
   "source": [
    "# if x is either a number or possibly None\n",
    "safe_x = x or 0 # returns 2nd arg since s = None\n",
    "safe_x"
   ]
  },
  {
   "cell_type": "markdown",
   "metadata": {},
   "source": [
    "`all()` takes a list + returns `True` precisely when *every* element is \"Truthy\"\n",
    "\n",
    "`any()` returns `True` if *at least one* element is Truthy"
   ]
  },
  {
   "cell_type": "code",
   "execution_count": 66,
   "metadata": {},
   "outputs": [
    {
     "name": "stdout",
     "output_type": "stream",
     "text": [
      "True\n",
      "False\n",
      "True\n",
      "True\n",
      "False\n"
     ]
    }
   ],
   "source": [
    "print(all([True,1,{3}]))\n",
    "print(all([True,1,{}]))\n",
    "print(any([True,1,{}]))\n",
    "print(all([]))\n",
    "print(any([]))"
   ]
  },
  {
   "cell_type": "code",
   "execution_count": null,
   "metadata": {
    "collapsed": true
   },
   "outputs": [],
   "source": []
  }
 ],
 "metadata": {
  "kernelspec": {
   "display_name": "Python 3",
   "language": "python",
   "name": "python3"
  },
  "language_info": {
   "codemirror_mode": {
    "name": "ipython",
    "version": 3
   },
   "file_extension": ".py",
   "mimetype": "text/x-python",
   "name": "python",
   "nbconvert_exporter": "python",
   "pygments_lexer": "ipython3",
   "version": "3.6.3"
  }
 },
 "nbformat": 4,
 "nbformat_minor": 2
}
