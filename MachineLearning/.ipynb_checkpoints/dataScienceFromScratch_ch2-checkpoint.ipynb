{
 "cells": [
  {
   "cell_type": "markdown",
   "metadata": {},
   "source": [
    "# Ch. 2 - Crash Course in Python\n",
    "\n",
    "## Basics\n",
    "\n",
    "<ul>\n",
    "<li>Whitespace\tis\tignored\tinside\tparentheses\tand\tbrackets = helpful\tfor\tlong-winded\tcomputations and\tfor\tmaking\tcode\teasier\tto\tread</li>\n",
    "<li>Can use a backslash to indicate statements continue onto next line</li>"
   ]
  },
  {
   "cell_type": "code",
   "execution_count": 1,
   "metadata": {},
   "outputs": [
    {
     "name": "stdout",
     "output_type": "stream",
     "text": [
      "[[1, 2, 3], [4, 5, 6], [7, 8, 9]]\n",
      "5\n"
     ]
    }
   ],
   "source": [
    "list_of_lists = [[1,2,3],[4,5,6],\n",
    "                [7,8,9]]\n",
    "\n",
    "two_plus_three = 2 + \\\n",
    "3\n",
    "print(list_of_lists)\n",
    "print(two_plus_three)"
   ]
  },
  {
   "cell_type": "markdown",
   "metadata": {},
   "source": [
    "IPython has a **magic function** `%paste` which allows one to *correctly* paste whatever is on the clipboard, and keep the formatting, in a shell, for example.\n",
    "\n",
    "### Modules\n",
    "\n",
    "**Modules** are **imported**, as well as explictly importing specific values/functions to use them without qualifiers."
   ]
  },
  {
   "cell_type": "code",
   "execution_count": 2,
   "metadata": {
    "collapsed": true
   },
   "outputs": [],
   "source": [
    "from collections import defaultdict, Counter"
   ]
  },
  {
   "cell_type": "markdown",
   "metadata": {},
   "source": [
    "If using Python 2.7 and want to overwrite using **integer division** (i.e. 5/2 = 2), use"
   ]
  },
  {
   "cell_type": "code",
   "execution_count": 3,
   "metadata": {},
   "outputs": [
    {
     "name": "stdout",
     "output_type": "stream",
     "text": [
      "2.5\n",
      "2\n"
     ]
    }
   ],
   "source": [
    "from __future__ import division\n",
    "\n",
    "print(5/2)\n",
    "\n",
    "# use // to do integer division\n",
    "print(5//2)"
   ]
  },
  {
   "cell_type": "markdown",
   "metadata": {},
   "source": [
    "### Functions\n",
    "\n",
    "These are rules taking in 0+ inputs and returning an output, defined starting with `def`. They are also **first-class** = they can be assigned to variables and passed into other functions."
   ]
  },
  {
   "cell_type": "code",
   "execution_count": 4,
   "metadata": {},
   "outputs": [
    {
     "name": "stdout",
     "output_type": "stream",
     "text": [
      "2\n"
     ]
    }
   ],
   "source": [
    "def double(x):\n",
    "    \"\"\"optional docstring to describe\n",
    "    what function does\"\"\"\n",
    "    return x*2\n",
    "\n",
    "def apply_to_one(func):\n",
    "    \"\"\"calls provided function with an\n",
    "    argument of an integer = 1\"\"\"\n",
    "    return func(1)\n",
    "\n",
    "my_double = double\n",
    "x = apply_to_one(my_double)\n",
    "print(x)"
   ]
  },
  {
   "cell_type": "markdown",
   "metadata": {},
   "source": [
    "We can also create **lambdas**, which are short, anonymous (non-named) functions, which we *could* assign to a variable, but it'd be better to use `def` instead in such cases."
   ]
  },
  {
   "cell_type": "code",
   "execution_count": 5,
   "metadata": {
    "collapsed": true
   },
   "outputs": [],
   "source": [
    "# lambda argument = *action to do to argument*\n",
    "another_double = lambda x: 2*x # bad\n",
    "\n",
    "def another_double_2(x): # good\n",
    "    return 2*x"
   ]
  },
  {
   "cell_type": "code",
   "execution_count": 6,
   "metadata": {},
   "outputs": [
    {
     "name": "stdout",
     "output_type": "stream",
     "text": [
      "hello\n",
      "default\n"
     ]
    }
   ],
   "source": [
    "# make function with default value\n",
    "def my_print(message = \"default\"):\n",
    "    print(message)\n",
    "    \n",
    "my_print(\"hello\")\n",
    "my_print()"
   ]
  },
  {
   "cell_type": "code",
   "execution_count": 7,
   "metadata": {},
   "outputs": [
    {
     "name": "stdout",
     "output_type": "stream",
     "text": [
      "3\n",
      "5\n",
      "-5\n"
     ]
    }
   ],
   "source": [
    "# call function while specifying argument by name\n",
    "def subtract(a=0, b=0):\n",
    "    #return a-b\n",
    "    print(a-b)\n",
    "\n",
    "subtract(10,7)\n",
    "subtract(5)\n",
    "subtract(b=5)"
   ]
  },
  {
   "cell_type": "markdown",
   "metadata": {},
   "source": [
    "### Strings\n",
    "\n",
    "Can be delimited by single *or* double quotes (but they must match). \n",
    "\n",
    "To encode special characters, use must **escape** them with backslashes, but to use normal backslashes, create a **raw string** via `r\"xxxxx\"`.\n",
    "\n",
    "Create multi-line strings with triple-double quotes"
   ]
  },
  {
   "cell_type": "code",
   "execution_count": 8,
   "metadata": {},
   "outputs": [
    {
     "name": "stdout",
     "output_type": "stream",
     "text": [
      "1\n",
      "\\t\n"
     ]
    }
   ],
   "source": [
    "# tab as string\n",
    "tab_as_tab = \"\\t\"\n",
    "print(len(tab_as_tab))\n",
    "\n",
    "tab_as_string = r\"\\t\"\n",
    "print(tab_as_string)"
   ]
  },
  {
   "cell_type": "markdown",
   "metadata": {},
   "source": [
    "### Try and Except\n",
    "\n",
    "To try and handle an **exception** (something going wrong), **try** to remedy it:"
   ]
  },
  {
   "cell_type": "code",
   "execution_count": 9,
   "metadata": {},
   "outputs": [
    {
     "name": "stdout",
     "output_type": "stream",
     "text": [
      "can't divide by zero\n"
     ]
    }
   ],
   "source": [
    "try:\n",
    "    print(0/0)\n",
    "except ZeroDivisionError:\n",
    "    print(\"can't divide by zero\")"
   ]
  },
  {
   "cell_type": "markdown",
   "metadata": {},
   "source": [
    "### Lists\n",
    "\n",
    "**List** = ordered **collection** (like an array but with added functionality)."
   ]
  },
  {
   "cell_type": "code",
   "execution_count": 10,
   "metadata": {
    "collapsed": true
   },
   "outputs": [],
   "source": [
    "int_list = [1,2,3]\n",
    "heterogenous_list = [1,\"string\",0.5,True]\n",
    "list_of_lists = [[1,2,3],[4,5],[6]]"
   ]
  },
  {
   "cell_type": "code",
   "execution_count": 11,
   "metadata": {},
   "outputs": [
    {
     "name": "stdout",
     "output_type": "stream",
     "text": [
      "3\n",
      "6\n"
     ]
    }
   ],
   "source": [
    "print(len(list_of_lists))\n",
    "print(sum(int_list))"
   ]
  },
  {
   "cell_type": "code",
   "execution_count": 12,
   "metadata": {},
   "outputs": [
    {
     "name": "stdout",
     "output_type": "stream",
     "text": [
      "0\n",
      "1\n"
     ]
    }
   ],
   "source": [
    "# make list of integers from 0-9\n",
    "x = range(10)\n",
    "\n",
    "# get 1st and then 2nd element\n",
    "print(x[0])\n",
    "print(x[1])"
   ]
  },
  {
   "cell_type": "code",
   "execution_count": 13,
   "metadata": {},
   "outputs": [
    {
     "name": "stdout",
     "output_type": "stream",
     "text": [
      "9\n",
      "8\n"
     ]
    }
   ],
   "source": [
    "# get the last and 2nd-to-last elements in the Pythonic way\n",
    "print(x[-1])\n",
    "print(x[-2])"
   ]
  },
  {
   "cell_type": "code",
   "execution_count": 14,
   "metadata": {},
   "outputs": [
    {
     "name": "stdout",
     "output_type": "stream",
     "text": [
      "-1\n",
      "1\n",
      "2\n",
      "3\n",
      "4\n"
     ]
    }
   ],
   "source": [
    "# change 1st element to -1 \n",
    "# must first convert to list first as range() is a generator in Python3\n",
    "# no longer returns a list\n",
    "x = list(x)\n",
    "x[0] = -1\n",
    "\n",
    "i = 0\n",
    "while i < 5:\n",
    "    print(x[i])\n",
    "    i = i+1"
   ]
  },
  {
   "cell_type": "code",
   "execution_count": 15,
   "metadata": {},
   "outputs": [
    {
     "name": "stdout",
     "output_type": "stream",
     "text": [
      "[-1, 1, 2]\n",
      "[3, 4, 5, 6, 7, 8, 9]\n"
     ]
    }
   ],
   "source": [
    "# slice lists with square brackets\n",
    "\n",
    "# get 1st 3 elements\n",
    "print(x[:3])\n",
    "# get from 3rd element to the end\n",
    "print(x[3:])"
   ]
  },
  {
   "cell_type": "code",
   "execution_count": 16,
   "metadata": {},
   "outputs": [
    {
     "name": "stdout",
     "output_type": "stream",
     "text": [
      "[7, 8, 9]\n",
      "[1, 2, 3, 4, 5, 6, 7, 8]\n"
     ]
    }
   ],
   "source": [
    "# get last 3 elements\n",
    "print(x[-3:])\n",
    "# cut off 1st and last\n",
    "print(x[1:-1])"
   ]
  },
  {
   "cell_type": "code",
   "execution_count": 17,
   "metadata": {},
   "outputs": [
    {
     "name": "stdout",
     "output_type": "stream",
     "text": [
      "[-1, 1, 2, 3, 4, 5, 6, 7, 8, 9]\n"
     ]
    }
   ],
   "source": [
    "# make a copy of list\n",
    "x2 = x[:]\n",
    "print(x2)"
   ]
  },
  {
   "cell_type": "code",
   "execution_count": 18,
   "metadata": {},
   "outputs": [
    {
     "name": "stdout",
     "output_type": "stream",
     "text": [
      "True\n",
      "False\n"
     ]
    }
   ],
   "source": [
    "# check for values within a list\n",
    "print(4 in x)\n",
    "print(6 in [2,2,2,3])"
   ]
  },
  {
   "cell_type": "markdown",
   "metadata": {},
   "source": [
    "The above list **membership** check goes over each element one-by-one, so it shouldn't be used unless the list is small."
   ]
  },
  {
   "cell_type": "code",
   "execution_count": 19,
   "metadata": {},
   "outputs": [
    {
     "name": "stdout",
     "output_type": "stream",
     "text": [
      "[1, 2, 3, 3, 4, 5]\n"
     ]
    }
   ],
   "source": [
    "# concatenate lists\n",
    "x1 = [1,2,3]\n",
    "x1.extend([3,4,5])\n",
    "print(x1)"
   ]
  },
  {
   "cell_type": "code",
   "execution_count": 20,
   "metadata": {},
   "outputs": [
    {
     "name": "stdout",
     "output_type": "stream",
     "text": [
      "[-1, 1, 2, 3, 4, 5, 6, 7, 8, 9, 1, 1, 1]\n"
     ]
    }
   ],
   "source": [
    "# add to elements of list\n",
    "y = x + [1,1,1]\n",
    "print(y)"
   ]
  },
  {
   "cell_type": "code",
   "execution_count": 21,
   "metadata": {},
   "outputs": [
    {
     "name": "stdout",
     "output_type": "stream",
     "text": [
      "[-1, 1, 2, 3, 4, 5, 6, 7, 8, 9, 15]\n"
     ]
    }
   ],
   "source": [
    "# append items to list one at a time\n",
    "x.append(15)\n",
    "print(x)"
   ]
  },
  {
   "cell_type": "markdown",
   "metadata": {},
   "source": [
    "It is helpful to **unpack lists** if we are unsure of how many elements it contains"
   ]
  },
  {
   "cell_type": "code",
   "execution_count": 22,
   "metadata": {},
   "outputs": [
    {
     "name": "stdout",
     "output_type": "stream",
     "text": [
      "1\n",
      "2\n"
     ]
    }
   ],
   "source": [
    "x,y = [1,2]\n",
    "print(x)\n",
    "print(y)"
   ]
  },
  {
   "cell_type": "markdown",
   "metadata": {},
   "source": [
    "The above returns a `ValueError` if there is not the same number of elements on both sides. If we're going to throw a value away while unpacking, we use an underscore."
   ]
  },
  {
   "cell_type": "code",
   "execution_count": 23,
   "metadata": {},
   "outputs": [
    {
     "name": "stdout",
     "output_type": "stream",
     "text": [
      "2\n",
      "1\n"
     ]
    }
   ],
   "source": [
    "_,y,z = [3,2,1] # 3 is nowhere to be found\n",
    "print(y)\n",
    "print(z)"
   ]
  },
  {
   "cell_type": "markdown",
   "metadata": {},
   "source": [
    "### Tuples\n",
    "\n",
    "These are **immutable** versions of lists, as anything we can do to lists, we can do to tuples, except change them."
   ]
  },
  {
   "cell_type": "code",
   "execution_count": 24,
   "metadata": {
    "collapsed": true
   },
   "outputs": [],
   "source": [
    "my_list = [1,2]\n",
    "my_tuple = (1,2)\n",
    "tupl2 = 3,4\n",
    "my_list[1] = 3"
   ]
  },
  {
   "cell_type": "code",
   "execution_count": 25,
   "metadata": {},
   "outputs": [
    {
     "name": "stdout",
     "output_type": "stream",
     "text": [
      "[1, 3]\n"
     ]
    }
   ],
   "source": [
    "print(my_list)"
   ]
  },
  {
   "cell_type": "code",
   "execution_count": 26,
   "metadata": {},
   "outputs": [
    {
     "name": "stdout",
     "output_type": "stream",
     "text": [
      "can't modify a tuple\n"
     ]
    }
   ],
   "source": [
    "try:\n",
    "    my_tuple[1] = 3\n",
    "except TypeError:\n",
    "    print(\"can't modify a tuple\")"
   ]
  },
  {
   "cell_type": "markdown",
   "metadata": {},
   "source": [
    "A good use of tuples is returning multiple values from a function."
   ]
  },
  {
   "cell_type": "code",
   "execution_count": 27,
   "metadata": {},
   "outputs": [
    {
     "name": "stdout",
     "output_type": "stream",
     "text": [
      "(5, 6)\n"
     ]
    }
   ],
   "source": [
    "def sum_and_product(x,y):\n",
    "    return (x+y),(x*y)\n",
    "\n",
    "print(sum_and_product(2,3))"
   ]
  },
  {
   "cell_type": "code",
   "execution_count": 28,
   "metadata": {},
   "outputs": [
    {
     "name": "stdout",
     "output_type": "stream",
     "text": [
      "7\n",
      "12\n"
     ]
    }
   ],
   "source": [
    "sp = sum_and_product(4,3)\n",
    "# unpack sp\n",
    "s,p = sp\n",
    "print(s)\n",
    "print(p)"
   ]
  },
  {
   "cell_type": "code",
   "execution_count": 29,
   "metadata": {},
   "outputs": [
    {
     "name": "stdout",
     "output_type": "stream",
     "text": [
      "15\n",
      "50\n"
     ]
    }
   ],
   "source": [
    "s,p = sum_and_product(5,10)\n",
    "print(s)\n",
    "print(p)"
   ]
  },
  {
   "cell_type": "markdown",
   "metadata": {},
   "source": [
    "Can also use tuples and lists for **multiple assignment**."
   ]
  },
  {
   "cell_type": "code",
   "execution_count": 30,
   "metadata": {},
   "outputs": [
    {
     "name": "stdout",
     "output_type": "stream",
     "text": [
      "1\n",
      "2\n",
      "2\n",
      "1\n"
     ]
    }
   ],
   "source": [
    "x,y, = 1,2\n",
    "print(x)\n",
    "print(y)\n",
    "# swap variables in the Pythonic way\n",
    "x,y = y,x\n",
    "print(x)\n",
    "print(y)"
   ]
  },
  {
   "cell_type": "markdown",
   "metadata": {
    "collapsed": true
   },
   "source": [
    "### Dictionaries\n",
    "\n",
    "These are containers for **key-value (kv) pairs** from which we can easily obtain values via their keys"
   ]
  },
  {
   "cell_type": "code",
   "execution_count": 31,
   "metadata": {
    "collapsed": true
   },
   "outputs": [],
   "source": [
    "empty_dict = {} # = Pythonic manner\n",
    "empty_dict2 = dict() # = not-so Pythonic\n",
    "\n",
    "grades = {\"Joel\":80,\"Tim\":95} # literal defining of dict"
   ]
  },
  {
   "cell_type": "code",
   "execution_count": 32,
   "metadata": {},
   "outputs": [
    {
     "name": "stdout",
     "output_type": "stream",
     "text": [
      "80\n"
     ]
    }
   ],
   "source": [
    "# look up values via a key in square brackets\n",
    "joels_grade = grades[\"Joel\"]\n",
    "print(joels_grade)"
   ]
  },
  {
   "cell_type": "code",
   "execution_count": 33,
   "metadata": {},
   "outputs": [
    {
     "ename": "KeyError",
     "evalue": "'Bob'",
     "output_type": "error",
     "traceback": [
      "\u001b[1;31m---------------------------------------------------------------------------\u001b[0m",
      "\u001b[1;31mKeyError\u001b[0m                                  Traceback (most recent call last)",
      "\u001b[1;32m<ipython-input-33-310da935b38e>\u001b[0m in \u001b[0;36m<module>\u001b[1;34m()\u001b[0m\n\u001b[0;32m      1\u001b[0m \u001b[1;31m# get KeyError if we ask for a key that doesn't exist in dict\u001b[0m\u001b[1;33m\u001b[0m\u001b[1;33m\u001b[0m\u001b[0m\n\u001b[1;32m----> 2\u001b[1;33m \u001b[0mgrades\u001b[0m\u001b[1;33m[\u001b[0m\u001b[1;34m\"Bob\"\u001b[0m\u001b[1;33m]\u001b[0m\u001b[1;33m\u001b[0m\u001b[0m\n\u001b[0m",
      "\u001b[1;31mKeyError\u001b[0m: 'Bob'"
     ]
    }
   ],
   "source": [
    "# get KeyError if we ask for a key that doesn't exist in dict\n",
    "grades[\"Bob\"]"
   ]
  },
  {
   "cell_type": "code",
   "execution_count": null,
   "metadata": {},
   "outputs": [],
   "source": [
    "# check for existence of keys via Try/Except\n",
    "try:\n",
    "    kates_grade = grades[\"Kate\"]\n",
    "except KeyError:\n",
    "    print(\"No grade for Kate\")"
   ]
  },
  {
   "cell_type": "code",
   "execution_count": null,
   "metadata": {},
   "outputs": [],
   "source": [
    "# check for existence of keys via 'in'\n",
    "joel_has_grade = \"Joel\" in grades\n",
    "rob_has_grade = \"Rob\" in grades\n",
    "\n",
    "print(joel_has_grade)\n",
    "print(rob_has_grade)"
   ]
  },
  {
   "cell_type": "code",
   "execution_count": null,
   "metadata": {},
   "outputs": [],
   "source": [
    "# get default value for a key instead of raising exception via .get()\n",
    "joels_grade = grades.get(\"Joel\",0)\n",
    "kates_grade = grades.get(\"Kate\",2)\n",
    "no_ones_grade = grades.get(\"NA\") # default value of None\n",
    "\n",
    "print(joels_grade)\n",
    "print(kates_grade)\n",
    "print(no_ones_grade)"
   ]
  },
  {
   "cell_type": "code",
   "execution_count": null,
   "metadata": {},
   "outputs": [],
   "source": [
    "# assing KV pairs via brackets\n",
    "grades[\"Tim\"] = 99 # used to be 95\n",
    "grades[\"Kate\"] = 78 # new KV pair\n",
    "\n",
    "print(grades)"
   ]
  },
  {
   "cell_type": "markdown",
   "metadata": {},
   "source": [
    "Dictionaries are frequently used to display structured data in a simple manner."
   ]
  },
  {
   "cell_type": "code",
   "execution_count": null,
   "metadata": {},
   "outputs": [],
   "source": [
    "tweet = {\n",
    "    \"user\":\"joel_grus\"\n",
    "    ,\"text\": \"Hello world\"\n",
    "    ,\"retweet_count\":108\n",
    "    ,\"hashtags\":[\"data\",\"science\",\"hello\",\"world\"] # list\n",
    "}\n",
    "\n",
    "print(tweet)"
   ]
  },
  {
   "cell_type": "code",
   "execution_count": null,
   "metadata": {},
   "outputs": [],
   "source": [
    "# look for ALL keys\n",
    "tweet_keys = tweet.keys()\n",
    "\n",
    "# get ALL values\n",
    "tweet_vals = tweet.values()\n",
    "\n",
    "# get all KV pairs (tuples w/in dict)\n",
    "tweet_tuples = tweet.items()\n",
    "\n",
    "print(tweet_keys)\n",
    "print(tweet_vals)\n",
    "print(tweet_tuples)"
   ]
  },
  {
   "cell_type": "code",
   "execution_count": null,
   "metadata": {},
   "outputs": [],
   "source": [
    "print(\"joel_grus\" in tweet_keys)\n",
    "print(\"joel_grus\" in tweet_vals)"
   ]
  },
  {
   "cell_type": "markdown",
   "metadata": {},
   "source": [
    "Dictionary keys *must* be immutable, so we **cannot use lists as keys**. \n",
    "\n",
    "To create a multi-part key, we must use a tuple or we must figure out a way to turn the key into a string.\n",
    "\n",
    "### defaultdict\n",
    "\n",
    "This is like a regular dictionary, but its imported from `collections` and when we attempt to lookup a key that doesn't exist, it adds the key to the dictionary with a value using a zero-argument function provided when the dictionary was created."
   ]
  },
  {
   "cell_type": "code",
   "execution_count": null,
   "metadata": {
    "collapsed": true
   },
   "outputs": [],
   "source": [
    "# try to count words in a doc in a dict where keys = words\n",
    "# and vals = counts\n",
    "\n",
    "# increment counts by 1 each time a word is checked and its in the\n",
    "# dict, and add it to the dict if its not\n",
    "word_counts = {};\n",
    "doc = \"Hello, world, hi\"\n",
    "for word in doc:\n",
    "    if word in word_counts:\n",
    "        word_counts[word] += 1 # increment word count if present\n",
    "    else:\n",
    "        word_counts[word] = 1 # add word if not present"
   ]
  },
  {
   "cell_type": "code",
   "execution_count": null,
   "metadata": {
    "collapsed": true
   },
   "outputs": [],
   "source": [
    "# Try \"forgiveness is better than permission\" = handle the exception\n",
    "# from trying to loop up a missing/invalid key\n",
    "word_counts = {};\n",
    "doc = \"Hello, world, hi\"\n",
    "for word in doc:\n",
    "    try:\n",
    "        word_counts[word] += 1 # increment word count if present\n",
    "    except KeyError:\n",
    "        word_counts[word] = 1 # add word if not present"
   ]
  },
  {
   "cell_type": "code",
   "execution_count": null,
   "metadata": {
    "collapsed": true
   },
   "outputs": [],
   "source": [
    "# another approach = use .get() with a default value for missing keys\n",
    "word_counts = {};\n",
    "doc = [\"Hello\", \"world\", \"hi\"]\n",
    "for word in doc:\n",
    "    previous_count = word_counts.get(word,1)\n",
    "    word_counts[word] = previous_count + 1"
   ]
  },
  {
   "cell_type": "code",
   "execution_count": null,
   "metadata": {
    "collapsed": true
   },
   "outputs": [],
   "source": [
    "# use defaultdict (better)\n",
    "from collections import defaultdict\n",
    "\n",
    "word_counts = defaultdict(int); # (int)= int() = produces a value of 0\n",
    "doc = [\"Hello\", \"world\", \"hi\"]\n",
    "\n",
    "for word in doc:\n",
    "    word_counts[word] += 1 # increment word count if present"
   ]
  },
  {
   "cell_type": "markdown",
   "metadata": {},
   "source": [
    "`defaultdict`'s are also useful with `list`'s or `dict`'s, or user-defined functions."
   ]
  },
  {
   "cell_type": "code",
   "execution_count": null,
   "metadata": {},
   "outputs": [],
   "source": [
    "dd_list = defaultdict(list) # (list) = list() =  produces empty list\n",
    "\n",
    "# dd.list[key].append(value)\n",
    "dd_list[2].append(1) \n",
    "\n",
    "print(dd_list)"
   ]
  },
  {
   "cell_type": "code",
   "execution_count": null,
   "metadata": {},
   "outputs": [],
   "source": [
    "dd_dict = defaultdict(dict) # = dict() = produces empty dict\n",
    "\n",
    "# dd_dict[Key][InnerKey] = Value\n",
    "dd_dict[\"Joel\"][\"City\"] = \"Seattle\" # uses dictionary as a value\n",
    "\n",
    "print(dd_dict)"
   ]
  },
  {
   "cell_type": "code",
   "execution_count": null,
   "metadata": {},
   "outputs": [],
   "source": [
    "# use lambda (anonymous) function to set 1st keys value = [0,0]\n",
    "dd_pair = defaultdict(lambda: [0,0])\n",
    "print(dict(dd_pair))"
   ]
  },
  {
   "cell_type": "code",
   "execution_count": null,
   "metadata": {},
   "outputs": [],
   "source": [
    "# for key = 2, make the 2nd value for this key = 1\n",
    "dd_pair[2][1] = 1\n",
    "print(dict(dd_pair))"
   ]
  },
  {
   "cell_type": "markdown",
   "metadata": {},
   "source": [
    "These are also useful for collecting results by some key and we don't want to check if a key exists yet every time\n",
    "\n",
    "### Counter\n",
    "\n",
    "These turn sequences of values into a `defaultdict(int)`-like object, mapping keys to counts. It's primarily used to create histograms."
   ]
  },
  {
   "cell_type": "code",
   "execution_count": null,
   "metadata": {},
   "outputs": [],
   "source": [
    "from collections import Counter\n",
    "c = Counter([0,1,2,3,0])\n",
    "print(c)"
   ]
  },
  {
   "cell_type": "markdown",
   "metadata": {},
   "source": [
    "This provides a simple solution to the `word_counts` problem"
   ]
  },
  {
   "cell_type": "code",
   "execution_count": null,
   "metadata": {},
   "outputs": [],
   "source": [
    "doc = [\"Hello\", \"world\", \"hi\",\"hi\",\"hi\",\"hi\",\"hi\",\"but\",\"flyers\",\n",
    "      \"why\",\"suck\",\"pizza\"]\n",
    "\n",
    "word_counts = Counter(doc)\n",
    "print(word_counts)"
   ]
  },
  {
   "cell_type": "code",
   "execution_count": null,
   "metadata": {},
   "outputs": [],
   "source": [
    "# get most common word\n",
    "for word,count in word_counts.most_common(10):\n",
    "    print(word,count)"
   ]
  },
  {
   "cell_type": "code",
   "execution_count": null,
   "metadata": {},
   "outputs": [],
   "source": [
    "word_counts.most_common(10)"
   ]
  },
  {
   "cell_type": "markdown",
   "metadata": {},
   "source": [
    "### Sets\n",
    "\n",
    "These are a collection of *distint* elements."
   ]
  },
  {
   "cell_type": "code",
   "execution_count": null,
   "metadata": {},
   "outputs": [],
   "source": [
    "s = set()\n",
    "s.add(1)\n",
    "s.add(2)\n",
    "s.add(2) # does not change the set as we already have a '2'\n",
    "print(s)"
   ]
  },
  {
   "cell_type": "code",
   "execution_count": null,
   "metadata": {},
   "outputs": [],
   "source": [
    "x = len(s)\n",
    "y = 2 in s\n",
    "z = 3 in s\n",
    "print(x,y,z)"
   ]
  },
  {
   "cell_type": "markdown",
   "metadata": {},
   "source": [
    "Sets are useful because `in` works very fast on sets, and to find distinct elements in a collection (but used less than `dict`'s and `list`'s\n",
    "\n",
    "If we have a large collection of items we want to use for a **membership test**, sets are more appropriate than lists."
   ]
  },
  {
   "cell_type": "code",
   "execution_count": null,
   "metadata": {},
   "outputs": [],
   "source": [
    "stopwords_list = [\"a\",\"an\",\"at\"] + [\"yet\",\"you\"];\n",
    "\n",
    "print(\"zip\" in stopwords_list) # must check every element in list\n",
    "\n",
    "stopwords_set = set(stopwords_list)\n",
    "print(\"zip\" in stopwords_set) # faster"
   ]
  },
  {
   "cell_type": "code",
   "execution_count": null,
   "metadata": {},
   "outputs": [],
   "source": [
    "# find distinct items\n",
    "item_list = [1,2,3,1,2,3]\n",
    "num_items = len(item_list)\n",
    "\n",
    "# get distinct items\n",
    "item_set = set(item_list)\n",
    "num_distinct_items = len(item_set)\n",
    "\n",
    "# convert back to list\n",
    "distinct_item_list = list(item_set)\n",
    "\n",
    "print(item_list)\n",
    "print(num_items)\n",
    "print(item_set)\n",
    "print(num_distinct_items)\n",
    "print(distinct_item_list)"
   ]
  },
  {
   "cell_type": "markdown",
   "metadata": {},
   "source": [
    "### Control Flow\n",
    "\n",
    "Perform an action **conditionally** using `if`"
   ]
  },
  {
   "cell_type": "code",
   "execution_count": null,
   "metadata": {},
   "outputs": [],
   "source": [
    "if 1 > 3:\n",
    "    message = \"if only 1 were greater than 3...\"\n",
    "elif 1 > 4:\n",
    "    message = \"nope\"\n",
    "else:\n",
    "    message = \"when all else fails (if desired)\"\n",
    "    \n",
    "print(message)"
   ]
  },
  {
   "cell_type": "markdown",
   "metadata": {},
   "source": [
    "Can also write **ternary** if-then-else statements on one line"
   ]
  },
  {
   "cell_type": "code",
   "execution_count": null,
   "metadata": {},
   "outputs": [],
   "source": [
    "parity = \"even\" if x % 2 == 0 else \"odd\"\n",
    "print(parity)"
   ]
  },
  {
   "cell_type": "code",
   "execution_count": null,
   "metadata": {},
   "outputs": [],
   "source": [
    "# WHILE loops\n",
    "x = 0\n",
    "while x < 10:\n",
    "    print(x,\"is less than 10\")\n",
    "    x += 1"
   ]
  },
  {
   "cell_type": "code",
   "execution_count": null,
   "metadata": {},
   "outputs": [],
   "source": [
    "# more common to use `for` and `in` than a `while`\n",
    "for x in range(10):\n",
    "    print(x,\"is less than 10\")"
   ]
  },
  {
   "cell_type": "code",
   "execution_count": null,
   "metadata": {},
   "outputs": [],
   "source": [
    "# more complex logic = use `continue` and `break`\n",
    "for x in range(10):\n",
    "    if x == 3:\n",
    "        continue # go to next iteration (increase x)\n",
    "    if x == 5:\n",
    "        break # quit loop\n",
    "    print(x)"
   ]
  },
  {
   "cell_type": "markdown",
   "metadata": {},
   "source": [
    "### Truthiness\n",
    "\n",
    "**Booleans** work like in other languages, but capitalized"
   ]
  },
  {
   "cell_type": "code",
   "execution_count": null,
   "metadata": {},
   "outputs": [],
   "source": [
    "print(1 < 2)\n",
    "print(True == False)"
   ]
  },
  {
   "cell_type": "markdown",
   "metadata": {},
   "source": [
    "Python uses `None` for nonexistent values (such as `Null`, `Nan` or `NA`'s)"
   ]
  },
  {
   "cell_type": "code",
   "execution_count": null,
   "metadata": {},
   "outputs": [],
   "source": [
    "x = None\n",
    "print(x == None)\n",
    "print(x is None)"
   ]
  },
  {
   "cell_type": "markdown",
   "metadata": {},
   "source": [
    "We can use any value where Python expects a Boolean"
   ]
  },
  {
   "cell_type": "code",
   "execution_count": null,
   "metadata": {
    "collapsed": true
   },
   "outputs": [],
   "source": [
    "# all False\n",
    "falsy = [False, None, [], {}, \"\", set(), 0, 0.0]"
   ]
  },
  {
   "cell_type": "markdown",
   "metadata": {},
   "source": [
    "Anythin else is treated at `True`. This makes it easy to use `if` statements to test for empty lists/strings/dicts, etc. But it can also cause bugs if we're not expecting this behavior"
   ]
  },
  {
   "cell_type": "code",
   "execution_count": null,
   "metadata": {},
   "outputs": [],
   "source": [
    "def function_returning_a_string():\n",
    "    return \"it's a string, baby\"\n",
    "\n",
    "s = function_returning_a_string()\n",
    "if s:\n",
    "    first_char = s[0]\n",
    "else:\n",
    "    first_char = \"\"\n",
    "    \n",
    "first_char"
   ]
  },
  {
   "cell_type": "code",
   "execution_count": null,
   "metadata": {},
   "outputs": [],
   "source": [
    "# simpler way of doing the above\n",
    "# return 2nd arg when 1st arg is \"Truthy\", return 1st arg if not\n",
    "first_char"
   ]
  },
  {
   "cell_type": "code",
   "execution_count": null,
   "metadata": {},
   "outputs": [],
   "source": [
    "# if x is either a number or possibly None\n",
    "safe_x = x or 0 # returns 2nd arg since s = None\n",
    "safe_x"
   ]
  },
  {
   "cell_type": "markdown",
   "metadata": {},
   "source": [
    "`all()` takes a list + returns `True` precisely when *every* element is \"Truthy\"\n",
    "\n",
    "`any()` returns `True` if *at least one* element is Truthy"
   ]
  },
  {
   "cell_type": "code",
   "execution_count": null,
   "metadata": {},
   "outputs": [],
   "source": [
    "print(all([True,1,{3}]))\n",
    "print(all([True,1,{}]))\n",
    "print(any([True,1,{}]))\n",
    "print(all([]))\n",
    "print(any([]))"
   ]
  },
  {
   "cell_type": "markdown",
   "metadata": {
    "collapsed": true
   },
   "source": [
    "## Not-so-basics\n",
    "\n",
    "### Sorting\n",
    "\n",
    "Python `list`'s have a `.sort()` method to sort the list *in-place*. To get a *new* list, used the `sorted()` function."
   ]
  },
  {
   "cell_type": "code",
   "execution_count": null,
   "metadata": {},
   "outputs": [],
   "source": [
    "x = [4,1,3,2]\n",
    "print(x.sort())\n",
    "print(x)"
   ]
  },
  {
   "cell_type": "code",
   "execution_count": null,
   "metadata": {},
   "outputs": [],
   "source": [
    "x = [4,1,3,2]\n",
    "y = sorted(x)\n",
    "print(x,y)"
   ]
  },
  {
   "cell_type": "markdown",
   "metadata": {},
   "source": [
    "By default both techniques above sort from \"smallest\" to \"largest\", baised on a naive comparison of list `elements`.\n",
    "\n",
    "To do the opposite, utilize argument `reverse = True`.\n",
    "\n",
    "We can also compare the results of a function with specified keys."
   ]
  },
  {
   "cell_type": "code",
   "execution_count": null,
   "metadata": {},
   "outputs": [],
   "source": [
    "# sort list from largest to smallest\n",
    "x = [4,1,3,2]\n",
    "x.sort(reverse = True)\n",
    "print(x)"
   ]
  },
  {
   "cell_type": "code",
   "execution_count": null,
   "metadata": {},
   "outputs": [],
   "source": [
    "# sort words and counts from highest to lowest counts\n",
    "doc = [\"Hello\", \"world\", \"hi\",\"hi\",\"hi\",\"hi\",\"hi\",\"but\",\"flyers\",\n",
    "      \"why\",\"suck\",\"pizza\",\"pizza\",\"flyer\",\"flyers\"]\n",
    "\n",
    "word_counts = Counter(doc)\n",
    "print(word_counts)\n",
    "\n",
    "wc = sorted(word_counts.items(),\n",
    "            key=lambda x: x[1], # sort by 2nd value in items = count\n",
    "            reverse=True)"
   ]
  },
  {
   "cell_type": "markdown",
   "metadata": {},
   "source": [
    "### List Comprehensions\n",
    "\n",
    "Common to transform lists into another list by choosing only certain elements, transforming certain elements, or maybe both. To do this in a Pythonic manner, use **list comprehensions**."
   ]
  },
  {
   "cell_type": "code",
   "execution_count": 40,
   "metadata": {},
   "outputs": [
    {
     "name": "stdout",
     "output_type": "stream",
     "text": [
      "[0, 2, 4]\n",
      "[0, 1, 4, 9, 16]\n",
      "[0, 1, 4, 9, 16]\n",
      "[0, 4, 16]\n"
     ]
    }
   ],
   "source": [
    "# get all numbers that are divisible by 2 in range 0 to 4\n",
    "even_num = [x for x in range(5) if x % 2 == 0] \n",
    "\n",
    "# get all values in range 0-4 and square them\n",
    "squares = [x**2 for x in range(5)]\n",
    "# squares = [x*x for x in range(5)]\n",
    "\n",
    "# get all even squares\n",
    "even_squares = [x**2 for x in even_num]\n",
    "# even_squares = [x*x for x in even_num]\n",
    "\n",
    "print(even_num)\n",
    "print(squares)\n",
    "print(even_squares)"
   ]
  },
  {
   "cell_type": "markdown",
   "metadata": {},
   "source": [
    "Can also turn `list`'s into `dict`'s and `set`'s"
   ]
  },
  {
   "cell_type": "code",
   "execution_count": 42,
   "metadata": {},
   "outputs": [
    {
     "name": "stdout",
     "output_type": "stream",
     "text": [
      "{0: 0, 1: 1, 2: 4, 3: 9, 4: 16}\n",
      "{1}\n"
     ]
    }
   ],
   "source": [
    "# for each value in 0-4, make the int a key and its square = its value\n",
    "square_dict = {x : x**2 for x in range(5)}\n",
    "\n",
    "# for each int in list, square it into a set (DISTINCT)\n",
    "square_set = {x**2 for x in [1,-1]}\n",
    "\n",
    "print(square_dict)\n",
    "print(square_set)"
   ]
  },
  {
   "cell_type": "markdown",
   "metadata": {},
   "source": [
    "Use an underscore as a variable if we don't need a value from a list"
   ]
  },
  {
   "cell_type": "code",
   "execution_count": 44,
   "metadata": {},
   "outputs": [
    {
     "name": "stdout",
     "output_type": "stream",
     "text": [
      "[0, 0, 0]\n"
     ]
    }
   ],
   "source": [
    "# returns a list of 0's with same length as even_num\n",
    "zeroes = [0 for _ in even_num]\n",
    "print(zeroes)"
   ]
  },
  {
   "cell_type": "code",
   "execution_count": 47,
   "metadata": {},
   "outputs": [
    {
     "name": "stdout",
     "output_type": "stream",
     "text": [
      "100\n",
      "\n",
      "[(0, 0), (0, 1), (0, 2), (0, 3), (0, 4), (0, 5), (0, 6), (0, 7), (0, 8), (0, 9), (1, 0), (1, 1), (1, 2), (1, 3), (1, 4), (1, 5), (1, 6), (1, 7), (1, 8), (1, 9), (2, 0), (2, 1), (2, 2), (2, 3), (2, 4), (2, 5), (2, 6), (2, 7), (2, 8), (2, 9), (3, 0), (3, 1), (3, 2), (3, 3), (3, 4), (3, 5), (3, 6), (3, 7), (3, 8), (3, 9), (4, 0), (4, 1), (4, 2), (4, 3), (4, 4), (4, 5), (4, 6), (4, 7), (4, 8), (4, 9), (5, 0), (5, 1), (5, 2), (5, 3), (5, 4), (5, 5), (5, 6), (5, 7), (5, 8), (5, 9), (6, 0), (6, 1), (6, 2), (6, 3), (6, 4), (6, 5), (6, 6), (6, 7), (6, 8), (6, 9), (7, 0), (7, 1), (7, 2), (7, 3), (7, 4), (7, 5), (7, 6), (7, 7), (7, 8), (7, 9), (8, 0), (8, 1), (8, 2), (8, 3), (8, 4), (8, 5), (8, 6), (8, 7), (8, 8), (8, 9), (9, 0), (9, 1), (9, 2), (9, 3), (9, 4), (9, 5), (9, 6), (9, 7), (9, 8), (9, 9)]\n"
     ]
    }
   ],
   "source": [
    "## use multiple `for`'s in list comprehension\n",
    "\n",
    "# make a 100 (10x10) element list of pairs\n",
    "pairs = [(x,y)\n",
    "        for x in range(10)\n",
    "        for y in range(10)]\n",
    "\n",
    "print(len(pairs))\n",
    "print()\n",
    "print(pairs)"
   ]
  },
  {
   "cell_type": "code",
   "execution_count": 50,
   "metadata": {},
   "outputs": [
    {
     "name": "stdout",
     "output_type": "stream",
     "text": [
      "[(0, 1), (0, 2), (0, 3), (0, 4), (0, 5), (0, 6), (0, 7), (0, 8), (0, 9), (1, 2), (1, 3), (1, 4), (1, 5), (1, 6), (1, 7), (1, 8), (1, 9), (2, 3), (2, 4), (2, 5), (2, 6), (2, 7), (2, 8), (2, 9), (3, 4), (3, 5), (3, 6), (3, 7), (3, 8), (3, 9), (4, 5), (4, 6), (4, 7), (4, 8), (4, 9), (5, 6), (5, 7), (5, 8), (5, 9), (6, 7), (6, 8), (6, 9), (7, 8), (7, 9), (8, 9)]\n"
     ]
    }
   ],
   "source": [
    "## use previous `for`'s in later `for`'s\n",
    "increasing_pairs = [(x,y)\n",
    "                   for x in range(10)\n",
    "                    # only pair y's in 0-9 with NON-matching x's\n",
    "                    for y in range(x+1,10)] \n",
    "\n",
    "print(increasing_pairs)"
   ]
  },
  {
   "cell_type": "markdown",
   "metadata": {},
   "source": [
    "### Generators and Iterators\n",
    "\n",
    "Lists can grow very big, which could be a problem. Ex: `range(1000000)` makes a 1M-element list, and if we only need to deal with one element at a time, this can be very inefficient or memory-intensive. If we maybe only need the first couple of elements, to calculate all is wasteful.\n",
    "\n",
    "We can use `generator`'s to iterate over (usually using `for`) but in which values are produced only as needed (i.e. **lazily**). \n",
    "\n",
    "Generators can only be iterated over *once*, as they don't store all values in memory but calculate on the fly. To iterate over something more than once, we need to recreate the generator for each time it's needed, or use a list"
   ]
  },
  {
   "cell_type": "code",
   "execution_count": 53,
   "metadata": {},
   "outputs": [
    {
     "name": "stdout",
     "output_type": "stream",
     "text": [
      "0\n",
      "1\n",
      "2\n",
      "3\n",
      "4\n",
      "5\n",
      "6\n",
      "7\n",
      "8\n",
      "9\n"
     ]
    }
   ],
   "source": [
    "# create generator with functions and `yield` operator\n",
    "def lazy_range(n):\n",
    "    \"\"\"Creates a 'laze' version of range()\"\"\"\n",
    "    i = 0\n",
    "    while i < n:\n",
    "        # yield = like return but function returns a generator\n",
    "        # return i while it is less than given arg = n\n",
    "        yield i\n",
    "        i += 1\n",
    "        \n",
    "# loop to consume only the `yield`ed values, one at a time\n",
    "# until none are left\n",
    "for i in lazy_range(10):\n",
    "    print(i)"
   ]
  },
  {
   "cell_type": "markdown",
   "metadata": {},
   "source": [
    "To use the \"real\" version of `lazy_range()`, use `xrange()`, and `range()` is lazy in Python3, so we could create an infinite sequence (which shouldn't be iterated over without some `break` logic):"
   ]
  },
  {
   "cell_type": "code",
   "execution_count": 54,
   "metadata": {
    "collapsed": true
   },
   "outputs": [],
   "source": [
    "def natural_nums():\n",
    "    \"\"\"Returns 1, 2, 3, ...\"\"\"\n",
    "    n = 1\n",
    "    while True:\n",
    "        yield n\n",
    "        n += 1"
   ]
  },
  {
   "cell_type": "markdown",
   "metadata": {},
   "source": [
    "A second way to create a generator is using **`for` comprehensions** wrapped inside `()`'s"
   ]
  },
  {
   "cell_type": "code",
   "execution_count": 61,
   "metadata": {},
   "outputs": [
    {
     "name": "stdout",
     "output_type": "stream",
     "text": [
      "0\n",
      "2\n",
      "4\n",
      "6\n",
      "8\n",
      "10\n",
      "12\n",
      "14\n",
      "16\n",
      "18\n"
     ]
    }
   ],
   "source": [
    "lazy_even_below_20 = (i for i in lazy_range(20) if i % 2 == 0)\n",
    "for i in lazy_even_below_20:\n",
    "    print(i)"
   ]
  },
  {
   "cell_type": "markdown",
   "metadata": {},
   "source": [
    "### Randomness\n",
    "\n",
    "It's common to generate random numberes in data science via the `random` module."
   ]
  },
  {
   "cell_type": "code",
   "execution_count": 63,
   "metadata": {},
   "outputs": [
    {
     "name": "stdout",
     "output_type": "stream",
     "text": [
      "[0.46529535419225077, 0.5595849090036804, 0.6220746703184373, 0.22027435993386602]\n"
     ]
    }
   ],
   "source": [
    "import random\n",
    "\n",
    "# create list of 4 uniformly random values between 0-1\n",
    "uniform_rand = [random.random() for _ in range(4)]\n",
    "print(uniform_rand)"
   ]
  },
  {
   "cell_type": "markdown",
   "metadata": {},
   "source": [
    "`random` module actually creates *pseudorandom* (**deterministic**) values based on an internal state that can be changed via `random.seed` (for reproducible results)"
   ]
  },
  {
   "cell_type": "code",
   "execution_count": 67,
   "metadata": {},
   "outputs": [
    {
     "name": "stdout",
     "output_type": "stream",
     "text": [
      "0.5714025946899135\n",
      "0.5714025946899135\n"
     ]
    }
   ],
   "source": [
    "random.seed(10)\n",
    "print(random.random())\n",
    "# get same \"random\" value\n",
    "random.seed(10)\n",
    "print(random.random())"
   ]
  },
  {
   "cell_type": "markdown",
   "metadata": {},
   "source": [
    "Can use `random.randrange` with 1 or 2 args to return an element randomly chosen from a given range"
   ]
  },
  {
   "cell_type": "code",
   "execution_count": 70,
   "metadata": {},
   "outputs": [
    {
     "name": "stdout",
     "output_type": "stream",
     "text": [
      "3\n",
      "4\n"
     ]
    }
   ],
   "source": [
    "print(random.randrange(10)) # random value from [0-10]\n",
    "print(random.randrange(3,6)) # random val from [3-6]"
   ]
  },
  {
   "cell_type": "code",
   "execution_count": 72,
   "metadata": {},
   "outputs": [
    {
     "name": "stdout",
     "output_type": "stream",
     "text": [
      "[6, 1, 5, 7, 8, 3, 9, 0, 2, 4]\n"
     ]
    }
   ],
   "source": [
    "# use random.shuffle to randomly re-order elements in a list\n",
    "l_ten = list(range(10)) # must make return val of range into a list\n",
    "random.shuffle(l_ten)\n",
    "print(l_ten)"
   ]
  },
  {
   "cell_type": "code",
   "execution_count": 75,
   "metadata": {},
   "outputs": [
    {
     "name": "stdout",
     "output_type": "stream",
     "text": [
      "Bob\n",
      "John\n"
     ]
    }
   ],
   "source": [
    "# use random.choice to get a random element from a list\n",
    "best_friend = random.choice([\"Bob\",\"Tim\",\"John\"])\n",
    "print(best_friend)\n",
    "best_friend = random.choice([\"Bob\",\"Tim\",\"John\"])\n",
    "print(best_friend)"
   ]
  },
  {
   "cell_type": "code",
   "execution_count": 76,
   "metadata": {},
   "outputs": [
    {
     "name": "stdout",
     "output_type": "stream",
     "text": [
      "[45, 48, 53, 36, 86, 33, 58]\n"
     ]
    }
   ],
   "source": [
    "## get random sample of elements WITHOUT replacement\n",
    "num = range(100)\n",
    "# get random sample of 7\n",
    "nums = random.sample(num, 7)\n",
    "print(nums)"
   ]
  },
  {
   "cell_type": "code",
   "execution_count": 77,
   "metadata": {},
   "outputs": [
    {
     "name": "stdout",
     "output_type": "stream",
     "text": [
      "[2, 4, 5, 2, 7, 3, 7, 9]\n"
     ]
    }
   ],
   "source": [
    "## get random sample of elements WITH replacement\n",
    "## via muliple calls to random.choice()\n",
    "num = range(10)\n",
    "nums_with_replacement = [random.choice(num)\n",
    "                        for _ in range(8)]\n",
    "print(nums_with_replacement)"
   ]
  },
  {
   "cell_type": "markdown",
   "metadata": {},
   "source": [
    "### RegEx\n",
    "\n",
    "These provide ways of searching for text, and are useful but complicated."
   ]
  },
  {
   "cell_type": "code",
   "execution_count": 79,
   "metadata": {},
   "outputs": [
    {
     "name": "stdout",
     "output_type": "stream",
     "text": [
      "True\n"
     ]
    }
   ],
   "source": [
    "import re\n",
    "\n",
    "print(all([ # returns True when every element is \"Truthy\"\n",
    "    # return True if \"cat\" does NOT start with \"a\"\n",
    "    not re.match(\"a\", \"cat\"),\n",
    "    \n",
    "    # return True if \"cat\" contains \"a\"\n",
    "    re.search(\"a\", \"cat\"),\n",
    "    \n",
    "    # return True if \"dog\" does NOT contain \"c\"\n",
    "    not re.search(\"c\", \"dog\"),\n",
    "    \n",
    "    # split on 'a' AND 'b' giving 'c', 'rbs' --> []'c', 'r', 's']\n",
    "    3 == len(re.split(\"[ab]\", \"carbs\")),\n",
    "    \n",
    "    # replace digits in 'R2D2' with hyphens\n",
    "    \"R-D-\" == re.sub(\"[0-9]\", \"-\", \"R2D2\") \n",
    "    ])\n",
    ")"
   ]
  },
  {
   "cell_type": "markdown",
   "metadata": {},
   "source": [
    "### OOP\n",
    "\n",
    "Python allows us to define `classes` to **encapsulate** data and functions that operate on them. They can be used to make code cleaner and simpler.\n",
    "\n",
    "Example: We don't have the `set` method, so we want to create a `Set` class. For its behavior, given an **instance** of `Set`, we need to `add` and `remove` items to/from it, check if it `contains` a value. These would all be **member functions** (accessed via `.` after class name)"
   ]
  },
  {
   "cell_type": "code",
   "execution_count": 95,
   "metadata": {},
   "outputs": [],
   "source": [
    "# classes = PascalCase names\n",
    "class Set:\n",
    "    # define member functions that take paramters \"self\" which\n",
    "    # refers to the particular Set object being used\n",
    "    def __init__(self, values=None):\n",
    "        \"\"\"This is a constructor which is called when\n",
    "        we want to create a new instance of Set\n",
    "        Used like: s1 = Set(), which is empty and\n",
    "        s2 = Set([1,2,2,3]), which is initialized\n",
    "        with values\"\"\"\n",
    "        # each Set instance has its own dict property\n",
    "        # used to track memberships\n",
    "        self.dict = {}\n",
    "        \n",
    "        # add only distinct values from given values\n",
    "        if values is not None:\n",
    "            for value in values:\n",
    "                self.add(value)\n",
    "                \n",
    "    def __repr__(self):\n",
    "        \"\"\"This is the 'string' representation of the Set\n",
    "        object if we had typed it at the Python prompy or \n",
    "        passed it to str()\"\"\"\n",
    "        return \"Set: \" + str(self.dict.keys())\n",
    "\n",
    "    # represent membership via a key in self.dict w/ value = True\n",
    "    def add(self, value):\n",
    "        self.dict[value] = True\n",
    "\n",
    "    # define that value is in the set if it is a key in the dict\n",
    "    def contains(self, value):\n",
    "        return value in self.dict\n",
    "\n",
    "    def remove(self, value):\n",
    "        del self.dict[value]"
   ]
  },
  {
   "cell_type": "code",
   "execution_count": 97,
   "metadata": {},
   "outputs": [
    {
     "name": "stdout",
     "output_type": "stream",
     "text": [
      "Set: dict_keys([1, 2, 4, 3])\n"
     ]
    }
   ],
   "source": [
    "# use the class and its functions/methods\n",
    "s = Set([1,2,4])\n",
    "s.add(4)\n",
    "s.add(3)\n",
    "print(s)"
   ]
  },
  {
   "cell_type": "code",
   "execution_count": 98,
   "metadata": {},
   "outputs": [
    {
     "name": "stdout",
     "output_type": "stream",
     "text": [
      "False\n",
      "True\n"
     ]
    }
   ],
   "source": [
    "print(s.contains(5))\n",
    "print(s.contains(3))"
   ]
  },
  {
   "cell_type": "code",
   "execution_count": 99,
   "metadata": {},
   "outputs": [
    {
     "name": "stdout",
     "output_type": "stream",
     "text": [
      "Set: dict_keys([1, 2, 4])\n"
     ]
    }
   ],
   "source": [
    "s.remove(3)\n",
    "print(s)"
   ]
  },
  {
   "cell_type": "markdown",
   "metadata": {},
   "source": [
    "### Functional Tools\n",
    "\n",
    "When passing functions around, maybe we'd want to *partially* apply (**curry**) functions in order to create new ones."
   ]
  },
  {
   "cell_type": "code",
   "execution_count": 100,
   "metadata": {},
   "outputs": [
    {
     "data": {
      "text/plain": [
       "8"
      ]
     },
     "execution_count": 100,
     "metadata": {},
     "output_type": "execute_result"
    }
   ],
   "source": [
    "# we have a function of 2 variables\n",
    "def exp(base,power):\n",
    "    return base**power\n",
    "\n",
    "# use above function to create a one-variable function\n",
    "# its input = value for the power to raise to\n",
    "# output = call to exp() with given power\n",
    "\n",
    "# using def can get unwieldy\n",
    "def two_to_the(power):\n",
    "    return exp(2,power)\n",
    "\n",
    "two_to_the(3)"
   ]
  },
  {
   "cell_type": "code",
   "execution_count": 101,
   "metadata": {},
   "outputs": [
    {
     "name": "stdout",
     "output_type": "stream",
     "text": [
      "8\n"
     ]
    }
   ],
   "source": [
    "# better way = use `functools.partial`\n",
    "from functools import partial\n",
    "\n",
    "# create function of 1 variable, x\n",
    "two_to_the = partial(exp,2) \n",
    "print(two_to_the(3))"
   ]
  },
  {
   "cell_type": "code",
   "execution_count": 103,
   "metadata": {},
   "outputs": [
    {
     "name": "stdout",
     "output_type": "stream",
     "text": [
      "9\n"
     ]
    }
   ],
   "source": [
    "# can also use `partial` to fill in later args if we specify names\n",
    "\n",
    "# specify arg in the exp() we're calling via partial()\n",
    "square_of = partial(exp,power=2)\n",
    "print(square_of(3))"
   ]
  },
  {
   "cell_type": "markdown",
   "metadata": {},
   "source": [
    "**Currying** arguments in the middle of a function can get messy, so try to avoid it.\n",
    "\n",
    "Can occasionally use `map`, `reduce`, and `filter` as functional alternatives to list comprehensions (they return **iterators**, so convert them to lists with `list`)."
   ]
  },
  {
   "cell_type": "code",
   "execution_count": 105,
   "metadata": {},
   "outputs": [
    {
     "name": "stdout",
     "output_type": "stream",
     "text": [
      "[2, 4, 6, 8]\n"
     ]
    }
   ],
   "source": [
    "def double(x):\n",
    "    return 2*x\n",
    "\n",
    "xs = [1,2,3,4]\n",
    "twice_xs = [double(x) for x in xs]\n",
    "print(twice_xs)"
   ]
  },
  {
   "cell_type": "code",
   "execution_count": 108,
   "metadata": {},
   "outputs": [
    {
     "name": "stdout",
     "output_type": "stream",
     "text": [
      "[2, 4, 6, 8]\n"
     ]
    }
   ],
   "source": [
    "# \"function\" to double a list\n",
    "list_doubler = partial(map,double)\n",
    "twice_xs = list_doubler(xs)\n",
    "print(list(twice_xs))"
   ]
  },
  {
   "cell_type": "code",
   "execution_count": 110,
   "metadata": {},
   "outputs": [
    {
     "name": "stdout",
     "output_type": "stream",
     "text": [
      "[4, 10]\n"
     ]
    }
   ],
   "source": [
    "# use `map` with multiple-arg functions by providing multiple lists\n",
    "def multiply(x,y): return x*y\n",
    "\n",
    "# use multiply on multiple lists to do element-wise multiplication\n",
    "products = map(multiply, [1,2], [4,5])\n",
    "print(list(products)) # [1*2, 2*5]"
   ]
  },
  {
   "cell_type": "code",
   "execution_count": 112,
   "metadata": {},
   "outputs": [
    {
     "name": "stdout",
     "output_type": "stream",
     "text": [
      "[2, 4]\n",
      "[2, 4]\n"
     ]
    }
   ],
   "source": [
    "# can use `filter` to do the work of a list-comprehension `if`\n",
    "def is_even(x):\n",
    "    \"\"\"Returns True if x is even, False if x is odd\"\"\"\n",
    "    return x % 2 == 0\n",
    "\n",
    "# list comprehension = get each value in xs if its even (check via is_even())\n",
    "x_evens = [x for x in xs if is_even(x)]\n",
    "print(x_evens)\n",
    "\n",
    "# filter() = get each value in xs if its even (check via is_even())\n",
    "x_evens2 = filter(is_even, xs)\n",
    "print(list(x_evens2))"
   ]
  },
  {
   "cell_type": "code",
   "execution_count": 114,
   "metadata": {},
   "outputs": [
    {
     "name": "stdout",
     "output_type": "stream",
     "text": [
      "[2, 4]\n"
     ]
    }
   ],
   "source": [
    "# make \"function\" to filter a list\n",
    "list_evener = partial(filter, is_even)\n",
    "print(list(list_evener(xs)))"
   ]
  },
  {
   "cell_type": "code",
   "execution_count": 117,
   "metadata": {},
   "outputs": [
    {
     "name": "stdout",
     "output_type": "stream",
     "text": [
      "24\n"
     ]
    }
   ],
   "source": [
    "# use `reduce` to combine the 1st 2 elements of a list, then\n",
    "# combine that result w/ the 3rd + so on returning a single value\n",
    "\n",
    "# reduce() not available in Python3 without specifying module\n",
    "from functools import reduce\n",
    "\n",
    "x_product = reduce(multiply, xs) # = 1*2*3*4\n",
    "print(x_product)"
   ]
  },
  {
   "cell_type": "code",
   "execution_count": 119,
   "metadata": {},
   "outputs": [
    {
     "name": "stdout",
     "output_type": "stream",
     "text": [
      "24\n"
     ]
    }
   ],
   "source": [
    "# make \"function\" to reduce a list\n",
    "list_product = partial(reduce, multiply)\n",
    "x_product = list_product(xs) # = 1*2*3*4\n",
    "print(x_product)"
   ]
  },
  {
   "cell_type": "markdown",
   "metadata": {},
   "source": [
    "### enumerate\n",
    "\n",
    "We can iterate over a list and use both its elements *and* their indexes for things."
   ]
  },
  {
   "cell_type": "code",
   "execution_count": 121,
   "metadata": {},
   "outputs": [
    {
     "name": "stdout",
     "output_type": "stream",
     "text": [
      "0 Hello\n",
      "1 world\n",
      "2 hi\n",
      "3 hi\n",
      "4 hi\n",
      "5 hi\n",
      "6 hi\n",
      "7 but\n",
      "8 flyers\n",
      "9 why\n",
      "10 suck\n",
      "11 pizza\n",
      "\n",
      "0 Hello\n",
      "1 world\n",
      "2 hi\n",
      "3 hi\n",
      "4 hi\n",
      "5 hi\n",
      "6 hi\n",
      "7 but\n",
      "8 flyers\n",
      "9 why\n",
      "10 suck\n",
      "11 pizza\n"
     ]
    }
   ],
   "source": [
    "docs = [\"Hello\", \"world\", \"hi\",\"hi\",\"hi\",\"hi\",\"hi\",\"but\",\"flyers\",\n",
    "      \"why\",\"suck\",\"pizza\"]\n",
    "\n",
    "# non-Pythonic\n",
    "for i in range(len(docs)):\n",
    "    doc = docs[i]\n",
    "    print(i, doc)\n",
    "\n",
    "print()\n",
    "\n",
    "# non-Pythonic\n",
    "i = 0\n",
    "for doc in docs:\n",
    "    print(i,doc)\n",
    "    i += 1"
   ]
  },
  {
   "cell_type": "code",
   "execution_count": 122,
   "metadata": {},
   "outputs": [
    {
     "name": "stdout",
     "output_type": "stream",
     "text": [
      "0 Hello\n",
      "1 world\n",
      "2 hi\n",
      "3 hi\n",
      "4 hi\n",
      "5 hi\n",
      "6 hi\n",
      "7 but\n",
      "8 flyers\n",
      "9 why\n",
      "10 suck\n",
      "11 pizza\n"
     ]
    }
   ],
   "source": [
    "# Pythonic way to do the above\n",
    "# returns tuples = (index, element)\n",
    "for i, doc in enumerate(docs):\n",
    "    print(i,doc)"
   ]
  },
  {
   "cell_type": "code",
   "execution_count": 124,
   "metadata": {},
   "outputs": [
    {
     "name": "stdout",
     "output_type": "stream",
     "text": [
      "0\n",
      "1\n",
      "2\n",
      "3\n",
      "4\n",
      "5\n",
      "6\n",
      "7\n",
      "8\n",
      "9\n",
      "10\n",
      "11\n",
      "11\n",
      "0\n",
      "1\n",
      "2\n",
      "3\n",
      "4\n",
      "5\n",
      "6\n",
      "7\n",
      "8\n",
      "9\n",
      "10\n",
      "11\n"
     ]
    }
   ],
   "source": [
    "# get just indexes\n",
    "\n",
    "# non-Pythonic\n",
    "for i in range(len(docs)):\n",
    "    print(i)\n",
    "    \n",
    "print(i)\n",
    "\n",
    "# Pythonic\n",
    "for i, _ in enumerate(docs):\n",
    "    print(i)"
   ]
  },
  {
   "cell_type": "markdown",
   "metadata": {},
   "source": [
    "### zip and arg unlocking\n",
    "\n",
    "Can `zip` 2 lists together, transforming multiple lists into a single list of tuples of corresponding elements.\n",
    "\n",
    "If lists are different lengths, `zip` will stop when the 1st list ends."
   ]
  },
  {
   "cell_type": "code",
   "execution_count": 127,
   "metadata": {},
   "outputs": [
    {
     "data": {
      "text/plain": [
       "[('a', 1), ('b', 2), ('c', 3)]"
      ]
     },
     "execution_count": 127,
     "metadata": {},
     "output_type": "execute_result"
    }
   ],
   "source": [
    "l1 = [\"a\",\"b\",\"c\"]\n",
    "l2 = [1,2,3]\n",
    "list(zip(l1,l2)) # returns zip object = must convert"
   ]
  },
  {
   "cell_type": "code",
   "execution_count": 128,
   "metadata": {},
   "outputs": [
    {
     "name": "stdout",
     "output_type": "stream",
     "text": [
      "('a', 'b', 'c') (1, 2, 3)\n"
     ]
    }
   ],
   "source": [
    "# unzip\n",
    "pairs = zip(l1,l2)\n",
    "\n",
    "# * = argument unpacking, using elements of zip object as\n",
    "# individual arguments to `zip`\n",
    "letters, numbers = zip(*pairs)\n",
    "print(letters,numbers)"
   ]
  },
  {
   "cell_type": "code",
   "execution_count": 129,
   "metadata": {},
   "outputs": [
    {
     "data": {
      "text/plain": [
       "[('a', 'b', 'c'), (1, 2, 3)]"
      ]
     },
     "execution_count": 129,
     "metadata": {},
     "output_type": "execute_result"
    }
   ],
   "source": [
    "# get same result at above\n",
    "list(zip(('a',1),('b',2),('c',3)))"
   ]
  },
  {
   "cell_type": "code",
   "execution_count": 130,
   "metadata": {},
   "outputs": [
    {
     "name": "stdout",
     "output_type": "stream",
     "text": [
      "3\n"
     ]
    },
    {
     "ename": "TypeError",
     "evalue": "'function' object is not subscriptable",
     "output_type": "error",
     "traceback": [
      "\u001b[1;31m---------------------------------------------------------------------------\u001b[0m",
      "\u001b[1;31mTypeError\u001b[0m                                 Traceback (most recent call last)",
      "\u001b[1;32m<ipython-input-130-316f1c47d941>\u001b[0m in \u001b[0;36m<module>\u001b[1;34m()\u001b[0m\n\u001b[0;32m      4\u001b[0m \u001b[1;33m\u001b[0m\u001b[0m\n\u001b[0;32m      5\u001b[0m \u001b[0mprint\u001b[0m\u001b[1;33m(\u001b[0m\u001b[0madd\u001b[0m\u001b[1;33m(\u001b[0m\u001b[1;36m1\u001b[0m\u001b[1;33m,\u001b[0m\u001b[1;36m2\u001b[0m\u001b[1;33m)\u001b[0m\u001b[1;33m)\u001b[0m\u001b[1;33m\u001b[0m\u001b[0m\n\u001b[1;32m----> 6\u001b[1;33m \u001b[0mprint\u001b[0m\u001b[1;33m(\u001b[0m\u001b[0madd\u001b[0m\u001b[1;33m[\u001b[0m\u001b[1;36m1\u001b[0m\u001b[1;33m,\u001b[0m\u001b[1;36m2\u001b[0m\u001b[1;33m]\u001b[0m\u001b[1;33m)\u001b[0m\u001b[1;33m\u001b[0m\u001b[0m\n\u001b[0m",
      "\u001b[1;31mTypeError\u001b[0m: 'function' object is not subscriptable"
     ]
    }
   ],
   "source": [
    "# use argument unpacking with any function\n",
    "def add(a,b):\n",
    "    return a + b\n",
    "\n",
    "print(add(1,2))\n",
    "print(add[1,2])"
   ]
  },
  {
   "cell_type": "code",
   "execution_count": 133,
   "metadata": {},
   "outputs": [
    {
     "name": "stdout",
     "output_type": "stream",
     "text": [
      "3\n"
     ]
    }
   ],
   "source": [
    "# unpack list of values to add\n",
    "print(add(*[1,2]))"
   ]
  },
  {
   "cell_type": "markdown",
   "metadata": {},
   "source": [
    "### args and kwargs\n",
    "\n",
    "To create a higher-order function that takes, as input, some function `f` and returns a *new* function, that, for any input, returns twice the value of `f`"
   ]
  },
  {
   "cell_type": "code",
   "execution_count": 134,
   "metadata": {},
   "outputs": [
    {
     "name": "stdout",
     "output_type": "stream",
     "text": [
      "8\n",
      "0\n"
     ]
    }
   ],
   "source": [
    "def doubler(f):\n",
    "    def g(x):\n",
    "        return 2*f(x)\n",
    "    return g\n",
    "\n",
    "# works in some cases\n",
    "def f1(x):\n",
    "    return x + 1\n",
    "\n",
    "g = doubler(f1)\n",
    "print(g(3)) # = (3+1)*2\n",
    "print(g(-1)) # = (-1+1)*2"
   ]
  },
  {
   "cell_type": "code",
   "execution_count": 135,
   "metadata": {},
   "outputs": [
    {
     "ename": "TypeError",
     "evalue": "g() takes 1 positional argument but 2 were given",
     "output_type": "error",
     "traceback": [
      "\u001b[1;31m---------------------------------------------------------------------------\u001b[0m",
      "\u001b[1;31mTypeError\u001b[0m                                 Traceback (most recent call last)",
      "\u001b[1;32m<ipython-input-135-36daf1de398b>\u001b[0m in \u001b[0;36m<module>\u001b[1;34m()\u001b[0m\n\u001b[0;32m      4\u001b[0m \u001b[1;33m\u001b[0m\u001b[0m\n\u001b[0;32m      5\u001b[0m \u001b[0mg\u001b[0m \u001b[1;33m=\u001b[0m \u001b[0mdoubler\u001b[0m\u001b[1;33m(\u001b[0m\u001b[0mf2\u001b[0m\u001b[1;33m)\u001b[0m\u001b[1;33m\u001b[0m\u001b[0m\n\u001b[1;32m----> 6\u001b[1;33m \u001b[0mprint\u001b[0m\u001b[1;33m(\u001b[0m\u001b[0mg\u001b[0m\u001b[1;33m(\u001b[0m\u001b[1;36m1\u001b[0m\u001b[1;33m,\u001b[0m\u001b[1;36m2\u001b[0m\u001b[1;33m)\u001b[0m\u001b[1;33m)\u001b[0m\u001b[1;33m\u001b[0m\u001b[0m\n\u001b[0m",
      "\u001b[1;31mTypeError\u001b[0m: g() takes 1 positional argument but 2 were given"
     ]
    }
   ],
   "source": [
    "# breaks down with functions taking >1 arg\n",
    "def f2(x,y):\n",
    "    return x + y\n",
    "\n",
    "g = doubler(f2)\n",
    "print(g(1,2))"
   ]
  },
  {
   "cell_type": "markdown",
   "metadata": {},
   "source": [
    "So, we need a way to specify a functoin that takes *arbitrary* numbers of args, via argument unpacking and some more:"
   ]
  },
  {
   "cell_type": "code",
   "execution_count": 136,
   "metadata": {},
   "outputs": [
    {
     "name": "stdout",
     "output_type": "stream",
     "text": [
      "unnames args: (1, 2)\n",
      "named args: {'key': 'word', 'key2': 'word2'}\n"
     ]
    }
   ],
   "source": [
    "def magic(*args, **kwargs):\n",
    "    print(\"unnames args:\", args)\n",
    "    print(\"named args:\", kwargs)\n",
    "\n",
    "magic(1,2, key=\"word\", key2=\"word2\")"
   ]
  },
  {
   "cell_type": "markdown",
   "metadata": {},
   "source": [
    "Here, **`args`** is a tuple of unnamed args, and **`kwargs`** is a `dict` of its named args. It also works the other way around, to use a `list`/`tuple` and `dict` to *supply* args to a function:"
   ]
  },
  {
   "cell_type": "code",
   "execution_count": 137,
   "metadata": {},
   "outputs": [
    {
     "name": "stdout",
     "output_type": "stream",
     "text": [
      "6\n"
     ]
    }
   ],
   "source": [
    "def other_magic(x,y,z):\n",
    "    return x + y + z\n",
    "\n",
    "xy_list = [1,2]\n",
    "z_dict = {\"z\":3}\n",
    "print(other_magic(*xy_list,**z_dict))"
   ]
  },
  {
   "cell_type": "markdown",
   "metadata": {},
   "source": [
    "Many things can be done in this way, but for data science its mainly used to produce higher-order functions whose inputs can accept arbitrary arguments:"
   ]
  },
  {
   "cell_type": "code",
   "execution_count": 138,
   "metadata": {},
   "outputs": [
    {
     "name": "stdout",
     "output_type": "stream",
     "text": [
      "6\n"
     ]
    }
   ],
   "source": [
    "def doubler_correct(f):\n",
    "    \"\"\"Works no matter the inputs that f expects\"\"\"\n",
    "    def g(*args,**kwargs):\n",
    "        \"\"\"Any arg supplied to g, pass them to f\"\"\"\n",
    "        return 2* f(*args,**kwargs)\n",
    "    return g\n",
    "\n",
    "g = doubler_correct(f2)\n",
    "print(g(1,2))"
   ]
  },
  {
   "cell_type": "code",
   "execution_count": null,
   "metadata": {
    "collapsed": true
   },
   "outputs": [],
   "source": []
  }
 ],
 "metadata": {
  "kernelspec": {
   "display_name": "Python 3",
   "language": "python",
   "name": "python3"
  },
  "language_info": {
   "codemirror_mode": {
    "name": "ipython",
    "version": 3
   },
   "file_extension": ".py",
   "mimetype": "text/x-python",
   "name": "python",
   "nbconvert_exporter": "python",
   "pygments_lexer": "ipython3",
   "version": "3.6.3"
  }
 },
 "nbformat": 4,
 "nbformat_minor": 2
}
