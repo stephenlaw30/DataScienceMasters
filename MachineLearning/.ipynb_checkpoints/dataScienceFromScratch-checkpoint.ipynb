{
 "cells": [
  {
   "cell_type": "markdown",
   "metadata": {},
   "source": [
    "## Finding\tKey\tConnectors \n",
    "\n",
    "On the 1st day on the job at\tDataSciencester,\tand\tthe\tVP\tof\tNetworking\tis\tfull\tof questions\tabout\t\tusers.\tsuch as to ID the\t“key\tconnectors”\tamong\tour data\tscientists. Given a\tdump\tof\tthe\tentire\tDataSciencester\tnetwork (doesn't often happen in\treal\tlife), the goal is to see what\tthis\tdata\tdump\tlooks\tlike.\tIt\tconsists\tof\ta\tlist\tof\tusers,\teach\trepresented\tby\ta **`dict`** that\tcontains, for\teach\tuser, their numeric ID and\tname, as well as friendship data which are a list of pairs (**`tuples`**) of ID's means that two data scientists whose ID's are in the tuple are friends in the social network."
   ]
  },
  {
   "cell_type": "code",
   "execution_count": 1,
   "metadata": {
    "collapsed": true
   },
   "outputs": [],
   "source": [
    "path = '..\\..\\Documents\\Books\\00_DataScience\\DSFromScratch\\code'"
   ]
  },
  {
   "cell_type": "code",
   "execution_count": 2,
   "metadata": {
    "collapsed": true
   },
   "outputs": [],
   "source": [
    "# make list of dict values for each user with their id and name\n",
    "users = [\n",
    "    {\"id\":0, \"name\":\"Hero\"},\n",
    "    {\"id\":1, \"name\":\"Dunn\"},\n",
    "    {\"id\":2, \"name\":\"Sue\"},\n",
    "    {\"id\":3, \"name\":\"Chi\"},\n",
    "    {\"id\":4, \"name\":\"Thor\"},\n",
    "    {\"id\":5, \"name\":\"Clive\"},\n",
    "    {\"id\":6, \"name\":\"Hicks\"},\n",
    "    {\"id\":7, \"name\":\"Devin\"},\n",
    "    {\"id\":9, \"name\":\"Kate\"},\n",
    "    {\"id\":9, \"name\":\"Klein\"},\n",
    "    {\"id\":10, \"name\":\"Jen\"}\n",
    "]\n",
    "\n",
    "# make list of tuples of 'friendships'\n",
    "friendships = [(0, 1), (0, 2), (1, 2), (1, 3), (2, 3), (3, 4),\n",
    "               (4, 5), (5, 6), (5, 7), (6, 8), (7, 8), (8, 9)]"
   ]
  },
  {
   "cell_type": "markdown",
   "metadata": {},
   "source": [
    "Say we want to add a list of friends to each user in our `dict`."
   ]
  },
  {
   "cell_type": "code",
   "execution_count": 3,
   "metadata": {},
   "outputs": [
    {
     "data": {
      "text/html": [
       "<table>\n",
       "<tbody>\n",
       "<tr><td style=\"text-align: right;\"> 0</td><td>Hero </td><td>[{'id': 1, 'name': 'Dunn', 'friends': [{'id': 0, 'name': 'Hero', 'friends': [...]}, {'id': 2, 'name': 'Sue', 'friends': [{'id': 0, 'name': 'Hero', 'friends': [...]}, {...}, {'id': 3, 'name': 'Chi', 'friends': [{...}, {...}, {'id': 4, 'name': 'Thor', 'friends': [{...}, {'id': 5, 'name': 'Clive', 'friends': [{...}, {'id': 6, 'name': 'Hicks', 'friends': [{...}, {'id': 9, 'name': 'Kate', 'friends': [{...}, {'id': 7, 'name': 'Devin', 'friends': [{...}, {...}]}, {'id': 9, 'name': 'Klein', 'friends': [{...}]}]}]}, {'id': 7, 'name': 'Devin', 'friends': [{...}, {'id': 9, 'name': 'Kate', 'friends': [{'id': 6, 'name': 'Hicks', 'friends': [{...}, {...}]}, {...}, {'id': 9, 'name': 'Klein', 'friends': [{...}]}]}]}]}]}]}]}, {'id': 3, 'name': 'Chi', 'friends': [{...}, {'id': 2, 'name': 'Sue', 'friends': [{'id': 0, 'name': 'Hero', 'friends': [...]}, {...}, {...}]}, {'id': 4, 'name': 'Thor', 'friends': [{...}, {'id': 5, 'name': 'Clive', 'friends': [{...}, {'id': 6, 'name': 'Hicks', 'friends': [{...}, {'id': 9, 'name': 'Kate', 'friends': [{...}, {'id': 7, 'name': 'Devin', 'friends': [{...}, {...}]}, {'id': 9, 'name': 'Klein', 'friends': [{...}]}]}]}, {'id': 7, 'name': 'Devin', 'friends': [{...}, {'id': 9, 'name': 'Kate', 'friends': [{'id': 6, 'name': 'Hicks', 'friends': [{...}, {...}]}, {...}, {'id': 9, 'name': 'Klein', 'friends': [{...}]}]}]}]}]}]}]}, {'id': 2, 'name': 'Sue', 'friends': [{'id': 0, 'name': 'Hero', 'friends': [...]}, {'id': 1, 'name': 'Dunn', 'friends': [{'id': 0, 'name': 'Hero', 'friends': [...]}, {...}, {'id': 3, 'name': 'Chi', 'friends': [{...}, {...}, {'id': 4, 'name': 'Thor', 'friends': [{...}, {'id': 5, 'name': 'Clive', 'friends': [{...}, {'id': 6, 'name': 'Hicks', 'friends': [{...}, {'id': 9, 'name': 'Kate', 'friends': [{...}, {'id': 7, 'name': 'Devin', 'friends': [{...}, {...}]}, {'id': 9, 'name': 'Klein', 'friends': [{...}]}]}]}, {'id': 7, 'name': 'Devin', 'friends': [{...}, {'id': 9, 'name': 'Kate', 'friends': [{'id': 6, 'name': 'Hicks', 'friends': [{...}, {...}]}, {...}, {'id': 9, 'name': 'Klein', 'friends': [{...}]}]}]}]}]}]}]}, {'id': 3, 'name': 'Chi', 'friends': [{'id': 1, 'name': 'Dunn', 'friends': [{'id': 0, 'name': 'Hero', 'friends': [...]}, {...}, {...}]}, {...}, {'id': 4, 'name': 'Thor', 'friends': [{...}, {'id': 5, 'name': 'Clive', 'friends': [{...}, {'id': 6, 'name': 'Hicks', 'friends': [{...}, {'id': 9, 'name': 'Kate', 'friends': [{...}, {'id': 7, 'name': 'Devin', 'friends': [{...}, {...}]}, {'id': 9, 'name': 'Klein', 'friends': [{...}]}]}]}, {'id': 7, 'name': 'Devin', 'friends': [{...}, {'id': 9, 'name': 'Kate', 'friends': [{'id': 6, 'name': 'Hicks', 'friends': [{...}, {...}]}, {...}, {'id': 9, 'name': 'Klein', 'friends': [{...}]}]}]}]}]}]}]}]</td></tr>\n",
       "<tr><td style=\"text-align: right;\"> 1</td><td>Dunn </td><td>[{'id': 0, 'name': 'Hero', 'friends': [{'id': 1, 'name': 'Dunn', 'friends': [...]}, {'id': 2, 'name': 'Sue', 'friends': [{...}, {'id': 1, 'name': 'Dunn', 'friends': [...]}, {'id': 3, 'name': 'Chi', 'friends': [{'id': 1, 'name': 'Dunn', 'friends': [...]}, {...}, {'id': 4, 'name': 'Thor', 'friends': [{...}, {'id': 5, 'name': 'Clive', 'friends': [{...}, {'id': 6, 'name': 'Hicks', 'friends': [{...}, {'id': 9, 'name': 'Kate', 'friends': [{...}, {'id': 7, 'name': 'Devin', 'friends': [{...}, {...}]}, {'id': 9, 'name': 'Klein', 'friends': [{...}]}]}]}, {'id': 7, 'name': 'Devin', 'friends': [{...}, {'id': 9, 'name': 'Kate', 'friends': [{'id': 6, 'name': 'Hicks', 'friends': [{...}, {...}]}, {...}, {'id': 9, 'name': 'Klein', 'friends': [{...}]}]}]}]}]}]}]}]}, {'id': 2, 'name': 'Sue', 'friends': [{'id': 0, 'name': 'Hero', 'friends': [{'id': 1, 'name': 'Dunn', 'friends': [...]}, {...}]}, {'id': 1, 'name': 'Dunn', 'friends': [...]}, {'id': 3, 'name': 'Chi', 'friends': [{'id': 1, 'name': 'Dunn', 'friends': [...]}, {...}, {'id': 4, 'name': 'Thor', 'friends': [{...}, {'id': 5, 'name': 'Clive', 'friends': [{...}, {'id': 6, 'name': 'Hicks', 'friends': [{...}, {'id': 9, 'name': 'Kate', 'friends': [{...}, {'id': 7, 'name': 'Devin', 'friends': [{...}, {...}]}, {'id': 9, 'name': 'Klein', 'friends': [{...}]}]}]}, {'id': 7, 'name': 'Devin', 'friends': [{...}, {'id': 9, 'name': 'Kate', 'friends': [{'id': 6, 'name': 'Hicks', 'friends': [{...}, {...}]}, {...}, {'id': 9, 'name': 'Klein', 'friends': [{...}]}]}]}]}]}]}]}, {'id': 3, 'name': 'Chi', 'friends': [{'id': 1, 'name': 'Dunn', 'friends': [...]}, {'id': 2, 'name': 'Sue', 'friends': [{'id': 0, 'name': 'Hero', 'friends': [{'id': 1, 'name': 'Dunn', 'friends': [...]}, {...}]}, {'id': 1, 'name': 'Dunn', 'friends': [...]}, {...}]}, {'id': 4, 'name': 'Thor', 'friends': [{...}, {'id': 5, 'name': 'Clive', 'friends': [{...}, {'id': 6, 'name': 'Hicks', 'friends': [{...}, {'id': 9, 'name': 'Kate', 'friends': [{...}, {'id': 7, 'name': 'Devin', 'friends': [{...}, {...}]}, {'id': 9, 'name': 'Klein', 'friends': [{...}]}]}]}, {'id': 7, 'name': 'Devin', 'friends': [{...}, {'id': 9, 'name': 'Kate', 'friends': [{'id': 6, 'name': 'Hicks', 'friends': [{...}, {...}]}, {...}, {'id': 9, 'name': 'Klein', 'friends': [{...}]}]}]}]}]}]}]                                                                                                                                                                                                                                                                                                                                                                                                                                                     </td></tr>\n",
       "<tr><td style=\"text-align: right;\"> 2</td><td>Sue  </td><td>[{'id': 0, 'name': 'Hero', 'friends': [{'id': 1, 'name': 'Dunn', 'friends': [{...}, {'id': 2, 'name': 'Sue', 'friends': [...]}, {'id': 3, 'name': 'Chi', 'friends': [{...}, {'id': 2, 'name': 'Sue', 'friends': [...]}, {'id': 4, 'name': 'Thor', 'friends': [{...}, {'id': 5, 'name': 'Clive', 'friends': [{...}, {'id': 6, 'name': 'Hicks', 'friends': [{...}, {'id': 9, 'name': 'Kate', 'friends': [{...}, {'id': 7, 'name': 'Devin', 'friends': [{...}, {...}]}, {'id': 9, 'name': 'Klein', 'friends': [{...}]}]}]}, {'id': 7, 'name': 'Devin', 'friends': [{...}, {'id': 9, 'name': 'Kate', 'friends': [{'id': 6, 'name': 'Hicks', 'friends': [{...}, {...}]}, {...}, {'id': 9, 'name': 'Klein', 'friends': [{...}]}]}]}]}]}]}]}, {'id': 2, 'name': 'Sue', 'friends': [...]}]}, {'id': 1, 'name': 'Dunn', 'friends': [{'id': 0, 'name': 'Hero', 'friends': [{...}, {'id': 2, 'name': 'Sue', 'friends': [...]}]}, {'id': 2, 'name': 'Sue', 'friends': [...]}, {'id': 3, 'name': 'Chi', 'friends': [{...}, {'id': 2, 'name': 'Sue', 'friends': [...]}, {'id': 4, 'name': 'Thor', 'friends': [{...}, {'id': 5, 'name': 'Clive', 'friends': [{...}, {'id': 6, 'name': 'Hicks', 'friends': [{...}, {'id': 9, 'name': 'Kate', 'friends': [{...}, {'id': 7, 'name': 'Devin', 'friends': [{...}, {...}]}, {'id': 9, 'name': 'Klein', 'friends': [{...}]}]}]}, {'id': 7, 'name': 'Devin', 'friends': [{...}, {'id': 9, 'name': 'Kate', 'friends': [{'id': 6, 'name': 'Hicks', 'friends': [{...}, {...}]}, {...}, {'id': 9, 'name': 'Klein', 'friends': [{...}]}]}]}]}]}]}]}, {'id': 3, 'name': 'Chi', 'friends': [{'id': 1, 'name': 'Dunn', 'friends': [{'id': 0, 'name': 'Hero', 'friends': [{...}, {'id': 2, 'name': 'Sue', 'friends': [...]}]}, {'id': 2, 'name': 'Sue', 'friends': [...]}, {...}]}, {'id': 2, 'name': 'Sue', 'friends': [...]}, {'id': 4, 'name': 'Thor', 'friends': [{...}, {'id': 5, 'name': 'Clive', 'friends': [{...}, {'id': 6, 'name': 'Hicks', 'friends': [{...}, {'id': 9, 'name': 'Kate', 'friends': [{...}, {'id': 7, 'name': 'Devin', 'friends': [{...}, {...}]}, {'id': 9, 'name': 'Klein', 'friends': [{...}]}]}]}, {'id': 7, 'name': 'Devin', 'friends': [{...}, {'id': 9, 'name': 'Kate', 'friends': [{'id': 6, 'name': 'Hicks', 'friends': [{...}, {...}]}, {...}, {'id': 9, 'name': 'Klein', 'friends': [{...}]}]}]}]}]}]}]                                                                                                                                                                                                                                                                                                                                                                                                                                                           </td></tr>\n",
       "<tr><td style=\"text-align: right;\"> 3</td><td>Chi  </td><td>[{'id': 1, 'name': 'Dunn', 'friends': [{'id': 0, 'name': 'Hero', 'friends': [{...}, {'id': 2, 'name': 'Sue', 'friends': [{...}, {...}, {'id': 3, 'name': 'Chi', 'friends': [...]}]}]}, {'id': 2, 'name': 'Sue', 'friends': [{'id': 0, 'name': 'Hero', 'friends': [{...}, {...}]}, {...}, {'id': 3, 'name': 'Chi', 'friends': [...]}]}, {'id': 3, 'name': 'Chi', 'friends': [...]}]}, {'id': 2, 'name': 'Sue', 'friends': [{'id': 0, 'name': 'Hero', 'friends': [{'id': 1, 'name': 'Dunn', 'friends': [{...}, {...}, {'id': 3, 'name': 'Chi', 'friends': [...]}]}, {...}]}, {'id': 1, 'name': 'Dunn', 'friends': [{'id': 0, 'name': 'Hero', 'friends': [{...}, {...}]}, {...}, {'id': 3, 'name': 'Chi', 'friends': [...]}]}, {'id': 3, 'name': 'Chi', 'friends': [...]}]}, {'id': 4, 'name': 'Thor', 'friends': [{'id': 3, 'name': 'Chi', 'friends': [...]}, {'id': 5, 'name': 'Clive', 'friends': [{...}, {'id': 6, 'name': 'Hicks', 'friends': [{...}, {'id': 9, 'name': 'Kate', 'friends': [{...}, {'id': 7, 'name': 'Devin', 'friends': [{...}, {...}]}, {'id': 9, 'name': 'Klein', 'friends': [{...}]}]}]}, {'id': 7, 'name': 'Devin', 'friends': [{...}, {'id': 9, 'name': 'Kate', 'friends': [{'id': 6, 'name': 'Hicks', 'friends': [{...}, {...}]}, {...}, {'id': 9, 'name': 'Klein', 'friends': [{...}]}]}]}]}]}]                                                                                                                                                                                                                                                                                                                                                                                                                                                                                                                                                                                                                                                                                                                                                                                                                                                                                                                                                                                                                                                                                                                                                                                                                                                                                                                                                                                                                                                                                              </td></tr>\n",
       "<tr><td style=\"text-align: right;\"> 4</td><td>Thor </td><td>[{'id': 3, 'name': 'Chi', 'friends': [{'id': 1, 'name': 'Dunn', 'friends': [{'id': 0, 'name': 'Hero', 'friends': [{...}, {'id': 2, 'name': 'Sue', 'friends': [{...}, {...}, {...}]}]}, {'id': 2, 'name': 'Sue', 'friends': [{'id': 0, 'name': 'Hero', 'friends': [{...}, {...}]}, {...}, {...}]}, {...}]}, {'id': 2, 'name': 'Sue', 'friends': [{'id': 0, 'name': 'Hero', 'friends': [{'id': 1, 'name': 'Dunn', 'friends': [{...}, {...}, {...}]}, {...}]}, {'id': 1, 'name': 'Dunn', 'friends': [{'id': 0, 'name': 'Hero', 'friends': [{...}, {...}]}, {...}, {...}]}, {...}]}, {'id': 4, 'name': 'Thor', 'friends': [...]}]}, {'id': 5, 'name': 'Clive', 'friends': [{'id': 4, 'name': 'Thor', 'friends': [...]}, {'id': 6, 'name': 'Hicks', 'friends': [{...}, {'id': 9, 'name': 'Kate', 'friends': [{...}, {'id': 7, 'name': 'Devin', 'friends': [{...}, {...}]}, {'id': 9, 'name': 'Klein', 'friends': [{...}]}]}]}, {'id': 7, 'name': 'Devin', 'friends': [{...}, {'id': 9, 'name': 'Kate', 'friends': [{'id': 6, 'name': 'Hicks', 'friends': [{...}, {...}]}, {...}, {'id': 9, 'name': 'Klein', 'friends': [{...}]}]}]}]}]                                                                                                                                                                                                                                                                                                                                                                                                                                                                                                                                                                                                                                                                                                                                                                                                                                                                                                                                                                                                                                                                                                                                                                                                                                                                                                                                                                                                                                                                                                                                                                                                                                                                                      </td></tr>\n",
       "<tr><td style=\"text-align: right;\"> 5</td><td>Clive</td><td>[{'id': 4, 'name': 'Thor', 'friends': [{'id': 3, 'name': 'Chi', 'friends': [{'id': 1, 'name': 'Dunn', 'friends': [{'id': 0, 'name': 'Hero', 'friends': [{...}, {'id': 2, 'name': 'Sue', 'friends': [{...}, {...}, {...}]}]}, {'id': 2, 'name': 'Sue', 'friends': [{'id': 0, 'name': 'Hero', 'friends': [{...}, {...}]}, {...}, {...}]}, {...}]}, {'id': 2, 'name': 'Sue', 'friends': [{'id': 0, 'name': 'Hero', 'friends': [{'id': 1, 'name': 'Dunn', 'friends': [{...}, {...}, {...}]}, {...}]}, {'id': 1, 'name': 'Dunn', 'friends': [{'id': 0, 'name': 'Hero', 'friends': [{...}, {...}]}, {...}, {...}]}, {...}]}, {...}]}, {'id': 5, 'name': 'Clive', 'friends': [...]}]}, {'id': 6, 'name': 'Hicks', 'friends': [{'id': 5, 'name': 'Clive', 'friends': [...]}, {'id': 9, 'name': 'Kate', 'friends': [{...}, {'id': 7, 'name': 'Devin', 'friends': [{'id': 5, 'name': 'Clive', 'friends': [...]}, {...}]}, {'id': 9, 'name': 'Klein', 'friends': [{...}]}]}]}, {'id': 7, 'name': 'Devin', 'friends': [{'id': 5, 'name': 'Clive', 'friends': [...]}, {'id': 9, 'name': 'Kate', 'friends': [{'id': 6, 'name': 'Hicks', 'friends': [{'id': 5, 'name': 'Clive', 'friends': [...]}, {...}]}, {...}, {'id': 9, 'name': 'Klein', 'friends': [{...}]}]}]}]                                                                                                                                                                                                                                                                                                                                                                                                                                                                                                                                                                                                                                                                                                                                                                                                                                                                                                                                                                                                                                                                                                                                                                                                                                                                                                                                                                                                                                                                                                                                                                </td></tr>\n",
       "<tr><td style=\"text-align: right;\"> 6</td><td>Hicks</td><td>[{'id': 5, 'name': 'Clive', 'friends': [{'id': 4, 'name': 'Thor', 'friends': [{'id': 3, 'name': 'Chi', 'friends': [{'id': 1, 'name': 'Dunn', 'friends': [{'id': 0, 'name': 'Hero', 'friends': [{...}, {'id': 2, 'name': 'Sue', 'friends': [{...}, {...}, {...}]}]}, {'id': 2, 'name': 'Sue', 'friends': [{'id': 0, 'name': 'Hero', 'friends': [{...}, {...}]}, {...}, {...}]}, {...}]}, {'id': 2, 'name': 'Sue', 'friends': [{'id': 0, 'name': 'Hero', 'friends': [{'id': 1, 'name': 'Dunn', 'friends': [{...}, {...}, {...}]}, {...}]}, {'id': 1, 'name': 'Dunn', 'friends': [{'id': 0, 'name': 'Hero', 'friends': [{...}, {...}]}, {...}, {...}]}, {...}]}, {...}]}, {...}]}, {'id': 6, 'name': 'Hicks', 'friends': [...]}, {'id': 7, 'name': 'Devin', 'friends': [{...}, {'id': 9, 'name': 'Kate', 'friends': [{'id': 6, 'name': 'Hicks', 'friends': [...]}, {...}, {'id': 9, 'name': 'Klein', 'friends': [{...}]}]}]}]}, {'id': 9, 'name': 'Kate', 'friends': [{'id': 6, 'name': 'Hicks', 'friends': [...]}, {'id': 7, 'name': 'Devin', 'friends': [{'id': 5, 'name': 'Clive', 'friends': [{'id': 4, 'name': 'Thor', 'friends': [{'id': 3, 'name': 'Chi', 'friends': [{'id': 1, 'name': 'Dunn', 'friends': [{'id': 0, 'name': 'Hero', 'friends': [{...}, {'id': 2, 'name': 'Sue', 'friends': [{...}, {...}, {...}]}]}, {'id': 2, 'name': 'Sue', 'friends': [{'id': 0, 'name': 'Hero', 'friends': [{...}, {...}]}, {...}, {...}]}, {...}]}, {'id': 2, 'name': 'Sue', 'friends': [{'id': 0, 'name': 'Hero', 'friends': [{'id': 1, 'name': 'Dunn', 'friends': [{...}, {...}, {...}]}, {...}]}, {'id': 1, 'name': 'Dunn', 'friends': [{'id': 0, 'name': 'Hero', 'friends': [{...}, {...}]}, {...}, {...}]}, {...}]}, {...}]}, {...}]}, {'id': 6, 'name': 'Hicks', 'friends': [...]}, {...}]}, {...}]}, {'id': 9, 'name': 'Klein', 'friends': [{...}]}]}]                                                                                                                                                                                                                                                                                                                                                                                                                                                                                                                                                                                                                                                                                                                                                                                                                                                                                                                                                               </td></tr>\n",
       "<tr><td style=\"text-align: right;\"> 7</td><td>Devin</td><td>[{'id': 5, 'name': 'Clive', 'friends': [{'id': 4, 'name': 'Thor', 'friends': [{'id': 3, 'name': 'Chi', 'friends': [{'id': 1, 'name': 'Dunn', 'friends': [{'id': 0, 'name': 'Hero', 'friends': [{...}, {'id': 2, 'name': 'Sue', 'friends': [{...}, {...}, {...}]}]}, {'id': 2, 'name': 'Sue', 'friends': [{'id': 0, 'name': 'Hero', 'friends': [{...}, {...}]}, {...}, {...}]}, {...}]}, {'id': 2, 'name': 'Sue', 'friends': [{'id': 0, 'name': 'Hero', 'friends': [{'id': 1, 'name': 'Dunn', 'friends': [{...}, {...}, {...}]}, {...}]}, {'id': 1, 'name': 'Dunn', 'friends': [{'id': 0, 'name': 'Hero', 'friends': [{...}, {...}]}, {...}, {...}]}, {...}]}, {...}]}, {...}]}, {'id': 6, 'name': 'Hicks', 'friends': [{...}, {'id': 9, 'name': 'Kate', 'friends': [{...}, {'id': 7, 'name': 'Devin', 'friends': [...]}, {'id': 9, 'name': 'Klein', 'friends': [{...}]}]}]}, {'id': 7, 'name': 'Devin', 'friends': [...]}]}, {'id': 9, 'name': 'Kate', 'friends': [{'id': 6, 'name': 'Hicks', 'friends': [{'id': 5, 'name': 'Clive', 'friends': [{'id': 4, 'name': 'Thor', 'friends': [{'id': 3, 'name': 'Chi', 'friends': [{'id': 1, 'name': 'Dunn', 'friends': [{'id': 0, 'name': 'Hero', 'friends': [{...}, {'id': 2, 'name': 'Sue', 'friends': [{...}, {...}, {...}]}]}, {'id': 2, 'name': 'Sue', 'friends': [{'id': 0, 'name': 'Hero', 'friends': [{...}, {...}]}, {...}, {...}]}, {...}]}, {'id': 2, 'name': 'Sue', 'friends': [{'id': 0, 'name': 'Hero', 'friends': [{'id': 1, 'name': 'Dunn', 'friends': [{...}, {...}, {...}]}, {...}]}, {'id': 1, 'name': 'Dunn', 'friends': [{'id': 0, 'name': 'Hero', 'friends': [{...}, {...}]}, {...}, {...}]}, {...}]}, {...}]}, {...}]}, {...}, {'id': 7, 'name': 'Devin', 'friends': [...]}]}, {...}]}, {'id': 7, 'name': 'Devin', 'friends': [...]}, {'id': 9, 'name': 'Klein', 'friends': [{...}]}]}]                                                                                                                                                                                                                                                                                                                                                                                                                                                                                                                                                                                                                                                                                                                                                                                                                                                                                                                                                               </td></tr>\n",
       "<tr><td style=\"text-align: right;\"> 9</td><td>Kate </td><td>[{'id': 6, 'name': 'Hicks', 'friends': [{'id': 5, 'name': 'Clive', 'friends': [{'id': 4, 'name': 'Thor', 'friends': [{'id': 3, 'name': 'Chi', 'friends': [{'id': 1, 'name': 'Dunn', 'friends': [{'id': 0, 'name': 'Hero', 'friends': [{...}, {'id': 2, 'name': 'Sue', 'friends': [{...}, {...}, {...}]}]}, {'id': 2, 'name': 'Sue', 'friends': [{'id': 0, 'name': 'Hero', 'friends': [{...}, {...}]}, {...}, {...}]}, {...}]}, {'id': 2, 'name': 'Sue', 'friends': [{'id': 0, 'name': 'Hero', 'friends': [{'id': 1, 'name': 'Dunn', 'friends': [{...}, {...}, {...}]}, {...}]}, {'id': 1, 'name': 'Dunn', 'friends': [{'id': 0, 'name': 'Hero', 'friends': [{...}, {...}]}, {...}, {...}]}, {...}]}, {...}]}, {...}]}, {...}, {'id': 7, 'name': 'Devin', 'friends': [{...}, {'id': 9, 'name': 'Kate', 'friends': [...]}]}]}, {'id': 9, 'name': 'Kate', 'friends': [...]}]}, {'id': 7, 'name': 'Devin', 'friends': [{'id': 5, 'name': 'Clive', 'friends': [{'id': 4, 'name': 'Thor', 'friends': [{'id': 3, 'name': 'Chi', 'friends': [{'id': 1, 'name': 'Dunn', 'friends': [{'id': 0, 'name': 'Hero', 'friends': [{...}, {'id': 2, 'name': 'Sue', 'friends': [{...}, {...}, {...}]}]}, {'id': 2, 'name': 'Sue', 'friends': [{'id': 0, 'name': 'Hero', 'friends': [{...}, {...}]}, {...}, {...}]}, {...}]}, {'id': 2, 'name': 'Sue', 'friends': [{'id': 0, 'name': 'Hero', 'friends': [{'id': 1, 'name': 'Dunn', 'friends': [{...}, {...}, {...}]}, {...}]}, {'id': 1, 'name': 'Dunn', 'friends': [{'id': 0, 'name': 'Hero', 'friends': [{...}, {...}]}, {...}, {...}]}, {...}]}, {...}]}, {...}]}, {'id': 6, 'name': 'Hicks', 'friends': [{...}, {'id': 9, 'name': 'Kate', 'friends': [...]}]}, {...}]}, {'id': 9, 'name': 'Kate', 'friends': [...]}]}, {'id': 9, 'name': 'Klein', 'friends': [{'id': 9, 'name': 'Kate', 'friends': [...]}]}]                                                                                                                                                                                                                                                                                                                                                                                                                                                                                                                                                                                                                                                                                                                                                                                                                                                                                                                                                                           </td></tr>\n",
       "<tr><td style=\"text-align: right;\"> 9</td><td>Klein</td><td>[{'id': 9, 'name': 'Kate', 'friends': [{'id': 6, 'name': 'Hicks', 'friends': [{'id': 5, 'name': 'Clive', 'friends': [{'id': 4, 'name': 'Thor', 'friends': [{'id': 3, 'name': 'Chi', 'friends': [{'id': 1, 'name': 'Dunn', 'friends': [{'id': 0, 'name': 'Hero', 'friends': [{...}, {'id': 2, 'name': 'Sue', 'friends': [{...}, {...}, {...}]}]}, {'id': 2, 'name': 'Sue', 'friends': [{'id': 0, 'name': 'Hero', 'friends': [{...}, {...}]}, {...}, {...}]}, {...}]}, {'id': 2, 'name': 'Sue', 'friends': [{'id': 0, 'name': 'Hero', 'friends': [{'id': 1, 'name': 'Dunn', 'friends': [{...}, {...}, {...}]}, {...}]}, {'id': 1, 'name': 'Dunn', 'friends': [{'id': 0, 'name': 'Hero', 'friends': [{...}, {...}]}, {...}, {...}]}, {...}]}, {...}]}, {...}]}, {...}, {'id': 7, 'name': 'Devin', 'friends': [{...}, {...}]}]}, {...}]}, {'id': 7, 'name': 'Devin', 'friends': [{'id': 5, 'name': 'Clive', 'friends': [{'id': 4, 'name': 'Thor', 'friends': [{'id': 3, 'name': 'Chi', 'friends': [{'id': 1, 'name': 'Dunn', 'friends': [{'id': 0, 'name': 'Hero', 'friends': [{...}, {'id': 2, 'name': 'Sue', 'friends': [{...}, {...}, {...}]}]}, {'id': 2, 'name': 'Sue', 'friends': [{'id': 0, 'name': 'Hero', 'friends': [{...}, {...}]}, {...}, {...}]}, {...}]}, {'id': 2, 'name': 'Sue', 'friends': [{'id': 0, 'name': 'Hero', 'friends': [{'id': 1, 'name': 'Dunn', 'friends': [{...}, {...}, {...}]}, {...}]}, {'id': 1, 'name': 'Dunn', 'friends': [{'id': 0, 'name': 'Hero', 'friends': [{...}, {...}]}, {...}, {...}]}, {...}]}, {...}]}, {...}]}, {'id': 6, 'name': 'Hicks', 'friends': [{...}, {...}]}, {...}]}, {...}]}, {'id': 9, 'name': 'Klein', 'friends': [...]}]}]                                                                                                                                                                                                                                                                                                                                                                                                                                                                                                                                                                                                                                                                                                                                                                                                                                                                                                                                                                                                                                                                                                                                   </td></tr>\n",
       "<tr><td style=\"text-align: right;\">10</td><td>Jen  </td><td>[]                                                                                                                                                                                                                                                                                                                                                                                                                                                                                                                                                                                                                                                                                                                                                                                                                                                                                                                                                                                                                                                                                                                                                                                                                                                                                                                                                                                                                                                                                                                                                                                                                                                                                                                                                                                                                                                                                                                                                                                                                                                                                                                                                                                                                                                                                                                                                                                                                                                                                                                                                                                                                                                                                                                                                                                                                     </td></tr>\n",
       "</tbody>\n",
       "</table>"
      ],
      "text/plain": [
       "<IPython.core.display.HTML object>"
      ]
     },
     "metadata": {},
     "output_type": "display_data"
    }
   ],
   "source": [
    "from IPython.display import HTML, display\n",
    "import tabulate\n",
    "\n",
    "# set a new property in the dict 'friends' to an empty list\n",
    "for user in users:\n",
    "    user[\"friends\"] = [];\n",
    "    \n",
    "# populate lists using friendship data\n",
    "for i,j in friendships:\n",
    "    # this works b/c user[i] is the user with id = i\n",
    "    users[i][\"friends\"].append(users[j]) # add i as a friend of j\n",
    "    users[j][\"friends\"].append(users[i]) # add j as a friend of i\n",
    "    \n",
    "display(HTML(tabulate.tabulate(users, tablefmt='html')))"
   ]
  },
  {
   "cell_type": "markdown",
   "metadata": {},
   "source": [
    "Now we can ask questions such as what the average number of connections in the graph is."
   ]
  },
  {
   "cell_type": "code",
   "execution_count": 4,
   "metadata": {},
   "outputs": [
    {
     "name": "stdout",
     "output_type": "stream",
     "text": [
      "2.1818181818181817\n"
     ]
    }
   ],
   "source": [
    "# find total number of connections by summing up length of friends list\n",
    "def num_of_friends(user):\n",
    "    \"\"\"How many friends does _user_ have?\"\"\"\n",
    "    return len(user[\"friends\"]) # length of friend_ids list\n",
    "\n",
    "total_connections = sum(num_of_friends(user) for user in users)\n",
    "#print(total_connections) # = 24\n",
    "\n",
    "from __future__ import division\n",
    "num_users = len(users) # length of user list\n",
    "avg_connections = total_connections / num_users\n",
    "print(avg_connections)"
   ]
  },
  {
   "cell_type": "markdown",
   "metadata": {},
   "source": [
    "We can also find the most and least connected users (those with the largest and smallest of number of friends). This helps us ID those in the network who are central to the network and computes our network metric **degree centrality**."
   ]
  },
  {
   "cell_type": "code",
   "execution_count": 5,
   "metadata": {},
   "outputs": [
    {
     "name": "stdout",
     "output_type": "stream",
     "text": [
      "Users sorted by number of friends (id, number of friends):\n",
      "[(1, 3), (2, 3), (3, 3), (5, 3), (9, 3), (0, 2), (4, 2), (6, 2), (7, 2), (9, 1), (10, 0)]\n"
     ]
    }
   ],
   "source": [
    "# make list of ID and number of friends\n",
    "num_friends_by_id = [(user[\"id\"], num_of_friends(user)) for user in users]\n",
    "\n",
    "# sort by number of friends, largest to smallest\n",
    "print(\"Users sorted by number of friends (id, number of friends):\")\n",
    "print(sorted(num_friends_by_id,\n",
    "             key = lambda pair: pair[1],\n",
    "             reverse = True))"
   ]
  },
  {
   "cell_type": "markdown",
   "metadata": {},
   "source": [
    "This degree centrality is easy to calculate but doesn't always give desired results. By looking at the graph of the network, it would seem that some users would be more 'central' than this metric suggests. That will be investigated later."
   ]
  },
  {
   "cell_type": "markdown",
   "metadata": {},
   "source": [
    "To encourage more connections among members in the network, another VP suggests that we design a \"Data Scientists you may now\" recommender. A typical first instinct would be to suggest friends of friends to users."
   ]
  },
  {
   "cell_type": "code",
   "execution_count": 13,
   "metadata": {},
   "outputs": [
    {
     "data": {
      "text/plain": [
       "[0, 2, 3, 0, 1, 3]"
      ]
     },
     "execution_count": 13,
     "metadata": {},
     "output_type": "execute_result"
    }
   ],
   "source": [
    "# for each friend a user has, iterate over the friends of the friend and collect results\n",
    "def friends_of_friends_ids(user):\n",
    "    # foaf = \"friend of a friend\"\n",
    "    return [foaf[\"id\"]\n",
    "            # for each friend a user has\n",
    "            for friend in user[\"friends\"]\n",
    "            # for each friend of the current friend of the current user\n",
    "            for foaf in friend[\"friends\"]]\n",
    "\n",
    "# find friends of friends for Hero (user ID = 0)\n",
    "friends_of_friends_ids(users[0])"
   ]
  },
  {
   "cell_type": "markdown",
   "metadata": {},
   "source": [
    "We see that the ID `0` is there twice, clarifying that ID's of `2` and `1` are both friends of Hero, and user ID `3` (Chi) is friends with both friends of Hero, and is therefore accessible through both friends (Dunn and Sue)."
   ]
  },
  {
   "cell_type": "code",
   "execution_count": 22,
   "metadata": {},
   "outputs": [
    {
     "name": "stdout",
     "output_type": "stream",
     "text": [
      "user[ 0 ]\n",
      "1\n",
      "2\n",
      "user[ 1 ]\n",
      "0\n",
      "2\n",
      "3\n",
      "user[ 2 ]\n",
      "0\n",
      "1\n",
      "3\n"
     ]
    }
   ],
   "source": [
    "# print out the ID's of each friend for 1st 3 users\n",
    "i = 0;\n",
    "while i < 3:\n",
    "    print(\"user[\",i,\"]\")\n",
    "    for friend in users[i][\"friends\"]:\n",
    "        print(friend[\"id\"])\n",
    "    i = i + 1"
   ]
  },
  {
   "cell_type": "markdown",
   "metadata": {},
   "source": [
    "Knowing\tthat\tpeople\tare\tfriends-of-friends\tin\t*multiple*\tcould be interesting,\tso\tmaybe\twe\tcould instead\tproduce\ta\t*count*\tof\tmutual\tfriends via a\t**helper\tfunction** (function written because we need a particular functionality in multiple places and it makes code more readable)\tto\texclude\tpeople\talready\tknown\tto\ta\tuser."
   ]
  },
  {
   "cell_type": "code",
   "execution_count": 27,
   "metadata": {},
   "outputs": [
    {
     "data": {
      "text/plain": [
       "True"
      ]
     },
     "execution_count": 27,
     "metadata": {},
     "output_type": "execute_result"
    }
   ],
   "source": [
    "from collections import Counter # container that keeps track of how many times equivalent values are added\n",
    "\n",
    "def not_the_same(user1,user2):\n",
    "    # two users are different if they have different ID's\n",
    "    return user1[\"id\"] != user2[\"id\"]\n",
    "\n",
    "def not_friends(user1,user2):\n",
    "    # user2 is NOT a friend if not present in user1[\"friends\"]\n",
    "    # i.e. user2 is not the same as all other users in user1[\"friends\"]\n",
    "    \n",
    "    # all() returns True if all elements of iterable are true (or if iterable is empty)\n",
    "    # for each friend of 1st given user, see if 2nd given user is the same as current friend\n",
    "    # if no friends of 1st given user are equal to user 2, return TRUE via all()\n",
    "    return all(not_the_same(friend, user2) for friend in user1[\"friends\"])\n",
    "    \n",
    "# not_friends(users[0],users[5]) # False = they are friends\n",
    "# not_friends(users[0],users[5]) # True = they are NOT friends"
   ]
  },
  {
   "cell_type": "code",
   "execution_count": 28,
   "metadata": {},
   "outputs": [
    {
     "name": "stdout",
     "output_type": "stream",
     "text": [
      "Counter({0: 2, 5: 1})\n"
     ]
    }
   ],
   "source": [
    "def fof_ids(user):\n",
    "    return Counter(foaf[\"id\"] # increase the counter for each user ID if\n",
    "                  for friend in user[\"friends\"] # for each friend of said user\n",
    "                  for foaf in friend[\"friends\"] # for each friend of current friend of said user\n",
    "                  if not_the_same(user, foaf) # if the user is NOT the same as the current friend of our friend\n",
    "                  and not_friends(user, foaf)) # and the user is NOT already friends with this friend of our friend\n",
    "\n",
    "print(fof_ids(users[3]))"
   ]
  },
  {
   "cell_type": "markdown",
   "metadata": {},
   "source": [
    "So, user 3, Chi, has 2 mutual friends with user 1 (Hero) and 1 mutual friend with user 5 (Clive).\n",
    "\n",
    "We are now interested in finding users\twith\tsimilar interests.\t(a\tgood\texample\tof\tthe\t“substantive/domain\texpertise”\taspect\tof\tdata\tscience.) We find this data as\ta\t`list`\tof\tpairs (id and\tinterest):"
   ]
  },
  {
   "cell_type": "code",
   "execution_count": 29,
   "metadata": {
    "collapsed": true
   },
   "outputs": [],
   "source": [
    "interests = [\n",
    "    (0, \"Hadoop\"), (0, \"Big Data\"), (0, \"HBase\"), (0, \"Java\"),\n",
    "    (0, \"Spark\"), (0, \"Storm\"), (0, \"Cassandra\"),\n",
    "    (1, \"NoSQL\"), (1, \"MongoDB\"), (1, \"Cassandra\"), (1, \"HBase\"),\n",
    "    (1, \"Postgres\"), (2, \"Python\"), (2, \"scikit-learn\"), (2, \"scipy\"),\n",
    "    (2, \"numpy\"), (2, \"statsmodels\"), (2, \"pandas\"), (3, \"R\"), (3, \"Python\"),\n",
    "    (3, \"statistics\"), (3, \"regression\"), (3, \"probability\"),\n",
    "    (4, \"machine learning\"), (4, \"regression\"), (4, \"decision trees\"),\n",
    "    (4, \"libsvm\"), (5, \"Python\"), (5, \"R\"), (5, \"Java\"), (5, \"C++\"),\n",
    "    (5, \"Haskell\"), (5, \"programming languages\"), (6, \"statistics\"),\n",
    "    (6, \"probability\"), (6, \"mathematics\"), (6, \"theory\"),\n",
    "    (7, \"machine learning\"), (7, \"scikit-learn\"), (7, \"Mahout\"),\n",
    "    (7, \"neural networks\"), (8, \"neural networks\"), (8, \"deep learning\"),\n",
    "    (8, \"Big Data\"), (8, \"artificial intelligence\"), (9, \"Hadoop\"),\n",
    "    (9, \"Java\"), (9, \"MapReduce\"), (9, \"Big Data\")\n",
    "]"
   ]
  },
  {
   "cell_type": "markdown",
   "metadata": {},
   "source": [
    "Looking above, user 4 (Thor) does not have any mutual friends with user 7 (Devin), but both users share an interest in machine learning. "
   ]
  },
  {
   "cell_type": "code",
   "execution_count": 31,
   "metadata": {},
   "outputs": [
    {
     "data": {
      "text/plain": [
       "[3, 5]"
      ]
     },
     "execution_count": 31,
     "metadata": {},
     "output_type": "execute_result"
    }
   ],
   "source": [
    "# function to find users with specified interests\n",
    "def similar_interests(target_interest):\n",
    "    return [id\n",
    "            for id, interest in interests\n",
    "            if interest == target_interest]\n",
    "\n",
    "similar_interests(\"R\")"
   ]
  },
  {
   "cell_type": "markdown",
   "metadata": {},
   "source": [
    "So, users 3 and 5 have an interest in R. \n",
    "\n",
    "The above code is fine, but it must examine the *entire* list of interests for *every* search. If we had much more users and interests, this could take too long. It's better to build an **index** from interests to users."
   ]
  },
  {
   "cell_type": "code",
   "execution_count": 32,
   "metadata": {},
   "outputs": [
    {
     "name": "stdout",
     "output_type": "stream",
     "text": [
      "defaultdict(<class 'list'>, {'Hadoop': [0, 9], 'Big Data': [0, 8, 9], 'HBase': [0, 1], 'Java': [0, 5, 9], 'Spark': [0], 'Storm': [0], 'Cassandra': [0, 1], 'NoSQL': [1], 'MongoDB': [1], 'Postgres': [1], 'Python': [2, 3, 5], 'scikit-learn': [2, 7], 'scipy': [2], 'numpy': [2], 'statsmodels': [2], 'pandas': [2], 'R': [3, 5], 'statistics': [3, 6], 'regression': [3, 4], 'probability': [3, 6], 'machine learning': [4, 7], 'decision trees': [4], 'libsvm': [4], 'C++': [5], 'Haskell': [5], 'programming languages': [5], 'mathematics': [6], 'theory': [6], 'Mahout': [7], 'neural networks': [7, 8], 'deep learning': [8], 'artificial intelligence': [8], 'MapReduce': [9]})\n"
     ]
    }
   ],
   "source": [
    "# Python dicts throw \"KeyError\" if you try to get an item with a key that is not currently in the dictionary\n",
    "# defaultdict will instead CREATE any items you try to access (provided they do not exist yet), in this case, an empty list\n",
    "from collections import defaultdict\n",
    "\n",
    "# keys = interests, values = lists of interests for a user ID\n",
    "ids_by_interest = defaultdict(list)\n",
    "\n",
    "for id, interest in interests:\n",
    "    # for each ID/interest pair, add the user's ID into a list for that interest\n",
    "    ids_by_interest[interest].append(id)\n",
    "\n",
    "print(ids_by_interest)"
   ]
  },
  {
   "cell_type": "code",
   "execution_count": 33,
   "metadata": {},
   "outputs": [
    {
     "name": "stdout",
     "output_type": "stream",
     "text": [
      "defaultdict(<class 'list'>, {0: ['Hadoop', 'Big Data', 'HBase', 'Java', 'Spark', 'Storm', 'Cassandra'], 1: ['NoSQL', 'MongoDB', 'Cassandra', 'HBase', 'Postgres'], 2: ['Python', 'scikit-learn', 'scipy', 'numpy', 'statsmodels', 'pandas'], 3: ['R', 'Python', 'statistics', 'regression', 'probability'], 4: ['machine learning', 'regression', 'decision trees', 'libsvm'], 5: ['Python', 'R', 'Java', 'C++', 'Haskell', 'programming languages'], 6: ['statistics', 'probability', 'mathematics', 'theory'], 7: ['machine learning', 'scikit-learn', 'Mahout', 'neural networks'], 8: ['neural networks', 'deep learning', 'Big Data', 'artificial intelligence'], 9: ['Hadoop', 'Java', 'MapReduce', 'Big Data']})\n"
     ]
    }
   ],
   "source": [
    "# keys = ids, values = lists of interests for that user\n",
    "interest_by_ids = defaultdict(list)\n",
    "\n",
    "for id, interest in interests:\n",
    "    # for each ID/interest pair, add the interest into a list for that user id\n",
    "    interest_by_ids[id].append(interest)\n",
    "    \n",
    "print(interest_by_ids)"
   ]
  },
  {
   "cell_type": "markdown",
   "metadata": {},
   "source": [
    "Now we can find which user has the most interests in common with another user"
   ]
  },
  {
   "cell_type": "code",
   "execution_count": 38,
   "metadata": {},
   "outputs": [
    {
     "data": {
      "text/plain": [
       "Counter({2: 1, 4: 1, 5: 2, 6: 2})"
      ]
     },
     "execution_count": 38,
     "metadata": {},
     "output_type": "execute_result"
    }
   ],
   "source": [
    "def most_common_interests_with(user):\n",
    "    return Counter(interested_id # count each ID that has the same interest\n",
    "                   for interest in interest_by_ids[user[\"id\"]] # iterate over a user's interests\n",
    "                   for interested_id in ids_by_interest[interest] # for each interest, iterate over other users with interest\n",
    "                   if interested_id != user[\"id\"]) # make sure users are not the same person\n",
    "\n",
    "most_common_interests_with(users[3])"
   ]
  },
  {
   "cell_type": "markdown",
   "metadata": {},
   "source": [
    "So, this tells us that users 2 and 4 have 1 interest in common, and users 5 and 6 have 2 interests in common."
   ]
  },
  {
   "cell_type": "code",
   "execution_count": null,
   "metadata": {
    "collapsed": true
   },
   "outputs": [],
   "source": []
  }
 ],
 "metadata": {
  "kernelspec": {
   "display_name": "Python 3",
   "language": "python",
   "name": "python3"
  },
  "language_info": {
   "codemirror_mode": {
    "name": "ipython",
    "version": 3
   },
   "file_extension": ".py",
   "mimetype": "text/x-python",
   "name": "python",
   "nbconvert_exporter": "python",
   "pygments_lexer": "ipython3",
   "version": "3.6.3"
  }
 },
 "nbformat": 4,
 "nbformat_minor": 2
}
