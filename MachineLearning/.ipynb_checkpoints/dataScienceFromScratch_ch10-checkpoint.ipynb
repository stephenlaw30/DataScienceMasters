{
 "cells": [
  {
   "cell_type": "markdown",
   "metadata": {},
   "source": [
    "## Chapter 10. Working W/ Data\n",
    "\n",
    "### Exploring Your Data\n",
    "After you’ve IDing questions you’re trying to answer + have gotten some data, might be tempted to dive in + immediately start building models + getting answers --> resist this urge. \n",
    "\n",
    "**1st step** = explore your data.\n",
    "\n",
    "### Exploring One-Dimensional Data\n",
    "\n",
    "Simplest case = a 1D data set == just a collection of numbers (daily avg. # of minutes each user spends on a site, # of times each of a collection of tutorial videos was watched, # of pages of each book in a library, etc.)\n",
    "\n",
    "An obvious 1st step = compute a few summary stats = see how many DP's we have, the smallest + largest ones, the mean, + the SD. *But even these don’t necessarily give you a great understanding*. \n",
    "\n",
    "A good next step = create a histogram to group data into discrete buckets + count how\n",
    "many DP's fall into each bucket:"
   ]
  },
  {
   "cell_type": "code",
   "execution_count": 3,
   "metadata": {
    "collapsed": false
   },
   "outputs": [],
   "source": [
    "import math\n",
    "\n",
    "def normal_cdf(x,mu=0,sigma=1):\n",
    "    return (1+math.erf((x-mu)/math.sqrt(2)/sigma))/2\n",
    "\n",
    "    # plot some cDFs\n",
    "    x_ax = [x / 10 for  x in range(-50,50)]\n",
    "    plt.plot(x_ax, [normal_cdf(x,sigma=1) for x in x_ax], linestyle='-'\n",
    "             ,label=\"mu=0, sigma=1\")\n",
    "    plt.plot(x_ax, [normal_cdf(x,sigma=2) for x in x_ax], linestyle='--'\n",
    "             ,label=\"mu=0, sigma=2\")\n",
    "    plt.plot(x_ax, [normal_cdf(x,sigma=.5) for x in x_ax], linestyle=':'\n",
    "             ,label=\"mu=0, sigma=.5\")\n",
    "    plt.plot(x_ax, [normal_cdf(x,mu=-1) for x in x_ax], linestyle='-.'\n",
    "             ,label=\"mu=-1, sigma=1\")\n",
    "    plt.legend(loc=4) # bottom-right\n",
    "    plt.title(\"Various Normal CDFs\")\n",
    "    plt.show()\n",
    "\n",
    "def inverse_normal_cdf(p,mu=0,sigma=1,tolerance=.00001):\n",
    "    \"\"\"Find the approximate inverse using binary search\"\"\"\n",
    "    \n",
    "    # if not standard, standardize and re-scale\n",
    "    if mu != 0 or sigma != 1:\n",
    "        return mu + sigma*inverse_normal_cdf(p,tolerance=tolerance)\n",
    "    \n",
    "    low_z, low_p = -10.0, 0  # normal_cdf(-10) = very close to 0\n",
    "    hi_z, hi_p = 10.0, 1     # normal_cdf(10) = very close to 1\n",
    "    \n",
    "    while hi_z - low_z > tolerance: \n",
    "        mid_z = (low_z + hi_z) / 2 # consider midpoint\n",
    "        mid_p = normal_cdf(mid_z)  # and the CDF's value there\n",
    "        \n",
    "        if mid_p < p:\n",
    "            # if midpoint is still too low, search above it\n",
    "            low_z, low_p = mid_z, mid_p\n",
    "        elif mid_p > p:\n",
    "            # if midpoint is still too high, search below it\n",
    "            hi_z, hi_p = mid_z, mid_p \n",
    "        else:\n",
    "            break\n",
    "    \n",
    "    return mid_z"
   ]
  },
  {
   "cell_type": "code",
   "execution_count": 13,
   "metadata": {
    "collapsed": false
   },
   "outputs": [],
   "source": [
    "%matplotlib inline\n",
    "\n",
    "import math\n",
    "import matplotlib.pyplot as plt\n",
    "from collections import Counter\n",
    "import random\n",
    "\n",
    "def bucketize(point,bucket_size):\n",
    "    \"\"\"Floor a points to the next lower multiple of bucket_size\"\"\"\n",
    "    return bucket_size*math.floor(point/bucket_size)\n",
    "\n",
    "def make_histogram(points,bucket_size):\n",
    "    \"\"\"Buckets the points + counts how many are in each bucket\"\"\"\n",
    "    return Counter(bucketize(point,bucket_size) for point in points)\n",
    "\n",
    "def plot_histogram(points,bucket_size,title=\"\"):\n",
    "    histogram = make_histogram(points,bucket_size)\n",
    "    plt.bar(list(histogram.keys()),list(histogram.values()),width=bucket_size)\n",
    "    plt.title(title)\n",
    "    plt.show()\n",
    "\n",
    "random.seed(0)\n",
    "\n",
    "# uniform between -100-100\n",
    "uniform = [200*random.random()-100 for _ in range(10000)]\n",
    "\n",
    "# normal with mean 0 and SD 57\n",
    "normal = [57*inverse_normal_cdf(random.random()) for _ in range(10000)]"
   ]
  },
  {
   "cell_type": "markdown",
   "metadata": {},
   "source": [
    "Both have means close to 0 + SD's close to 58. However, they have very different distributions = v. different max + min, but even knowing that wouldn’t have been sufficient to understand how they differed."
   ]
  },
  {
   "cell_type": "code",
   "execution_count": 16,
   "metadata": {
    "collapsed": false
   },
   "outputs": [
    {
     "data": {
      "image/png": "[encoded data removed]",
      "text/plain": [
       "<matplotlib.figure.Figure at 0x8750438>"
      ]
     },
     "metadata": {},
     "output_type": "display_data"
    },
    {
     "data": {
      "image/png": "[encoded data removed]",
      "text/plain": [
       "<matplotlib.figure.Figure at 0x8750518>"
      ]
     },
     "metadata": {},
     "output_type": "display_data"
    }
   ],
   "source": [
    "plot_histogram(uniform,10,\"Uniform\")\n",
    "plot_histogram(normal,10,\"Normal\")"
   ]
  },
  {
   "cell_type": "markdown",
   "metadata": {
    "collapsed": false
   },
   "source": [
    "### Two Dimensions\n",
    "\n",
    "Now in addition to daily minutes, we have years of experience. Of course you’d want to understand each dimension individually, but also probably want to scatter the data.\n",
    "For example, consider another fake data set:"
   ]
  },
  {
   "cell_type": "code",
   "execution_count": 23,
   "metadata": {
    "collapsed": false,
    "scrolled": false
   },
   "outputs": [
    {
     "data": {
      "image/png": "[encoded data removed]",
      "text/plain": [
       "<matplotlib.figure.Figure at 0x4e75080>"
      ]
     },
     "metadata": {},
     "output_type": "display_data"
    },
    {
     "data": {
      "image/png": "[encoded data removed]",
      "text/plain": [
       "<matplotlib.figure.Figure at 0x879d978>"
      ]
     },
     "metadata": {},
     "output_type": "display_data"
    },
    {
     "data": {
      "image/png": "[encoded data removed]",
      "text/plain": [
       "<matplotlib.figure.Figure at 0x81dec18>"
      ]
     },
     "metadata": {},
     "output_type": "display_data"
    }
   ],
   "source": [
    "def random_normal():\n",
    "    \"\"\"Returns random draw form a Standard Normal Distribution\"\"\"\n",
    "    return inverse_normal_cdf(random.random())\n",
    "\n",
    "x_ax = [random_normal() for _ in range(1000)]\n",
    "y_ax1 = [x+random_normal() / 2 for x in x_ax]\n",
    "y_ax2 = [-x+random_normal() / 2 for x in x_ax]\n",
    "\n",
    "# both have similar distributions (normal w/ same mean + SD)\n",
    "plot_histogram(y_ax1,.5,\"Normal1\")\n",
    "plot_histogram(y_ax2,.5,\"Normal2\")\n",
    "\n",
    "# but different JOINT DISTRIBUTIONS w/ x values\n",
    "plt.scatter(x_ax, y_ax1, marker='.', color='red', label='y1')\n",
    "plt.scatter(x_ax, y_ax2, marker='.', color='blue', label='y2')\n",
    "plt.xlabel(\"X's\")\n",
    "plt.ylabel(\"Y's\")\n",
    "plt.legend(loc=9)\n",
    "plt.title(\"Very Different Join Distributions\")\n",
    "plt.show()"
   ]
  },
  {
   "cell_type": "code",
   "execution_count": 27,
   "metadata": {
    "collapsed": false
   },
   "outputs": [
    {
     "name": "stdout",
     "output_type": "stream",
     "text": [
      "0.9055244658599846\n",
      "-0.9026656209842727\n"
     ]
    }
   ],
   "source": [
    "def dot(v, w):\n",
    "    \"\"\"v_1 * w_1 + ... + v_n * w_n\"\"\"\n",
    "    return sum(v_i * w_i for v_i, w_i in zip(v, w))\n",
    "\n",
    "def sum_of_squares(v):\n",
    "    \"\"\"v_1 * v_1 + ... + v_n * v_n\"\"\"\n",
    "    return dot(v, v)\n",
    "\n",
    "def mean(x):\n",
    "    return sum(x) / len(x)\n",
    "\n",
    "def de_mean(x):\n",
    "    \"\"\"translate x by subtracting its mean (so the result has mean 0)\"\"\"\n",
    "    x_bar = mean(x)\n",
    "    return [x_i - x_bar for x_i in x]\n",
    "\n",
    "def variance(x):\n",
    "    \"\"\"assumes x has at least two elements\"\"\"\n",
    "    n = len(x)\n",
    "    deviations = de_mean(x)\n",
    "    return sum_of_squares(deviations) / (n - 1)\n",
    "\n",
    "def standard_deviation(x):\n",
    "    return math.sqrt(variance(x))\n",
    "\n",
    "def covariance(x, y):\n",
    "    n = len(x)\n",
    "    return dot(de_mean(x), de_mean(y)) / (n - 1)\n",
    "\n",
    "def correlation(x, y):\n",
    "    stdev_x = standard_deviation(x)\n",
    "    stdev_y = standard_deviation(y)\n",
    "    if stdev_x > 0 and stdev_y > 0:\n",
    "        return covariance(x, y) / stdev_x / stdev_y\n",
    "    else:\n",
    "        return 0 # if no variation, correlation is zero\n",
    "\n",
    "# JOINT DISTRIBUTION difference would also be apparent in the correlations\n",
    "print(correlation(x_ax,y_ax1))\n",
    "print(correlation(x_ax,y_ax2))"
   ]
  },
  {
   "cell_type": "markdown",
   "metadata": {},
   "source": [
    "### Many Dimensions\n",
    "\n",
    "W/ many dimensions, you’d like to know how ALL the dimensions relate to one another. A simple approach = look @ **correlation matrix**, in which the entry in row i + col j = correlation between the ith dimension and the jth dimension of the data:"
   ]
  },
  {
   "cell_type": "code",
   "execution_count": 29,
   "metadata": {
    "collapsed": false
   },
   "outputs": [
    {
     "data": {
      "text/plain": [
       "[[1.0, -0.9811358167114443, -0.6617493801914248, -0.517322308755641],\n",
       " [-0.9811358167114445,\n",
       "  1.0000000000000002,\n",
       "  0.6818185438510717,\n",
       "  0.5421152672467888],\n",
       " [-0.6617493801914248,\n",
       "  0.6818185438510717,\n",
       "  1.0000000000000002,\n",
       "  0.7461443698023104],\n",
       " [-0.517322308755641,\n",
       "  0.5421152672467889,\n",
       "  0.7461443698023105,\n",
       "  0.9999999999999999]]"
      ]
     },
     "execution_count": 29,
     "metadata": {},
     "output_type": "execute_result"
    }
   ],
   "source": [
    "def shape(A):\n",
    "    num_rows = len(A)\n",
    "    num_cols = len(A[0]) if A else 0\n",
    "    return num_rows, num_cols\n",
    "\n",
    "def get_column(A, j):\n",
    "    return [A_i[j] for A_i in A]\n",
    "\n",
    "def make_matrix(num_rows, num_cols, entry_fn):\n",
    "    \"\"\"returns a num_rows x num_cols matrix\n",
    "    whose (i,j)-th entry is entry_fn(i, j)\"\"\"\n",
    "    return [[entry_fn(i, j) for j in range(num_cols)]\n",
    "            for i in range(num_rows)]\n",
    "\n",
    "def correlation_mtx(data):\n",
    "    \"\"\"Returns num_cols*num_cols matrix whose (i,j)th entry\n",
    "    is the correlation between columns i and j of given data\"\"\"\n",
    "    _, num_columns = shape(data)\n",
    "    \n",
    "    def matrix_entry(i,j):\n",
    "        return correlation(get_column(data,i),get_column(data,j))\n",
    "    \n",
    "    return make_matrix(num_columns,num_columns,matrix_entry)\n",
    "\n",
    "num_points = 100\n",
    "\n",
    "def random_row():\n",
    "    row = [None, None, None, None]\n",
    "    row[0] = random_normal()\n",
    "    row[1] = -5 * row[0] + random_normal()\n",
    "    row[2] = row[0] + row[1] + 5 * random_normal()\n",
    "    row[3] = 6 if row[2] > -2 else 0\n",
    "    \n",
    "    return row\n",
    "\n",
    "random.seed(0)\n",
    "data = [random_row() for _ in range(num_points)]\n",
    "correlation_mtx(data)"
   ]
  },
  {
   "cell_type": "markdown",
   "metadata": {},
   "source": [
    "more visual approach (if you don’t have *too* many dimensions) = make a **scatterplot\n",
    "matrix** showing all **pairwise scatterplots**. \n",
    "\n",
    "To do that, use `plt.subplots()` = allows us to create subplots of our chart given # of\n",
    "rows + # of columns + returns a **figure object** (not used) + a 2D array of **axes objects** (each of which we’ll plot to):"
   ]
  },
  {
   "cell_type": "code",
   "execution_count": 30,
   "metadata": {
    "collapsed": false
   },
   "outputs": [
    {
     "data": {
      "image/png": "[encoded data removed]",
      "text/plain": [
       "<matplotlib.figure.Figure at 0x88b9e10>"
      ]
     },
     "metadata": {},
     "output_type": "display_data"
    }
   ],
   "source": [
    "_, num_columns = shape(data)\n",
    "fix,ax = plt.subplots(num_columns,num_columns)\n",
    "\n",
    "for i in range(num_columns):\n",
    "    for j in range(num_columns):\n",
    "        \n",
    "        # scatter col_j on x-axis vs. col_i on y-axis\n",
    "        if i != j:\n",
    "            ax[i][j].scatter(get_column(data,j),get_column(data,i))\n",
    "        # unless i ==j, in which case, show series name\n",
    "        else:\n",
    "            ax[i][j].annotate(\"Series \" + str(i), (.5,.5),\n",
    "                              xycoords=\"axes fraction\",\n",
    "                              ha=\"center\",va=\"center\")\n",
    "        # then hide axis labels except left + bottom charts\n",
    "        if i < num_columns - 1:\n",
    "            ax[i][j].xaxis.set_visible(False)\n",
    "        if j > 0:\n",
    "            ax[i][j].yaxis.set_visible(False)            \n",
    "\n",
    "# Fix bottom right + top left axis labels\n",
    "#  - wrong b/c charts only have text in them\n",
    "ax[-1][-1].set_xlim(ax[0][-1].get_xlim())\n",
    "ax[0][0].set_ylim(ax[0][1].get_ylim())\n",
    "\n",
    "plt.show()"
   ]
  },
  {
   "cell_type": "markdown",
   "metadata": {},
   "source": [
    "Looking @ the scatterplots --> series 1 = very negatively correlated w/ series 0, series 2 = positively correlated w/ series 1, + series 3 only takes on values 0 and 6, w/ 0 corresponding to small values of series 2 and 6 corresponding to large values.\n",
    "\n",
    "This is a quick way to get a rough sense of which of your variables are correlated"
   ]
  },
  {
   "cell_type": "code",
   "execution_count": 7,
   "metadata": {
    "collapsed": false
   },
   "outputs": [
    {
     "ename": "FileNotFoundError",
     "evalue": "[Errno 2] No such file or directory: 'email_address.txt'",
     "output_type": "error",
     "traceback": [
      "\u001b[0;31m---------------------------------------------------------------------------\u001b[0m",
      "\u001b[0;31mFileNotFoundError\u001b[0m                         Traceback (most recent call last)",
      "\u001b[0;32m<ipython-input-7-a3ebd8b932cf>\u001b[0m in \u001b[0;36m<module>\u001b[0;34m()\u001b[0m\n\u001b[1;32m      3\u001b[0m     \u001b[1;32mreturn\u001b[0m \u001b[0memail_address\u001b[0m\u001b[1;33m.\u001b[0m\u001b[0mlower\u001b[0m\u001b[1;33m(\u001b[0m\u001b[1;33m)\u001b[0m\u001b[1;33m.\u001b[0m\u001b[0msplit\u001b[0m\u001b[1;33m(\u001b[0m\u001b[1;34m\"@\"\u001b[0m\u001b[1;33m)\u001b[0m\u001b[1;33m[\u001b[0m\u001b[1;33m-\u001b[0m\u001b[1;36m1\u001b[0m\u001b[1;33m]\u001b[0m\u001b[1;33m\u001b[0m\u001b[0m\n\u001b[1;32m      4\u001b[0m \u001b[1;33m\u001b[0m\u001b[0m\n\u001b[0;32m----> 5\u001b[0;31m \u001b[1;32mwith\u001b[0m \u001b[0mopen\u001b[0m\u001b[1;33m(\u001b[0m\u001b[1;34m\"email_address.txt\"\u001b[0m\u001b[1;33m,\u001b[0m \u001b[1;34m\"r\"\u001b[0m\u001b[1;33m)\u001b[0m \u001b[1;32mas\u001b[0m \u001b[0mf\u001b[0m\u001b[1;33m:\u001b[0m\u001b[1;33m\u001b[0m\u001b[0m\n\u001b[0m\u001b[1;32m      6\u001b[0m     domain_counts - Counter(get_domain(line.strip())\n\u001b[1;32m      7\u001b[0m                            \u001b[1;32mfor\u001b[0m \u001b[0mline\u001b[0m \u001b[1;32min\u001b[0m \u001b[0mf\u001b[0m\u001b[1;33m\u001b[0m\u001b[0m\n",
      "\u001b[0;31mFileNotFoundError\u001b[0m: [Errno 2] No such file or directory: 'email_address.txt'"
     ]
    }
   ],
   "source": [
    "def get_domain(email_address):\n",
    "    \"\"\"Split on '@' and return the last piece\"\"\"\n",
    "    return email_address.lower().split(\"@\")[-1]\n",
    "\n",
    "with open(\"email_address.txt\", \"r\") as f:\n",
    "    domain_counts - Counter(get_domain(line.strip())\n",
    "                           for line in f\n",
    "                           if \"@\" in line)"
   ]
  },
  {
   "cell_type": "markdown",
   "metadata": {},
   "source": [
    "### Delimited Files\n",
    "\n",
    "More often we work w/ files w/ lots of data on each line that're very often either comma or tab-separated. Each line has several fields, w/ a comma/tab indicating where 1 field ends + the next starts.\n",
    "\n",
    "This gets complicated when you have fields w/ commas + tabs + newlines in them. For this reason, it’s pretty much always a mistake to try to parse them yourself. Instead, use Python’s `csv` module (or `pandas` library).\n",
    "\n",
    "For technical reasons, always work w/ CSV files in **binary mode** by including a `b` after the `r` or `w` (see Stack Overflow).\n",
    "\n",
    "If your file has no headers (which means you probably want each row as a list, + which places the burden on you to know what’s in each column), you can use `csv.reader` to iterate over rows, each of which will be an appropriately split list.\n",
    "\n",
    "Ex: TSV of stock prices:"
   ]
  },
  {
   "cell_type": "code",
   "execution_count": 8,
   "metadata": {
    "collapsed": false
   },
   "outputs": [
    {
     "name": "stdout",
     "output_type": "stream",
     "text": [
      "6/20/2014 AAPL 90.91\n",
      "6/20/2014 MSFT 41.68\n",
      "6/20/2014 FB 64.5\n",
      "6/19/2014 AAPL 91.86\n",
      "6/19/2014 MSFT 41.51\n",
      "6/19/2014 FB 64.34\n"
     ]
    }
   ],
   "source": [
    "import csv\n",
    "\n",
    "def process(date, symbol, price):\n",
    "    print(date, symbol, price)\n",
    "\n",
    "with open(\"tab_delimited_stock_prices.txt\", \"r\") as f:\n",
    "    reader = csv.reader(f, delimiter=\"\\t\")\n",
    "    \n",
    "    for row in reader:\n",
    "        date = row[0]\n",
    "        symbol = row[1]\n",
    "        closing_price = float(row[2])\n",
    "        process(date,symbol,closing_price)"
   ]
  },
  {
   "cell_type": "markdown",
   "metadata": {},
   "source": [
    "If the file has headers, we can skip them (with an inital call to `reader.next()`) or get each row as a `dict` (with headers as keys) by using `csv.DictReader`)"
   ]
  },
  {
   "cell_type": "code",
   "execution_count": 9,
   "metadata": {
    "collapsed": false
   },
   "outputs": [
    {
     "name": "stdout",
     "output_type": "stream",
     "text": [
      "6/20/2014 AAPL 90.91\n",
      "6/20/2014 MSFT 41.68\n",
      "6/20/2014 FB 64.5\n"
     ]
    }
   ],
   "source": [
    "import csv\n",
    "\n",
    "def process(date, symbol, price):\n",
    "    print(date, symbol, price)\n",
    "\n",
    "with open(\"colon_delimited_stock_prices.txt\", \"r\") as f:\n",
    "    reader = csv.DictReader(f, delimiter=\":\")\n",
    "    \n",
    "    for row in reader:\n",
    "        date = row[\"date\"]\n",
    "        symbol = row[\"symbol\"]\n",
    "        closing_price = float(row[\"closing_price\"])\n",
    "        process(date,symbol,closing_price)"
   ]
  },
  {
   "cell_type": "markdown",
   "metadata": {},
   "source": [
    "Even if the file doesn’t have headers we can still use `DictReader` by passing it the keys as a `fieldnames` parameter, + we can similarly write out delimited data using `csv.writer`:"
   ]
  },
  {
   "cell_type": "code",
   "execution_count": 10,
   "metadata": {
    "collapsed": false
   },
   "outputs": [],
   "source": [
    "todays_prices = {\"AAPL\":90.91,\"MSFT\":41.68,\"FB\":64.5}\n",
    "\n",
    "with open(\"comma_delimited_stock_prices.txt\", \"w\") as f:\n",
    "    writer = csv.writer(f, delimiter=\",\")\n",
    "    \n",
    "    for stock,price in todays_prices.items():\n",
    "        writer.writerow([stock,price])"
   ]
  },
  {
   "cell_type": "markdown",
   "metadata": {},
   "source": [
    "`csv.writer` does the right thing if fields themselves have commas in them. Your own hand-rolled writer probably won’t. For example, if you attempt:"
   ]
  },
  {
   "cell_type": "code",
   "execution_count": 11,
   "metadata": {
    "collapsed": false
   },
   "outputs": [
    {
     "ename": "NameError",
     "evalue": "name 'tow' is not defined",
     "output_type": "error",
     "traceback": [
      "\u001b[0;31m---------------------------------------------------------------------------\u001b[0m",
      "\u001b[0;31mNameError\u001b[0m                                 Traceback (most recent call last)",
      "\u001b[0;32m<ipython-input-11-0d6cd8a135ab>\u001b[0m in \u001b[0;36m<module>\u001b[0;34m()\u001b[0m\n\u001b[1;32m      7\u001b[0m \u001b[1;32mwith\u001b[0m \u001b[0mopen\u001b[0m\u001b[1;33m(\u001b[0m\u001b[1;34m\"bad_csv.txt\"\u001b[0m\u001b[1;33m,\u001b[0m\u001b[1;34m\"wb\"\u001b[0m\u001b[1;33m)\u001b[0m \u001b[1;32mas\u001b[0m \u001b[0mf\u001b[0m\u001b[1;33m:\u001b[0m\u001b[1;33m\u001b[0m\u001b[0m\n\u001b[1;32m      8\u001b[0m     \u001b[1;32mfor\u001b[0m \u001b[0mrow\u001b[0m \u001b[1;32min\u001b[0m \u001b[0mresults\u001b[0m\u001b[1;33m:\u001b[0m\u001b[1;33m\u001b[0m\u001b[0m\n\u001b[0;32m----> 9\u001b[0;31m         \u001b[0mf\u001b[0m\u001b[1;33m.\u001b[0m\u001b[0mwrite\u001b[0m\u001b[1;33m(\u001b[0m\u001b[1;34m\",\"\u001b[0m\u001b[1;33m.\u001b[0m\u001b[0mjoin\u001b[0m\u001b[1;33m(\u001b[0m\u001b[0mmap\u001b[0m\u001b[1;33m(\u001b[0m\u001b[0mstr\u001b[0m\u001b[1;33m,\u001b[0m\u001b[0mtow\u001b[0m\u001b[1;33m)\u001b[0m\u001b[1;33m)\u001b[0m\u001b[1;33m)\u001b[0m \u001b[1;31m# might have too many commas in it\u001b[0m\u001b[1;33m\u001b[0m\u001b[0m\n\u001b[0m\u001b[1;32m     10\u001b[0m         \u001b[0mf\u001b[0m\u001b[1;33m.\u001b[0m\u001b[0mwrite\u001b[0m\u001b[1;33m(\u001b[0m\u001b[1;34m\"\\n\"\u001b[0m\u001b[1;33m)\u001b[0m \u001b[1;31m# row might already have newlines\u001b[0m\u001b[1;33m\u001b[0m\u001b[0m\n",
      "\u001b[0;31mNameError\u001b[0m: name 'tow' is not defined"
     ]
    }
   ],
   "source": [
    "results = [[\"test1\", \"success\", \"Monday\"],\n",
    "           [\"test2\", \"success, kind of\", \"Tuesday\"],\n",
    "           [\"test3\", \"failure, kind of\", \"Wednesday\"],\n",
    "           [\"test4\", \"failure, utter\", \"Thursday\"]]\n",
    "\n",
    "# BAD - DON'T DO\n",
    "with open(\"bad_csv.txt\",\"wb\") as f:\n",
    "    for row in results:\n",
    "        f.write(\",\".join(map(str,tow))) # might have too many commas in it\n",
    "        f.write(\"\\n\") # row might already have newlines"
   ]
  },
  {
   "cell_type": "markdown",
   "metadata": {},
   "source": [
    "You will end up with a csv file no one will ever be able to make sense of that looks like:\n",
    "\n",
    "* test1,success,Monday\n",
    "* test2,success, kind of,Tuesday\n",
    "* test3,failure, kind of,Wednesday\n",
    "* test4,failure, utter,Thursday\n",
    "\n",
    "\n",
    "### Scraping the Web\n",
    "\n",
    "Fetching web pages = easym, getting meaningful structured info out of them = less so\n",
    "\n",
    "#### HTML and the Parsing Thereof\n",
    "\n",
    "Pages on the Web = written in HTML, in which text is (ideally) marked up into **elements** + **their attributes:**"
   ]
  },
  {
   "cell_type": "code",
   "execution_count": 12,
   "metadata": {
    "collapsed": false
   },
   "outputs": [
    {
     "data": {
      "text/plain": [
       "'<html>\\n<head>\\n<title>A web page</title>\\n</head>\\n<body>\\n<p id=\"author\">Joel Grus</p>\\n<p id=\"subject\">Data Science</p>\\n</body>\\n</html>'"
      ]
     },
     "execution_count": 12,
     "metadata": {},
     "output_type": "execute_result"
    }
   ],
   "source": [
    "'''<html>\n",
    "<head>\n",
    "<title>A web page</title>\n",
    "</head>\n",
    "<body>\n",
    "<p id=\"author\">Joel Grus</p>\n",
    "<p id=\"subject\">Data Science</p>\n",
    "</body>\n",
    "</html>'''"
   ]
  },
  {
   "cell_type": "markdown",
   "metadata": {},
   "source": [
    "In a perfect world where all web pages are marked up semantically for our benefit, we'd be able to extract data using rules like “find the `<p>` element whose `id` = \"subject\"\n",
    "+ return the text it contains.” In the actual world, HTML is not generally well-formed,\n",
    "let alone annotated. This means we’ll need help making sense of it.\n",
    "\n",
    "To get data out of HTML, use **BeautifulSoup library** = builds a tree out of  the various elements on a web page + provides a simple interface for accessing them + use the **requests library** = a much nicer way of making HTTP requests than anything built into Python, + use **html5lib** as an HTML parser since Python’s built-in HTML parser = not that lenient = AKA doesn’t always cope well w/ HTML that’s not perfectly formed.\n",
    "\n",
    "To use Beautiful Soup = pass some HTML into `BeautifulSoup()` function, which will come from the result of a call to `requests.get()`:\n"
   ]
  },
  {
   "cell_type": "code",
   "execution_count": 13,
   "metadata": {
    "collapsed": true
   },
   "outputs": [],
   "source": [
    "from bs4 import BeautifulSoup\n",
    "import requests\n",
    "\n",
    "html = requests.get(\"http://www.google.com\").text\n",
    "soup = BeautifulSoup(html,\"html5lib\")"
   ]
  },
  {
   "cell_type": "markdown",
   "metadata": {},
   "source": [
    "After this, we can get pretty far using a few simple methods. We’ll typically work with **Tag objects** = correspond to the tags representing the structure of an HTML page.\n"
   ]
  },
  {
   "cell_type": "code",
   "execution_count": 14,
   "metadata": {
    "collapsed": false
   },
   "outputs": [
    {
     "name": "stdout",
     "output_type": "stream",
     "text": [
      "<p style=\"color:#767676;font-size:8pt\">© 2018 - <a href=\"/intl/en/policies/privacy/\">Privacy</a> - <a href=\"/intl/en/policies/terms/\">Terms</a></p>\n",
      "<p style=\"color:#767676;font-size:8pt\">© 2018 - <a href=\"/intl/en/policies/privacy/\">Privacy</a> - <a href=\"/intl/en/policies/terms/\">Terms</a></p>\n",
      "\n",
      " © 2018 - Privacy - Terms ['©', '2018', '-', 'Privacy', '-', 'Terms']\n"
     ]
    },
    {
     "ename": "KeyError",
     "evalue": "'id'",
     "output_type": "error",
     "traceback": [
      "\u001b[0;31m---------------------------------------------------------------------------\u001b[0m",
      "\u001b[0;31mKeyError\u001b[0m                                  Traceback (most recent call last)",
      "\u001b[0;32m<ipython-input-14-bf858a648bcb>\u001b[0m in \u001b[0;36m<module>\u001b[0;34m()\u001b[0m\n\u001b[1;32m     15\u001b[0m \u001b[1;33m\u001b[0m\u001b[0m\n\u001b[1;32m     16\u001b[0m \u001b[1;31m# extract tag's attributes via treating it like a `dict`\u001b[0m\u001b[1;33m\u001b[0m\u001b[1;33m\u001b[0m\u001b[0m\n\u001b[0;32m---> 17\u001b[0;31m \u001b[0mfirst_p_id\u001b[0m \u001b[1;33m=\u001b[0m \u001b[0msoup\u001b[0m\u001b[1;33m.\u001b[0m\u001b[0mp\u001b[0m\u001b[1;33m[\u001b[0m\u001b[1;34m'id'\u001b[0m\u001b[1;33m]\u001b[0m      \u001b[1;31m# returns KeyError if no 'id'\u001b[0m\u001b[1;33m\u001b[0m\u001b[0m\n\u001b[0m",
      "\u001b[0;32mC:\\Users\\NEWNSS\\AppData\\Local\\Continuum\\Anaconda3\\lib\\site-packages\\bs4\\element.py\u001b[0m in \u001b[0;36m__getitem__\u001b[0;34m(self, key)\u001b[0m\n\u001b[1;32m   1009\u001b[0m         \"\"\"tag[key] returns the value of the 'key' attribute for the tag,\n\u001b[1;32m   1010\u001b[0m         and throws an exception if it's not there.\"\"\"\n\u001b[0;32m-> 1011\u001b[0;31m         \u001b[1;32mreturn\u001b[0m \u001b[0mself\u001b[0m\u001b[1;33m.\u001b[0m\u001b[0mattrs\u001b[0m\u001b[1;33m[\u001b[0m\u001b[0mkey\u001b[0m\u001b[1;33m]\u001b[0m\u001b[1;33m\u001b[0m\u001b[0m\n\u001b[0m\u001b[1;32m   1012\u001b[0m \u001b[1;33m\u001b[0m\u001b[0m\n\u001b[1;32m   1013\u001b[0m     \u001b[1;32mdef\u001b[0m \u001b[0m__iter__\u001b[0m\u001b[1;33m(\u001b[0m\u001b[0mself\u001b[0m\u001b[1;33m)\u001b[0m\u001b[1;33m:\u001b[0m\u001b[1;33m\u001b[0m\u001b[0m\n",
      "\u001b[0;31mKeyError\u001b[0m: 'id'"
     ]
    }
   ],
   "source": [
    "# find 1st paragraph + its contents\n",
    "first_paragraph = soup.find('p')\n",
    "\n",
    "# second way\n",
    "first_paragraph2 = soup.p\n",
    "\n",
    "print(first_paragraph)\n",
    "print(first_paragraph2)\n",
    "\n",
    "# get text contents of a Tag via its `text` property\n",
    "first_paragraph_txt = soup.p.text\n",
    "# split the text into seperate words\n",
    "first_paragraph_words = soup.p.text.split()\n",
    "print(\"\\n\",first_paragraph_txt,first_paragraph_words)\n",
    "\n",
    "# extract tag's attributes via treating it like a `dict`\n",
    "first_p_id = soup.p['id']      # returns KeyError if no 'id'"
   ]
  },
  {
   "cell_type": "code",
   "execution_count": 15,
   "metadata": {
    "collapsed": false
   },
   "outputs": [
    {
     "name": "stdout",
     "output_type": "stream",
     "text": [
      "\n",
      " None\n",
      "\n",
      " [<p style=\"color:#767676;font-size:8pt\">© 2018 - <a href=\"/intl/en/policies/privacy/\">Privacy</a> - <a href=\"/intl/en/policies/terms/\">Terms</a></p>] \n",
      " []\n"
     ]
    }
   ],
   "source": [
    "first_p_id2 = soup.p.get('id') # returns None if no 'id'\n",
    "\n",
    "print(\"\\n\",first_p_id2)\n",
    "\n",
    "# get multiple tags at once\n",
    "all_paragraphs = soup.find_all('p') # or use soup('p')\n",
    "paragraphs_with_ids = [p for p in soup('p') if p.get('id')]\n",
    "\n",
    "print(\"\\n\",all_paragraphs,\"\\n\",paragraphs_with_ids)"
   ]
  },
  {
   "cell_type": "markdown",
   "metadata": {},
   "source": [
    "Can find tags with a specific class:"
   ]
  },
  {
   "cell_type": "code",
   "execution_count": 16,
   "metadata": {
    "collapsed": true
   },
   "outputs": [],
   "source": [
    "impt_paragraphs = soup('p', {'class': 'important'})\n",
    "impt_paragraphs2 = soup('p','important')\n",
    "impt_paragraphs3 = [p for p in soup('p')\n",
    "                    if 'important' in p.get('class', [])]"
   ]
  },
  {
   "cell_type": "markdown",
   "metadata": {},
   "source": [
    "Can combine these to implement more elaborate logic"
   ]
  },
  {
   "cell_type": "code",
   "execution_count": 17,
   "metadata": {
    "collapsed": true
   },
   "outputs": [],
   "source": [
    "## find every <span> element contained inside a <div> element\n",
    "#     - warning, will return the same span multiple times\n",
    "#        if it sits inside multiple divs\n",
    "#     - be more clever if that's the case\n",
    "spans_inside_div = [span\n",
    "                   for div in soup('div')\n",
    "                   for span in div('span')]"
   ]
  },
  {
   "cell_type": "markdown",
   "metadata": {},
   "source": [
    "Just this handful of features will allow us to do quite a lot. If you end up needing to do\n",
    "more-complicated things, check the documentation.\n",
    "\n",
    "Will need to carefully inspect the source HTML, reason through selection logic, + worry about edge cases to make sure your data is correct. Let’s look at an example: **O’Reilly Books About Data**.\n",
    "\n",
    "A potential investor in our social network thinks data is just a fad. To prove him wrong, you decide to examine how many data books O’Reilly has published over time. After digging\n",
    "through its website, you find it has many pages of data books + videos, reachable through 30-items-at-a-time directory pages with URLs like:\n",
    "http://shop.oreilly.com/category/browse-subjects/data.do?sortby=publicationDate&page=1.\n",
    "\n",
    "Unless you want to be a jerk + you want your scraper to get banned, before scraping data from a website, 1st check to see if it has some sort of access policy. Looking at:\n",
    "http://oreilly.com/terms/, there seems to be nothing prohibiting this project. In order to be good citizens, we should also check for a `robots.txt` file, which tells webcrawlers how to behave. The important lines in http://shop.oreilly.com/robots.txt are:\n",
    "\n",
    "* `Crawl-delay: 30` == should wait 30 seconds between requests\n",
    "* `Request-rate: 1/30` == should request only one page every 30 seconds\n",
    "\n",
    "Basically 2 different ways of saying the same thing. (There're other lines that indicate directories not to scrape, but they don’t include our URL, so we’re OK.)\n",
    "\n",
    "* ***NOTE***: There’s always the possibility that O’Reilly will at some point revamp its website + break all logic in this section.\n",
    "\n",
    "To figure out how to extract the data, let’s download one of those pages and feed it to\n",
    "Beautiful Soup:"
   ]
  },
  {
   "cell_type": "code",
   "execution_count": 18,
   "metadata": {
    "collapsed": true
   },
   "outputs": [],
   "source": [
    "import requests\n",
    "from bs4 import BeautifulSoup\n",
    "\n",
    "url = \"https://ssearch.oreilly.com/?q=data\"\n",
    "soup = BeautifulSoup(requests.get(url).text,'html5lib')"
   ]
  },
  {
   "cell_type": "markdown",
   "metadata": {},
   "source": [
    "If we view the source of the page , we’ll see each book (or video) seems to be uniquely contained in a `<td>` table cell element whose class = `thumbtext`. Therefore, a good first step = find all `td` thumbtext tag elements:"
   ]
  },
  {
   "cell_type": "code",
   "execution_count": 19,
   "metadata": {
    "collapsed": false
   },
   "outputs": [
    {
     "name": "stdout",
     "output_type": "stream",
     "text": [
      "15\n"
     ]
    }
   ],
   "source": [
    "articles = soup('article','result product-result')\n",
    "print(len(articles))"
   ]
  },
  {
   "cell_type": "markdown",
   "metadata": {},
   "source": [
    "Next we’d like to filter out videos. (The would-be investor is only impressed by\n",
    "books.) If we inspect the HTML further, we see that each article contains 1+ `a` elements whose `class = \"book\"`, and whose text looks like `Ebook`: or `Video`: or\n",
    "`Print`:. It appears the videos contain only one `pricelabel`, whose text starts with\n",
    "`Video` (after removing leading spaces). This means we can test for videos with:"
   ]
  },
  {
   "cell_type": "code",
   "execution_count": 20,
   "metadata": {
    "collapsed": false
   },
   "outputs": [
    {
     "name": "stdout",
     "output_type": "stream",
     "text": [
      "15\n"
     ]
    }
   ],
   "source": [
    "def is_video(article):\n",
    "    \"\"\"Is video if only 1 pricelabel + if stripped text inside \n",
    "    pricelabel starts w/ 'Video'\"\"\"\n",
    "    pricelabel = article('a','book')\n",
    "    return (len(pricelabel)==1 and\n",
    "           pricelabel[0].text.strip().startswith(\"Video\"))\n",
    "\n",
    "print(len([article for article in articles if not is_video(article)]))"
   ]
  },
  {
   "cell_type": "markdown",
   "metadata": {},
   "source": [
    "Now we’re ready to start pulling data out of the td elements. It looks like the book title is the text inside an `<a>` tag withing an `<p>` class=\"title\"> tag inside the `<div class=\"book_text\">`:"
   ]
  },
  {
   "cell_type": "code",
   "execution_count": 21,
   "metadata": {
    "collapsed": false
   },
   "outputs": [
    {
     "name": "stdout",
     "output_type": "stream",
     "text": [
      "['Interactive Data Visualization for the Web', 'Data Preparation in the Big Data Era', 'Data Driven: Creating a Data Culture', 'Selenium Framework Design in Data-Driven Testing', 'The Big Data Market', 'Oil, Gas, and Data', 'Going Pro in Data Science', 'Data and Social Good', 'Understanding the Chief Data Officer', 'Mapping Big Data', 'The Security Data Lake', 'Not All Data Is Created Equal', '2015 Data Science Salary Survey', 'Managing the Data Lake', 'Python for Data Developers']\n"
     ]
    }
   ],
   "source": [
    "titles = list(article.find(\"div\",\"book_text\").a.text.strip() for article in articles)\n",
    "print(titles)"
   ]
  },
  {
   "cell_type": "markdown",
   "metadata": {},
   "source": [
    "The author(s) are in the text of the \"note\" `<p>`, + are prefaced by a `By` + separated by commas"
   ]
  },
  {
   "cell_type": "code",
   "execution_count": 22,
   "metadata": {
    "collapsed": false
   },
   "outputs": [
    {
     "name": "stdout",
     "output_type": "stream",
     "text": [
      "['By Scott Murray', 'By Federico Castanedo', 'By Hilary Mason, DJ Patil', 'By Carl Cocchiaro', 'By Aman Naimat', 'By Daniel Cowles', 'By Jerry Overton', 'By Mike Barlow', 'By Julie Steele', 'By Russell Jurney', 'By Raffael Marty', 'By Mike Barlow, Gregory Fell', 'By John King, Roger Magoulas', \"Publisher: O'Reilly Media\", \"By O'Reilly Media, Inc.\"]\n"
     ]
    },
    {
     "data": {
      "text/plain": [
       "['By Scott Murray',\n",
       " 'By Federico Castanedo',\n",
       " 'By Hilary Mason, DJ Patil',\n",
       " 'By Carl Cocchiaro',\n",
       " 'By Aman Naimat',\n",
       " 'By Daniel Cowles',\n",
       " 'By Jerry Overton',\n",
       " 'By Mike Barlow',\n",
       " 'By Julie Steele',\n",
       " 'By Russell Jurney',\n",
       " 'By Raffael Marty',\n",
       " 'By Mike Barlow, Gregory Fell',\n",
       " 'By John King, Roger Magoulas',\n",
       " \"Publisher: O'Reilly Media\",\n",
       " \"By O'Reilly Media, Inc.\"]"
      ]
     },
     "execution_count": 22,
     "metadata": {},
     "output_type": "execute_result"
    }
   ],
   "source": [
    "import re # RegEx\n",
    "print(list(article.find(\"div\",\"book_text\").find(\"p\",\"note\").text\n",
    "           for article in articles))\n",
    "\n",
    "author_names = [article.find(\"p\",\"note\").text\n",
    "                for article in articles]\n",
    "(author_names)\n",
    "# remove leading 'By' and split on commas\n",
    "#authors = [x.strip() for x in re.sub(\"^By \", \"\", author_names).split(\",\")]"
   ]
  },
  {
   "cell_type": "code",
   "execution_count": 67,
   "metadata": {
    "collapsed": false
   },
   "outputs": [
    {
     "data": {
      "text/plain": [
       "['Scott Murray',\n",
       " 'Federico Castanedo',\n",
       " 'Hilary Mason, DJ Patil',\n",
       " 'Carl Cocchiaro',\n",
       " 'Aman Naimat',\n",
       " 'Daniel Cowles',\n",
       " 'Jerry Overton',\n",
       " 'Mike Barlow',\n",
       " 'Julie Steele',\n",
       " 'Russell Jurney',\n",
       " 'Raffael Marty',\n",
       " 'Mike Barlow, Gregory Fell',\n",
       " 'John King, Roger Magoulas',\n",
       " \"Publisher: O'Reilly Media\",\n",
       " \"O'Reilly Media, Inc.\"]"
      ]
     },
     "execution_count": 67,
     "metadata": {},
     "output_type": "execute_result"
    }
   ],
   "source": [
    "[str(x).strip() for x in [re.sub('By *', '', x) for x in author_names]]#.split(\", \")]"
   ]
  },
  {
   "cell_type": "markdown",
   "metadata": {
    "collapsed": false
   },
   "source": [
    "ISBN seems to be contained in the link that’s in the thumbheader `<div>`"
   ]
  },
  {
   "cell_type": "code",
   "execution_count": 68,
   "metadata": {
    "collapsed": false
   },
   "outputs": [
    {
     "ename": "NameError",
     "evalue": "name 'td' is not defined",
     "output_type": "error",
     "traceback": [
      "\u001b[0;31m---------------------------------------------------------------------------\u001b[0m",
      "\u001b[0;31mNameError\u001b[0m                                 Traceback (most recent call last)",
      "\u001b[0;32m<ipython-input-68-eca20bd57db8>\u001b[0m in \u001b[0;36m<module>\u001b[0;34m()\u001b[0m\n\u001b[0;32m----> 1\u001b[0;31m \u001b[0misbn_link\u001b[0m \u001b[1;33m=\u001b[0m \u001b[0mtd\u001b[0m\u001b[1;33m.\u001b[0m\u001b[0mfind\u001b[0m\u001b[1;33m(\u001b[0m\u001b[1;34m\"div\"\u001b[0m\u001b[1;33m,\u001b[0m \u001b[1;34m\"thumbheader\"\u001b[0m\u001b[1;33m)\u001b[0m\u001b[1;33m.\u001b[0m\u001b[0ma\u001b[0m\u001b[1;33m.\u001b[0m\u001b[0mget\u001b[0m\u001b[1;33m(\u001b[0m\u001b[1;34m\"href\"\u001b[0m\u001b[1;33m)\u001b[0m\u001b[1;33m\u001b[0m\u001b[0m\n\u001b[0m\u001b[1;32m      2\u001b[0m \u001b[1;31m# re.match captures the part of the regex in parentheses\u001b[0m\u001b[1;33m\u001b[0m\u001b[1;33m\u001b[0m\u001b[0m\n\u001b[1;32m      3\u001b[0m \u001b[0misbn\u001b[0m \u001b[1;33m=\u001b[0m \u001b[0mre\u001b[0m\u001b[1;33m.\u001b[0m\u001b[0mmatch\u001b[0m\u001b[1;33m(\u001b[0m\u001b[1;34m\"/product/(.*)\\.do\"\u001b[0m\u001b[1;33m,\u001b[0m \u001b[0misbn_link\u001b[0m\u001b[1;33m)\u001b[0m\u001b[1;33m.\u001b[0m\u001b[0mgroup\u001b[0m\u001b[1;33m(\u001b[0m\u001b[1;36m1\u001b[0m\u001b[1;33m)\u001b[0m\u001b[1;33m\u001b[0m\u001b[0m\n",
      "\u001b[0;31mNameError\u001b[0m: name 'td' is not defined"
     ]
    }
   ],
   "source": [
    "isbn_link = td.find(\"div\", \"thumbheader\").a.get(\"href\")\n",
    "# re.match captures the part of the regex in parentheses\n",
    "isbn = re.match(\"/product/(.*)\\.do\", isbn_link).group(1)"
   ]
  },
  {
   "cell_type": "markdown",
   "metadata": {},
   "source": [
    "And the date is just the contents of the `<span class=\"directorydate\">:`"
   ]
  },
  {
   "cell_type": "code",
   "execution_count": 69,
   "metadata": {
    "collapsed": false
   },
   "outputs": [
    {
     "ename": "NameError",
     "evalue": "name 'td' is not defined",
     "output_type": "error",
     "traceback": [
      "\u001b[0;31m---------------------------------------------------------------------------\u001b[0m",
      "\u001b[0;31mNameError\u001b[0m                                 Traceback (most recent call last)",
      "\u001b[0;32m<ipython-input-69-58dce978340f>\u001b[0m in \u001b[0;36m<module>\u001b[0;34m()\u001b[0m\n\u001b[0;32m----> 1\u001b[0;31m \u001b[0mdate\u001b[0m \u001b[1;33m=\u001b[0m \u001b[0mtd\u001b[0m\u001b[1;33m.\u001b[0m\u001b[0mfind\u001b[0m\u001b[1;33m(\u001b[0m\u001b[1;34m\"span\"\u001b[0m\u001b[1;33m,\u001b[0m \u001b[1;34m\"directorydate\"\u001b[0m\u001b[1;33m)\u001b[0m\u001b[1;33m.\u001b[0m\u001b[0mtext\u001b[0m\u001b[1;33m.\u001b[0m\u001b[0mstrip\u001b[0m\u001b[1;33m(\u001b[0m\u001b[1;33m)\u001b[0m\u001b[1;33m\u001b[0m\u001b[0m\n\u001b[0m",
      "\u001b[0;31mNameError\u001b[0m: name 'td' is not defined"
     ]
    }
   ],
   "source": [
    "date = td.find(\"span\", \"directorydate\").text.strip()"
   ]
  },
  {
   "cell_type": "markdown",
   "metadata": {},
   "source": [
    "Let’s put this all together into a function:"
   ]
  },
  {
   "cell_type": "code",
   "execution_count": 71,
   "metadata": {
    "collapsed": false
   },
   "outputs": [],
   "source": [
    "def book_info(td):\n",
    "    \"\"\"given a BeautifulSoup <td> Tag representing a book,\n",
    "    extract the book's details and return a dict\"\"\"\n",
    "    \n",
    "    title = td.find(\"div\", \"thumbheader\").a.text\n",
    "    by_author = td.find('div', 'AuthorName').text\n",
    "    authors = [x.strip() for x in re.sub(\"^By \", \"\", by_author).split(\",\")]\n",
    "    isbn_link = td.find(\"div\", \"thumbheader\").a.get(\"href\")\n",
    "    isbn = re.match(\"/product/(.*)\\.do\", isbn_link).groups()[0]\n",
    "    date = td.find(\"span\", \"directorydate\").text.strip()\n",
    "    \n",
    "    return {\n",
    "        \"title\" : title,\n",
    "        \"authors\" : authors,\n",
    "        \"isbn\" : isbn,\n",
    "        \"date\" : date\n",
    "    }"
   ]
  },
  {
   "cell_type": "code",
   "execution_count": null,
   "metadata": {
    "collapsed": false
   },
   "outputs": [
    {
     "name": "stdout",
     "output_type": "stream",
     "text": [
      "souping page 1 , 0\n",
      "souping page 2 , 0\n",
      "souping page 3 , 0\n",
      "souping page 4 , 0\n",
      "souping page 5 , 0\n",
      "souping page 6 , 0\n",
      "souping page 7 , 0\n",
      "souping page 8 , 0\n",
      "souping page 9 , 0\n"
     ]
    }
   ],
   "source": [
    "### SCRAPE\n",
    "from bs4 import BeautifulSoup\n",
    "import requests\n",
    "from time import sleep\n",
    "\n",
    "base_url = \"http://shop.oreilly.com/category/browse-subjects/\" + \\\n",
    "    \"data.do?sortby=publicationDate&page=\"\n",
    "books = []\n",
    "NUM_PAGES = 31 # at the time of writing, probably more by now\n",
    "\n",
    "for page_num in range(1, NUM_PAGES + 1):\n",
    "    print(\"souping page\", page_num, \",\", len(books)), \" found so far\"\n",
    "    url = base_url + str(page_num)\n",
    "    soup = BeautifulSoup(requests.get(url).text, 'html5lib')\n",
    "\n",
    "    for td in soup('td', 'thumbtext'):\n",
    "        if not is_video(td):\n",
    "            books.append(book_info(td))\n",
    "    # now be a good citizen and respect the robots.txt!\n",
    "    sleep(30)"
   ]
  },
  {
   "cell_type": "markdown",
   "metadata": {},
   "source": [
    "***NOTE***: Extracting data from HTML = more data art than data science.\n",
    "\n",
    "Now that we’ve collected the data, we can plot the number of books published each year"
   ]
  },
  {
   "cell_type": "code",
   "execution_count": null,
   "metadata": {
    "collapsed": true
   },
   "outputs": [],
   "source": [
    "def get_year(book):\n",
    "    \"\"\"book[\"date\"] looks like 'November 2014' so we need to\n",
    "    split on the space and then take the second piece\"\"\"\n",
    "    return int(book[\"date\"].split()[1])\n",
    "\n",
    "# 2014 is the last complete year of data (when I ran this)\n",
    "year_counts = Counter(get_year(book) for book in books\n",
    "                      if get_year(book) <= 2014)\n",
    "\n",
    "import matplotlib.pyplot as plt\n",
    "\n",
    "years = sorted(year_counts)\n",
    "book_counts = [year_counts[year] for year in years]\n",
    "plt.plot(years, book_counts)\n",
    "plt.ylabel(\"# of data books\")\n",
    "plt.title(\"Data\")\n",
    "plt.show()"
   ]
  },
  {
   "cell_type": "markdown",
   "metadata": {},
   "source": [
    "Unfortunately, the would-be investor looks at the graph and decides that 2013 was “peak\n",
    "data.\n",
    "\n",
    "### Using APIs\n",
    "Many websites + web services provide application programming interfaces (APIs), which allow you to explicitly request data in a structured format == saves you the trouble of having to scrape them\n",
    "\n",
    "### JSON (and XML)\n",
    "\n",
    "B/c HTTP = a protocol for transferring text, the data you request through a web API needs to be **serialized** into a string format. Often this serialization uses **JavaScript Object Notation (JSON)**. JavaScript objects look quite similar to Python `dicts`, which makes their string representations easy to interpret:"
   ]
  },
  {
   "cell_type": "code",
   "execution_count": null,
   "metadata": {
    "collapsed": true
   },
   "outputs": [],
   "source": [
    "{ \"title\" : \"Data Science Book\",\n",
    "\"author\" : \"Joel Grus\",\n",
    "\"publicationYear\" : 2014,\n",
    "\"topics\" : [ \"data\", \"science\", \"data science\"] }"
   ]
  },
  {
   "cell_type": "markdown",
   "metadata": {},
   "source": [
    "Can parse JSON using `json` module, in particular, `loads()` = deserializes a string representing a JSON object into a Python object:"
   ]
  },
  {
   "cell_type": "code",
   "execution_count": null,
   "metadata": {
    "collapsed": true
   },
   "outputs": [],
   "source": [
    "import json\n",
    "serialized = \"\"\"{ \"title\" : \"Data Science Book\",\n",
    "                \"author\" : \"Joel Grus\",\n",
    "                \"publicationYear\" : 2014,\n",
    "                \"topics\" : [ \"data\", \"science\", \"data science\"] }\"\"\"\n",
    "\n",
    "# parse JSON to create Python dict\n"
   ]
  },
  {
   "cell_type": "code",
   "execution_count": null,
   "metadata": {
    "collapsed": true
   },
   "outputs": [],
   "source": []
  }
 ],
 "metadata": {
  "kernelspec": {
   "display_name": "Python 3",
   "language": "python",
   "name": "python3"
  },
  "language_info": {
   "codemirror_mode": {
    "name": "ipython",
    "version": 3
   },
   "file_extension": ".py",
   "mimetype": "text/x-python",
   "name": "python",
   "nbconvert_exporter": "python",
   "pygments_lexer": "ipython3",
   "version": "3.6.0"
  }
 },
 "nbformat": 4,
 "nbformat_minor": 2
}
