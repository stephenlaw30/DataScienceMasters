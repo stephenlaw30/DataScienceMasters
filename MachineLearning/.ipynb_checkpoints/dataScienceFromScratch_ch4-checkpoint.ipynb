{
 "cells": [
  {
   "cell_type": "markdown",
   "metadata": {},
   "source": [
    "# Ch4 - Linear Algebra\n",
    "\n",
    "This is a branch of math that deals with **vector spaces** and which underlines a significant amount of data science and machine learning concepts and techniques.\n",
    "\n",
    "### Vectors\n",
    "\n",
    "These are objects that can be added together or multiplied by scalars, both of which form new vectors.\n",
    "\n",
    "There are points in some finit-dimensional space and are a good way to represent numeric data, such as 3D and 4D vectors of `(height,weight,age)` and `(exam1,exam2,exam3,exam4)`\n",
    "\n",
    "The simplest \"from-scratch\" way to represent vectors are as `list`'s of numbers"
   ]
  },
  {
   "cell_type": "code",
   "execution_count": 1,
   "metadata": {
    "collapsed": true
   },
   "outputs": [],
   "source": [
    "# 3d vector\n",
    "eight_weight_age = [70,140,40] # inches, lbs, years"
   ]
  },
  {
   "cell_type": "markdown",
   "metadata": {},
   "source": [
    "A problem with this representation = lists aren't vectors and therefore provide no way to perform vector arithmetic, so we need to build them.\n",
    "\n",
    "Vectors add *component-wise*/*element-wise*"
   ]
  },
  {
   "cell_type": "code",
   "execution_count": 3,
   "metadata": {},
   "outputs": [
    {
     "data": {
      "text/plain": [
       "[(1, 3), (2, 5)]"
      ]
     },
     "execution_count": 3,
     "metadata": {},
     "output_type": "execute_result"
    }
   ],
   "source": [
    "v = [1,2]\n",
    "w = [3,5]\n",
    "list(zip(v,w))"
   ]
  },
  {
   "cell_type": "code",
   "execution_count": 8,
   "metadata": {},
   "outputs": [
    {
     "name": "stdout",
     "output_type": "stream",
     "text": [
      "[4, 7]   [-2, -3]\n"
     ]
    }
   ],
   "source": [
    "def vector_add(v,w):\n",
    "    \"\"\"Adds corresponding elements\"\"\"\n",
    "    return[v_i + w_i\n",
    "          for v_i, w_i in zip(v,w)]\n",
    "\n",
    "def vector_subtract(v,w):\n",
    "    \"\"\"Adds corresponding elements\"\"\"\n",
    "    return[v_i - w_i\n",
    "          for v_i, w_i in zip(v,w)]\n",
    "\n",
    "print(vector_add(v,w),\" \",vector_subtract(v,w))"
   ]
  },
  {
   "cell_type": "markdown",
   "metadata": {},
   "source": [
    "It's also useful to sometime sum a list of vectors component-wise, i.e. create a new vector whose 1st element = sum of all 1st elements, etc. The easiest way to do this is to add one vector at a time"
   ]
  },
  {
   "cell_type": "code",
   "execution_count": 25,
   "metadata": {
    "collapsed": true
   },
   "outputs": [],
   "source": [
    "def vector_sum(vects):\n",
    "    \"\"\"Sums all corresponding elements\"\"\"\n",
    "    # init new vector with 1st vector in list\n",
    "    result = vects[0]\n",
    "    # for each vector in the list, add it to the totals\n",
    "    for vec in vects[1:]:\n",
    "        result = vector_add(result,vec)\n",
    "    return result"
   ]
  },
  {
   "cell_type": "code",
   "execution_count": 26,
   "metadata": {},
   "outputs": [
    {
     "data": {
      "text/plain": [
       "[6, 10]"
      ]
     },
     "execution_count": 26,
     "metadata": {},
     "output_type": "execute_result"
    }
   ],
   "source": [
    "v = [1,2]\n",
    "w = [3,5]\n",
    "z = [2,3]\n",
    "\n",
    "vector_sum([v,w,z])"
   ]
  },
  {
   "cell_type": "code",
   "execution_count": 29,
   "metadata": {},
   "outputs": [
    {
     "data": {
      "text/plain": [
       "[6, 10]"
      ]
     },
     "execution_count": 29,
     "metadata": {},
     "output_type": "execute_result"
    }
   ],
   "source": [
    "# the above is the same as reducing a list via 'vector_add()'\n",
    "# re-write the above more briefly via higher-order functions\n",
    "from functools import reduce\n",
    "\n",
    "def vector_sum2(vects):\n",
    "    return reduce(vector_add, vects)\n",
    "\n",
    "vector_sum2([v,w,z]) # probably more clever than helpful"
   ]
  },
  {
   "cell_type": "code",
   "execution_count": 31,
   "metadata": {},
   "outputs": [
    {
     "data": {
      "text/plain": [
       "[2, 4, 6]"
      ]
     },
     "execution_count": 31,
     "metadata": {},
     "output_type": "execute_result"
    }
   ],
   "source": [
    "# multiply (each element of a) vector by a scalar\n",
    "def vector_mult(v,s):\n",
    "    \"\"\"v is a vector, s is a scalar\"\"\"\n",
    "    return [s*element for element in v]\n",
    "\n",
    "vector_mult([1,2,3],2)"
   ]
  },
  {
   "cell_type": "markdown",
   "metadata": {},
   "source": [
    "This then lets us find component-wise means of a list of same-sized vectors"
   ]
  },
  {
   "cell_type": "code",
   "execution_count": 36,
   "metadata": {},
   "outputs": [
    {
     "data": {
      "text/plain": [
       "[2.0, 3.333333333333333]"
      ]
     },
     "execution_count": 36,
     "metadata": {},
     "output_type": "execute_result"
    }
   ],
   "source": [
    "def vec_means(vecs):\n",
    "    \"\"\"Compute vector whose ith element = mean of the\n",
    "    ith element of the input vectors\"\"\"\n",
    "    # get # of vectors\n",
    "    n = len(vecs)\n",
    "    return vector_mult(vector_sum(vecs),1/n)\n",
    "\n",
    "vec_means([v,w,z]) # [6/3, 10/3]"
   ]
  },
  {
   "cell_type": "code",
   "execution_count": 37,
   "metadata": {},
   "outputs": [
    {
     "data": {
      "text/plain": [
       "13"
      ]
     },
     "execution_count": 37,
     "metadata": {},
     "output_type": "execute_result"
    }
   ],
   "source": [
    "# perform dot product = sum of component-wise products\n",
    "def dot_prod(v,w):\n",
    "    return sum(v_i*w_i\n",
    "              for v_i,w_i in zip(v,w))\n",
    "\n",
    "dot_prod(v,w)"
   ]
  },
  {
   "cell_type": "code",
   "execution_count": null,
   "metadata": {
    "collapsed": true
   },
   "outputs": [],
   "source": []
  }
 ],
 "metadata": {
  "kernelspec": {
   "display_name": "Python 3",
   "language": "python",
   "name": "python3"
  },
  "language_info": {
   "codemirror_mode": {
    "name": "ipython",
    "version": 3
   },
   "file_extension": ".py",
   "mimetype": "text/x-python",
   "name": "python",
   "nbconvert_exporter": "python",
   "pygments_lexer": "ipython3",
   "version": "3.6.3"
  }
 },
 "nbformat": 4,
 "nbformat_minor": 2
}
