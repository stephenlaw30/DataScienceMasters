{
 "cells": [
  {
   "cell_type": "markdown",
   "metadata": {},
   "source": [
    "# Ch5 - Stats\n",
    "\n",
    "**Statistics** = mathematics and techniques with which we understand data, a rich, enormous field\n",
    "\n",
    "Below is just enough to be dangerous.\n",
    "\n",
    "## Describing a Single Set of Data\n",
    "\n",
    "The social network has grown to dozens of members, and VP of Fundraising asks for some sort of description of how many friends the members have such that he can include the info his in elevator pitches.\n",
    "\n",
    "One obvious description of any data set is simply the data itself:"
   ]
  },
  {
   "cell_type": "code",
   "execution_count": 7,
   "metadata": {
    "collapsed": true
   },
   "outputs": [],
   "source": [
    "num_friends = [100,49,41,40,25,21,21,19,19,18,18,16,15,15,15,15,14,14,13,13,13,13,12,12,11,10,10,10,10,10,10,10,10,10,10,10,10,10,10,10,9,9,9,9,9,9,9,9,9,9,9,9,9,9,9,9,9,9,8,8,8,8,8,8,8,8,8,8,8,8,8,7,7,7,7,7,7,7,7,7,7,7,7,7,7,7,6,6,6,6,6,6,6,6,6,6,6,6,6,6,6,6,6,6,6,6,6,6,5,5,5,5,5,5,5,5,5,5,5,5,5,5,5,5,5,4,4,4,4,4,4,4,4,4,4,4,4,4,4,4,4,4,4,4,4,3,3,3,3,3,3,3,3,3,3,3,3,3,3,3,3,3,3,3,3,2,2,2,2,2,2,2,2,2,2,2,2,2,2,2,2,2,1,1,1,1,1,1,1,1,1,1,1,1,1,1,1,1,1,1,1,1,1,1]"
   ]
  },
  {
   "cell_type": "markdown",
   "metadata": {},
   "source": [
    "For a small enough data set this might even be the best description. But for a larger data set, this is unwieldy and opaque. (i.e. staring at a list of 1 million numbers.)\n",
    "\n",
    "For that reason, we use stats to distill + communicate relevant features of the data.\n",
    "\n",
    "A first approach = put friend counts into a histogram using `Counter` + `plt.bar()`"
   ]
  },
  {
   "cell_type": "code",
   "execution_count": 8,
   "metadata": {
    "collapsed": false
   },
   "outputs": [
    {
     "data": {
      "image/png": "[encoded data removed]",
      "text/plain": [
       "<matplotlib.figure.Figure at 0x854dcf8>"
      ]
     },
     "metadata": {},
     "output_type": "display_data"
    }
   ],
   "source": [
    "%matplotlib inline\n",
    "\n",
    "from collections import Counter\n",
    "from matplotlib import pyplot as plt\n",
    "\n",
    "friend_counts = Counter(num_friends)\n",
    "x_ax = range(101) # largest val = 100\n",
    "y_ax = [friend_counts[x] for x in x_ax] # height = # of friends\n",
    "plt.bar(x_ax,y_ax)\n",
    "plt.axis([0,101, 0,25])\n",
    "plt.title(\"Histogram of Friend Counts\")\n",
    "plt.xlabel(\"Number of Friends\")\n",
    "plt.ylabel(\"Number of People\")\n",
    "plt.show()"
   ]
  },
  {
   "cell_type": "code",
   "execution_count": 9,
   "metadata": {
    "collapsed": false
   },
   "outputs": [
    {
     "name": "stdout",
     "output_type": "stream",
     "text": [
      "204 1 100\n"
     ]
    }
   ],
   "source": [
    "# number of DPs in dataset\n",
    "dps = len(num_friends)\n",
    "\n",
    "# get min and max\n",
    "min_friends = min(num_friends)\n",
    "max_friends = max(num_friends)\n",
    "\n",
    "print(dps,min_friends,max_friends)"
   ]
  },
  {
   "cell_type": "code",
   "execution_count": 10,
   "metadata": {
    "collapsed": false
   },
   "outputs": [
    {
     "name": "stdout",
     "output_type": "stream",
     "text": [
      "204 1 100\n"
     ]
    }
   ],
   "source": [
    "# get min and max via sorting + indices\n",
    "sorted_values = sorted(num_friends)\n",
    "\n",
    "min_friends = sorted_values[0]\n",
    "max_friends = sorted_values[-1]\n",
    "\n",
    "print(dps,min_friends,max_friends)"
   ]
  },
  {
   "cell_type": "code",
   "execution_count": 11,
   "metadata": {
    "collapsed": false
   },
   "outputs": [
    {
     "name": "stdout",
     "output_type": "stream",
     "text": [
      "204 1 49\n"
     ]
    }
   ],
   "source": [
    "# get 2nd smallest and 2nd largest number of friends\n",
    "second_smallest_friends = sorted_values[1]\n",
    "second_largest_friends = sorted_values[-2]\n",
    "\n",
    "print(dps,second_smallest_friends,second_largest_friends)"
   ]
  },
  {
   "cell_type": "markdown",
   "metadata": {},
   "source": [
    "### Central Tendencies\n",
    "\n",
    "One usually want some notion of where the data is centered, typically using the mean"
   ]
  },
  {
   "cell_type": "code",
   "execution_count": 12,
   "metadata": {
    "collapsed": false
   },
   "outputs": [
    {
     "data": {
      "text/plain": [
       "7.333333333333333"
      ]
     },
     "execution_count": 12,
     "metadata": {},
     "output_type": "execute_result"
    }
   ],
   "source": [
    "from __future__ import division # for float point division w/ \"/\", int division w/ \"//\"\n",
    "\n",
    "def mean(x):\n",
    "    \"\"\"x is a vector\"\"\"\n",
    "    return sum(x)/len(x)\n",
    "mean(num_friends)"
   ]
  },
  {
   "cell_type": "markdown",
   "metadata": {},
   "source": [
    "W/ more DP's, the mean shifts around, but it *always* depends on the value of *every* point, meaning it is susceptible to effects from outliers and non-normal distributions.\n",
    "\n",
    "In such a case, we use median = the middle-most value (if # of DP's is odd) or the average of the  middle-most values (if # \n",
    "of DP's is even).\n",
    "\n",
    "For instance, if we have 5 DP's in a sorted vector x, the median is `x[5 // 2]` or `x[2]`. If we have 6 DP's, we want the average of `x[2]` (3rd DP) and `x[3]` (4th DP).\n",
    "\n",
    "Unlike mean — median doesn’t depend on every value in your data. If you make the largest point larger (or smallest point smaller), middle points remain unchanged, so too does the median.\n",
    "\n",
    "The median function is slightly more complicated than expected, mostly because of the “even” case:"
   ]
  },
  {
   "cell_type": "code",
   "execution_count": 14,
   "metadata": {
    "collapsed": false
   },
   "outputs": [
    {
     "data": {
      "text/plain": [
       "6.0"
      ]
     },
     "execution_count": 14,
     "metadata": {},
     "output_type": "execute_result"
    }
   ],
   "source": [
    "def median(x):\n",
    "    \"\"\"x is a vector\"\"\"\n",
    "    n = len(x)\n",
    "    sorted_x = sorted(x)\n",
    "    midpoint = n // 2 # integer division = no remainder, rounded\n",
    "    \n",
    "    # if n = odd, get middle-most value\n",
    "    if n % 2 == 1:\n",
    "        median = x[midpoint]\n",
    "    # if even, get average of 2 middle-most points\n",
    "    else:\n",
    "        mid_low = midpoint - 1\n",
    "        mid_high = midpoint\n",
    "        median = (sorted_x[mid_low] + sorted_x[mid_high]) / 2\n",
    "    return median\n",
    "median(num_friends)"
   ]
  },
  {
   "cell_type": "code",
   "execution_count": 16,
   "metadata": {
    "collapsed": false
   },
   "outputs": [
    {
     "data": {
      "text/plain": [
       "6.0"
      ]
     },
     "execution_count": 16,
     "metadata": {},
     "output_type": "execute_result"
    }
   ],
   "source": [
    "# 2 lines less of code = return within the IF\n",
    "def median2(x):\n",
    "    \"\"\"x is a vector\"\"\"\n",
    "    n = len(x)\n",
    "    sorted_x = sorted(x)\n",
    "    midpoint = n // 2 # integer division = no remainder, rounded\n",
    "    \n",
    "    # if n = odd, get middle-most value\n",
    "    if n % 2 == 1:\n",
    "        return x[midpoint]\n",
    "    # if even, get average of 2 middle-most points\n",
    "    else:\n",
    "        mid_low = midpoint - 1\n",
    "        mid_high = midpoint\n",
    "        return (sorted_x[mid_low] + sorted_x[mid_high]) / 2\n",
    "median2(num_friends)"
   ]
  },
  {
   "cell_type": "markdown",
   "metadata": {},
   "source": [
    "Mean is simpler to compute, and varies smoothly as data changes. If we have `n` DP's and one increases by some small amount , `e`, then, necessarily,  the mean will increase by `e / n`. (makes the mean amenable to all sorts of calculus tricks.)\n",
    "\n",
    "Whereas in order to find the median, we must *sort* our data, and changing a DP by a small amount `e` might increase the median by `e`, by some number less than `e`, or not at all (depending on the rest of the data).\n",
    "\n",
    "*Note*: There are nonobvious tricks to efficiently compute medians without sorting the data (beyond the scope of this book, so we sort the data).\n",
    "\n",
    "But, mean is very sensitive to outliers. If our friendliest user had 200 friends (instead of 100), the mean would rise to 7.82, while the median would stay the same. If outliers are likely to be bad data (or otherwise unrepresentative of whatever phenomenon we’re trying to understand), the mean can sometimes give us a misleading picture. \n",
    "\n",
    "For example, in the mid-1980s, the major at UNC with the highest average starting salary was geography, mostly on account of NBA star (and outlier) Michael Jordan.\n",
    "\n",
    "A generalization of the median is the **quantile**, which represents the value *less* than which a certain percentile of  data lies. (median = the value less than which 50% of the data lies)."
   ]
  },
  {
   "cell_type": "code",
   "execution_count": 17,
   "metadata": {
    "collapsed": false
   },
   "outputs": [
    {
     "name": "stdout",
     "output_type": "stream",
     "text": [
      "13 1 6 3 9\n"
     ]
    }
   ],
   "source": [
    "def quantile(x,p):\n",
    "    \"\"\"x is a vector, p is pth percentile value in x\"\"\"\n",
    "    p_index = int((p/100)*len(x)) # i.e. median = 50th percentile = .5*len(x) = middlemost value\n",
    "    return sorted(x)[p_index] # get the value which pth% of the data is below\n",
    "\n",
    "print(quantile(num_friends,90)\n",
    ",quantile(num_friends,10)\n",
    ",quantile(num_friends,50)\n",
    ",quantile(num_friends,25)\n",
    ",quantile(num_friends,75))"
   ]
  },
  {
   "cell_type": "code",
   "execution_count": 25,
   "metadata": {
    "collapsed": false
   },
   "outputs": [
    {
     "data": {
      "text/plain": [
       "[6, 1]"
      ]
     },
     "execution_count": 25,
     "metadata": {},
     "output_type": "execute_result"
    }
   ],
   "source": [
    "# most common value\n",
    "def mode(x):\n",
    "    \"\"\"returns a list as there may be > 1 mode\"\"\"\n",
    "    counts = Counter(x) # enumerable with counts of value in x\n",
    "    max_count = max(counts.values())\n",
    "    # get the index for the max count value\n",
    "    return [xi for xi, count in counts.items()\n",
    "           if count == max_count] # .iteritems() in Python2.7\n",
    "\n",
    "mode(num_friends)"
   ]
  },
  {
   "cell_type": "markdown",
   "metadata": {},
   "source": [
    "### Dispersion\n",
    "This refers to measures of how spread out our data is. Typically, they’re statistics for which values near zero signify *not spread out at all* and for which large values signify *very spread out*.\n",
    "\n",
    "Very simple measure = range == difference between the largest and smallest elements:"
   ]
  },
  {
   "cell_type": "code",
   "execution_count": 26,
   "metadata": {
    "collapsed": false
   },
   "outputs": [
    {
     "data": {
      "text/plain": [
       "99"
      ]
     },
     "execution_count": 26,
     "metadata": {},
     "output_type": "execute_result"
    }
   ],
   "source": [
    "def data_range(x):\n",
    "    return max(x) - min(x)\n",
    "data_range(num_friends)"
   ]
  },
  {
   "cell_type": "markdown",
   "metadata": {},
   "source": [
    "The range = 0 when max and min are equal, which can only happen if all elements of x are all the same, which means the data is as undispersed as possible. Conversely, if range is large, the max is much larger than the min and the data is more spread out.\n",
    "\n",
    "Like the median, the range doesn’t really depend on the whole data set. A data set whose points are all either 0 or 100 has the same range as a data set whose values are 0, 100, and lots of 50's. But it seems like the first data set “should” be more spread out.\n",
    "\n",
    "A more complex measure of dispersion = the **variance**, which is computed as:"
   ]
  },
  {
   "cell_type": "code",
   "execution_count": 30,
   "metadata": {
    "collapsed": false
   },
   "outputs": [
    {
     "data": {
      "text/plain": [
       "81.54351395730716"
      ]
     },
     "execution_count": 30,
     "metadata": {},
     "output_type": "execute_result"
    }
   ],
   "source": [
    "def normalize_mean(x):\n",
    "    \"\"\"Transform x by subtracting the mean from each\n",
    "    data point so that the resulting vector has mean = 0\"\"\"\n",
    "    x_bar = mean(x)\n",
    "    return [x_i - x_bar for x_i in x]\n",
    "\n",
    "def dot_prod(v,w):\n",
    "    # for each component in vectors the zip list, multiply it by the\n",
    "    # corresponding-indexed element in the other vectors in the zipped list\n",
    "    return sum(v_i*w_i           \n",
    "              for v_i,w_i in zip(v,w))\n",
    "\n",
    "## use dot product to easily compute SUM OF SQUARES of a vector\n",
    "def sum_of_squares(v):\n",
    "    \"\"\"v1*v1 + ... + vn*vn\"\"\"\n",
    "    return dot_prod(v,v)\n",
    "\n",
    "def variance(x):\n",
    "    \"\"\"Assuming x has at least 2 elements\"\"\"\n",
    "    n = len(x)\n",
    "    deviations = normalize_mean(x)\n",
    "    return sum_of_squares(deviations) / (n-1)\n",
    "\n",
    "variance(num_friends)"
   ]
  },
  {
   "cell_type": "code",
   "execution_count": null,
   "metadata": {
    "collapsed": true
   },
   "outputs": [],
   "source": []
  },
  {
   "cell_type": "code",
   "execution_count": null,
   "metadata": {
    "collapsed": true
   },
   "outputs": [],
   "source": []
  },
  {
   "cell_type": "code",
   "execution_count": null,
   "metadata": {
    "collapsed": true
   },
   "outputs": [],
   "source": []
  }
 ],
 "metadata": {
  "kernelspec": {
   "display_name": "Python 3",
   "language": "python",
   "name": "python3"
  },
  "language_info": {
   "codemirror_mode": {
    "name": "ipython",
    "version": 3
   },
   "file_extension": ".py",
   "mimetype": "text/x-python",
   "name": "python",
   "nbconvert_exporter": "python",
   "pygments_lexer": "ipython3",
   "version": "3.6.0"
  }
 },
 "nbformat": 4,
 "nbformat_minor": 2
}
