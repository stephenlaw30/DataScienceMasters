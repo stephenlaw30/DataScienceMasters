{
 "cells": [
  {
   "cell_type": "markdown",
   "metadata": {},
   "source": [
    "# Ch5 - Probability\n",
    "\n",
    "The laws of probability, so true in general, so fallacious in particular.\n",
    "Edward Gibbon\n",
    "It is hard to do data science without some sort of understanding of probability and its\n",
    "mathematics. As with our treatment of statistics in Chapter 5, we’ll wave our hands a lot\n",
    "and elide many of the technicalities.\n",
    "For our purposes you should think of probability as a way of quantifying the uncertainty\n",
    "associated with events chosen from a some universe of events. Rather than getting\n",
    "technical about what these terms mean, think of rolling a die. The universe consists of all\n",
    "possible outcomes. And any subset of these outcomes is an event; for example, “the die\n",
    "rolls a one” or “the die rolls an even number.”\n",
    "Notationally, we write to mean “the probability of the event E.”\n",
    "We’ll use probability theory to build models. We’ll use probability theory to evaluate\n",
    "models. We’ll use probability theory all over the place.\n",
    "One could, were one so inclined, get really deep into the philosophy of what probability\n",
    "theory means. (This is best done over beers.) We won’t be doing that.\n",
    "\n",
    "## Dependence and Independence\n",
    "Roughly speaking, we say that two events E and F are dependent if knowing something\n",
    "about whether E happens gives us information about whether F happens (and vice versa).\n",
    "Otherwise they are independent.\n",
    "For instance, if we flip a fair coin twice, knowing whether the first flip is Heads gives us\n",
    "no information about whether the second flip is Heads. These events are independent. On\n",
    "the other hand, knowing whether the first flip is Heads certainly gives us information\n",
    "about whether both flips are Tails. (If the first flip is Heads, then definitely it’s not the case\n",
    "that both flips are Tails.) These two events are dependent.\n",
    "Mathematically, we say that two events E and F are independent if the probability that\n",
    "they both happen is the product of the probabilities that each one happens:\n",
    "In the example above, the probability of “first flip Heads” is 1/2, and the probability of\n",
    "“both flips Tails” is 1/4, but the probability of “first flip Heads and both flips Tails” is 0.\n",
    "\n",
    "## Conditional Probability\n",
    "When two events E and F are independent, then by definition we have:\n",
    "If they are not necessarily independent (and if the probability of F is not zero), then we\n",
    "define the probability of E “conditional on F” as:\n",
    "You should think of this as the probability that E happens, given that we know that F\n",
    "happens.\n",
    "We often rewrite this as:\n",
    "When E and F are independent, you can check that this gives:\n",
    "which is the mathematical way of expressing that knowing F occurred gives us no\n",
    "additional information about whether E occurred.\n",
    "One common tricky example involves a family with two (unknown) children.\n",
    "If we assume that:\n",
    "1. Each child is equally likely to be a boy or a girl\n",
    "2. The gender of the second child is independent of the gender of the first child\n",
    "then the event “no girls” has probability 1/4, the event “one girl, one boy” has probability\n",
    "1/2, and the event “two girls” has probability 1/4.\n",
    "Now we can ask what is the probability of the event “both children are girls” (B)\n",
    "conditional on the event “the older child is a girl” (G)? Using the definition of conditional\n",
    "probability:\n",
    "since the event B and G (“both children are girls and the older child is a girl”) is just the\n",
    "event B. (Once you know that both children are girls, it’s necessarily true that the older\n",
    "child is a girl.)\n",
    "Most likely this result accords with your intuition.\n",
    "We could also ask about the probability of the event “both children are girls” conditional\n",
    "on the event “at least one of the children is a girl” (L). Surprisingly, the answer is different\n",
    "from before!\n",
    "As before, the event B and L (“both children are girls and at least one of the children is a\n",
    "girl”) is just the event B. This means we have:\n",
    "How can this be the case? Well, if all you know is that at least one of the children is a girl,\n",
    "then it is twice as likely that the family has one boy and one girl than that it has both girls.\n",
    "We can check this by “generating” a lot of families:"
   ]
  },
  {
   "cell_type": "code",
   "execution_count": 1,
   "metadata": {
    "collapsed": true
   },
   "outputs": [],
   "source": [
    "num_friends = [100,49,41,40,25,21,21,19,19,18,18,16,15,15,15,15,14,14,13,13,13,13,12,12,11,10,10,10,10,10,10,10,10,10,10,10,10,10,10,10,9,9,9,9,9,9,9,9,9,9,9,9,9,9,9,9,9,9,8,8,8,8,8,8,8,8,8,8,8,8,8,7,7,7,7,7,7,7,7,7,7,7,7,7,7,7,6,6,6,6,6,6,6,6,6,6,6,6,6,6,6,6,6,6,6,6,6,6,5,5,5,5,5,5,5,5,5,5,5,5,5,5,5,5,5,4,4,4,4,4,4,4,4,4,4,4,4,4,4,4,4,4,4,4,4,3,3,3,3,3,3,3,3,3,3,3,3,3,3,3,3,3,3,3,3,2,2,2,2,2,2,2,2,2,2,2,2,2,2,2,2,2,1,1,1,1,1,1,1,1,1,1,1,1,1,1,1,1,1,1,1,1,1,1]"
   ]
  }
 ],
 "metadata": {
  "kernelspec": {
   "display_name": "Python 3",
   "language": "python",
   "name": "python3"
  },
  "language_info": {
   "codemirror_mode": {
    "name": "ipython",
    "version": 3
   },
   "file_extension": ".py",
   "mimetype": "text/x-python",
   "name": "python",
   "nbconvert_exporter": "python",
   "pygments_lexer": "ipython3",
   "version": "3.6.0"
  }
 },
 "nbformat": 4,
 "nbformat_minor": 2
}
