{
 "cells": [
  {
   "cell_type": "markdown",
   "metadata": {},
   "source": [
    "# Examples and Exercises from Think Stats, 2nd Edition\n",
    "\n",
    "http://thinkstats2.com\n",
    "\n",
    "Copyright 2016 Allen B. Downey\n",
    "\n",
    "MIT License: https://opensource.org/licenses/MIT\n",
    "\n",
    "# Chapter 4  Cumulative Distribution Functions\n",
    "\n",
    "\n"
   ]
  },
  {
   "cell_type": "code",
   "execution_count": 30,
   "metadata": {
    "collapsed": false
   },
   "outputs": [],
   "source": [
    "from __future__ import print_function, division\n",
    "\n",
    "%matplotlib inline\n",
    "\n",
    "import numpy as np\n",
    "import math\n",
    "import nsfg\n",
    "import first\n",
    "import thinkstats2\n",
    "import thinkplot\n",
    "import random"
   ]
  },
  {
   "cell_type": "markdown",
   "metadata": {},
   "source": [
    "## Limits of PMFs\n",
    "\n",
    "PMFs work well if # of values is small, but as # of values increases, the probability associated w/ each value gets smaller + the effect of **random noise** increases.\n",
    "\n",
    "Ex: Interested in distribution of birth weights in pounds"
   ]
  },
  {
   "cell_type": "code",
   "execution_count": 2,
   "metadata": {
    "collapsed": true
   },
   "outputs": [],
   "source": [
    "# load the data from the NSFG and make 3 data frames\n",
    "live, firsts, others = first.MakeFrames()"
   ]
  },
  {
   "cell_type": "markdown",
   "metadata": {},
   "source": [
    "Compute distribution of birth weight for 1st babies and for others."
   ]
  },
  {
   "cell_type": "code",
   "execution_count": 3,
   "metadata": {
    "collapsed": false
   },
   "outputs": [
    {
     "name": "stdout",
     "output_type": "stream",
     "text": [
      "Firsts 4413 4363\n",
      "Others 4735 4675\n"
     ]
    }
   ],
   "source": [
    "# get all weights of 1st-born babies + get rid of nulls\n",
    "first_wgt = firsts.totalwgt_lb\n",
    "first_wgt_dropna = first_wgt.dropna()\n",
    "print('Firsts', len(first_wgt), len(first_wgt_dropna))\n",
    "\n",
    "# get all weights of NON-1st-born babies + get rid of nulls\n",
    "other_wgt = others.totalwgt_lb\n",
    "other_wgt_dropna = other_wgt.dropna()\n",
    "print('Others', len(other_wgt), len(other_wgt_dropna))\n",
    "\n",
    "# make Probability mass function objects of these weights\n",
    "first_pmf = thinkstats2.Pmf(first_wgt_dropna, label='first')\n",
    "other_pmf = thinkstats2.Pmf(other_wgt_dropna, label='other')"
   ]
  },
  {
   "cell_type": "markdown",
   "metadata": {},
   "source": [
    "Plot the PMFs on the same scale"
   ]
  },
  {
   "cell_type": "code",
   "execution_count": 4,
   "metadata": {
    "collapsed": false
   },
   "outputs": [
    {
     "data": {
      "image/png": "[encoded data removed]",
      "text/plain": [
       "<matplotlib.figure.Figure at 0x1f650da4828>"
      ]
     },
     "metadata": {},
     "output_type": "display_data"
    }
   ],
   "source": [
    "width = 0.4 / 16\n",
    "\n",
    "# plot PMFs of birth weights for first babies and others\n",
    "thinkplot.PrePlot(2)\n",
    "thinkplot.Hist(first_pmf, align='right', width=width)\n",
    "thinkplot.Hist(other_pmf, align='left', width=width)\n",
    "thinkplot.Config(xlabel='Weight (pounds)', ylabel='PMF')"
   ]
  },
  {
   "cell_type": "markdown",
   "metadata": {},
   "source": [
    "It's very hard to see the difference (if any) between the 2 distributions. Overall, these distributions resemble a bell-shaped, normal distribution (many values near the mean + few values much higher and lower)\n",
    "\n",
    "Many spikes + valleys in both, w/ *some* apparent differences between the distributions, but hard to tell which features are meaningful. Also hard to see overall patterns (ex: which distribution has the higher mean?)\n",
    "\n",
    "These problems can be mitigated by **binning** data = dividing range of values into *non-overlapping* intervals + counting # of values in each bin. Binning *can be* useful, but it's tricky to get bin size right. \n",
    "\n",
    "* If they are big enough to smooth out noise, they might also smooth out useful information.\n",
    "\n",
    "Alternative that avoids these problems = the **cumulative distribution function (CDF)**\n",
    "\n",
    "## 4.2  Percentiles\n",
    "\n",
    "Standardized tests = results in the form of a raw score + a **percentile rank** = fraction of people who scored lower than you (or the same). \n",
    "\n",
    "* 90th percentile = did as well as/better than 90% of people who took the exam.\n",
    "\n",
    "Here’s how you could compute the \n",
    "\n",
    "`PercentileRank` computes percentile rank of a value, `your_score`, relative to the values in the sequence `scores` = the fraction of `scores` less than or equal to `your_score`"
   ]
  },
  {
   "cell_type": "code",
   "execution_count": 5,
   "metadata": {
    "collapsed": true
   },
   "outputs": [],
   "source": [
    "def PercentileRank(scores, your_score):\n",
    "    count = 0\n",
    "    for score in scores: # for each score in the distribution of scores\n",
    "        if score <= your_score: # if its less than your score, add it to count\n",
    "            count += 1\n",
    "\n",
    "    percentile_rank = 100.0 * count / len(scores) # get the % of scores < yours\n",
    "    return percentile_rank"
   ]
  },
  {
   "cell_type": "markdown",
   "metadata": {},
   "source": [
    "If from this list of scores, you scored the 88, then:"
   ]
  },
  {
   "cell_type": "code",
   "execution_count": 6,
   "metadata": {
    "collapsed": false
   },
   "outputs": [
    {
     "data": {
      "text/plain": [
       "80.0"
      ]
     },
     "execution_count": 6,
     "metadata": {},
     "output_type": "execute_result"
    }
   ],
   "source": [
    "t = [55, 66, 77, 88, 99]\n",
    "PercentileRank(t, 88)"
   ]
  },
  {
   "cell_type": "markdown",
   "metadata": {},
   "source": [
    "Your percentile rank is 80.\n",
    "\n",
    "If given a value, it's easy to find that value's **percentile rank**, but going the other way is slightly harder. \n",
    "\n",
    "If given a percentile rank, to find the corresponding value, 1 option = sort values + search for the one you want:"
   ]
  },
  {
   "cell_type": "code",
   "execution_count": 7,
   "metadata": {
    "collapsed": true
   },
   "outputs": [],
   "source": [
    "def Percentile(scores, percentile_rank):\n",
    "    scores.sort() # sort the given set of scores\n",
    "    for score in scores: # for each score in this set\n",
    "        if PercentileRank(scores, score) >= percentile_rank: # find the percentile rank of that score, and if >= the given rank\n",
    "            return score # return it"
   ]
  },
  {
   "cell_type": "markdown",
   "metadata": {},
   "source": [
    "The median = the 50th percentile, which is 77."
   ]
  },
  {
   "cell_type": "code",
   "execution_count": 9,
   "metadata": {
    "collapsed": false
   },
   "outputs": [
    {
     "data": {
      "text/plain": [
       "77"
      ]
     },
     "execution_count": 9,
     "metadata": {},
     "output_type": "execute_result"
    }
   ],
   "source": [
    "Percentile(t, 50) # this calculate percentile rank of each score in a set + returns the value's whose PercentileRank = 50"
   ]
  },
  {
   "cell_type": "markdown",
   "metadata": {},
   "source": [
    "Here's a more efficient way to compute percentiles = use the percentile rank to compute the *index* of the corresponding percentile:"
   ]
  },
  {
   "cell_type": "code",
   "execution_count": 12,
   "metadata": {
    "collapsed": false
   },
   "outputs": [
    {
     "data": {
      "text/plain": [
       "77"
      ]
     },
     "execution_count": 12,
     "metadata": {},
     "output_type": "execute_result"
    }
   ],
   "source": [
    "def Percentile2(scores, percentile_rank):\n",
    "    scores.sort() # sort the set of scores\n",
    "    index = percentile_rank * (len(scores)-1) // 100 # reverse of formula in PercentileRank()\n",
    "    return scores[index]\n",
    "\n",
    "Percentile2(t, 50)"
   ]
  },
  {
   "cell_type": "markdown",
   "metadata": {},
   "source": [
    "We get the same answer.\n",
    "\n",
    "The difference between “percentile” and “percentile rank” can be confusing + people do not always use the terms precisely. \n",
    "\n",
    "To summarize, \n",
    "\n",
    "* **PercentileRank** takes a value + computes its percentile rank in a set of values\n",
    "* **Percentile** takes a percentile rank + computes the corresponding value."
   ]
  },
  {
   "cell_type": "markdown",
   "metadata": {},
   "source": [
    "## CDFs\n",
    "\n",
    "The **Cumulative Distribution Function (CDF)** is almost the same as `PercentileRank` w/ only difference = the result is 0-1 instead of 0-100"
   ]
  },
  {
   "cell_type": "code",
   "execution_count": 13,
   "metadata": {
    "collapsed": true
   },
   "outputs": [],
   "source": [
    "def EvalCdf(sample, x):\n",
    "    count = 0.0\n",
    "    for value in sample: # count up scores <= given score\n",
    "        if value <= x:\n",
    "            count += 1\n",
    "\n",
    "    prob = count / len(sample) # get fraction of scores <= given score\n",
    "    return prob"
   ]
  },
  {
   "cell_type": "markdown",
   "metadata": {},
   "source": [
    "In given list, evaluate the CDF for various values:"
   ]
  },
  {
   "cell_type": "code",
   "execution_count": 14,
   "metadata": {
    "collapsed": false
   },
   "outputs": [
    {
     "data": {
      "text/plain": [
       "(0.0, 0.2, 0.6, 0.8, 0.8, 1.0)"
      ]
     },
     "execution_count": 14,
     "metadata": {},
     "output_type": "execute_result"
    }
   ],
   "source": [
    "t = [1, 2, 2, 3, 5]\n",
    "EvalCdf(t, 0), EvalCdf(t, 1), EvalCdf(t, 2), EvalCdf(t, 3), EvalCdf(t, 4), EvalCdf(t, 5)"
   ]
  },
  {
   "cell_type": "markdown",
   "metadata": {
    "collapsed": false
   },
   "source": [
    "0% of scores are <= 0, 20% of scores are <= 2, 60% of scores are <= 2, 80% are <= 3 and 4, and 100% are <= 5"
   ]
  },
  {
   "cell_type": "markdown",
   "metadata": {},
   "source": [
    "A graphical representation of a CDF of a sample = a **step function**.\n",
    "\n",
    "Example using real data = the distribution of pregnancy length for live births."
   ]
  },
  {
   "cell_type": "code",
   "execution_count": 16,
   "metadata": {
    "collapsed": false
   },
   "outputs": [
    {
     "data": {
      "image/png": "[encoded data removed]",
      "text/plain": [
       "<matplotlib.figure.Figure at 0x1f655a929b0>"
      ]
     },
     "metadata": {},
     "output_type": "display_data"
    }
   ],
   "source": [
    "# create CDF object\n",
    "cdf = thinkstats2.Cdf(live.prglngth, label='prglngth')\n",
    "\n",
    "# plot CDF distribution\n",
    "thinkplot.Cdf(cdf)\n",
    "thinkplot.Config(xlabel='Pregnancy length (weeks)', ylabel='CDF', loc='upper left')"
   ]
  },
  {
   "cell_type": "markdown",
   "metadata": {},
   "source": [
    "1 way to read a CDF plot = look up percentiles.\n",
    "\n",
    "It looks like ~10% of pregnancies are < 36 weeks, + about 90% are < 41 weeks. \n",
    "\n",
    "The CDF plot also provides a visual representation of the shape of the distribution\n",
    "\n",
    "* Common values = steep/vertical sections of the CDF (ex: mode @ 39 weeks is apparent + few values < 30 weeks, so the CDF in this range = flat)\n",
    "\n",
    "The **`Cdf` class** represents CDFs + provides 2 fundamental methods: `Prob`, which *\"evaluates the CDF\"* = computes the fraction of values <= to the given value, x.  \n",
    "\n",
    "* i.e. Given a value x, `Prob(x)` computes the probability p = CDF(x)\n",
    "\n",
    "For example, how many pregnancy lengths are <= 41?"
   ]
  },
  {
   "cell_type": "code",
   "execution_count": 17,
   "metadata": {
    "collapsed": false
   },
   "outputs": [
    {
     "data": {
      "text/plain": [
       "0.94064276344556186"
      ]
     },
     "execution_count": 17,
     "metadata": {},
     "output_type": "execute_result"
    }
   ],
   "source": [
    "cdf.Prob(41)"
   ]
  },
  {
   "cell_type": "markdown",
   "metadata": {
    "collapsed": true
   },
   "source": [
    "~94% of pregnancy lengths are <= 41 weeks.\n",
    "\n",
    "\n",
    "The 2nd fundamental method = `Value` evaluates the inverse CDF; given a fraction, it computes the corresponding value\n",
    "\n",
    "* i.e. Given a probability p, `Value(p)` computes the corresponding value, x (inverse CDF of p)\n",
    "\n",
    "Ex: Median = the value that corresponds to 0.5 or 50% percentile"
   ]
  },
  {
   "cell_type": "code",
   "execution_count": 18,
   "metadata": {
    "collapsed": false
   },
   "outputs": [
    {
     "data": {
      "text/plain": [
       "39"
      ]
     },
     "execution_count": 18,
     "metadata": {},
     "output_type": "execute_result"
    }
   ],
   "source": [
    "cdf.Value(0.5)"
   ]
  },
  {
   "cell_type": "markdown",
   "metadata": {},
   "source": [
    "## 4.5  Comparing CDFs\n",
    "\n",
    "\n",
    "In general, CDFs are a good way to visualize distributions.  They are not as noisy as PMFs, and if you plot several CDFs on the same axes, any differences between them are apparent."
   ]
  },
  {
   "cell_type": "code",
   "execution_count": 18,
   "metadata": {
    "collapsed": false
   },
   "outputs": [
    {
     "data": {
      "image/png": "[encoded data removed]",
      "text/plain": [
       "<matplotlib.figure.Figure at 0x7f2cd0747bd0>"
      ]
     },
     "metadata": {},
     "output_type": "display_data"
    }
   ],
   "source": [
    "# compare CDFs of 1st-borns and non-1st borns\n",
    "first_cdf = thinkstats2.Cdf(firsts.totalwgt_lb, label='first')\n",
    "other_cdf = thinkstats2.Cdf(others.totalwgt_lb, label='other')\n",
    "\n",
    "thinkplot.PrePlot(2)\n",
    "thinkplot.Cdfs([first_cdf, other_cdf])\n",
    "thinkplot.Config(xlabel='Weight (pounds)', ylabel='CDF')"
   ]
  },
  {
   "cell_type": "markdown",
   "metadata": {},
   "source": [
    "In this example, we can see that first babies are *slightly*, but *consistently*, lighter than others. The shape of the distributions + differences between them are much clearer. There's also a larger discrepancy (seperation between the curves) above the mean.\n",
    "\n",
    "## 4.6  Percentile-based statistics\n",
    "\n",
    "We can use the CDF of birth weight to compute percentile-based statistics."
   ]
  },
  {
   "cell_type": "code",
   "execution_count": 20,
   "metadata": {
    "collapsed": true
   },
   "outputs": [],
   "source": [
    "weights = live.totalwgt_lb\n",
    "live_cdf = thinkstats2.Cdf(weights, label='live')"
   ]
  },
  {
   "cell_type": "code",
   "execution_count": 21,
   "metadata": {
    "collapsed": false
   },
   "outputs": [
    {
     "data": {
      "text/plain": [
       "7.375"
      ]
     },
     "execution_count": 21,
     "metadata": {},
     "output_type": "execute_result"
    }
   ],
   "source": [
    "# get the median (measure of center)/50th percentile of live birth weights\n",
    "median = live_cdf.Percentile(50)\n",
    "median"
   ]
  },
  {
   "cell_type": "markdown",
   "metadata": {},
   "source": [
    "The interquartile range is the interval from the 25th to 75th percentile."
   ]
  },
  {
   "cell_type": "code",
   "execution_count": 22,
   "metadata": {
    "collapsed": false
   },
   "outputs": [
    {
     "data": {
      "text/plain": [
       "(6.5, 8.125)"
      ]
     },
     "execution_count": 22,
     "metadata": {},
     "output_type": "execute_result"
    }
   ],
   "source": [
    "# get IQR (measure of spread) of live birth weights\n",
    "iqr = (live_cdf.Percentile(25), live_cdf.Percentile(75))\n",
    "iqr"
   ]
  },
  {
   "cell_type": "markdown",
   "metadata": {},
   "source": [
    "Can use the CDF to look up percentile rank of a particular value.  \n",
    "\n",
    "Ex: One's 2nd daughter was 10.2 pounds at birth. What percentile was this?"
   ]
  },
  {
   "cell_type": "code",
   "execution_count": 23,
   "metadata": {
    "collapsed": false
   },
   "outputs": [
    {
     "data": {
      "text/plain": [
       "98.827174153573807"
      ]
     },
     "execution_count": 23,
     "metadata": {},
     "output_type": "execute_result"
    }
   ],
   "source": [
    "# get percentile rank for a live birth of 10.2 lbs\n",
    "live_cdf.PercentileRank(10.2)"
   ]
  },
  {
   "cell_type": "markdown",
   "metadata": {},
   "source": [
    "**Percentiles** are often used to summarize the shape of a distribution. \n",
    "\n",
    "Ex: Distribution of income is often reported in **quintiles** = data split at the 20th, 40th, 60th + 80th percentiles. Other distributions are divided into ten **deciles**. \n",
    "\n",
    "Statistics like these that represent equally-spaced points in a CDF = **quantiles**. \n",
    "\n",
    "## 4.7  Random numbers\n",
    "\n",
    "Suppose we choose a random sample from the population of live births + look up the percentile rank of the sample birth weights + compute the CDF of these percentile ranks (map each weight to its percentile rank). "
   ]
  },
  {
   "cell_type": "code",
   "execution_count": 24,
   "metadata": {
    "collapsed": false
   },
   "outputs": [
    {
     "data": {
      "image/png": "[encoded data removed]",
      "text/plain": [
       "<matplotlib.figure.Figure at 0x1f657087f98>"
      ]
     },
     "metadata": {},
     "output_type": "display_data"
    }
   ],
   "source": [
    "# get live birth weights + create CDF of live birth weights\n",
    "weights = live.totalwgt_lb\n",
    "live_cdf = thinkstats2.Cdf(weights, label='live')\n",
    "\n",
    "# get random sample of 100 weights\n",
    "sample = np.random.choice(weights, 100, replace=True)\n",
    "\n",
    "# compute the Percentile ranks for each of the 100 sample weights\n",
    "ranks = [live_cdf.PercentileRank(x) for x in sample]\n",
    "\n",
    "# Put the ranks into a CDF + plot\n",
    "rank_cdf = thinkstats2.Cdf(ranks)\n",
    "thinkplot.Cdf(rank_cdf)\n",
    "thinkplot.Config(xlabel='Percentile rank', ylabel='CDF')"
   ]
  },
  {
   "cell_type": "markdown",
   "metadata": {},
   "source": [
    "The CDF (resulting list of ranks) is approximately a straight line, which means that the distribution is uniform from 0-1.\n",
    "\n",
    "That outcome might be non-obvious, but it is a consequence of the way the CDF is defined. \n",
    "\n",
    "This figure shows that 10% of the sample < the 10th percentile, 20% of the sample < the 20th percentile, and so on, exactly as we should expect.\n",
    "\n",
    "So, **regardless of the shape of the CDF, the distribution of percentile ranks is uniform**. \n",
    "\n",
    "This property is useful b/c *it is the basis of a simple + efficient algorithm for generating random numbers w/ a given CDF*. Here’s how:\n",
    "\n",
    "* Choose a percentile rank uniformly from the range 0–100.\n",
    "* Use `Cdf.Percentile` to find the value in the CDF distribution that corresponds to the percentile rank you chose.\n",
    "\n",
    "`Cdf` provides an implementation of this algorithm, called `Random`:"
   ]
  },
  {
   "cell_type": "code",
   "execution_count": 32,
   "metadata": {
    "collapsed": false
   },
   "outputs": [
    {
     "data": {
      "text/plain": [
       "7.25"
      ]
     },
     "execution_count": 32,
     "metadata": {},
     "output_type": "execute_result"
    }
   ],
   "source": [
    "# class Cdf:\n",
    "def Random(self):\n",
    "    return self.Percentile(random.uniform(0, 100))\n",
    "\n",
    "Random(live_cdf)"
   ]
  },
  {
   "cell_type": "markdown",
   "metadata": {},
   "source": [
    "The above observation is also the basis of `Cdf.Sample`, which generates a random sample of `n` values from a Cdf via a given integer `n`"
   ]
  },
  {
   "cell_type": "code",
   "execution_count": 34,
   "metadata": {
    "collapsed": false
   },
   "outputs": [
    {
     "data": {
      "image/png": "[encoded data removed]",
      "text/plain": [
       "<matplotlib.figure.Figure at 0x1f655aaf1d0>"
      ]
     },
     "metadata": {},
     "output_type": "display_data"
    }
   ],
   "source": [
    "# get 100 random samples from our live CDF\n",
    "resample = live_cdf.Sample(1000)\n",
    "\n",
    "# plot the CDFs of this sample vs. the population\n",
    "thinkplot.Cdf(live_cdf)\n",
    "thinkplot.Cdf(thinkstats2.Cdf(resample, label='resample'))\n",
    "thinkplot.Config(xlabel='Birth weight (pounds)', ylabel='CDF')"
   ]
  },
  {
   "cell_type": "markdown",
   "metadata": {},
   "source": [
    "This confirms that the **random sample has the same distribution as the original data.**\n",
    "\n",
    "## 4.8  Comparing percentile ranks\n",
    "\n",
    "Percentile ranks = useful for comparing measurements across different groups. \n",
    "\n",
    "Ex: People who compete in foot races are usually grouped by age + gender. To compare people in different age groups, we can convert race times to percentile ranks.\n",
    "\n",
    "A few years ago Bob ran the James Joyce Ramble 10K in Dedham MA + finished in 42:44, 97th in a field of 1633 (beat/tied 1537 runners out of 1633), so his percentile rank in the field is:"
   ]
  },
  {
   "cell_type": "code",
   "execution_count": 55,
   "metadata": {
    "collapsed": false
   },
   "outputs": [
    {
     "data": {
      "text/plain": [
       "94.06364749082007"
      ]
     },
     "execution_count": 55,
     "metadata": {},
     "output_type": "execute_result"
    }
   ],
   "source": [
    "t = np.arange(1,1635)\n",
    "PercentileRank(t, t.max() - 97)"
   ]
  },
  {
   "cell_type": "markdown",
   "metadata": {},
   "source": [
    "His percentile rank in this field was 94% (beat/tied 94% of runners in this field).\n",
    "\n",
    "More generally, given a position and a field size, we can compute percentile rank:"
   ]
  },
  {
   "cell_type": "code",
   "execution_count": 57,
   "metadata": {
    "collapsed": true
   },
   "outputs": [],
   "source": [
    "def PositionToPercentile(position, field_size):\n",
    "    beat = field_size - position + 1\n",
    "    percentile = 100.0 * beat / field_size\n",
    "    return percentile"
   ]
  },
  {
   "cell_type": "markdown",
   "metadata": {},
   "source": [
    "In Bob's age group, denoted M4049 (male between 40-49 years of age), he came in 26th out of 256. So his percentile rank in his age group was"
   ]
  },
  {
   "cell_type": "code",
   "execution_count": 59,
   "metadata": {
    "collapsed": false
   },
   "outputs": [
    {
     "data": {
      "text/plain": [
       "90.234375"
      ]
     },
     "execution_count": 59,
     "metadata": {},
     "output_type": "execute_result"
    }
   ],
   "source": [
    "PositionToPercentile(26, 256)"
   ]
  },
  {
   "cell_type": "markdown",
   "metadata": {},
   "source": [
    "His percentile rank in his age group was 90%.\n",
    "\n",
    "If he is still running in 10 years, he will be in the M5059 division. Assuming his percentile rank in his division is the same, how much slower should he expect to be?\n",
    "\n",
    "We can answer that by converting his percentile rank in M4049 to a position in M5059."
   ]
  },
  {
   "cell_type": "code",
   "execution_count": 60,
   "metadata": {
    "collapsed": true
   },
   "outputs": [],
   "source": [
    "def PercentileToPosition(percentile, field_size):\n",
    "    beat = percentile * field_size / 100.0\n",
    "    position = field_size - beat + 1\n",
    "    return position"
   ]
  },
  {
   "cell_type": "markdown",
   "metadata": {},
   "source": [
    "There were 171 people in M5059, so he would have to come in:"
   ]
  },
  {
   "cell_type": "code",
   "execution_count": 61,
   "metadata": {
    "collapsed": false
   },
   "outputs": [
    {
     "data": {
      "text/plain": [
       "17.69921875"
      ]
     },
     "execution_count": 61,
     "metadata": {},
     "output_type": "execute_result"
    }
   ],
   "source": [
    "PercentileToPosition(90.234375,171)"
   ]
  },
  {
   "cell_type": "markdown",
   "metadata": {},
   "source": [
    "He would have to come in between 17th and 18th place to have the same percentile rank. \n",
    "\n",
    "The finishing time of the 17th runner in M5059 was 46:05, so that’s the time he'd have to beat to maintain his percentile rank."
   ]
  },
  {
   "cell_type": "markdown",
   "metadata": {
    "collapsed": true
   },
   "source": [
    "## Exercises"
   ]
  },
  {
   "cell_type": "markdown",
   "metadata": {
    "collapsed": true
   },
   "source": [
    "**Exercise:** How much did you weigh at birth? If you don’t know, call your mother or someone else who knows. Using the NSFG data (all live births), compute the distribution of birth weights and use it to find your percentile rank. If you were a first baby, find your percentile rank in the distribution for first babies. Otherwise use the distribution for others. If you are in the 90th percentile or higher, call your mother back and apologize."
   ]
  },
  {
   "cell_type": "code",
   "execution_count": 26,
   "metadata": {
    "collapsed": false
   },
   "outputs": [],
   "source": [
    "# Solution goes here"
   ]
  },
  {
   "cell_type": "code",
   "execution_count": 27,
   "metadata": {
    "collapsed": false
   },
   "outputs": [],
   "source": [
    "# Solution goes here"
   ]
  },
  {
   "cell_type": "markdown",
   "metadata": {
    "collapsed": true
   },
   "source": [
    "**Exercise:** The numbers generated by `numpy.random.random` are supposed to be uniform between 0 and 1; that is, every value in the range should have the same probability.\n",
    "\n",
    "Generate 1000 numbers from `numpy.random.random` and plot their PMF.  What goes wrong?\n",
    "\n",
    "Now plot the CDF. Is the distribution uniform?"
   ]
  },
  {
   "cell_type": "code",
   "execution_count": 28,
   "metadata": {
    "collapsed": false
   },
   "outputs": [],
   "source": [
    "# Solution goes here"
   ]
  },
  {
   "cell_type": "code",
   "execution_count": 29,
   "metadata": {
    "collapsed": false
   },
   "outputs": [],
   "source": [
    "# Solution goes here"
   ]
  },
  {
   "cell_type": "code",
   "execution_count": 30,
   "metadata": {
    "collapsed": false
   },
   "outputs": [],
   "source": [
    "# Solution goes here"
   ]
  },
  {
   "cell_type": "code",
   "execution_count": null,
   "metadata": {
    "collapsed": false
   },
   "outputs": [],
   "source": []
  }
 ],
 "metadata": {
  "anaconda-cloud": {},
  "kernelspec": {
   "display_name": "Python [conda root]",
   "language": "python",
   "name": "conda-root-py"
  },
  "language_info": {
   "codemirror_mode": {
    "name": "ipython",
    "version": 3
   },
   "file_extension": ".py",
   "mimetype": "text/x-python",
   "name": "python",
   "nbconvert_exporter": "python",
   "pygments_lexer": "ipython3",
   "version": "3.5.2"
  }
 },
 "nbformat": 4,
 "nbformat_minor": 0
}
