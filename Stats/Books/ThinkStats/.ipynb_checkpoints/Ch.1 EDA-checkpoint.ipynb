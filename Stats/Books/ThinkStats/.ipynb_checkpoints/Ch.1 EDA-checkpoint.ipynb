{
 "cells": [
  {
   "cell_type": "markdown",
   "metadata": {},
   "source": [
    "Case study: Do first babies tend to arrive late?\n",
    "\n",
    "**Anecdotal evidence** usually fails, because:\n",
    "\n",
    "* Small # of observations: If pregnancy length is longer for 1st babies, the difference is probably small compared to natural variation. In that case, we might have to compare a large number of pregnancies to be sure that a difference exists.\n",
    "* Selection bias: People who join a discussion of this question might be interested *because* their 1st babies were late. In that case the process of selecting data would bias the results.\n",
    "* Confirmation bias: People who believe the claim might be more likely to contribute examples that confirm it. People who doubt the claim are more likely to cite counterexamples.\n",
    "* Inaccuracy: Anecdotes are often personal stories, and often misremembered, misrepresented, repeated inaccuately, etc.\n",
    "\n",
    "To address limitations of anecdotes, use tools of statistics such as\n",
    "\n",
    "* Data collection: here = data from a large national survey designed explicitly w/ goal of generating statistically valid inferences about the U.S. population.\n",
    "* Descriptive stats: that summarize data concisely + evaluate different ways to visualize data.\n",
    "* EDA: look for patterns, differences, + other features that address questions we're interested it + check for inconsistencies + identify limitations.\n",
    "* Estimation: use data from a sample (statistic) to estimate characteristics of the general population (parameter)\n",
    "* Hypothesis testing: Where we see apparent effects, like a difference between 2 groups, evaluate whether the effect might have happened by chance."
   ]
  },
  {
   "cell_type": "markdown",
   "metadata": {},
   "source": [
    "Since '73, CDC has conducted National Survey of Family Growth (NSFG) to gather info on family life, marriage + divorce, pregnancy, infertility, use of contraception, and men’s + women’s health to plan health services and health education programs, + to do statistical studies of families, fertility, and health.” \n",
    "\n",
    "To use this data effectively, we have to understand the design of the study:\n",
    "* **cross-sectional** = captures a *snapshot* of a group at a point in time\n",
    "    * common alternative = **longitudinal** = observes a group repeatedly over a period of time\n",
    "* conducted 7 times + each deployment = a **cycle** \n",
    "    * we have cycle 6: Jan 2002 - Mar 2003\n",
    "* Target population to draw conclusions about = people in US aged 15-44\n",
    "    * impossible to survey entire US population, so take a **sample** of **respondents**\n",
    "* cross-sectional studies are meant to be **representative** of entire population (entire target pop. has equal chance of being sampled/selected)\n",
    "    * hard to achieve in practice\n",
    "* NSFG is *NOT* representative --> is deliberately **oversampled** = 3 groups, Hispanics, African-Americans, + teenagers were recruited at higher rates than their *actual* representation in the US pop to make sure # of respondents in each group was large enough to draw valid inferences\n",
    "    * oversampling drawback = not as easy to draw conclusions about general pop. from our statistics"
   ]
  },
  {
   "cell_type": "code",
   "execution_count": 1,
   "metadata": {
    "collapsed": false
   },
   "outputs": [
    {
     "ename": "ImportError",
     "evalue": "No module named 'nsfg'",
     "output_type": "error",
     "traceback": [
      "\u001b[0;31m---------------------------------------------------------------------------\u001b[0m",
      "\u001b[0;31mImportError\u001b[0m                               Traceback (most recent call last)",
      "\u001b[0;32m<ipython-input-1-a5ef75c06edd>\u001b[0m in \u001b[0;36m<module>\u001b[0;34m()\u001b[0m\n\u001b[0;32m----> 1\u001b[0;31m \u001b[1;32mimport\u001b[0m \u001b[0mnsfg\u001b[0m\u001b[1;33m\u001b[0m\u001b[0m\n\u001b[0m",
      "\u001b[0;31mImportError\u001b[0m: No module named 'nsfg'"
     ]
    }
   ],
   "source": [
    "import sys\n",
    "import numpy as np\n",
    "import thinkstats2\n",
    "\n",
    "from collections import defaultdict"
   ]
  },
  {
   "cell_type": "code",
   "execution_count": null,
   "metadata": {
    "collapsed": true
   },
   "outputs": [],
   "source": [
    "def ReadFemPreg(dct_file='2002FemPreg.dct',\n",
    "                dat_file='2002FemPreg.dat.gz'):\n",
    "    dct = thinkstats2.ReadStataDct(dct_file)\n",
    "    df = dct.ReadFixedWidth(dat_file, compression='gzip')\n",
    "    CleanFemPreg(df)\n",
    "    return df"
   ]
  }
 ],
 "metadata": {
  "anaconda-cloud": {},
  "kernelspec": {
   "display_name": "Python [conda root]",
   "language": "python",
   "name": "conda-root-py"
  },
  "language_info": {
   "codemirror_mode": {
    "name": "ipython",
    "version": 3
   },
   "file_extension": ".py",
   "mimetype": "text/x-python",
   "name": "python",
   "nbconvert_exporter": "python",
   "pygments_lexer": "ipython3",
   "version": "3.5.2"
  }
 },
 "nbformat": 4,
 "nbformat_minor": 1
}
