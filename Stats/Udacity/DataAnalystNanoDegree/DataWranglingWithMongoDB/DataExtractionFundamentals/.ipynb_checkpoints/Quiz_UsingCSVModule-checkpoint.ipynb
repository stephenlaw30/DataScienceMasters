{
 "cells": [
  {
   "cell_type": "markdown",
   "metadata": {},
   "source": [
    "Process the supplied file 745090.csv and use the csv module to extract data from it. The data comes from **NREL (National Renewable Energy Laboratory)** website. \n",
    "\n",
    "Each file contains info from 1 meteorological station, in particular, about the amount of solar and wind energy for each hour of day.\n",
    "\n",
    "Note that the first line of the datafile is *neither data entry, nor header*. It is a line describing the data source. You should extract the name of the station from it.\n",
    "\n",
    "The data should be returned as a list of lists (not dictionaries). You can use the csv module's **reader** method to get data in such format.\n",
    "\n",
    "Another useful method is **next()** - to get the next line from the iterator.\n",
    "\n",
    "You should only change the **parse_file** function."
   ]
  },
  {
   "cell_type": "code",
   "execution_count": 18,
   "metadata": {
    "collapsed": true
   },
   "outputs": [],
   "source": [
    "## import libraries\n",
    "import csv\n",
    "import os"
   ]
  },
  {
   "cell_type": "code",
   "execution_count": 77,
   "metadata": {
    "collapsed": false
   },
   "outputs": [],
   "source": [
    "## function to parse the file in the specified manner\n",
    "def parse_file(datafile):\n",
    "    ## initiate variables to hold quiz answers + lists\n",
    "    name = \"\"\n",
    "    data = []\n",
    "    lines = []\n",
    "    \n",
    "    ## open the data file in read-text format\n",
    "    with open(datafile,'rt') as file:\n",
    "        reader = csv.reader(file, delimiter = ',')\n",
    "        \n",
    "        ## for each row in the file, append it to lines as a list to make list of lists\n",
    "        for row in reader:\n",
    "            lines.append(row)\n",
    "    \n",
    "        ## extract station name from 1st line\n",
    "        name = lines[0][1]\n",
    "        \n",
    "        ## remove 1st line (not data) from lines list of lists\n",
    "        lines = lines[2:]\n",
    "        \n",
    "        ## for each list in lines, append to data list of lists\n",
    "        for lst in lines:\n",
    "            data.append(lst)\n",
    "    \n",
    "    return (name, data)\n",
    "\n",
    "\n",
    "def test():\n",
    "    datafile = os.path.join(DATADIR, DATAFILE)\n",
    "    name, data = parse_file(datafile)\n",
    "\n",
    "    assert name == \"MOUNTAIN VIEW MOFFETT FLD NAS\"\n",
    "    assert data[0][1] == \"01:00\"\n",
    "    assert data[2][0] == \"01/01/2005\"\n",
    "    assert data[2][5] == \"2\"\n",
    "\n",
    "\n",
    "if __name__ == \"__main__\":\n",
    "    test()"
   ]
  },
  {
   "cell_type": "code",
   "execution_count": 78,
   "metadata": {
    "collapsed": false
   },
   "outputs": [],
   "source": [
    "datafile = os.path.join(DATADIR, DATAFILE)\n",
    "name, data = parse_file(datafile)"
   ]
  },
  {
   "cell_type": "markdown",
   "metadata": {},
   "source": [
    "<h2> Testing Code below </h2>"
   ]
  },
  {
   "cell_type": "code",
   "execution_count": 71,
   "metadata": {
    "collapsed": false
   },
   "outputs": [
    {
     "data": {
      "text/plain": [
       "'01:00'"
      ]
     },
     "execution_count": 71,
     "metadata": {},
     "output_type": "execute_result"
    }
   ],
   "source": [
    "with open('745090.csv','rt') as file:\n",
    "    reader = csv.reader(file, delimiter = ',')\n",
    "    lines = []\n",
    "    data = []\n",
    "    for row in reader:\n",
    "        lines.append(row)\n",
    "    name = lines[0][1]\n",
    "    \n",
    "    lines = lines[2:]\n",
    "    for lst in lines:\n",
    "        data.append(lst)\n",
    "        \n",
    "data[0][1]"
   ]
  },
  {
   "cell_type": "code",
   "execution_count": 29,
   "metadata": {
    "collapsed": false
   },
   "outputs": [
    {
     "name": "stdout",
     "output_type": "stream",
     "text": [
      "[]\n"
     ]
    }
   ],
   "source": [
    "print(data)"
   ]
  },
  {
   "cell_type": "code",
   "execution_count": 19,
   "metadata": {
    "collapsed": true
   },
   "outputs": [],
   "source": [
    "## set up file names\n",
    "DATADIR = \"\"\n",
    "DATAFILE = \"745090.csv\""
   ]
  }
 ],
 "metadata": {
  "anaconda-cloud": {},
  "kernelspec": {
   "display_name": "Python [conda root]",
   "language": "python",
   "name": "conda-root-py"
  },
  "language_info": {
   "codemirror_mode": {
    "name": "ipython",
    "version": 3
   },
   "file_extension": ".py",
   "mimetype": "text/x-python",
   "name": "python",
   "nbconvert_exporter": "python",
   "pygments_lexer": "ipython3",
   "version": "3.5.2"
  }
 },
 "nbformat": 4,
 "nbformat_minor": 1
}
