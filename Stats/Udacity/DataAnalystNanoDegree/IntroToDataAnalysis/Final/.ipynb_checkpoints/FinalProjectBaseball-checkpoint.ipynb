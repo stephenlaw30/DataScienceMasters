{
 "cells": [
  {
   "cell_type": "code",
   "execution_count": 65,
   "metadata": {
    "collapsed": true
   },
   "outputs": [],
   "source": [
    "import numpy as np\n",
    "import pandas as pd\n",
    "import matplotlib.pyplot as plt"
   ]
  },
  {
   "cell_type": "code",
   "execution_count": 66,
   "metadata": {
    "collapsed": true
   },
   "outputs": [],
   "source": [
    "## get datasets\n",
    "salaries = pd.read_csv('./files/Salaries.csv')\n",
    "schools = pd.read_csv('./files/Schools.csv')\n",
    "college = pd.read_csv('./files/CollegePlaying.csv')"
   ]
  },
  {
   "cell_type": "code",
   "execution_count": 67,
   "metadata": {
    "collapsed": false
   },
   "outputs": [
    {
     "data": {
      "text/html": [
       "<div>\n",
       "<style>\n",
       "    .dataframe thead tr:only-child th {\n",
       "        text-align: right;\n",
       "    }\n",
       "\n",
       "    .dataframe thead th {\n",
       "        text-align: left;\n",
       "    }\n",
       "\n",
       "    .dataframe tbody tr th {\n",
       "        vertical-align: top;\n",
       "    }\n",
       "</style>\n",
       "<table border=\"1\" class=\"dataframe\">\n",
       "  <thead>\n",
       "    <tr style=\"text-align: right;\">\n",
       "      <th></th>\n",
       "      <th>schoolID</th>\n",
       "      <th>name_full</th>\n",
       "      <th>city</th>\n",
       "      <th>state</th>\n",
       "      <th>country</th>\n",
       "    </tr>\n",
       "  </thead>\n",
       "  <tbody>\n",
       "    <tr>\n",
       "      <th>0</th>\n",
       "      <td>abilchrist</td>\n",
       "      <td>Abilene Christian University</td>\n",
       "      <td>Abilene</td>\n",
       "      <td>TX</td>\n",
       "      <td>USA</td>\n",
       "    </tr>\n",
       "    <tr>\n",
       "      <th>1</th>\n",
       "      <td>adelphi</td>\n",
       "      <td>Adelphi University</td>\n",
       "      <td>Garden City</td>\n",
       "      <td>NY</td>\n",
       "      <td>USA</td>\n",
       "    </tr>\n",
       "    <tr>\n",
       "      <th>2</th>\n",
       "      <td>adrianmi</td>\n",
       "      <td>Adrian College</td>\n",
       "      <td>Adrian</td>\n",
       "      <td>MI</td>\n",
       "      <td>USA</td>\n",
       "    </tr>\n",
       "    <tr>\n",
       "      <th>3</th>\n",
       "      <td>akron</td>\n",
       "      <td>University of Akron</td>\n",
       "      <td>Akron</td>\n",
       "      <td>OH</td>\n",
       "      <td>USA</td>\n",
       "    </tr>\n",
       "    <tr>\n",
       "      <th>4</th>\n",
       "      <td>alabama</td>\n",
       "      <td>University of Alabama</td>\n",
       "      <td>Tuscaloosa</td>\n",
       "      <td>AL</td>\n",
       "      <td>USA</td>\n",
       "    </tr>\n",
       "  </tbody>\n",
       "</table>\n",
       "</div>"
      ],
      "text/plain": [
       "     schoolID                     name_full         city state country\n",
       "0  abilchrist  Abilene Christian University      Abilene    TX     USA\n",
       "1     adelphi            Adelphi University  Garden City    NY     USA\n",
       "2    adrianmi                Adrian College       Adrian    MI     USA\n",
       "3       akron           University of Akron        Akron    OH     USA\n",
       "4     alabama         University of Alabama   Tuscaloosa    AL     USA"
      ]
     },
     "execution_count": 67,
     "metadata": {},
     "output_type": "execute_result"
    }
   ],
   "source": [
    "schools.head()"
   ]
  },
  {
   "cell_type": "code",
   "execution_count": 68,
   "metadata": {
    "collapsed": false
   },
   "outputs": [
    {
     "data": {
      "text/html": [
       "<div>\n",
       "<style>\n",
       "    .dataframe thead tr:only-child th {\n",
       "        text-align: right;\n",
       "    }\n",
       "\n",
       "    .dataframe thead th {\n",
       "        text-align: left;\n",
       "    }\n",
       "\n",
       "    .dataframe tbody tr th {\n",
       "        vertical-align: top;\n",
       "    }\n",
       "</style>\n",
       "<table border=\"1\" class=\"dataframe\">\n",
       "  <thead>\n",
       "    <tr style=\"text-align: right;\">\n",
       "      <th></th>\n",
       "      <th>yearID</th>\n",
       "      <th>teamID</th>\n",
       "      <th>lgID</th>\n",
       "      <th>playerID</th>\n",
       "      <th>salary</th>\n",
       "    </tr>\n",
       "  </thead>\n",
       "  <tbody>\n",
       "    <tr>\n",
       "      <th>0</th>\n",
       "      <td>1985</td>\n",
       "      <td>ATL</td>\n",
       "      <td>NL</td>\n",
       "      <td>barkele01</td>\n",
       "      <td>870000</td>\n",
       "    </tr>\n",
       "    <tr>\n",
       "      <th>1</th>\n",
       "      <td>1985</td>\n",
       "      <td>ATL</td>\n",
       "      <td>NL</td>\n",
       "      <td>bedrost01</td>\n",
       "      <td>550000</td>\n",
       "    </tr>\n",
       "    <tr>\n",
       "      <th>2</th>\n",
       "      <td>1985</td>\n",
       "      <td>ATL</td>\n",
       "      <td>NL</td>\n",
       "      <td>benedbr01</td>\n",
       "      <td>545000</td>\n",
       "    </tr>\n",
       "    <tr>\n",
       "      <th>3</th>\n",
       "      <td>1985</td>\n",
       "      <td>ATL</td>\n",
       "      <td>NL</td>\n",
       "      <td>campri01</td>\n",
       "      <td>633333</td>\n",
       "    </tr>\n",
       "    <tr>\n",
       "      <th>4</th>\n",
       "      <td>1985</td>\n",
       "      <td>ATL</td>\n",
       "      <td>NL</td>\n",
       "      <td>ceronri01</td>\n",
       "      <td>625000</td>\n",
       "    </tr>\n",
       "  </tbody>\n",
       "</table>\n",
       "</div>"
      ],
      "text/plain": [
       "   yearID teamID lgID   playerID  salary\n",
       "0    1985    ATL   NL  barkele01  870000\n",
       "1    1985    ATL   NL  bedrost01  550000\n",
       "2    1985    ATL   NL  benedbr01  545000\n",
       "3    1985    ATL   NL   campri01  633333\n",
       "4    1985    ATL   NL  ceronri01  625000"
      ]
     },
     "execution_count": 68,
     "metadata": {},
     "output_type": "execute_result"
    }
   ],
   "source": [
    "salaries.head()"
   ]
  },
  {
   "cell_type": "code",
   "execution_count": 69,
   "metadata": {
    "collapsed": false
   },
   "outputs": [
    {
     "data": {
      "text/html": [
       "<div>\n",
       "<style>\n",
       "    .dataframe thead tr:only-child th {\n",
       "        text-align: right;\n",
       "    }\n",
       "\n",
       "    .dataframe thead th {\n",
       "        text-align: left;\n",
       "    }\n",
       "\n",
       "    .dataframe tbody tr th {\n",
       "        vertical-align: top;\n",
       "    }\n",
       "</style>\n",
       "<table border=\"1\" class=\"dataframe\">\n",
       "  <thead>\n",
       "    <tr style=\"text-align: right;\">\n",
       "      <th></th>\n",
       "      <th>playerID</th>\n",
       "      <th>schoolID</th>\n",
       "      <th>yearID</th>\n",
       "    </tr>\n",
       "  </thead>\n",
       "  <tbody>\n",
       "    <tr>\n",
       "      <th>0</th>\n",
       "      <td>aardsda01</td>\n",
       "      <td>pennst</td>\n",
       "      <td>2001</td>\n",
       "    </tr>\n",
       "    <tr>\n",
       "      <th>1</th>\n",
       "      <td>aardsda01</td>\n",
       "      <td>rice</td>\n",
       "      <td>2002</td>\n",
       "    </tr>\n",
       "    <tr>\n",
       "      <th>2</th>\n",
       "      <td>aardsda01</td>\n",
       "      <td>rice</td>\n",
       "      <td>2003</td>\n",
       "    </tr>\n",
       "    <tr>\n",
       "      <th>3</th>\n",
       "      <td>abadan01</td>\n",
       "      <td>gamiddl</td>\n",
       "      <td>1992</td>\n",
       "    </tr>\n",
       "    <tr>\n",
       "      <th>4</th>\n",
       "      <td>abadan01</td>\n",
       "      <td>gamiddl</td>\n",
       "      <td>1993</td>\n",
       "    </tr>\n",
       "  </tbody>\n",
       "</table>\n",
       "</div>"
      ],
      "text/plain": [
       "    playerID schoolID  yearID\n",
       "0  aardsda01   pennst    2001\n",
       "1  aardsda01     rice    2002\n",
       "2  aardsda01     rice    2003\n",
       "3   abadan01  gamiddl    1992\n",
       "4   abadan01  gamiddl    1993"
      ]
     },
     "execution_count": 69,
     "metadata": {},
     "output_type": "execute_result"
    }
   ],
   "source": [
    "college.head()"
   ]
  },
  {
   "cell_type": "markdown",
   "metadata": {},
   "source": [
    "<h1> AVERAGE SALARIES BY MOST POPULAR SCHOOL </h1>\n",
    "\n",
    "<h1> does school relate to max salary </h1>\n",
    "\n",
    "<h1> avg salary + avg stats over some year --> relationship between </h1>\n"
   ]
  },
  {
   "cell_type": "code",
   "execution_count": 70,
   "metadata": {
    "collapsed": false
   },
   "outputs": [
    {
     "data": {
      "text/html": [
       "<div>\n",
       "<style>\n",
       "    .dataframe thead tr:only-child th {\n",
       "        text-align: right;\n",
       "    }\n",
       "\n",
       "    .dataframe thead th {\n",
       "        text-align: left;\n",
       "    }\n",
       "\n",
       "    .dataframe tbody tr th {\n",
       "        vertical-align: top;\n",
       "    }\n",
       "</style>\n",
       "<table border=\"1\" class=\"dataframe\">\n",
       "  <thead>\n",
       "    <tr style=\"text-align: right;\">\n",
       "      <th></th>\n",
       "      <th>yearID</th>\n",
       "      <th>teamID</th>\n",
       "      <th>lgID</th>\n",
       "      <th>playerID</th>\n",
       "      <th>salary</th>\n",
       "      <th>schoolID</th>\n",
       "      <th>state</th>\n",
       "    </tr>\n",
       "  </thead>\n",
       "  <tbody>\n",
       "    <tr>\n",
       "      <th>0</th>\n",
       "      <td>1985</td>\n",
       "      <td>ATL</td>\n",
       "      <td>NL</td>\n",
       "      <td>bedrost01</td>\n",
       "      <td>550000</td>\n",
       "      <td>newhaven</td>\n",
       "      <td>CT</td>\n",
       "    </tr>\n",
       "    <tr>\n",
       "      <th>1</th>\n",
       "      <td>1986</td>\n",
       "      <td>PHI</td>\n",
       "      <td>NL</td>\n",
       "      <td>bedrost01</td>\n",
       "      <td>650000</td>\n",
       "      <td>newhaven</td>\n",
       "      <td>CT</td>\n",
       "    </tr>\n",
       "    <tr>\n",
       "      <th>2</th>\n",
       "      <td>1987</td>\n",
       "      <td>PHI</td>\n",
       "      <td>NL</td>\n",
       "      <td>bedrost01</td>\n",
       "      <td>1050000</td>\n",
       "      <td>newhaven</td>\n",
       "      <td>CT</td>\n",
       "    </tr>\n",
       "    <tr>\n",
       "      <th>3</th>\n",
       "      <td>1988</td>\n",
       "      <td>PHI</td>\n",
       "      <td>NL</td>\n",
       "      <td>bedrost01</td>\n",
       "      <td>925000</td>\n",
       "      <td>newhaven</td>\n",
       "      <td>CT</td>\n",
       "    </tr>\n",
       "    <tr>\n",
       "      <th>4</th>\n",
       "      <td>1989</td>\n",
       "      <td>PHI</td>\n",
       "      <td>NL</td>\n",
       "      <td>bedrost01</td>\n",
       "      <td>1450000</td>\n",
       "      <td>newhaven</td>\n",
       "      <td>CT</td>\n",
       "    </tr>\n",
       "  </tbody>\n",
       "</table>\n",
       "</div>"
      ],
      "text/plain": [
       "   yearID teamID lgID   playerID   salary  schoolID state\n",
       "0    1985    ATL   NL  bedrost01   550000  newhaven    CT\n",
       "1    1986    PHI   NL  bedrost01   650000  newhaven    CT\n",
       "2    1987    PHI   NL  bedrost01  1050000  newhaven    CT\n",
       "3    1988    PHI   NL  bedrost01   925000  newhaven    CT\n",
       "4    1989    PHI   NL  bedrost01  1450000  newhaven    CT"
      ]
     },
     "execution_count": 70,
     "metadata": {},
     "output_type": "execute_result"
    }
   ],
   "source": [
    "## bring in school to player salary DF\n",
    "salaries_college = pd.merge(salaries,college.iloc[:,:2], on='playerID')\n",
    "\n",
    "salaries_college_state = pd.merge(salaries_college,schools[['schoolID','state']],on='schoolID')\n",
    "\n",
    "salaries_college_state.head()"
   ]
  },
  {
   "cell_type": "code",
   "execution_count": 71,
   "metadata": {
    "collapsed": false,
    "scrolled": true
   },
   "outputs": [
    {
     "data": {
      "text/plain": [
       "schoolID   schoolID \n",
       "ucla       ucla         718\n",
       "usc        usc          655\n",
       "arizonast  arizonast    632\n",
       "stanford   stanford     595\n",
       "lsu        lsu          592\n",
       "miamifl    miamifl      492\n",
       "floridast  floridast    487\n",
       "texas      texas        477\n",
       "calstfull  calstfull    471\n",
       "gatech     gatech       446\n",
       "Name: schoolID, dtype: int64"
      ]
     },
     "execution_count": 71,
     "metadata": {},
     "output_type": "execute_result"
    }
   ],
   "source": [
    "## get count of schools\n",
    "popular_schools = salaries_college_state['schoolID'].groupby(salaries_college_state['schoolID']).value_counts().sort_values(ascending = False)\n",
    "popular_schools.head(10)\n",
    "\n",
    "## THESE ARE NOT UNIQUE COMBOS THOUGH"
   ]
  },
  {
   "cell_type": "code",
   "execution_count": 72,
   "metadata": {
    "collapsed": false
   },
   "outputs": [
    {
     "name": "stdout",
     "output_type": "stream",
     "text": [
      "<class 'pandas.core.groupby.DataFrameGroupBy'>\n",
      "<class 'pandas.core.groupby.DataFrameGroupBy'>\n"
     ]
    }
   ],
   "source": [
    "## get unique combo of player + school to get each school a player went to\n",
    "## will have players at multiple schools w/ same average salary\n",
    "grouped_salaries_college = salaries_college_state.groupby(['playerID','schoolID'], as_index=False)\n",
    "\n",
    "## do same for player + state of college + teams\n",
    "\n",
    "grouped_salaries_state = salaries_college_state.groupby(['playerID','state'], as_index=False)\n",
    "grouped_salaries_team = salaries_college_state.groupby(['playerID','teamID'], as_index=False)"
   ]
  },
  {
   "cell_type": "code",
   "execution_count": 91,
   "metadata": {
    "collapsed": false
   },
   "outputs": [
    {
     "name": "stdout",
     "output_type": "stream",
     "text": [
      "   schoolID        salary   playerID\n",
      "0    pennst  1.322821e+06  aardsda01\n",
      "1      rice  1.322821e+06  aardsda01\n",
      "2   gamiddl  3.270000e+05   abadan01\n",
      "3  kentucky  2.462500e+05  abbotje01\n",
      "4  michigan  1.440056e+06  abbotji01\n",
      "<class 'pandas.core.frame.DataFrame'> \n",
      "\n",
      "  state        salary   playerID\n",
      "0    PA  1.322821e+06  aardsda01\n",
      "1    TX  1.322821e+06  aardsda01\n",
      "2    GA  3.270000e+05   abadan01\n",
      "3    KY  2.462500e+05  abbotje01\n",
      "4    MI  1.440056e+06  abbotji01 \n",
      "\n",
      "  teamID        salary   playerID\n",
      "0    BOS  4.032500e+05  aardsda01\n",
      "1    CHA  3.875000e+05  aardsda01\n",
      "2    NYA  5.000000e+05  aardsda01\n",
      "3    SEA  2.556333e+06  aardsda01\n",
      "4    SFN  3.000000e+05  aardsda01\n"
     ]
    }
   ],
   "source": [
    "## get mean salary of a player (MAYBE MEDIAN?)\n",
    "mean_salary_player_college = grouped_salaries_college.mean()\n",
    "mean_salary_player_college = mean_salary_player_college[['schoolID','salary','playerID']]\n",
    "\n",
    "mean_salary_player_state = grouped_salaries_state.mean()\n",
    "mean_salary_player_state = mean_salary_player_state[['state','salary','playerID']]\n",
    "\n",
    "mean_salary_player_team = grouped_salaries_team.mean()\n",
    "mean_salary_player_team = mean_salary_player_team[['teamID','salary','playerID']]\n",
    "\n",
    "print(mean_salary_player_college.head())\n",
    "print(type(mean_salary_player_college),'\\n')\n",
    "\n",
    "print(mean_salary_player_state.head(),'\\n')\n",
    "#print(type(mean_salary_player_state))\n",
    "\n",
    "print(mean_salary_player_team.head())"
   ]
  },
  {
   "cell_type": "code",
   "execution_count": 75,
   "metadata": {
    "collapsed": false
   },
   "outputs": [
    {
     "name": "stdout",
     "output_type": "stream",
     "text": [
      "schoolID\n",
      "arizonast    51\n",
      "stanford     44\n",
      "usc          44\n",
      "ucla         41\n",
      "texas        41\n",
      "lsu          40\n",
      "miamifl      38\n",
      "calstfull    34\n",
      "okstate      33\n",
      "florida      33\n",
      "Name: playerID, dtype: int64\n",
      "state\n",
      "CA    596\n",
      "FL    275\n",
      "TX    255\n",
      "AZ    122\n",
      "LA    103\n",
      "OK    101\n",
      "NC    101\n",
      "IL     96\n",
      "SC     81\n",
      "AL     78\n",
      "Name: playerID, dtype: int64\n"
     ]
    }
   ],
   "source": [
    "## find most frequent colleges + states\n",
    "top_colleges = mean_salary_player_college['playerID'].groupby(mean_salary_player_college['schoolID']).count().sort_values(ascending = False)\n",
    "print(top_colleges.head(10))\n",
    "\n",
    "top_states = mean_salary_player_state['playerID'].groupby(mean_salary_player_state['state']).count().sort_values(ascending = False)\n",
    "print(top_states.head(10))"
   ]
  },
  {
   "cell_type": "code",
   "execution_count": 64,
   "metadata": {
    "collapsed": false
   },
   "outputs": [],
   "source": [
    "## list of top colleges and states\n",
    "college_names = ['arizonast','stanford','usc','ucla','texas','lsu','miamifl','calstfull','okstate','arizona']\n",
    "#print(type(school_names))\n",
    "\n",
    "#keep states > 100\n",
    "state_names = ['CA','FL','TX','AZ','LA','OK','NC']"
   ]
  },
  {
   "cell_type": "code",
   "execution_count": 80,
   "metadata": {
    "collapsed": false
   },
   "outputs": [
    {
     "name": "stdout",
     "output_type": "stream",
     "text": [
      "    schoolID        salary\n",
      "10     texas  4.265000e+05\n",
      "18  stanford  1.478333e+05\n",
      "20   okstate  3.010000e+05\n",
      "24       lsu  2.848750e+05\n",
      "29  stanford  2.615000e+05\n",
      "39   miamifl  1.560000e+06\n",
      "43       usc  1.700000e+05\n",
      "49      ucla  3.962500e+05\n",
      "50  stanford  1.780000e+05\n",
      "51      ucla  4.467000e+05\n",
      "   state        salary\n",
      "1     TX  1.322821e+06\n",
      "5     CA  1.295000e+05\n",
      "6     FL  3.270000e+05\n",
      "9     TX  4.265000e+05\n",
      "10    NC  2.460000e+06\n",
      "13    CA  1.805000e+05\n",
      "15    TX  2.954400e+06\n",
      "16    NC  3.295000e+05\n",
      "17    CA  1.478333e+05\n",
      "19    OK  3.010000e+05\n"
     ]
    }
   ],
   "source": [
    "## get just those records from top schools\n",
    "top_colleges_avg_salary = mean_salary_player_college[mean_salary_player_college['schoolID'].isin(college_names)]\n",
    "top_colleges_avg_salary = top_colleges_avg_salary[['schoolID','salary']]\n",
    "\n",
    "top_states_avg_salary = mean_salary_player_state[mean_salary_player_state['state'].isin(state_names)]\n",
    "top_states_avg_salary = top_states_avg_salary[['state','salary']]\n",
    "\n",
    "\n",
    "print(top_colleges_avg_salary.head(10))\n",
    "print(top_states_avg_salary.head(10))"
   ]
  },
  {
   "cell_type": "code",
   "execution_count": 82,
   "metadata": {
    "collapsed": false
   },
   "outputs": [
    {
     "name": "stdout",
     "output_type": "stream",
     "text": [
      "[  853386.00467136  1367384.31788712  1092950.99924765  1221145.03250888\n",
      "  1658218.56270075   860608.77326377  1091013.31845238   868401.947516\n",
      "  1283692.32301421  1579411.07092175] \n",
      "\n",
      "[ 1155620.47824875  1110263.94430724  1035668.07309999  1087084.27247566\n",
      "   837998.14845935   881364.40639949  1021279.06790348]\n"
     ]
    }
   ],
   "source": [
    "# group the salaries by college + state\n",
    "print(np.array(top_school_avg_salary['salary'].groupby(top_school_avg_salary['schoolID']).mean()),'\\n')\n",
    "print(np.array(top_states_avg_salary['salary'].groupby(top_states_avg_salary['state']).mean()))"
   ]
  },
  {
   "cell_type": "code",
   "execution_count": 85,
   "metadata": {
    "collapsed": false
   },
   "outputs": [
    {
     "name": "stdout",
     "output_type": "stream",
     "text": [
      "           avg_salary_college  med_salary_college\n",
      "arizona          8.533860e+05       405000.000000\n",
      "arizonast        1.367384e+06       477500.000000\n",
      "calstfull        1.092951e+06       498125.000000\n",
      "lsu              1.221145e+06       515391.666667\n",
      "miamifl          1.658219e+06       521972.222222 \n",
      "\n",
      "    avg_salary_states  med_salary_states\n",
      "AZ       1.155620e+06           434125.0\n",
      "CA       1.110264e+06           463000.0\n",
      "FL       1.035668e+06           414000.0\n",
      "LA       1.087084e+06           440500.0\n",
      "NC       8.379981e+05           490500.0\n"
     ]
    }
   ],
   "source": [
    "sorted_colleges = sorted(top_school_avg_salary['schoolID'].unique())\n",
    "med_salary_college = np.array(top_school_avg_salary['salary'].groupby(top_school_avg_salary['schoolID']).median())\n",
    "avg_salary_college = np.array(top_school_avg_salary['salary'].groupby(top_school_avg_salary['schoolID']).mean())\n",
    "\n",
    "sorted_states = sorted(top_states_avg_salary['state'].unique())\n",
    "med_salary_states = np.array(top_states_avg_salary['salary'].groupby(top_states_avg_salary['state']).median())\n",
    "avg_salary_states = np.array(top_states_avg_salary['salary'].groupby(top_states_avg_salary['state']).mean())\n",
    "\n",
    "average_career_salary_college = pd.DataFrame({\n",
    "    'med_salary_college': med_salary_college,\n",
    "    'avg_salary_college': avg_salary_college\n",
    "}, index = sorted_colleges)\n",
    "\n",
    "average_career_salary_state = pd.DataFrame({\n",
    "    'med_salary_states': med_salary_states,\n",
    "    'avg_salary_states': avg_salary_states\n",
    "}, index = sorted_states)\n",
    "\n",
    "\n",
    "print(average_career_salary_college.head(),'\\n')\n",
    "print(average_career_salary_state.head())"
   ]
  },
  {
   "cell_type": "code",
   "execution_count": 86,
   "metadata": {
    "collapsed": false
   },
   "outputs": [
    {
     "data": {
      "image/png": "[encoded data removed]",
      "text/plain": [
       "<matplotlib.figure.Figure at 0xcec0908>"
      ]
     },
     "metadata": {},
     "output_type": "display_data"
    }
   ],
   "source": [
    "## test plot\n",
    "%matplotlib inline\n",
    "\n",
    "average_school_career_salary['avg_salary'].plot(kind = 'bar')\n",
    "\n",
    "plt.show()"
   ]
  },
  {
   "cell_type": "code",
   "execution_count": 88,
   "metadata": {
    "collapsed": false
   },
   "outputs": [
    {
     "data": {
      "image/png": "[encoded data removed]",
      "text/plain": [
       "<matplotlib.figure.Figure at 0xc86b7f0>"
      ]
     },
     "metadata": {},
     "output_type": "display_data"
    }
   ],
   "source": [
    "fig, axes = plt.subplots(1, 2, figsize=(15,8)) \n",
    "\n",
    "fig.suptitle(\"College Data\", fontsize = 20, y = 0.95)\n",
    "\n",
    "average_career_salary_college['med_salary_college'].plot(kind = 'bar', ax = axes[0])\n",
    "average_career_salary_college['avg_salary_college'].plot(kind = 'bar', ax = axes[1])\n",
    "\n",
    "axes[0].set_xlabel('Median')\n",
    "#axes[0].set_xticks()\n",
    "\n",
    "axes[1].set_xlabel('Average')\n",
    "#axes[1].set_xticks(rotation=45)\n",
    "\n",
    "plt.show()"
   ]
  },
  {
   "cell_type": "code",
   "execution_count": 89,
   "metadata": {
    "collapsed": false
   },
   "outputs": [
    {
     "data": {
      "image/png": "[encoded data removed]",
      "text/plain": [
       "<matplotlib.figure.Figure at 0xc97a828>"
      ]
     },
     "metadata": {},
     "output_type": "display_data"
    }
   ],
   "source": [
    "fig, axes = plt.subplots(1, 2, figsize=(15,8)) \n",
    "\n",
    "fig.suptitle(\"State Data\", fontsize = 20, y = 0.95)\n",
    "\n",
    "average_career_salary_state['med_salary_states'].plot(kind = 'bar', ax = axes[0])\n",
    "average_career_salary_state['avg_salary_states'].plot(kind = 'bar', ax = axes[1])\n",
    "\n",
    "axes[0].set_xlabel('Median')\n",
    "#axes[0].set_xticks()\n",
    "\n",
    "axes[1].set_xlabel('Average')\n",
    "#axes[1].set_xticks(rotation=45)\n",
    "\n",
    "plt.show()"
   ]
  },
  {
   "cell_type": "code",
   "execution_count": 21,
   "metadata": {
    "collapsed": false
   },
   "outputs": [
    {
     "data": {
      "text/html": [
       "<div>\n",
       "<style>\n",
       "    .dataframe thead tr:only-child th {\n",
       "        text-align: right;\n",
       "    }\n",
       "\n",
       "    .dataframe thead th {\n",
       "        text-align: left;\n",
       "    }\n",
       "\n",
       "    .dataframe tbody tr th {\n",
       "        vertical-align: top;\n",
       "    }\n",
       "</style>\n",
       "<table border=\"1\" class=\"dataframe\">\n",
       "  <thead>\n",
       "    <tr style=\"text-align: right;\">\n",
       "      <th></th>\n",
       "      <th>schoolID</th>\n",
       "      <th>name_full</th>\n",
       "      <th>city</th>\n",
       "      <th>state</th>\n",
       "      <th>country</th>\n",
       "    </tr>\n",
       "  </thead>\n",
       "  <tbody>\n",
       "    <tr>\n",
       "      <th>0</th>\n",
       "      <td>abilchrist</td>\n",
       "      <td>Abilene Christian University</td>\n",
       "      <td>Abilene</td>\n",
       "      <td>TX</td>\n",
       "      <td>USA</td>\n",
       "    </tr>\n",
       "    <tr>\n",
       "      <th>1</th>\n",
       "      <td>adelphi</td>\n",
       "      <td>Adelphi University</td>\n",
       "      <td>Garden City</td>\n",
       "      <td>NY</td>\n",
       "      <td>USA</td>\n",
       "    </tr>\n",
       "    <tr>\n",
       "      <th>2</th>\n",
       "      <td>adrianmi</td>\n",
       "      <td>Adrian College</td>\n",
       "      <td>Adrian</td>\n",
       "      <td>MI</td>\n",
       "      <td>USA</td>\n",
       "    </tr>\n",
       "    <tr>\n",
       "      <th>3</th>\n",
       "      <td>akron</td>\n",
       "      <td>University of Akron</td>\n",
       "      <td>Akron</td>\n",
       "      <td>OH</td>\n",
       "      <td>USA</td>\n",
       "    </tr>\n",
       "    <tr>\n",
       "      <th>4</th>\n",
       "      <td>alabama</td>\n",
       "      <td>University of Alabama</td>\n",
       "      <td>Tuscaloosa</td>\n",
       "      <td>AL</td>\n",
       "      <td>USA</td>\n",
       "    </tr>\n",
       "  </tbody>\n",
       "</table>\n",
       "</div>"
      ],
      "text/plain": [
       "     schoolID                     name_full         city state country\n",
       "0  abilchrist  Abilene Christian University      Abilene    TX     USA\n",
       "1     adelphi            Adelphi University  Garden City    NY     USA\n",
       "2    adrianmi                Adrian College       Adrian    MI     USA\n",
       "3       akron           University of Akron        Akron    OH     USA\n",
       "4     alabama         University of Alabama   Tuscaloosa    AL     USA"
      ]
     },
     "execution_count": 21,
     "metadata": {},
     "output_type": "execute_result"
    }
   ],
   "source": [
    "schools.head()"
   ]
  },
  {
   "cell_type": "code",
   "execution_count": 22,
   "metadata": {
    "collapsed": false
   },
   "outputs": [
    {
     "data": {
      "text/plain": [
       "pandas.core.groupby.DataFrameGroupBy"
      ]
     },
     "execution_count": 22,
     "metadata": {},
     "output_type": "execute_result"
    }
   ],
   "source": [
    "## get unique combo of player + team to get each team a player went to\n",
    "## will have players at multiple teams w/ same average salary\n",
    "grouped_salaries_team = salaries.groupby(['playerID','teamID'], as_index=False)\n",
    "type(grouped_salaries_state)"
   ]
  },
  {
   "cell_type": "code",
   "execution_count": 23,
   "metadata": {
    "collapsed": false
   },
   "outputs": [
    {
     "name": "stdout",
     "output_type": "stream",
     "text": [
      "  teamID        salary   playerID\n",
      "0    BOS  4.032500e+05  aardsda01\n",
      "1    CHA  3.875000e+05  aardsda01\n",
      "2    NYA  5.000000e+05  aardsda01\n",
      "3    SEA  2.556333e+06  aardsda01\n",
      "4    SFN  3.000000e+05  aardsda01\n",
      "<class 'pandas.core.frame.DataFrame'>\n"
     ]
    }
   ],
   "source": [
    "## get mean salary of a player (MAYBE MEDIAN?)\n",
    "mean_salary_player_team = grouped_salaries_team.mean()\n",
    "mean_salary_player_team = mean_salary_player_team[['teamID','salary','playerID']]\n",
    "\n",
    "print(mean_salary_player_state.head())\n",
    "print(type(mean_salary_player_state))"
   ]
  },
  {
   "cell_type": "code",
   "execution_count": 24,
   "metadata": {
    "collapsed": false
   },
   "outputs": [
    {
     "data": {
      "text/html": [
       "<div>\n",
       "<style>\n",
       "    .dataframe thead tr:only-child th {\n",
       "        text-align: right;\n",
       "    }\n",
       "\n",
       "    .dataframe thead th {\n",
       "        text-align: left;\n",
       "    }\n",
       "\n",
       "    .dataframe tbody tr th {\n",
       "        vertical-align: top;\n",
       "    }\n",
       "</style>\n",
       "<table border=\"1\" class=\"dataframe\">\n",
       "  <thead>\n",
       "    <tr style=\"text-align: right;\">\n",
       "      <th></th>\n",
       "      <th>teamID</th>\n",
       "      <th>salary</th>\n",
       "    </tr>\n",
       "  </thead>\n",
       "  <tbody>\n",
       "    <tr>\n",
       "      <th>0</th>\n",
       "      <td>BOS</td>\n",
       "      <td>4.032500e+05</td>\n",
       "    </tr>\n",
       "    <tr>\n",
       "      <th>1</th>\n",
       "      <td>CHA</td>\n",
       "      <td>3.875000e+05</td>\n",
       "    </tr>\n",
       "    <tr>\n",
       "      <th>2</th>\n",
       "      <td>NYA</td>\n",
       "      <td>5.000000e+05</td>\n",
       "    </tr>\n",
       "    <tr>\n",
       "      <th>3</th>\n",
       "      <td>SEA</td>\n",
       "      <td>2.556333e+06</td>\n",
       "    </tr>\n",
       "    <tr>\n",
       "      <th>4</th>\n",
       "      <td>SFN</td>\n",
       "      <td>3.000000e+05</td>\n",
       "    </tr>\n",
       "    <tr>\n",
       "      <th>5</th>\n",
       "      <td>BAL</td>\n",
       "      <td>6.333333e+05</td>\n",
       "    </tr>\n",
       "    <tr>\n",
       "      <th>6</th>\n",
       "      <td>NYN</td>\n",
       "      <td>4.000000e+05</td>\n",
       "    </tr>\n",
       "    <tr>\n",
       "      <th>7</th>\n",
       "      <td>CIN</td>\n",
       "      <td>3.270000e+05</td>\n",
       "    </tr>\n",
       "    <tr>\n",
       "      <th>8</th>\n",
       "      <td>HOU</td>\n",
       "      <td>4.515000e+05</td>\n",
       "    </tr>\n",
       "    <tr>\n",
       "      <th>9</th>\n",
       "      <td>MIN</td>\n",
       "      <td>1.250000e+06</td>\n",
       "    </tr>\n",
       "  </tbody>\n",
       "</table>\n",
       "</div>"
      ],
      "text/plain": [
       "  teamID        salary\n",
       "0    BOS  4.032500e+05\n",
       "1    CHA  3.875000e+05\n",
       "2    NYA  5.000000e+05\n",
       "3    SEA  2.556333e+06\n",
       "4    SFN  3.000000e+05\n",
       "5    BAL  6.333333e+05\n",
       "6    NYN  4.000000e+05\n",
       "7    CIN  3.270000e+05\n",
       "8    HOU  4.515000e+05\n",
       "9    MIN  1.250000e+06"
      ]
     },
     "execution_count": 24,
     "metadata": {},
     "output_type": "execute_result"
    }
   ],
   "source": [
    "## get just those records from top schools\n",
    "#top_school_avg_salary = mean_salary_player_state[mean_salary_player_state['schoolID'].isin(school_names)]\n",
    " \n",
    "team_avg_salary = mean_salary_player_team[['teamID','salary']]\n",
    "team_avg_salary.head(10)"
   ]
  },
  {
   "cell_type": "code",
   "execution_count": 25,
   "metadata": {
    "collapsed": false
   },
   "outputs": [],
   "source": [
    "sorted_teams = sorted(team_avg_salary['teamID'].unique())\n",
    "med_team_salary = np.array(team_avg_salary['salary'].groupby(team_avg_salary['teamID']).median())\n",
    "avg_team_salary = np.array(team_avg_salary['salary'].groupby(team_avg_salary['teamID']).mean())\n",
    "\n",
    "average_team_salary = pd.DataFrame({\n",
    "    'med_salary': med_team_salary,\n",
    "    'avg_salary': avg_team_salary\n",
    "}, index = sorted_teams)\n",
    "\n",
    "sorted_avg_salary = average_team_salary.sort_values(by='avg_salary', ascending=False)\n",
    "sorted_med_salary = average_team_salary.sort_values(by='med_salary', ascending=False)"
   ]
  },
  {
   "cell_type": "code",
   "execution_count": 26,
   "metadata": {
    "collapsed": false
   },
   "outputs": [
    {
     "data": {
      "image/png": "[encoded data removed]",
      "text/plain": [
       "<matplotlib.figure.Figure at 0x95ca588>"
      ]
     },
     "metadata": {},
     "output_type": "display_data"
    }
   ],
   "source": [
    "fig, axes = plt.subplots(1, 2, figsize=(15,8)) \n",
    "\n",
    "fig.suptitle(\"Team Data\", fontsize = 20, y = 0.95)\n",
    "\n",
    "sorted_med_salary['med_salary'].head(10).plot(kind = 'bar', ax = axes[0])\n",
    "sorted_avg_salary['avg_salary'].head(10).plot(kind = 'bar', ax = axes[1])\n",
    "\n",
    "axes[0].set_xlabel('Median')\n",
    "#axes[0].set_xticks()\n",
    "\n",
    "axes[1].set_xlabel('Average')\n",
    "#axes[1].set_xticks(rotation=45)\n",
    "\n",
    "plt.show()"
   ]
  },
  {
   "cell_type": "code",
   "execution_count": null,
   "metadata": {
    "collapsed": true
   },
   "outputs": [],
   "source": [
    "## get unique combo of player + team to get each team a player went to\n",
    "## will have players at multiple teams w/ same average salary\n",
    "grouped_salaries_state = salaries.groupby(['playerID','state'], as_index=False)\n",
    "type(grouped_salaries_state)"
   ]
  },
  {
   "cell_type": "code",
   "execution_count": null,
   "metadata": {
    "collapsed": true
   },
   "outputs": [],
   "source": []
  },
  {
   "cell_type": "code",
   "execution_count": null,
   "metadata": {
    "collapsed": true
   },
   "outputs": [],
   "source": []
  },
  {
   "cell_type": "code",
   "execution_count": 113,
   "metadata": {
    "collapsed": false
   },
   "outputs": [],
   "source": [
    "med_school_salary = average_school_career_salary.sort_values('med_salary',ascending=False).head(10)"
   ]
  },
  {
   "cell_type": "code",
   "execution_count": 114,
   "metadata": {
    "collapsed": false
   },
   "outputs": [
    {
     "data": {
      "image/png": "[encoded data removed]",
      "text/plain": [
       "<matplotlib.figure.Figure at 0xd745eb8>"
      ]
     },
     "metadata": {},
     "output_type": "display_data"
    }
   ],
   "source": [
    "med_school_salary.plot(kind='bar',legend=None)\n",
    "plt.xticks(rotation=45)\n",
    "plt.xlabel('Country of Origin')\n",
    "plt.ylabel('Number of Reviews') \n",
    "plt.title('Number of Beer Reviews by Determined Country of Origin', y=1.05)\n",
    "\n",
    "plt.show()"
   ]
  },
  {
   "cell_type": "code",
   "execution_count": 105,
   "metadata": {
    "collapsed": false
   },
   "outputs": [
    {
     "data": {
      "text/plain": [
       "array(['momaple', 'msholme', 'illchicago', 'hartford', 'wistvnspt',\n",
       "       'ilcenjc', 'thomasmore', 'cabutte', 'txtexar', 'flediso'], dtype=object)"
      ]
     },
     "execution_count": 105,
     "metadata": {},
     "output_type": "execute_result"
    }
   ],
   "source": [
    "med_school_salary['schoolID'].values"
   ]
  },
  {
   "cell_type": "code",
   "execution_count": null,
   "metadata": {
    "collapsed": true
   },
   "outputs": [],
   "source": [
    "schools = sorted(avg_salary_school['schoolID'].unique())\n",
    "avg_salary_school = np.array(avg_salary_school['avg_salary'].groupby(salaries_college_full['schoolID']).mean())\n",
    "\n",
    "avg_school_career_salary = pd.DataFrame({\n",
    "    'avg_salary': avg_salary,\n",
    "    'school': schools    \n",
    "})\n",
    "avg_school_career_salary.head()"
   ]
  }
 ],
 "metadata": {
  "kernelspec": {
   "display_name": "Python 3",
   "language": "python",
   "name": "python3"
  },
  "language_info": {
   "codemirror_mode": {
    "name": "ipython",
    "version": 3
   },
   "file_extension": ".py",
   "mimetype": "text/x-python",
   "name": "python",
   "nbconvert_exporter": "python",
   "pygments_lexer": "ipython3",
   "version": "3.6.0"
  }
 },
 "nbformat": 4,
 "nbformat_minor": 2
}
