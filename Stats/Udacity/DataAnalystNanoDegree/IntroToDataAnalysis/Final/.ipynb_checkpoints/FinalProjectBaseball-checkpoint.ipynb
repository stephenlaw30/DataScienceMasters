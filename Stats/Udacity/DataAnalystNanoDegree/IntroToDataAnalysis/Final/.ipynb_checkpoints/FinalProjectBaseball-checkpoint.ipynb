{
 "cells": [
  {
   "cell_type": "code",
   "execution_count": 1,
   "metadata": {
    "collapsed": true
   },
   "outputs": [],
   "source": [
    "import numpy as np\n",
    "import pandas as pd\n",
    "import matplotlib.pyplot as plt"
   ]
  },
  {
   "cell_type": "markdown",
   "metadata": {},
   "source": [
    "First, we need to import some datasets. I need to **Salaries** dataset for data about players and their salaries, the **CollegePlaying** dataset for data about what college a player went to, and then the **Schools** dataset for data about different colleges."
   ]
  },
  {
   "cell_type": "code",
   "execution_count": 2,
   "metadata": {
    "collapsed": true
   },
   "outputs": [],
   "source": [
    "## get datasets\n",
    "salaries = pd.read_csv('./files/Salaries.csv')\n",
    "schools = pd.read_csv('./files/Schools.csv')\n",
    "college = pd.read_csv('./files/CollegePlaying.csv')"
   ]
  },
  {
   "cell_type": "markdown",
   "metadata": {},
   "source": [
    "Now it's time to inspect them."
   ]
  },
  {
   "cell_type": "code",
   "execution_count": 3,
   "metadata": {
    "collapsed": false
   },
   "outputs": [
    {
     "data": {
      "text/html": [
       "<div>\n",
       "<style>\n",
       "    .dataframe thead tr:only-child th {\n",
       "        text-align: right;\n",
       "    }\n",
       "\n",
       "    .dataframe thead th {\n",
       "        text-align: left;\n",
       "    }\n",
       "\n",
       "    .dataframe tbody tr th {\n",
       "        vertical-align: top;\n",
       "    }\n",
       "</style>\n",
       "<table border=\"1\" class=\"dataframe\">\n",
       "  <thead>\n",
       "    <tr style=\"text-align: right;\">\n",
       "      <th></th>\n",
       "      <th>schoolID</th>\n",
       "      <th>name_full</th>\n",
       "      <th>city</th>\n",
       "      <th>state</th>\n",
       "      <th>country</th>\n",
       "    </tr>\n",
       "  </thead>\n",
       "  <tbody>\n",
       "    <tr>\n",
       "      <th>0</th>\n",
       "      <td>abilchrist</td>\n",
       "      <td>Abilene Christian University</td>\n",
       "      <td>Abilene</td>\n",
       "      <td>TX</td>\n",
       "      <td>USA</td>\n",
       "    </tr>\n",
       "    <tr>\n",
       "      <th>1</th>\n",
       "      <td>adelphi</td>\n",
       "      <td>Adelphi University</td>\n",
       "      <td>Garden City</td>\n",
       "      <td>NY</td>\n",
       "      <td>USA</td>\n",
       "    </tr>\n",
       "    <tr>\n",
       "      <th>2</th>\n",
       "      <td>adrianmi</td>\n",
       "      <td>Adrian College</td>\n",
       "      <td>Adrian</td>\n",
       "      <td>MI</td>\n",
       "      <td>USA</td>\n",
       "    </tr>\n",
       "    <tr>\n",
       "      <th>3</th>\n",
       "      <td>akron</td>\n",
       "      <td>University of Akron</td>\n",
       "      <td>Akron</td>\n",
       "      <td>OH</td>\n",
       "      <td>USA</td>\n",
       "    </tr>\n",
       "    <tr>\n",
       "      <th>4</th>\n",
       "      <td>alabama</td>\n",
       "      <td>University of Alabama</td>\n",
       "      <td>Tuscaloosa</td>\n",
       "      <td>AL</td>\n",
       "      <td>USA</td>\n",
       "    </tr>\n",
       "  </tbody>\n",
       "</table>\n",
       "</div>"
      ],
      "text/plain": [
       "     schoolID                     name_full         city state country\n",
       "0  abilchrist  Abilene Christian University      Abilene    TX     USA\n",
       "1     adelphi            Adelphi University  Garden City    NY     USA\n",
       "2    adrianmi                Adrian College       Adrian    MI     USA\n",
       "3       akron           University of Akron        Akron    OH     USA\n",
       "4     alabama         University of Alabama   Tuscaloosa    AL     USA"
      ]
     },
     "execution_count": 3,
     "metadata": {},
     "output_type": "execute_result"
    }
   ],
   "source": [
    "schools.head()"
   ]
  },
  {
   "cell_type": "code",
   "execution_count": 4,
   "metadata": {
    "collapsed": false
   },
   "outputs": [
    {
     "data": {
      "text/html": [
       "<div>\n",
       "<style>\n",
       "    .dataframe thead tr:only-child th {\n",
       "        text-align: right;\n",
       "    }\n",
       "\n",
       "    .dataframe thead th {\n",
       "        text-align: left;\n",
       "    }\n",
       "\n",
       "    .dataframe tbody tr th {\n",
       "        vertical-align: top;\n",
       "    }\n",
       "</style>\n",
       "<table border=\"1\" class=\"dataframe\">\n",
       "  <thead>\n",
       "    <tr style=\"text-align: right;\">\n",
       "      <th></th>\n",
       "      <th>yearID</th>\n",
       "      <th>teamID</th>\n",
       "      <th>lgID</th>\n",
       "      <th>playerID</th>\n",
       "      <th>salary</th>\n",
       "    </tr>\n",
       "  </thead>\n",
       "  <tbody>\n",
       "    <tr>\n",
       "      <th>0</th>\n",
       "      <td>1985</td>\n",
       "      <td>ATL</td>\n",
       "      <td>NL</td>\n",
       "      <td>barkele01</td>\n",
       "      <td>870000</td>\n",
       "    </tr>\n",
       "    <tr>\n",
       "      <th>1</th>\n",
       "      <td>1985</td>\n",
       "      <td>ATL</td>\n",
       "      <td>NL</td>\n",
       "      <td>bedrost01</td>\n",
       "      <td>550000</td>\n",
       "    </tr>\n",
       "    <tr>\n",
       "      <th>2</th>\n",
       "      <td>1985</td>\n",
       "      <td>ATL</td>\n",
       "      <td>NL</td>\n",
       "      <td>benedbr01</td>\n",
       "      <td>545000</td>\n",
       "    </tr>\n",
       "    <tr>\n",
       "      <th>3</th>\n",
       "      <td>1985</td>\n",
       "      <td>ATL</td>\n",
       "      <td>NL</td>\n",
       "      <td>campri01</td>\n",
       "      <td>633333</td>\n",
       "    </tr>\n",
       "    <tr>\n",
       "      <th>4</th>\n",
       "      <td>1985</td>\n",
       "      <td>ATL</td>\n",
       "      <td>NL</td>\n",
       "      <td>ceronri01</td>\n",
       "      <td>625000</td>\n",
       "    </tr>\n",
       "  </tbody>\n",
       "</table>\n",
       "</div>"
      ],
      "text/plain": [
       "   yearID teamID lgID   playerID  salary\n",
       "0    1985    ATL   NL  barkele01  870000\n",
       "1    1985    ATL   NL  bedrost01  550000\n",
       "2    1985    ATL   NL  benedbr01  545000\n",
       "3    1985    ATL   NL   campri01  633333\n",
       "4    1985    ATL   NL  ceronri01  625000"
      ]
     },
     "execution_count": 4,
     "metadata": {},
     "output_type": "execute_result"
    }
   ],
   "source": [
    "salaries.head()"
   ]
  },
  {
   "cell_type": "code",
   "execution_count": 5,
   "metadata": {
    "collapsed": false
   },
   "outputs": [
    {
     "data": {
      "text/html": [
       "<div>\n",
       "<style>\n",
       "    .dataframe thead tr:only-child th {\n",
       "        text-align: right;\n",
       "    }\n",
       "\n",
       "    .dataframe thead th {\n",
       "        text-align: left;\n",
       "    }\n",
       "\n",
       "    .dataframe tbody tr th {\n",
       "        vertical-align: top;\n",
       "    }\n",
       "</style>\n",
       "<table border=\"1\" class=\"dataframe\">\n",
       "  <thead>\n",
       "    <tr style=\"text-align: right;\">\n",
       "      <th></th>\n",
       "      <th>playerID</th>\n",
       "      <th>schoolID</th>\n",
       "      <th>yearID</th>\n",
       "    </tr>\n",
       "  </thead>\n",
       "  <tbody>\n",
       "    <tr>\n",
       "      <th>0</th>\n",
       "      <td>aardsda01</td>\n",
       "      <td>pennst</td>\n",
       "      <td>2001</td>\n",
       "    </tr>\n",
       "    <tr>\n",
       "      <th>1</th>\n",
       "      <td>aardsda01</td>\n",
       "      <td>rice</td>\n",
       "      <td>2002</td>\n",
       "    </tr>\n",
       "    <tr>\n",
       "      <th>2</th>\n",
       "      <td>aardsda01</td>\n",
       "      <td>rice</td>\n",
       "      <td>2003</td>\n",
       "    </tr>\n",
       "    <tr>\n",
       "      <th>3</th>\n",
       "      <td>abadan01</td>\n",
       "      <td>gamiddl</td>\n",
       "      <td>1992</td>\n",
       "    </tr>\n",
       "    <tr>\n",
       "      <th>4</th>\n",
       "      <td>abadan01</td>\n",
       "      <td>gamiddl</td>\n",
       "      <td>1993</td>\n",
       "    </tr>\n",
       "  </tbody>\n",
       "</table>\n",
       "</div>"
      ],
      "text/plain": [
       "    playerID schoolID  yearID\n",
       "0  aardsda01   pennst    2001\n",
       "1  aardsda01     rice    2002\n",
       "2  aardsda01     rice    2003\n",
       "3   abadan01  gamiddl    1992\n",
       "4   abadan01  gamiddl    1993"
      ]
     },
     "execution_count": 5,
     "metadata": {},
     "output_type": "execute_result"
    }
   ],
   "source": [
    "college.head()"
   ]
  },
  {
   "cell_type": "markdown",
   "metadata": {},
   "source": [
    "<h1> The Overall Average and Median Career Salaries by Most Popular College and Most Popular State for College </h1>"
   ]
  },
  {
   "cell_type": "markdown",
   "metadata": {},
   "source": [
    "It looks like in order to figure out which college a player went to and which state that college is in, I need to ***merge*** the Salaries dataset (**salaries**) with the CollegePlaying dataset (**college**) by the **playerID** field.\n",
    "\n",
    "Then I'd need to merge *again* in order to combine this new dataset, **salaries_college** with the Schools dataset (**schools**) on the **schoolID** to bring in what state a college is in, and I'll call this final dataset **salaries_college_state**"
   ]
  },
  {
   "cell_type": "code",
   "execution_count": 6,
   "metadata": {
    "collapsed": false
   },
   "outputs": [
    {
     "data": {
      "text/html": [
       "<div>\n",
       "<style>\n",
       "    .dataframe thead tr:only-child th {\n",
       "        text-align: right;\n",
       "    }\n",
       "\n",
       "    .dataframe thead th {\n",
       "        text-align: left;\n",
       "    }\n",
       "\n",
       "    .dataframe tbody tr th {\n",
       "        vertical-align: top;\n",
       "    }\n",
       "</style>\n",
       "<table border=\"1\" class=\"dataframe\">\n",
       "  <thead>\n",
       "    <tr style=\"text-align: right;\">\n",
       "      <th></th>\n",
       "      <th>yearID</th>\n",
       "      <th>teamID</th>\n",
       "      <th>lgID</th>\n",
       "      <th>playerID</th>\n",
       "      <th>salary</th>\n",
       "      <th>schoolID</th>\n",
       "      <th>state</th>\n",
       "      <th>name_full</th>\n",
       "    </tr>\n",
       "  </thead>\n",
       "  <tbody>\n",
       "    <tr>\n",
       "      <th>0</th>\n",
       "      <td>1985</td>\n",
       "      <td>ATL</td>\n",
       "      <td>NL</td>\n",
       "      <td>bedrost01</td>\n",
       "      <td>550000</td>\n",
       "      <td>newhaven</td>\n",
       "      <td>CT</td>\n",
       "      <td>University of New Haven</td>\n",
       "    </tr>\n",
       "    <tr>\n",
       "      <th>1</th>\n",
       "      <td>1986</td>\n",
       "      <td>PHI</td>\n",
       "      <td>NL</td>\n",
       "      <td>bedrost01</td>\n",
       "      <td>650000</td>\n",
       "      <td>newhaven</td>\n",
       "      <td>CT</td>\n",
       "      <td>University of New Haven</td>\n",
       "    </tr>\n",
       "    <tr>\n",
       "      <th>2</th>\n",
       "      <td>1987</td>\n",
       "      <td>PHI</td>\n",
       "      <td>NL</td>\n",
       "      <td>bedrost01</td>\n",
       "      <td>1050000</td>\n",
       "      <td>newhaven</td>\n",
       "      <td>CT</td>\n",
       "      <td>University of New Haven</td>\n",
       "    </tr>\n",
       "    <tr>\n",
       "      <th>3</th>\n",
       "      <td>1988</td>\n",
       "      <td>PHI</td>\n",
       "      <td>NL</td>\n",
       "      <td>bedrost01</td>\n",
       "      <td>925000</td>\n",
       "      <td>newhaven</td>\n",
       "      <td>CT</td>\n",
       "      <td>University of New Haven</td>\n",
       "    </tr>\n",
       "    <tr>\n",
       "      <th>4</th>\n",
       "      <td>1989</td>\n",
       "      <td>PHI</td>\n",
       "      <td>NL</td>\n",
       "      <td>bedrost01</td>\n",
       "      <td>1450000</td>\n",
       "      <td>newhaven</td>\n",
       "      <td>CT</td>\n",
       "      <td>University of New Haven</td>\n",
       "    </tr>\n",
       "  </tbody>\n",
       "</table>\n",
       "</div>"
      ],
      "text/plain": [
       "   yearID teamID lgID   playerID   salary  schoolID state  \\\n",
       "0    1985    ATL   NL  bedrost01   550000  newhaven    CT   \n",
       "1    1986    PHI   NL  bedrost01   650000  newhaven    CT   \n",
       "2    1987    PHI   NL  bedrost01  1050000  newhaven    CT   \n",
       "3    1988    PHI   NL  bedrost01   925000  newhaven    CT   \n",
       "4    1989    PHI   NL  bedrost01  1450000  newhaven    CT   \n",
       "\n",
       "                 name_full  \n",
       "0  University of New Haven  \n",
       "1  University of New Haven  \n",
       "2  University of New Haven  \n",
       "3  University of New Haven  \n",
       "4  University of New Haven  "
      ]
     },
     "execution_count": 6,
     "metadata": {},
     "output_type": "execute_result"
    }
   ],
   "source": [
    "## bring in college to player salary DataFrame\n",
    "salaries_college = pd.merge(salaries,college.iloc[:,:2], on='playerID')\n",
    "\n",
    "## bring in college state into new DataFrame\n",
    "salaries_college_state = pd.merge(salaries_college,schools[['schoolID','state','name_full']],on='schoolID')\n",
    "\n",
    "## inspect DataFrame\n",
    "salaries_college_state.head()"
   ]
  },
  {
   "cell_type": "markdown",
   "metadata": {},
   "source": [
    "Next, to see the most popular colleges in this dataset, I need to group the records by schoolID and then count how many records appear in each group."
   ]
  },
  {
   "cell_type": "code",
   "execution_count": 7,
   "metadata": {
    "collapsed": false,
    "scrolled": true
   },
   "outputs": [
    {
     "data": {
      "text/plain": [
       "schoolID   schoolID \n",
       "ucla       ucla         718\n",
       "usc        usc          655\n",
       "arizonast  arizonast    632\n",
       "stanford   stanford     595\n",
       "lsu        lsu          592\n",
       "miamifl    miamifl      492\n",
       "floridast  floridast    487\n",
       "texas      texas        477\n",
       "calstfull  calstfull    471\n",
       "gatech     gatech       446\n",
       "Name: schoolID, dtype: int64"
      ]
     },
     "execution_count": 7,
     "metadata": {},
     "output_type": "execute_result"
    }
   ],
   "source": [
    "## get count of records grouped by schools and sort in descending order\n",
    "popular_schools = salaries_college_state['schoolID'].groupby(salaries_college_state['schoolID']).value_counts().sort_values(ascending = False)\n",
    "\n",
    "## view top 10 most popular schools\n",
    "popular_schools.head(10)"
   ]
  },
  {
   "cell_type": "markdown",
   "metadata": {},
   "source": [
    "But wait. Unfortunately, this is the total count of *ALL* schoolID's in the dataset, but it is *NOT* accounting for multiple records of the *same player*, and therefore I've got duplicate counts. In other words, I've got multiple records for the same playerID if they played for multiple years, and for each year they played, their alma mater counted *again* when it should only be counted *once*.\n",
    "\n",
    "I need to group records by player and *then* group them by college and count *these* values to get the counts of *unique* players from each college. I'm also going to start using **name_full** instead of schoolID in order to make it more digestable for readers.\n",
    "\n",
    "I can then do this same process but for the states in which colleges are located by grouping records by state after grouping by player."
   ]
  },
  {
   "cell_type": "markdown",
   "metadata": {},
   "source": [
    "Now, I need to get grab out the mean career salaries of each player and also include the college and college state of those players."
   ]
  },
  {
   "cell_type": "code",
   "execution_count": 22,
   "metadata": {
    "collapsed": false
   },
   "outputs": [
    {
     "name": "stdout",
     "output_type": "stream",
     "text": [
      "                 name_full   playerID   salary\n",
      "0  University of New Haven  bedrost01   550000\n",
      "1  University of New Haven  bedrost01   650000\n",
      "2  University of New Haven  bedrost01  1050000\n",
      "3  University of New Haven  bedrost01   925000\n",
      "4  University of New Haven  bedrost01  1450000   13369\n",
      "    playerID   salary state\n",
      "0  bedrost01   550000    CT\n",
      "1  bedrost01   650000    CT\n",
      "2  bedrost01  1050000    CT\n",
      "3  bedrost01   925000    CT\n",
      "4  bedrost01  1450000    CT   12676\n"
     ]
    }
   ],
   "source": [
    "#grouped_salaries_college['playerID'].head()\n",
    "grouped_salaries_college_df = pd.DataFrame({\n",
    "    'playerID': grouped_salaries_college['playerID'].head(),\n",
    "    'name_full': grouped_salaries_college['name_full'].head(),\n",
    "    'salary': grouped_salaries_college['salary'].head()\n",
    "})\n",
    "\n",
    "grouped_salaries_state_df = pd.DataFrame({\n",
    "    'playerID': grouped_salaries_state['playerID'].head(),\n",
    "    'state': grouped_salaries_state['state'].head(),\n",
    "    'salary': grouped_salaries_state['salary'].head()\n",
    "})\n",
    "\n",
    "print(grouped_salaries_college_df.head(),' ',len(grouped_salaries_college_df))\n",
    "print(grouped_salaries_state_df.head(),' ',len(grouped_salaries_state_df))"
   ]
  },
  {
   "cell_type": "markdown",
   "metadata": {},
   "source": [
    "bit more colleges than states?"
   ]
  },
  {
   "cell_type": "code",
   "execution_count": 24,
   "metadata": {
    "collapsed": false
   },
   "outputs": [
    {
     "name": "stdout",
     "output_type": "stream",
     "text": [
      "name_full\n",
      "Arizona State University                 226\n",
      "Stanford University                      200\n",
      "University of Southern California        189\n",
      "University of California, Los Angeles    185\n",
      "Louisiana State University               175\n",
      "University of Texas at Austin            164\n",
      "University of Miami                      158\n",
      "University of Arizona                    149\n",
      "University of Florida                    145\n",
      "California State University Fullerton    144\n",
      "Name: playerID, dtype: int64 \n",
      "\n",
      "state\n",
      "CA    2568\n",
      "FL    1147\n",
      "TX    1062\n",
      "AZ     535\n",
      "LA     446\n",
      "NC     444\n",
      "IL     419\n",
      "OK     408\n",
      "AL     356\n",
      "TN     336\n",
      "Name: playerID, dtype: int64\n"
     ]
    }
   ],
   "source": [
    "## find most frequent colleges + states\n",
    "top_colleges = grouped_salaries_college_df['playerID'].groupby(grouped_salaries_college_df['name_full']).count().sort_values(ascending = False)\n",
    "print(top_colleges.head(10),'\\n')\n",
    "\n",
    "top_states = grouped_salaries_state_df['playerID'].groupby(grouped_salaries_state_df['state']).count().sort_values(ascending = False)\n",
    "print(top_states.head(10))"
   ]
  },
  {
   "cell_type": "code",
   "execution_count": 8,
   "metadata": {
    "collapsed": true
   },
   "outputs": [],
   "source": [
    "## create lists of top colleges and states\n",
    "college_names = ['Arizona State University', 'University of Southern California', 'Stanford University', \n",
    "                 'University of California, Los Angeles', 'University of Texas at Austin', 'Louisiana State University',\n",
    "                 'University of Miami', 'California State University Fullerton', 'Oklahoma State University', \n",
    "                 'University of Arizona']\n",
    "state_names = ['CA','FL','TX','AZ','LA','OK','NC']\n",
    "\n",
    "## get just those records from top schools and top states\n",
    "top_colleges_avg_salary = mean_salary_player_college[mean_salary_player_college['name_full'].isin(college_names)][['name_full','salary']]\n",
    "top_states_avg_salary = mean_salary_player_state[mean_salary_player_state['state'].isin(state_names)][['state','salary']]\n",
    "\n",
    "top_colleges_med_salary = median_salary_player_college[median_salary_player_college['name_full'].isin(college_names)][['name_full','salary']]\n",
    "top_states_med_salary = median_salary_player_state[median_salary_player_state['state'].isin(state_names)][['state','salary']]\n",
    "\n",
    "\n",
    "print(top_colleges_avg_salary.head(10),'\\n')\n",
    "print(top_states_avg_salary.head(10))\n",
    "print('\\n\\n',top_colleges_med_salary.head(10),'\\n')\n",
    "print(top_states_med_salary.head(10))"
   ]
  },
  {
   "cell_type": "code",
   "execution_count": null,
   "metadata": {
    "collapsed": false
   },
   "outputs": [],
   "source": [
    "## get mean career salary of players by college and by state\n",
    "mean_salary_player_college = salary_player_college.mean()\n",
    "mean_salary_player_state = salary_player_state.mean()\n",
    "\n",
    "print('Mean Salaries by College:','\\n',mean_salary_player_college.head(),'\\n')\n",
    "print('Mean Salaries by State:','\\n',mean_salary_player_state.head())\n",
    "\n",
    "## get median career salary of players by college and by state\n",
    "median_salary_player_college = salary_player_college.median()\n",
    "median_salary_player_state = salary_player_state.median()\n",
    "\n",
    "print('\\n\\nMedian Salaries by College:','\\n',median_salary_player_college.head(),'\\n')\n",
    "print('Median Salaries by State:','\\n',median_salary_player_state.head())"
   ]
  },
  {
   "cell_type": "markdown",
   "metadata": {},
   "source": [
    "Notice that some players went to 2 colleges and therefore \"played for\" 2 states. I'll ignore that for this analysis.\n",
    "\n",
    "Now I want to apply this data to just the most \"popular\" colleges and states, displayed below."
   ]
  },
  {
   "cell_type": "code",
   "execution_count": 14,
   "metadata": {
    "collapsed": false
   },
   "outputs": [
    {
     "name": "stdout",
     "output_type": "stream",
     "text": [
      "name_full\n",
      "Arizona State University                 51\n",
      "University of Southern California        44\n",
      "Stanford University                      44\n",
      "University of California, Los Angeles    41\n",
      "University of Texas at Austin            41\n",
      "Louisiana State University               40\n",
      "University of Miami                      38\n",
      "California State University Fullerton    34\n",
      "Oklahoma State University                33\n",
      "University of Arizona                    33\n",
      "Name: playerID, dtype: int64 \n",
      "\n",
      "state\n",
      "CA    596\n",
      "FL    275\n",
      "TX    255\n",
      "AZ    122\n",
      "LA    103\n",
      "OK    101\n",
      "NC    101\n",
      "IL     96\n",
      "SC     81\n",
      "AL     78\n",
      "Name: playerID, dtype: int64\n"
     ]
    }
   ],
   "source": [
    "## find most frequent colleges + states\n",
    "top_colleges = mean_salary_player_college['playerID'].groupby(mean_salary_player_college['name_full']).count().sort_values(ascending = False)\n",
    "print(top_colleges.head(10),'\\n')\n",
    "\n",
    "top_states = mean_salary_player_state['playerID'].groupby(mean_salary_player_state['state']).count().sort_values(ascending = False)\n",
    "print(top_states.head(10))"
   ]
  },
  {
   "cell_type": "markdown",
   "metadata": {},
   "source": [
    "Now to double check we get the right counts by doing the same with the median data set."
   ]
  },
  {
   "cell_type": "code",
   "execution_count": 15,
   "metadata": {
    "collapsed": false
   },
   "outputs": [
    {
     "name": "stdout",
     "output_type": "stream",
     "text": [
      "name_full\n",
      "Arizona State University                 51\n",
      "University of Southern California        44\n",
      "Stanford University                      44\n",
      "University of California, Los Angeles    41\n",
      "University of Texas at Austin            41\n",
      "Louisiana State University               40\n",
      "University of Miami                      38\n",
      "California State University Fullerton    34\n",
      "Oklahoma State University                33\n",
      "University of Arizona                    33\n",
      "Name: playerID, dtype: int64 \n",
      "\n",
      "state\n",
      "CA    596\n",
      "FL    275\n",
      "TX    255\n",
      "AZ    122\n",
      "LA    103\n",
      "OK    101\n",
      "NC    101\n",
      "IL     96\n",
      "SC     81\n",
      "AL     78\n",
      "Name: playerID, dtype: int64\n"
     ]
    }
   ],
   "source": [
    "top_colleges2 = median_salary_player_college['playerID'].groupby(median_salary_player_college['name_full']).count().sort_values(ascending = False)\n",
    "print(top_colleges2.head(10),'\\n')\n",
    "\n",
    "top_states2 = median_salary_player_state['playerID'].groupby(median_salary_player_state['state']).count().sort_values(ascending = False)\n",
    "print(top_states2.head(10))"
   ]
  },
  {
   "cell_type": "markdown",
   "metadata": {},
   "source": [
    "Now, I want to place these colleges and states into a list and then filter out our DataFrames of the mean salaries to just contain these colleges and states.\n",
    "\n",
    "Also, I am going to cut down the states to just those with over 100 records (players), just because."
   ]
  },
  {
   "cell_type": "code",
   "execution_count": 16,
   "metadata": {
    "collapsed": false
   },
   "outputs": [
    {
     "name": "stdout",
     "output_type": "stream",
     "text": [
      "                                name_full        salary\n",
      "10          University of Texas at Austin  4.265000e+05\n",
      "18                    Stanford University  1.478333e+05\n",
      "20              Oklahoma State University  3.010000e+05\n",
      "24             Louisiana State University  2.848750e+05\n",
      "29                    Stanford University  2.615000e+05\n",
      "39                    University of Miami  1.560000e+06\n",
      "43      University of Southern California  1.700000e+05\n",
      "49  University of California, Los Angeles  3.962500e+05\n",
      "50                    Stanford University  1.780000e+05\n",
      "51  University of California, Los Angeles  4.467000e+05 \n",
      "\n",
      "   state        salary\n",
      "1     TX  1.322821e+06\n",
      "5     CA  1.295000e+05\n",
      "6     FL  3.270000e+05\n",
      "9     TX  4.265000e+05\n",
      "10    NC  2.460000e+06\n",
      "13    CA  1.805000e+05\n",
      "15    TX  2.954400e+06\n",
      "16    NC  3.295000e+05\n",
      "17    CA  1.478333e+05\n",
      "19    OK  3.010000e+05\n",
      "\n",
      "\n",
      "                                 name_full     salary\n",
      "10          University of Texas at Austin   367500.0\n",
      "18                    Stanford University   157500.0\n",
      "20              Oklahoma State University   301000.0\n",
      "24             Louisiana State University   308500.0\n",
      "29                    Stanford University   226250.0\n",
      "39                    University of Miami  1400000.0\n",
      "43      University of Southern California   170000.0\n",
      "49  University of California, Los Angeles   475000.0\n",
      "50                    Stanford University   163000.0\n",
      "51  University of California, Los Angeles   446700.0 \n",
      "\n",
      "   state     salary\n",
      "1     TX   419000.0\n",
      "5     CA   129500.0\n",
      "6     FL   327000.0\n",
      "9     TX   367500.0\n",
      "10    NC  2600000.0\n",
      "13    CA   180500.0\n",
      "15    TX  2535000.0\n",
      "16    NC   329500.0\n",
      "17    CA   157500.0\n",
      "19    OK   301000.0\n"
     ]
    }
   ],
   "source": [
    "## create lists of top colleges and states\n",
    "college_names = ['Arizona State University', 'University of Southern California', 'Stanford University', \n",
    "                 'University of California, Los Angeles', 'University of Texas at Austin', 'Louisiana State University',\n",
    "                 'University of Miami', 'California State University Fullerton', 'Oklahoma State University', \n",
    "                 'University of Arizona']\n",
    "state_names = ['CA','FL','TX','AZ','LA','OK','NC']\n",
    "\n",
    "## get just those records from top schools and top states\n",
    "top_colleges_avg_salary = mean_salary_player_college[mean_salary_player_college['name_full'].isin(college_names)][['name_full','salary']]\n",
    "top_states_avg_salary = mean_salary_player_state[mean_salary_player_state['state'].isin(state_names)][['state','salary']]\n",
    "\n",
    "top_colleges_med_salary = median_salary_player_college[median_salary_player_college['name_full'].isin(college_names)][['name_full','salary']]\n",
    "top_states_med_salary = median_salary_player_state[median_salary_player_state['state'].isin(state_names)][['state','salary']]\n",
    "\n",
    "\n",
    "print(top_colleges_avg_salary.head(10),'\\n')\n",
    "print(top_states_avg_salary.head(10))\n",
    "print('\\n\\n',top_colleges_med_salary.head(10),'\\n')\n",
    "print(top_states_med_salary.head(10))"
   ]
  },
  {
   "cell_type": "markdown",
   "metadata": {},
   "source": [
    "Next, I need to group these average and median career salaries by college and by state and then compute the mean and median in order to get the average and median career salary of all players that went to my selected colleges and went to college in my selected states."
   ]
  },
  {
   "cell_type": "code",
   "execution_count": 17,
   "metadata": {
    "collapsed": false
   },
   "outputs": [
    {
     "name": "stdout",
     "output_type": "stream",
     "text": [
      "[ 1367384.31788712  1092950.99924765  1221145.03250888   860608.77326377\n",
      "  1091013.31845238   853386.00467136  1283692.32301421  1658218.56270075\n",
      "  1579411.07092175   868401.947516  ] \n",
      "\n",
      "[ 1155620.47824875  1110263.94430724  1035668.07309999  1087084.27247566\n",
      "   837998.14845935   881364.40639949  1021279.06790348] \n",
      "\n",
      "\n",
      "\n",
      " [ 1309657.23529412   729725.          1058594.1625       801268.15151515\n",
      "   920200.73863636   743890.04545455  1207705.85365854  1569823.10526316\n",
      "  1342062.78409091   768847.65853659] \n",
      "\n",
      "[ 1037618.94262295   966142.22567114   948290.70909091   873990.69417476\n",
      "   678176.33168317   785640.64356436   884478.48431373] \n",
      "\n"
     ]
    }
   ],
   "source": [
    "# group the career salaries by college + state and inspect\n",
    "print(np.array(top_colleges_avg_salary['salary'].groupby(top_colleges_avg_salary['name_full']).mean()),'\\n')\n",
    "print(np.array(top_states_avg_salary['salary'].groupby(top_states_avg_salary['state']).mean()),'\\n')\n",
    "\n",
    "print('\\n\\n',np.array(top_colleges_med_salary['salary'].groupby(top_colleges_med_salary['name_full']).mean()),'\\n')\n",
    "print(np.array(top_states_med_salary['salary'].groupby(top_states_med_salary['state']).mean()),'\\n')"
   ]
  },
  {
   "cell_type": "markdown",
   "metadata": {
    "collapsed": true
   },
   "source": [
    "So I've got 10 mean and median career salaries by college and 7 mean and median career salaries by state. Now, I am going to sort these college names and state names alphabetically, grab their mean and median career salaries and place them into NumPy arrays.\n",
    "\n",
    "Then I need to construct 3 DataFrames, wherein the 1st column will be the college or state name, respectively, and the next 2 columns would be the mean career salary and median career salary for that college or state, respectively.\n",
    "\n",
    "I am going to change my index from the full college name to the typical abbreviations for these colleges that one would see for during a sports broadcast in order to make them easier to plot on an axis."
   ]
  },
  {
   "cell_type": "code",
   "execution_count": 18,
   "metadata": {
    "collapsed": false
   },
   "outputs": [
    {
     "ename": "ValueError",
     "evalue": "setting an array element with a sequence",
     "output_type": "error",
     "traceback": [
      "\u001b[0;31m---------------------------------------------------------------------------\u001b[0m",
      "\u001b[0;31mValueError\u001b[0m                                Traceback (most recent call last)",
      "\u001b[0;32m<ipython-input-18-7ba660b7af71>\u001b[0m in \u001b[0;36m<module>\u001b[0;34m()\u001b[0m\n\u001b[1;32m      1\u001b[0m \u001b[1;31m## sort indices and create arrays of mean and median career salaries\u001b[0m\u001b[1;33m\u001b[0m\u001b[1;33m\u001b[0m\u001b[0m\n\u001b[1;32m      2\u001b[0m \u001b[0msorted_colleges\u001b[0m \u001b[1;33m=\u001b[0m \u001b[0msorted\u001b[0m\u001b[1;33m(\u001b[0m\u001b[1;33m[\u001b[0m\u001b[1;34m'ASU'\u001b[0m\u001b[1;33m,\u001b[0m \u001b[1;34m'USC'\u001b[0m\u001b[1;33m,\u001b[0m \u001b[1;34m'STN'\u001b[0m\u001b[1;33m,\u001b[0m\u001b[1;34m'UCLA'\u001b[0m\u001b[1;33m,\u001b[0m \u001b[1;34m'UT'\u001b[0m\u001b[1;33m,\u001b[0m \u001b[1;34m'LSU'\u001b[0m\u001b[1;33m,\u001b[0m\u001b[1;34m'MIA'\u001b[0m\u001b[1;33m,\u001b[0m \u001b[1;34m'CAL'\u001b[0m\u001b[1;33m,\u001b[0m \u001b[1;34m'OSU'\u001b[0m\u001b[1;33m,\u001b[0m\u001b[1;34m'ARI'\u001b[0m\u001b[1;33m]\u001b[0m\u001b[1;33m)\u001b[0m\u001b[1;33m\u001b[0m\u001b[0m\n\u001b[0;32m----> 3\u001b[0;31m \u001b[0mmed_salary_college\u001b[0m \u001b[1;33m=\u001b[0m \u001b[0mnp\u001b[0m\u001b[1;33m.\u001b[0m\u001b[0marray\u001b[0m\u001b[1;33m(\u001b[0m\u001b[0mtop_colleges_avg_salary\u001b[0m\u001b[1;33m[\u001b[0m\u001b[1;34m'salary'\u001b[0m\u001b[1;33m]\u001b[0m\u001b[1;33m.\u001b[0m\u001b[0mgroupby\u001b[0m\u001b[1;33m(\u001b[0m\u001b[0mtop_colleges_avg_salary\u001b[0m\u001b[1;33m[\u001b[0m\u001b[1;34m'name_full'\u001b[0m\u001b[1;33m]\u001b[0m\u001b[1;33m)\u001b[0m\u001b[1;33m)\u001b[0m\u001b[1;31m#.median())\u001b[0m\u001b[1;33m\u001b[0m\u001b[0m\n\u001b[0m\u001b[1;32m      4\u001b[0m \u001b[0mavg_salary_college\u001b[0m \u001b[1;33m=\u001b[0m \u001b[0mnp\u001b[0m\u001b[1;33m.\u001b[0m\u001b[0marray\u001b[0m\u001b[1;33m(\u001b[0m\u001b[0mtop_colleges_avg_salary\u001b[0m\u001b[1;33m[\u001b[0m\u001b[1;34m'salary'\u001b[0m\u001b[1;33m]\u001b[0m\u001b[1;33m.\u001b[0m\u001b[0mgroupby\u001b[0m\u001b[1;33m(\u001b[0m\u001b[0mtop_colleges_avg_salary\u001b[0m\u001b[1;33m[\u001b[0m\u001b[1;34m'name_full'\u001b[0m\u001b[1;33m]\u001b[0m\u001b[1;33m)\u001b[0m\u001b[1;33m)\u001b[0m\u001b[1;31m#.mean())\u001b[0m\u001b[1;33m\u001b[0m\u001b[0m\n",
      "\u001b[0;31mValueError\u001b[0m: setting an array element with a sequence"
     ]
    }
   ],
   "source": [
    "## sort indices and create arrays of mean and median career salaries\n",
    "sorted_colleges = sorted(['ASU', 'USC', 'STN','UCLA', 'UT', 'LSU','MIA', 'CAL', 'OSU','ARI'])\n",
    "med_salary_college = np.array(top_colleges_avg_salary['salary'].groupby(top_colleges_avg_salary['name_full']))#.median())\n",
    "avg_salary_college = np.array(top_colleges_avg_salary['salary'].groupby(top_colleges_avg_salary['name_full']))#.mean())"
   ]
  },
  {
   "cell_type": "code",
   "execution_count": null,
   "metadata": {
    "collapsed": false
   },
   "outputs": [],
   "source": [
    "## sort indices and create arrays of mean and median career salaries\n",
    "sorted_colleges = sorted(['ASU', 'USC', 'STN','UCLA', 'UT', 'LSU','MIA', 'CAL', 'OSU','ARI'])\n",
    "med_salary_college = np.array(top_colleges_avg_salary['salary'].groupby(top_colleges_avg_salary['name_full']))#.median())\n",
    "avg_salary_college = np.array(top_colleges_avg_salary['salary'].groupby(top_colleges_avg_salary['name_full']))#.mean())\n",
    "\n",
    "sorted_states = sorted(top_states_avg_salary['state'].unique())\n",
    "med_salary_states = np.array(top_states_avg_salary['salary'].groupby(top_states_avg_salary['state']).median())\n",
    "avg_salary_states = np.array(top_states_avg_salary['salary'].groupby(top_states_avg_salary['state']).mean())\n",
    "\n",
    "## create DataFrames\n",
    "career_salary_college = pd.DataFrame({\n",
    "    'med_salary_college': med_salary_college,\n",
    "    'avg_salary_college': avg_salary_college\n",
    "}, index = sorted_colleges)\n",
    "\n",
    "career_salary_state = pd.DataFrame({\n",
    "    'med_salary_states': med_salary_states,\n",
    "    'avg_salary_states': avg_salary_states\n",
    "}, index = sorted_states)\n",
    "\n",
    "# inspect DataFrames\n",
    "print(career_salary_college.head(),'\\n')\n",
    "print(career_salary_state.head())"
   ]
  },
  {
   "cell_type": "markdown",
   "metadata": {
    "collapsed": true
   },
   "source": [
    "Now it's time to plot them"
   ]
  },
  {
   "cell_type": "code",
   "execution_count": null,
   "metadata": {
    "collapsed": false
   },
   "outputs": [],
   "source": [
    "%matplotlib inline\n",
    "\n",
    "fig, axes = plt.subplots(1, 2, figsize=(15,8)) \n",
    "\n",
    "fig.suptitle(\"College Data\", fontsize = 20, y = 0.95)\n",
    "\n",
    "career_salary_college['med_salary_college'].plot(kind = 'bar', ax = axes[0], color = 'g')\n",
    "career_salary_college['avg_salary_college'].plot(kind = 'bar', ax = axes[1], color = 'g')\n",
    "\n",
    "axes[0].set_title('Median Career Salary of The Most Popular Colleges')\n",
    "axes[0].set_xlabel('College')\n",
    "axes[0].set_ylabel('Salary ($)')\n",
    "axes[0].set_xticklabels(career_salary_college.index, rotation=45)\n",
    "\n",
    "axes[1].set_title('Average Career Salary of The Most Popular Colleges')\n",
    "axes[1].set_xlabel('College')\n",
    "axes[1].set_ylabel('Salary ($)')\n",
    "axes[1].set_xticklabels(career_salary_college.index, rotation=45)\n",
    "\n",
    "plt.show()"
   ]
  },
  {
   "cell_type": "markdown",
   "metadata": {},
   "source": [
    "***Note the y-axis differences***. I will keep this view so as to show the differences between colleges more easy to read.\n",
    "\n",
    "So we can see that players that went to University of Southern California had the highest median salary (~ 1.5x more than most other colleges), as well as the second highest average salary. This indicates that this could possible be a good choice of school for a player to earn a lot of money in the pros.\n",
    "\n",
    "The average salaries were a lot more varied among colleges, with UCLA being to college with the highest overall salary and Oklahoma State University being the lowest, with the University of Miami and University of Texas - Austin not far above.\n",
    "\n",
    "I'd assume these distributions would not be too normal, so the median would be the better bar plot to take note of."
   ]
  },
  {
   "cell_type": "code",
   "execution_count": null,
   "metadata": {
    "collapsed": false
   },
   "outputs": [],
   "source": [
    "grouped_salaries_college['salary'].head()"
   ]
  },
  {
   "cell_type": "code",
   "execution_count": null,
   "metadata": {
    "collapsed": false
   },
   "outputs": [],
   "source": [
    "fig, axes = plt.subplots(1, 2, figsize=(15,8)) \n",
    "\n",
    "fig.suptitle(\"State Data\", fontsize = 20, y = 0.95)\n",
    "\n",
    "career_salary_state['med_salary_states'].plot(kind = 'bar', ax = axes[0], color = 'g')\n",
    "career_salary_state['avg_salary_states'].plot(kind = 'bar', ax = axes[1], color = 'g')\n",
    "\n",
    "axes[0].set_title('Median Career Salary by The Most Popular States for College')\n",
    "axes[0].set_xlabel('State for College')\n",
    "axes[0].set_ylabel('Salary ($)')\n",
    "axes[0].set_xticklabels(career_salary_state.index, rotation=45)\n",
    "    \n",
    "axes[1].set_title('Average Career Salary by Most Popular States for College')\n",
    "axes[1].set_xlabel('State for College')\n",
    "axes[1].set_ylabel('Salary ($)')\n",
    "axes[1].set_xticklabels(career_salary_state.index, rotation=45)\n",
    "\n",
    "plt.show()"
   ]
  },
  {
   "cell_type": "markdown",
   "metadata": {},
   "source": [
    "It looks like this dataset doesn't give an indication of the best state to go to college in in order bring up one's chances to make a higher career salary.\n",
    "\n",
    "North Carolina has the highest median career salary, followed by California and Arizona. But, Arizona has the highest average career salary, followed by California and Louisiana.\n",
    "\n",
    "So, at least according to this, maybe Arizona and California are the states one would want to look at to play for in college in order to bolster their chances at making a greater salary over their career in the pros. From the college analysis earlier, it looks like USC could be the overall best best in this case."
   ]
  },
  {
   "cell_type": "markdown",
   "metadata": {},
   "source": [
    "<h1> Maps </h1>\n",
    "\n",
    "Now let's look at the mean and median salary for *all* states.\n",
    "\n",
    "First I'll check some code to see the mean salary by state."
   ]
  },
  {
   "cell_type": "code",
   "execution_count": null,
   "metadata": {
    "collapsed": false
   },
   "outputs": [],
   "source": [
    "grouped_salaries_college.groupby(grouped_salaries_college['state'])\n",
    "#print(mean_salary_player_state['salary'].groupby(mean_salary_player_state['state']).mean().head())\n",
    "#print(mean_salary_player_state['salary'].groupby(mean_salary_player_state['state']).mean().tail())"
   ]
  },
  {
   "cell_type": "markdown",
   "metadata": {
    "collapsed": true
   },
   "source": [
    "Now I want to sort by state name alphabetically and then group "
   ]
  },
  {
   "cell_type": "code",
   "execution_count": null,
   "metadata": {
    "collapsed": true
   },
   "outputs": [],
   "source": [
    "sorted_states = sorted(mean_salary_player_state['state'].unique())\n",
    "med_salary_states = np.array(mean_salary_player_state['salary'].groupby(mean_salary_player_state['state']).median())\n",
    "avg_salary_states = np.array(['salary'].groupby(mean_salary_player_state['state']).mean())\n",
    "\n",
    "average_career_salary_state = pd.DataFrame({\n",
    "    'med_salary_states': med_salary_states,\n",
    "    'avg_salary_states': avg_salary_states\n",
    "}, index = sorted_states)"
   ]
  },
  {
   "cell_type": "code",
   "execution_count": null,
   "metadata": {
    "collapsed": false
   },
   "outputs": [],
   "source": [
    "average_career_salary_state"
   ]
  },
  {
   "cell_type": "code",
   "execution_count": null,
   "metadata": {
    "collapsed": false
   },
   "outputs": [],
   "source": [
    "import folium\n",
    "\n",
    "state_geo = 'C:/folium-master/examples/data/us-states.json' # from w/in folium package\n",
    "\n",
    "# Setup a folium map at a high-level zoom @Alok (100,0) are NOT lat long coordinates\n",
    "map = folium.Map(location = [39, -97], zoom_start = 3.5)\n",
    "\n",
    "# use built-in method \"choropleth\" for choropleth maps that bind Pandas Data Frames and json geometries together.  \n",
    "# This allows us to quickly visualize data combinations\n",
    "\n",
    "plot_data = average_career_salary_state['med_salary_states']\n",
    "\n",
    "map.choropleth(geo_path = state_geo, data = plot_data,\n",
    "               columns = ['StateCode','Value'],\n",
    "               key_on = 'feature.id',  # refers to label in the JSON object that has country code as the feature ID\n",
    "               fill_color = 'YlGnBu', fill_opacity = 0.7,\n",
    "               line_opacity = 0.2,\n",
    "              # legend_name = legend_label\n",
    "              )\n",
    "\n",
    "# Create Folium plot\n",
    "map.save('plot_data.html')\n",
    "\n",
    "# Import the Folium interactive html file\n",
    "from IPython.display import HTML\n",
    "HTML('<iframe src=plot_data.html width=700 height=450></iframe>')"
   ]
  },
  {
   "cell_type": "code",
   "execution_count": null,
   "metadata": {
    "collapsed": false
   },
   "outputs": [],
   "source": [
    "## group dataframe by team, check mean salary of each\n",
    "\n",
    "grouped_salaries_team = salaries_college_state.groupby(['teamID'], as_index=False)\n",
    "grouped_salaries_team['salary'].mean().head()"
   ]
  },
  {
   "cell_type": "code",
   "execution_count": null,
   "metadata": {
    "collapsed": false
   },
   "outputs": [],
   "source": [
    "import folium # conda install -c ioos folium=0.2.1 \n",
    "\n",
    "state_geo = 'C:/folium-master/examples/data/us-states.json' # from w/in folium package\n",
    "\n",
    "# Setup a folium map at a high-level zoom @Alok (100,0) are NOT lat long coordinates\n",
    "map = folium.Map(location = [39, -97], zoom_start = 3.5)\n",
    "\n",
    "# use built-in method \"choropleth\" for choropleth maps that bind Pandas Data Frames and json geometries together.  \n",
    "# This allows us to quickly visualize data combinations\n",
    "\n",
    "plot_data = average_career_salary_state['avg_salary_states']\n",
    "\n",
    "map.choropleth(geo_path = state_geo, data = plot_data,\n",
    "               columns = ['StateCode','Value'],\n",
    "               key_on = 'feature.id',  # refers to label in the JSON object that has country code as the feature ID\n",
    "               fill_color = 'YlGnBu', fill_opacity = 0.7,\n",
    "               line_opacity = 0.2,\n",
    "              # legend_name = legend_label\n",
    "              )\n",
    "\n",
    "# Create Folium plot\n",
    "map.save('plot_data.html')\n",
    "\n",
    "# Import the Folium interactive html file\n",
    "from IPython.display import HTML\n",
    "HTML('<iframe src=plot_data.html width=700 height=450></iframe>')"
   ]
  },
  {
   "cell_type": "code",
   "execution_count": null,
   "metadata": {
    "collapsed": false
   },
   "outputs": [],
   "source": [
    "team_avg_salary = grouped_salaries_team['salary'].mean()\n",
    "team_med_salary = grouped_salaries_team['salary'].median()\n",
    "\n",
    "print(team_avg_salary.head())\n",
    "print(team_med_salary.head())"
   ]
  },
  {
   "cell_type": "code",
   "execution_count": null,
   "metadata": {
    "collapsed": false
   },
   "outputs": [],
   "source": [
    "## create DataFrames of average and median salaries by team\n",
    "team_avg_salary = grouped_salaries_team['salary'].mean()\n",
    "team_med_salary = grouped_salaries_team['salary'].median()\n",
    "\n",
    "print(team_avg_salary.head())\n",
    "print(team_med_salary.head())"
   ]
  },
  {
   "cell_type": "code",
   "execution_count": null,
   "metadata": {
    "collapsed": false
   },
   "outputs": [],
   "source": [
    "## put the DataFrame into list for the index and arrays for the data\n",
    "sorted_teams = sorted(team_avg_salary['teamID'].unique())\n",
    "avg_team_salary = np.array(team_avg_salary['salary'])\n",
    "med_team_salary = np.array(team_med_salary['salary'])\n",
    "\n",
    "print(sorted_teams[:5])\n",
    "print(avg_team_salary[:5])\n",
    "print(med_team_salary[:5])"
   ]
  },
  {
   "cell_type": "code",
   "execution_count": null,
   "metadata": {
    "collapsed": false
   },
   "outputs": [],
   "source": [
    "## create new DataFrame with both arrays as columns\n",
    "average_team_salary_df = pd.DataFrame({\n",
    "    'med_salary': med_team_salary,\n",
    "    'avg_salary': avg_team_salary\n",
    "}, index = sorted_teams)\n",
    "\n",
    "average_team_salary_df.head()"
   ]
  },
  {
   "cell_type": "code",
   "execution_count": null,
   "metadata": {
    "collapsed": false
   },
   "outputs": [],
   "source": [
    "## Create 2 new DataFrames, sorted by respective columns\n",
    "sorted_avg_salary = average_team_salary_df.sort_values(by='avg_salary', ascending=False)\n",
    "sorted_med_salary = average_team_salary_df.sort_values(by='med_salary', ascending=False)\n",
    "\n",
    "print(sorted_avg_salary.head(),'\\n')\n",
    "print(sorted_med_salary.head())"
   ]
  },
  {
   "cell_type": "code",
   "execution_count": null,
   "metadata": {
    "collapsed": false
   },
   "outputs": [],
   "source": [
    "fig, axes = plt.subplots(1, 2, figsize=(15,8)) \n",
    "\n",
    "fig.suptitle(\"Team Data\", fontsize = 20, y = 0.95)\n",
    "\n",
    "sorted_avg_salary['avg_salary'].head(10).plot(kind = 'bar', ax = axes[1])\n",
    "sorted_med_salary['med_salary'].head(10).plot(kind = 'bar', ax = axes[0])\n",
    "\n",
    "axes[0].set_xlabel('Median')\n",
    "#axes[0].set_xticks()\n",
    "\n",
    "axes[1].set_xlabel('Average')\n",
    "#axes[1].set_xticks(rotation=45)\n",
    "\n",
    "plt.show()"
   ]
  }
 ],
 "metadata": {
  "anaconda-cloud": {},
  "kernelspec": {
   "display_name": "Python 3",
   "language": "python",
   "name": "python3"
  },
  "language_info": {
   "codemirror_mode": {
    "name": "ipython",
    "version": 3
   },
   "file_extension": ".py",
   "mimetype": "text/x-python",
   "name": "python",
   "nbconvert_exporter": "python",
   "pygments_lexer": "ipython3",
   "version": "3.6.0"
  }
 },
 "nbformat": 4,
 "nbformat_minor": 2
}
