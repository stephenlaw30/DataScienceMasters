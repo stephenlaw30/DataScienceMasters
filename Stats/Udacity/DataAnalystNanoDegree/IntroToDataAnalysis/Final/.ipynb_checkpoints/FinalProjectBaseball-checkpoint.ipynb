{
 "cells": [
  {
   "cell_type": "code",
   "execution_count": 1,
   "metadata": {
    "collapsed": true
   },
   "outputs": [],
   "source": [
    "import numpy as np\n",
    "import pandas as pd\n",
    "import matplotlib.pyplot as plt"
   ]
  },
  {
   "cell_type": "markdown",
   "metadata": {},
   "source": [
    "First, we need to import some datasets. I need to **Salaries** dataset for data about players and their salaries, the **CollegePlaying** dataset for data about what college a player went to, and then the **Schools** dataset for data about different colleges."
   ]
  },
  {
   "cell_type": "code",
   "execution_count": 2,
   "metadata": {
    "collapsed": true
   },
   "outputs": [],
   "source": [
    "## get datasets\n",
    "salaries = pd.read_csv('./files/Salaries.csv')\n",
    "schools = pd.read_csv('./files/Schools.csv')\n",
    "college = pd.read_csv('./files/CollegePlaying.csv')"
   ]
  },
  {
   "cell_type": "markdown",
   "metadata": {},
   "source": [
    "Now it's time to inspect them."
   ]
  },
  {
   "cell_type": "code",
   "execution_count": 3,
   "metadata": {
    "collapsed": false
   },
   "outputs": [
    {
     "data": {
      "text/html": [
       "<div>\n",
       "<style>\n",
       "    .dataframe thead tr:only-child th {\n",
       "        text-align: right;\n",
       "    }\n",
       "\n",
       "    .dataframe thead th {\n",
       "        text-align: left;\n",
       "    }\n",
       "\n",
       "    .dataframe tbody tr th {\n",
       "        vertical-align: top;\n",
       "    }\n",
       "</style>\n",
       "<table border=\"1\" class=\"dataframe\">\n",
       "  <thead>\n",
       "    <tr style=\"text-align: right;\">\n",
       "      <th></th>\n",
       "      <th>schoolID</th>\n",
       "      <th>name_full</th>\n",
       "      <th>city</th>\n",
       "      <th>state</th>\n",
       "      <th>country</th>\n",
       "    </tr>\n",
       "  </thead>\n",
       "  <tbody>\n",
       "    <tr>\n",
       "      <th>0</th>\n",
       "      <td>abilchrist</td>\n",
       "      <td>Abilene Christian University</td>\n",
       "      <td>Abilene</td>\n",
       "      <td>TX</td>\n",
       "      <td>USA</td>\n",
       "    </tr>\n",
       "    <tr>\n",
       "      <th>1</th>\n",
       "      <td>adelphi</td>\n",
       "      <td>Adelphi University</td>\n",
       "      <td>Garden City</td>\n",
       "      <td>NY</td>\n",
       "      <td>USA</td>\n",
       "    </tr>\n",
       "    <tr>\n",
       "      <th>2</th>\n",
       "      <td>adrianmi</td>\n",
       "      <td>Adrian College</td>\n",
       "      <td>Adrian</td>\n",
       "      <td>MI</td>\n",
       "      <td>USA</td>\n",
       "    </tr>\n",
       "    <tr>\n",
       "      <th>3</th>\n",
       "      <td>akron</td>\n",
       "      <td>University of Akron</td>\n",
       "      <td>Akron</td>\n",
       "      <td>OH</td>\n",
       "      <td>USA</td>\n",
       "    </tr>\n",
       "    <tr>\n",
       "      <th>4</th>\n",
       "      <td>alabama</td>\n",
       "      <td>University of Alabama</td>\n",
       "      <td>Tuscaloosa</td>\n",
       "      <td>AL</td>\n",
       "      <td>USA</td>\n",
       "    </tr>\n",
       "  </tbody>\n",
       "</table>\n",
       "</div>"
      ],
      "text/plain": [
       "     schoolID                     name_full         city state country\n",
       "0  abilchrist  Abilene Christian University      Abilene    TX     USA\n",
       "1     adelphi            Adelphi University  Garden City    NY     USA\n",
       "2    adrianmi                Adrian College       Adrian    MI     USA\n",
       "3       akron           University of Akron        Akron    OH     USA\n",
       "4     alabama         University of Alabama   Tuscaloosa    AL     USA"
      ]
     },
     "execution_count": 3,
     "metadata": {},
     "output_type": "execute_result"
    }
   ],
   "source": [
    "schools.head()"
   ]
  },
  {
   "cell_type": "code",
   "execution_count": 4,
   "metadata": {
    "collapsed": false
   },
   "outputs": [
    {
     "data": {
      "text/html": [
       "<div>\n",
       "<style>\n",
       "    .dataframe thead tr:only-child th {\n",
       "        text-align: right;\n",
       "    }\n",
       "\n",
       "    .dataframe thead th {\n",
       "        text-align: left;\n",
       "    }\n",
       "\n",
       "    .dataframe tbody tr th {\n",
       "        vertical-align: top;\n",
       "    }\n",
       "</style>\n",
       "<table border=\"1\" class=\"dataframe\">\n",
       "  <thead>\n",
       "    <tr style=\"text-align: right;\">\n",
       "      <th></th>\n",
       "      <th>yearID</th>\n",
       "      <th>teamID</th>\n",
       "      <th>lgID</th>\n",
       "      <th>playerID</th>\n",
       "      <th>salary</th>\n",
       "    </tr>\n",
       "  </thead>\n",
       "  <tbody>\n",
       "    <tr>\n",
       "      <th>0</th>\n",
       "      <td>1985</td>\n",
       "      <td>ATL</td>\n",
       "      <td>NL</td>\n",
       "      <td>barkele01</td>\n",
       "      <td>870000</td>\n",
       "    </tr>\n",
       "    <tr>\n",
       "      <th>1</th>\n",
       "      <td>1985</td>\n",
       "      <td>ATL</td>\n",
       "      <td>NL</td>\n",
       "      <td>bedrost01</td>\n",
       "      <td>550000</td>\n",
       "    </tr>\n",
       "    <tr>\n",
       "      <th>2</th>\n",
       "      <td>1985</td>\n",
       "      <td>ATL</td>\n",
       "      <td>NL</td>\n",
       "      <td>benedbr01</td>\n",
       "      <td>545000</td>\n",
       "    </tr>\n",
       "    <tr>\n",
       "      <th>3</th>\n",
       "      <td>1985</td>\n",
       "      <td>ATL</td>\n",
       "      <td>NL</td>\n",
       "      <td>campri01</td>\n",
       "      <td>633333</td>\n",
       "    </tr>\n",
       "    <tr>\n",
       "      <th>4</th>\n",
       "      <td>1985</td>\n",
       "      <td>ATL</td>\n",
       "      <td>NL</td>\n",
       "      <td>ceronri01</td>\n",
       "      <td>625000</td>\n",
       "    </tr>\n",
       "  </tbody>\n",
       "</table>\n",
       "</div>"
      ],
      "text/plain": [
       "   yearID teamID lgID   playerID  salary\n",
       "0    1985    ATL   NL  barkele01  870000\n",
       "1    1985    ATL   NL  bedrost01  550000\n",
       "2    1985    ATL   NL  benedbr01  545000\n",
       "3    1985    ATL   NL   campri01  633333\n",
       "4    1985    ATL   NL  ceronri01  625000"
      ]
     },
     "execution_count": 4,
     "metadata": {},
     "output_type": "execute_result"
    }
   ],
   "source": [
    "salaries.head()"
   ]
  },
  {
   "cell_type": "code",
   "execution_count": 5,
   "metadata": {
    "collapsed": false
   },
   "outputs": [
    {
     "data": {
      "text/html": [
       "<div>\n",
       "<style>\n",
       "    .dataframe thead tr:only-child th {\n",
       "        text-align: right;\n",
       "    }\n",
       "\n",
       "    .dataframe thead th {\n",
       "        text-align: left;\n",
       "    }\n",
       "\n",
       "    .dataframe tbody tr th {\n",
       "        vertical-align: top;\n",
       "    }\n",
       "</style>\n",
       "<table border=\"1\" class=\"dataframe\">\n",
       "  <thead>\n",
       "    <tr style=\"text-align: right;\">\n",
       "      <th></th>\n",
       "      <th>playerID</th>\n",
       "      <th>schoolID</th>\n",
       "      <th>yearID</th>\n",
       "    </tr>\n",
       "  </thead>\n",
       "  <tbody>\n",
       "    <tr>\n",
       "      <th>0</th>\n",
       "      <td>aardsda01</td>\n",
       "      <td>pennst</td>\n",
       "      <td>2001</td>\n",
       "    </tr>\n",
       "    <tr>\n",
       "      <th>1</th>\n",
       "      <td>aardsda01</td>\n",
       "      <td>rice</td>\n",
       "      <td>2002</td>\n",
       "    </tr>\n",
       "    <tr>\n",
       "      <th>2</th>\n",
       "      <td>aardsda01</td>\n",
       "      <td>rice</td>\n",
       "      <td>2003</td>\n",
       "    </tr>\n",
       "    <tr>\n",
       "      <th>3</th>\n",
       "      <td>abadan01</td>\n",
       "      <td>gamiddl</td>\n",
       "      <td>1992</td>\n",
       "    </tr>\n",
       "    <tr>\n",
       "      <th>4</th>\n",
       "      <td>abadan01</td>\n",
       "      <td>gamiddl</td>\n",
       "      <td>1993</td>\n",
       "    </tr>\n",
       "  </tbody>\n",
       "</table>\n",
       "</div>"
      ],
      "text/plain": [
       "    playerID schoolID  yearID\n",
       "0  aardsda01   pennst    2001\n",
       "1  aardsda01     rice    2002\n",
       "2  aardsda01     rice    2003\n",
       "3   abadan01  gamiddl    1992\n",
       "4   abadan01  gamiddl    1993"
      ]
     },
     "execution_count": 5,
     "metadata": {},
     "output_type": "execute_result"
    }
   ],
   "source": [
    "college.head()"
   ]
  },
  {
   "cell_type": "markdown",
   "metadata": {},
   "source": [
    "<h1> AVERAGE SALARIES BY MOST POPULAR SCHOOL, MOST POPULAR STATE FOR COLLEGE </h1>"
   ]
  },
  {
   "cell_type": "markdown",
   "metadata": {},
   "source": [
    "It looks like in order to figure out which college a player went to and which state that college is in, I need to **merge** the Salaries dataset (**salaries**) with the CollegePlaying dataset (**college**) by **playerID**.\n",
    "\n",
    "Then I'd need to merge *again* in order to combine this new dataset, **salaries_college** with the Schools dataset (**schools**) on the **schoolID** to bring in what state the college is in, and I'll call this final dataset **salaries_college_state**"
   ]
  },
  {
   "cell_type": "code",
   "execution_count": 6,
   "metadata": {
    "collapsed": false
   },
   "outputs": [
    {
     "data": {
      "text/html": [
       "<div>\n",
       "<style>\n",
       "    .dataframe thead tr:only-child th {\n",
       "        text-align: right;\n",
       "    }\n",
       "\n",
       "    .dataframe thead th {\n",
       "        text-align: left;\n",
       "    }\n",
       "\n",
       "    .dataframe tbody tr th {\n",
       "        vertical-align: top;\n",
       "    }\n",
       "</style>\n",
       "<table border=\"1\" class=\"dataframe\">\n",
       "  <thead>\n",
       "    <tr style=\"text-align: right;\">\n",
       "      <th></th>\n",
       "      <th>yearID</th>\n",
       "      <th>teamID</th>\n",
       "      <th>lgID</th>\n",
       "      <th>playerID</th>\n",
       "      <th>salary</th>\n",
       "      <th>schoolID</th>\n",
       "      <th>state</th>\n",
       "      <th>name_full</th>\n",
       "    </tr>\n",
       "  </thead>\n",
       "  <tbody>\n",
       "    <tr>\n",
       "      <th>0</th>\n",
       "      <td>1985</td>\n",
       "      <td>ATL</td>\n",
       "      <td>NL</td>\n",
       "      <td>bedrost01</td>\n",
       "      <td>550000</td>\n",
       "      <td>newhaven</td>\n",
       "      <td>CT</td>\n",
       "      <td>University of New Haven</td>\n",
       "    </tr>\n",
       "    <tr>\n",
       "      <th>1</th>\n",
       "      <td>1986</td>\n",
       "      <td>PHI</td>\n",
       "      <td>NL</td>\n",
       "      <td>bedrost01</td>\n",
       "      <td>650000</td>\n",
       "      <td>newhaven</td>\n",
       "      <td>CT</td>\n",
       "      <td>University of New Haven</td>\n",
       "    </tr>\n",
       "    <tr>\n",
       "      <th>2</th>\n",
       "      <td>1987</td>\n",
       "      <td>PHI</td>\n",
       "      <td>NL</td>\n",
       "      <td>bedrost01</td>\n",
       "      <td>1050000</td>\n",
       "      <td>newhaven</td>\n",
       "      <td>CT</td>\n",
       "      <td>University of New Haven</td>\n",
       "    </tr>\n",
       "    <tr>\n",
       "      <th>3</th>\n",
       "      <td>1988</td>\n",
       "      <td>PHI</td>\n",
       "      <td>NL</td>\n",
       "      <td>bedrost01</td>\n",
       "      <td>925000</td>\n",
       "      <td>newhaven</td>\n",
       "      <td>CT</td>\n",
       "      <td>University of New Haven</td>\n",
       "    </tr>\n",
       "    <tr>\n",
       "      <th>4</th>\n",
       "      <td>1989</td>\n",
       "      <td>PHI</td>\n",
       "      <td>NL</td>\n",
       "      <td>bedrost01</td>\n",
       "      <td>1450000</td>\n",
       "      <td>newhaven</td>\n",
       "      <td>CT</td>\n",
       "      <td>University of New Haven</td>\n",
       "    </tr>\n",
       "  </tbody>\n",
       "</table>\n",
       "</div>"
      ],
      "text/plain": [
       "   yearID teamID lgID   playerID   salary  schoolID state  \\\n",
       "0    1985    ATL   NL  bedrost01   550000  newhaven    CT   \n",
       "1    1986    PHI   NL  bedrost01   650000  newhaven    CT   \n",
       "2    1987    PHI   NL  bedrost01  1050000  newhaven    CT   \n",
       "3    1988    PHI   NL  bedrost01   925000  newhaven    CT   \n",
       "4    1989    PHI   NL  bedrost01  1450000  newhaven    CT   \n",
       "\n",
       "                 name_full  \n",
       "0  University of New Haven  \n",
       "1  University of New Haven  \n",
       "2  University of New Haven  \n",
       "3  University of New Haven  \n",
       "4  University of New Haven  "
      ]
     },
     "execution_count": 6,
     "metadata": {},
     "output_type": "execute_result"
    }
   ],
   "source": [
    "## bring in school to player salary DataFrame\n",
    "salaries_college = pd.merge(salaries,college.iloc[:,:2], on='playerID')\n",
    "\n",
    "## bring in college state into new DataFrame\n",
    "salaries_college_state = pd.merge(salaries_college,schools[['schoolID','state','name_full']],on='schoolID')\n",
    "\n",
    "## inspect DataFrame\n",
    "salaries_college_state.head()"
   ]
  },
  {
   "cell_type": "markdown",
   "metadata": {},
   "source": [
    "Next, to see the most popular colleges in this dataset, I need to group the records by schoolID and then count how many records appear in each group."
   ]
  },
  {
   "cell_type": "code",
   "execution_count": 7,
   "metadata": {
    "collapsed": false,
    "scrolled": true
   },
   "outputs": [
    {
     "data": {
      "text/plain": [
       "schoolID   schoolID \n",
       "ucla       ucla         718\n",
       "usc        usc          655\n",
       "arizonast  arizonast    632\n",
       "stanford   stanford     595\n",
       "lsu        lsu          592\n",
       "miamifl    miamifl      492\n",
       "floridast  floridast    487\n",
       "texas      texas        477\n",
       "calstfull  calstfull    471\n",
       "gatech     gatech       446\n",
       "Name: schoolID, dtype: int64"
      ]
     },
     "execution_count": 7,
     "metadata": {},
     "output_type": "execute_result"
    }
   ],
   "source": [
    "## get count of schools and sort in descending order\n",
    "popular_schools = salaries_college_state['schoolID'].groupby(salaries_college_state['schoolID']).value_counts().sort_values(ascending = False)\n",
    "\n",
    "## view top 10 most popular schools\n",
    "popular_schools.head(10)"
   ]
  },
  {
   "cell_type": "markdown",
   "metadata": {},
   "source": [
    "But wait. Unfortunately, this is the total count of all schoolID's in the dataset, but it is not accounting for multiple records of the same player, and therefore I've got duplicate counts.\n",
    "\n",
    "I need to group records colleges by player and *then* group them by college and count *these* values to get the counts of unique players from each college. I'm also going to start using **name_full** instead of schoolID in order to make it more digestable for readers.\n",
    "\n",
    "I can then do this same process but for the states in which colleges are located by grouping by state after grouping by player."
   ]
  },
  {
   "cell_type": "code",
   "execution_count": 8,
   "metadata": {
    "collapsed": false
   },
   "outputs": [],
   "source": [
    "## get unique combo of player + school to get counts of schools a player went to\n",
    "grouped_salaries_college = salaries_college_state.groupby(['playerID','name_full'], as_index=False)\n",
    "\n",
    "## do the same for player and state of college\n",
    "grouped_salaries_state = salaries_college_state.groupby(['playerID','state'], as_index=False)"
   ]
  },
  {
   "cell_type": "markdown",
   "metadata": {},
   "source": [
    "Now, I need to get grab out the mean career salaries of each player and also include the college and college state of those players."
   ]
  },
  {
   "cell_type": "code",
   "execution_count": 9,
   "metadata": {
    "collapsed": false
   },
   "outputs": [
    {
     "name": "stdout",
     "output_type": "stream",
     "text": [
      "Mean Salaries by College: \n",
      "                        name_full        salary   playerID\n",
      "0  Pennsylvania State University  1.322821e+06  aardsda01\n",
      "1                Rice University  1.322821e+06  aardsda01\n",
      "2         Middle Georgia College  3.270000e+05   abadan01\n",
      "3         University of Kentucky  2.462500e+05  abbotje01\n",
      "4         University of Michigan  1.440056e+06  abbotji01 \n",
      "\n",
      "Mean Salaries by State: \n",
      "   state        salary   playerID\n",
      "0    PA  1.322821e+06  aardsda01\n",
      "1    TX  1.322821e+06  aardsda01\n",
      "2    GA  3.270000e+05   abadan01\n",
      "3    KY  2.462500e+05  abbotje01\n",
      "4    MI  1.440056e+06  abbotji01\n"
     ]
    }
   ],
   "source": [
    "## get mean career salary of players by college and by state\n",
    "mean_salary_player_college = grouped_salaries_college.mean()[['name_full','salary','playerID']]\n",
    "mean_salary_player_state = grouped_salaries_state.mean()[['state','salary','playerID']]\n",
    "\n",
    "print('Mean Salaries by College:','\\n',mean_salary_player_college.head(),'\\n')\n",
    "#print(type(mean_salary_player_college),'\\n')\n",
    "print('Mean Salaries by State:','\\n',mean_salary_player_state.head())"
   ]
  },
  {
   "cell_type": "markdown",
   "metadata": {},
   "source": [
    "Notice that some players went to 2 colleges. I'll ignore that for this analysis.\n",
    "\n",
    "Now since I want to apply this data to just the most \"popular\" colleges and states, I need figure out which colleges and states those are"
   ]
  },
  {
   "cell_type": "code",
   "execution_count": 10,
   "metadata": {
    "collapsed": false
   },
   "outputs": [
    {
     "name": "stdout",
     "output_type": "stream",
     "text": [
      "name_full\n",
      "Arizona State University                 51\n",
      "University of Southern California        44\n",
      "Stanford University                      44\n",
      "University of California, Los Angeles    41\n",
      "University of Texas at Austin            41\n",
      "Louisiana State University               40\n",
      "University of Miami                      38\n",
      "California State University Fullerton    34\n",
      "Oklahoma State University                33\n",
      "University of Arizona                    33\n",
      "Name: playerID, dtype: int64 \n",
      "\n",
      "state\n",
      "CA    596\n",
      "FL    275\n",
      "TX    255\n",
      "AZ    122\n",
      "LA    103\n",
      "OK    101\n",
      "NC    101\n",
      "IL     96\n",
      "SC     81\n",
      "AL     78\n",
      "Name: playerID, dtype: int64\n"
     ]
    }
   ],
   "source": [
    "## find most frequent colleges + states\n",
    "top_colleges = mean_salary_player_college['playerID'].groupby(mean_salary_player_college['name_full']).count().sort_values(ascending = False)\n",
    "print(top_colleges.head(10),'\\n')\n",
    "\n",
    "top_states = mean_salary_player_state['playerID'].groupby(mean_salary_player_state['state']).count().sort_values(ascending = False)\n",
    "print(top_states.head(10))"
   ]
  },
  {
   "cell_type": "markdown",
   "metadata": {},
   "source": [
    "Now, I want to place these colleges and states into a list and then filter out our DataFrames of the mean salaries to just contain these colleges and state.\n",
    "\n",
    "Also, I am going to cut down the states to just those with over 100 records (players), just because."
   ]
  },
  {
   "cell_type": "code",
   "execution_count": 11,
   "metadata": {
    "collapsed": false
   },
   "outputs": [
    {
     "name": "stdout",
     "output_type": "stream",
     "text": [
      "                                name_full        salary\n",
      "10          University of Texas at Austin  4.265000e+05\n",
      "18                    Stanford University  1.478333e+05\n",
      "20              Oklahoma State University  3.010000e+05\n",
      "24             Louisiana State University  2.848750e+05\n",
      "29                    Stanford University  2.615000e+05\n",
      "39                    University of Miami  1.560000e+06\n",
      "43      University of Southern California  1.700000e+05\n",
      "49  University of California, Los Angeles  3.962500e+05\n",
      "50                    Stanford University  1.780000e+05\n",
      "51  University of California, Los Angeles  4.467000e+05 \n",
      "\n",
      "   state        salary\n",
      "1     TX  1.322821e+06\n",
      "5     CA  1.295000e+05\n",
      "6     FL  3.270000e+05\n",
      "9     TX  4.265000e+05\n",
      "10    NC  2.460000e+06\n",
      "13    CA  1.805000e+05\n",
      "15    TX  2.954400e+06\n",
      "16    NC  3.295000e+05\n",
      "17    CA  1.478333e+05\n",
      "19    OK  3.010000e+05\n"
     ]
    }
   ],
   "source": [
    "## create lists of top colleges and states\n",
    "college_names = ['Arizona State University', 'University of Southern California', 'Stanford University', \n",
    "                 'University of California, Los Angeles', 'University of Texas at Austin', 'Louisiana State University',\n",
    "                 'University of Miami', 'California State University Fullerton', 'Oklahoma State University', \n",
    "                 'University of Arizona']\n",
    "state_names = ['CA','FL','TX','AZ','LA','OK','NC']\n",
    "\n",
    "## get just those records from top schools and top states\n",
    "top_colleges_avg_salary = mean_salary_player_college[mean_salary_player_college['name_full'].isin(college_names)][['name_full','salary']]\n",
    "top_states_avg_salary = mean_salary_player_state[mean_salary_player_state['state'].isin(state_names)][['state','salary']]\n",
    "\n",
    "print(top_colleges_avg_salary.head(10),'\\n')\n",
    "print(top_states_avg_salary.head(10))"
   ]
  },
  {
   "cell_type": "markdown",
   "metadata": {},
   "source": [
    "Next, I need to group these average career salaries by college and by state and then take the mean in order to get the average career salary of all players that went to my selected colleges and went to college in my selected states."
   ]
  },
  {
   "cell_type": "code",
   "execution_count": 12,
   "metadata": {
    "collapsed": false
   },
   "outputs": [
    {
     "name": "stdout",
     "output_type": "stream",
     "text": [
      "[ 1367384.31788712  1092950.99924765  1221145.03250888   860608.77326377\n",
      "  1091013.31845238   853386.00467136  1283692.32301421  1658218.56270075\n",
      "  1579411.07092175   868401.947516  ] \n",
      "\n",
      "[ 1155620.47824875  1110263.94430724  1035668.07309999  1087084.27247566\n",
      "   837998.14845935   881364.40639949  1021279.06790348] \n",
      "\n"
     ]
    }
   ],
   "source": [
    "# group the career salaries by college + state and inspect\n",
    "print(np.array(top_colleges_avg_salary['salary'].groupby(top_colleges_avg_salary['name_full']).mean()),'\\n')\n",
    "print(np.array(top_states_avg_salary['salary'].groupby(top_states_avg_salary['state']).mean()),'\\n')"
   ]
  },
  {
   "cell_type": "markdown",
   "metadata": {
    "collapsed": true
   },
   "source": [
    "So I've got 10 mean career salaries by college and 10 mean career salaries by state. Now, I am going to sort these college names and state names alphabetically, grab their mean and median career salaries and place them into NumPy arrays, and then construct 3 DataFrames where the 1st column will be the college/state name, and the next 2 columns would be the mean career salary and median career salary for that college/state, respectively.\n",
    "\n",
    "I am going to change my index from the full college name to the typical abbreviations for these colleges that one would see for during a sports broadcast in order to make them easier to plot on an axis."
   ]
  },
  {
   "cell_type": "code",
   "execution_count": 13,
   "metadata": {
    "collapsed": false
   },
   "outputs": [
    {
     "name": "stdout",
     "output_type": "stream",
     "text": [
      "     avg_salary_college  med_salary_college\n",
      "ARI        1.367384e+06       477500.000000\n",
      "ASU        1.092951e+06       498125.000000\n",
      "CAL        1.221145e+06       515391.666667\n",
      "LSU        8.606088e+05       401000.000000\n",
      "MIA        1.091013e+06       401500.000000 \n",
      "\n",
      "    avg_salary_states  med_salary_states\n",
      "AZ       1.155620e+06           434125.0\n",
      "CA       1.110264e+06           463000.0\n",
      "FL       1.035668e+06           414000.0\n",
      "LA       1.087084e+06           440500.0\n",
      "NC       8.379981e+05           490500.0\n"
     ]
    }
   ],
   "source": [
    "## sort indices and create arrays of mean and median career salaries\n",
    "sorted_colleges = sorted(['ASU', 'USC', 'STN','UCLA', 'UT', 'LSU','MIA', 'CAL', 'OSU','ARI'])\n",
    "med_salary_college = np.array(top_colleges_avg_salary['salary'].groupby(top_colleges_avg_salary['name_full']).median())\n",
    "avg_salary_college = np.array(top_colleges_avg_salary['salary'].groupby(top_colleges_avg_salary['name_full']).mean())\n",
    "\n",
    "sorted_states = sorted(top_states_avg_salary['state'].unique())\n",
    "med_salary_states = np.array(top_states_avg_salary['salary'].groupby(top_states_avg_salary['state']).median())\n",
    "avg_salary_states = np.array(top_states_avg_salary['salary'].groupby(top_states_avg_salary['state']).mean())\n",
    "\n",
    "## create DataFrames\n",
    "average_career_salary_college = pd.DataFrame({\n",
    "    'med_salary_college': med_salary_college,\n",
    "    'avg_salary_college': avg_salary_college\n",
    "}, index = sorted_colleges)\n",
    "\n",
    "average_career_salary_state = pd.DataFrame({\n",
    "    'med_salary_states': med_salary_states,\n",
    "    'avg_salary_states': avg_salary_states\n",
    "}, index = sorted_states)\n",
    "\n",
    "# inspect DataFrames\n",
    "print(average_career_salary_college.head(),'\\n')\n",
    "print(average_career_salary_state.head())"
   ]
  },
  {
   "cell_type": "markdown",
   "metadata": {
    "collapsed": true
   },
   "source": [
    "Now it's time to plot them"
   ]
  },
  {
   "cell_type": "code",
   "execution_count": 57,
   "metadata": {
    "collapsed": false
   },
   "outputs": [
    {
     "data": {
      "image/png": "[encoded data removed]",
      "text/plain": [
       "<matplotlib.figure.Figure at 0x26b45717a58>"
      ]
     },
     "metadata": {},
     "output_type": "display_data"
    }
   ],
   "source": [
    "## test plot\n",
    "%matplotlib inline\n",
    "\n",
    "fig, axes = plt.subplots(1, 2, figsize=(15,8)) \n",
    "\n",
    "fig.suptitle(\"College Data\", fontsize = 20, y = 0.95)\n",
    "\n",
    "average_career_salary_college['med_salary_college'].plot(kind = 'bar', ax = axes[0])\n",
    "average_career_salary_college['avg_salary_college'].plot(kind = 'bar', ax = axes[1])\n",
    "\n",
    "axes[0].set_title('Median Career Salary of Players from The Most Popular Colleges')\n",
    "axes[0].set_xlabel('College')\n",
    "axes[0].set_ylabel('Salary ($)')\n",
    "axes[0].set_xticklabels(average_career_salary_college.index, rotation=45)\n",
    "\n",
    "axes[1].set_title('Average Career Salary of Players from The Most Popular Colleges')\n",
    "axes[1].set_xlabel('College')\n",
    "axes[1].set_ylabel('Salary ($)')\n",
    "axes[1].set_xticklabels(average_career_salary_college.index, rotation=45)\n",
    "\n",
    "plt.show()"
   ]
  },
  {
   "cell_type": "code",
   "execution_count": 70,
   "metadata": {
    "collapsed": false
   },
   "outputs": [
    {
     "data": {
      "text/plain": [
       "array([[<matplotlib.axes._subplots.AxesSubplot object at 0x0000026B49102588>]], dtype=object)"
      ]
     },
     "execution_count": 70,
     "metadata": {},
     "output_type": "execute_result"
    },
    {
     "data": {
      "image/png": "[encoded data removed]",
      "text/plain": [
       "<matplotlib.figure.Figure at 0x26b490fdeb8>"
      ]
     },
     "metadata": {},
     "output_type": "display_data"
    }
   ],
   "source": [
    "#ratings.hist(column = 'rating', figsize = (7,7))\n",
    "top_colleges_avg_salary[top_colleges_avg_salary['name_full'] == 'University of Miami'].hist()"
   ]
  },
  {
   "cell_type": "code",
   "execution_count": 71,
   "metadata": {
    "collapsed": false
   },
   "outputs": [
    {
     "data": {
      "text/plain": [
       "array([[<matplotlib.axes._subplots.AxesSubplot object at 0x0000026B46BF2978>]], dtype=object)"
      ]
     },
     "execution_count": 71,
     "metadata": {},
     "output_type": "execute_result"
    },
    {
     "data": {
      "image/png": "[encoded data removed]",
      "text/plain": [
       "<matplotlib.figure.Figure at 0x26b4906a278>"
      ]
     },
     "metadata": {},
     "output_type": "display_data"
    }
   ],
   "source": [
    "top_colleges_avg_salary[top_colleges_avg_salary['name_full'] == 'University of Southern California'].hist()"
   ]
  },
  {
   "cell_type": "markdown",
   "metadata": {},
   "source": [
    "So we can see that players that went to University of Southern California had the highest median salary (~ 1.5x more than most other colleges), as well as the second highest average salary. This indicates that this could possible be a good choise of school for a player to earn a lot of money in the pros.\n",
    "\n",
    "The average salaries were a lot more varied among colleges, with UCLA being to college with the highest overall salary and Oklahoma State University being the lowest, with the University of Miami and University of Texas - Austin not far behind.\n",
    "\n",
    "I'd assume these distributions would not be too normal, so the median would be the better bar plot to take note of."
   ]
  },
  {
   "cell_type": "code",
   "execution_count": 56,
   "metadata": {
    "collapsed": false
   },
   "outputs": [
    {
     "data": {
      "image/png": "[encoded data removed]",
      "text/plain": [
       "<matplotlib.figure.Figure at 0x26b49101ba8>"
      ]
     },
     "metadata": {},
     "output_type": "display_data"
    }
   ],
   "source": [
    "fig, axes = plt.subplots(1, 2, figsize=(15,8)) \n",
    "\n",
    "fig.suptitle(\"State Data\", fontsize = 20, y = 0.95)\n",
    "\n",
    "average_career_salary_state['med_salary_states'].plot(kind = 'bar', ax = axes[0])\n",
    "average_career_salary_state['avg_salary_states'].plot(kind = 'bar', ax = axes[1])\n",
    "\n",
    "axes[0].set_title('Median Career Salary of Players from The Most Popular States for College')\n",
    "axes[0].set_xlabel('State for College')\n",
    "axes[0].set_ylabel('Salary ($)')\n",
    "axes[0].set_xticklabels(average_career_salary_state.index, rotation=45)\n",
    "    \n",
    "axes[1].set_title('Average Career Salary of Players from The Most Popular States for College')\n",
    "axes[1].set_xlabel('State for College')\n",
    "axes[1].set_ylabel('Salary ($)')\n",
    "axes[1].set_xticklabels(average_career_salary_state.index, rotation=45)\n",
    "\n",
    "plt.show()"
   ]
  },
  {
   "cell_type": "markdown",
   "metadata": {},
   "source": [
    "It looks like this dataset doesn't give an indication of the best state to go to college in in order bring up one's chances to make a higher career salary.\n",
    "\n",
    "North Carolina has the highest median career salary, followed by California and Arizona. But, Arizona has the highest average career salary, followed by California and Louisiana.\n",
    "\n",
    "So maybe Arizona and California are the states one would want to look at to play for in college in order to bolster their chances at making a greater salary over their career in the pros. From the college analysis earlier, it looks like USC could be the overall best best in this case."
   ]
  },
  {
   "cell_type": "code",
   "execution_count": 16,
   "metadata": {
    "collapsed": false
   },
   "outputs": [
    {
     "ename": "FileNotFoundError",
     "evalue": "[Errno 2] No such file or directory: 'C:/folium-master/examples/data/us-states.json'",
     "output_type": "error",
     "traceback": [
      "\u001b[0;31m---------------------------------------------------------------------------\u001b[0m",
      "\u001b[0;31mFileNotFoundError\u001b[0m                         Traceback (most recent call last)",
      "\u001b[0;32m<ipython-input-16-d3e08c3303ea>\u001b[0m in \u001b[0;36m<module>\u001b[0;34m()\u001b[0m\n\u001b[1;32m     15\u001b[0m                \u001b[0mkey_on\u001b[0m \u001b[1;33m=\u001b[0m \u001b[1;34m'feature.id'\u001b[0m\u001b[1;33m,\u001b[0m  \u001b[1;31m# refers to label in the JSON object that has country code as the feature ID\u001b[0m\u001b[1;33m\u001b[0m\u001b[0m\n\u001b[1;32m     16\u001b[0m                \u001b[0mfill_color\u001b[0m \u001b[1;33m=\u001b[0m \u001b[1;34m'YlGnBu'\u001b[0m\u001b[1;33m,\u001b[0m \u001b[0mfill_opacity\u001b[0m \u001b[1;33m=\u001b[0m \u001b[1;36m0.7\u001b[0m\u001b[1;33m,\u001b[0m\u001b[1;33m\u001b[0m\u001b[0m\n\u001b[0;32m---> 17\u001b[0;31m                \u001b[0mline_opacity\u001b[0m \u001b[1;33m=\u001b[0m \u001b[1;36m0.2\u001b[0m\u001b[1;33m,\u001b[0m\u001b[1;33m\u001b[0m\u001b[0m\n\u001b[0m\u001b[1;32m     18\u001b[0m               \u001b[1;31m# legend_name = legend_label\u001b[0m\u001b[1;33m\u001b[0m\u001b[1;33m\u001b[0m\u001b[0m\n\u001b[1;32m     19\u001b[0m               )\n",
      "\u001b[0;32mC:\\Users\\Nimz\\Anaconda3\\lib\\site-packages\\folium\\folium.py\u001b[0m in \u001b[0;36mchoropleth\u001b[0;34m(self, geo_path, geo_str, data_out, data, columns, key_on, threshold_scale, fill_color, fill_opacity, line_color, line_weight, line_opacity, legend_name, topojson, reset, smooth_factor, highlight)\u001b[0m\n\u001b[1;32m    252\u001b[0m         \u001b[1;31m# Create GeoJson object\u001b[0m\u001b[1;33m\u001b[0m\u001b[1;33m\u001b[0m\u001b[0m\n\u001b[1;32m    253\u001b[0m         \u001b[1;32mif\u001b[0m \u001b[0mgeo_path\u001b[0m\u001b[1;33m:\u001b[0m\u001b[1;33m\u001b[0m\u001b[0m\n\u001b[0;32m--> 254\u001b[0;31m             \u001b[0mgeo_data\u001b[0m \u001b[1;33m=\u001b[0m \u001b[0mopen\u001b[0m\u001b[1;33m(\u001b[0m\u001b[0mgeo_path\u001b[0m\u001b[1;33m)\u001b[0m\u001b[1;33m\u001b[0m\u001b[0m\n\u001b[0m\u001b[1;32m    255\u001b[0m         \u001b[1;32melif\u001b[0m \u001b[0mgeo_str\u001b[0m\u001b[1;33m:\u001b[0m\u001b[1;33m\u001b[0m\u001b[0m\n\u001b[1;32m    256\u001b[0m             \u001b[0mgeo_data\u001b[0m \u001b[1;33m=\u001b[0m \u001b[0mgeo_str\u001b[0m\u001b[1;33m\u001b[0m\u001b[0m\n",
      "\u001b[0;31mFileNotFoundError\u001b[0m: [Errno 2] No such file or directory: 'C:/folium-master/examples/data/us-states.json'"
     ]
    }
   ],
   "source": [
    "import folium # conda install -c ioos folium=0.2.1 \n",
    "\n",
    "state_geo = 'C:/folium-master/examples/data/us-states.json' # from w/in folium package\n",
    "\n",
    "# Setup a folium map at a high-level zoom @Alok (100,0) are NOT lat long coordinates\n",
    "map = folium.Map(location = [100, 0], zoom_start = 1.5)\n",
    "\n",
    "# use built-in method \"choropleth\" for choropleth maps that bind Pandas Data Frames and json geometries together.  \n",
    "# This allows us to quickly visualize data combinations\n",
    "\n",
    "plot_data = average_career_salary_state['med_salary_states']\n",
    "\n",
    "map.choropleth(geo_path = state_geo, data = plot_data,\n",
    "               columns = ['StateCode','Value'],\n",
    "               key_on = 'feature.id',  # refers to label in the JSON object that has country code as the feature ID\n",
    "               fill_color = 'YlGnBu', fill_opacity = 0.7,\n",
    "               line_opacity = 0.2,\n",
    "              # legend_name = legend_label\n",
    "              )\n",
    "\n",
    "# Create Folium plot\n",
    "map.save('plot_data.html')\n",
    "\n",
    "# Import the Folium interactive html file\n",
    "from IPython.display import HTML\n",
    "HTML('<iframe src=plot_data.html width=700 height=450></iframe>')"
   ]
  },
  {
   "cell_type": "code",
   "execution_count": 17,
   "metadata": {
    "collapsed": false
   },
   "outputs": [
    {
     "data": {
      "text/html": [
       "<div>\n",
       "<style>\n",
       "    .dataframe thead tr:only-child th {\n",
       "        text-align: right;\n",
       "    }\n",
       "\n",
       "    .dataframe thead th {\n",
       "        text-align: left;\n",
       "    }\n",
       "\n",
       "    .dataframe tbody tr th {\n",
       "        vertical-align: top;\n",
       "    }\n",
       "</style>\n",
       "<table border=\"1\" class=\"dataframe\">\n",
       "  <thead>\n",
       "    <tr style=\"text-align: right;\">\n",
       "      <th></th>\n",
       "      <th>teamID</th>\n",
       "      <th>salary</th>\n",
       "    </tr>\n",
       "  </thead>\n",
       "  <tbody>\n",
       "    <tr>\n",
       "      <th>0</th>\n",
       "      <td>ANA</td>\n",
       "      <td>1.941196e+06</td>\n",
       "    </tr>\n",
       "    <tr>\n",
       "      <th>1</th>\n",
       "      <td>ARI</td>\n",
       "      <td>2.669340e+06</td>\n",
       "    </tr>\n",
       "    <tr>\n",
       "      <th>2</th>\n",
       "      <td>ATL</td>\n",
       "      <td>1.677754e+06</td>\n",
       "    </tr>\n",
       "    <tr>\n",
       "      <th>3</th>\n",
       "      <td>BAL</td>\n",
       "      <td>1.998160e+06</td>\n",
       "    </tr>\n",
       "    <tr>\n",
       "      <th>4</th>\n",
       "      <td>BOS</td>\n",
       "      <td>2.503153e+06</td>\n",
       "    </tr>\n",
       "  </tbody>\n",
       "</table>\n",
       "</div>"
      ],
      "text/plain": [
       "  teamID        salary\n",
       "0    ANA  1.941196e+06\n",
       "1    ARI  2.669340e+06\n",
       "2    ATL  1.677754e+06\n",
       "3    BAL  1.998160e+06\n",
       "4    BOS  2.503153e+06"
      ]
     },
     "execution_count": 17,
     "metadata": {},
     "output_type": "execute_result"
    }
   ],
   "source": [
    "## group dataframe by team, check mean salary of each\n",
    "\n",
    "grouped_salaries_team = salaries_college_state.groupby(['teamID'], as_index=False)\n",
    "grouped_salaries_team['salary'].mean().head()"
   ]
  },
  {
   "cell_type": "code",
   "execution_count": 18,
   "metadata": {
    "collapsed": false
   },
   "outputs": [
    {
     "name": "stdout",
     "output_type": "stream",
     "text": [
      "  teamID        salary\n",
      "0    ANA  1.941196e+06\n",
      "1    ARI  2.669340e+06\n",
      "2    ATL  1.677754e+06\n",
      "3    BAL  1.998160e+06\n",
      "4    BOS  2.503153e+06\n",
      "  teamID   salary\n",
      "0    ANA   500000\n",
      "1    ARI  1350000\n",
      "2    ATL   515000\n",
      "3    BAL   750000\n",
      "4    BOS   805000\n"
     ]
    }
   ],
   "source": [
    "team_avg_salary = grouped_salaries_team['salary'].mean()\n",
    "team_med_salary = grouped_salaries_team['salary'].median()\n",
    "\n",
    "print(team_avg_salary.head())\n",
    "print(team_med_salary.head())"
   ]
  },
  {
   "cell_type": "code",
   "execution_count": 19,
   "metadata": {
    "collapsed": false
   },
   "outputs": [
    {
     "name": "stdout",
     "output_type": "stream",
     "text": [
      "  teamID        salary\n",
      "0    ANA  1.941196e+06\n",
      "1    ARI  2.669340e+06\n",
      "2    ATL  1.677754e+06\n",
      "3    BAL  1.998160e+06\n",
      "4    BOS  2.503153e+06\n",
      "  teamID   salary\n",
      "0    ANA   500000\n",
      "1    ARI  1350000\n",
      "2    ATL   515000\n",
      "3    BAL   750000\n",
      "4    BOS   805000\n"
     ]
    }
   ],
   "source": [
    "## create DataFrames of average and median salaries by team\n",
    "team_avg_salary = grouped_salaries_team['salary'].mean()\n",
    "team_med_salary = grouped_salaries_team['salary'].median()\n",
    "\n",
    "print(team_avg_salary.head())\n",
    "print(team_med_salary.head())"
   ]
  },
  {
   "cell_type": "code",
   "execution_count": 20,
   "metadata": {
    "collapsed": false
   },
   "outputs": [
    {
     "name": "stdout",
     "output_type": "stream",
     "text": [
      "['ANA', 'ARI', 'ATL', 'BAL', 'BOS']\n",
      "[ 1941196.01318267  2669339.82803943  1677753.94720169  1998159.68257411\n",
      "  2503152.63230994]\n",
      "[ 500000 1350000  515000  750000  805000]\n"
     ]
    }
   ],
   "source": [
    "## put the DataFrame into list for the index and arrays for the data\n",
    "sorted_teams = sorted(team_avg_salary['teamID'].unique())\n",
    "avg_team_salary = np.array(team_avg_salary['salary'])\n",
    "med_team_salary = np.array(team_med_salary['salary'])\n",
    "\n",
    "print(sorted_teams[:5])\n",
    "print(avg_team_salary[:5])\n",
    "print(med_team_salary[:5])"
   ]
  },
  {
   "cell_type": "code",
   "execution_count": 21,
   "metadata": {
    "collapsed": false
   },
   "outputs": [
    {
     "data": {
      "text/html": [
       "<div>\n",
       "<style>\n",
       "    .dataframe thead tr:only-child th {\n",
       "        text-align: right;\n",
       "    }\n",
       "\n",
       "    .dataframe thead th {\n",
       "        text-align: left;\n",
       "    }\n",
       "\n",
       "    .dataframe tbody tr th {\n",
       "        vertical-align: top;\n",
       "    }\n",
       "</style>\n",
       "<table border=\"1\" class=\"dataframe\">\n",
       "  <thead>\n",
       "    <tr style=\"text-align: right;\">\n",
       "      <th></th>\n",
       "      <th>avg_salary</th>\n",
       "      <th>med_salary</th>\n",
       "    </tr>\n",
       "  </thead>\n",
       "  <tbody>\n",
       "    <tr>\n",
       "      <th>ANA</th>\n",
       "      <td>1.941196e+06</td>\n",
       "      <td>500000</td>\n",
       "    </tr>\n",
       "    <tr>\n",
       "      <th>ARI</th>\n",
       "      <td>2.669340e+06</td>\n",
       "      <td>1350000</td>\n",
       "    </tr>\n",
       "    <tr>\n",
       "      <th>ATL</th>\n",
       "      <td>1.677754e+06</td>\n",
       "      <td>515000</td>\n",
       "    </tr>\n",
       "    <tr>\n",
       "      <th>BAL</th>\n",
       "      <td>1.998160e+06</td>\n",
       "      <td>750000</td>\n",
       "    </tr>\n",
       "    <tr>\n",
       "      <th>BOS</th>\n",
       "      <td>2.503153e+06</td>\n",
       "      <td>805000</td>\n",
       "    </tr>\n",
       "  </tbody>\n",
       "</table>\n",
       "</div>"
      ],
      "text/plain": [
       "       avg_salary  med_salary\n",
       "ANA  1.941196e+06      500000\n",
       "ARI  2.669340e+06     1350000\n",
       "ATL  1.677754e+06      515000\n",
       "BAL  1.998160e+06      750000\n",
       "BOS  2.503153e+06      805000"
      ]
     },
     "execution_count": 21,
     "metadata": {},
     "output_type": "execute_result"
    }
   ],
   "source": [
    "## create new DataFrame with both arrays as columns\n",
    "average_team_salary_df = pd.DataFrame({\n",
    "    'med_salary': med_team_salary,\n",
    "    'avg_salary': avg_team_salary\n",
    "}, index = sorted_teams)\n",
    "\n",
    "average_team_salary_df.head()"
   ]
  },
  {
   "cell_type": "code",
   "execution_count": 22,
   "metadata": {
    "collapsed": false
   },
   "outputs": [
    {
     "name": "stdout",
     "output_type": "stream",
     "text": [
      "       avg_salary  med_salary\n",
      "NYY  1.381071e+07    13500000\n",
      "SFG  9.518590e+06     9000000\n",
      "WSN  6.898691e+06     4000000\n",
      "CHC  6.358333e+06     2500000\n",
      "NYM  5.871053e+06     4325000 \n",
      "\n",
      "       avg_salary  med_salary\n",
      "NYY  1.381071e+07    13500000\n",
      "SFG  9.518590e+06     9000000\n",
      "KCR  5.412500e+06     5500000\n",
      "LAD  4.831629e+06     4500000\n",
      "NYM  5.871053e+06     4325000\n"
     ]
    }
   ],
   "source": [
    "## Create 2 new DataFrames, sorted by respective columns\n",
    "sorted_avg_salary = average_team_salary_df.sort_values(by='avg_salary', ascending=False)\n",
    "sorted_med_salary = average_team_salary_df.sort_values(by='med_salary', ascending=False)\n",
    "\n",
    "print(sorted_avg_salary.head(),'\\n')\n",
    "print(sorted_med_salary.head())"
   ]
  },
  {
   "cell_type": "code",
   "execution_count": 23,
   "metadata": {
    "collapsed": false
   },
   "outputs": [
    {
     "data": {
      "image/png": "[encoded data removed]",
      "text/plain": [
       "<matplotlib.figure.Figure at 0x26b46bceda0>"
      ]
     },
     "metadata": {},
     "output_type": "display_data"
    }
   ],
   "source": [
    "fig, axes = plt.subplots(1, 2, figsize=(15,8)) \n",
    "\n",
    "fig.suptitle(\"Team Data\", fontsize = 20, y = 0.95)\n",
    "\n",
    "sorted_avg_salary['avg_salary'].head(10).plot(kind = 'bar', ax = axes[1])\n",
    "sorted_med_salary['med_salary'].head(10).plot(kind = 'bar', ax = axes[0])\n",
    "\n",
    "axes[0].set_xlabel('Median')\n",
    "#axes[0].set_xticks()\n",
    "\n",
    "axes[1].set_xlabel('Average')\n",
    "#axes[1].set_xticks(rotation=45)\n",
    "\n",
    "plt.show()"
   ]
  }
 ],
 "metadata": {
  "anaconda-cloud": {},
  "kernelspec": {
   "display_name": "Python [default]",
   "language": "python",
   "name": "python3"
  },
  "language_info": {
   "codemirror_mode": {
    "name": "ipython",
    "version": 3
   },
   "file_extension": ".py",
   "mimetype": "text/x-python",
   "name": "python",
   "nbconvert_exporter": "python",
   "pygments_lexer": "ipython3",
   "version": "3.5.2"
  }
 },
 "nbformat": 4,
 "nbformat_minor": 2
}
