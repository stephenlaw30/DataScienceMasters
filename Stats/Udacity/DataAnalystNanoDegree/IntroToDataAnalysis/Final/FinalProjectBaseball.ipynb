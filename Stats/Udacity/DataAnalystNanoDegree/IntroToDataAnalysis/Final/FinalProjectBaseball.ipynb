{
 "cells": [
  {
   "cell_type": "code",
   "execution_count": 14,
   "metadata": {
    "collapsed": true
   },
   "outputs": [],
   "source": [
    "import numpy as np\n",
    "import pandas as pd\n",
    "import matplotlib.pyplot as plt"
   ]
  },
  {
   "cell_type": "markdown",
   "metadata": {},
   "source": [
    "First, we need to import some datasets. I need to **Salaries** dataset for data about players and their salaries, the **CollegePlaying** dataset for data about what college a player went to, and then the **Schools** dataset for data about different colleges."
   ]
  },
  {
   "cell_type": "code",
   "execution_count": 15,
   "metadata": {
    "collapsed": true
   },
   "outputs": [],
   "source": [
    "## get datasets\n",
    "salaries = pd.read_csv('./files/Salaries.csv')\n",
    "schools = pd.read_csv('./files/Schools.csv')\n",
    "college = pd.read_csv('./files/CollegePlaying.csv')"
   ]
  },
  {
   "cell_type": "markdown",
   "metadata": {},
   "source": [
    "Now it's time to inspect them."
   ]
  },
  {
   "cell_type": "code",
   "execution_count": 16,
   "metadata": {
    "collapsed": false
   },
   "outputs": [
    {
     "data": {
      "text/html": [
       "<div>\n",
       "<style>\n",
       "    .dataframe thead tr:only-child th {\n",
       "        text-align: right;\n",
       "    }\n",
       "\n",
       "    .dataframe thead th {\n",
       "        text-align: left;\n",
       "    }\n",
       "\n",
       "    .dataframe tbody tr th {\n",
       "        vertical-align: top;\n",
       "    }\n",
       "</style>\n",
       "<table border=\"1\" class=\"dataframe\">\n",
       "  <thead>\n",
       "    <tr style=\"text-align: right;\">\n",
       "      <th></th>\n",
       "      <th>schoolID</th>\n",
       "      <th>name_full</th>\n",
       "      <th>city</th>\n",
       "      <th>state</th>\n",
       "      <th>country</th>\n",
       "    </tr>\n",
       "  </thead>\n",
       "  <tbody>\n",
       "    <tr>\n",
       "      <th>0</th>\n",
       "      <td>abilchrist</td>\n",
       "      <td>Abilene Christian University</td>\n",
       "      <td>Abilene</td>\n",
       "      <td>TX</td>\n",
       "      <td>USA</td>\n",
       "    </tr>\n",
       "    <tr>\n",
       "      <th>1</th>\n",
       "      <td>adelphi</td>\n",
       "      <td>Adelphi University</td>\n",
       "      <td>Garden City</td>\n",
       "      <td>NY</td>\n",
       "      <td>USA</td>\n",
       "    </tr>\n",
       "    <tr>\n",
       "      <th>2</th>\n",
       "      <td>adrianmi</td>\n",
       "      <td>Adrian College</td>\n",
       "      <td>Adrian</td>\n",
       "      <td>MI</td>\n",
       "      <td>USA</td>\n",
       "    </tr>\n",
       "    <tr>\n",
       "      <th>3</th>\n",
       "      <td>akron</td>\n",
       "      <td>University of Akron</td>\n",
       "      <td>Akron</td>\n",
       "      <td>OH</td>\n",
       "      <td>USA</td>\n",
       "    </tr>\n",
       "    <tr>\n",
       "      <th>4</th>\n",
       "      <td>alabama</td>\n",
       "      <td>University of Alabama</td>\n",
       "      <td>Tuscaloosa</td>\n",
       "      <td>AL</td>\n",
       "      <td>USA</td>\n",
       "    </tr>\n",
       "  </tbody>\n",
       "</table>\n",
       "</div>"
      ],
      "text/plain": [
       "     schoolID                     name_full         city state country\n",
       "0  abilchrist  Abilene Christian University      Abilene    TX     USA\n",
       "1     adelphi            Adelphi University  Garden City    NY     USA\n",
       "2    adrianmi                Adrian College       Adrian    MI     USA\n",
       "3       akron           University of Akron        Akron    OH     USA\n",
       "4     alabama         University of Alabama   Tuscaloosa    AL     USA"
      ]
     },
     "execution_count": 16,
     "metadata": {},
     "output_type": "execute_result"
    }
   ],
   "source": [
    "schools.head()"
   ]
  },
  {
   "cell_type": "code",
   "execution_count": 17,
   "metadata": {
    "collapsed": false
   },
   "outputs": [
    {
     "data": {
      "text/html": [
       "<div>\n",
       "<style>\n",
       "    .dataframe thead tr:only-child th {\n",
       "        text-align: right;\n",
       "    }\n",
       "\n",
       "    .dataframe thead th {\n",
       "        text-align: left;\n",
       "    }\n",
       "\n",
       "    .dataframe tbody tr th {\n",
       "        vertical-align: top;\n",
       "    }\n",
       "</style>\n",
       "<table border=\"1\" class=\"dataframe\">\n",
       "  <thead>\n",
       "    <tr style=\"text-align: right;\">\n",
       "      <th></th>\n",
       "      <th>yearID</th>\n",
       "      <th>teamID</th>\n",
       "      <th>lgID</th>\n",
       "      <th>playerID</th>\n",
       "      <th>salary</th>\n",
       "    </tr>\n",
       "  </thead>\n",
       "  <tbody>\n",
       "    <tr>\n",
       "      <th>0</th>\n",
       "      <td>1985</td>\n",
       "      <td>ATL</td>\n",
       "      <td>NL</td>\n",
       "      <td>barkele01</td>\n",
       "      <td>870000</td>\n",
       "    </tr>\n",
       "    <tr>\n",
       "      <th>1</th>\n",
       "      <td>1985</td>\n",
       "      <td>ATL</td>\n",
       "      <td>NL</td>\n",
       "      <td>bedrost01</td>\n",
       "      <td>550000</td>\n",
       "    </tr>\n",
       "    <tr>\n",
       "      <th>2</th>\n",
       "      <td>1985</td>\n",
       "      <td>ATL</td>\n",
       "      <td>NL</td>\n",
       "      <td>benedbr01</td>\n",
       "      <td>545000</td>\n",
       "    </tr>\n",
       "    <tr>\n",
       "      <th>3</th>\n",
       "      <td>1985</td>\n",
       "      <td>ATL</td>\n",
       "      <td>NL</td>\n",
       "      <td>campri01</td>\n",
       "      <td>633333</td>\n",
       "    </tr>\n",
       "    <tr>\n",
       "      <th>4</th>\n",
       "      <td>1985</td>\n",
       "      <td>ATL</td>\n",
       "      <td>NL</td>\n",
       "      <td>ceronri01</td>\n",
       "      <td>625000</td>\n",
       "    </tr>\n",
       "  </tbody>\n",
       "</table>\n",
       "</div>"
      ],
      "text/plain": [
       "   yearID teamID lgID   playerID  salary\n",
       "0    1985    ATL   NL  barkele01  870000\n",
       "1    1985    ATL   NL  bedrost01  550000\n",
       "2    1985    ATL   NL  benedbr01  545000\n",
       "3    1985    ATL   NL   campri01  633333\n",
       "4    1985    ATL   NL  ceronri01  625000"
      ]
     },
     "execution_count": 17,
     "metadata": {},
     "output_type": "execute_result"
    }
   ],
   "source": [
    "salaries.head()"
   ]
  },
  {
   "cell_type": "code",
   "execution_count": 18,
   "metadata": {
    "collapsed": false
   },
   "outputs": [
    {
     "data": {
      "text/html": [
       "<div>\n",
       "<style>\n",
       "    .dataframe thead tr:only-child th {\n",
       "        text-align: right;\n",
       "    }\n",
       "\n",
       "    .dataframe thead th {\n",
       "        text-align: left;\n",
       "    }\n",
       "\n",
       "    .dataframe tbody tr th {\n",
       "        vertical-align: top;\n",
       "    }\n",
       "</style>\n",
       "<table border=\"1\" class=\"dataframe\">\n",
       "  <thead>\n",
       "    <tr style=\"text-align: right;\">\n",
       "      <th></th>\n",
       "      <th>playerID</th>\n",
       "      <th>schoolID</th>\n",
       "      <th>yearID</th>\n",
       "    </tr>\n",
       "  </thead>\n",
       "  <tbody>\n",
       "    <tr>\n",
       "      <th>0</th>\n",
       "      <td>aardsda01</td>\n",
       "      <td>pennst</td>\n",
       "      <td>2001</td>\n",
       "    </tr>\n",
       "    <tr>\n",
       "      <th>1</th>\n",
       "      <td>aardsda01</td>\n",
       "      <td>rice</td>\n",
       "      <td>2002</td>\n",
       "    </tr>\n",
       "    <tr>\n",
       "      <th>2</th>\n",
       "      <td>aardsda01</td>\n",
       "      <td>rice</td>\n",
       "      <td>2003</td>\n",
       "    </tr>\n",
       "    <tr>\n",
       "      <th>3</th>\n",
       "      <td>abadan01</td>\n",
       "      <td>gamiddl</td>\n",
       "      <td>1992</td>\n",
       "    </tr>\n",
       "    <tr>\n",
       "      <th>4</th>\n",
       "      <td>abadan01</td>\n",
       "      <td>gamiddl</td>\n",
       "      <td>1993</td>\n",
       "    </tr>\n",
       "  </tbody>\n",
       "</table>\n",
       "</div>"
      ],
      "text/plain": [
       "    playerID schoolID  yearID\n",
       "0  aardsda01   pennst    2001\n",
       "1  aardsda01     rice    2002\n",
       "2  aardsda01     rice    2003\n",
       "3   abadan01  gamiddl    1992\n",
       "4   abadan01  gamiddl    1993"
      ]
     },
     "execution_count": 18,
     "metadata": {},
     "output_type": "execute_result"
    }
   ],
   "source": [
    "college.head()"
   ]
  },
  {
   "cell_type": "markdown",
   "metadata": {},
   "source": [
    "<h1> The Overall Average and Median Career Salaries by Most Popular College and Most Popular State for College </h1>"
   ]
  },
  {
   "cell_type": "markdown",
   "metadata": {},
   "source": [
    "It looks like in order to figure out which college a player went to and which state that college is in, I need to ***merge*** the Salaries dataset (**salaries**) with the CollegePlaying dataset (**college**) by the **playerID** field.\n",
    "\n",
    "Then I'd need to merge *again* in order to combine this new dataset, **salaries_college** with the Schools dataset (**schools**) on the **schoolID** to bring in what state a college is in, and I'll call this final dataset **salaries_college_state**"
   ]
  },
  {
   "cell_type": "code",
   "execution_count": 19,
   "metadata": {
    "collapsed": false
   },
   "outputs": [
    {
     "data": {
      "text/html": [
       "<div>\n",
       "<style>\n",
       "    .dataframe thead tr:only-child th {\n",
       "        text-align: right;\n",
       "    }\n",
       "\n",
       "    .dataframe thead th {\n",
       "        text-align: left;\n",
       "    }\n",
       "\n",
       "    .dataframe tbody tr th {\n",
       "        vertical-align: top;\n",
       "    }\n",
       "</style>\n",
       "<table border=\"1\" class=\"dataframe\">\n",
       "  <thead>\n",
       "    <tr style=\"text-align: right;\">\n",
       "      <th></th>\n",
       "      <th>yearID</th>\n",
       "      <th>teamID</th>\n",
       "      <th>lgID</th>\n",
       "      <th>playerID</th>\n",
       "      <th>salary</th>\n",
       "      <th>schoolID</th>\n",
       "      <th>state</th>\n",
       "      <th>name_full</th>\n",
       "    </tr>\n",
       "  </thead>\n",
       "  <tbody>\n",
       "    <tr>\n",
       "      <th>0</th>\n",
       "      <td>1985</td>\n",
       "      <td>ATL</td>\n",
       "      <td>NL</td>\n",
       "      <td>bedrost01</td>\n",
       "      <td>550000</td>\n",
       "      <td>newhaven</td>\n",
       "      <td>CT</td>\n",
       "      <td>University of New Haven</td>\n",
       "    </tr>\n",
       "    <tr>\n",
       "      <th>1</th>\n",
       "      <td>1986</td>\n",
       "      <td>PHI</td>\n",
       "      <td>NL</td>\n",
       "      <td>bedrost01</td>\n",
       "      <td>650000</td>\n",
       "      <td>newhaven</td>\n",
       "      <td>CT</td>\n",
       "      <td>University of New Haven</td>\n",
       "    </tr>\n",
       "    <tr>\n",
       "      <th>2</th>\n",
       "      <td>1987</td>\n",
       "      <td>PHI</td>\n",
       "      <td>NL</td>\n",
       "      <td>bedrost01</td>\n",
       "      <td>1050000</td>\n",
       "      <td>newhaven</td>\n",
       "      <td>CT</td>\n",
       "      <td>University of New Haven</td>\n",
       "    </tr>\n",
       "    <tr>\n",
       "      <th>3</th>\n",
       "      <td>1988</td>\n",
       "      <td>PHI</td>\n",
       "      <td>NL</td>\n",
       "      <td>bedrost01</td>\n",
       "      <td>925000</td>\n",
       "      <td>newhaven</td>\n",
       "      <td>CT</td>\n",
       "      <td>University of New Haven</td>\n",
       "    </tr>\n",
       "    <tr>\n",
       "      <th>4</th>\n",
       "      <td>1989</td>\n",
       "      <td>PHI</td>\n",
       "      <td>NL</td>\n",
       "      <td>bedrost01</td>\n",
       "      <td>1450000</td>\n",
       "      <td>newhaven</td>\n",
       "      <td>CT</td>\n",
       "      <td>University of New Haven</td>\n",
       "    </tr>\n",
       "  </tbody>\n",
       "</table>\n",
       "</div>"
      ],
      "text/plain": [
       "   yearID teamID lgID   playerID   salary  schoolID state  \\\n",
       "0    1985    ATL   NL  bedrost01   550000  newhaven    CT   \n",
       "1    1986    PHI   NL  bedrost01   650000  newhaven    CT   \n",
       "2    1987    PHI   NL  bedrost01  1050000  newhaven    CT   \n",
       "3    1988    PHI   NL  bedrost01   925000  newhaven    CT   \n",
       "4    1989    PHI   NL  bedrost01  1450000  newhaven    CT   \n",
       "\n",
       "                 name_full  \n",
       "0  University of New Haven  \n",
       "1  University of New Haven  \n",
       "2  University of New Haven  \n",
       "3  University of New Haven  \n",
       "4  University of New Haven  "
      ]
     },
     "execution_count": 19,
     "metadata": {},
     "output_type": "execute_result"
    }
   ],
   "source": [
    "## bring in college to player salary DataFrame\n",
    "salaries_college = pd.merge(salaries,college.iloc[:,:2], on='playerID')\n",
    "\n",
    "## bring in college state into new DataFrame\n",
    "salaries_college_state = pd.merge(salaries_college,schools[['schoolID','state','name_full']],on='schoolID')\n",
    "\n",
    "## inspect DataFrame\n",
    "salaries_college_state.head()"
   ]
  },
  {
   "cell_type": "markdown",
   "metadata": {},
   "source": [
    "Next, to see the most popular colleges in this dataset, I need to group the records by schoolID and then count how many records appear in each group."
   ]
  },
  {
   "cell_type": "code",
   "execution_count": 20,
   "metadata": {
    "collapsed": false,
    "scrolled": true
   },
   "outputs": [
    {
     "data": {
      "text/plain": [
       "schoolID   schoolID \n",
       "ucla       ucla         718\n",
       "usc        usc          655\n",
       "arizonast  arizonast    632\n",
       "stanford   stanford     595\n",
       "lsu        lsu          592\n",
       "miamifl    miamifl      492\n",
       "floridast  floridast    487\n",
       "texas      texas        477\n",
       "calstfull  calstfull    471\n",
       "gatech     gatech       446\n",
       "Name: schoolID, dtype: int64"
      ]
     },
     "execution_count": 20,
     "metadata": {},
     "output_type": "execute_result"
    }
   ],
   "source": [
    "## get count of records grouped by schools and sort in descending order\n",
    "popular_schools = salaries_college_state['schoolID'].groupby(salaries_college_state['schoolID']).value_counts().sort_values(ascending = False)\n",
    "\n",
    "## view top 10 most popular schools\n",
    "popular_schools.head(10)"
   ]
  },
  {
   "cell_type": "markdown",
   "metadata": {},
   "source": [
    "But wait. Unfortunately, this is the total count of *ALL* schoolID's in the dataset, but it is *NOT* accounting for multiple records of the *same player*, and therefore I've got duplicate counts. In other words, I've got multiple records for the same playerID if they played for multiple years, and for each year they played, their alma mater is represented another time in the count.\n",
    "\n",
    "I need to group recordsby player and *then* group them by college and count *these* values to get the counts of *unique* players from each college. I'm also going to start using **name_full** instead of schoolID in order to make it more digestable for readers.\n",
    "\n",
    "I can then do this same process but for the states in which colleges are located by grouping records by state after grouping by player."
   ]
  },
  {
   "cell_type": "markdown",
   "metadata": {},
   "source": [
    "Now, I need to get grab out the mean career salaries of each player and also include the college and college state of those players."
   ]
  },
  {
   "cell_type": "code",
   "execution_count": 22,
   "metadata": {
    "collapsed": true
   },
   "outputs": [],
   "source": [
    "## get unique combo of player + school to get counts of schools a player went to\n",
    "grouped_salaries_college = salaries_college_state.groupby(['playerID','name_full'], as_index=False)\n",
    "\n",
    "## do the same for player and state of college\n",
    "grouped_salaries_state = salaries_college_state.groupby(['playerID','state'], as_index=False)"
   ]
  },
  {
   "cell_type": "code",
   "execution_count": 23,
   "metadata": {
    "collapsed": false
   },
   "outputs": [
    {
     "name": "stdout",
     "output_type": "stream",
     "text": [
      "Mean Salaries by College: \n",
      "                        name_full        salary   playerID\n",
      "0  Pennsylvania State University  1.322821e+06  aardsda01\n",
      "1                Rice University  1.322821e+06  aardsda01\n",
      "2         Middle Georgia College  3.270000e+05   abadan01\n",
      "3         University of Kentucky  2.462500e+05  abbotje01\n",
      "4         University of Michigan  1.440056e+06  abbotji01 \n",
      "\n",
      "Mean Salaries by State: \n",
      "   state        salary   playerID\n",
      "0    PA  1.322821e+06  aardsda01\n",
      "1    TX  1.322821e+06  aardsda01\n",
      "2    GA  3.270000e+05   abadan01\n",
      "3    KY  2.462500e+05  abbotje01\n",
      "4    MI  1.440056e+06  abbotji01\n"
     ]
    }
   ],
   "source": [
    "## get mean career salary of players by college and by state\n",
    "mean_salary_player_college = grouped_salaries_college.mean()[['name_full','salary','playerID']]\n",
    "mean_salary_player_state = grouped_salaries_state.mean()[['state','salary','playerID']]\n",
    "\n",
    "print('Mean Salaries by College:','\\n',mean_salary_player_college.head(),'\\n')\n",
    "#print(type(mean_salary_player_college),'\\n')\n",
    "print('Mean Salaries by State:','\\n',mean_salary_player_state.head())"
   ]
  },
  {
   "cell_type": "markdown",
   "metadata": {},
   "source": [
    "Notice that some players went to 2 colleges and therefore \"played for\" 2 states. I'll ignore that for this analysis.\n",
    "\n",
    "Now I want to apply this data to just the most \"popular\" colleges and states, displayed below."
   ]
  },
  {
   "cell_type": "code",
   "execution_count": 24,
   "metadata": {
    "collapsed": false
   },
   "outputs": [
    {
     "name": "stdout",
     "output_type": "stream",
     "text": [
      "name_full\n",
      "Arizona State University                 51\n",
      "University of Southern California        44\n",
      "Stanford University                      44\n",
      "University of California, Los Angeles    41\n",
      "University of Texas at Austin            41\n",
      "Louisiana State University               40\n",
      "University of Miami                      38\n",
      "California State University Fullerton    34\n",
      "Oklahoma State University                33\n",
      "University of Arizona                    33\n",
      "Name: playerID, dtype: int64 \n",
      "\n",
      "state\n",
      "CA    596\n",
      "FL    275\n",
      "TX    255\n",
      "AZ    122\n",
      "LA    103\n",
      "OK    101\n",
      "NC    101\n",
      "IL     96\n",
      "SC     81\n",
      "AL     78\n",
      "Name: playerID, dtype: int64\n"
     ]
    }
   ],
   "source": [
    "## find most frequent colleges + states\n",
    "top_colleges = mean_salary_player_college['playerID'].groupby(mean_salary_player_college['name_full']).count().sort_values(ascending = False)\n",
    "print(top_colleges.head(10),'\\n')\n",
    "\n",
    "top_states = mean_salary_player_state['playerID'].groupby(mean_salary_player_state['state']).count().sort_values(ascending = False)\n",
    "print(top_states.head(10))"
   ]
  },
  {
   "cell_type": "markdown",
   "metadata": {},
   "source": [
    "Now, I want to place these colleges and states into a list and then filter out our DataFrames of the mean salaries to just contain these colleges and states.\n",
    "\n",
    "Also, I am going to cut down the states to just those with over 100 records (players), just because."
   ]
  },
  {
   "cell_type": "code",
   "execution_count": 11,
   "metadata": {
    "collapsed": false
   },
   "outputs": [
    {
     "name": "stdout",
     "output_type": "stream",
     "text": [
      "                                name_full        salary\n",
      "10          University of Texas at Austin  4.265000e+05\n",
      "18                    Stanford University  1.478333e+05\n",
      "20              Oklahoma State University  3.010000e+05\n",
      "24             Louisiana State University  2.848750e+05\n",
      "29                    Stanford University  2.615000e+05\n",
      "39                    University of Miami  1.560000e+06\n",
      "43      University of Southern California  1.700000e+05\n",
      "49  University of California, Los Angeles  3.962500e+05\n",
      "50                    Stanford University  1.780000e+05\n",
      "51  University of California, Los Angeles  4.467000e+05 \n",
      "\n",
      "   state        salary\n",
      "1     TX  1.322821e+06\n",
      "5     CA  1.295000e+05\n",
      "6     FL  3.270000e+05\n",
      "9     TX  4.265000e+05\n",
      "10    NC  2.460000e+06\n",
      "13    CA  1.805000e+05\n",
      "15    TX  2.954400e+06\n",
      "16    NC  3.295000e+05\n",
      "17    CA  1.478333e+05\n",
      "19    OK  3.010000e+05\n"
     ]
    }
   ],
   "source": [
    "## create lists of top colleges and states\n",
    "college_names = ['Arizona State University', 'University of Southern California', 'Stanford University', \n",
    "                 'University of California, Los Angeles', 'University of Texas at Austin', 'Louisiana State University',\n",
    "                 'University of Miami', 'California State University Fullerton', 'Oklahoma State University', \n",
    "                 'University of Arizona']\n",
    "state_names = ['CA','FL','TX','AZ','LA','OK','NC']\n",
    "\n",
    "## get just those records from top schools and top states\n",
    "top_colleges_avg_salary = mean_salary_player_college[mean_salary_player_college['name_full'].isin(college_names)][['name_full','salary']]\n",
    "top_states_avg_salary = mean_salary_player_state[mean_salary_player_state['state'].isin(state_names)][['state','salary']]\n",
    "\n",
    "print(top_colleges_avg_salary.head(10),'\\n')\n",
    "print(top_states_avg_salary.head(10))"
   ]
  },
  {
   "cell_type": "markdown",
   "metadata": {},
   "source": [
    "Next, I need to group these average career salaries by college and by state and then compute the mean in order to get the average career salary of all players that went to my selected colleges and went to college in my selected states."
   ]
  },
  {
   "cell_type": "code",
   "execution_count": 12,
   "metadata": {
    "collapsed": false
   },
   "outputs": [
    {
     "name": "stdout",
     "output_type": "stream",
     "text": [
      "[ 1367384.31788712  1092950.99924765  1221145.03250888   860608.77326377\n",
      "  1091013.31845238   853386.00467136  1283692.32301421  1658218.56270075\n",
      "  1579411.07092175   868401.947516  ] \n",
      "\n",
      "[ 1155620.47824875  1110263.94430724  1035668.07309999  1087084.27247566\n",
      "   837998.14845935   881364.40639949  1021279.06790348] \n",
      "\n"
     ]
    }
   ],
   "source": [
    "# group the career salaries by college + state and inspect\n",
    "print(np.array(top_colleges_avg_salary['salary'].groupby(top_colleges_avg_salary['name_full']).mean()),'\\n')\n",
    "print(np.array(top_states_avg_salary['salary'].groupby(top_states_avg_salary['state']).mean()),'\\n')"
   ]
  },
  {
   "cell_type": "markdown",
   "metadata": {
    "collapsed": true
   },
   "source": [
    "So I've got 10 mean career salaries by college and 7 mean career salaries by state. Now, I am going to sort these college names and state names alphabetically, grab their mean and median career salaries and place them into NumPy arrays, and then construct 3 DataFrames wherein the 1st column will be the college/state name, and the next 2 columns would be the mean career salary and median career salary for that college/state, respectively.\n",
    "\n",
    "I am going to change my index from the full college name to the typical abbreviations for these colleges that one would see for during a sports broadcast in order to make them easier to plot on an axis."
   ]
  },
  {
   "cell_type": "code",
   "execution_count": 13,
   "metadata": {
    "collapsed": false
   },
   "outputs": [
    {
     "name": "stdout",
     "output_type": "stream",
     "text": [
      "     avg_salary_college  med_salary_college\n",
      "ARI        1.367384e+06       477500.000000\n",
      "ASU        1.092951e+06       498125.000000\n",
      "CAL        1.221145e+06       515391.666667\n",
      "LSU        8.606088e+05       401000.000000\n",
      "MIA        1.091013e+06       401500.000000 \n",
      "\n",
      "    avg_salary_states  med_salary_states\n",
      "AZ       1.155620e+06           434125.0\n",
      "CA       1.110264e+06           463000.0\n",
      "FL       1.035668e+06           414000.0\n",
      "LA       1.087084e+06           440500.0\n",
      "NC       8.379981e+05           490500.0\n"
     ]
    }
   ],
   "source": [
    "## sort indices and create arrays of mean and median career salaries\n",
    "sorted_colleges = sorted(['ASU', 'USC', 'STN','UCLA', 'UT', 'LSU','MIA', 'CAL', 'OSU','ARI'])\n",
    "med_salary_college = np.array(top_colleges_avg_salary['salary'].groupby(top_colleges_avg_salary['name_full']).median())\n",
    "avg_salary_college = np.array(top_colleges_avg_salary['salary'].groupby(top_colleges_avg_salary['name_full']).mean())\n",
    "\n",
    "sorted_states = sorted(top_states_avg_salary['state'].unique())\n",
    "med_salary_states = np.array(top_states_avg_salary['salary'].groupby(top_states_avg_salary['state']).median())\n",
    "avg_salary_states = np.array(top_states_avg_salary['salary'].groupby(top_states_avg_salary['state']).mean())\n",
    "\n",
    "## create DataFrames\n",
    "average_career_salary_college = pd.DataFrame({\n",
    "    'med_salary_college': med_salary_college,\n",
    "    'avg_salary_college': avg_salary_college\n",
    "}, index = sorted_colleges)\n",
    "\n",
    "average_career_salary_state = pd.DataFrame({\n",
    "    'med_salary_states': med_salary_states,\n",
    "    'avg_salary_states': avg_salary_states\n",
    "}, index = sorted_states)\n",
    "\n",
    "# inspect DataFrames\n",
    "print(average_career_salary_college.head(),'\\n')\n",
    "print(average_career_salary_state.head())"
   ]
  },
  {
   "cell_type": "markdown",
   "metadata": {
    "collapsed": true
   },
   "source": [
    "Now it's time to plot them"
   ]
  },
  {
   "cell_type": "code",
   "execution_count": 1,
   "metadata": {
    "collapsed": false
   },
   "outputs": [
    {
     "ename": "NameError",
     "evalue": "name 'plt' is not defined",
     "output_type": "error",
     "traceback": [
      "\u001b[0;31m---------------------------------------------------------------------------\u001b[0m",
      "\u001b[0;31mNameError\u001b[0m                                 Traceback (most recent call last)",
      "\u001b[0;32m<ipython-input-1-47bc68a770fd>\u001b[0m in \u001b[0;36m<module>\u001b[0;34m()\u001b[0m\n\u001b[1;32m      1\u001b[0m \u001b[0mget_ipython\u001b[0m\u001b[1;33m(\u001b[0m\u001b[1;33m)\u001b[0m\u001b[1;33m.\u001b[0m\u001b[0mmagic\u001b[0m\u001b[1;33m(\u001b[0m\u001b[1;34m'matplotlib inline'\u001b[0m\u001b[1;33m)\u001b[0m\u001b[1;33m\u001b[0m\u001b[0m\n\u001b[1;32m      2\u001b[0m \u001b[1;33m\u001b[0m\u001b[0m\n\u001b[0;32m----> 3\u001b[0;31m \u001b[0mfig\u001b[0m\u001b[1;33m,\u001b[0m \u001b[0maxes\u001b[0m \u001b[1;33m=\u001b[0m \u001b[0mplt\u001b[0m\u001b[1;33m.\u001b[0m\u001b[0msubplots\u001b[0m\u001b[1;33m(\u001b[0m\u001b[1;36m1\u001b[0m\u001b[1;33m,\u001b[0m \u001b[1;36m2\u001b[0m\u001b[1;33m,\u001b[0m \u001b[0mfigsize\u001b[0m\u001b[1;33m=\u001b[0m\u001b[1;33m(\u001b[0m\u001b[1;36m15\u001b[0m\u001b[1;33m,\u001b[0m\u001b[1;36m8\u001b[0m\u001b[1;33m)\u001b[0m\u001b[1;33m)\u001b[0m\u001b[1;33m\u001b[0m\u001b[0m\n\u001b[0m\u001b[1;32m      4\u001b[0m \u001b[1;33m\u001b[0m\u001b[0m\n\u001b[1;32m      5\u001b[0m \u001b[0mfig\u001b[0m\u001b[1;33m.\u001b[0m\u001b[0msuptitle\u001b[0m\u001b[1;33m(\u001b[0m\u001b[1;34m\"College Data\"\u001b[0m\u001b[1;33m,\u001b[0m \u001b[0mfontsize\u001b[0m \u001b[1;33m=\u001b[0m \u001b[1;36m20\u001b[0m\u001b[1;33m,\u001b[0m \u001b[0my\u001b[0m \u001b[1;33m=\u001b[0m \u001b[1;36m0.95\u001b[0m\u001b[1;33m)\u001b[0m\u001b[1;33m\u001b[0m\u001b[0m\n",
      "\u001b[0;31mNameError\u001b[0m: name 'plt' is not defined"
     ]
    }
   ],
   "source": [
    "%matplotlib inline\n",
    "\n",
    "fig, axes = plt.subplots(1, 2, figsize=(15,8)) \n",
    "\n",
    "fig.suptitle(\"College Data\", fontsize = 20, y = 0.95)\n",
    "\n",
    "average_career_salary_college['med_salary_college'].plot(kind = 'bar', ax = axes[0])\n",
    "average_career_salary_college['avg_salary_college'].plot(kind = 'bar', ax = axes[1])\n",
    "\n",
    "axes[0].set_title('Median Career Salary from The Most Popular Colleges')\n",
    "axes[0].set_xlabel('College')\n",
    "axes[0].set_ylabel('Salary ($)')\n",
    "axes[0].set_xticklabels(average_career_salary_college.index, rotation=45)\n",
    "\n",
    "axes[1].set_title('Average Career Salary from The Most Popular Colleges')\n",
    "axes[1].set_xlabel('College')\n",
    "axes[1].set_ylabel('Salary ($)')\n",
    "axes[1].set_xticklabels(average_career_salary_college.index, rotation=45)\n",
    "\n",
    "plt.show()"
   ]
  },
  {
   "cell_type": "markdown",
   "metadata": {},
   "source": [
    "So we can see that players that went to University of Southern California had the highest median salary (~ 1.5x more than most other colleges), as well as the second highest average salary. This indicates that this could possible be a good choice of school for a player to earn a lot of money in the pros.\n",
    "\n",
    "The average salaries were a lot more varied among colleges, with UCLA being to college with the highest overall salary and Oklahoma State University being the lowest, with the University of Miami and University of Texas - Austin not far behind.\n",
    "\n",
    "I'd assume these distributions would not be too normal, so the median would be the better bar plot to take note of."
   ]
  },
  {
   "cell_type": "code",
   "execution_count": 17,
   "metadata": {
    "collapsed": false
   },
   "outputs": [
    {
     "data": {
      "image/png": "[encoded data removed]",
      "text/plain": [
       "<matplotlib.figure.Figure at 0xa106358>"
      ]
     },
     "metadata": {},
     "output_type": "display_data"
    }
   ],
   "source": [
    "fig, axes = plt.subplots(1, 2, figsize=(15,8)) \n",
    "\n",
    "fig.suptitle(\"State Data\", fontsize = 20, y = 0.95)\n",
    "\n",
    "average_career_salary_state['med_salary_states'].plot(kind = 'bar', ax = axes[0])\n",
    "average_career_salary_state['avg_salary_states'].plot(kind = 'bar', ax = axes[1])\n",
    "\n",
    "axes[0].set_title('Median Career Salary of Players from The Most Popular States for College')\n",
    "axes[0].set_xlabel('State for College')\n",
    "axes[0].set_ylabel('Salary ($)')\n",
    "axes[0].set_xticklabels(average_career_salary_state.index, rotation=45)\n",
    "    \n",
    "axes[1].set_title('Average Career Salary of Players from The Most Popular States for College')\n",
    "axes[1].set_xlabel('State for College')\n",
    "axes[1].set_ylabel('Salary ($)')\n",
    "axes[1].set_xticklabels(average_career_salary_state.index, rotation=45)\n",
    "\n",
    "plt.show()"
   ]
  },
  {
   "cell_type": "markdown",
   "metadata": {},
   "source": [
    "It looks like this dataset doesn't give an indication of the best state to go to college in in order bring up one's chances to make a higher career salary.\n",
    "\n",
    "North Carolina has the highest median career salary, followed by California and Arizona. But, Arizona has the highest average career salary, followed by California and Louisiana.\n",
    "\n",
    "So maybe Arizona and California are the states one would want to look at to play for in college in order to bolster their chances at making a greater salary over their career in the pros. From the college analysis earlier, it looks like USC could be the overall best best in this case."
   ]
  },
  {
   "cell_type": "code",
   "execution_count": 100,
   "metadata": {
    "collapsed": false
   },
   "outputs": [
    {
     "data": {
      "text/plain": [
       "<matplotlib.axes._subplots.AxesSubplot at 0xbf82f98>"
      ]
     },
     "execution_count": 100,
     "metadata": {},
     "output_type": "execute_result"
    },
    {
     "data": {
      "image/png": "[encoded data removed]",
      "text/plain": [
       "<matplotlib.figure.Figure at 0xbf77c50>"
      ]
     },
     "metadata": {},
     "output_type": "display_data"
    }
   ],
   "source": [
    "mean_salary_player_college['salary'].hist()"
   ]
  },
  {
   "cell_type": "code",
   "execution_count": 101,
   "metadata": {
    "collapsed": false
   },
   "outputs": [
    {
     "data": {
      "text/plain": [
       "<matplotlib.axes._subplots.AxesSubplot at 0xbf15b70>"
      ]
     },
     "execution_count": 101,
     "metadata": {},
     "output_type": "execute_result"
    },
    {
     "data": {
      "image/png": "[encoded data removed]",
      "text/plain": [
       "<matplotlib.figure.Figure at 0xc0015f8>"
      ]
     },
     "metadata": {},
     "output_type": "display_data"
    }
   ],
   "source": [
    "mean_salary_player_state['salary'].hist()"
   ]
  },
  {
   "cell_type": "code",
   "execution_count": 18,
   "metadata": {
    "collapsed": false
   },
   "outputs": [
    {
     "name": "stdout",
     "output_type": "stream",
     "text": [
      "[ 1276717.37570407  1011858.59851222  1155620.47824875  1110263.94430724\n",
      "   997028.79329168  1458333.99498471   601875.02083333   582560.\n",
      "  1035668.07309999  1140836.34511968   441120.63095238   637608.97124936\n",
      "  1085805.71643269   911088.01160813   853987.07382432  1274668.39075823\n",
      "   875203.04166763  1087084.27247566   864158.778845     730619.42556818\n",
      "   865845.70238095   845759.03317648  1035279.44203145  1731259.37122644\n",
      "  1255922.81362951   837998.14845935   757096.38641636   674761.89285714\n",
      "  1095293.40327596   509038.51851852  1201041.18445539   943354.97271527\n",
      "  1052734.13608754   881364.40639949   954102.3577957    690095.37484315\n",
      "   802552.95952381   820583.05425549   510000.          1273006.25550415\n",
      "  1021279.06790348  1040609.58167706  1081425.29833999  1080291.66666667\n",
      "  1259362.18325643  1661995.02630703   977869.65617716   348063.49206349] \n",
      "\n"
     ]
    }
   ],
   "source": [
    "print(np.array(mean_salary_player_state['salary'].groupby(mean_salary_player_state['state']).mean()),'\\n')\n",
    "#mean_salary_player_state[mean_salary_player_state['state']]"
   ]
  },
  {
   "cell_type": "code",
   "execution_count": 19,
   "metadata": {
    "collapsed": false
   },
   "outputs": [
    {
     "data": {
      "text/plain": [
       "state\n",
       "AL    1.276717e+06\n",
       "AR    1.011859e+06\n",
       "AZ    1.155620e+06\n",
       "CA    1.110264e+06\n",
       "CO    9.970288e+05\n",
       "CT    1.458334e+06\n",
       "DC    6.018750e+05\n",
       "DE    5.825600e+05\n",
       "FL    1.035668e+06\n",
       "GA    1.140836e+06\n",
       "HI    4.411206e+05\n",
       "IA    6.376090e+05\n",
       "ID    1.085806e+06\n",
       "IL    9.110880e+05\n",
       "IN    8.539871e+05\n",
       "KS    1.274668e+06\n",
       "KY    8.752030e+05\n",
       "LA    1.087084e+06\n",
       "MA    8.641588e+05\n",
       "MD    7.306194e+05\n",
       "ME    8.658457e+05\n",
       "MI    8.457590e+05\n",
       "MN    1.035279e+06\n",
       "MO    1.731259e+06\n",
       "MS    1.255923e+06\n",
       "NC    8.379981e+05\n",
       "NE    7.570964e+05\n",
       "NH    6.747619e+05\n",
       "NJ    1.095293e+06\n",
       "NM    5.090385e+05\n",
       "NV    1.201041e+06\n",
       "NY    9.433550e+05\n",
       "OH    1.052734e+06\n",
       "OK    8.813644e+05\n",
       "OR    9.541024e+05\n",
       "PA    6.900954e+05\n",
       "RI    8.025530e+05\n",
       "SC    8.205831e+05\n",
       "SD    5.100000e+05\n",
       "TN    1.273006e+06\n",
       "TX    1.021279e+06\n",
       "UT    1.040610e+06\n",
       "VA    1.081425e+06\n",
       "VT    1.080292e+06\n",
       "WA    1.259362e+06\n",
       "WI    1.661995e+06\n",
       "WV    9.778697e+05\n",
       "WY    3.480635e+05\n",
       "Name: salary, dtype: float64"
      ]
     },
     "execution_count": 19,
     "metadata": {},
     "output_type": "execute_result"
    }
   ],
   "source": [
    "mean_salary_player_state['salary'].groupby(mean_salary_player_state['state']).mean()"
   ]
  },
  {
   "cell_type": "code",
   "execution_count": null,
   "metadata": {
    "collapsed": true
   },
   "outputs": [],
   "source": []
  },
  {
   "cell_type": "code",
   "execution_count": 20,
   "metadata": {
    "collapsed": true
   },
   "outputs": [],
   "source": [
    "sorted_states = sorted(mean_salary_player_state['state'].unique())\n",
    "med_salary_states = np.array(mean_salary_player_state['salary'].groupby(mean_salary_player_state['state']).median())\n",
    "avg_salary_states = np.array(mean_salary_player_state['salary'].groupby(mean_salary_player_state['state']).mean())\n",
    "\n",
    "average_career_salary_state = pd.DataFrame({\n",
    "    'med_salary_states': med_salary_states,\n",
    "    'avg_salary_states': avg_salary_states\n",
    "}, index = sorted_states)"
   ]
  },
  {
   "cell_type": "code",
   "execution_count": 21,
   "metadata": {
    "collapsed": false
   },
   "outputs": [
    {
     "data": {
      "text/html": [
       "<div>\n",
       "<style>\n",
       "    .dataframe thead tr:only-child th {\n",
       "        text-align: right;\n",
       "    }\n",
       "\n",
       "    .dataframe thead th {\n",
       "        text-align: left;\n",
       "    }\n",
       "\n",
       "    .dataframe tbody tr th {\n",
       "        vertical-align: top;\n",
       "    }\n",
       "</style>\n",
       "<table border=\"1\" class=\"dataframe\">\n",
       "  <thead>\n",
       "    <tr style=\"text-align: right;\">\n",
       "      <th></th>\n",
       "      <th>avg_salary_states</th>\n",
       "      <th>med_salary_states</th>\n",
       "    </tr>\n",
       "  </thead>\n",
       "  <tbody>\n",
       "    <tr>\n",
       "      <th>AL</th>\n",
       "      <td>1.276717e+06</td>\n",
       "      <td>4.921667e+05</td>\n",
       "    </tr>\n",
       "    <tr>\n",
       "      <th>AR</th>\n",
       "      <td>1.011859e+06</td>\n",
       "      <td>2.950000e+05</td>\n",
       "    </tr>\n",
       "    <tr>\n",
       "      <th>AZ</th>\n",
       "      <td>1.155620e+06</td>\n",
       "      <td>4.341250e+05</td>\n",
       "    </tr>\n",
       "    <tr>\n",
       "      <th>CA</th>\n",
       "      <td>1.110264e+06</td>\n",
       "      <td>4.630000e+05</td>\n",
       "    </tr>\n",
       "    <tr>\n",
       "      <th>CO</th>\n",
       "      <td>9.970288e+05</td>\n",
       "      <td>4.183333e+05</td>\n",
       "    </tr>\n",
       "    <tr>\n",
       "      <th>CT</th>\n",
       "      <td>1.458334e+06</td>\n",
       "      <td>7.612500e+05</td>\n",
       "    </tr>\n",
       "    <tr>\n",
       "      <th>DC</th>\n",
       "      <td>6.018750e+05</td>\n",
       "      <td>5.631250e+05</td>\n",
       "    </tr>\n",
       "    <tr>\n",
       "      <th>DE</th>\n",
       "      <td>5.825600e+05</td>\n",
       "      <td>4.850000e+05</td>\n",
       "    </tr>\n",
       "    <tr>\n",
       "      <th>FL</th>\n",
       "      <td>1.035668e+06</td>\n",
       "      <td>4.140000e+05</td>\n",
       "    </tr>\n",
       "    <tr>\n",
       "      <th>GA</th>\n",
       "      <td>1.140836e+06</td>\n",
       "      <td>4.232500e+05</td>\n",
       "    </tr>\n",
       "    <tr>\n",
       "      <th>HI</th>\n",
       "      <td>4.411206e+05</td>\n",
       "      <td>3.647857e+05</td>\n",
       "    </tr>\n",
       "    <tr>\n",
       "      <th>IA</th>\n",
       "      <td>6.376090e+05</td>\n",
       "      <td>3.280000e+05</td>\n",
       "    </tr>\n",
       "    <tr>\n",
       "      <th>ID</th>\n",
       "      <td>1.085806e+06</td>\n",
       "      <td>4.000000e+05</td>\n",
       "    </tr>\n",
       "    <tr>\n",
       "      <th>IL</th>\n",
       "      <td>9.110880e+05</td>\n",
       "      <td>3.445250e+05</td>\n",
       "    </tr>\n",
       "    <tr>\n",
       "      <th>IN</th>\n",
       "      <td>8.539871e+05</td>\n",
       "      <td>4.181667e+05</td>\n",
       "    </tr>\n",
       "    <tr>\n",
       "      <th>KS</th>\n",
       "      <td>1.274668e+06</td>\n",
       "      <td>4.328636e+05</td>\n",
       "    </tr>\n",
       "    <tr>\n",
       "      <th>KY</th>\n",
       "      <td>8.752030e+05</td>\n",
       "      <td>4.038000e+05</td>\n",
       "    </tr>\n",
       "    <tr>\n",
       "      <th>LA</th>\n",
       "      <td>1.087084e+06</td>\n",
       "      <td>4.405000e+05</td>\n",
       "    </tr>\n",
       "    <tr>\n",
       "      <th>MA</th>\n",
       "      <td>8.641588e+05</td>\n",
       "      <td>6.725733e+05</td>\n",
       "    </tr>\n",
       "    <tr>\n",
       "      <th>MD</th>\n",
       "      <td>7.306194e+05</td>\n",
       "      <td>3.591250e+05</td>\n",
       "    </tr>\n",
       "    <tr>\n",
       "      <th>ME</th>\n",
       "      <td>8.658457e+05</td>\n",
       "      <td>4.424167e+05</td>\n",
       "    </tr>\n",
       "    <tr>\n",
       "      <th>MI</th>\n",
       "      <td>8.457590e+05</td>\n",
       "      <td>4.202734e+05</td>\n",
       "    </tr>\n",
       "    <tr>\n",
       "      <th>MN</th>\n",
       "      <td>1.035279e+06</td>\n",
       "      <td>6.656250e+05</td>\n",
       "    </tr>\n",
       "    <tr>\n",
       "      <th>MO</th>\n",
       "      <td>1.731259e+06</td>\n",
       "      <td>4.145714e+05</td>\n",
       "    </tr>\n",
       "    <tr>\n",
       "      <th>MS</th>\n",
       "      <td>1.255923e+06</td>\n",
       "      <td>4.820000e+05</td>\n",
       "    </tr>\n",
       "    <tr>\n",
       "      <th>NC</th>\n",
       "      <td>8.379981e+05</td>\n",
       "      <td>4.905000e+05</td>\n",
       "    </tr>\n",
       "    <tr>\n",
       "      <th>NE</th>\n",
       "      <td>7.570964e+05</td>\n",
       "      <td>4.334643e+05</td>\n",
       "    </tr>\n",
       "    <tr>\n",
       "      <th>NH</th>\n",
       "      <td>6.747619e+05</td>\n",
       "      <td>5.250000e+05</td>\n",
       "    </tr>\n",
       "    <tr>\n",
       "      <th>NJ</th>\n",
       "      <td>1.095293e+06</td>\n",
       "      <td>4.343750e+05</td>\n",
       "    </tr>\n",
       "    <tr>\n",
       "      <th>NM</th>\n",
       "      <td>5.090385e+05</td>\n",
       "      <td>4.062500e+05</td>\n",
       "    </tr>\n",
       "    <tr>\n",
       "      <th>NV</th>\n",
       "      <td>1.201041e+06</td>\n",
       "      <td>5.310000e+05</td>\n",
       "    </tr>\n",
       "    <tr>\n",
       "      <th>NY</th>\n",
       "      <td>9.433550e+05</td>\n",
       "      <td>5.156875e+05</td>\n",
       "    </tr>\n",
       "    <tr>\n",
       "      <th>OH</th>\n",
       "      <td>1.052734e+06</td>\n",
       "      <td>5.201667e+05</td>\n",
       "    </tr>\n",
       "    <tr>\n",
       "      <th>OK</th>\n",
       "      <td>8.813644e+05</td>\n",
       "      <td>4.015000e+05</td>\n",
       "    </tr>\n",
       "    <tr>\n",
       "      <th>OR</th>\n",
       "      <td>9.541024e+05</td>\n",
       "      <td>3.983333e+05</td>\n",
       "    </tr>\n",
       "    <tr>\n",
       "      <th>PA</th>\n",
       "      <td>6.900954e+05</td>\n",
       "      <td>3.495833e+05</td>\n",
       "    </tr>\n",
       "    <tr>\n",
       "      <th>RI</th>\n",
       "      <td>8.025530e+05</td>\n",
       "      <td>6.670643e+05</td>\n",
       "    </tr>\n",
       "    <tr>\n",
       "      <th>SC</th>\n",
       "      <td>8.205831e+05</td>\n",
       "      <td>4.140000e+05</td>\n",
       "    </tr>\n",
       "    <tr>\n",
       "      <th>SD</th>\n",
       "      <td>5.100000e+05</td>\n",
       "      <td>5.100000e+05</td>\n",
       "    </tr>\n",
       "    <tr>\n",
       "      <th>TN</th>\n",
       "      <td>1.273006e+06</td>\n",
       "      <td>5.208333e+05</td>\n",
       "    </tr>\n",
       "    <tr>\n",
       "      <th>TX</th>\n",
       "      <td>1.021279e+06</td>\n",
       "      <td>4.262500e+05</td>\n",
       "    </tr>\n",
       "    <tr>\n",
       "      <th>UT</th>\n",
       "      <td>1.040610e+06</td>\n",
       "      <td>4.416667e+05</td>\n",
       "    </tr>\n",
       "    <tr>\n",
       "      <th>VA</th>\n",
       "      <td>1.081425e+06</td>\n",
       "      <td>4.758333e+05</td>\n",
       "    </tr>\n",
       "    <tr>\n",
       "      <th>VT</th>\n",
       "      <td>1.080292e+06</td>\n",
       "      <td>1.080292e+06</td>\n",
       "    </tr>\n",
       "    <tr>\n",
       "      <th>WA</th>\n",
       "      <td>1.259362e+06</td>\n",
       "      <td>4.811500e+05</td>\n",
       "    </tr>\n",
       "    <tr>\n",
       "      <th>WI</th>\n",
       "      <td>1.661995e+06</td>\n",
       "      <td>5.565000e+05</td>\n",
       "    </tr>\n",
       "    <tr>\n",
       "      <th>WV</th>\n",
       "      <td>9.778697e+05</td>\n",
       "      <td>5.032000e+05</td>\n",
       "    </tr>\n",
       "    <tr>\n",
       "      <th>WY</th>\n",
       "      <td>3.480635e+05</td>\n",
       "      <td>3.038333e+05</td>\n",
       "    </tr>\n",
       "  </tbody>\n",
       "</table>\n",
       "</div>"
      ],
      "text/plain": [
       "    avg_salary_states  med_salary_states\n",
       "AL       1.276717e+06       4.921667e+05\n",
       "AR       1.011859e+06       2.950000e+05\n",
       "AZ       1.155620e+06       4.341250e+05\n",
       "CA       1.110264e+06       4.630000e+05\n",
       "CO       9.970288e+05       4.183333e+05\n",
       "CT       1.458334e+06       7.612500e+05\n",
       "DC       6.018750e+05       5.631250e+05\n",
       "DE       5.825600e+05       4.850000e+05\n",
       "FL       1.035668e+06       4.140000e+05\n",
       "GA       1.140836e+06       4.232500e+05\n",
       "HI       4.411206e+05       3.647857e+05\n",
       "IA       6.376090e+05       3.280000e+05\n",
       "ID       1.085806e+06       4.000000e+05\n",
       "IL       9.110880e+05       3.445250e+05\n",
       "IN       8.539871e+05       4.181667e+05\n",
       "KS       1.274668e+06       4.328636e+05\n",
       "KY       8.752030e+05       4.038000e+05\n",
       "LA       1.087084e+06       4.405000e+05\n",
       "MA       8.641588e+05       6.725733e+05\n",
       "MD       7.306194e+05       3.591250e+05\n",
       "ME       8.658457e+05       4.424167e+05\n",
       "MI       8.457590e+05       4.202734e+05\n",
       "MN       1.035279e+06       6.656250e+05\n",
       "MO       1.731259e+06       4.145714e+05\n",
       "MS       1.255923e+06       4.820000e+05\n",
       "NC       8.379981e+05       4.905000e+05\n",
       "NE       7.570964e+05       4.334643e+05\n",
       "NH       6.747619e+05       5.250000e+05\n",
       "NJ       1.095293e+06       4.343750e+05\n",
       "NM       5.090385e+05       4.062500e+05\n",
       "NV       1.201041e+06       5.310000e+05\n",
       "NY       9.433550e+05       5.156875e+05\n",
       "OH       1.052734e+06       5.201667e+05\n",
       "OK       8.813644e+05       4.015000e+05\n",
       "OR       9.541024e+05       3.983333e+05\n",
       "PA       6.900954e+05       3.495833e+05\n",
       "RI       8.025530e+05       6.670643e+05\n",
       "SC       8.205831e+05       4.140000e+05\n",
       "SD       5.100000e+05       5.100000e+05\n",
       "TN       1.273006e+06       5.208333e+05\n",
       "TX       1.021279e+06       4.262500e+05\n",
       "UT       1.040610e+06       4.416667e+05\n",
       "VA       1.081425e+06       4.758333e+05\n",
       "VT       1.080292e+06       1.080292e+06\n",
       "WA       1.259362e+06       4.811500e+05\n",
       "WI       1.661995e+06       5.565000e+05\n",
       "WV       9.778697e+05       5.032000e+05\n",
       "WY       3.480635e+05       3.038333e+05"
      ]
     },
     "execution_count": 21,
     "metadata": {},
     "output_type": "execute_result"
    }
   ],
   "source": [
    "average_career_salary_state"
   ]
  },
  {
   "cell_type": "code",
   "execution_count": 22,
   "metadata": {
    "collapsed": false
   },
   "outputs": [
    {
     "data": {
      "text/html": [
       "<iframe src=plot_data.html width=700 height=450></iframe>"
      ],
      "text/plain": [
       "<IPython.core.display.HTML object>"
      ]
     },
     "execution_count": 22,
     "metadata": {},
     "output_type": "execute_result"
    }
   ],
   "source": [
    "import folium # conda install -c ioos folium=0.2.1 \n",
    "\n",
    "state_geo = 'C:/folium-master/examples/data/us-states.json' # from w/in folium package\n",
    "\n",
    "# Setup a folium map at a high-level zoom @Alok (100,0) are NOT lat long coordinates\n",
    "map = folium.Map(location = [39, -97], zoom_start = 3.5)\n",
    "\n",
    "# use built-in method \"choropleth\" for choropleth maps that bind Pandas Data Frames and json geometries together.  \n",
    "# This allows us to quickly visualize data combinations\n",
    "\n",
    "plot_data = average_career_salary_state['med_salary_states']\n",
    "\n",
    "map.choropleth(geo_path = state_geo, data = plot_data,\n",
    "               columns = ['StateCode','Value'],\n",
    "               key_on = 'feature.id',  # refers to label in the JSON object that has country code as the feature ID\n",
    "               fill_color = 'YlGnBu', fill_opacity = 0.7,\n",
    "               line_opacity = 0.2,\n",
    "              # legend_name = legend_label\n",
    "              )\n",
    "\n",
    "# Create Folium plot\n",
    "map.save('plot_data.html')\n",
    "\n",
    "# Import the Folium interactive html file\n",
    "from IPython.display import HTML\n",
    "HTML('<iframe src=plot_data.html width=700 height=450></iframe>')"
   ]
  },
  {
   "cell_type": "code",
   "execution_count": 23,
   "metadata": {
    "collapsed": false
   },
   "outputs": [
    {
     "data": {
      "text/html": [
       "<div>\n",
       "<style>\n",
       "    .dataframe thead tr:only-child th {\n",
       "        text-align: right;\n",
       "    }\n",
       "\n",
       "    .dataframe thead th {\n",
       "        text-align: left;\n",
       "    }\n",
       "\n",
       "    .dataframe tbody tr th {\n",
       "        vertical-align: top;\n",
       "    }\n",
       "</style>\n",
       "<table border=\"1\" class=\"dataframe\">\n",
       "  <thead>\n",
       "    <tr style=\"text-align: right;\">\n",
       "      <th></th>\n",
       "      <th>teamID</th>\n",
       "      <th>salary</th>\n",
       "    </tr>\n",
       "  </thead>\n",
       "  <tbody>\n",
       "    <tr>\n",
       "      <th>0</th>\n",
       "      <td>ANA</td>\n",
       "      <td>1.941196e+06</td>\n",
       "    </tr>\n",
       "    <tr>\n",
       "      <th>1</th>\n",
       "      <td>ARI</td>\n",
       "      <td>2.669340e+06</td>\n",
       "    </tr>\n",
       "    <tr>\n",
       "      <th>2</th>\n",
       "      <td>ATL</td>\n",
       "      <td>1.677754e+06</td>\n",
       "    </tr>\n",
       "    <tr>\n",
       "      <th>3</th>\n",
       "      <td>BAL</td>\n",
       "      <td>1.998160e+06</td>\n",
       "    </tr>\n",
       "    <tr>\n",
       "      <th>4</th>\n",
       "      <td>BOS</td>\n",
       "      <td>2.503153e+06</td>\n",
       "    </tr>\n",
       "  </tbody>\n",
       "</table>\n",
       "</div>"
      ],
      "text/plain": [
       "  teamID        salary\n",
       "0    ANA  1.941196e+06\n",
       "1    ARI  2.669340e+06\n",
       "2    ATL  1.677754e+06\n",
       "3    BAL  1.998160e+06\n",
       "4    BOS  2.503153e+06"
      ]
     },
     "execution_count": 23,
     "metadata": {},
     "output_type": "execute_result"
    }
   ],
   "source": [
    "## group dataframe by team, check mean salary of each\n",
    "\n",
    "grouped_salaries_team = salaries_college_state.groupby(['teamID'], as_index=False)\n",
    "grouped_salaries_team['salary'].mean().head()"
   ]
  },
  {
   "cell_type": "code",
   "execution_count": 24,
   "metadata": {
    "collapsed": false
   },
   "outputs": [
    {
     "data": {
      "text/html": [
       "<iframe src=plot_data.html width=700 height=450></iframe>"
      ],
      "text/plain": [
       "<IPython.core.display.HTML object>"
      ]
     },
     "execution_count": 24,
     "metadata": {},
     "output_type": "execute_result"
    }
   ],
   "source": [
    "import folium # conda install -c ioos folium=0.2.1 \n",
    "\n",
    "state_geo = 'C:/folium-master/examples/data/us-states.json' # from w/in folium package\n",
    "\n",
    "# Setup a folium map at a high-level zoom @Alok (100,0) are NOT lat long coordinates\n",
    "map = folium.Map(location = [39, -97], zoom_start = 3.5)\n",
    "\n",
    "# use built-in method \"choropleth\" for choropleth maps that bind Pandas Data Frames and json geometries together.  \n",
    "# This allows us to quickly visualize data combinations\n",
    "\n",
    "plot_data = average_career_salary_state['avg_salary_states']\n",
    "\n",
    "map.choropleth(geo_path = state_geo, data = plot_data,\n",
    "               columns = ['StateCode','Value'],\n",
    "               key_on = 'feature.id',  # refers to label in the JSON object that has country code as the feature ID\n",
    "               fill_color = 'YlGnBu', fill_opacity = 0.7,\n",
    "               line_opacity = 0.2,\n",
    "              # legend_name = legend_label\n",
    "              )\n",
    "\n",
    "# Create Folium plot\n",
    "map.save('plot_data.html')\n",
    "\n",
    "# Import the Folium interactive html file\n",
    "from IPython.display import HTML\n",
    "HTML('<iframe src=plot_data.html width=700 height=450></iframe>')"
   ]
  },
  {
   "cell_type": "code",
   "execution_count": 25,
   "metadata": {
    "collapsed": false
   },
   "outputs": [
    {
     "name": "stdout",
     "output_type": "stream",
     "text": [
      "  teamID        salary\n",
      "0    ANA  1.941196e+06\n",
      "1    ARI  2.669340e+06\n",
      "2    ATL  1.677754e+06\n",
      "3    BAL  1.998160e+06\n",
      "4    BOS  2.503153e+06\n",
      "  teamID   salary\n",
      "0    ANA   500000\n",
      "1    ARI  1350000\n",
      "2    ATL   515000\n",
      "3    BAL   750000\n",
      "4    BOS   805000\n"
     ]
    }
   ],
   "source": [
    "team_avg_salary = grouped_salaries_team['salary'].mean()\n",
    "team_med_salary = grouped_salaries_team['salary'].median()\n",
    "\n",
    "print(team_avg_salary.head())\n",
    "print(team_med_salary.head())"
   ]
  },
  {
   "cell_type": "code",
   "execution_count": 26,
   "metadata": {
    "collapsed": false
   },
   "outputs": [
    {
     "name": "stdout",
     "output_type": "stream",
     "text": [
      "  teamID        salary\n",
      "0    ANA  1.941196e+06\n",
      "1    ARI  2.669340e+06\n",
      "2    ATL  1.677754e+06\n",
      "3    BAL  1.998160e+06\n",
      "4    BOS  2.503153e+06\n",
      "  teamID   salary\n",
      "0    ANA   500000\n",
      "1    ARI  1350000\n",
      "2    ATL   515000\n",
      "3    BAL   750000\n",
      "4    BOS   805000\n"
     ]
    }
   ],
   "source": [
    "## create DataFrames of average and median salaries by team\n",
    "team_avg_salary = grouped_salaries_team['salary'].mean()\n",
    "team_med_salary = grouped_salaries_team['salary'].median()\n",
    "\n",
    "print(team_avg_salary.head())\n",
    "print(team_med_salary.head())"
   ]
  },
  {
   "cell_type": "code",
   "execution_count": 27,
   "metadata": {
    "collapsed": false
   },
   "outputs": [
    {
     "name": "stdout",
     "output_type": "stream",
     "text": [
      "['ANA', 'ARI', 'ATL', 'BAL', 'BOS']\n",
      "[ 1941196.01318267  2669339.82803943  1677753.94720169  1998159.68257411\n",
      "  2503152.63230994]\n",
      "[ 500000 1350000  515000  750000  805000]\n"
     ]
    }
   ],
   "source": [
    "## put the DataFrame into list for the index and arrays for the data\n",
    "sorted_teams = sorted(team_avg_salary['teamID'].unique())\n",
    "avg_team_salary = np.array(team_avg_salary['salary'])\n",
    "med_team_salary = np.array(team_med_salary['salary'])\n",
    "\n",
    "print(sorted_teams[:5])\n",
    "print(avg_team_salary[:5])\n",
    "print(med_team_salary[:5])"
   ]
  },
  {
   "cell_type": "code",
   "execution_count": 28,
   "metadata": {
    "collapsed": false
   },
   "outputs": [
    {
     "data": {
      "text/html": [
       "<div>\n",
       "<style>\n",
       "    .dataframe thead tr:only-child th {\n",
       "        text-align: right;\n",
       "    }\n",
       "\n",
       "    .dataframe thead th {\n",
       "        text-align: left;\n",
       "    }\n",
       "\n",
       "    .dataframe tbody tr th {\n",
       "        vertical-align: top;\n",
       "    }\n",
       "</style>\n",
       "<table border=\"1\" class=\"dataframe\">\n",
       "  <thead>\n",
       "    <tr style=\"text-align: right;\">\n",
       "      <th></th>\n",
       "      <th>avg_salary</th>\n",
       "      <th>med_salary</th>\n",
       "    </tr>\n",
       "  </thead>\n",
       "  <tbody>\n",
       "    <tr>\n",
       "      <th>ANA</th>\n",
       "      <td>1.941196e+06</td>\n",
       "      <td>500000</td>\n",
       "    </tr>\n",
       "    <tr>\n",
       "      <th>ARI</th>\n",
       "      <td>2.669340e+06</td>\n",
       "      <td>1350000</td>\n",
       "    </tr>\n",
       "    <tr>\n",
       "      <th>ATL</th>\n",
       "      <td>1.677754e+06</td>\n",
       "      <td>515000</td>\n",
       "    </tr>\n",
       "    <tr>\n",
       "      <th>BAL</th>\n",
       "      <td>1.998160e+06</td>\n",
       "      <td>750000</td>\n",
       "    </tr>\n",
       "    <tr>\n",
       "      <th>BOS</th>\n",
       "      <td>2.503153e+06</td>\n",
       "      <td>805000</td>\n",
       "    </tr>\n",
       "  </tbody>\n",
       "</table>\n",
       "</div>"
      ],
      "text/plain": [
       "       avg_salary  med_salary\n",
       "ANA  1.941196e+06      500000\n",
       "ARI  2.669340e+06     1350000\n",
       "ATL  1.677754e+06      515000\n",
       "BAL  1.998160e+06      750000\n",
       "BOS  2.503153e+06      805000"
      ]
     },
     "execution_count": 28,
     "metadata": {},
     "output_type": "execute_result"
    }
   ],
   "source": [
    "## create new DataFrame with both arrays as columns\n",
    "average_team_salary_df = pd.DataFrame({\n",
    "    'med_salary': med_team_salary,\n",
    "    'avg_salary': avg_team_salary\n",
    "}, index = sorted_teams)\n",
    "\n",
    "average_team_salary_df.head()"
   ]
  },
  {
   "cell_type": "code",
   "execution_count": 29,
   "metadata": {
    "collapsed": false
   },
   "outputs": [
    {
     "name": "stdout",
     "output_type": "stream",
     "text": [
      "       avg_salary  med_salary\n",
      "NYY  1.381071e+07    13500000\n",
      "SFG  9.518590e+06     9000000\n",
      "WSN  6.898691e+06     4000000\n",
      "CHC  6.358333e+06     2500000\n",
      "NYM  5.871053e+06     4325000 \n",
      "\n",
      "       avg_salary  med_salary\n",
      "NYY  1.381071e+07    13500000\n",
      "SFG  9.518590e+06     9000000\n",
      "KCR  5.412500e+06     5500000\n",
      "LAD  4.831629e+06     4500000\n",
      "NYM  5.871053e+06     4325000\n"
     ]
    }
   ],
   "source": [
    "## Create 2 new DataFrames, sorted by respective columns\n",
    "sorted_avg_salary = average_team_salary_df.sort_values(by='avg_salary', ascending=False)\n",
    "sorted_med_salary = average_team_salary_df.sort_values(by='med_salary', ascending=False)\n",
    "\n",
    "print(sorted_avg_salary.head(),'\\n')\n",
    "print(sorted_med_salary.head())"
   ]
  },
  {
   "cell_type": "code",
   "execution_count": 30,
   "metadata": {
    "collapsed": false
   },
   "outputs": [
    {
     "data": {
      "image/png": "[encoded data removed]",
      "text/plain": [
       "<matplotlib.figure.Figure at 0xbddbd68>"
      ]
     },
     "metadata": {},
     "output_type": "display_data"
    }
   ],
   "source": [
    "fig, axes = plt.subplots(1, 2, figsize=(15,8)) \n",
    "\n",
    "fig.suptitle(\"Team Data\", fontsize = 20, y = 0.95)\n",
    "\n",
    "sorted_avg_salary['avg_salary'].head(10).plot(kind = 'bar', ax = axes[1])\n",
    "sorted_med_salary['med_salary'].head(10).plot(kind = 'bar', ax = axes[0])\n",
    "\n",
    "axes[0].set_xlabel('Median')\n",
    "#axes[0].set_xticks()\n",
    "\n",
    "axes[1].set_xlabel('Average')\n",
    "#axes[1].set_xticks(rotation=45)\n",
    "\n",
    "plt.show()"
   ]
  }
 ],
 "metadata": {
  "anaconda-cloud": {},
  "kernelspec": {
   "display_name": "Python 3",
   "language": "python",
   "name": "python3"
  },
  "language_info": {
   "codemirror_mode": {
    "name": "ipython",
    "version": 3
   },
   "file_extension": ".py",
   "mimetype": "text/x-python",
   "name": "python",
   "nbconvert_exporter": "python",
   "pygments_lexer": "ipython3",
   "version": "3.6.0"
  }
 },
 "nbformat": 4,
 "nbformat_minor": 2
}
