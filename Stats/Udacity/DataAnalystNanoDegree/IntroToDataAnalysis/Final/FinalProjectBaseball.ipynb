{
 "cells": [
  {
   "cell_type": "code",
   "execution_count": 15,
   "metadata": {
    "collapsed": true
   },
   "outputs": [],
   "source": [
    "import numpy as np\n",
    "import pandas as pd\n",
    "import matplotlib.pyplot as plt"
   ]
  },
  {
   "cell_type": "markdown",
   "metadata": {},
   "source": [
    "First, we need to import some datasets. I need to **Salaries** dataset for data about players and their salaries, the **CollegePlaying** dataset for data about what college a player went to, and then the **Schools** dataset for data about different colleges."
   ]
  },
  {
   "cell_type": "code",
   "execution_count": 16,
   "metadata": {
    "collapsed": true
   },
   "outputs": [],
   "source": [
    "## get datasets\n",
    "salaries = pd.read_csv('./files/Salaries.csv')\n",
    "schools = pd.read_csv('./files/Schools.csv')\n",
    "college = pd.read_csv('./files/CollegePlaying.csv')"
   ]
  },
  {
   "cell_type": "markdown",
   "metadata": {},
   "source": [
    "Now it's time to inspect them."
   ]
  },
  {
   "cell_type": "code",
   "execution_count": 17,
   "metadata": {
    "collapsed": false
   },
   "outputs": [
    {
     "data": {
      "text/html": [
       "<div>\n",
       "<style>\n",
       "    .dataframe thead tr:only-child th {\n",
       "        text-align: right;\n",
       "    }\n",
       "\n",
       "    .dataframe thead th {\n",
       "        text-align: left;\n",
       "    }\n",
       "\n",
       "    .dataframe tbody tr th {\n",
       "        vertical-align: top;\n",
       "    }\n",
       "</style>\n",
       "<table border=\"1\" class=\"dataframe\">\n",
       "  <thead>\n",
       "    <tr style=\"text-align: right;\">\n",
       "      <th></th>\n",
       "      <th>schoolID</th>\n",
       "      <th>name_full</th>\n",
       "      <th>city</th>\n",
       "      <th>state</th>\n",
       "      <th>country</th>\n",
       "    </tr>\n",
       "  </thead>\n",
       "  <tbody>\n",
       "    <tr>\n",
       "      <th>0</th>\n",
       "      <td>abilchrist</td>\n",
       "      <td>Abilene Christian University</td>\n",
       "      <td>Abilene</td>\n",
       "      <td>TX</td>\n",
       "      <td>USA</td>\n",
       "    </tr>\n",
       "    <tr>\n",
       "      <th>1</th>\n",
       "      <td>adelphi</td>\n",
       "      <td>Adelphi University</td>\n",
       "      <td>Garden City</td>\n",
       "      <td>NY</td>\n",
       "      <td>USA</td>\n",
       "    </tr>\n",
       "    <tr>\n",
       "      <th>2</th>\n",
       "      <td>adrianmi</td>\n",
       "      <td>Adrian College</td>\n",
       "      <td>Adrian</td>\n",
       "      <td>MI</td>\n",
       "      <td>USA</td>\n",
       "    </tr>\n",
       "    <tr>\n",
       "      <th>3</th>\n",
       "      <td>akron</td>\n",
       "      <td>University of Akron</td>\n",
       "      <td>Akron</td>\n",
       "      <td>OH</td>\n",
       "      <td>USA</td>\n",
       "    </tr>\n",
       "    <tr>\n",
       "      <th>4</th>\n",
       "      <td>alabama</td>\n",
       "      <td>University of Alabama</td>\n",
       "      <td>Tuscaloosa</td>\n",
       "      <td>AL</td>\n",
       "      <td>USA</td>\n",
       "    </tr>\n",
       "  </tbody>\n",
       "</table>\n",
       "</div>"
      ],
      "text/plain": [
       "     schoolID                     name_full         city state country\n",
       "0  abilchrist  Abilene Christian University      Abilene    TX     USA\n",
       "1     adelphi            Adelphi University  Garden City    NY     USA\n",
       "2    adrianmi                Adrian College       Adrian    MI     USA\n",
       "3       akron           University of Akron        Akron    OH     USA\n",
       "4     alabama         University of Alabama   Tuscaloosa    AL     USA"
      ]
     },
     "execution_count": 17,
     "metadata": {},
     "output_type": "execute_result"
    }
   ],
   "source": [
    "schools.head()"
   ]
  },
  {
   "cell_type": "code",
   "execution_count": 18,
   "metadata": {
    "collapsed": false
   },
   "outputs": [
    {
     "data": {
      "text/html": [
       "<div>\n",
       "<style>\n",
       "    .dataframe thead tr:only-child th {\n",
       "        text-align: right;\n",
       "    }\n",
       "\n",
       "    .dataframe thead th {\n",
       "        text-align: left;\n",
       "    }\n",
       "\n",
       "    .dataframe tbody tr th {\n",
       "        vertical-align: top;\n",
       "    }\n",
       "</style>\n",
       "<table border=\"1\" class=\"dataframe\">\n",
       "  <thead>\n",
       "    <tr style=\"text-align: right;\">\n",
       "      <th></th>\n",
       "      <th>yearID</th>\n",
       "      <th>teamID</th>\n",
       "      <th>lgID</th>\n",
       "      <th>playerID</th>\n",
       "      <th>salary</th>\n",
       "    </tr>\n",
       "  </thead>\n",
       "  <tbody>\n",
       "    <tr>\n",
       "      <th>0</th>\n",
       "      <td>1985</td>\n",
       "      <td>ATL</td>\n",
       "      <td>NL</td>\n",
       "      <td>barkele01</td>\n",
       "      <td>870000</td>\n",
       "    </tr>\n",
       "    <tr>\n",
       "      <th>1</th>\n",
       "      <td>1985</td>\n",
       "      <td>ATL</td>\n",
       "      <td>NL</td>\n",
       "      <td>bedrost01</td>\n",
       "      <td>550000</td>\n",
       "    </tr>\n",
       "    <tr>\n",
       "      <th>2</th>\n",
       "      <td>1985</td>\n",
       "      <td>ATL</td>\n",
       "      <td>NL</td>\n",
       "      <td>benedbr01</td>\n",
       "      <td>545000</td>\n",
       "    </tr>\n",
       "    <tr>\n",
       "      <th>3</th>\n",
       "      <td>1985</td>\n",
       "      <td>ATL</td>\n",
       "      <td>NL</td>\n",
       "      <td>campri01</td>\n",
       "      <td>633333</td>\n",
       "    </tr>\n",
       "    <tr>\n",
       "      <th>4</th>\n",
       "      <td>1985</td>\n",
       "      <td>ATL</td>\n",
       "      <td>NL</td>\n",
       "      <td>ceronri01</td>\n",
       "      <td>625000</td>\n",
       "    </tr>\n",
       "  </tbody>\n",
       "</table>\n",
       "</div>"
      ],
      "text/plain": [
       "   yearID teamID lgID   playerID  salary\n",
       "0    1985    ATL   NL  barkele01  870000\n",
       "1    1985    ATL   NL  bedrost01  550000\n",
       "2    1985    ATL   NL  benedbr01  545000\n",
       "3    1985    ATL   NL   campri01  633333\n",
       "4    1985    ATL   NL  ceronri01  625000"
      ]
     },
     "execution_count": 18,
     "metadata": {},
     "output_type": "execute_result"
    }
   ],
   "source": [
    "salaries.head()"
   ]
  },
  {
   "cell_type": "code",
   "execution_count": 19,
   "metadata": {
    "collapsed": false
   },
   "outputs": [
    {
     "data": {
      "text/html": [
       "<div>\n",
       "<style>\n",
       "    .dataframe thead tr:only-child th {\n",
       "        text-align: right;\n",
       "    }\n",
       "\n",
       "    .dataframe thead th {\n",
       "        text-align: left;\n",
       "    }\n",
       "\n",
       "    .dataframe tbody tr th {\n",
       "        vertical-align: top;\n",
       "    }\n",
       "</style>\n",
       "<table border=\"1\" class=\"dataframe\">\n",
       "  <thead>\n",
       "    <tr style=\"text-align: right;\">\n",
       "      <th></th>\n",
       "      <th>playerID</th>\n",
       "      <th>schoolID</th>\n",
       "      <th>yearID</th>\n",
       "    </tr>\n",
       "  </thead>\n",
       "  <tbody>\n",
       "    <tr>\n",
       "      <th>0</th>\n",
       "      <td>aardsda01</td>\n",
       "      <td>pennst</td>\n",
       "      <td>2001</td>\n",
       "    </tr>\n",
       "    <tr>\n",
       "      <th>1</th>\n",
       "      <td>aardsda01</td>\n",
       "      <td>rice</td>\n",
       "      <td>2002</td>\n",
       "    </tr>\n",
       "    <tr>\n",
       "      <th>2</th>\n",
       "      <td>aardsda01</td>\n",
       "      <td>rice</td>\n",
       "      <td>2003</td>\n",
       "    </tr>\n",
       "    <tr>\n",
       "      <th>3</th>\n",
       "      <td>abadan01</td>\n",
       "      <td>gamiddl</td>\n",
       "      <td>1992</td>\n",
       "    </tr>\n",
       "    <tr>\n",
       "      <th>4</th>\n",
       "      <td>abadan01</td>\n",
       "      <td>gamiddl</td>\n",
       "      <td>1993</td>\n",
       "    </tr>\n",
       "  </tbody>\n",
       "</table>\n",
       "</div>"
      ],
      "text/plain": [
       "    playerID schoolID  yearID\n",
       "0  aardsda01   pennst    2001\n",
       "1  aardsda01     rice    2002\n",
       "2  aardsda01     rice    2003\n",
       "3   abadan01  gamiddl    1992\n",
       "4   abadan01  gamiddl    1993"
      ]
     },
     "execution_count": 19,
     "metadata": {},
     "output_type": "execute_result"
    }
   ],
   "source": [
    "college.head()"
   ]
  },
  {
   "cell_type": "markdown",
   "metadata": {},
   "source": [
    "<h1> The Overall Average and Median Career Salaries by Most Popular College and Most Popular State for College </h1>"
   ]
  },
  {
   "cell_type": "markdown",
   "metadata": {},
   "source": [
    "It looks like in order to figure out which college a player went to and which state that college is in, I need to ***merge*** the Salaries dataset (**salaries**) with the CollegePlaying dataset (**college**) by the **playerID** field.\n",
    "\n",
    "Then I'd need to merge *again* in order to combine this new dataset, **salaries_college** with the Schools dataset (**schools**) on the **schoolID** to bring in what state a college is in, and I'll call this final dataset **salaries_college_state**"
   ]
  },
  {
   "cell_type": "code",
   "execution_count": 20,
   "metadata": {
    "collapsed": false
   },
   "outputs": [
    {
     "data": {
      "text/html": [
       "<div>\n",
       "<style>\n",
       "    .dataframe thead tr:only-child th {\n",
       "        text-align: right;\n",
       "    }\n",
       "\n",
       "    .dataframe thead th {\n",
       "        text-align: left;\n",
       "    }\n",
       "\n",
       "    .dataframe tbody tr th {\n",
       "        vertical-align: top;\n",
       "    }\n",
       "</style>\n",
       "<table border=\"1\" class=\"dataframe\">\n",
       "  <thead>\n",
       "    <tr style=\"text-align: right;\">\n",
       "      <th></th>\n",
       "      <th>yearID</th>\n",
       "      <th>teamID</th>\n",
       "      <th>lgID</th>\n",
       "      <th>playerID</th>\n",
       "      <th>salary</th>\n",
       "      <th>schoolID</th>\n",
       "      <th>state</th>\n",
       "      <th>name_full</th>\n",
       "    </tr>\n",
       "  </thead>\n",
       "  <tbody>\n",
       "    <tr>\n",
       "      <th>0</th>\n",
       "      <td>1985</td>\n",
       "      <td>ATL</td>\n",
       "      <td>NL</td>\n",
       "      <td>bedrost01</td>\n",
       "      <td>550000</td>\n",
       "      <td>newhaven</td>\n",
       "      <td>CT</td>\n",
       "      <td>University of New Haven</td>\n",
       "    </tr>\n",
       "    <tr>\n",
       "      <th>1</th>\n",
       "      <td>1986</td>\n",
       "      <td>PHI</td>\n",
       "      <td>NL</td>\n",
       "      <td>bedrost01</td>\n",
       "      <td>650000</td>\n",
       "      <td>newhaven</td>\n",
       "      <td>CT</td>\n",
       "      <td>University of New Haven</td>\n",
       "    </tr>\n",
       "    <tr>\n",
       "      <th>2</th>\n",
       "      <td>1987</td>\n",
       "      <td>PHI</td>\n",
       "      <td>NL</td>\n",
       "      <td>bedrost01</td>\n",
       "      <td>1050000</td>\n",
       "      <td>newhaven</td>\n",
       "      <td>CT</td>\n",
       "      <td>University of New Haven</td>\n",
       "    </tr>\n",
       "    <tr>\n",
       "      <th>3</th>\n",
       "      <td>1988</td>\n",
       "      <td>PHI</td>\n",
       "      <td>NL</td>\n",
       "      <td>bedrost01</td>\n",
       "      <td>925000</td>\n",
       "      <td>newhaven</td>\n",
       "      <td>CT</td>\n",
       "      <td>University of New Haven</td>\n",
       "    </tr>\n",
       "    <tr>\n",
       "      <th>4</th>\n",
       "      <td>1989</td>\n",
       "      <td>PHI</td>\n",
       "      <td>NL</td>\n",
       "      <td>bedrost01</td>\n",
       "      <td>1450000</td>\n",
       "      <td>newhaven</td>\n",
       "      <td>CT</td>\n",
       "      <td>University of New Haven</td>\n",
       "    </tr>\n",
       "  </tbody>\n",
       "</table>\n",
       "</div>"
      ],
      "text/plain": [
       "   yearID teamID lgID   playerID   salary  schoolID state  \\\n",
       "0    1985    ATL   NL  bedrost01   550000  newhaven    CT   \n",
       "1    1986    PHI   NL  bedrost01   650000  newhaven    CT   \n",
       "2    1987    PHI   NL  bedrost01  1050000  newhaven    CT   \n",
       "3    1988    PHI   NL  bedrost01   925000  newhaven    CT   \n",
       "4    1989    PHI   NL  bedrost01  1450000  newhaven    CT   \n",
       "\n",
       "                 name_full  \n",
       "0  University of New Haven  \n",
       "1  University of New Haven  \n",
       "2  University of New Haven  \n",
       "3  University of New Haven  \n",
       "4  University of New Haven  "
      ]
     },
     "execution_count": 20,
     "metadata": {},
     "output_type": "execute_result"
    }
   ],
   "source": [
    "## bring in college to player salary DataFrame\n",
    "salaries_college = pd.merge(salaries,college.iloc[:,:2], on='playerID')\n",
    "\n",
    "## bring in college state into new DataFrame\n",
    "salaries_college_state = pd.merge(salaries_college,schools[['schoolID','state','name_full']],on='schoolID')\n",
    "\n",
    "## inspect DataFrame\n",
    "salaries_college_state.head()"
   ]
  },
  {
   "cell_type": "markdown",
   "metadata": {},
   "source": [
    "Next, to see the most popular colleges in this dataset, I need to group the records by schoolID and then count how many records appear in each group."
   ]
  },
  {
   "cell_type": "code",
   "execution_count": 21,
   "metadata": {
    "collapsed": false,
    "scrolled": true
   },
   "outputs": [
    {
     "data": {
      "text/plain": [
       "schoolID   schoolID \n",
       "ucla       ucla         718\n",
       "usc        usc          655\n",
       "arizonast  arizonast    632\n",
       "stanford   stanford     595\n",
       "lsu        lsu          592\n",
       "miamifl    miamifl      492\n",
       "floridast  floridast    487\n",
       "texas      texas        477\n",
       "calstfull  calstfull    471\n",
       "gatech     gatech       446\n",
       "Name: schoolID, dtype: int64"
      ]
     },
     "execution_count": 21,
     "metadata": {},
     "output_type": "execute_result"
    }
   ],
   "source": [
    "## get count of records grouped by schools and sort in descending order\n",
    "popular_schools = salaries_college_state['schoolID'].groupby(salaries_college_state['schoolID']).value_counts().sort_values(ascending = False)\n",
    "\n",
    "## view top 10 most popular schools\n",
    "popular_schools.head(10)"
   ]
  },
  {
   "cell_type": "markdown",
   "metadata": {},
   "source": [
    "But wait. Unfortunately, this is the total count of *ALL* schoolID's in the dataset, but it is *NOT* accounting for multiple records of the *same player*, and therefore I've got duplicate counts. In other words, I've got multiple records for the same playerID if they played for multiple years, and for each year they played, their alma mater is represented another time in the count.\n",
    "\n",
    "I need to group records by player and *then* group them by college and count *these* values to get the counts of *unique* players from each college. I'm also going to start using **name_full** instead of schoolID in order to make it more digestable for readers (in my opinion, at least).\n",
    "\n",
    "I can then do this same process but for the states in which colleges are located by grouping records by state after grouping by player."
   ]
  },
  {
   "cell_type": "markdown",
   "metadata": {},
   "source": [
    "Now, I need to get grab out the mean career salaries of each player and also include the college and college state of those players."
   ]
  },
  {
   "cell_type": "code",
   "execution_count": 22,
   "metadata": {
    "collapsed": true
   },
   "outputs": [],
   "source": [
    "## get unique combo of player + school to get counts of schools a player went to\n",
    "grouped_salaries_college = salaries_college_state.groupby(['playerID','name_full'], as_index=False)\n",
    "\n",
    "## do the same for player and state of college\n",
    "grouped_salaries_state = salaries_college_state.groupby(['playerID','state'], as_index=False)"
   ]
  },
  {
   "cell_type": "code",
   "execution_count": 23,
   "metadata": {
    "collapsed": false
   },
   "outputs": [
    {
     "name": "stdout",
     "output_type": "stream",
     "text": [
      "Mean Salaries by College: \n",
      "                        name_full        salary   playerID\n",
      "0  Pennsylvania State University  1.322821e+06  aardsda01\n",
      "1                Rice University  1.322821e+06  aardsda01\n",
      "2         Middle Georgia College  3.270000e+05   abadan01\n",
      "3         University of Kentucky  2.462500e+05  abbotje01\n",
      "4         University of Michigan  1.440056e+06  abbotji01 \n",
      "\n",
      "Mean Salaries by State: \n",
      "   state        salary   playerID\n",
      "0    PA  1.322821e+06  aardsda01\n",
      "1    TX  1.322821e+06  aardsda01\n",
      "2    GA  3.270000e+05   abadan01\n",
      "3    KY  2.462500e+05  abbotje01\n",
      "4    MI  1.440056e+06  abbotji01\n"
     ]
    }
   ],
   "source": [
    "## get mean career salary of players by college and by state\n",
    "mean_salary_player_college = grouped_salaries_college.mean()[['name_full','salary','playerID']]\n",
    "mean_salary_player_state = grouped_salaries_state.mean()[['state','salary','playerID']]\n",
    "\n",
    "print('Mean Salaries by College:','\\n',mean_salary_player_college.head(),'\\n')\n",
    "#print(type(mean_salary_player_college),'\\n')\n",
    "print('Mean Salaries by State:','\\n',mean_salary_player_state.head())"
   ]
  },
  {
   "cell_type": "markdown",
   "metadata": {},
   "source": [
    "Notice that some players went to 2 colleges and therefore \"played for\" 2 states. I'll ignore that for this analysis.\n",
    "\n",
    "Now I want to apply this data to just the most \"popular\" colleges and states, displayed below."
   ]
  },
  {
   "cell_type": "code",
   "execution_count": 24,
   "metadata": {
    "collapsed": false
   },
   "outputs": [
    {
     "name": "stdout",
     "output_type": "stream",
     "text": [
      "name_full\n",
      "Arizona State University                 51\n",
      "University of Southern California        44\n",
      "Stanford University                      44\n",
      "University of California, Los Angeles    41\n",
      "University of Texas at Austin            41\n",
      "Louisiana State University               40\n",
      "University of Miami                      38\n",
      "California State University Fullerton    34\n",
      "Oklahoma State University                33\n",
      "University of Arizona                    33\n",
      "Name: playerID, dtype: int64 \n",
      "\n",
      "state\n",
      "CA    596\n",
      "FL    275\n",
      "TX    255\n",
      "AZ    122\n",
      "LA    103\n",
      "OK    101\n",
      "NC    101\n",
      "IL     96\n",
      "SC     81\n",
      "AL     78\n",
      "Name: playerID, dtype: int64\n"
     ]
    }
   ],
   "source": [
    "## find most frequent colleges + states\n",
    "top_colleges = mean_salary_player_college['playerID'].groupby(mean_salary_player_college['name_full']).count().sort_values(ascending = False)\n",
    "print(top_colleges.head(10),'\\n')\n",
    "\n",
    "top_states = mean_salary_player_state['playerID'].groupby(mean_salary_player_state['state']).count().sort_values(ascending = False)\n",
    "print(top_states.head(10))"
   ]
  },
  {
   "cell_type": "markdown",
   "metadata": {},
   "source": [
    "Now, I want to place these colleges and states into a list and then filter out our DataFrames of the mean salaries to just contain these colleges and states.\n",
    "\n",
    "Also, I am going to cut down the states to just those with over 100 records (players), just because."
   ]
  },
  {
   "cell_type": "code",
   "execution_count": 25,
   "metadata": {
    "collapsed": false
   },
   "outputs": [
    {
     "name": "stdout",
     "output_type": "stream",
     "text": [
      "                                name_full        salary\n",
      "10          University of Texas at Austin  4.265000e+05\n",
      "18                    Stanford University  1.478333e+05\n",
      "20              Oklahoma State University  3.010000e+05\n",
      "24             Louisiana State University  2.848750e+05\n",
      "29                    Stanford University  2.615000e+05\n",
      "39                    University of Miami  1.560000e+06\n",
      "43      University of Southern California  1.700000e+05\n",
      "49  University of California, Los Angeles  3.962500e+05\n",
      "50                    Stanford University  1.780000e+05\n",
      "51  University of California, Los Angeles  4.467000e+05 \n",
      "\n",
      "   state        salary\n",
      "1     TX  1.322821e+06\n",
      "5     CA  1.295000e+05\n",
      "6     FL  3.270000e+05\n",
      "9     TX  4.265000e+05\n",
      "10    NC  2.460000e+06\n",
      "13    CA  1.805000e+05\n",
      "15    TX  2.954400e+06\n",
      "16    NC  3.295000e+05\n",
      "17    CA  1.478333e+05\n",
      "19    OK  3.010000e+05\n"
     ]
    }
   ],
   "source": [
    "## create lists of top colleges and states\n",
    "college_names = ['Arizona State University', 'University of Southern California', 'Stanford University', \n",
    "                 'University of California, Los Angeles', 'University of Texas at Austin', 'Louisiana State University',\n",
    "                 'University of Miami', 'California State University Fullerton', 'Oklahoma State University', \n",
    "                 'University of Arizona']\n",
    "state_names = ['CA','FL','TX','AZ','LA','OK','NC']\n",
    "\n",
    "## get just those records from top schools and top states\n",
    "top_colleges_avg_salary = mean_salary_player_college[mean_salary_player_college['name_full'].isin(college_names)][['name_full','salary']]\n",
    "top_states_avg_salary = mean_salary_player_state[mean_salary_player_state['state'].isin(state_names)][['state','salary']]\n",
    "\n",
    "print(top_colleges_avg_salary.head(10),'\\n')\n",
    "print(top_states_avg_salary.head(10))"
   ]
  },
  {
   "cell_type": "markdown",
   "metadata": {},
   "source": [
    "Next, I need to group these average career salaries by college and by state and then compute the mean in order to get the average career salary of all players that went to my selected colleges and went to college in my selected states."
   ]
  },
  {
   "cell_type": "code",
   "execution_count": 56,
   "metadata": {
    "collapsed": false
   },
   "outputs": [
    {
     "name": "stdout",
     "output_type": "stream",
     "text": [
      "name_full\n",
      "Arizona State University                 1.367384e+06\n",
      "California State University Fullerton    1.092951e+06\n",
      "Louisiana State University               1.221145e+06\n",
      "Oklahoma State University                8.606088e+05\n",
      "Stanford University                      1.091013e+06\n",
      "University of Arizona                    8.533860e+05\n",
      "University of California, Los Angeles    1.283692e+06\n",
      "University of Miami                      1.658219e+06\n",
      "University of Southern California        1.579411e+06\n",
      "University of Texas at Austin            8.684019e+05\n",
      "Name: salary, dtype: float64 \n",
      "\n",
      "state\n",
      "AZ    1.155620e+06\n",
      "CA    1.110264e+06\n",
      "FL    1.035668e+06\n",
      "LA    1.087084e+06\n",
      "NC    8.379981e+05\n",
      "OK    8.813644e+05\n",
      "TX    1.021279e+06\n",
      "Name: salary, dtype: float64 \n",
      "\n"
     ]
    }
   ],
   "source": [
    "# group the career salaries by college + state and inspect\n",
    "print((top_colleges_avg_salary.groupby(top_colleges_avg_salary['name_full']).mean()['salary']),'\\n')\n",
    "print((top_states_avg_salary['salary'].groupby(top_states_avg_salary['state']).mean()),'\\n')"
   ]
  },
  {
   "cell_type": "code",
   "execution_count": 62,
   "metadata": {
    "collapsed": false
   },
   "outputs": [
    {
     "data": {
      "text/plain": [
       "name_full\n",
       "Arizona State University                 477500.000000\n",
       "California State University Fullerton    498125.000000\n",
       "Louisiana State University               515391.666667\n",
       "Oklahoma State University                401000.000000\n",
       "Stanford University                      401500.000000\n",
       "University of Arizona                    405000.000000\n",
       "University of California, Los Angeles    532500.000000\n",
       "University of Miami                      521972.222222\n",
       "University of Southern California        766142.750000\n",
       "University of Texas at Austin            408000.000000\n",
       "Name: salary, dtype: float64"
      ]
     },
     "execution_count": 62,
     "metadata": {},
     "output_type": "execute_result"
    }
   ],
   "source": [
    "(top_colleges_avg_salary['salary'].groupby(top_colleges_avg_salary['name_full']).median())"
   ]
  },
  {
   "cell_type": "markdown",
   "metadata": {
    "collapsed": true
   },
   "source": [
    "So I've got 10 mean career salaries by college and 7 mean career salaries by state. Now, I am going to sort these college names and state names alphabetically, grab their mean and median career salaries and place them into NumPy arrays, and then construct 3 DataFrames wherein the 1st column will be the college/state name, and the next 2 columns would be the mean career salary and median career salary for that college/state, respectively.\n",
    "\n",
    "I am going to change my index from the full college name to the typical abbreviations for these colleges that one would see for during a sports broadcast in order to make them easier to plot on an axis."
   ]
  },
  {
   "cell_type": "code",
   "execution_count": 64,
   "metadata": {
    "collapsed": false
   },
   "outputs": [
    {
     "name": "stdout",
     "output_type": "stream",
     "text": [
      "     avg_salary_college  med_salary_college\n",
      "ASU        1.367384e+06       477500.000000\n",
      "CAL        1.092951e+06       498125.000000\n",
      "LSU        1.221145e+06       515391.666667\n",
      "OSU        8.606088e+05       401000.000000\n",
      "STN        1.091013e+06       401500.000000 \n",
      "\n",
      "    avg_salary_states  med_salary_states\n",
      "AZ       1.155620e+06           434125.0\n",
      "CA       1.110264e+06           463000.0\n",
      "FL       1.035668e+06           414000.0\n",
      "LA       1.087084e+06           440500.0\n",
      "NC       8.379981e+05           490500.0\n"
     ]
    }
   ],
   "source": [
    "## sort indices and create arrays of mean and median career salaries\n",
    "sorted_colleges = (['ASU', 'CAL', 'LSU','OSU', 'STN', 'ARI','UCLA', 'MIA', 'USC','UT'])\n",
    "med_salary_college = np.array(top_colleges_avg_salary['salary'].groupby(top_colleges_avg_salary['name_full']).median())\n",
    "avg_salary_college = np.array(top_colleges_avg_salary['salary'].groupby(top_colleges_avg_salary['name_full']).mean())\n",
    "\n",
    "sorted_states = sorted(top_states_avg_salary['state'].unique())\n",
    "med_salary_states = np.array(top_states_avg_salary['salary'].groupby(top_states_avg_salary['state']).median())\n",
    "avg_salary_states = np.array(top_states_avg_salary['salary'].groupby(top_states_avg_salary['state']).mean())\n",
    "\n",
    "## create DataFrames\n",
    "average_career_salary_college = pd.DataFrame({\n",
    "    'med_salary_college': med_salary_college,\n",
    "    'avg_salary_college': avg_salary_college\n",
    "}, index = sorted_colleges)\n",
    "\n",
    "average_career_salary_state = pd.DataFrame({\n",
    "    'med_salary_states': med_salary_states,\n",
    "    'avg_salary_states': avg_salary_states\n",
    "}, index = sorted_states)\n",
    "\n",
    "# inspect DataFrames\n",
    "print(average_career_salary_college.head(),'\\n')\n",
    "print(average_career_salary_state.head())"
   ]
  },
  {
   "cell_type": "markdown",
   "metadata": {
    "collapsed": true
   },
   "source": [
    "Now it's time to plot them"
   ]
  },
  {
   "cell_type": "code",
   "execution_count": 65,
   "metadata": {
    "collapsed": false
   },
   "outputs": [
    {
     "data": {
      "image/png": "[encoded data removed]",
      "text/plain": [
       "<matplotlib.figure.Figure at 0x9ab01d0>"
      ]
     },
     "metadata": {},
     "output_type": "display_data"
    }
   ],
   "source": [
    "%matplotlib inline\n",
    "\n",
    "fig, axes = plt.subplots(1, 2, figsize=(15,8)) \n",
    "\n",
    "fig.suptitle(\"College Data\", fontsize = 20, y = 0.95)\n",
    "\n",
    "average_career_salary_college['med_salary_college'].plot(kind = 'bar', ax = axes[0], color = 'g')\n",
    "average_career_salary_college['avg_salary_college'].plot(kind = 'bar', ax = axes[1], color = 'g')\n",
    "\n",
    "axes[0].set_title('Median Career Salary from The Most Popular Colleges')\n",
    "axes[0].set_xlabel('College')\n",
    "axes[0].set_ylabel('Salary ($)')\n",
    "axes[0].set_xticklabels(average_career_salary_college.index, rotation=45)\n",
    "\n",
    "axes[1].set_title('Average Career Salary from The Most Popular Colleges')\n",
    "axes[1].set_xlabel('College')\n",
    "axes[1].set_ylabel('Salary ($)')\n",
    "axes[1].set_xticklabels(average_career_salary_college.index, rotation=45)\n",
    "\n",
    "plt.show()"
   ]
  },
  {
   "cell_type": "markdown",
   "metadata": {},
   "source": [
    "So we can see that players that went to University of Southern California had the highest median salary (~ 1.5x more than most other colleges), as well as the second highest average salary. This indicates that this could possible be a good choice of school for a player to earn a lot of money in the pros.\n",
    "\n",
    "The average salaries were a lot more varied among colleges, with UCLA being to college with the highest overall salary and Oklahoma State University being the lowest, with the University of Miami and University of Texas - Austin not far behind.\n",
    "\n",
    "I'd assume these distributions would not be too normal, so the median would be the better bar plot to take note of.\n",
    "\n",
    "Remember that our data set of average career salaries looked like this:"
   ]
  },
  {
   "cell_type": "code",
   "execution_count": 29,
   "metadata": {
    "collapsed": false
   },
   "outputs": [
    {
     "name": "stdout",
     "output_type": "stream",
     "text": [
      "Mean Salaries by College: \n",
      "                        name_full        salary   playerID\n",
      "0  Pennsylvania State University  1.322821e+06  aardsda01\n",
      "1                Rice University  1.322821e+06  aardsda01\n",
      "2         Middle Georgia College  3.270000e+05   abadan01\n",
      "3         University of Kentucky  2.462500e+05  abbotje01\n",
      "4         University of Michigan  1.440056e+06  abbotji01 \n",
      "                                name_full         salary   playerID\n",
      "3171  California State University Fresno  109000.000000  zoskyed01\n",
      "3172  University of California, Berkeley  109000.000000  zuberjo01\n",
      "3173               University of Florida  513800.000000  zuninmi01\n",
      "3174             Oral Roberts University  143666.666667  zupcibo01\n",
      "3175                 Stanford University  145000.000000  zuvelpa01\n"
     ]
    }
   ],
   "source": [
    "print('Mean Salaries by College:','\\n',mean_salary_player_college.head(),'\\n',mean_salary_player_college.tail())"
   ]
  },
  {
   "cell_type": "code",
   "execution_count": 30,
   "metadata": {
    "collapsed": false
   },
   "outputs": [
    {
     "data": {
      "image/png": "[encoded data removed]",
      "text/plain": [
       "<matplotlib.figure.Figure at 0xbe2f978>"
      ]
     },
     "metadata": {},
     "output_type": "display_data"
    }
   ],
   "source": [
    "mean_salary_player_college['salary'].hist()\n",
    "plt.xlabel('Average Career Salary')\n",
    "plt.ylabel('Count')\n",
    "plt.title('Distribution of Average Career Salary')\n",
    "plt.show()"
   ]
  },
  {
   "cell_type": "markdown",
   "metadata": {},
   "source": [
    "We can see the overwhelming majority (over 2500 colleges out out just over 3100) had data point of average career salaries that amounted to less than $200,000 per year. So maybe the median is the best data point to look at here.\n",
    "\n",
    "Let's just look at a natural logarithmic transformation for fun."
   ]
  },
  {
   "cell_type": "code",
   "execution_count": 31,
   "metadata": {
    "collapsed": false
   },
   "outputs": [
    {
     "data": {
      "image/png": "[encoded data removed]",
      "text/plain": [
       "<matplotlib.figure.Figure at 0xb7532e8>"
      ]
     },
     "metadata": {},
     "output_type": "display_data"
    }
   ],
   "source": [
    "np.log(mean_salary_player_college['salary']).hist()\n",
    "plt.xlabel('ln of Average Career Salary')\n",
    "plt.ylabel('Count')\n",
    "plt.title('Natural Logarithmic (ln) Transformation of the Distribution of Average Career Salary')\n",
    "plt.show()"
   ]
  },
  {
   "cell_type": "markdown",
   "metadata": {},
   "source": [
    "This looks more normal. Let's plot this with the median."
   ]
  },
  {
   "cell_type": "code",
   "execution_count": 32,
   "metadata": {
    "collapsed": false
   },
   "outputs": [
    {
     "data": {
      "image/png": "[encoded data removed]",
      "text/plain": [
       "<matplotlib.figure.Figure at 0xb71e748>"
      ]
     },
     "metadata": {},
     "output_type": "display_data"
    }
   ],
   "source": [
    "%matplotlib inline\n",
    "\n",
    "fig, axes = plt.subplots(1, 2, figsize=(15,8)) \n",
    "\n",
    "fig.suptitle(\"College Data\", fontsize = 20, y = 0.95)\n",
    "\n",
    "average_career_salary_college['med_salary_college'].plot(kind = 'bar', ax = axes[0], color = 'g')\n",
    "np.log(average_career_salary_college['avg_salary_college']).plot(kind = 'bar', ax = axes[1], color = 'g')\n",
    "\n",
    "axes[0].set_title('Median Career Salary from The Most Popular Colleges')\n",
    "axes[0].set_xlabel('College')\n",
    "axes[0].set_ylabel('Salary ($)')\n",
    "axes[0].set_xticklabels(average_career_salary_college.index, rotation=45)\n",
    "\n",
    "axes[1].set_title('Natural Log of the Average Career Salary from The Most Popular Colleges')\n",
    "axes[1].set_xlabel('College')\n",
    "axes[1].set_ylabel('Salary ($)')\n",
    "axes[1].set_xticklabels(average_career_salary_college.index, rotation=45)\n",
    "\n",
    "plt.show()"
   ]
  },
  {
   "cell_type": "markdown",
   "metadata": {},
   "source": [
    "This tells the story that maybe the college one selects doesn't give you much of a benefit in terms of a higher average career salary.\n",
    "\n",
    "Let's look at the state data."
   ]
  },
  {
   "cell_type": "code",
   "execution_count": 33,
   "metadata": {
    "collapsed": false
   },
   "outputs": [
    {
     "data": {
      "image/png": "[encoded data removed]",
      "text/plain": [
       "<matplotlib.figure.Figure at 0xbb6c208>"
      ]
     },
     "metadata": {},
     "output_type": "display_data"
    }
   ],
   "source": [
    "fig, axes = plt.subplots(1, 2, figsize=(15,8)) \n",
    "\n",
    "fig.suptitle(\"State Data\", fontsize = 20, y = 0.95)\n",
    "\n",
    "average_career_salary_state['med_salary_states'].plot(kind = 'bar', ax = axes[0], color = 'g')\n",
    "average_career_salary_state['avg_salary_states'].plot(kind = 'bar', ax = axes[1], color = 'g')\n",
    "\n",
    "axes[0].set_title('Median Career Salary from The Most Popular States for College')\n",
    "axes[0].set_xlabel('State for College')\n",
    "axes[0].set_ylabel('Salary ($)')\n",
    "axes[0].set_xticklabels(average_career_salary_state.index, rotation=45)\n",
    "    \n",
    "axes[1].set_title('Average Career Salary from The Most Popular States for College')\n",
    "axes[1].set_xlabel('State for College')\n",
    "axes[1].set_ylabel('Salary ($)')\n",
    "axes[1].set_xticklabels(average_career_salary_state.index, rotation=45)\n",
    "\n",
    "plt.show()"
   ]
  },
  {
   "cell_type": "markdown",
   "metadata": {},
   "source": [
    "It looks like this dataset doesn't give an indication of the best state to go to college in in order bring up one's chances to make a higher career salary.\n",
    "\n",
    "North Carolina has the highest median career salary, followed by California and Arizona. But, Arizona has the highest average career salary, followed by California and Louisiana.\n",
    "\n",
    "So maybe Arizona and California are the states one would want to look at to play for in college in order to bolster their chances at making a greater salary over their career in the pros. From the college analysis earlier, it looks like USC could be the overall best best in this case.\n",
    "\n",
    "But let's again look at the natural log transformation."
   ]
  },
  {
   "cell_type": "code",
   "execution_count": 34,
   "metadata": {
    "collapsed": false
   },
   "outputs": [
    {
     "data": {
      "image/png": "[encoded data removed]",
      "text/plain": [
       "<matplotlib.figure.Figure at 0xc05f5c0>"
      ]
     },
     "metadata": {},
     "output_type": "display_data"
    }
   ],
   "source": [
    "fig, axes = plt.subplots(1, 2, figsize=(15,8)) \n",
    "\n",
    "fig.suptitle(\"State Data\", fontsize = 20, y = 0.95)\n",
    "\n",
    "average_career_salary_state['med_salary_states'].plot(kind = 'bar', ax = axes[0], color = 'g')\n",
    "np.log(average_career_salary_state['avg_salary_states']).plot(kind = 'bar', ax = axes[1], color = 'g')\n",
    "\n",
    "axes[0].set_title('Median Career Salary from The Most Popular States for College')\n",
    "axes[0].set_xlabel('State for College')\n",
    "axes[0].set_ylabel('Salary ($)')\n",
    "axes[0].set_xticklabels(average_career_salary_state.index, rotation=45)\n",
    "    \n",
    "axes[1].set_title('Average Career Salary from The Most Popular States for College')\n",
    "axes[1].set_xlabel('State for College')\n",
    "axes[1].set_ylabel('Salary ($)')\n",
    "axes[1].set_xticklabels(average_career_salary_state.index, rotation=45)\n",
    "\n",
    "plt.show()"
   ]
  },
  {
   "cell_type": "markdown",
   "metadata": {},
   "source": [
    "This indicates a similar notion to before, now hinting that the state for college one selects doesn't give you much of a benefit in terms of a higher average career salary.\n",
    "\n",
    "I'll be honest, I'm still learning, so I'm not really sure how to interpret these just yet (will update in future), but for now I just thought it was interesting. \n",
    "\n",
    "For now, let's look at a map of all this average career salary data, but without cutting down to the most popular colleges and states for college."
   ]
  },
  {
   "cell_type": "code",
   "execution_count": 35,
   "metadata": {
    "collapsed": false
   },
   "outputs": [
    {
     "data": {
      "text/plain": [
       "state\n",
       "AL    1.276717e+06\n",
       "AR    1.011859e+06\n",
       "AZ    1.155620e+06\n",
       "CA    1.110264e+06\n",
       "CO    9.970288e+05\n",
       "Name: salary, dtype: float64"
      ]
     },
     "execution_count": 35,
     "metadata": {},
     "output_type": "execute_result"
    }
   ],
   "source": [
    "mean_salary_player_state['salary'].groupby(mean_salary_player_state['state']).mean().head()"
   ]
  },
  {
   "cell_type": "markdown",
   "metadata": {
    "collapsed": true
   },
   "source": [
    "So here's the mean average career salary for the first 5 states, alphabetically. We can place this data into a DataFrame, getting the mean and median average career salaries by state."
   ]
  },
  {
   "cell_type": "code",
   "execution_count": 36,
   "metadata": {
    "collapsed": true
   },
   "outputs": [],
   "source": [
    "sorted_states = sorted(mean_salary_player_state['state'].unique())\n",
    "med_salary_states = np.array(mean_salary_player_state['salary'].groupby(mean_salary_player_state['state']).median())\n",
    "avg_salary_states = np.array(mean_salary_player_state['salary'].groupby(mean_salary_player_state['state']).mean())\n",
    "\n",
    "average_career_salary_state = pd.DataFrame({\n",
    "    'med_salary_states': med_salary_states,\n",
    "    'avg_salary_states': avg_salary_states\n",
    "}, index = sorted_states)"
   ]
  },
  {
   "cell_type": "code",
   "execution_count": 37,
   "metadata": {
    "collapsed": false
   },
   "outputs": [
    {
     "name": "stdout",
     "output_type": "stream",
     "text": [
      "    avg_salary_states  med_salary_states\n",
      "AL       1.276717e+06      492166.666667\n",
      "AR       1.011859e+06      295000.000000\n",
      "AZ       1.155620e+06      434125.000000\n",
      "CA       1.110264e+06      463000.000000\n",
      "CO       9.970288e+05      418333.333333 \n",
      "     avg_salary_states  med_salary_states\n",
      "VT       1.080292e+06       1.080292e+06\n",
      "WA       1.259362e+06       4.811500e+05\n",
      "WI       1.661995e+06       5.565000e+05\n",
      "WV       9.778697e+05       5.032000e+05\n",
      "WY       3.480635e+05       3.038333e+05\n"
     ]
    }
   ],
   "source": [
    "print(average_career_salary_state.head(),'\\n',average_career_salary_state.tail())"
   ]
  },
  {
   "cell_type": "markdown",
   "metadata": {},
   "source": [
    "Now to use the **folium** package to create a heat map of the median average career salary data."
   ]
  },
  {
   "cell_type": "code",
   "execution_count": 38,
   "metadata": {
    "collapsed": false
   },
   "outputs": [
    {
     "data": {
      "text/html": [
       "<iframe src=median_plot_data.html width=700 height=450></iframe>"
      ],
      "text/plain": [
       "<IPython.core.display.HTML object>"
      ]
     },
     "execution_count": 38,
     "metadata": {},
     "output_type": "execute_result"
    }
   ],
   "source": [
    "import folium\n",
    "\n",
    "state_geo = 'C:/folium-master/examples/data/us-states.json' # from w/in folium package\n",
    "\n",
    "# Set up folium map\n",
    "map = folium.Map(location = [39, -97], zoom_start = 3.5)\n",
    "\n",
    "# use built-in method \"choropleth\" for choropleth maps that bind Pandas Data Frames and JSON geometries together.  \n",
    "#    - allows us to quickly visualize data combinations\n",
    "\n",
    "plot_data = average_career_salary_state['med_salary_states']\n",
    "\n",
    "map.choropleth(geo_path = state_geo, data = plot_data,\n",
    "               columns = ['StateCode','Value'],\n",
    "               key_on = 'feature.id',  # refers to label in the JSON object that has State code as the feature ID\n",
    "               fill_color = 'YlGnBu', fill_opacity = 0.7,\n",
    "               line_opacity = 0.2,\n",
    "              )\n",
    "\n",
    "# Create Folium plot\n",
    "map.save('median_plot_data.html')\n",
    "\n",
    "# Import the Folium interactive html file\n",
    "from IPython.display import HTML\n",
    "HTML('<iframe src=median_plot_data.html width=700 height=450></iframe>')"
   ]
  },
  {
   "cell_type": "markdown",
   "metadata": {},
   "source": [
    "Well, ignoring all else (you know, such as how many data points are in each state for example, (*hint, hint, Vermont*), this gives a pretty cool way to get a high-level overview of the data in a simple visualizaiton, barring no title (can't figure that out in folium just yet).\n",
    "\n",
    "Now to do the same for mean average career salary data."
   ]
  },
  {
   "cell_type": "code",
   "execution_count": 39,
   "metadata": {
    "collapsed": false
   },
   "outputs": [
    {
     "data": {
      "text/html": [
       "<div>\n",
       "<style>\n",
       "    .dataframe thead tr:only-child th {\n",
       "        text-align: right;\n",
       "    }\n",
       "\n",
       "    .dataframe thead th {\n",
       "        text-align: left;\n",
       "    }\n",
       "\n",
       "    .dataframe tbody tr th {\n",
       "        vertical-align: top;\n",
       "    }\n",
       "</style>\n",
       "<table border=\"1\" class=\"dataframe\">\n",
       "  <thead>\n",
       "    <tr style=\"text-align: right;\">\n",
       "      <th></th>\n",
       "      <th>teamID</th>\n",
       "      <th>salary</th>\n",
       "    </tr>\n",
       "  </thead>\n",
       "  <tbody>\n",
       "    <tr>\n",
       "      <th>0</th>\n",
       "      <td>ANA</td>\n",
       "      <td>1.941196e+06</td>\n",
       "    </tr>\n",
       "    <tr>\n",
       "      <th>1</th>\n",
       "      <td>ARI</td>\n",
       "      <td>2.669340e+06</td>\n",
       "    </tr>\n",
       "    <tr>\n",
       "      <th>2</th>\n",
       "      <td>ATL</td>\n",
       "      <td>1.677754e+06</td>\n",
       "    </tr>\n",
       "    <tr>\n",
       "      <th>3</th>\n",
       "      <td>BAL</td>\n",
       "      <td>1.998160e+06</td>\n",
       "    </tr>\n",
       "    <tr>\n",
       "      <th>4</th>\n",
       "      <td>BOS</td>\n",
       "      <td>2.503153e+06</td>\n",
       "    </tr>\n",
       "  </tbody>\n",
       "</table>\n",
       "</div>"
      ],
      "text/plain": [
       "  teamID        salary\n",
       "0    ANA  1.941196e+06\n",
       "1    ARI  2.669340e+06\n",
       "2    ATL  1.677754e+06\n",
       "3    BAL  1.998160e+06\n",
       "4    BOS  2.503153e+06"
      ]
     },
     "execution_count": 39,
     "metadata": {},
     "output_type": "execute_result"
    }
   ],
   "source": [
    "## group dataframe by team, check mean salary of each\n",
    "grouped_salaries_team = salaries_college_state.groupby(['teamID'], as_index=False)\n",
    "grouped_salaries_team['salary'].mean().head()"
   ]
  },
  {
   "cell_type": "code",
   "execution_count": 40,
   "metadata": {
    "collapsed": false
   },
   "outputs": [
    {
     "data": {
      "text/html": [
       "<iframe src=mean_plot_data.html width=700 height=450></iframe>"
      ],
      "text/plain": [
       "<IPython.core.display.HTML object>"
      ]
     },
     "execution_count": 40,
     "metadata": {},
     "output_type": "execute_result"
    }
   ],
   "source": [
    "import folium\n",
    "\n",
    "state_geo = 'C:/folium-master/examples/data/us-states.json' # from w/in folium package\n",
    "\n",
    "# Setup a folium map at a high-level zoom @Alok (100,0) are NOT lat long coordinates\n",
    "map = folium.Map(location = [39, -97], zoom_start = 3.5)\n",
    "\n",
    "# use built-in method \"choropleth\" for choropleth maps that bind Pandas Data Frames and JSON geometries together.  \n",
    "#    - allows us to quickly visualize data combinations\n",
    "\n",
    "plot_data = average_career_salary_state['avg_salary_states']\n",
    "\n",
    "map.choropleth(geo_path = state_geo, data = plot_data,\n",
    "               columns = ['StateCode','Value'],\n",
    "               key_on = 'feature.id',  # refers to label in the JSON object that has State code as the feature ID\n",
    "               fill_color = 'YlGnBu', fill_opacity = 0.7,\n",
    "               line_opacity = 0.2,\n",
    "              )\n",
    "\n",
    "# Create Folium plot\n",
    "map.save('mean_plot_data.html')\n",
    "\n",
    "# Import the Folium interactive html file\n",
    "from IPython.display import HTML\n",
    "HTML('<iframe src=mean_plot_data.html width=700 height=450></iframe>')"
   ]
  },
  {
   "cell_type": "code",
   "execution_count": 41,
   "metadata": {
    "collapsed": false
   },
   "outputs": [
    {
     "name": "stdout",
     "output_type": "stream",
     "text": [
      "  teamID        salary\n",
      "0    ANA  1.941196e+06\n",
      "1    ARI  2.669340e+06\n",
      "2    ATL  1.677754e+06\n",
      "3    BAL  1.998160e+06\n",
      "4    BOS  2.503153e+06\n",
      "  teamID   salary\n",
      "0    ANA   500000\n",
      "1    ARI  1350000\n",
      "2    ATL   515000\n",
      "3    BAL   750000\n",
      "4    BOS   805000\n"
     ]
    }
   ],
   "source": [
    "team_avg_salary = grouped_salaries_team['salary'].mean()\n",
    "team_med_salary = grouped_salaries_team['salary'].median()\n",
    "\n",
    "print(team_avg_salary.head())\n",
    "print(team_med_salary.head())"
   ]
  },
  {
   "cell_type": "code",
   "execution_count": 42,
   "metadata": {
    "collapsed": false
   },
   "outputs": [
    {
     "name": "stdout",
     "output_type": "stream",
     "text": [
      "  teamID        salary\n",
      "0    ANA  1.941196e+06\n",
      "1    ARI  2.669340e+06\n",
      "2    ATL  1.677754e+06\n",
      "3    BAL  1.998160e+06\n",
      "4    BOS  2.503153e+06\n",
      "  teamID   salary\n",
      "0    ANA   500000\n",
      "1    ARI  1350000\n",
      "2    ATL   515000\n",
      "3    BAL   750000\n",
      "4    BOS   805000\n"
     ]
    }
   ],
   "source": [
    "## create DataFrames of average and median salaries by team\n",
    "team_avg_salary = grouped_salaries_team['salary'].mean()\n",
    "team_med_salary = grouped_salaries_team['salary'].median()\n",
    "\n",
    "print(team_avg_salary.head())\n",
    "print(team_med_salary.head())"
   ]
  },
  {
   "cell_type": "code",
   "execution_count": 43,
   "metadata": {
    "collapsed": false
   },
   "outputs": [
    {
     "name": "stdout",
     "output_type": "stream",
     "text": [
      "['ANA', 'ARI', 'ATL', 'BAL', 'BOS']\n",
      "[ 1941196.01318267  2669339.82803943  1677753.94720169  1998159.68257411\n",
      "  2503152.63230994]\n",
      "[ 500000 1350000  515000  750000  805000]\n"
     ]
    }
   ],
   "source": [
    "## put the DataFrame into list for the index and arrays for the data\n",
    "sorted_teams = sorted(team_avg_salary['teamID'].unique())\n",
    "avg_team_salary = np.array(team_avg_salary['salary'])\n",
    "med_team_salary = np.array(team_med_salary['salary'])\n",
    "\n",
    "print(sorted_teams[:5])\n",
    "print(avg_team_salary[:5])\n",
    "print(med_team_salary[:5])"
   ]
  },
  {
   "cell_type": "code",
   "execution_count": 44,
   "metadata": {
    "collapsed": false
   },
   "outputs": [
    {
     "data": {
      "text/html": [
       "<div>\n",
       "<style>\n",
       "    .dataframe thead tr:only-child th {\n",
       "        text-align: right;\n",
       "    }\n",
       "\n",
       "    .dataframe thead th {\n",
       "        text-align: left;\n",
       "    }\n",
       "\n",
       "    .dataframe tbody tr th {\n",
       "        vertical-align: top;\n",
       "    }\n",
       "</style>\n",
       "<table border=\"1\" class=\"dataframe\">\n",
       "  <thead>\n",
       "    <tr style=\"text-align: right;\">\n",
       "      <th></th>\n",
       "      <th>avg_salary</th>\n",
       "      <th>med_salary</th>\n",
       "    </tr>\n",
       "  </thead>\n",
       "  <tbody>\n",
       "    <tr>\n",
       "      <th>ANA</th>\n",
       "      <td>1.941196e+06</td>\n",
       "      <td>500000</td>\n",
       "    </tr>\n",
       "    <tr>\n",
       "      <th>ARI</th>\n",
       "      <td>2.669340e+06</td>\n",
       "      <td>1350000</td>\n",
       "    </tr>\n",
       "    <tr>\n",
       "      <th>ATL</th>\n",
       "      <td>1.677754e+06</td>\n",
       "      <td>515000</td>\n",
       "    </tr>\n",
       "    <tr>\n",
       "      <th>BAL</th>\n",
       "      <td>1.998160e+06</td>\n",
       "      <td>750000</td>\n",
       "    </tr>\n",
       "    <tr>\n",
       "      <th>BOS</th>\n",
       "      <td>2.503153e+06</td>\n",
       "      <td>805000</td>\n",
       "    </tr>\n",
       "  </tbody>\n",
       "</table>\n",
       "</div>"
      ],
      "text/plain": [
       "       avg_salary  med_salary\n",
       "ANA  1.941196e+06      500000\n",
       "ARI  2.669340e+06     1350000\n",
       "ATL  1.677754e+06      515000\n",
       "BAL  1.998160e+06      750000\n",
       "BOS  2.503153e+06      805000"
      ]
     },
     "execution_count": 44,
     "metadata": {},
     "output_type": "execute_result"
    }
   ],
   "source": [
    "## create new DataFrame with both arrays as columns\n",
    "average_team_salary_df = pd.DataFrame({\n",
    "    'med_salary': med_team_salary,\n",
    "    'avg_salary': avg_team_salary\n",
    "}, index = sorted_teams)\n",
    "\n",
    "average_team_salary_df.head()"
   ]
  },
  {
   "cell_type": "code",
   "execution_count": 45,
   "metadata": {
    "collapsed": false
   },
   "outputs": [
    {
     "name": "stdout",
     "output_type": "stream",
     "text": [
      "       avg_salary  med_salary\n",
      "NYY  1.381071e+07    13500000\n",
      "SFG  9.518590e+06     9000000\n",
      "WSN  6.898691e+06     4000000\n",
      "CHC  6.358333e+06     2500000\n",
      "NYM  5.871053e+06     4325000 \n",
      "\n",
      "       avg_salary  med_salary\n",
      "NYY  1.381071e+07    13500000\n",
      "SFG  9.518590e+06     9000000\n",
      "KCR  5.412500e+06     5500000\n",
      "LAD  4.831629e+06     4500000\n",
      "NYM  5.871053e+06     4325000\n"
     ]
    }
   ],
   "source": [
    "## Create 2 new DataFrames, sorted by respective columns\n",
    "sorted_avg_salary = average_team_salary_df.sort_values(by='avg_salary', ascending=False)\n",
    "sorted_med_salary = average_team_salary_df.sort_values(by='med_salary', ascending=False)\n",
    "\n",
    "print(sorted_avg_salary.head(),'\\n')\n",
    "print(sorted_med_salary.head())"
   ]
  },
  {
   "cell_type": "code",
   "execution_count": 46,
   "metadata": {
    "collapsed": false
   },
   "outputs": [
    {
     "data": {
      "image/png": "[encoded data removed]",
      "text/plain": [
       "<matplotlib.figure.Figure at 0xbd83470>"
      ]
     },
     "metadata": {},
     "output_type": "display_data"
    }
   ],
   "source": [
    "fig, axes = plt.subplots(1, 2, figsize=(15,8)) \n",
    "\n",
    "fig.suptitle(\"Team Data\", fontsize = 20, y = 0.95)\n",
    "\n",
    "sorted_avg_salary['avg_salary'].head(10).plot(kind = 'bar', ax = axes[1])\n",
    "sorted_med_salary['med_salary'].head(10).plot(kind = 'bar', ax = axes[0])\n",
    "\n",
    "axes[0].set_xlabel('Median')\n",
    "#axes[0].set_xticks()\n",
    "\n",
    "axes[1].set_xlabel('Average')\n",
    "#axes[1].set_xticks(rotation=45)\n",
    "\n",
    "plt.show()"
   ]
  }
 ],
 "metadata": {
  "anaconda-cloud": {},
  "kernelspec": {
   "display_name": "Python 3",
   "language": "python",
   "name": "python3"
  },
  "language_info": {
   "codemirror_mode": {
    "name": "ipython",
    "version": 3
   },
   "file_extension": ".py",
   "mimetype": "text/x-python",
   "name": "python",
   "nbconvert_exporter": "python",
   "pygments_lexer": "ipython3",
   "version": "3.6.0"
  }
 },
 "nbformat": 4,
 "nbformat_minor": 2
}
