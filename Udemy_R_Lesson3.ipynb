{
 "cells": [
  {
   "cell_type": "code",
   "execution_count": 2,
   "metadata": {
    "collapsed": true
   },
   "outputs": [],
   "source": [
    "import numpy as np"
   ]
  },
  {
   "cell_type": "code",
   "execution_count": 10,
   "metadata": {
    "collapsed": false
   },
   "outputs": [],
   "source": [
    "revenue = np.array([14574.49, 7606.46, 8611.41, 9175.41, 8058.65, 8105.44, 11496.28, 9766.09, 10305.32, 14379.96, 10713.97,\n",
    "                   15433.50]);\n",
    "expenses = np.array([12051.82, 5695.07, 12319.20, 12089.72, 8658.57, 840.20, 3285.73, 5821.12, 6976.93, 16618.61, 10054.37,\n",
    "                    3803.96]);"
   ]
  },
  {
   "cell_type": "code",
   "execution_count": 13,
   "metadata": {
    "collapsed": false
   },
   "outputs": [
    {
     "data": {
      "text/plain": [
       "array([  2522.67,   1911.39,  -3707.79,  -2914.31,   -599.92,   7265.24,\n",
       "         8210.55,   3944.97,   3328.39,  -2238.65,    659.6 ,  11629.54])"
      ]
     },
     "execution_count": 13,
     "metadata": {},
     "output_type": "execute_result"
    }
   ],
   "source": [
    "profit = revenue - expenses\n",
    "profit"
   ]
  },
  {
   "cell_type": "code",
   "execution_count": 16,
   "metadata": {
    "collapsed": false
   },
   "outputs": [
    {
     "data": {
      "text/plain": [
       "array([ 1765.87,  1337.97, -2595.45, -2040.02,  -419.94,  5085.67,\n",
       "        5747.38,  2761.48,  2329.87, -1567.05,   461.72,  8140.68])"
      ]
     },
     "execution_count": 16,
     "metadata": {},
     "output_type": "execute_result"
    }
   ],
   "source": [
    "profitAfterTax = profit - np.round(profit*0.3,2)\n",
    "profitAfterTax"
   ]
  },
  {
   "cell_type": "code",
   "execution_count": 44,
   "metadata": {
    "collapsed": false
   },
   "outputs": [
    {
     "name": "stdout",
     "output_type": "stream",
     "text": [
      "[ 0.1211617   0.17589917 -0.30139664 -0.22233557 -0.05211047  0.6274391\n",
      "  0.49993389  0.28276209  0.2260842  -0.10897457  0.04309514  0.52746817]\n"
     ]
    }
   ],
   "source": [
    "AfterTaxProfitMargin = profitAfterTax/revenue\n",
    "print(AfterTaxProfitMargin)"
   ]
  },
  {
   "cell_type": "code",
   "execution_count": 20,
   "metadata": {
    "collapsed": false
   },
   "outputs": [
    {
     "data": {
      "text/plain": [
       "array([ True, False, False, False, False,  True,  True,  True,  True,\n",
       "       False, False,  True], dtype=bool)"
      ]
     },
     "execution_count": 20,
     "metadata": {},
     "output_type": "execute_result"
    }
   ],
   "source": [
    "goodMonths = profitAfterTax > np.mean(profitAfterTax)\n",
    "goodMonths"
   ]
  },
  {
   "cell_type": "code",
   "execution_count": 25,
   "metadata": {
    "collapsed": false
   },
   "outputs": [
    {
     "data": {
      "text/plain": [
       "array([False,  True,  True,  True,  True, False, False, False, False,\n",
       "        True,  True, False], dtype=bool)"
      ]
     },
     "execution_count": 25,
     "metadata": {},
     "output_type": "execute_result"
    }
   ],
   "source": [
    "badMonths = profitAfterTax < np.mean(profitAfterTax)\n",
    "badMonths"
   ]
  },
  {
   "cell_type": "code",
   "execution_count": 36,
   "metadata": {
    "collapsed": false
   },
   "outputs": [
    {
     "data": {
      "text/plain": [
       "12"
      ]
     },
     "execution_count": 36,
     "metadata": {},
     "output_type": "execute_result"
    }
   ],
   "source": [
    "bestMonth = np.argmax(profitAfterTax) + 1\n",
    "worstMonth = np.argmin(profitAfterTax) + 1\n",
    "\n",
    "bestMonth"
   ]
  },
  {
   "cell_type": "code",
   "execution_count": 38,
   "metadata": {
    "collapsed": false
   },
   "outputs": [
    {
     "data": {
      "text/plain": [
       "3"
      ]
     },
     "execution_count": 38,
     "metadata": {},
     "output_type": "execute_result"
    }
   ],
   "source": [
    "worstMonth"
   ]
  },
  {
   "cell_type": "code",
   "execution_count": 47,
   "metadata": {
    "collapsed": false
   },
   "outputs": [
    {
     "name": "stdout",
     "output_type": "stream",
     "text": [
      "[  2523.   1911.  -3708.  -2914.   -600.   7265.   8211.   3945.   3328.\n",
      "  -2239.    660.  11630.]\n",
      "[ 1766.  1338. -2595. -2040.  -420.  5086.  5747.  2761.  2330. -1567.\n",
      "   462.  8141.]\n",
      "[ 12.  18. -30. -22.  -5.  63.  50.  28.  23. -11.   4.  53.]\n"
     ]
    }
   ],
   "source": [
    "roundProfit = np.round(profit)\n",
    "roundProfitAfterTax = np.round(profitAfterTax)\n",
    "AfterTaxProfitMarginPercent = np.round(AfterTaxProfitMargin,2)*100\n",
    "\n",
    "print(roundProfit)\n",
    "print(roundProfitAfterTax)\n",
    "print(AfterTaxProfitMarginPercent)"
   ]
  },
  {
   "cell_type": "code",
   "execution_count": null,
   "metadata": {
    "collapsed": true
   },
   "outputs": [],
   "source": [
    "#get figures in $1000's of dollars\n",
    "revenue_1000 = np.round(revenue/1000)\n",
    "expenses_1000 = np.round(expenses/1000)\n",
    "profit_1000 = np.round(roundProfit/1000)\n",
    "profitAfterTax_1000 = np.round(roundProfitAfterTax/1000)\n",
    "\n",
    "print(revenue_1000)\n",
    "print(expenses_1000)\n",
    "print(profit_1000)\n",
    "print(AfterTaxProfitMarginPercent)\n",
    "print(profitAfterTax_1000)\n",
    "print()"
   ]
  }
 ],
 "metadata": {
  "kernelspec": {
   "display_name": "Python [Root]",
   "language": "python",
   "name": "Python [Root]"
  },
  "language_info": {
   "codemirror_mode": {
    "name": "ipython",
    "version": 3
   },
   "file_extension": ".py",
   "mimetype": "text/x-python",
   "name": "python",
   "nbconvert_exporter": "python",
   "pygments_lexer": "ipython3",
   "version": "3.5.2"
  }
 },
 "nbformat": 4,
 "nbformat_minor": 0
}
