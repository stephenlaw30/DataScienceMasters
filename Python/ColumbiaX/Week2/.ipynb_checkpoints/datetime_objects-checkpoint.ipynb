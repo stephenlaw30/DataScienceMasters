{
 "cells": [
  {
   "cell_type": "markdown",
   "metadata": {},
   "source": [
    "<h1>datetime library</h1>"
   ]
  },
  {
   "cell_type": "markdown",
   "metadata": {},
   "source": [
    "* Time is linear\n",
    "* It progresses as a straightline trajectory from the big bang to now and then into the future. It never stops"
   ]
  },
  {
   "cell_type": "markdown",
   "metadata": {},
   "source": [
    "<h3>Reasoning about time is important in data analysis</h3>\n",
    "\n",
    "* Analyzing financial timeseries data\n",
    "* Looking at commuter transit passenger flows by time of day \n",
    "* Understanding web traffic by time of day \n",
    "* Examining seasonality in department store purchases"
   ]
  },
  {
   "cell_type": "markdown",
   "metadata": {},
   "source": [
    "<h3>The datetime library</h3>\n",
    "* understands the relationship between different points of time\n",
    "* understands how to do operations on time"
   ]
  },
  {
   "cell_type": "markdown",
   "metadata": {},
   "source": [
    "<h3>Example:</h3>\n",
    "<li>Which is greater? \"10/24/2017\" or \"11/24/2016\""
   ]
  },
  {
   "cell_type": "code",
   "execution_count": 1,
   "metadata": {
    "collapsed": false
   },
   "outputs": [
    {
     "data": {
      "text/plain": [
       "'11/24/2016'"
      ]
     },
     "execution_count": 1,
     "metadata": {},
     "output_type": "execute_result"
    }
   ],
   "source": [
    "d1 = \"10/24/2017\"\n",
    "d2 = \"11/24/2016\"\n",
    "\n",
    "# get latest date\n",
    "max(d1,d2)"
   ]
  },
  {
   "cell_type": "markdown",
   "metadata": {},
   "source": [
    "That's not right, as this is seen as a string (11 > 10)\n",
    "\n",
    "<li>How much time has passed?"
   ]
  },
  {
   "cell_type": "code",
   "execution_count": 2,
   "metadata": {
    "collapsed": false
   },
   "outputs": [
    {
     "ename": "TypeError",
     "evalue": "unsupported operand type(s) for -: 'str' and 'str'",
     "output_type": "error",
     "traceback": [
      "\u001b[0;31m---------------------------------------------------------------------------\u001b[0m",
      "\u001b[0;31mTypeError\u001b[0m                                 Traceback (most recent call last)",
      "\u001b[0;32m<ipython-input-2-8e72eafee703>\u001b[0m in \u001b[0;36m<module>\u001b[0;34m()\u001b[0m\n\u001b[0;32m----> 1\u001b[0;31m \u001b[0md1\u001b[0m \u001b[1;33m-\u001b[0m \u001b[0md2\u001b[0m\u001b[1;33m\u001b[0m\u001b[0m\n\u001b[0m",
      "\u001b[0;31mTypeError\u001b[0m: unsupported operand type(s) for -: 'str' and 'str'"
     ]
    }
   ],
   "source": [
    "d1 - d2"
   ]
  },
  {
   "cell_type": "markdown",
   "metadata": {},
   "source": [
    "Obviously these won't work. We can't do date operations on *strings*. Let's see what happens with **datetime**."
   ]
  },
  {
   "cell_type": "code",
   "execution_count": 3,
   "metadata": {
    "collapsed": false
   },
   "outputs": [
    {
     "data": {
      "text/plain": [
       "datetime.date(2017, 10, 24)"
      ]
     },
     "execution_count": 3,
     "metadata": {},
     "output_type": "execute_result"
    }
   ],
   "source": [
    "import datetime\n",
    "\n",
    "d1 = datetime.date(2016,11,24)\n",
    "d2 = datetime.date(2017,10,24)\n",
    "\n",
    "max(d1,d2)"
   ]
  },
  {
   "cell_type": "code",
   "execution_count": 4,
   "metadata": {
    "collapsed": false
   },
   "outputs": [
    {
     "name": "stdout",
     "output_type": "stream",
     "text": [
      "334 days, 0:00:00\n"
     ]
    }
   ],
   "source": [
    "print(d2 - d1)"
   ]
  },
  {
   "cell_type": "markdown",
   "metadata": {
    "collapsed": false
   },
   "source": [
    "See? **datetime objects** *understand* time."
   ]
  },
  {
   "cell_type": "markdown",
   "metadata": {},
   "source": [
    "<h3>The datetime library contains several useful types</h3>\n",
    "* **date**: stores the date (month,day,year)\n",
    "* **time**: stores the time (hours,minutes,seconds)\n",
    "* **datetime**: stores the date as well as the time (month,day,year,hours,minutes,seconds)\n",
    "* **timedelta**: duration between two datetim/date objects"
   ]
  },
  {
   "cell_type": "markdown",
   "metadata": {},
   "source": [
    "<h3>datetime.date</h3>"
   ]
  },
  {
   "cell_type": "code",
   "execution_count": 5,
   "metadata": {
    "collapsed": false
   },
   "outputs": [
    {
     "name": "stdout",
     "output_type": "stream",
     "text": [
      "2000-01-01 2017-08-22 \n",
      "\n",
      "We are 6443 days, 0:00:00 days into this century\n",
      "\n",
      "We are 6443 days into this century\n"
     ]
    }
   ],
   "source": [
    "# get date of start of century and today\n",
    "century_start = datetime.date(2000,1,1)\n",
    "today = datetime.date.today()\n",
    "\n",
    "print(century_start,today,'\\n')\n",
    "print(\"We are\",today - century_start,\"days into this century\"'\\n')\n",
    "\n",
    "# for cleaner output, use .days() method from the datetime library\n",
    "print(\"We are\",(today - century_start).days,\"days into this century\")"
   ]
  },
  {
   "cell_type": "markdown",
   "metadata": {},
   "source": [
    "<h3>datetime.datetime</h3>"
   ]
  },
  {
   "cell_type": "code",
   "execution_count": 12,
   "metadata": {
    "collapsed": false
   },
   "outputs": [
    {
     "name": "stdout",
     "output_type": "stream",
     "text": [
      "2000-01-01 00:00:00 2017-08-22 19:08:51.134867 \n",
      "\n",
      "We are 6443 days, 19:08:51.134867 days, hours, minutes and seconds into this century\n"
     ]
    }
   ],
   "source": [
    "century_start = datetime.datetime(2000,1,1,0,0,0)\n",
    "time_now = datetime.datetime.now()\n",
    "\n",
    "print(century_start,time_now,'\\n')\n",
    "print(\"We are\",time_now - century_start,\"days, hours, \" \n",
    "      \"minutes and seconds into this century\")"
   ]
  },
  {
   "cell_type": "code",
   "execution_count": 10,
   "metadata": {
    "collapsed": false
   },
   "outputs": [
    {
     "name": "stdout",
     "output_type": "stream",
     "text": [
      "2000-01-01 00:00:00 2017-08-22 19:08:32.271796 \n",
      "\n",
      "We are 6443 days, 19:08:32.271796 days, hours, minutes and seconds into this century\n"
     ]
    }
   ],
   "source": [
    "century_start = datetime.datetime(2000,1,1,0,0,0)\n",
    "time_now = datetime.datetime.now()\n",
    "\n",
    "print(century_start,time_now,'\\n')\n",
    "print(\"We are {} days, hours, \" \n",
    "      \"minutes and seconds into this century\".format(time_now - century_start))"
   ]
  },
  {
   "cell_type": "markdown",
   "metadata": {},
   "source": [
    "**datetime objects can check validity**\n",
    "\n",
    "A ValueError exception is raised if the object is invalid"
   ]
  },
  {
   "cell_type": "code",
   "execution_count": 13,
   "metadata": {
    "collapsed": false
   },
   "outputs": [
    {
     "ename": "ValueError",
     "evalue": "day is out of range for month",
     "output_type": "error",
     "traceback": [
      "\u001b[0;31m---------------------------------------------------------------------------\u001b[0m",
      "\u001b[0;31mValueError\u001b[0m                                Traceback (most recent call last)",
      "\u001b[0;32m<ipython-input-13-e0a93dc9b536>\u001b[0m in \u001b[0;36m<module>\u001b[0;34m()\u001b[0m\n\u001b[0;32m----> 1\u001b[0;31m \u001b[0msome_date\u001b[0m \u001b[1;33m=\u001b[0m \u001b[0mdatetime\u001b[0m\u001b[1;33m.\u001b[0m\u001b[0mdate\u001b[0m\u001b[1;33m(\u001b[0m\u001b[1;36m2015\u001b[0m\u001b[1;33m,\u001b[0m\u001b[1;36m2\u001b[0m\u001b[1;33m,\u001b[0m\u001b[1;36m29\u001b[0m\u001b[1;33m)\u001b[0m\u001b[1;33m\u001b[0m\u001b[0m\n\u001b[0m",
      "\u001b[0;31mValueError\u001b[0m: day is out of range for month"
     ]
    }
   ],
   "source": [
    "some_date = datetime.date(2015,2,29)"
   ]
  },
  {
   "cell_type": "code",
   "execution_count": 14,
   "metadata": {
    "collapsed": false
   },
   "outputs": [
    {
     "data": {
      "text/plain": [
       "datetime.date(2016, 2, 29)"
      ]
     },
     "execution_count": 14,
     "metadata": {},
     "output_type": "execute_result"
    }
   ],
   "source": [
    "# 2015 is NOT a leap year, 2016 is\n",
    "some_date = datetime.date(2016,2,29)\n",
    "some_date"
   ]
  },
  {
   "cell_type": "code",
   "execution_count": 15,
   "metadata": {
    "collapsed": false
   },
   "outputs": [
    {
     "ename": "ValueError",
     "evalue": "minute must be in 0..59",
     "output_type": "error",
     "traceback": [
      "\u001b[0;31m---------------------------------------------------------------------------\u001b[0m",
      "\u001b[0;31mValueError\u001b[0m                                Traceback (most recent call last)",
      "\u001b[0;32m<ipython-input-15-d90c15d77802>\u001b[0m in \u001b[0;36m<module>\u001b[0;34m()\u001b[0m\n\u001b[0;32m----> 1\u001b[0;31m \u001b[0msome_time\u001b[0m \u001b[1;33m=\u001b[0m \u001b[0mdatetime\u001b[0m\u001b[1;33m.\u001b[0m\u001b[0mdatetime\u001b[0m\u001b[1;33m(\u001b[0m\u001b[1;36m2015\u001b[0m\u001b[1;33m,\u001b[0m\u001b[1;36m2\u001b[0m\u001b[1;33m,\u001b[0m\u001b[1;36m28\u001b[0m\u001b[1;33m,\u001b[0m\u001b[1;36m23\u001b[0m\u001b[1;33m,\u001b[0m\u001b[1;36m60\u001b[0m\u001b[1;33m,\u001b[0m\u001b[1;36m0\u001b[0m\u001b[1;33m)\u001b[0m\u001b[1;33m\u001b[0m\u001b[0m\n\u001b[0m\u001b[1;32m      2\u001b[0m \u001b[0msome_time\u001b[0m\u001b[1;33m\u001b[0m\u001b[0m\n",
      "\u001b[0;31mValueError\u001b[0m: minute must be in 0..59"
     ]
    }
   ],
   "source": [
    "some_time = datetime.datetime(2015,2,28,23,60,0)\n",
    "some_time"
   ]
  },
  {
   "cell_type": "markdown",
   "metadata": {},
   "source": [
    "**datetime.timedelta**\n",
    "* Used to store the duration between 3 points in time"
   ]
  },
  {
   "cell_type": "code",
   "execution_count": 17,
   "metadata": {
    "collapsed": false
   },
   "outputs": [
    {
     "name": "stdout",
     "output_type": "stream",
     "text": [
      "days since century start: 6443\n",
      "seconds since century start: 556744291.859124\n",
      "minutes since century start: 9279071.530985398\n",
      "hours since century start: 154651.19218308997\n"
     ]
    }
   ],
   "source": [
    "century_start = datetime.datetime(2000,1,1,0,0,0)\n",
    "time_now = datetime.datetime.now()\n",
    "\n",
    "time_since_century_start = time_now - century_start\n",
    "\n",
    "print(\"days since century start:\",time_since_century_start.days)\n",
    "print(\"seconds since century start:\" ,time_since_century_start.total_seconds())\n",
    "print(\"minutes since century start:\",time_since_century_start.total_seconds()/60)\n",
    "print(\"hours since century start:\",time_since_century_start.total_seconds()/60/60)"
   ]
  },
  {
   "cell_type": "code",
   "execution_count": 23,
   "metadata": {
    "collapsed": false
   },
   "outputs": [
    {
     "name": "stdout",
     "output_type": "stream",
     "text": [
      "19:15:20.048757\n",
      "<class 'datetime.time'>\n"
     ]
    },
    {
     "ename": "TypeError",
     "evalue": "unsupported operand type(s) for +: 'datetime.time' and 'datetime.timedelta'",
     "output_type": "error",
     "traceback": [
      "\u001b[0;31m---------------------------------------------------------------------------\u001b[0m",
      "\u001b[0;31mTypeError\u001b[0m                                 Traceback (most recent call last)",
      "\u001b[0;32m<ipython-input-23-1bfa74419f76>\u001b[0m in \u001b[0;36m<module>\u001b[0;34m()\u001b[0m\n\u001b[1;32m      7\u001b[0m \u001b[0mprint\u001b[0m\u001b[1;33m(\u001b[0m\u001b[0mt1\u001b[0m\u001b[1;33m)\u001b[0m\u001b[1;33m\u001b[0m\u001b[0m\n\u001b[1;32m      8\u001b[0m \u001b[0mprint\u001b[0m\u001b[1;33m(\u001b[0m\u001b[0mtype\u001b[0m\u001b[1;33m(\u001b[0m\u001b[0mt1\u001b[0m\u001b[1;33m)\u001b[0m\u001b[1;33m)\u001b[0m\u001b[1;33m\u001b[0m\u001b[0m\n\u001b[0;32m----> 9\u001b[0;31m \u001b[0mprint\u001b[0m\u001b[1;33m(\u001b[0m\u001b[0mt1\u001b[0m \u001b[1;33m+\u001b[0m \u001b[0mt2\u001b[0m\u001b[1;33m)\u001b[0m\u001b[1;33m\u001b[0m\u001b[0m\n\u001b[0m",
      "\u001b[0;31mTypeError\u001b[0m: unsupported operand type(s) for +: 'datetime.time' and 'datetime.timedelta'"
     ]
    }
   ],
   "source": [
    "# create time object of current time\n",
    "t1 = datetime.datetime.now().time()\n",
    "\n",
    "# create timedelta object of 5 seconds\n",
    "t2 = datetime.timedelta(seconds=5)\n",
    "\n",
    "print(t1) \n",
    "print(t2)\n",
    "\n",
    "# add 5 seconds to current time\n",
    "print(t1 + t2)"
   ]
  },
  {
   "cell_type": "markdown",
   "metadata": {},
   "source": [
    "<h3>datetime.time</h3>"
   ]
  },
  {
   "cell_type": "code",
   "execution_count": 19,
   "metadata": {
    "collapsed": false
   },
   "outputs": [
    {
     "name": "stdout",
     "output_type": "stream",
     "text": [
      "2017-08-22 19:12:32.397839 \n",
      "\n",
      "19:12:32.397839\n"
     ]
    }
   ],
   "source": [
    "date_and_time_now = datetime.datetime.now()\n",
    "time_now = date_and_time_now.time()\n",
    "\n",
    "# date and time\n",
    "print(date_and_time_now,'\\n') \n",
    "\n",
    "# just time\n",
    "print(time_now)"
   ]
  },
  {
   "cell_type": "markdown",
   "metadata": {},
   "source": [
    "<h4>You can do arithmetic operations on datetime objects</h4>\n",
    "<li>You can use timedelta objects to calculate new dates or times from a given date"
   ]
  },
  {
   "cell_type": "code",
   "execution_count": 25,
   "metadata": {
    "collapsed": false
   },
   "outputs": [
    {
     "name": "stdout",
     "output_type": "stream",
     "text": [
      "2017-08-22\n"
     ]
    }
   ],
   "source": [
    "# get todays date in datetime.DATE object\n",
    "today = datetime.date.today()\n",
    "print(today)"
   ]
  },
  {
   "cell_type": "code",
   "execution_count": 26,
   "metadata": {
    "collapsed": false
   },
   "outputs": [
    {
     "name": "stdout",
     "output_type": "stream",
     "text": [
      "2017-08-27\n"
     ]
    }
   ],
   "source": [
    "# add 5 days to today's date\n",
    "five_days_later = today + datetime.timedelta(days = 5)\n",
    "print(five_days_later)"
   ]
  },
  {
   "cell_type": "code",
   "execution_count": 27,
   "metadata": {
    "collapsed": false
   },
   "outputs": [
    {
     "name": "stdout",
     "output_type": "stream",
     "text": [
      "2017-08-22 19:21:49.859243\n"
     ]
    }
   ],
   "source": [
    "now = datetime.datetime.today()\n",
    "print(now)"
   ]
  },
  {
   "cell_type": "code",
   "execution_count": 28,
   "metadata": {
    "collapsed": false
   },
   "outputs": [
    {
     "name": "stdout",
     "output_type": "stream",
     "text": [
      "2017-08-22 19:26:54.859243\n"
     ]
    }
   ],
   "source": [
    "five_minutes_and_five_seconds_later = now + datetime.timedelta(minutes = 5,\n",
    "                                                               seconds = 5)\n",
    "print(five_minutes_and_five_seconds_later)"
   ]
  },
  {
   "cell_type": "code",
   "execution_count": 29,
   "metadata": {
    "collapsed": false
   },
   "outputs": [
    {
     "name": "stdout",
     "output_type": "stream",
     "text": [
      "2017-08-22 19:16:44.859243\n"
     ]
    }
   ],
   "source": [
    "five_minutes_and_five_seconds_earlier = now + datetime.timedelta(minutes = -5,\n",
    "                                                                 seconds = -5)\n",
    "print(five_minutes_and_five_seconds_earlier)"
   ]
  },
  {
   "cell_type": "markdown",
   "metadata": {},
   "source": [
    "***Can't use timedelta on TIME objects.***\n",
    "\n",
    "* If you do, you'll get a TypeError exception"
   ]
  },
  {
   "cell_type": "code",
   "execution_count": 30,
   "metadata": {
    "collapsed": false
   },
   "outputs": [
    {
     "name": "stdout",
     "output_type": "stream",
     "text": [
      "19:22:34.917735\n"
     ]
    }
   ],
   "source": [
    "# Return the time component of current time (drop day)\n",
    "time_now = datetime.datetime.now().time() \n",
    "print(time_now)"
   ]
  },
  {
   "cell_type": "code",
   "execution_count": 33,
   "metadata": {
    "collapsed": false
   },
   "outputs": [
    {
     "ename": "TypeError",
     "evalue": "unsupported operand type(s) for +: 'datetime.time' and 'datetime.timedelta'",
     "output_type": "error",
     "traceback": [
      "\u001b[0;31m---------------------------------------------------------------------------\u001b[0m",
      "\u001b[0;31mTypeError\u001b[0m                                 Traceback (most recent call last)",
      "\u001b[0;32m<ipython-input-33-01dd33ef9b5d>\u001b[0m in \u001b[0;36m<module>\u001b[0;34m()\u001b[0m\n\u001b[1;32m      2\u001b[0m \u001b[0mthirty_seconds\u001b[0m \u001b[1;33m=\u001b[0m \u001b[0mdatetime\u001b[0m\u001b[1;33m.\u001b[0m\u001b[0mtimedelta\u001b[0m\u001b[1;33m(\u001b[0m\u001b[0mseconds\u001b[0m \u001b[1;33m=\u001b[0m \u001b[1;36m30\u001b[0m\u001b[1;33m)\u001b[0m\u001b[1;33m\u001b[0m\u001b[0m\n\u001b[1;32m      3\u001b[0m \u001b[1;33m\u001b[0m\u001b[0m\n\u001b[0;32m----> 4\u001b[0;31m \u001b[0mtime_later\u001b[0m \u001b[1;33m=\u001b[0m \u001b[0mtime_now\u001b[0m \u001b[1;33m+\u001b[0m \u001b[0mthirty_seconds\u001b[0m\u001b[1;33m\u001b[0m\u001b[0m\n\u001b[0m",
      "\u001b[0;31mTypeError\u001b[0m: unsupported operand type(s) for +: 'datetime.time' and 'datetime.timedelta'"
     ]
    }
   ],
   "source": [
    "# add 30 seconds\n",
    "thirty_seconds = datetime.timedelta(seconds = 30)\n",
    "\n",
    "time_later = time_now + thirty_seconds"
   ]
  },
  {
   "cell_type": "markdown",
   "metadata": {},
   "source": [
    "Bug or feature? There is confusion to if we crossed more than a day or not\n",
    "\n",
    "But this is Python! We can always get around something by writing a new function!\n",
    "\n",
    "Let's write a small function to get around this problem"
   ]
  },
  {
   "cell_type": "code",
   "execution_count": 34,
   "metadata": {
    "collapsed": false
   },
   "outputs": [],
   "source": [
    "# function to create artifical datetime object for 1/1/500 and the hour, \n",
    "#   minute, and second from the 1st arg\n",
    "#      - it then adds the delta argument to this object and THEN gets \n",
    "#        the time delta\n",
    "def add_to_time(time_object,time_delta):\n",
    "    import datetime\n",
    "    \n",
    "    # create date object of 1/1/500 and add the time from 1st argument \n",
    "    temp_datetime_object = datetime.datetime(500,1,1,\n",
    "                                             time_object.hour,\n",
    "                                             time_object.minute,\n",
    "                                             time_object.second)\n",
    "    #print(temp_datetime_object)\n",
    "    return (temp_datetime_object + time_delta).time()"
   ]
  },
  {
   "cell_type": "code",
   "execution_count": 35,
   "metadata": {
    "collapsed": false
   },
   "outputs": [
    {
     "name": "stdout",
     "output_type": "stream",
     "text": [
      "19:25:28.220427 \n",
      "\n",
      " 19:25:58\n"
     ]
    }
   ],
   "source": [
    "# Test it by adding 30 seconds to right now\n",
    "time_now = datetime.datetime.now().time()\n",
    "thirty_seconds = datetime.timedelta(seconds = 30)\n",
    "\n",
    "print(time_now,'\\n\\n',add_to_time(time_now,thirty_seconds))"
   ]
  },
  {
   "cell_type": "markdown",
   "metadata": {},
   "source": [
    "<h2>datetime and strings</h2>"
   ]
  },
  {
   "cell_type": "markdown",
   "metadata": {},
   "source": [
    "More often than not, a program will need to get the date or time from a string:\n",
    "* From a website (bus/train timings)\n",
    "* From a file (date or datetime associated with a stock price)\n",
    "* From the user (from the input statement)\n",
    "\n",
    "Python needs to parse the string so that it correctly creates a date or time object\n"
   ]
  },
  {
   "cell_type": "markdown",
   "metadata": {},
   "source": [
    "<h4>datetime.strptime</h4>\n",
    "\n",
    "* This grabs time from a string + creates a date/datetime/time object\n",
    "* The programmer needs to tell the function what format the string is using\n",
    "* See http://pubs.opengroup.org/onlinepubs/009695399/functions/strptime.html for how to specify the format"
   ]
  },
  {
   "cell_type": "code",
   "execution_count": 36,
   "metadata": {
    "collapsed": false
   },
   "outputs": [
    {
     "name": "stdout",
     "output_type": "stream",
     "text": [
      "2003-04-01 00:00:00\n"
     ]
    }
   ],
   "source": [
    "test_date = '01-Apr-03'\n",
    "\n",
    "# create date object from the given date above\n",
    "date_object = datetime.datetime.strptime(test_date,'%d-%b-%y')\n",
    "print(date_object)"
   ]
  },
  {
   "cell_type": "code",
   "execution_count": 37,
   "metadata": {
    "collapsed": false
   },
   "outputs": [
    {
     "name": "stdout",
     "output_type": "stream",
     "text": [
      "2:15:30\n"
     ]
    }
   ],
   "source": [
    "#Unfortunately, there is no similar thing for time delta, so we have to be creative!\n",
    "bus_travel_time = '2:15:30'\n",
    "\n",
    "# split string into 3 strings via .split() and store each section into a proper variable\n",
    "hours, minutes, seconds = bus_travel_time.split(':')\n",
    "\n",
    "# create new time object with the stripped out time value from above\n",
    "x = datetime.timedelta(hours = int(hours),minutes = int(minutes),seconds = int(seconds))\n",
    "print(x)"
   ]
  },
  {
   "cell_type": "code",
   "execution_count": 39,
   "metadata": {
    "collapsed": true
   },
   "outputs": [],
   "source": [
    "# Function that will do this for a particular format\n",
    "def get_timedelta(time_string):\n",
    "    import datetime\n",
    "    \n",
    "    hours, minutes, seconds = time_string.split(':')\n",
    "    return datetime.timedelta(hours = int(hours),minutes = int(minutes), seconds = int(seconds))"
   ]
  },
  {
   "cell_type": "code",
   "execution_count": 41,
   "metadata": {
    "collapsed": false
   },
   "outputs": [
    {
     "name": "stdout",
     "output_type": "stream",
     "text": [
      "4:40:36\n"
     ]
    }
   ],
   "source": [
    "travel_time = '4:40:36'\n",
    "print(get_timedelta(travel_time))"
   ]
  },
  {
   "cell_type": "markdown",
   "metadata": {},
   "source": [
    "<h4>datetime.strftime</h4>\n",
    "* This flips the strptime function + converts a datetime object to a string with a specified format"
   ]
  },
  {
   "cell_type": "code",
   "execution_count": 45,
   "metadata": {
    "collapsed": false
   },
   "outputs": [
    {
     "name": "stdout",
     "output_type": "stream",
     "text": [
      "2017-07-21 15:39:55.809175 \n",
      "\n",
      " 07/21/17 15:39:55\n"
     ]
    }
   ],
   "source": [
    "now = datetime.datetime.now()\n",
    "\n",
    "# turn current datetime into a string\n",
    "string_now = datetime.datetime.strftime(now,'%m/%d/%y %H:%M:%S')\n",
    "print(now,'\\n\\n',string_now)"
   ]
  },
  {
   "cell_type": "code",
   "execution_count": 43,
   "metadata": {
    "collapsed": false
   },
   "outputs": [
    {
     "name": "stdout",
     "output_type": "stream",
     "text": [
      "2017-07-21 15:39:36.393175\n"
     ]
    }
   ],
   "source": [
    "# Or you can use the default conversion\n",
    "print(str(now)) "
   ]
  },
  {
   "cell_type": "code",
   "execution_count": 165,
   "metadata": {
    "collapsed": false
   },
   "outputs": [],
   "source": [
    "# return dictionary of word counts\n",
    "# Assume strings have at most 1 punctuation symbol at the end or 1 punctuation symbol at the beginning \n",
    "# ignore punctuation that appears anywhere else. F\n",
    "def word_distribution(string):\n",
    "    # split string into a list\n",
    "    split_string = string.split(' ')\n",
    "    \n",
    "    # initiate dictionary\n",
    "    result = {}    \n",
    "    \n",
    "    # for each item in the list\n",
    "    for i in split_string:\n",
    "        # if it doesn't end in a punctuation, keep i as i\n",
    "        if i[-1].isalpha():  \n",
    "            i = i\n",
    "        # if it DOES end in a punctuation, remove the punctuation\n",
    "        else:\n",
    "            i = i[:len(i)-1]\n",
    "            \n",
    "        # if word isn't in dictionary yet, initiate count = 1\n",
    "        if i not in result:\n",
    "            result[i.lower()] = 1\n",
    "        # if word is in dictionary, add to its count\n",
    "        else:\n",
    "            result[i.lower()] += 1\n",
    "            \n",
    "    return result"
   ]
  },
  {
   "cell_type": "code",
   "execution_count": 166,
   "metadata": {
    "collapsed": false
   },
   "outputs": [
    {
     "data": {
      "text/plain": [
       "{'are': 1,\n",
       " 'don’t': 1,\n",
       " 'hello': 2,\n",
       " 'how': 1,\n",
       " 'if': 1,\n",
       " 'love': 1,\n",
       " 'me': 1,\n",
       " 'please': 1,\n",
       " 'say': 1,\n",
       " 'you': 2}"
      ]
     },
     "execution_count": 166,
     "metadata": {},
     "output_type": "execute_result"
    }
   ],
   "source": [
    "text_string = 'Hello. How are you? Please say hello if you don’t love me!'\n",
    "\n",
    "word_distribution(text_string)"
   ]
  },
  {
   "cell_type": "code",
   "execution_count": 93,
   "metadata": {
    "collapsed": false
   },
   "outputs": [
    {
     "data": {
      "text/plain": [
       "{\"(john's\": 1,\n",
       " 'i': 1,\n",
       " 'jane': 1,\n",
       " 'saw': 1,\n",
       " 'sister)!': 1,\n",
       " \"that's\": 1,\n",
       " 'when': 1}"
      ]
     },
     "execution_count": 93,
     "metadata": {},
     "output_type": "execute_result"
    }
   ],
   "source": [
    "text_string = \"That's when I saw Jane (John's sister)!\"\n",
    "\n",
    "word_distribution(text_string)"
   ]
  },
  {
   "cell_type": "code",
   "execution_count": null,
   "metadata": {
    "collapsed": true
   },
   "outputs": [],
   "source": []
  }
 ],
 "metadata": {
  "anaconda-cloud": {},
  "kernelspec": {
   "display_name": "Python [default]",
   "language": "python",
   "name": "python3"
  },
  "language_info": {
   "codemirror_mode": {
    "name": "ipython",
    "version": 3
   },
   "file_extension": ".py",
   "mimetype": "text/x-python",
   "name": "python",
   "nbconvert_exporter": "python",
   "pygments_lexer": "ipython3",
   "version": "3.5.2"
  }
 },
 "nbformat": 4,
 "nbformat_minor": 0
}
