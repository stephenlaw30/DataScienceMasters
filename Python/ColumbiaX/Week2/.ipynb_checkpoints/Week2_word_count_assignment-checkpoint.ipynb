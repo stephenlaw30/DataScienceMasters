{
 "cells": [
  {
   "cell_type": "code",
   "execution_count": 16,
   "metadata": {
    "collapsed": true
   },
   "outputs": [],
   "source": [
    "# return dictionary of word counts\n",
    "# Assume strings have at most 1 punctuation symbol at the end or 1 punctuation symbol at the beginning \n",
    "# ignore punctuation that appears anywhere else. F\n",
    "def word_distribution(string):\n",
    "    # split string into a list\n",
    "    split_string = string.split(' ')\n",
    "    \n",
    "    # initiate dictionary\n",
    "    result = {}    \n",
    "    \n",
    "    # for each item in the list\n",
    "    for i in split_string:\n",
    "        # if it doesn't end in a punctuation\n",
    "        if i[-1].isalpha():\n",
    "            # and if it doesn't start with a punctuation, keep i as i\n",
    "            if i[0].isalpha():  \n",
    "                i = i\n",
    "            # if it DOES end in a punctuation, remove the punctuation\n",
    "            else:\n",
    "                i = i[1:len(i)]\n",
    "        # if it DOES end in a punctuation, remove the punctuation\n",
    "        else:\n",
    "            i = i[:len(i)-1]\n",
    "            \n",
    "        # if word isn't in dictionary yet, initiate count = 1\n",
    "        if i not in result:\n",
    "            result[i.lower()] = 1\n",
    "        # if word is in dictionary, add to its count\n",
    "        else:\n",
    "            result[i.lower()] += 1\n",
    "            \n",
    "    return result"
   ]
  },
  {
   "cell_type": "code",
   "execution_count": 17,
   "metadata": {
    "collapsed": false
   },
   "outputs": [
    {
     "data": {
      "text/plain": [
       "{'are': 1,\n",
       " 'don’t': 1,\n",
       " 'hello': 2,\n",
       " 'how': 1,\n",
       " 'if': 1,\n",
       " 'love': 1,\n",
       " 'me': 1,\n",
       " 'please': 1,\n",
       " 'say': 1,\n",
       " 'you': 2}"
      ]
     },
     "execution_count": 17,
     "metadata": {},
     "output_type": "execute_result"
    }
   ],
   "source": [
    "text_string = 'Hello. How are you? Please say hello if you don’t love me!'\n",
    "\n",
    "word_distribution(text_string)"
   ]
  },
  {
   "cell_type": "code",
   "execution_count": 18,
   "metadata": {
    "collapsed": false
   },
   "outputs": [
    {
     "data": {
      "text/plain": [
       "{'i': 1,\n",
       " 'jane': 1,\n",
       " \"john's\": 1,\n",
       " 'saw': 1,\n",
       " 'sister)': 1,\n",
       " \"that's\": 1,\n",
       " 'when': 1}"
      ]
     },
     "execution_count": 18,
     "metadata": {},
     "output_type": "execute_result"
    }
   ],
   "source": [
    "text_string = \"That's when I saw Jane (John's sister)!\"\n",
    "\n",
    "word_distribution(text_string)"
   ]
  },
  {
   "cell_type": "code",
   "execution_count": 15,
   "metadata": {
    "collapsed": false
   },
   "outputs": [
    {
     "name": "stdout",
     "output_type": "stream",
     "text": [
      "That's\n",
      "when\n",
      "I\n",
      "saw\n",
      "Jane\n",
      "sister)!\n"
     ]
    }
   ],
   "source": [
    "split_string = text_string.split(' ')\n",
    "    \n",
    "    # initiate dictionary\n",
    "#    result = {}    \n",
    "    \n",
    "    # for each item in the list\n",
    "for i in split_string:\n",
    "    if i[0].isalpha():\n",
    "        print(i)"
   ]
  },
  {
   "cell_type": "code",
   "execution_count": null,
   "metadata": {
    "collapsed": true
   },
   "outputs": [],
   "source": []
  }
 ],
 "metadata": {
  "kernelspec": {
   "display_name": "Python 3",
   "language": "python",
   "name": "python3"
  },
  "language_info": {
   "codemirror_mode": {
    "name": "ipython",
    "version": 3
   },
   "file_extension": ".py",
   "mimetype": "text/x-python",
   "name": "python",
   "nbconvert_exporter": "python",
   "pygments_lexer": "ipython3",
   "version": "3.6.0"
  }
 },
 "nbformat": 4,
 "nbformat_minor": 2
}
