{
 "cells": [
  {
   "cell_type": "markdown",
   "metadata": {},
   "source": [
    "<h1>Lists</h1>\n",
    "<li>Sequential, Ordered Collection\n"
   ]
  },
  {
   "cell_type": "markdown",
   "metadata": {},
   "source": [
    "<h2>Creating lists</h2>"
   ]
  },
  {
   "cell_type": "code",
   "execution_count": 50,
   "metadata": {
    "collapsed": false
   },
   "outputs": [
    {
     "name": "stdout",
     "output_type": "stream",
     "text": [
      "[4, 2, 6, 3]\n",
      "[]\n"
     ]
    }
   ],
   "source": [
    "## Create a list with values\n",
    "x = [4,2,6,3] \n",
    "\n",
    "## Create empty lists\n",
    "#y = list() \n",
    "y = [] #Create an empty list\n",
    "\n",
    "print(x)\n",
    "print(y)"
   ]
  },
  {
   "cell_type": "code",
   "execution_count": 49,
   "metadata": {
    "collapsed": false
   },
   "outputs": [
    {
     "data": {
      "text/plain": [
       "[None]"
      ]
     },
     "execution_count": 49,
     "metadata": {},
     "output_type": "execute_result"
    }
   ],
   "source": [
    "z = list([])\n",
    "z"
   ]
  },
  {
   "cell_type": "markdown",
   "metadata": {},
   "source": [
    "<h3>Adding items to a list</h3>\n"
   ]
  },
  {
   "cell_type": "code",
   "execution_count": 51,
   "metadata": {
    "collapsed": false
   },
   "outputs": [
    {
     "name": "stdout",
     "output_type": "stream",
     "text": [
      "[4, 2, 6, 3, 'One']\n",
      "[4, 2, 6, 3, 'One', 'Two']\n"
     ]
    }
   ],
   "source": [
    "## LISTS CAN HAVE ITEMS OF DIFFERENT TYPES\n",
    "\n",
    "# add 'one' to end of list x\n",
    "x.append('One') #Adds 'One' to the back of the empty list\n",
    "print(x)\n",
    "\n",
    "x.append('Two')\n",
    "print(x)"
   ]
  },
  {
   "cell_type": "code",
   "execution_count": 52,
   "metadata": {
    "collapsed": false
   },
   "outputs": [
    {
     "name": "stdout",
     "output_type": "stream",
     "text": [
      "['Half', 4, 2, 6, 3, 'One', 'Two']\n"
     ]
    }
   ],
   "source": [
    "# insert 'half' at index 0 (start of list) --> other items shift to left\n",
    "x.insert(0,'Half')\n",
    "print(x)"
   ]
  },
  {
   "cell_type": "code",
   "execution_count": 53,
   "metadata": {
    "collapsed": false
   },
   "outputs": [
    {
     "name": "stdout",
     "output_type": "stream",
     "text": [
      "['Half', 4, 2, 6, 3, 'One', 'Two', 10, 12, 13]\n"
     ]
    }
   ],
   "source": [
    "# UNPACK another list and add it to the end of x\n",
    "x.extend([10,12,13]) #Unpacks the list and adds each item to the back of the list\n",
    "print(x)"
   ]
  },
  {
   "cell_type": "code",
   "execution_count": 63,
   "metadata": {
    "collapsed": false
   },
   "outputs": [
    {
     "name": "stdout",
     "output_type": "stream",
     "text": [
      "1\n",
      "[1, 2, 3]\n",
      "[1, 2, 3, 4, 5]\n",
      "[4, 5]\n"
     ]
    }
   ],
   "source": [
    "list1 = [1, 2, 3, 4, 5, 6, 7]\n",
    "print(list1[0])\n",
    "print(list1[:3])\n",
    "print(list1[:-2])\n",
    "print(list1[3:5])"
   ]
  },
  {
   "cell_type": "markdown",
   "metadata": {},
   "source": [
    "<h3>Indexing and slicing</h3>"
   ]
  },
  {
   "cell_type": "code",
   "execution_count": 22,
   "metadata": {
    "collapsed": false
   },
   "outputs": [
    {
     "name": "stdout",
     "output_type": "stream",
     "text": [
      "10\n",
      "6\n",
      "[2, 6, 3]\n",
      "13\n",
      "[13, 12, 10, 'Two', 'One', 3, 6, 2, 4, 'Half']\n"
     ]
    }
   ],
   "source": [
    "## ORDER MATTERS IN LISTS\n",
    "\n",
    "print(len(x))\n",
    "print(x[3])\n",
    "print(x[2:5])\n",
    "print(x[-1]) #last index in list\n",
    "print(x[::-1]) # reverse list"
   ]
  },
  {
   "cell_type": "markdown",
   "metadata": {},
   "source": [
    "<h3>Removing items from a list</h3>"
   ]
  },
  {
   "cell_type": "code",
   "execution_count": 23,
   "metadata": {
    "collapsed": false
   },
   "outputs": [
    {
     "name": "stdout",
     "output_type": "stream",
     "text": [
      "['Half', 4, 2, 6, 3, 'One', 'Two', 10, 12]\n",
      "13\n",
      "['Half', 4, 2, 3, 'One', 'Two', 10, 12]\n",
      "6\n",
      "['Half', 4, 2, 3, 'One', 10, 12]\n"
     ]
    }
   ],
   "source": [
    "# .pop() removes the last element from a list and makes it able to be stored\n",
    "popped = x.pop() #Removes the last element from a list\n",
    "print(x)\n",
    "print(popped)\n",
    "\n",
    "popped2 = x.pop(3) #Removes element at item 3 from a list\n",
    "print(x)\n",
    "print(popped2)\n",
    "\n",
    "# remove the first 'Two' from the list\n",
    "x.remove('Two') \n",
    "print(x)"
   ]
  },
  {
   "cell_type": "markdown",
   "metadata": {},
   "source": [
    "<h3>Anything you want to remove must be in the list or the location MUST be inside the list</h3>"
   ]
  },
  {
   "cell_type": "code",
   "execution_count": 24,
   "metadata": {
    "collapsed": false
   },
   "outputs": [
    {
     "ename": "ValueError",
     "evalue": "list.remove(x): x not in list",
     "output_type": "error",
     "traceback": [
      "\u001b[0;31m---------------------------------------------------------------------------\u001b[0m",
      "\u001b[0;31mValueError\u001b[0m                                Traceback (most recent call last)",
      "\u001b[0;32m<ipython-input-24-c1262597e831>\u001b[0m in \u001b[0;36m<module>\u001b[0;34m()\u001b[0m\n\u001b[0;32m----> 1\u001b[0;31m \u001b[0mx\u001b[0m\u001b[1;33m.\u001b[0m\u001b[0mremove\u001b[0m\u001b[1;33m(\u001b[0m\u001b[1;36m20\u001b[0m\u001b[1;33m)\u001b[0m\u001b[1;33m\u001b[0m\u001b[0m\n\u001b[0m",
      "\u001b[0;31mValueError\u001b[0m: list.remove(x): x not in list"
     ]
    }
   ],
   "source": [
    "x.remove(20)"
   ]
  },
  {
   "cell_type": "markdown",
   "metadata": {},
   "source": [
    "<h2>Mutablility of lists</h2>"
   ]
  },
  {
   "cell_type": "code",
   "execution_count": 25,
   "metadata": {
    "collapsed": false
   },
   "outputs": [
    {
     "name": "stdout",
     "output_type": "stream",
     "text": [
      "[1, ['a', 'b'], 3]\n",
      "['a', 'b']\n",
      "['a', 4]\n"
     ]
    }
   ],
   "source": [
    "## lists are MUTABLE = can be changed\n",
    "## ints, strings, floats, bool are IMMUTABLE\n",
    "\n",
    "y = ['a', 'b']\n",
    "x = [1, y, 3]\n",
    "print(x)\n",
    "print(y)\n",
    "y[1] = 4\n",
    "print(y)"
   ]
  },
  {
   "cell_type": "code",
   "execution_count": 26,
   "metadata": {
    "collapsed": false
   },
   "outputs": [
    {
     "name": "stdout",
     "output_type": "stream",
     "text": [
      "[1, ['a', 4], 3]\n"
     ]
    }
   ],
   "source": [
    "# see that y was indeed changed, so the index in \"x\" pointing to that object reflects that change\n",
    "print(x)"
   ]
  },
  {
   "cell_type": "code",
   "execution_count": 27,
   "metadata": {
    "collapsed": false
   },
   "outputs": [
    {
     "name": "stdout",
     "output_type": "stream",
     "text": [
      "Hello 86964688\n",
      "Hello You! 86967664\n"
     ]
    }
   ],
   "source": [
    "x = \"Hello\"\n",
    "print(x,id(x))\n",
    "\n",
    "x += \" You!\"\n",
    "print(x,id(x)) # x is not the same object it was --> created a NEW string"
   ]
  },
  {
   "cell_type": "code",
   "execution_count": 28,
   "metadata": {
    "collapsed": false
   },
   "outputs": [
    {
     "name": "stdout",
     "output_type": "stream",
     "text": [
      "['Hello'] 86915912\n",
      "['Hello', 'You!'] 86915912\n"
     ]
    }
   ],
   "source": [
    "y = [\"Hello\"]\n",
    "print(y,id(y))\n",
    "y += [\"You!\"] \n",
    "\n",
    "print(y,id(y)) # y is still the SAME object bc lists are mutable while Strings are IMMUTABLE"
   ]
  },
  {
   "cell_type": "code",
   "execution_count": 30,
   "metadata": {
    "collapsed": false
   },
   "outputs": [],
   "source": [
    "def eggs(item, total = 0): # set default of total = 0\n",
    "    total += item\n",
    "    return total\n",
    "\n",
    "\n",
    "def spam(elem, some_list = []): # set default of some_list = an empty list\n",
    "    some_list.append(elem)\n",
    "    return some_list"
   ]
  },
  {
   "cell_type": "code",
   "execution_count": 31,
   "metadata": {
    "collapsed": false
   },
   "outputs": [
    {
     "name": "stdout",
     "output_type": "stream",
     "text": [
      "1\n",
      "2\n",
      "[1]\n",
      "[1, 2]\n"
     ]
    }
   ],
   "source": [
    "print(eggs(1))\n",
    "print(eggs(2)) # local 'total' variable is killed when 1st egg call finishes so 'total' is reset to 0\n",
    "\n",
    "print(spam(1))\n",
    "print(spam(2)) # the list is NOT killed at the end of the function call"
   ]
  },
  {
   "cell_type": "markdown",
   "metadata": {},
   "source": [
    "<h1>Iteration</h1>"
   ]
  },
  {
   "cell_type": "markdown",
   "metadata": {},
   "source": [
    "<h2>Range iteration</h2>"
   ]
  },
  {
   "cell_type": "code",
   "execution_count": 32,
   "metadata": {
    "collapsed": false
   },
   "outputs": [
    {
     "name": "stdout",
     "output_type": "stream",
     "text": [
      "1\n",
      "7\n",
      "2\n",
      "5\n",
      "3\n",
      "5\n",
      "67\n",
      "32\n"
     ]
    }
   ],
   "source": [
    "## FOR loop creates a new variable (e.g. index) to use as its index iterator\n",
    "\n",
    "x = [1,7,2,5,3,5,67,32]\n",
    "for index in range(len(x)):\n",
    "    print(x[index])"
   ]
  },
  {
   "cell_type": "code",
   "execution_count": 33,
   "metadata": {
    "collapsed": false
   },
   "outputs": [
    {
     "data": {
      "text/plain": [
       "[0, 1, 2, 3, 4, 5, 6, 7]"
      ]
     },
     "execution_count": 33,
     "metadata": {},
     "output_type": "execute_result"
    }
   ],
   "source": [
    "list(range(len(x)))"
   ]
  },
  {
   "cell_type": "markdown",
   "metadata": {},
   "source": [
    "<h3>List element iteration</h3>"
   ]
  },
  {
   "cell_type": "code",
   "execution_count": 34,
   "metadata": {
    "collapsed": false
   },
   "outputs": [
    {
     "name": "stdout",
     "output_type": "stream",
     "text": [
      "1\n",
      "7\n",
      "2\n",
      "5\n",
      "3\n",
      "5\n",
      "67\n",
      "32\n"
     ]
    }
   ],
   "source": [
    "x = [1,7,2,5,3,5,67,32]\n",
    "for element in x:\n",
    "    print(element)"
   ]
  },
  {
   "cell_type": "markdown",
   "metadata": {},
   "source": [
    "<h3>Practice problem</h3>"
   ]
  },
  {
   "cell_type": "markdown",
   "metadata": {},
   "source": [
    "Write a function that searches a list of tuple pairs and returns the value associated with the first element of the pair"
   ]
  },
  {
   "cell_type": "code",
   "execution_count": 37,
   "metadata": {
    "collapsed": false
   },
   "outputs": [],
   "source": [
    "## Tuples lists that are IMMUTABLE\n",
    "## All operations one can perform on a list, one can perform on a tuple, except those that change it\n",
    "\n",
    "def search_list(list_of_tuples,value):\n",
    "    for e in list_of_tuples:\n",
    "        if e[0] == value:\n",
    "            return e[1]"
   ]
  },
  {
   "cell_type": "code",
   "execution_count": 38,
   "metadata": {
    "collapsed": false
   },
   "outputs": [
    {
     "name": "stdout",
     "output_type": "stream",
     "text": [
      "39.28\n"
     ]
    }
   ],
   "source": [
    "prices = [('AAPL',96.43),('IONS',39.28),('GS',159.53)]\n",
    "ticker = 'IONS'\n",
    "print(search_list(prices,ticker))"
   ]
  },
  {
   "cell_type": "markdown",
   "metadata": {},
   "source": [
    "<h1>Dictionaries</h1>"
   ]
  },
  {
   "cell_type": "code",
   "execution_count": 39,
   "metadata": {
    "collapsed": false
   },
   "outputs": [],
   "source": [
    "## all data we get from API's are in the form of a JSON dictionary or lists containing dictionaries\n",
    "## made up of key-value (KV) pairs\n",
    "## keys must be IMMUTABLE bc they point to a location + if we change the key, we lose that location\n",
    "## dictionaries take the keys given to them and HASHES them, which makes then UNORDERED\n",
    "## hash = a fixed sized int that ID's a particular value. \n",
    "## Each value needs to have it's own hash, so for the same value you get the same hash even if it's not the same object.\n",
    "\n",
    "mktcaps = {'AAPL':538.7,'GOOG':68.7,'IONS':4.6}"
   ]
  },
  {
   "cell_type": "code",
   "execution_count": 40,
   "metadata": {
    "collapsed": false
   },
   "outputs": [
    {
     "data": {
      "text/plain": [
       "538.7"
      ]
     },
     "execution_count": 40,
     "metadata": {},
     "output_type": "execute_result"
    }
   ],
   "source": [
    "# Return value associated w/ key \"AAPL\"\n",
    "mktcaps['AAPL'] "
   ]
  },
  {
   "cell_type": "code",
   "execution_count": 41,
   "metadata": {
    "collapsed": false
   },
   "outputs": [
    {
     "ename": "KeyError",
     "evalue": "'GS'",
     "output_type": "error",
     "traceback": [
      "\u001b[0;31m---------------------------------------------------------------------------\u001b[0m",
      "\u001b[0;31mKeyError\u001b[0m                                  Traceback (most recent call last)",
      "\u001b[0;32m<ipython-input-41-9c70ea5717a0>\u001b[0m in \u001b[0;36m<module>\u001b[0;34m()\u001b[0m\n\u001b[1;32m      1\u001b[0m \u001b[1;31m# Error bc GS is not a key in mktcaps\u001b[0m\u001b[1;33m\u001b[0m\u001b[1;33m\u001b[0m\u001b[0m\n\u001b[0;32m----> 2\u001b[0;31m \u001b[0mmktcaps\u001b[0m\u001b[1;33m[\u001b[0m\u001b[1;34m'GS'\u001b[0m\u001b[1;33m]\u001b[0m\u001b[1;33m\u001b[0m\u001b[0m\n\u001b[0m",
      "\u001b[0;31mKeyError\u001b[0m: 'GS'"
     ]
    }
   ],
   "source": [
    "# Error bc GS is not a key in mktcaps\n",
    "mktcaps['GS'] "
   ]
  },
  {
   "cell_type": "code",
   "execution_count": 42,
   "metadata": {
    "collapsed": true
   },
   "outputs": [],
   "source": [
    "# Returns None because GS is not a key in mktcaps\n",
    "mktcaps.get('GS') "
   ]
  },
  {
   "cell_type": "code",
   "execution_count": 43,
   "metadata": {
    "collapsed": false
   },
   "outputs": [
    {
     "name": "stdout",
     "output_type": "stream",
     "text": [
      "{'AAPL': 538.7, 'GOOG': 68.7, 'IONS': 4.6, 'GS': 88.65}\n"
     ]
    }
   ],
   "source": [
    "# Adds a new value to a new key GS to the dictionary\n",
    "mktcaps['GS'] = 88.65 \n",
    "print(mktcaps) "
   ]
  },
  {
   "cell_type": "code",
   "execution_count": 44,
   "metadata": {
    "collapsed": false
   },
   "outputs": [
    {
     "name": "stdout",
     "output_type": "stream",
     "text": [
      "{'AAPL': 538.7, 'IONS': 4.6, 'GS': 88.65}\n"
     ]
    }
   ],
   "source": [
    "# Removes GOOG and its value from mktcaps\n",
    "del(mktcaps['GOOG'])\n",
    "print(mktcaps)"
   ]
  },
  {
   "cell_type": "code",
   "execution_count": 67,
   "metadata": {
    "collapsed": false
   },
   "outputs": [
    {
     "name": "stdout",
     "output_type": "stream",
     "text": [
      "dict_keys(['AAPL', 'IONS', 'GS'])\n",
      "dict_values([538.7, 4.6, 88.65])\n",
      "['AAPL', 'GS', 'IONS']\n",
      "[538.7, 88.65, 4.6]\n"
     ]
    }
   ],
   "source": [
    "# Return all the keys + all the values\n",
    "print(mktcaps.keys())\n",
    "print(mktcaps.values())\n",
    "\n",
    "#get sorted keys\n",
    "print(sorted(mktcaps.keys()))\n",
    "print(sorted(mktcaps.values(), reverse = True))"
   ]
  },
  {
   "cell_type": "markdown",
   "metadata": {},
   "source": [
    "<h1>Sets</h1>"
   ]
  },
  {
   "cell_type": "code",
   "execution_count": 83,
   "metadata": {
    "collapsed": false
   },
   "outputs": [
    {
     "name": "stdout",
     "output_type": "stream",
     "text": [
      "True\n",
      "True\n",
      "False\n",
      "False\n",
      "False\n",
      "False\n",
      "{'IONS'}\n",
      "{'IONS', 'NFLX', 'AAPL', 'GE', 'IMCL'}\n",
      "{'NFLX', 'AAPL', 'GE'}\n"
     ]
    }
   ],
   "source": [
    "## Sets have only unique values\n",
    "\n",
    "tickers = {'AAPL','GE','NFLX','IONS'}\n",
    "regions = {'Northeast','South','West Coast','Midwest'}\n",
    "\n",
    "print('AAPL' in tickers)\n",
    "print('IBM' not in tickers)\n",
    "\n",
    "pharma_tickers = {'IONS','IMCL'}\n",
    "\n",
    "# are 2 sets DISJOINT (is their intersection EMPTY?)\n",
    "print(tickers.isdisjoint(pharma_tickers)) # expect FALSE bc 'IONS'\n",
    "\n",
    "# subset test\n",
    "print(pharma_tickers <= tickers)\n",
    "\n",
    "# check if PROPER subset (every element in 1st arg is in 2nd arg but there is\n",
    "#   some lement in 2nd arg that is not in pharma)\n",
    "print(pharma_tickers < tickers)\n",
    "\n",
    "# superset test\n",
    "print(tickers > pharma_tickers)\n",
    "\n",
    "# intersection test = elements in BOTH sets\n",
    "print(tickers & pharma_tickers)\n",
    "\n",
    "# union test = all unqiue elements in both sets\n",
    "print(tickers | pharma_tickers)\n",
    "\n",
    "# set difference test = all elements in arg 1 NOT IN arg 2\n",
    "print(tickers - pharma_tickers)"
   ]
  },
  {
   "cell_type": "code",
   "execution_count": 84,
   "metadata": {
    "collapsed": false
   },
   "outputs": [
    {
     "ename": "TypeError",
     "evalue": "'>' not supported between instances of 'dict' and 'dict'",
     "output_type": "error",
     "traceback": [
      "\u001b[0;31m---------------------------------------------------------------------------\u001b[0m",
      "\u001b[0;31mTypeError\u001b[0m                                 Traceback (most recent call last)",
      "\u001b[0;32m<ipython-input-84-73efb0384e4b>\u001b[0m in \u001b[0;36m<module>\u001b[0;34m()\u001b[0m\n\u001b[1;32m      2\u001b[0m \u001b[0mdict2\u001b[0m \u001b[1;33m=\u001b[0m \u001b[1;33m{\u001b[0m\u001b[1;34m\"john\"\u001b[0m\u001b[1;33m:\u001b[0m\u001b[1;36m466\u001b[0m\u001b[1;33m,\u001b[0m \u001b[1;34m\"peter\"\u001b[0m\u001b[1;33m:\u001b[0m\u001b[1;36m45\u001b[0m\u001b[1;33m}\u001b[0m\u001b[1;33m\u001b[0m\u001b[0m\n\u001b[1;32m      3\u001b[0m \u001b[1;33m\u001b[0m\u001b[0m\n\u001b[0;32m----> 4\u001b[0;31m \u001b[0mdict1\u001b[0m \u001b[1;33m>\u001b[0m \u001b[0mdict2\u001b[0m\u001b[1;33m\u001b[0m\u001b[0m\n\u001b[0m",
      "\u001b[0;31mTypeError\u001b[0m: '>' not supported between instances of 'dict' and 'dict'"
     ]
    }
   ],
   "source": [
    "dict1 = {\"john\":40, \"peter\":45}\n",
    "dict2 = {\"john\":466, \"peter\":45}\n",
    "\n",
    "dict1 > dict2"
   ]
  },
  {
   "cell_type": "code",
   "execution_count": 85,
   "metadata": {
    "collapsed": false
   },
   "outputs": [
    {
     "data": {
      "text/plain": [
       "{'b': 2}"
      ]
     },
     "execution_count": 85,
     "metadata": {},
     "output_type": "execute_result"
    }
   ],
   "source": [
    "dict1 = {\"a\":1, \"b\":2}\n",
    "del dict1[\"a\"]\n",
    "dict1"
   ]
  },
  {
   "cell_type": "code",
   "execution_count": 89,
   "metadata": {
    "collapsed": false
   },
   "outputs": [
    {
     "data": {
      "text/plain": [
       "4"
      ]
     },
     "execution_count": 89,
     "metadata": {},
     "output_type": "execute_result"
    }
   ],
   "source": [
    "s = {1, 2, 4, 3}\n",
    "max(s)"
   ]
  },
  {
   "cell_type": "code",
   "execution_count": null,
   "metadata": {
    "collapsed": true
   },
   "outputs": [],
   "source": []
  }
 ],
 "metadata": {
  "kernelspec": {
   "display_name": "Python 3",
   "language": "python",
   "name": "python3"
  },
  "language_info": {
   "codemirror_mode": {
    "name": "ipython",
    "version": 3
   },
   "file_extension": ".py",
   "mimetype": "text/x-python",
   "name": "python",
   "nbconvert_exporter": "python",
   "pygments_lexer": "ipython3",
   "version": "3.6.0"
  }
 },
 "nbformat": 4,
 "nbformat_minor": 2
}
