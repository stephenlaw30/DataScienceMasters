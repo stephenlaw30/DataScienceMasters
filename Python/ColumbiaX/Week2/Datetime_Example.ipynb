{
 "cells": [
  {
   "cell_type": "markdown",
   "metadata": {},
   "source": [
    "<h1>Bucketing time</h1>"
   ]
  },
  {
   "cell_type": "markdown",
   "metadata": {},
   "source": [
    "In NYC there's a number that you can dial, 311, for a complaints hotline to make complaints about all kinds of things (potholes, bus delays, taxi, heat, noise, etc.) \n",
    "\n",
    "These complaints are all recorded and stored, and NYC has a very nice data delivery service. Almost any kind of data NYC produces is made available to the public.\n",
    "\n",
    "The file **sample_data.csv** contains start and processing times for all complaints registered with NYC's 311 complaint hotline on 01/01/2016. Our goal is to compute the average processing time for each hourly bucket."
   ]
  },
  {
   "cell_type": "markdown",
   "metadata": {},
   "source": [
    "<h3>Step 1: Read the data</h3>"
   ]
  },
  {
   "cell_type": "code",
   "execution_count": 10,
   "metadata": {
    "collapsed": false
   },
   "outputs": [],
   "source": [
    "nyc = list()\n",
    "with open('nyc.csv','r') as f:\n",
    "    for line in f:\n",
    "        nyc.append(line.strip().split(','))"
   ]
  },
  {
   "cell_type": "code",
   "execution_count": 11,
   "metadata": {
    "collapsed": false
   },
   "outputs": [
    {
     "data": {
      "text/plain": [
       "[['2016-01-01 00:00:09', '0.0815162037037037'],\n",
       " ['2016-01-01 00:00:40', '0.1334837962962963'],\n",
       " ['2016-01-01 00:01:09', '20.388726851851853'],\n",
       " ['2016-01-01 00:02:59', '0.9811458333333334'],\n",
       " ['2016-01-01 00:03:03', '7.048576388888889'],\n",
       " ['2016-01-01 00:03:03', '0.1400810185185185'],\n",
       " ['2016-01-01 00:03:29', '0.11086805555555555'],\n",
       " ['2016-01-01 00:04:06', '0.016967592592592593'],\n",
       " ['2016-01-01 00:04:37', '0.1597222222222222'],\n",
       " ['2016-01-01 00:04:56', '2.996585648148148']]"
      ]
     },
     "execution_count": 11,
     "metadata": {},
     "output_type": "execute_result"
    }
   ],
   "source": [
    "# inspect 1st 10 lines\n",
    "nyc[0:10]"
   ]
  },
  {
   "cell_type": "markdown",
   "metadata": {},
   "source": [
    "So we have a tuple (list), where element 1 is a string that looks like a datetime, and element 2 is a string that looks like a float"
   ]
  },
  {
   "cell_type": "code",
   "execution_count": 7,
   "metadata": {
    "collapsed": false
   },
   "outputs": [
    {
     "data": {
      "text/plain": [
       "datetime.datetime(2016, 1, 1, 0, 0, 9)"
      ]
     },
     "execution_count": 7,
     "metadata": {},
     "output_type": "execute_result"
    }
   ],
   "source": [
    "# convert test\n",
    "import datetime\n",
    "\n",
    "x = '2016-01-01 00:00:09'\n",
    "format_str = \"%Y-%m-%d %H:%M:%S\"\n",
    "\n",
    "datetime.datetime.strptime(x,format_str)"
   ]
  },
  {
   "cell_type": "code",
   "execution_count": 12,
   "metadata": {
    "collapsed": false
   },
   "outputs": [],
   "source": [
    "# for each tuple in our list, convert 1st element to a datetime and the second to a float\n",
    "for i in range(0,len(nyc)):\n",
    "    nyc[i][0] = datetime.datetime.strptime(nyc[i][0],\"%Y-%m-%d %H:%M:%S\")\n",
    "    nyc[i][1] = float(nyc[i][1])"
   ]
  },
  {
   "cell_type": "code",
   "execution_count": 13,
   "metadata": {
    "collapsed": false
   },
   "outputs": [
    {
     "data": {
      "text/plain": [
       "[[datetime.datetime(2016, 1, 1, 0, 0, 9), 0.0815162037037037],\n",
       " [datetime.datetime(2016, 1, 1, 0, 0, 40), 0.1334837962962963],\n",
       " [datetime.datetime(2016, 1, 1, 0, 1, 9), 20.388726851851853],\n",
       " [datetime.datetime(2016, 1, 1, 0, 2, 59), 0.9811458333333334],\n",
       " [datetime.datetime(2016, 1, 1, 0, 3, 3), 7.048576388888889],\n",
       " [datetime.datetime(2016, 1, 1, 0, 3, 3), 0.1400810185185185],\n",
       " [datetime.datetime(2016, 1, 1, 0, 3, 29), 0.11086805555555555],\n",
       " [datetime.datetime(2016, 1, 1, 0, 4, 6), 0.016967592592592593],\n",
       " [datetime.datetime(2016, 1, 1, 0, 4, 37), 0.1597222222222222],\n",
       " [datetime.datetime(2016, 1, 1, 0, 4, 56), 2.996585648148148]]"
      ]
     },
     "execution_count": 13,
     "metadata": {},
     "output_type": "execute_result"
    }
   ],
   "source": [
    "#Let's see if this worked\n",
    "nyc[0:10]"
   ]
  },
  {
   "cell_type": "markdown",
   "metadata": {},
   "source": [
    "<h4>We can replace the datetime by hourly buckets</h4>"
   ]
  },
  {
   "cell_type": "code",
   "execution_count": 17,
   "metadata": {
    "collapsed": false
   },
   "outputs": [
    {
     "data": {
      "text/plain": [
       "3"
      ]
     },
     "execution_count": 17,
     "metadata": {},
     "output_type": "execute_result"
    }
   ],
   "source": [
    "# Extract the hour from a datetime object\n",
    "nyc[987][0].hour"
   ]
  },
  {
   "cell_type": "markdown",
   "metadata": {},
   "source": [
    "<h4>Use *list comprehension* to bucket the data</h4>"
   ]
  },
  {
   "cell_type": "code",
   "execution_count": 20,
   "metadata": {
    "collapsed": false
   },
   "outputs": [
    {
     "data": {
      "text/plain": [
       "[(3, 0.18447916666666667),\n",
       " (3, 0.06355324074074074),\n",
       " (3, 5.11962962962963),\n",
       " (3, 0.04383101851851852),\n",
       " (3, 0.0032523148148148147),\n",
       " (3, 4.377465277777778),\n",
       " (3, 0.24363425925925927),\n",
       " (3, 0.2849305555555556),\n",
       " (3, 0.05835648148148148),\n",
       " (3, 0.15751157407407407)]"
      ]
     },
     "execution_count": 20,
     "metadata": {},
     "output_type": "execute_result"
    }
   ],
   "source": [
    "# for each tuple in our list, get the hour from the datetime object\n",
    "nyc_hours = [(x[0].hour, x[1]) for x in nyc]\n",
    "nyc_hours[987:997]"
   ]
  },
  {
   "cell_type": "markdown",
   "metadata": {},
   "source": [
    "<h3>Create a function that returns the data</h3>"
   ]
  },
  {
   "cell_type": "code",
   "execution_count": 23,
   "metadata": {
    "collapsed": false
   },
   "outputs": [],
   "source": [
    "def get_data(filename):\n",
    "    data = list()\n",
    "    \n",
    "    with open(filename,'r') as f:\n",
    "        for line in f:\n",
    "            data.append(line.strip().split(','))\n",
    "    \n",
    "    # get hour from the datetime objects in \n",
    "    data = [(datetime.datetime.strptime(x[0],'%Y-%m-%d %H:%M:%S').hour, float(x[1])) for x in data]\n",
    "    return data    "
   ]
  },
  {
   "cell_type": "code",
   "execution_count": 24,
   "metadata": {
    "collapsed": false
   },
   "outputs": [
    {
     "data": {
      "text/plain": [
       "[(3, 0.18447916666666667),\n",
       " (3, 0.06355324074074074),\n",
       " (3, 5.11962962962963),\n",
       " (3, 0.04383101851851852),\n",
       " (3, 0.0032523148148148147),\n",
       " (3, 4.377465277777778),\n",
       " (3, 0.24363425925925927),\n",
       " (3, 0.2849305555555556),\n",
       " (3, 0.05835648148148148),\n",
       " (3, 0.15751157407407407)]"
      ]
     },
     "execution_count": 24,
     "metadata": {},
     "output_type": "execute_result"
    }
   ],
   "source": [
    "nyc_hours = get_data('nyc.csv')\n",
    "nyc_hours[987:997]"
   ]
  },
  {
   "cell_type": "markdown",
   "metadata": {},
   "source": [
    "<h3>Step 2: Accumulate counts and sums for each bucket"
   ]
  },
  {
   "cell_type": "code",
   "execution_count": 44,
   "metadata": {
    "collapsed": false
   },
   "outputs": [],
   "source": [
    "nyc_buckets = dict()\n",
    "\n",
    "# get unique hours from the list and add to the dictionary\n",
    "for i in nyc_hours:\n",
    "    if i[0] in nyc_buckets:   # if the current record's hour is in the dictionary, then for that key value (hour)\n",
    "        nyc_buckets[i[0]][0] += 1   # increase the 1st element of the value tuple by 1 to count the occurence\n",
    "        nyc_buckets[i[0]][1] += i[1] # add to 2nd element of of the value tuple the amount of processing secs for the record\n",
    "    else:\n",
    "        nyc_buckets[i[0]] = [1,i[1]] # if the current record's hours isn't present, add its first occurent to that a new key"
   ]
  },
  {
   "cell_type": "code",
   "execution_count": 45,
   "metadata": {
    "collapsed": false
   },
   "outputs": [
    {
     "data": {
      "text/plain": [
       "{0: [241, 158.34932870370375],\n",
       " 1: [340, 1006.8582291666668],\n",
       " 2: [199, 464.6581249999997],\n",
       " 3: [221, 681.5493865740739],\n",
       " 4: [157, 732.1197337962964],\n",
       " 5: [112, 285.60615740740764],\n",
       " 6: [80, 427.54798611111124],\n",
       " 7: [71, 183.4966435185184],\n",
       " 8: [99, 601.1727546296297],\n",
       " 9: [132, 1130.5627199074067],\n",
       " 10: [137, 1735.9673726851845],\n",
       " 11: [182, 1074.1009490740735],\n",
       " 12: [168, 2295.5562731481473],\n",
       " 13: [195, 1675.7310300925922],\n",
       " 14: [185, 1498.5249999999999],\n",
       " 15: [193, 2465.890451388889],\n",
       " 16: [204, 2232.515092592593],\n",
       " 17: [211, 1399.851180555556],\n",
       " 18: [182, 1333.1421180555558],\n",
       " 19: [165, 1501.3013541666667],\n",
       " 20: [158, 821.5105439814813],\n",
       " 21: [161, 763.653865740741],\n",
       " 22: [218, 1841.9319444444443],\n",
       " 23: [210, 1088.8371064814814]}"
      ]
     },
     "execution_count": 45,
     "metadata": {},
     "output_type": "execute_result"
    }
   ],
   "source": [
    "nyc_buckets"
   ]
  },
  {
   "cell_type": "markdown",
   "metadata": {},
   "source": [
    "<h3>Let's print them to see what sort of pattern is there in the data</h3>\n",
    "<h4>Bear in mind that this is just one day's data!"
   ]
  },
  {
   "cell_type": "code",
   "execution_count": 52,
   "metadata": {
    "collapsed": false
   },
   "outputs": [
    {
     "name": "stdout",
     "output_type": "stream",
     "text": [
      "Hour: 0 \tAverage Processing Time (Sec): 0.6570511564469035\n",
      "Hour: 1 \tAverage Processing Time (Sec): 2.9613477328431377\n",
      "Hour: 2 \tAverage Processing Time (Sec): 2.334965452261305\n",
      "Hour: 3 \tAverage Processing Time (Sec): 3.0839338759007866\n",
      "Hour: 4 \tAverage Processing Time (Sec): 4.663183017810805\n",
      "Hour: 5 \tAverage Processing Time (Sec): 2.550054976851854\n",
      "Hour: 6 \tAverage Processing Time (Sec): 5.344349826388891\n",
      "Hour: 7 \tAverage Processing Time (Sec): 2.5844597678664565\n",
      "Hour: 8 \tAverage Processing Time (Sec): 6.0724520669659565\n",
      "Hour: 9 \tAverage Processing Time (Sec): 8.564869090207626\n",
      "Hour: 10 \tAverage Processing Time (Sec): 12.671294691132733\n",
      "Hour: 11 \tAverage Processing Time (Sec): 5.901653566341063\n",
      "Hour: 12 \tAverage Processing Time (Sec): 13.66402543540564\n",
      "Hour: 13 \tAverage Processing Time (Sec): 8.593492462013293\n",
      "Hour: 14 \tAverage Processing Time (Sec): 8.100135135135135\n",
      "Hour: 15 \tAverage Processing Time (Sec): 12.776634463154863\n",
      "Hour: 16 \tAverage Processing Time (Sec): 10.943701434277418\n",
      "Hour: 17 \tAverage Processing Time (Sec): 6.634365784623489\n",
      "Hour: 18 \tAverage Processing Time (Sec): 7.324956692612944\n",
      "Hour: 19 \tAverage Processing Time (Sec): 9.098796085858586\n",
      "Hour: 20 \tAverage Processing Time (Sec): 5.199433822667603\n",
      "Hour: 21 \tAverage Processing Time (Sec): 4.74319171267541\n",
      "Hour: 22 \tAverage Processing Time (Sec): 8.449229102956167\n",
      "Hour: 23 \tAverage Processing Time (Sec): 5.184938602292768\n"
     ]
    }
   ],
   "source": [
    "for k,v in nyc_buckets.items():\n",
    "    print(\"Hour:\",k,\"\\tAverage Processing Time (Sec):\",v[1]/v[0])"
   ]
  },
  {
   "cell_type": "code",
   "execution_count": 62,
   "metadata": {
    "collapsed": false
   },
   "outputs": [
    {
     "name": "stdout",
     "output_type": "stream",
     "text": [
      "[0, 1, 2, 3, 4, 5, 6, 7, 8, 9, 10, 11, 12, 13, 14, 15, 16, 17, 18, 19, 20, 21, 22, 23]\n",
      "\n",
      "[158.34932870370375, 1006.8582291666668, 464.6581249999997, 681.5493865740739, 732.1197337962964, 285.60615740740764, 427.54798611111124, 183.4966435185184, 601.1727546296297, 1130.5627199074067, 1735.9673726851845, 1074.1009490740735, 2295.5562731481473, 1675.7310300925922, 1498.5249999999999, 2465.890451388889, 2232.515092592593, 1399.851180555556, 1333.1421180555558, 1501.3013541666667, 821.5105439814813, 763.653865740741, 1841.9319444444443, 1088.8371064814814]\n",
      "\n",
      "[241, 340, 199, 221, 157, 112, 80, 71, 99, 132, 137, 182, 168, 195, 185, 193, 204, 211, 182, 165, 158, 161, 218, 210]\n"
     ]
    }
   ],
   "source": [
    "hours = []\n",
    "avg_processing_seconds = []\n",
    "hour_counts = []\n",
    "\n",
    "for k,v in nyc_buckets.items():\n",
    "    hours.append(k)\n",
    "    avg_processing_seconds.append(v[1])\n",
    "    hour_counts.append(v[0])\n",
    "    \n",
    "print(hours)\n",
    "print()\n",
    "print(avg_processing_seconds)\n",
    "print()\n",
    "print(hour_counts)"
   ]
  },
  {
   "cell_type": "code",
   "execution_count": 61,
   "metadata": {
    "collapsed": false
   },
   "outputs": [
    {
     "data": {
      "image/png": "[encoded data removed]",
      "text/plain": [
       "<matplotlib.figure.Figure at 0x846f5f8>"
      ]
     },
     "metadata": {},
     "output_type": "display_data"
    }
   ],
   "source": [
    "%matplotlib inline\n",
    "import matplotlib.pyplot as plt\n",
    "\n",
    "plt.bar(hours, avg_processing_seconds, align='center', alpha=0.5)\n",
    "plt.show()"
   ]
  },
  {
   "cell_type": "code",
   "execution_count": 64,
   "metadata": {
    "collapsed": false
   },
   "outputs": [
    {
     "data": {
      "text/plain": [
       "(array([ 2.,  2.,  2.,  5.,  7.,  4.,  1.,  0.,  0.,  1.]),\n",
       " array([  71. ,   97.9,  124.8,  151.7,  178.6,  205.5,  232.4,  259.3,\n",
       "         286.2,  313.1,  340. ]),\n",
       " <a list of 10 Patch objects>)"
      ]
     },
     "execution_count": 64,
     "metadata": {},
     "output_type": "execute_result"
    },
    {
     "data": {
      "image/png": "[encoded data removed]",
      "text/plain": [
       "<matplotlib.figure.Figure at 0x8bdacf8>"
      ]
     },
     "metadata": {},
     "output_type": "display_data"
    }
   ],
   "source": [
    "plt.hist(hour_counts,alpha=0.5)"
   ]
  },
  {
   "cell_type": "markdown",
   "metadata": {},
   "source": [
    "Slightly normal distribution"
   ]
  },
  {
   "cell_type": "markdown",
   "metadata": {},
   "source": [
    "<h3>Put everything into a function</h3>\n",
    "<h4>This way, we can easily test other similar datasets"
   ]
  },
  {
   "cell_type": "code",
   "execution_count": 67,
   "metadata": {
    "collapsed": true
   },
   "outputs": [],
   "source": [
    "def get_hour_bucket_averages(filename):\n",
    "    import datetime\n",
    "\n",
    "    def get_data(filename):\n",
    "        data = list()\n",
    "        \n",
    "        with open(filename,'r') as f:\n",
    "            for line in f:\n",
    "                data.append(line.strip().split(','))\n",
    "        data = [(datetime.datetime.strptime(x[0],\"%Y-%m-%d %H:%M:%S\").hour, float(x[1])) for x in data]\n",
    "        return data\n",
    "    \n",
    "    buckets = dict()\n",
    "    \n",
    "    for i in get_data(filename):\n",
    "        if i[0] in buckets:\n",
    "            buckets[i[0]][0] += 1\n",
    "            buckets[i[0]][1] += i[1]\n",
    "        else:\n",
    "            buckets[i[0]] = [1,i[1]]  \n",
    "    return [(k, v[1]/v[0]) for k,v in buckets.items()]"
   ]
  },
  {
   "cell_type": "code",
   "execution_count": 68,
   "metadata": {
    "collapsed": false
   },
   "outputs": [
    {
     "data": {
      "text/plain": [
       "[(0, 0.6570511564469035),\n",
       " (1, 2.9613477328431377),\n",
       " (2, 2.334965452261305),\n",
       " (3, 3.0839338759007866),\n",
       " (4, 4.663183017810805),\n",
       " (5, 2.550054976851854),\n",
       " (6, 5.344349826388891),\n",
       " (7, 2.5844597678664565),\n",
       " (8, 6.0724520669659565),\n",
       " (9, 8.564869090207626),\n",
       " (10, 12.671294691132733),\n",
       " (11, 5.901653566341063),\n",
       " (12, 13.66402543540564),\n",
       " (13, 8.593492462013293),\n",
       " (14, 8.100135135135135),\n",
       " (15, 12.776634463154863),\n",
       " (16, 10.943701434277418),\n",
       " (17, 6.634365784623489),\n",
       " (18, 7.324956692612944),\n",
       " (19, 9.098796085858586),\n",
       " (20, 5.199433822667603),\n",
       " (21, 4.74319171267541),\n",
       " (22, 8.449229102956167),\n",
       " (23, 5.184938602292768)]"
      ]
     },
     "execution_count": 68,
     "metadata": {},
     "output_type": "execute_result"
    }
   ],
   "source": [
    "get_hour_bucket_averages('nyc.csv')"
   ]
  },
  {
   "cell_type": "markdown",
   "metadata": {},
   "source": [
    "<h3>The file all_data.csv contains data from January to September 2016</h3>\n",
    "<h4>We can test whether our one day result is generally true or not</h4>"
   ]
  },
  {
   "cell_type": "code",
   "execution_count": 2,
   "metadata": {
    "collapsed": false
   },
   "outputs": [
    {
     "data": {
      "text/plain": [
       "[(0, 4.485612099128487),\n",
       " (1, 2.8263083049680278),\n",
       " (2, 2.859209391496003),\n",
       " (3, 2.9813212672915657),\n",
       " (4, 3.520777693173893),\n",
       " (5, 4.028842839550067),\n",
       " (6, 5.3501635819789914),\n",
       " (7, 4.505984716000046),\n",
       " (8, 5.090230597495249),\n",
       " (9, 6.767684356105564),\n",
       " (10, 7.252764762298842),\n",
       " (11, 7.156706204701707),\n",
       " (12, 7.422673351052525),\n",
       " (13, 7.402425948682307),\n",
       " (14, 7.546603227374128),\n",
       " (15, 8.001251635520441),\n",
       " (16, 8.191847429766709),\n",
       " (17, 7.275740883284791),\n",
       " (18, 6.464817194100053),\n",
       " (19, 5.6403138675375155),\n",
       " (20, 4.989414785443646),\n",
       " (21, 4.275270320395889),\n",
       " (22, 3.5846441619204086),\n",
       " (23, 3.0346464768596855)]"
      ]
     },
     "execution_count": 2,
     "metadata": {},
     "output_type": "execute_result"
    }
   ],
   "source": [
    "get_hour_bucket_averages('all_data.csv')"
   ]
  },
  {
   "cell_type": "code",
   "execution_count": 70,
   "metadata": {
    "collapsed": false
   },
   "outputs": [
    {
     "ename": "TypeError",
     "evalue": "unsupported operand type(s) for +: 'datetime.time' and 'datetime.timedelta'",
     "output_type": "error",
     "traceback": [
      "\u001b[0;31m---------------------------------------------------------------------------\u001b[0m",
      "\u001b[0;31mTypeError\u001b[0m                                 Traceback (most recent call last)",
      "\u001b[0;32m<ipython-input-70-7bd17ee03a0a>\u001b[0m in \u001b[0;36m<module>\u001b[0;34m()\u001b[0m\n\u001b[1;32m      1\u001b[0m \u001b[0mt1\u001b[0m \u001b[1;33m=\u001b[0m \u001b[0mdatetime\u001b[0m\u001b[1;33m.\u001b[0m\u001b[0mdatetime\u001b[0m\u001b[1;33m.\u001b[0m\u001b[0mnow\u001b[0m\u001b[1;33m(\u001b[0m\u001b[1;33m)\u001b[0m\u001b[1;33m.\u001b[0m\u001b[0mtime\u001b[0m\u001b[1;33m(\u001b[0m\u001b[1;33m)\u001b[0m\u001b[1;33m\u001b[0m\u001b[0m\n\u001b[1;32m      2\u001b[0m \u001b[0mt2\u001b[0m \u001b[1;33m=\u001b[0m  \u001b[0mdatetime\u001b[0m\u001b[1;33m.\u001b[0m\u001b[0mtimedelta\u001b[0m\u001b[1;33m(\u001b[0m\u001b[0mseconds\u001b[0m\u001b[1;33m=\u001b[0m\u001b[1;36m5\u001b[0m\u001b[1;33m)\u001b[0m\u001b[1;33m\u001b[0m\u001b[0m\n\u001b[0;32m----> 3\u001b[0;31m \u001b[0mt1\u001b[0m\u001b[1;33m+\u001b[0m\u001b[0mt2\u001b[0m\u001b[1;33m\u001b[0m\u001b[0m\n\u001b[0m",
      "\u001b[0;31mTypeError\u001b[0m: unsupported operand type(s) for +: 'datetime.time' and 'datetime.timedelta'"
     ]
    }
   ],
   "source": [
    "t1 = datetime.datetime.now().time()\n",
    "t2 =  datetime.timedelta(seconds=5)\n",
    "t1+t2"
   ]
  },
  {
   "cell_type": "code",
   "execution_count": null,
   "metadata": {
    "collapsed": true
   },
   "outputs": [],
   "source": []
  }
 ],
 "metadata": {
  "kernelspec": {
   "display_name": "Python 3",
   "language": "python",
   "name": "python3"
  },
  "language_info": {
   "codemirror_mode": {
    "name": "ipython",
    "version": 3
   },
   "file_extension": ".py",
   "mimetype": "text/x-python",
   "name": "python",
   "nbconvert_exporter": "python",
   "pygments_lexer": "ipython3",
   "version": "3.6.0"
  }
 },
 "nbformat": 4,
 "nbformat_minor": 2
}
