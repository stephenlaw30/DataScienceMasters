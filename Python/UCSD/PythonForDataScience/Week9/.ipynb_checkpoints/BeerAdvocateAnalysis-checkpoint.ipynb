{
 "cells": [
  {
   "cell_type": "markdown",
   "metadata": {},
   "source": [
    "<h1> The Analysis of Beeradvocate.com User Beer Reviews  </h1>\n",
    "\n",
    "My final project for **UCSanDiegoX: DSE200x Python for Data Science** was an analysis of a dataset containing ~1.5 million user reviews of beers from the website beeradvocate.com. The reviews span over 10 years, up to and including November 2011.\n",
    "\n",
    "The reviews includes ratings in terms of aspects such as appearance, aroma, palate, taste, and overall impression of the beer, as well as the beer name, brewery, username of the reviewer, and timestamp of the review.\n",
    "\n",
    "<h2> Data Inspection </h2>\n",
    "\n",
    "The first thing to do before formulating any research questions is to do some exploratory data analysis (EDA)."
   ]
  },
  {
   "cell_type": "code",
   "execution_count": 1,
   "metadata": {
    "collapsed": false
   },
   "outputs": [],
   "source": [
    "## import libraries\n",
    "import numpy as np\n",
    "import pandas as pd\n",
    "import matplotlib.pyplot as plt\n",
    "from datetime import datetime as dt\n",
    "from scipy.stats import ttest_ind, f_oneway # statistical tests\n",
    "import chardet  # for unknown encodings\n",
    "from collections import Counter # instead of FOR loops"
   ]
  },
  {
   "cell_type": "code",
   "execution_count": 2,
   "metadata": {
    "collapsed": false
   },
   "outputs": [
    {
     "data": {
      "text/plain": [
       "(1586614, 13)"
      ]
     },
     "execution_count": 2,
     "metadata": {},
     "output_type": "execute_result"
    }
   ],
   "source": [
    "## import dataset into Pandas DataFrame\n",
    "beer = pd.read_csv('C:/ml/beer_reviews.csv')\n",
    "beer.shape"
   ]
  },
  {
   "cell_type": "markdown",
   "metadata": {},
   "source": [
    "We see that we indeed have over one and a half million reviews, as well as 13 different variables in the dataset. Let's find out how many unique beers there are by finding out what signifies a unique beer."
   ]
  },
  {
   "cell_type": "code",
   "execution_count": 3,
   "metadata": {
    "collapsed": false
   },
   "outputs": [
    {
     "data": {
      "text/html": [
       "<div>\n",
       "<style>\n",
       "    .dataframe thead tr:only-child th {\n",
       "        text-align: right;\n",
       "    }\n",
       "\n",
       "    .dataframe thead th {\n",
       "        text-align: left;\n",
       "    }\n",
       "\n",
       "    .dataframe tbody tr th {\n",
       "        vertical-align: top;\n",
       "    }\n",
       "</style>\n",
       "<table border=\"1\" class=\"dataframe\">\n",
       "  <thead>\n",
       "    <tr style=\"text-align: right;\">\n",
       "      <th></th>\n",
       "      <th>brewery_id</th>\n",
       "      <th>brewery_name</th>\n",
       "      <th>review_time</th>\n",
       "      <th>review_overall</th>\n",
       "      <th>review_aroma</th>\n",
       "      <th>review_appearance</th>\n",
       "      <th>review_profilename</th>\n",
       "      <th>beer_style</th>\n",
       "      <th>review_palate</th>\n",
       "      <th>review_taste</th>\n",
       "      <th>beer_name</th>\n",
       "      <th>beer_abv</th>\n",
       "      <th>beer_beerid</th>\n",
       "    </tr>\n",
       "  </thead>\n",
       "  <tbody>\n",
       "    <tr>\n",
       "      <th>0</th>\n",
       "      <td>10325</td>\n",
       "      <td>Vecchio Birraio</td>\n",
       "      <td>1234817823</td>\n",
       "      <td>1.5</td>\n",
       "      <td>2.0</td>\n",
       "      <td>2.5</td>\n",
       "      <td>stcules</td>\n",
       "      <td>Hefeweizen</td>\n",
       "      <td>1.5</td>\n",
       "      <td>1.5</td>\n",
       "      <td>Sausa Weizen</td>\n",
       "      <td>5.0</td>\n",
       "      <td>47986</td>\n",
       "    </tr>\n",
       "    <tr>\n",
       "      <th>1</th>\n",
       "      <td>10325</td>\n",
       "      <td>Vecchio Birraio</td>\n",
       "      <td>1235915097</td>\n",
       "      <td>3.0</td>\n",
       "      <td>2.5</td>\n",
       "      <td>3.0</td>\n",
       "      <td>stcules</td>\n",
       "      <td>English Strong Ale</td>\n",
       "      <td>3.0</td>\n",
       "      <td>3.0</td>\n",
       "      <td>Red Moon</td>\n",
       "      <td>6.2</td>\n",
       "      <td>48213</td>\n",
       "    </tr>\n",
       "    <tr>\n",
       "      <th>2</th>\n",
       "      <td>10325</td>\n",
       "      <td>Vecchio Birraio</td>\n",
       "      <td>1235916604</td>\n",
       "      <td>3.0</td>\n",
       "      <td>2.5</td>\n",
       "      <td>3.0</td>\n",
       "      <td>stcules</td>\n",
       "      <td>Foreign / Export Stout</td>\n",
       "      <td>3.0</td>\n",
       "      <td>3.0</td>\n",
       "      <td>Black Horse Black Beer</td>\n",
       "      <td>6.5</td>\n",
       "      <td>48215</td>\n",
       "    </tr>\n",
       "    <tr>\n",
       "      <th>3</th>\n",
       "      <td>10325</td>\n",
       "      <td>Vecchio Birraio</td>\n",
       "      <td>1234725145</td>\n",
       "      <td>3.0</td>\n",
       "      <td>3.0</td>\n",
       "      <td>3.5</td>\n",
       "      <td>stcules</td>\n",
       "      <td>German Pilsener</td>\n",
       "      <td>2.5</td>\n",
       "      <td>3.0</td>\n",
       "      <td>Sausa Pils</td>\n",
       "      <td>5.0</td>\n",
       "      <td>47969</td>\n",
       "    </tr>\n",
       "    <tr>\n",
       "      <th>4</th>\n",
       "      <td>1075</td>\n",
       "      <td>Caldera Brewing Company</td>\n",
       "      <td>1293735206</td>\n",
       "      <td>4.0</td>\n",
       "      <td>4.5</td>\n",
       "      <td>4.0</td>\n",
       "      <td>johnmichaelsen</td>\n",
       "      <td>American Double / Imperial IPA</td>\n",
       "      <td>4.0</td>\n",
       "      <td>4.5</td>\n",
       "      <td>Cauldron DIPA</td>\n",
       "      <td>7.7</td>\n",
       "      <td>64883</td>\n",
       "    </tr>\n",
       "  </tbody>\n",
       "</table>\n",
       "</div>"
      ],
      "text/plain": [
       "   brewery_id             brewery_name  review_time  review_overall  \\\n",
       "0       10325          Vecchio Birraio   1234817823             1.5   \n",
       "1       10325          Vecchio Birraio   1235915097             3.0   \n",
       "2       10325          Vecchio Birraio   1235916604             3.0   \n",
       "3       10325          Vecchio Birraio   1234725145             3.0   \n",
       "4        1075  Caldera Brewing Company   1293735206             4.0   \n",
       "\n",
       "   review_aroma  review_appearance review_profilename  \\\n",
       "0           2.0                2.5            stcules   \n",
       "1           2.5                3.0            stcules   \n",
       "2           2.5                3.0            stcules   \n",
       "3           3.0                3.5            stcules   \n",
       "4           4.5                4.0     johnmichaelsen   \n",
       "\n",
       "                       beer_style  review_palate  review_taste  \\\n",
       "0                      Hefeweizen            1.5           1.5   \n",
       "1              English Strong Ale            3.0           3.0   \n",
       "2          Foreign / Export Stout            3.0           3.0   \n",
       "3                 German Pilsener            2.5           3.0   \n",
       "4  American Double / Imperial IPA            4.0           4.5   \n",
       "\n",
       "                beer_name  beer_abv  beer_beerid  \n",
       "0            Sausa Weizen       5.0        47986  \n",
       "1                Red Moon       6.2        48213  \n",
       "2  Black Horse Black Beer       6.5        48215  \n",
       "3              Sausa Pils       5.0        47969  \n",
       "4           Cauldron DIPA       7.7        64883  "
      ]
     },
     "execution_count": 3,
     "metadata": {},
     "output_type": "execute_result"
    }
   ],
   "source": [
    "beer.head()"
   ]
  },
  {
   "cell_type": "markdown",
   "metadata": {},
   "source": [
    "So we can see we have both names and ID numbers for both breweries and beers, as well as reviewer usernames, a timestamp field of the review, the beer's style, name, and alcohol by volume % (ABV), and finally review scores for different characteristics of a beer, such as appearance, aroma, palate, and taste, and then an overall score of the beer.\n",
    "\n",
    "We can check how many unique beer ID's we have to see how many beers we have in the dataset."
   ]
  },
  {
   "cell_type": "code",
   "execution_count": 4,
   "metadata": {
    "collapsed": false
   },
   "outputs": [
    {
     "data": {
      "text/plain": [
       "66055"
      ]
     },
     "execution_count": 4,
     "metadata": {},
     "output_type": "execute_result"
    }
   ],
   "source": [
    "len(beer['beer_beerid'].value_counts())"
   ]
  },
  {
   "cell_type": "markdown",
   "metadata": {},
   "source": [
    "Just over 66 thousand beers. Cool.\n",
    "\n",
    "Now we need to check for any null values in the dataset that may impact any analysis."
   ]
  },
  {
   "cell_type": "code",
   "execution_count": 5,
   "metadata": {
    "collapsed": false
   },
   "outputs": [
    {
     "data": {
      "text/html": [
       "<div>\n",
       "<style>\n",
       "    .dataframe thead tr:only-child th {\n",
       "        text-align: right;\n",
       "    }\n",
       "\n",
       "    .dataframe thead th {\n",
       "        text-align: left;\n",
       "    }\n",
       "\n",
       "    .dataframe tbody tr th {\n",
       "        vertical-align: top;\n",
       "    }\n",
       "</style>\n",
       "<table border=\"1\" class=\"dataframe\">\n",
       "  <thead>\n",
       "    <tr style=\"text-align: right;\">\n",
       "      <th></th>\n",
       "      <th>brewery_id</th>\n",
       "      <th>brewery_name</th>\n",
       "      <th>review_time</th>\n",
       "      <th>review_overall</th>\n",
       "      <th>review_aroma</th>\n",
       "      <th>review_appearance</th>\n",
       "      <th>review_profilename</th>\n",
       "      <th>beer_style</th>\n",
       "      <th>review_palate</th>\n",
       "      <th>review_taste</th>\n",
       "      <th>beer_name</th>\n",
       "      <th>beer_abv</th>\n",
       "      <th>beer_beerid</th>\n",
       "    </tr>\n",
       "  </thead>\n",
       "  <tbody>\n",
       "    <tr>\n",
       "      <th>273</th>\n",
       "      <td>1075</td>\n",
       "      <td>Caldera Brewing Company</td>\n",
       "      <td>1103668195</td>\n",
       "      <td>3.0</td>\n",
       "      <td>3.0</td>\n",
       "      <td>3.0</td>\n",
       "      <td>RedDiamond</td>\n",
       "      <td>American Stout</td>\n",
       "      <td>4.0</td>\n",
       "      <td>3.0</td>\n",
       "      <td>Cauldron Espresso Stout</td>\n",
       "      <td>NaN</td>\n",
       "      <td>21241</td>\n",
       "    </tr>\n",
       "    <tr>\n",
       "      <th>430</th>\n",
       "      <td>850</td>\n",
       "      <td>Moon River Brewing Company</td>\n",
       "      <td>1110736110</td>\n",
       "      <td>3.5</td>\n",
       "      <td>4.0</td>\n",
       "      <td>4.5</td>\n",
       "      <td>cMonkey</td>\n",
       "      <td>Scotch Ale / Wee Heavy</td>\n",
       "      <td>3.5</td>\n",
       "      <td>3.5</td>\n",
       "      <td>The Highland Stagger</td>\n",
       "      <td>NaN</td>\n",
       "      <td>20689</td>\n",
       "    </tr>\n",
       "    <tr>\n",
       "      <th>603</th>\n",
       "      <td>850</td>\n",
       "      <td>Moon River Brewing Company</td>\n",
       "      <td>1100038819</td>\n",
       "      <td>4.0</td>\n",
       "      <td>3.5</td>\n",
       "      <td>4.0</td>\n",
       "      <td>aracauna</td>\n",
       "      <td>Scotch Ale / Wee Heavy</td>\n",
       "      <td>3.5</td>\n",
       "      <td>3.5</td>\n",
       "      <td>The Highland Stagger</td>\n",
       "      <td>NaN</td>\n",
       "      <td>20689</td>\n",
       "    </tr>\n",
       "    <tr>\n",
       "      <th>733</th>\n",
       "      <td>1075</td>\n",
       "      <td>Caldera Brewing Company</td>\n",
       "      <td>1260673921</td>\n",
       "      <td>4.0</td>\n",
       "      <td>4.0</td>\n",
       "      <td>4.0</td>\n",
       "      <td>plaid75</td>\n",
       "      <td>American IPA</td>\n",
       "      <td>4.0</td>\n",
       "      <td>4.0</td>\n",
       "      <td>Alpha Beta</td>\n",
       "      <td>NaN</td>\n",
       "      <td>54723</td>\n",
       "    </tr>\n",
       "    <tr>\n",
       "      <th>798</th>\n",
       "      <td>1075</td>\n",
       "      <td>Caldera Brewing Company</td>\n",
       "      <td>1212201268</td>\n",
       "      <td>4.5</td>\n",
       "      <td>4.5</td>\n",
       "      <td>4.0</td>\n",
       "      <td>grumpy</td>\n",
       "      <td>American Double / Imperial Stout</td>\n",
       "      <td>4.0</td>\n",
       "      <td>4.5</td>\n",
       "      <td>Imperial Stout</td>\n",
       "      <td>NaN</td>\n",
       "      <td>42964</td>\n",
       "    </tr>\n",
       "    <tr>\n",
       "      <th>927</th>\n",
       "      <td>2724</td>\n",
       "      <td>Pacific Coast Brewing Company</td>\n",
       "      <td>1293559076</td>\n",
       "      <td>1.0</td>\n",
       "      <td>1.5</td>\n",
       "      <td>3.0</td>\n",
       "      <td>womencantsail</td>\n",
       "      <td>American Strong Ale</td>\n",
       "      <td>2.5</td>\n",
       "      <td>1.5</td>\n",
       "      <td>Megalodon</td>\n",
       "      <td>NaN</td>\n",
       "      <td>64803</td>\n",
       "    </tr>\n",
       "    <tr>\n",
       "      <th>944</th>\n",
       "      <td>2724</td>\n",
       "      <td>Pacific Coast Brewing Company</td>\n",
       "      <td>1205614154</td>\n",
       "      <td>1.5</td>\n",
       "      <td>2.0</td>\n",
       "      <td>1.5</td>\n",
       "      <td>JDV</td>\n",
       "      <td>Belgian Strong Pale Ale</td>\n",
       "      <td>1.0</td>\n",
       "      <td>3.0</td>\n",
       "      <td>Holiday Trappist Style Ale</td>\n",
       "      <td>NaN</td>\n",
       "      <td>41584</td>\n",
       "    </tr>\n",
       "    <tr>\n",
       "      <th>960</th>\n",
       "      <td>2724</td>\n",
       "      <td>Pacific Coast Brewing Company</td>\n",
       "      <td>1215743407</td>\n",
       "      <td>4.0</td>\n",
       "      <td>3.5</td>\n",
       "      <td>4.0</td>\n",
       "      <td>hoegaardenhero</td>\n",
       "      <td>American Amber / Red Ale</td>\n",
       "      <td>4.5</td>\n",
       "      <td>3.5</td>\n",
       "      <td>Emerald Ale</td>\n",
       "      <td>NaN</td>\n",
       "      <td>37498</td>\n",
       "    </tr>\n",
       "    <tr>\n",
       "      <th>961</th>\n",
       "      <td>2724</td>\n",
       "      <td>Pacific Coast Brewing Company</td>\n",
       "      <td>1203379699</td>\n",
       "      <td>4.0</td>\n",
       "      <td>4.0</td>\n",
       "      <td>4.0</td>\n",
       "      <td>barleywinefiend</td>\n",
       "      <td>American Amber / Red Ale</td>\n",
       "      <td>4.0</td>\n",
       "      <td>4.0</td>\n",
       "      <td>Emerald Ale</td>\n",
       "      <td>NaN</td>\n",
       "      <td>37498</td>\n",
       "    </tr>\n",
       "    <tr>\n",
       "      <th>962</th>\n",
       "      <td>2724</td>\n",
       "      <td>Pacific Coast Brewing Company</td>\n",
       "      <td>1183260774</td>\n",
       "      <td>4.0</td>\n",
       "      <td>4.0</td>\n",
       "      <td>4.5</td>\n",
       "      <td>Mark</td>\n",
       "      <td>American Amber / Red Ale</td>\n",
       "      <td>4.5</td>\n",
       "      <td>4.0</td>\n",
       "      <td>Emerald Ale</td>\n",
       "      <td>NaN</td>\n",
       "      <td>37498</td>\n",
       "    </tr>\n",
       "    <tr>\n",
       "      <th>966</th>\n",
       "      <td>12770</td>\n",
       "      <td>City Grille and Brewhaus</td>\n",
       "      <td>1145739752</td>\n",
       "      <td>3.0</td>\n",
       "      <td>3.5</td>\n",
       "      <td>4.5</td>\n",
       "      <td>UncleJimbo</td>\n",
       "      <td>Fruit / Vegetable Beer</td>\n",
       "      <td>3.5</td>\n",
       "      <td>3.0</td>\n",
       "      <td>City Razz</td>\n",
       "      <td>NaN</td>\n",
       "      <td>30090</td>\n",
       "    </tr>\n",
       "    <tr>\n",
       "      <th>967</th>\n",
       "      <td>12770</td>\n",
       "      <td>City Grille and Brewhaus</td>\n",
       "      <td>1145738287</td>\n",
       "      <td>3.0</td>\n",
       "      <td>3.0</td>\n",
       "      <td>3.0</td>\n",
       "      <td>UncleJimbo</td>\n",
       "      <td>Light Lager</td>\n",
       "      <td>3.0</td>\n",
       "      <td>3.5</td>\n",
       "      <td>City Light</td>\n",
       "      <td>NaN</td>\n",
       "      <td>30084</td>\n",
       "    </tr>\n",
       "    <tr>\n",
       "      <th>968</th>\n",
       "      <td>12770</td>\n",
       "      <td>City Grille and Brewhaus</td>\n",
       "      <td>1145738954</td>\n",
       "      <td>4.0</td>\n",
       "      <td>3.0</td>\n",
       "      <td>4.0</td>\n",
       "      <td>UncleJimbo</td>\n",
       "      <td>American Pale Ale (APA)</td>\n",
       "      <td>3.5</td>\n",
       "      <td>4.0</td>\n",
       "      <td>City Pale Ale</td>\n",
       "      <td>NaN</td>\n",
       "      <td>30088</td>\n",
       "    </tr>\n",
       "    <tr>\n",
       "      <th>969</th>\n",
       "      <td>12770</td>\n",
       "      <td>City Grille and Brewhaus</td>\n",
       "      <td>1145739283</td>\n",
       "      <td>4.0</td>\n",
       "      <td>4.0</td>\n",
       "      <td>4.0</td>\n",
       "      <td>UncleJimbo</td>\n",
       "      <td>American Stout</td>\n",
       "      <td>4.0</td>\n",
       "      <td>4.0</td>\n",
       "      <td>City Stout</td>\n",
       "      <td>NaN</td>\n",
       "      <td>27689</td>\n",
       "    </tr>\n",
       "    <tr>\n",
       "      <th>970</th>\n",
       "      <td>12770</td>\n",
       "      <td>City Grille and Brewhaus</td>\n",
       "      <td>1136485310</td>\n",
       "      <td>1.5</td>\n",
       "      <td>2.0</td>\n",
       "      <td>3.0</td>\n",
       "      <td>grumpy</td>\n",
       "      <td>American Stout</td>\n",
       "      <td>1.0</td>\n",
       "      <td>1.5</td>\n",
       "      <td>City Stout</td>\n",
       "      <td>NaN</td>\n",
       "      <td>27689</td>\n",
       "    </tr>\n",
       "  </tbody>\n",
       "</table>\n",
       "</div>"
      ],
      "text/plain": [
       "     brewery_id                   brewery_name  review_time  review_overall  \\\n",
       "273        1075        Caldera Brewing Company   1103668195             3.0   \n",
       "430         850     Moon River Brewing Company   1110736110             3.5   \n",
       "603         850     Moon River Brewing Company   1100038819             4.0   \n",
       "733        1075        Caldera Brewing Company   1260673921             4.0   \n",
       "798        1075        Caldera Brewing Company   1212201268             4.5   \n",
       "927        2724  Pacific Coast Brewing Company   1293559076             1.0   \n",
       "944        2724  Pacific Coast Brewing Company   1205614154             1.5   \n",
       "960        2724  Pacific Coast Brewing Company   1215743407             4.0   \n",
       "961        2724  Pacific Coast Brewing Company   1203379699             4.0   \n",
       "962        2724  Pacific Coast Brewing Company   1183260774             4.0   \n",
       "966       12770       City Grille and Brewhaus   1145739752             3.0   \n",
       "967       12770       City Grille and Brewhaus   1145738287             3.0   \n",
       "968       12770       City Grille and Brewhaus   1145738954             4.0   \n",
       "969       12770       City Grille and Brewhaus   1145739283             4.0   \n",
       "970       12770       City Grille and Brewhaus   1136485310             1.5   \n",
       "\n",
       "     review_aroma  review_appearance review_profilename  \\\n",
       "273           3.0                3.0         RedDiamond   \n",
       "430           4.0                4.5            cMonkey   \n",
       "603           3.5                4.0           aracauna   \n",
       "733           4.0                4.0            plaid75   \n",
       "798           4.5                4.0             grumpy   \n",
       "927           1.5                3.0      womencantsail   \n",
       "944           2.0                1.5                JDV   \n",
       "960           3.5                4.0     hoegaardenhero   \n",
       "961           4.0                4.0    barleywinefiend   \n",
       "962           4.0                4.5               Mark   \n",
       "966           3.5                4.5         UncleJimbo   \n",
       "967           3.0                3.0         UncleJimbo   \n",
       "968           3.0                4.0         UncleJimbo   \n",
       "969           4.0                4.0         UncleJimbo   \n",
       "970           2.0                3.0             grumpy   \n",
       "\n",
       "                           beer_style  review_palate  review_taste  \\\n",
       "273                    American Stout            4.0           3.0   \n",
       "430            Scotch Ale / Wee Heavy            3.5           3.5   \n",
       "603            Scotch Ale / Wee Heavy            3.5           3.5   \n",
       "733                      American IPA            4.0           4.0   \n",
       "798  American Double / Imperial Stout            4.0           4.5   \n",
       "927               American Strong Ale            2.5           1.5   \n",
       "944           Belgian Strong Pale Ale            1.0           3.0   \n",
       "960          American Amber / Red Ale            4.5           3.5   \n",
       "961          American Amber / Red Ale            4.0           4.0   \n",
       "962          American Amber / Red Ale            4.5           4.0   \n",
       "966            Fruit / Vegetable Beer            3.5           3.0   \n",
       "967                       Light Lager            3.0           3.5   \n",
       "968           American Pale Ale (APA)            3.5           4.0   \n",
       "969                    American Stout            4.0           4.0   \n",
       "970                    American Stout            1.0           1.5   \n",
       "\n",
       "                      beer_name  beer_abv  beer_beerid  \n",
       "273     Cauldron Espresso Stout       NaN        21241  \n",
       "430        The Highland Stagger       NaN        20689  \n",
       "603        The Highland Stagger       NaN        20689  \n",
       "733                  Alpha Beta       NaN        54723  \n",
       "798              Imperial Stout       NaN        42964  \n",
       "927                   Megalodon       NaN        64803  \n",
       "944  Holiday Trappist Style Ale       NaN        41584  \n",
       "960                 Emerald Ale       NaN        37498  \n",
       "961                 Emerald Ale       NaN        37498  \n",
       "962                 Emerald Ale       NaN        37498  \n",
       "966                   City Razz       NaN        30090  \n",
       "967                  City Light       NaN        30084  \n",
       "968               City Pale Ale       NaN        30088  \n",
       "969                  City Stout       NaN        27689  \n",
       "970                  City Stout       NaN        27689  "
      ]
     },
     "execution_count": 5,
     "metadata": {},
     "output_type": "execute_result"
    }
   ],
   "source": [
    "beer[beer.isnull().any(axis=1)].head(15)"
   ]
  },
  {
   "cell_type": "markdown",
   "metadata": {},
   "source": [
    "So it seems the only field that has null values in it is **beer_abv**, or the beer's alcohol by volume (ABV) as a percentage. For the research questions I've been formulating so far, I don't believe I'll need this field, so I'll make sure to focus on analysis that don't involve ABV.\n",
    "\n",
    "I want to focus on the beer *style*, and use that to designate certain beers depending on what country that style originated from so that I can compare different country's beers in such a manner."
   ]
  },
  {
   "cell_type": "code",
   "execution_count": 6,
   "metadata": {
    "collapsed": false
   },
   "outputs": [
    {
     "data": {
      "text/html": [
       "<div>\n",
       "<style>\n",
       "    .dataframe thead tr:only-child th {\n",
       "        text-align: right;\n",
       "    }\n",
       "\n",
       "    .dataframe thead th {\n",
       "        text-align: left;\n",
       "    }\n",
       "\n",
       "    .dataframe tbody tr th {\n",
       "        vertical-align: top;\n",
       "    }\n",
       "</style>\n",
       "<table border=\"1\" class=\"dataframe\">\n",
       "  <thead>\n",
       "    <tr style=\"text-align: right;\">\n",
       "      <th></th>\n",
       "      <th>brewery_id</th>\n",
       "      <th>brewery_name</th>\n",
       "      <th>review_time</th>\n",
       "      <th>review_overall</th>\n",
       "      <th>review_aroma</th>\n",
       "      <th>review_appearance</th>\n",
       "      <th>review_profilename</th>\n",
       "      <th>beer_style</th>\n",
       "      <th>review_palate</th>\n",
       "      <th>review_taste</th>\n",
       "      <th>beer_name</th>\n",
       "      <th>beer_abv</th>\n",
       "      <th>beer_beerid</th>\n",
       "    </tr>\n",
       "  </thead>\n",
       "  <tbody>\n",
       "  </tbody>\n",
       "</table>\n",
       "</div>"
      ],
      "text/plain": [
       "Empty DataFrame\n",
       "Columns: [brewery_id, brewery_name, review_time, review_overall, review_aroma, review_appearance, review_profilename, beer_style, review_palate, review_taste, beer_name, beer_abv, beer_beerid]\n",
       "Index: []"
      ]
     },
     "execution_count": 6,
     "metadata": {},
     "output_type": "execute_result"
    }
   ],
   "source": [
    "beer[beer['beer_style'].isnull()]"
   ]
  },
  {
   "cell_type": "markdown",
   "metadata": {},
   "source": [
    "Great, so I actually have a beer style for each review record in this dataset. Now I need to get the unique beer styles and figure out which country they originated from."
   ]
  },
  {
   "cell_type": "code",
   "execution_count": 7,
   "metadata": {
    "collapsed": false,
    "scrolled": true
   },
   "outputs": [
    {
     "data": {
      "text/plain": [
       "beer_style                  beer_style                \n",
       "Altbier                     Altbier                        7741\n",
       "American Adjunct Lager      American Adjunct Lager        30749\n",
       "American Amber / Red Ale    American Amber / Red Ale      45751\n",
       "American Amber / Red Lager  American Amber / Red Lager     9311\n",
       "American Barleywine         American Barleywine           26728\n",
       "Name: beer_style, dtype: int64"
      ]
     },
     "execution_count": 7,
     "metadata": {},
     "output_type": "execute_result"
    }
   ],
   "source": [
    "## get all unique beer styles\n",
    "beer['beer_style'].groupby(beer['beer_style']).value_counts().head()"
   ]
  },
  {
   "cell_type": "markdown",
   "metadata": {},
   "source": [
    "So I want to write this to a CSV and manually record the country of origin for these styles via Google. There may be a quicker and more technical solution to this issue, but I don't want to deal with that right now."
   ]
  },
  {
   "cell_type": "code",
   "execution_count": 8,
   "metadata": {
    "collapsed": true
   },
   "outputs": [],
   "source": [
    "#beer['beer_style'].groupby(beer['beer_style']).value_counts().to_csv('beer_styles.csv',sep=',')"
   ]
  },
  {
   "cell_type": "markdown",
   "metadata": {},
   "source": [
    "Now let's look at this dataset with my labels added."
   ]
  },
  {
   "cell_type": "code",
   "execution_count": 9,
   "metadata": {
    "collapsed": false
   },
   "outputs": [
    {
     "data": {
      "text/html": [
       "<div>\n",
       "<style>\n",
       "    .dataframe thead tr:only-child th {\n",
       "        text-align: right;\n",
       "    }\n",
       "\n",
       "    .dataframe thead th {\n",
       "        text-align: left;\n",
       "    }\n",
       "\n",
       "    .dataframe tbody tr th {\n",
       "        vertical-align: top;\n",
       "    }\n",
       "</style>\n",
       "<table border=\"1\" class=\"dataframe\">\n",
       "  <thead>\n",
       "    <tr style=\"text-align: right;\">\n",
       "      <th></th>\n",
       "      <th>beer_style</th>\n",
       "      <th>beer_origin</th>\n",
       "    </tr>\n",
       "  </thead>\n",
       "  <tbody>\n",
       "    <tr>\n",
       "      <th>0</th>\n",
       "      <td>American Adjunct Lager</td>\n",
       "      <td>USA</td>\n",
       "    </tr>\n",
       "    <tr>\n",
       "      <th>1</th>\n",
       "      <td>American Amber / Red Ale</td>\n",
       "      <td>USA</td>\n",
       "    </tr>\n",
       "    <tr>\n",
       "      <th>2</th>\n",
       "      <td>American Amber / Red Lager</td>\n",
       "      <td>USA</td>\n",
       "    </tr>\n",
       "    <tr>\n",
       "      <th>3</th>\n",
       "      <td>American Barleywine</td>\n",
       "      <td>USA</td>\n",
       "    </tr>\n",
       "    <tr>\n",
       "      <th>4</th>\n",
       "      <td>American Black Ale</td>\n",
       "      <td>USA</td>\n",
       "    </tr>\n",
       "  </tbody>\n",
       "</table>\n",
       "</div>"
      ],
      "text/plain": [
       "                   beer_style beer_origin\n",
       "0      American Adjunct Lager         USA\n",
       "1    American Amber / Red Ale         USA\n",
       "2  American Amber / Red Lager         USA\n",
       "3         American Barleywine         USA\n",
       "4          American Black Ale         USA"
      ]
     },
     "execution_count": 9,
     "metadata": {},
     "output_type": "execute_result"
    }
   ],
   "source": [
    "with open('beer_origins.csv', 'rb') as f:\n",
    "    result = chardet.detect(f.read())\n",
    "\n",
    "beer_origin = pd.read_csv('./beer_origins.csv', encoding=result['encoding'])\n",
    "beer_origin.head()"
   ]
  },
  {
   "cell_type": "markdown",
   "metadata": {},
   "source": [
    "Now we need to add this field back into the original dataset."
   ]
  },
  {
   "cell_type": "code",
   "execution_count": 10,
   "metadata": {
    "collapsed": false
   },
   "outputs": [
    {
     "data": {
      "text/html": [
       "<div>\n",
       "<style>\n",
       "    .dataframe thead tr:only-child th {\n",
       "        text-align: right;\n",
       "    }\n",
       "\n",
       "    .dataframe thead th {\n",
       "        text-align: left;\n",
       "    }\n",
       "\n",
       "    .dataframe tbody tr th {\n",
       "        vertical-align: top;\n",
       "    }\n",
       "</style>\n",
       "<table border=\"1\" class=\"dataframe\">\n",
       "  <thead>\n",
       "    <tr style=\"text-align: right;\">\n",
       "      <th></th>\n",
       "      <th>brewery_id</th>\n",
       "      <th>brewery_name</th>\n",
       "      <th>review_time</th>\n",
       "      <th>review_overall</th>\n",
       "      <th>review_aroma</th>\n",
       "      <th>review_appearance</th>\n",
       "      <th>review_profilename</th>\n",
       "      <th>beer_style</th>\n",
       "      <th>review_palate</th>\n",
       "      <th>review_taste</th>\n",
       "      <th>beer_name</th>\n",
       "      <th>beer_abv</th>\n",
       "      <th>beer_beerid</th>\n",
       "      <th>beer_origin</th>\n",
       "    </tr>\n",
       "  </thead>\n",
       "  <tbody>\n",
       "    <tr>\n",
       "      <th>0</th>\n",
       "      <td>10325</td>\n",
       "      <td>Vecchio Birraio</td>\n",
       "      <td>1234817823</td>\n",
       "      <td>1.5</td>\n",
       "      <td>2.0</td>\n",
       "      <td>2.5</td>\n",
       "      <td>stcules</td>\n",
       "      <td>Hefeweizen</td>\n",
       "      <td>1.5</td>\n",
       "      <td>1.5</td>\n",
       "      <td>Sausa Weizen</td>\n",
       "      <td>5.0</td>\n",
       "      <td>47986</td>\n",
       "      <td>German</td>\n",
       "    </tr>\n",
       "    <tr>\n",
       "      <th>1</th>\n",
       "      <td>9020</td>\n",
       "      <td>Yazoo Brewing Company</td>\n",
       "      <td>1224350360</td>\n",
       "      <td>4.0</td>\n",
       "      <td>4.0</td>\n",
       "      <td>3.0</td>\n",
       "      <td>Likeburning</td>\n",
       "      <td>Hefeweizen</td>\n",
       "      <td>4.0</td>\n",
       "      <td>3.5</td>\n",
       "      <td>Hefeweizen</td>\n",
       "      <td>5.0</td>\n",
       "      <td>20575</td>\n",
       "      <td>German</td>\n",
       "    </tr>\n",
       "    <tr>\n",
       "      <th>2</th>\n",
       "      <td>1454</td>\n",
       "      <td>Broad Ripple Brew Pub</td>\n",
       "      <td>1316545215</td>\n",
       "      <td>4.0</td>\n",
       "      <td>3.5</td>\n",
       "      <td>3.0</td>\n",
       "      <td>JamesS</td>\n",
       "      <td>Hefeweizen</td>\n",
       "      <td>4.0</td>\n",
       "      <td>4.5</td>\n",
       "      <td>Hefe Weizen</td>\n",
       "      <td>4.5</td>\n",
       "      <td>73291</td>\n",
       "      <td>German</td>\n",
       "    </tr>\n",
       "    <tr>\n",
       "      <th>3</th>\n",
       "      <td>850</td>\n",
       "      <td>Moon River Brewing Company</td>\n",
       "      <td>1133896338</td>\n",
       "      <td>3.5</td>\n",
       "      <td>3.5</td>\n",
       "      <td>3.0</td>\n",
       "      <td>GusterFan</td>\n",
       "      <td>Hefeweizen</td>\n",
       "      <td>3.0</td>\n",
       "      <td>3.5</td>\n",
       "      <td>Wheezy Heifer</td>\n",
       "      <td>5.5</td>\n",
       "      <td>27229</td>\n",
       "      <td>German</td>\n",
       "    </tr>\n",
       "    <tr>\n",
       "      <th>4</th>\n",
       "      <td>850</td>\n",
       "      <td>Moon River Brewing Company</td>\n",
       "      <td>1193191936</td>\n",
       "      <td>4.0</td>\n",
       "      <td>4.0</td>\n",
       "      <td>3.5</td>\n",
       "      <td>harpo111</td>\n",
       "      <td>Hefeweizen</td>\n",
       "      <td>3.5</td>\n",
       "      <td>3.5</td>\n",
       "      <td>Hefe-Weizen</td>\n",
       "      <td>5.5</td>\n",
       "      <td>2776</td>\n",
       "      <td>German</td>\n",
       "    </tr>\n",
       "  </tbody>\n",
       "</table>\n",
       "</div>"
      ],
      "text/plain": [
       "   brewery_id                brewery_name  review_time  review_overall  \\\n",
       "0       10325             Vecchio Birraio   1234817823             1.5   \n",
       "1        9020       Yazoo Brewing Company   1224350360             4.0   \n",
       "2        1454       Broad Ripple Brew Pub   1316545215             4.0   \n",
       "3         850  Moon River Brewing Company   1133896338             3.5   \n",
       "4         850  Moon River Brewing Company   1193191936             4.0   \n",
       "\n",
       "   review_aroma  review_appearance review_profilename  beer_style  \\\n",
       "0           2.0                2.5            stcules  Hefeweizen   \n",
       "1           4.0                3.0        Likeburning  Hefeweizen   \n",
       "2           3.5                3.0             JamesS  Hefeweizen   \n",
       "3           3.5                3.0          GusterFan  Hefeweizen   \n",
       "4           4.0                3.5           harpo111  Hefeweizen   \n",
       "\n",
       "   review_palate  review_taste      beer_name  beer_abv  beer_beerid  \\\n",
       "0            1.5           1.5   Sausa Weizen       5.0        47986   \n",
       "1            4.0           3.5     Hefeweizen       5.0        20575   \n",
       "2            4.0           4.5    Hefe Weizen       4.5        73291   \n",
       "3            3.0           3.5  Wheezy Heifer       5.5        27229   \n",
       "4            3.5           3.5    Hefe-Weizen       5.5         2776   \n",
       "\n",
       "  beer_origin  \n",
       "0      German  \n",
       "1      German  \n",
       "2      German  \n",
       "3      German  \n",
       "4      German  "
      ]
     },
     "execution_count": 10,
     "metadata": {},
     "output_type": "execute_result"
    }
   ],
   "source": [
    "beers_with_origin = pd.merge(beer, beer_origin, on='beer_style')\n",
    "beers_with_origin.head()"
   ]
  },
  {
   "cell_type": "markdown",
   "metadata": {},
   "source": [
    "<h3> *NOTE* </h3>\n",
    "\n",
    "There were certain styles that were too general of a style, so I labeled them as **General**. For example:"
   ]
  },
  {
   "cell_type": "code",
   "execution_count": 11,
   "metadata": {
    "collapsed": false
   },
   "outputs": [
    {
     "data": {
      "text/plain": [
       "Series([], Name: beer_name, dtype: int64)"
      ]
     },
     "execution_count": 11,
     "metadata": {},
     "output_type": "execute_result"
    }
   ],
   "source": [
    "beers_with_origin['beer_name'][beers_with_origin['beer_origin'] == 'General'].value_counts().head(10)"
   ]
  },
  {
   "cell_type": "code",
   "execution_count": 12,
   "metadata": {
    "collapsed": false
   },
   "outputs": [
    {
     "data": {
      "text/plain": [
       "166297    Light Lager\n",
       "Name: beer_style, dtype: object"
      ]
     },
     "execution_count": 12,
     "metadata": {},
     "output_type": "execute_result"
    }
   ],
   "source": [
    "beers_with_origin['beer_style'][beers_with_origin['beer_name'] == 'Bud Light'].head(1)"
   ]
  },
  {
   "cell_type": "markdown",
   "metadata": {},
   "source": [
    "So we can't really pinpoint what country \"light lager\" is from, so for such beer styles, we will ignore them in this analysis just to focus on beer styles that have a definitive origin.\n",
    "\n",
    "Therefore, we want to remove the 'General' beer_origin values before plotting our data"
   ]
  },
  {
   "cell_type": "code",
   "execution_count": 13,
   "metadata": {
    "collapsed": false
   },
   "outputs": [
    {
     "data": {
      "image/png": "[encoded data removed]",
      "text/plain": [
       "<matplotlib.figure.Figure at 0x5b1a8d0>"
      ]
     },
     "metadata": {},
     "output_type": "display_data"
    }
   ],
   "source": [
    "%matplotlib inline\n",
    "\n",
    "## count reviews for each beer origin whilst ignoring beer_origin value of 'General'\n",
    "origin_counts = Counter(beers_with_origin['beer_origin'][beers_with_origin['beer_origin'] != 'General'])\n",
    "\n",
    "## convert dictionary of origin counts to DataFrame\n",
    "origins_df = pd.DataFrame.from_dict(origin_counts, orient='index')\n",
    "\n",
    "## Plot value counts of each origin\n",
    "origins_df.plot(kind='bar',legend=None)\n",
    "plt.xticks(rotation=45)\n",
    "plt.xlabel('Country of Origin')\n",
    "plt.ylabel('Number of Reviews') \n",
    "plt.title('Number of Beer Reviews by Determined Country of Origin', y=1.05)\n",
    "\n",
    "plt.show()"
   ]
  },
  {
   "cell_type": "markdown",
   "metadata": {},
   "source": [
    "See we can see a large disparity in the number of reviews for origin. USA, Belgian, German, and British beers are noticeably higher.\n",
    "\n",
    "So let's cut this histogram down into just those origins."
   ]
  },
  {
   "cell_type": "code",
   "execution_count": 14,
   "metadata": {
    "collapsed": false
   },
   "outputs": [
    {
     "data": {
      "image/png": "[encoded data removed]",
      "text/plain": [
       "<matplotlib.figure.Figure at 0xa814f98>"
      ]
     },
     "metadata": {},
     "output_type": "display_data"
    }
   ],
   "source": [
    "## get origins where number of reviews is greater than one hundred thousand\n",
    "origins_df_high = origins_df[origins_df[0] > 100000]\n",
    "\n",
    "origins_df_high.plot(kind='bar',legend=None)\n",
    "plt.xticks(rotation=45)\n",
    "plt.xlabel('Country of Origin')\n",
    "plt.ylabel('Number of Reviews') \n",
    "plt.title('Top 4 Number of Beer Reviews by Determined Country of Origin', y=1.05)\n",
    "\n",
    "plt.show()"
   ]
  },
  {
   "cell_type": "markdown",
   "metadata": {},
   "source": [
    "<h1> Primary Research Questions </h1>\n",
    "\n",
    "\n",
    "My primary research question that I have developed from my EDA is whether there is a significant difference in the ratings of US, German, and Belgian-style beers, as they were the top 3 origins for number of reviews.\n",
    "\n",
    "I also have 2 additional questions of whether overall scores of US beer have increased over time (seeing as we have had a large boom in microbrewing and craft beers, leading to a sort of revolution of quality beers) and which qualities, if any, (from aroma, taste, appearance, palate) significantly affect the overall score of a beer."
   ]
  },
  {
   "cell_type": "markdown",
   "metadata": {},
   "source": [
    "<h2> Comparison of German, US, and Belgian Beer Reviews </h2>\n",
    "\n",
    "So, the first thing to do is to subset our DataFrame into 3 new DataFrames, one each for those reviews of beers with origin values of Germany, US, or Belgium, and plotting out the distribution of their overall scores."
   ]
  },
  {
   "cell_type": "code",
   "execution_count": 15,
   "metadata": {
    "collapsed": false
   },
   "outputs": [
    {
     "data": {
      "image/png": "[encoded data removed]",
      "text/plain": [
       "<matplotlib.figure.Figure at 0xb039940>"
      ]
     },
     "metadata": {},
     "output_type": "display_data"
    }
   ],
   "source": [
    "## subset reviews\n",
    "german_beer_reviews = beers_with_origin['review_overall'][beers_with_origin['beer_origin'] == 'German']\n",
    "us_beer_reviews = beers_with_origin['review_overall'][beers_with_origin['beer_origin'] == 'USA']\n",
    "belgian_beer_reviews = beers_with_origin['review_overall'][beers_with_origin['beer_origin'] == 'Belgian']\n",
    "\n",
    "## plot distributions\n",
    "fig, axes = plt.subplots(1, 3, figsize=(15,6)) \n",
    "\n",
    "axes[0].hist(german_beer_reviews, 10, facecolor = '#ff0000')\n",
    "axes[0].set_xlabel('Overall Score of German Beer')\n",
    "axes[0].set_ylabel('Count')\n",
    "\n",
    "axes[1].hist(us_beer_reviews, 10, facecolor = '#0052A5')\n",
    "axes[1].set_xlabel('Overall Score of USA Beer')\n",
    "# set title for whole plotting area (over center plot)\n",
    "axes[1].set_title('Distributions of Overall Beer Reviews for German, USA, and Belgian Beers', y = 1.05)\n",
    "\n",
    "axes[2].hist(belgian_beer_reviews, 10, facecolor = '#FAE042')\n",
    "axes[2].set_xlabel('Overall Score of Belgian')\n",
    "\n",
    "plt.show()"
   ]
  },
  {
   "cell_type": "markdown",
   "metadata": {},
   "source": [
    "Noting the large range in number of reviews for each plots y-axis, I've got some *preeetty* skewed distributions (also notice how the yellow Belgian bars are reminiscent of the country's wonderful french fries, which I totally planned beforehand), showing a noticeable predisposition of higher scores. So maybe the users on beeradvocate.com tend to review beers that are more likely to be \"better\", relatively speaking.\n",
    "\n",
    "Or they just like most beers they happen to drink. Or they drink only \"worse\" beers later after imbibing a good amount in the good stuff, so they've got a smaller sample size there. Whatever. Not important now.\n",
    "\n",
    "So, since I want to see if there's some significant difference between these populations, I want to do an [**ANOVA**](https://en.wikipedia.org/wiki/Analysis_of_variance) test, which requires normal distributions of data. It also requires similar variance for each population (AKA [**homoscedasticity**](https://en.wikipedia.org/wiki/Homoscedasticity)) and the independence of cases within the populations being compared.\n",
    "\n",
    "To subsets the beers and be sure to get a normal distributions, we will create 3 sampling distributions from each population (3 distributions of sample means) and utilize these in our ANOVA test.\n",
    "\n",
    "Also, we'd have the following hypothesis:\n",
    " \n",
    "* **h(0): Origin of beer has no significant effect on overall beer rating by beeradvocate.com users**\n",
    "* **h(a): Origin of beer has a significant effect on overall beer rating by beeradvocate.com users**"
   ]
  },
  {
   "cell_type": "code",
   "execution_count": 16,
   "metadata": {
    "collapsed": false
   },
   "outputs": [],
   "source": [
    "## create lists to hold sampling distributions\n",
    "us_beer_reviews_sample = []\n",
    "belgian_beer_reviews_sample = []\n",
    "german_beer_reviews_sample = []\n",
    "\n",
    "## function to create sampling distributions\n",
    "def sample_beers(df_pop,df_sample):\n",
    "    for i in range(0,100):\n",
    "        df_sample.append(df_pop.sample(50).mean())\n",
    "    return df_sample"
   ]
  },
  {
   "cell_type": "code",
   "execution_count": 17,
   "metadata": {
    "collapsed": false
   },
   "outputs": [
    {
     "data": {
      "image/png": "[encoded data removed]",
      "text/plain": [
       "<matplotlib.figure.Figure at 0x1b859978>"
      ]
     },
     "metadata": {},
     "output_type": "display_data"
    }
   ],
   "source": [
    "## create sampling distributions\n",
    "sample_beers(us_beer_reviews,us_beer_reviews_sample)\n",
    "sample_beers(german_beer_reviews,german_beer_reviews_sample)\n",
    "sample_beers(belgian_beer_reviews,belgian_beer_reviews_sample)\n",
    "\n",
    "## plot sampling distributions\n",
    "fig, axes = plt.subplots(1, 3, figsize=(15,6)) \n",
    "\n",
    "axes[0].hist(german_beer_reviews_sample, 5, facecolor = '#ff0000')\n",
    "axes[0].set_xlabel('Mean Overall Score of Sampled German Beer')\n",
    "axes[0].set_ylabel('Count')\n",
    "\n",
    "axes[1].hist(us_beer_reviews_sample, 5, facecolor = '#0052A5')\n",
    "axes[1].set_xlabel('Mean Overall Score of Sampled US Beer')\n",
    "# set title for whole plotting area (over center plot)\n",
    "axes[1].set_title('Distributions of Samples Means for Overall Beer Reviews for German, US, and Belgian Beers (n = 50)', y = 1.05)\n",
    "\n",
    "axes[2].hist(belgian_beer_reviews_sample, 5, facecolor = '#FAE042')\n",
    "axes[2].set_xlabel('Mean Overall Score of Sampled Belgian Beer')\n",
    "\n",
    "plt.show()"
   ]
  },
  {
   "cell_type": "markdown",
   "metadata": {},
   "source": [
    "So this looks like we've got our normal distributions from each population. Let's look at the variances of each sample."
   ]
  },
  {
   "cell_type": "code",
   "execution_count": 18,
   "metadata": {
    "collapsed": false
   },
   "outputs": [
    {
     "name": "stdout",
     "output_type": "stream",
     "text": [
      "Sampled German Beer Variance: 0.00972675\n",
      "Sampled US Beer Variance: 0.00957579\n",
      "Sampled Belgian Beer Variance: 0.009195\n"
     ]
    }
   ],
   "source": [
    "print('Sampled German Beer Variance:',np.var(german_beer_reviews_sample))\n",
    "print('Sampled US Beer Variance:',np.var(us_beer_reviews_sample))\n",
    "print('Sampled Belgian Beer Variance:',np.var(belgian_beer_reviews_sample))"
   ]
  },
  {
   "cell_type": "markdown",
   "metadata": {},
   "source": [
    "As a general rule of thumb, if the ratio of the largest sample variance to the smallest sample variance does not exceed 1.5, the groups satisfy the requirement of homoscedasticity, so we've definitely got it. \n",
    "\n",
    "Now let's look at their boxplots, just for another view of the distributions."
   ]
  },
  {
   "cell_type": "code",
   "execution_count": 19,
   "metadata": {
    "collapsed": false,
    "scrolled": true
   },
   "outputs": [
    {
     "data": {
      "image/png": "[encoded data removed]",
      "text/plain": [
       "<matplotlib.figure.Figure at 0xa8a8c18>"
      ]
     },
     "metadata": {},
     "output_type": "display_data"
    }
   ],
   "source": [
    "samples_df = pd.DataFrame({\n",
    "    'German': german_beer_reviews_sample,\n",
    "    'US': us_beer_reviews_sample,\n",
    "    'Belgian': belgian_beer_reviews_sample})\n",
    "\n",
    "samples_df.plot(kind = 'box')\n",
    "plt.xlabel('Beer Style')\n",
    "plt.ylabel('Mean Overall Score') \n",
    "plt.title('Distributions of Samples Means for Overall Beer Reviews for US, Belgian, and German Beers (n = 50)', y=1.05)\n",
    "\n",
    "plt.show()"
   ]
  },
  {
   "cell_type": "markdown",
   "metadata": {},
   "source": [
    "Looking at these box plots, I'd say it's a decent wager to claim that Belgian beers tend to be rated the highest, followed by American beers, and ending with German beers, which are still pretty highly rated with a median score close to 3.8.\n",
    "\n",
    "For an ANOVA, we need to look at the f-distribution table. We *also* need to make sure we look at the table for an alpha ($\\alpha$) level of 0.05 for a 95% confidence in our result.\n",
    "\n",
    "Then, we need to use the **degrees of freedom *between* groups** and **degrees of freedom *within* groups**. These help measure how spaced apart sample means are and the variance within in each distribution of sample means.\n",
    "\n",
    "We find the degrees of freedom between groups by subtracting 1 from the total number of samples we have and we find the degrees of freedom within groups by taking the total number of observations across all samples and substracting the degrees of freedom between groups from that result."
   ]
  },
  {
   "cell_type": "code",
   "execution_count": 20,
   "metadata": {
    "collapsed": false
   },
   "outputs": [
    {
     "name": "stdout",
     "output_type": "stream",
     "text": [
      "Degrees of Freedom between groups: 2 \n",
      "Degrees of Freedom within groups: 98\n"
     ]
    }
   ],
   "source": [
    "DFbetween = len(samples_df.columns) - 1\n",
    "DFwithin = len(samples_df) - DFbetween\n",
    "\n",
    "print('Degrees of Freedom between groups:',DFbetween,'\\nDegrees of Freedom within groups:',DFwithin)"
   ]
  },
  {
   "cell_type": "markdown",
   "metadata": {},
   "source": [
    "We then use these values and the axes of the f-distributoin table to find out f-critical value (AKA the value that our f-statistic must exceed with a p-value > 0.05 to infer that one of our samples is significantly different than the others).\n",
    "\n",
    "And to note, **df<sub>b</sub>** is the degrees of freedom between groups, and **df<sub>w</sub>** is the degrees of freedom within groups, so we'd need to look at the intersection point where df<sub>b</sub> = 2 and df<sub>w</sub> = 100, as this is the closest to our actual value of 98."
   ]
  },
  {
   "cell_type": "markdown",
   "metadata": {},
   "source": [
    "<img src=\"./f_table_alpha_005_marked.PNG\" align=\"center\" style=\"width:550px;height:550px;\"/>"
   ]
  },
  {
   "cell_type": "markdown",
   "metadata": {},
   "source": [
    "Looking at the f-table for our degrees of freedom, we have an f-critical value of **3.09**, which is the score our ANOVA test would need to exceed with good confidence to determine if any sampling distributions differed."
   ]
  },
  {
   "cell_type": "code",
   "execution_count": 21,
   "metadata": {
    "collapsed": false
   },
   "outputs": [
    {
     "name": "stdout",
     "output_type": "stream",
     "text": [
      "f-statistic: 43.0510349314 \n",
      "p-value: 3.82058358381e-17\n"
     ]
    }
   ],
   "source": [
    "## compute ANOVA P value   \n",
    "f_stat, p_val = f_oneway(german_beer_reviews_sample, us_beer_reviews_sample, belgian_beer_reviews_sample)\n",
    "print('f-statistic:',f_stat,'\\np-value:',p_val)"
   ]
  },
  {
   "cell_type": "markdown",
   "metadata": {},
   "source": [
    "So our f-statistic is *waaaaay* above our f-critical value, and our p-value is miniscule, so we are able to **reject** our null hypothesis and conclude with confidence that there is *some* significant difference in overall beer review score based on style origin country.\n",
    "\n",
    "We can find out *which* sampling distributions are significantly different via some t-tests. The t-critical value for a 95% confidence level ($\\alpha$ = 0.05) is 2.262, so we'd need our t-statistics to be higher than this value with a significant p-value."
   ]
  },
  {
   "cell_type": "code",
   "execution_count": 22,
   "metadata": {
    "collapsed": false
   },
   "outputs": [
    {
     "name": "stdout",
     "output_type": "stream",
     "text": [
      "US vs. German t-statistic: 3.55215610475 and p-value:  0.000477547453865\n",
      "Belgian vs. German t-statistic: 9.22246746912 and p-value:  4.42608101042e-17\n",
      "Belgian vs. US t-statistic: 5.65735953084 and p-value:  5.32980147339e-08\n"
     ]
    }
   ],
   "source": [
    "print('US vs. German t-statistic:',\n",
    "      ttest_ind(us_beer_reviews_sample,german_beer_reviews_sample,equal_var=False)[0],\n",
    "      'and p-value: ',ttest_ind(us_beer_reviews_sample,german_beer_reviews_sample,equal_var=False)[1]\n",
    "     )\n",
    "print('Belgian vs. German t-statistic:',\n",
    "      ttest_ind(belgian_beer_reviews_sample,german_beer_reviews_sample,equal_var=False)[0],\n",
    "      'and p-value: ',ttest_ind(german_beer_reviews_sample,belgian_beer_reviews_sample,equal_var=False)[1]\n",
    "     )\n",
    "print('Belgian vs. US t-statistic:',\n",
    "      ttest_ind(belgian_beer_reviews_sample,us_beer_reviews_sample,equal_var=False)[0],\n",
    "      'and p-value: ',ttest_ind(belgian_beer_reviews_sample,us_beer_reviews_sample,equal_var=False)[1]\n",
    "     )"
   ]
  },
  {
   "cell_type": "markdown",
   "metadata": {},
   "source": [
    "So, we can infer from these results that US beer is rated significantly higher than German beers, and then Belgian beers are rated significantly higher than US beers. So it seems that Belgian beers are the most favored by beeradvocate.com users, followed by US beers.\n",
    "\n",
    "Now, we can move on to our first secondary question, **whether or not the average US beer overall review score has increased over time.**\n",
    "\n",
    "The first step in this analysis is to get a datetime object from our review timestamp field. Then we filter down just to those beers with a beer_origin value of \"American\" and group the overall review scores by year and take the average of these scores for each year."
   ]
  },
  {
   "cell_type": "code",
   "execution_count": 23,
   "metadata": {
    "collapsed": false
   },
   "outputs": [
    {
     "data": {
      "text/html": [
       "<div>\n",
       "<style>\n",
       "    .dataframe thead tr:only-child th {\n",
       "        text-align: right;\n",
       "    }\n",
       "\n",
       "    .dataframe thead th {\n",
       "        text-align: left;\n",
       "    }\n",
       "\n",
       "    .dataframe tbody tr th {\n",
       "        vertical-align: top;\n",
       "    }\n",
       "</style>\n",
       "<table border=\"1\" class=\"dataframe\">\n",
       "  <thead>\n",
       "    <tr style=\"text-align: right;\">\n",
       "      <th></th>\n",
       "      <th>brewery_id</th>\n",
       "      <th>brewery_name</th>\n",
       "      <th>review_time</th>\n",
       "      <th>review_overall</th>\n",
       "      <th>review_aroma</th>\n",
       "      <th>review_appearance</th>\n",
       "      <th>review_profilename</th>\n",
       "      <th>beer_style</th>\n",
       "      <th>review_palate</th>\n",
       "      <th>review_taste</th>\n",
       "      <th>beer_name</th>\n",
       "      <th>beer_abv</th>\n",
       "      <th>beer_beerid</th>\n",
       "      <th>beer_origin</th>\n",
       "      <th>review_year</th>\n",
       "    </tr>\n",
       "  </thead>\n",
       "  <tbody>\n",
       "    <tr>\n",
       "      <th>0</th>\n",
       "      <td>10325</td>\n",
       "      <td>Vecchio Birraio</td>\n",
       "      <td>1234817823</td>\n",
       "      <td>1.5</td>\n",
       "      <td>2.0</td>\n",
       "      <td>2.5</td>\n",
       "      <td>stcules</td>\n",
       "      <td>Hefeweizen</td>\n",
       "      <td>1.5</td>\n",
       "      <td>1.5</td>\n",
       "      <td>Sausa Weizen</td>\n",
       "      <td>5.0</td>\n",
       "      <td>47986</td>\n",
       "      <td>German</td>\n",
       "      <td>2009</td>\n",
       "    </tr>\n",
       "    <tr>\n",
       "      <th>1</th>\n",
       "      <td>9020</td>\n",
       "      <td>Yazoo Brewing Company</td>\n",
       "      <td>1224350360</td>\n",
       "      <td>4.0</td>\n",
       "      <td>4.0</td>\n",
       "      <td>3.0</td>\n",
       "      <td>Likeburning</td>\n",
       "      <td>Hefeweizen</td>\n",
       "      <td>4.0</td>\n",
       "      <td>3.5</td>\n",
       "      <td>Hefeweizen</td>\n",
       "      <td>5.0</td>\n",
       "      <td>20575</td>\n",
       "      <td>German</td>\n",
       "      <td>2008</td>\n",
       "    </tr>\n",
       "    <tr>\n",
       "      <th>2</th>\n",
       "      <td>1454</td>\n",
       "      <td>Broad Ripple Brew Pub</td>\n",
       "      <td>1316545215</td>\n",
       "      <td>4.0</td>\n",
       "      <td>3.5</td>\n",
       "      <td>3.0</td>\n",
       "      <td>JamesS</td>\n",
       "      <td>Hefeweizen</td>\n",
       "      <td>4.0</td>\n",
       "      <td>4.5</td>\n",
       "      <td>Hefe Weizen</td>\n",
       "      <td>4.5</td>\n",
       "      <td>73291</td>\n",
       "      <td>German</td>\n",
       "      <td>2011</td>\n",
       "    </tr>\n",
       "    <tr>\n",
       "      <th>3</th>\n",
       "      <td>850</td>\n",
       "      <td>Moon River Brewing Company</td>\n",
       "      <td>1133896338</td>\n",
       "      <td>3.5</td>\n",
       "      <td>3.5</td>\n",
       "      <td>3.0</td>\n",
       "      <td>GusterFan</td>\n",
       "      <td>Hefeweizen</td>\n",
       "      <td>3.0</td>\n",
       "      <td>3.5</td>\n",
       "      <td>Wheezy Heifer</td>\n",
       "      <td>5.5</td>\n",
       "      <td>27229</td>\n",
       "      <td>German</td>\n",
       "      <td>2005</td>\n",
       "    </tr>\n",
       "    <tr>\n",
       "      <th>4</th>\n",
       "      <td>850</td>\n",
       "      <td>Moon River Brewing Company</td>\n",
       "      <td>1193191936</td>\n",
       "      <td>4.0</td>\n",
       "      <td>4.0</td>\n",
       "      <td>3.5</td>\n",
       "      <td>harpo111</td>\n",
       "      <td>Hefeweizen</td>\n",
       "      <td>3.5</td>\n",
       "      <td>3.5</td>\n",
       "      <td>Hefe-Weizen</td>\n",
       "      <td>5.5</td>\n",
       "      <td>2776</td>\n",
       "      <td>German</td>\n",
       "      <td>2007</td>\n",
       "    </tr>\n",
       "  </tbody>\n",
       "</table>\n",
       "</div>"
      ],
      "text/plain": [
       "   brewery_id                brewery_name  review_time  review_overall  \\\n",
       "0       10325             Vecchio Birraio   1234817823             1.5   \n",
       "1        9020       Yazoo Brewing Company   1224350360             4.0   \n",
       "2        1454       Broad Ripple Brew Pub   1316545215             4.0   \n",
       "3         850  Moon River Brewing Company   1133896338             3.5   \n",
       "4         850  Moon River Brewing Company   1193191936             4.0   \n",
       "\n",
       "   review_aroma  review_appearance review_profilename  beer_style  \\\n",
       "0           2.0                2.5            stcules  Hefeweizen   \n",
       "1           4.0                3.0        Likeburning  Hefeweizen   \n",
       "2           3.5                3.0             JamesS  Hefeweizen   \n",
       "3           3.5                3.0          GusterFan  Hefeweizen   \n",
       "4           4.0                3.5           harpo111  Hefeweizen   \n",
       "\n",
       "   review_palate  review_taste      beer_name  beer_abv  beer_beerid  \\\n",
       "0            1.5           1.5   Sausa Weizen       5.0        47986   \n",
       "1            4.0           3.5     Hefeweizen       5.0        20575   \n",
       "2            4.0           4.5    Hefe Weizen       4.5        73291   \n",
       "3            3.0           3.5  Wheezy Heifer       5.5        27229   \n",
       "4            3.5           3.5    Hefe-Weizen       5.5         2776   \n",
       "\n",
       "  beer_origin  review_year  \n",
       "0      German         2009  \n",
       "1      German         2008  \n",
       "2      German         2011  \n",
       "3      German         2005  \n",
       "4      German         2007  "
      ]
     },
     "execution_count": 23,
     "metadata": {},
     "output_type": "execute_result"
    }
   ],
   "source": [
    "## convert timestamp field to datetime and create a year field from resulting datetime object\n",
    "for beer in beers_with_origin:\n",
    "    beers_with_origin['review_year'] = pd.DatetimeIndex(pd.to_datetime(beers_with_origin['review_time'], unit = 's')).year\n",
    "\n",
    "beers_with_origin.head()"
   ]
  },
  {
   "cell_type": "code",
   "execution_count": 24,
   "metadata": {
    "collapsed": false
   },
   "outputs": [
    {
     "data": {
      "text/html": [
       "<div>\n",
       "<style>\n",
       "    .dataframe thead tr:only-child th {\n",
       "        text-align: right;\n",
       "    }\n",
       "\n",
       "    .dataframe thead th {\n",
       "        text-align: left;\n",
       "    }\n",
       "\n",
       "    .dataframe tbody tr th {\n",
       "        vertical-align: top;\n",
       "    }\n",
       "</style>\n",
       "<table border=\"1\" class=\"dataframe\">\n",
       "  <thead>\n",
       "    <tr style=\"text-align: right;\">\n",
       "      <th></th>\n",
       "      <th>review_year</th>\n",
       "      <th>review_overall</th>\n",
       "    </tr>\n",
       "  </thead>\n",
       "  <tbody>\n",
       "    <tr>\n",
       "      <th>60834</th>\n",
       "      <td>2010</td>\n",
       "      <td>4.0</td>\n",
       "    </tr>\n",
       "    <tr>\n",
       "      <th>60835</th>\n",
       "      <td>2010</td>\n",
       "      <td>2.5</td>\n",
       "    </tr>\n",
       "    <tr>\n",
       "      <th>60836</th>\n",
       "      <td>2010</td>\n",
       "      <td>2.5</td>\n",
       "    </tr>\n",
       "    <tr>\n",
       "      <th>60837</th>\n",
       "      <td>2010</td>\n",
       "      <td>4.0</td>\n",
       "    </tr>\n",
       "    <tr>\n",
       "      <th>60838</th>\n",
       "      <td>2011</td>\n",
       "      <td>5.0</td>\n",
       "    </tr>\n",
       "  </tbody>\n",
       "</table>\n",
       "</div>"
      ],
      "text/plain": [
       "       review_year  review_overall\n",
       "60834         2010             4.0\n",
       "60835         2010             2.5\n",
       "60836         2010             2.5\n",
       "60837         2010             4.0\n",
       "60838         2011             5.0"
      ]
     },
     "execution_count": 24,
     "metadata": {},
     "output_type": "execute_result"
    }
   ],
   "source": [
    "## get all american beer reviews and the year of the review\n",
    "american_beer = beers_with_origin[['review_year','review_overall']][beers_with_origin['beer_origin'] == 'USA']\n",
    "american_beer.head()"
   ]
  },
  {
   "cell_type": "code",
   "execution_count": 25,
   "metadata": {
    "collapsed": false
   },
   "outputs": [],
   "source": [
    "### Group american beer data by a variable of year\n",
    "american_beer_years = american_beer.groupby('review_year')\n",
    "\n",
    "## get Series of mean overall review scores for each year\n",
    "american_beer_years_mean_score = american_beer_years['review_overall'].mean()"
   ]
  },
  {
   "cell_type": "code",
   "execution_count": 26,
   "metadata": {
    "collapsed": false
   },
   "outputs": [
    {
     "data": {
      "image/png": "[encoded data removed]",
      "text/plain": [
       "<matplotlib.figure.Figure at 0x1cee6e10>"
      ]
     },
     "metadata": {},
     "output_type": "display_data"
    }
   ],
   "source": [
    "## plot out average overall review score by year\n",
    "american_beer_years_mean_score.plot(x = 'review_year', y = 'review_overall', figsize = (5,5), grid = True)\n",
    "plt.ylim([3.5,4.5])\n",
    "plt.xlabel('Year of Review')\n",
    "plt.ylabel('Average Overall Review Score')\n",
    "plt.title('Average Overall Review Score of US Beers (1996-2011)',y=1.02)\n",
    "plt.show()"
   ]
  },
  {
   "cell_type": "markdown",
   "metadata": {},
   "source": [
    "So it looks the good ol' USA started out pretty high, with an average overall review score of 4, followed by a sharp drop and immediate sharp rise to its peak of 4.042857 in 1999. Then we have a *very* steep drop to the minimum average review of 3.678586 in 2002, afterwhich we have a slow and steady rise until 2009, and then we've had another slow change, but this time with a decreasing average overall review score. \n",
    "\n",
    "So unfortunately, US beer seems to have *not* gotten better over time, at least according to beeradvocate.com users. Or we've produced *so much beer*, that the mediocre beers have oversaturated the market and their review scores have overrun the scores resulting from the increase in quality brews that have been popping up over the country (I would know, I've tasted *a lot of them*).\n",
    "\n",
    "Now, for the final research question: **Which qualities, if any, (from aroma, taste, appearance, palate) significantly affect the overall score of a beer**.\n",
    "\n",
    "So what we need to do here is subset our DataFrame into just those numerical variables that could have an affect on the overall review score:\n",
    "\n",
    "* review_aroma\n",
    "* review_appearance\n",
    "* review_palate\n",
    "* review_taste\n",
    "\n",
    "and then to plot the scatterplots of the overall review score vs each of these variables."
   ]
  },
  {
   "cell_type": "code",
   "execution_count": 27,
   "metadata": {
    "collapsed": false
   },
   "outputs": [
    {
     "data": {
      "image/png": "[encoded data removed]",
      "text/plain": [
       "<matplotlib.figure.Figure at 0xca74710>"
      ]
     },
     "metadata": {},
     "output_type": "display_data"
    }
   ],
   "source": [
    "## subset DataFrame\n",
    "beer_cor = beers_with_origin[['review_overall','review_aroma','review_appearance','review_palate','review_taste']]\n",
    "beer_cor_sample = beer_cor.sample(300)\n",
    "\n",
    "fig, axes = plt.subplots(2, 2, figsize=(15,6))\n",
    "\n",
    "fig.suptitle(\"Correlations of Aroma, Appearance, Taste, and Palate with Overall Review Score\", fontsize = 20, y = 1.05)\n",
    "\n",
    "axes[0,0].scatter(beer_cor_sample['review_aroma'],beer_cor_sample['review_overall'], c = 'violet')\n",
    "axes[0,0].set_xlabel('Review Aroma Score')\n",
    "axes[0,0].set_ylabel('Overall Review Score')\n",
    "axes[0,0].set_title('Overall Score vs. Aroma')\n",
    "axes[0,0].set_xlim([0,5])\n",
    "\n",
    "axes[0,1].scatter(beer_cor_sample['review_appearance'],beer_cor_sample['review_overall'], c = 'red')\n",
    "axes[0,1].set_xlabel('Review Appearance Score')\n",
    "axes[0,1].set_ylabel('Overall Review Score')\n",
    "axes[0,1].set_title('Overall Score vs. Appearance')\n",
    "axes[0,1].set_xlim([0,5])\n",
    "\n",
    "axes[1,0].scatter(beer_cor_sample['review_taste'],beer_cor_sample['review_overall'], c = 'green')\n",
    "axes[1,0].set_xlabel('Review Taste Score')\n",
    "axes[1,0].set_ylabel('Overall Review Score')\n",
    "axes[1,0].set_title('Overall Score vs. Taste', y = 1.02)\n",
    "axes[1,0].set_xlim([0,5])\n",
    "\n",
    "axes[1,1].scatter(beer_cor_sample['review_palate'],beer_cor_sample['review_overall'], c = 'blue')\n",
    "axes[1,1].set_xlabel('Review Palate Score')\n",
    "axes[1,1].set_ylabel('Overall Review Score')\n",
    "axes[1,1].set_title('Overall Score vs. Palate', y = 1.02)\n",
    "axes[1,1].set_xlim([0,5])\n",
    "\n",
    "plt.tight_layout()\n",
    "\n",
    "plt.show()"
   ]
  },
  {
   "cell_type": "markdown",
   "metadata": {},
   "source": [
    "So it looks like each of these attributes has a positive linear relationship with the overall score, which is a big ol' **DUH**. But, we can also see that the scatterplot for taste and palate are more tightly grouped together along an imaginary linear regression line compared to appearance and aroma, suggesting that these 2 attributes are more likely to play a role in the overall review score of a beer. \n",
    "\n",
    "This seems like it would go along with most people's intuition. I would say I personally care more that my beer tastes better and that the palate is better (think of palate as the way the beer feels as you swallow and it goes down, i.e. the smoothness, texture, alcohol content, etc.) than if it doesn't look or smell particularly rosy.\n",
    "\n",
    "For instance, my favorite scotches smell (and taste, in fact) like an old fireplace, which really isn't as pleasant of a smell as, say, a nice bonfire, but they tend to be the spirits I enjoy the most.\n",
    "\n",
    "Now, after looking at the scatterplot, we look at the actual correlation matrix to see the *r* values between each of these attributes and the overall review score."
   ]
  },
  {
   "cell_type": "code",
   "execution_count": 28,
   "metadata": {
    "collapsed": false
   },
   "outputs": [
    {
     "data": {
      "text/html": [
       "<div>\n",
       "<style>\n",
       "    .dataframe thead tr:only-child th {\n",
       "        text-align: right;\n",
       "    }\n",
       "\n",
       "    .dataframe thead th {\n",
       "        text-align: left;\n",
       "    }\n",
       "\n",
       "    .dataframe tbody tr th {\n",
       "        vertical-align: top;\n",
       "    }\n",
       "</style>\n",
       "<table border=\"1\" class=\"dataframe\">\n",
       "  <thead>\n",
       "    <tr style=\"text-align: right;\">\n",
       "      <th></th>\n",
       "      <th>review_overall</th>\n",
       "      <th>review_aroma</th>\n",
       "      <th>review_appearance</th>\n",
       "      <th>review_palate</th>\n",
       "      <th>review_taste</th>\n",
       "    </tr>\n",
       "  </thead>\n",
       "  <tbody>\n",
       "    <tr>\n",
       "      <th>review_overall</th>\n",
       "      <td>1.000000</td>\n",
       "      <td>0.617218</td>\n",
       "      <td>0.503314</td>\n",
       "      <td>0.702543</td>\n",
       "      <td>0.790279</td>\n",
       "    </tr>\n",
       "    <tr>\n",
       "      <th>review_aroma</th>\n",
       "      <td>0.617218</td>\n",
       "      <td>1.000000</td>\n",
       "      <td>0.562597</td>\n",
       "      <td>0.618298</td>\n",
       "      <td>0.717849</td>\n",
       "    </tr>\n",
       "    <tr>\n",
       "      <th>review_appearance</th>\n",
       "      <td>0.503314</td>\n",
       "      <td>0.562597</td>\n",
       "      <td>1.000000</td>\n",
       "      <td>0.568477</td>\n",
       "      <td>0.548749</td>\n",
       "    </tr>\n",
       "    <tr>\n",
       "      <th>review_palate</th>\n",
       "      <td>0.702543</td>\n",
       "      <td>0.618298</td>\n",
       "      <td>0.568477</td>\n",
       "      <td>1.000000</td>\n",
       "      <td>0.735103</td>\n",
       "    </tr>\n",
       "    <tr>\n",
       "      <th>review_taste</th>\n",
       "      <td>0.790279</td>\n",
       "      <td>0.717849</td>\n",
       "      <td>0.548749</td>\n",
       "      <td>0.735103</td>\n",
       "      <td>1.000000</td>\n",
       "    </tr>\n",
       "  </tbody>\n",
       "</table>\n",
       "</div>"
      ],
      "text/plain": [
       "                   review_overall  review_aroma  review_appearance  \\\n",
       "review_overall           1.000000      0.617218           0.503314   \n",
       "review_aroma             0.617218      1.000000           0.562597   \n",
       "review_appearance        0.503314      0.562597           1.000000   \n",
       "review_palate            0.702543      0.618298           0.568477   \n",
       "review_taste             0.790279      0.717849           0.548749   \n",
       "\n",
       "                   review_palate  review_taste  \n",
       "review_overall          0.702543      0.790279  \n",
       "review_aroma            0.618298      0.717849  \n",
       "review_appearance       0.568477      0.548749  \n",
       "review_palate           1.000000      0.735103  \n",
       "review_taste            0.735103      1.000000  "
      ]
     },
     "execution_count": 28,
     "metadata": {},
     "output_type": "execute_result"
    }
   ],
   "source": [
    "beer_cor.corr()"
   ]
  },
  {
   "cell_type": "markdown",
   "metadata": {},
   "source": [
    "So indeed, we can see that taste has the highest Pearson's coefficient of correlation value of r = 0.790279, suggesting that the taste of a beer has the highest effect on the overall review score, followed by palate with its r value of 0.702543. I'd say that both of these value are between \"moderate\" to \"strong\" correlations, while aroma is closer to moderate with r = 0.617218, followed by the even-more-moderate appearance value of 0.503314, suggesting that beeradvocate.com users care less about how their beer looks and smells than how is tastes and feels, which I would think would be an obvious hypothesis."
   ]
  },
  {
   "cell_type": "markdown",
   "metadata": {
    "collapsed": true
   },
   "source": [
    "<h1> Conclusion </h1>"
   ]
  },
  {
   "cell_type": "markdown",
   "metadata": {},
   "source": [
    "So, from my analyses above, we can come to 3 conclusions about beer, according to beeradvocate.com user reviews:\n",
    "\n",
    "* Of beers with styles originating from the United States of America, Belgium, and Germany, the highest-quality beers tend to come from Belgium, followed by the United States, and ending with Germany, taking into account that German beers were still quite highly rated (median score of ~3.8).\n",
    "* While the craft beer culture has been improving, it seems that the average score of beers with styles originating from the United States were quite high in the mid-90's, but has since declined, excluding a slow increase from 2002 to 2009\n",
    "* The attributes of a beer that are most important to its overall review score are it's taste and palate, whilst aroma and appearance are not as large of factors"
   ]
  }
 ],
 "metadata": {
  "kernelspec": {
   "display_name": "Python 3",
   "language": "python",
   "name": "python3"
  },
  "language_info": {
   "codemirror_mode": {
    "name": "ipython",
    "version": 3
   },
   "file_extension": ".py",
   "mimetype": "text/x-python",
   "name": "python",
   "nbconvert_exporter": "python",
   "pygments_lexer": "ipython3",
   "version": "3.6.0"
  }
 },
 "nbformat": 4,
 "nbformat_minor": 2
}
