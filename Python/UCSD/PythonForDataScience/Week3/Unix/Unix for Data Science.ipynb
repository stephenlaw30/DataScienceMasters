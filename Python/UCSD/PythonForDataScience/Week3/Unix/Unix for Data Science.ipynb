{
 "cells": [
  {
   "cell_type": "markdown",
   "metadata": {},
   "source": [
    "# UNIX Commands for Data Science"
   ]
  },
  {
   "cell_type": "markdown",
   "metadata": {},
   "source": [
    "## Declare Filename"
   ]
  },
  {
   "cell_type": "code",
   "execution_count": 1,
   "metadata": {
    "collapsed": false
   },
   "outputs": [
    {
     "name": "stdout",
     "output_type": "stream",
     "text": [
      " Volume in drive C is OSDisk\n",
      " Volume Serial Number is 78F8-20FE\n",
      "\n",
      " Directory of C:\\Users\\NEWNSS\\Dropbox\\DataScienceMasters\\UCSD\\PythonForDataScience\\Week2\\UNIXDataFiles\n",
      "\n",
      "06/15/2017  12:06 PM    <DIR>          .\n",
      "06/15/2017  12:06 PM    <DIR>          ..\n",
      "06/14/2017  02:16 PM             6,148 .DS_Store\n",
      "06/15/2017  11:23 AM               179 all_fruits.txt\n",
      "06/14/2017  02:16 PM                64 fruits.txt\n",
      "06/15/2017  12:06 PM                64 fruits_all_caps.txt\n",
      "06/15/2017  10:09 AM               419 output.txt\n",
      "06/14/2017  02:16 PM         5,583,442 shakespeare.txt\n",
      "06/15/2017  10:02 AM                64 sorted_fruits.txt\n",
      "06/15/2017  11:35 AM               173 top_shakespeare_words.txt\n",
      "06/15/2017  12:05 PM                30 top_users.txt\n",
      "06/15/2017  10:03 AM                49 unique_fruits.txt\n",
      "              10 File(s)      5,590,632 bytes\n",
      "               2 Dir(s)  130,772,971,520 bytes free\n"
     ]
    }
   ],
   "source": [
    "!dir ..\\Week2\\UNIXDataFiles"
   ]
  },
  {
   "cell_type": "code",
   "execution_count": 2,
   "metadata": {
    "collapsed": false
   },
   "outputs": [
    {
     "name": "stdout",
     "output_type": "stream",
     "text": [
      "..\\Week2\\UNIXDataFiles\\shakespeare.txt\n",
      "..\\Week2\\UNIXDataFiles\\shakespeare.txt\n"
     ]
    }
   ],
   "source": [
    "# store filename in a variable + prefix w/ \"r\" to store it as a raw string\n",
    "filename = r\"..\\Week2\\UNIXDataFiles\\shakespeare.txt\"\n",
    "\n",
    "# UNIX print of variable contents\n",
    "!echo $filename\n",
    "\n",
    "# Python print of variable contents\n",
    "print(filename)"
   ]
  },
  {
   "cell_type": "markdown",
   "metadata": {},
   "source": [
    "## head and tail commands"
   ]
  },
  {
   "cell_type": "code",
   "execution_count": 1,
   "metadata": {
    "collapsed": false
   },
   "outputs": [
    {
     "name": "stderr",
     "output_type": "stream",
     "text": [
      "'head' is not recognized as an internal or external command,\n",
      "operable program or batch file.\n"
     ]
    }
   ],
   "source": [
    "#print(!more +5 $filename)\n",
    "\n",
    "!head -n 5 $filename"
   ]
  },
  {
   "cell_type": "code",
   "execution_count": 2,
   "metadata": {
    "collapsed": false
   },
   "outputs": [
    {
     "name": "stderr",
     "output_type": "stream",
     "text": [
      "'tail' is not recognized as an internal or external command,\n",
      "operable program or batch file.\n"
     ]
    }
   ],
   "source": [
    "!tail -n 5 $filename"
   ]
  },
  {
   "cell_type": "markdown",
   "metadata": {},
   "source": [
    "## word count"
   ]
  },
  {
   "cell_type": "code",
   "execution_count": 3,
   "metadata": {
    "collapsed": false
   },
   "outputs": [
    {
     "name": "stderr",
     "output_type": "stream",
     "text": [
      "'wc' is not recognized as an internal or external command,\n",
      "operable program or batch file.\n"
     ]
    }
   ],
   "source": [
    "!wc $filename #returns lines, words, chars and hte f ilename"
   ]
  },
  {
   "cell_type": "code",
   "execution_count": 4,
   "metadata": {
    "collapsed": false
   },
   "outputs": [
    {
     "name": "stderr",
     "output_type": "stream",
     "text": [
      "'wc' is not recognized as an internal or external command,\n",
      "operable program or batch file.\n"
     ]
    }
   ],
   "source": [
    "!wc -l $filename #returns just lines"
   ]
  },
  {
   "cell_type": "markdown",
   "metadata": {},
   "source": [
    "## cat"
   ]
  },
  {
   "cell_type": "code",
   "execution_count": 5,
   "metadata": {
    "collapsed": false
   },
   "outputs": [
    {
     "name": "stderr",
     "output_type": "stream",
     "text": [
      "'cat' is not recognized as an internal or external command,\n",
      "operable program or batch file.\n"
     ]
    }
   ],
   "source": [
    "!cat $filename | wc -l # pipe results of cat command into line count"
   ]
  },
  {
   "cell_type": "markdown",
   "metadata": {},
   "source": [
    "## grep"
   ]
  },
  {
   "cell_type": "code",
   "execution_count": 6,
   "metadata": {
    "collapsed": false
   },
   "outputs": [
    {
     "name": "stderr",
     "output_type": "stream",
     "text": [
      "'grep' is not recognized as an internal or external command,\n",
      "operable program or batch file.\n"
     ]
    }
   ],
   "source": [
    "!grep -i 'parchment' $filename # search for the word \"parchment\" + display all lines where it appears at least once"
   ]
  },
  {
   "cell_type": "code",
   "execution_count": 7,
   "metadata": {
    "collapsed": false
   },
   "outputs": [
    {
     "name": "stderr",
     "output_type": "stream",
     "text": [
      "'cat' is not recognized as an internal or external command,\n",
      "operable program or batch file.\n"
     ]
    }
   ],
   "source": [
    "# count how many lines were returned by grep\n",
    "# use -o to not bring in the full in + just return the word \"liberty\"\n",
    "\n",
    "!cat $filename | grep -o 'liberty' | wc -l"
   ]
  },
  {
   "cell_type": "markdown",
   "metadata": {},
   "source": [
    "## sed (stream editor)"
   ]
  },
  {
   "cell_type": "code",
   "execution_count": 8,
   "metadata": {
    "collapsed": false
   },
   "outputs": [
    {
     "name": "stderr",
     "output_type": "stream",
     "text": [
      "'sed' is not recognized as an internal or external command,\n",
      "operable program or batch file.\n",
      "'grep' is not recognized as an internal or external command,\n",
      "operable program or batch file.\n"
     ]
    }
   ],
   "source": [
    "# replace all occurences of 'parchment' w/ 'manuscript'\n",
    "# s/ = search for\n",
    "# /g = replace globally\n",
    "\n",
    "!sed -e 's/parchment/manuscript/g' $filename > temp.txt\n",
    "\n",
    "# get the lines w/ the replaced word\n",
    "\n",
    "!grep -i 'manuscript' temp.txt"
   ]
  },
  {
   "cell_type": "markdown",
   "metadata": {
    "collapsed": true
   },
   "source": [
    "## sort"
   ]
  },
  {
   "cell_type": "code",
   "execution_count": 9,
   "metadata": {
    "collapsed": false
   },
   "outputs": [
    {
     "name": "stderr",
     "output_type": "stream",
     "text": [
      "'head' is not recognized as an internal or external command,\n",
      "operable program or batch file.\n"
     ]
    }
   ],
   "source": [
    "# put the lines from above in ASC character order (LTIO - in the character order based on ASCII #'s)\n",
    "\n",
    "!head -n 3 $filename | sort"
   ]
  },
  {
   "cell_type": "code",
   "execution_count": null,
   "metadata": {
    "collapsed": true
   },
   "outputs": [],
   "source": [
    "# sort based on 2nd set of words\n",
    "# words are split into columns, seperated by ' ' (space-seperated)\n",
    "# so we sort on 2nd col (-k2), and make it case insensitive with '-f'\n",
    "\n",
    "!head -n 5 $filename | sort -f -t' ' -2"
   ]
  },
  {
   "cell_type": "code",
   "execution_count": null,
   "metadata": {
    "collapsed": true
   },
   "outputs": [],
   "source": [
    "# get the # of unique lines from sorted output\n",
    "\n",
    "!sort $filename | uniqu-u | wc -l"
   ]
  },
  {
   "cell_type": "markdown",
   "metadata": {},
   "source": [
    "# Putting it all together"
   ]
  },
  {
   "cell_type": "markdown",
   "metadata": {},
   "source": [
    "## Count most frequent words in the text via UNIX"
   ]
  },
  {
   "cell_type": "code",
   "execution_count": 10,
   "metadata": {
    "collapsed": false
   },
   "outputs": [
    {
     "name": "stderr",
     "output_type": "stream",
     "text": [
      "The system cannot find the file specified.\n"
     ]
    }
   ],
   "source": [
    "!sed -e 's/ /\\'$'\\n/g' < $filename | sort | uniq -c | sort -nr | head -15"
   ]
  },
  {
   "cell_type": "code",
   "execution_count": 12,
   "metadata": {
    "collapsed": false
   },
   "outputs": [
    {
     "name": "stderr",
     "output_type": "stream",
     "text": [
      "The system cannot find the file specified.\n"
     ]
    }
   ],
   "source": [
    "# write the above results to a file\n",
    "!sed -e 's/ /\\'$'\\n/g' < $filename | sort | uniq -c | sort -nr | head -15 > most_frequent_shakespeare_words_python.txt\n",
    "\n",
    "!cat most_frequent_shakespeare_words_python.txt"
   ]
  },
  {
   "cell_type": "markdown",
   "metadata": {},
   "source": [
    "## Plot the output file from above"
   ]
  },
  {
   "cell_type": "code",
   "execution_count": 14,
   "metadata": {
    "collapsed": false
   },
   "outputs": [
    {
     "data": {
      "text/plain": [
       "[<matplotlib.lines.Line2D at 0x7d4a710>]"
      ]
     },
     "execution_count": 14,
     "metadata": {},
     "output_type": "execute_result"
    },
    {
     "data": {
      "image/png": "[encoded data removed]",
      "text/plain": [
       "<matplotlib.figure.Figure at 0x7575710>"
      ]
     },
     "metadata": {},
     "output_type": "display_data"
    }
   ],
   "source": [
    "%matplotlib inline\n",
    "\n",
    "import matplotlib.pyplot as plt\n",
    "import csv\n",
    "\n",
    "# initiate list to hold x + values\n",
    "xTicks = []\n",
    "y = []\n",
    "\n",
    "# open connection in read mode in binary format\n",
    "with open('most_frequent_shakespeare_words_python.txt','r') as csv_file:\n",
    "    plots = csv.reader(csv_file, delimiter = ' ')\n",
    "    for row in plots:\n",
    "        y.append(int(row[-2]))\n",
    "        xTicks.append(str(row[-1]))\n",
    "        \n",
    "# remove count of spaces (line 1)\n",
    "y = y[1:]\n",
    "xTicks = xTicks[1:]\n",
    "\n",
    "# plot\n",
    "x = range(len(y))\n",
    "plt.figure(figsize = (10,10))\n",
    "plt.xticks(x, xTicks, rotation = 90)\n",
    "plt.plot(x,y,'*')"
   ]
  },
  {
   "cell_type": "code",
   "execution_count": null,
   "metadata": {
    "collapsed": true
   },
   "outputs": [],
   "source": []
  }
 ],
 "metadata": {
  "kernelspec": {
   "display_name": "Python 3",
   "language": "python",
   "name": "python3"
  },
  "language_info": {
   "codemirror_mode": {
    "name": "ipython",
    "version": 3
   },
   "file_extension": ".py",
   "mimetype": "text/x-python",
   "name": "python",
   "nbconvert_exporter": "python",
   "pygments_lexer": "ipython3",
   "version": "3.6.0"
  }
 },
 "nbformat": 4,
 "nbformat_minor": 2
}
