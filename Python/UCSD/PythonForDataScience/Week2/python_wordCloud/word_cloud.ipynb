{
 "cells": [
  {
   "cell_type": "code",
   "execution_count": 38,
   "metadata": {
    "collapsed": true
   },
   "outputs": [],
   "source": [
    "import collections"
   ]
  },
  {
   "cell_type": "code",
   "execution_count": 39,
   "metadata": {
    "collapsed": false
   },
   "outputs": [],
   "source": [
    "#open file connections\n",
    "\n",
    "file = open('./98-0.txt', encoding=\"utf8\")\n",
    "stopwords = set(line.strip() for line in open('./stopwords', encoding=\"utf8\"))"
   ]
  },
  {
   "cell_type": "code",
   "execution_count": 40,
   "metadata": {
    "collapsed": false
   },
   "outputs": [],
   "source": [
    "# create dictionary\n",
    "wordcount = {};"
   ]
  },
  {
   "cell_type": "code",
   "execution_count": 41,
   "metadata": {
    "collapsed": false
   },
   "outputs": [],
   "source": [
    "''' **Instantiate dictionary**\n",
    "        - For every word in the file, add to dictionary if it doesn't exist. If\n",
    "        - it does, increase the count.\n",
    "        - To eliminate duplicates, remember to split by *punctuation* + use case demiliters.'''\n",
    "\n",
    "#must READ() the file \n",
    "for word in file.read().lower().split():\n",
    "    #replace punctuation\n",
    "    word = word.replace(',','')\n",
    "    word = word.replace('“','')\n",
    "    word = word.replace('\\'','') #escape char\n",
    "    word = word.replace('.','')\n",
    "    word = word.replace('?','')\n",
    "    word = word.replace('!','')\n",
    "    word = word.replace(':','')\n",
    "    word = word.replace(';','')\n",
    "    word = word.replace(')','')\n",
    "    word = word.replace('(','')\n",
    "    \n",
    "    if word not in stopwords: #if it's not a stop word\n",
    "        if word not in wordcount: #if it's not already in the dictionary\n",
    "            wordcount[word] = 1\n",
    "        else:\n",
    "            wordcount[word] += 1"
   ]
  },
  {
   "cell_type": "code",
   "execution_count": 42,
   "metadata": {
    "collapsed": false
   },
   "outputs": [],
   "source": [
    "#sort dictionary by word count via .Counter() method from collections lib\n",
    "wordCount_sorted = collections.Counter(wordcount)"
   ]
  },
  {
   "cell_type": "code",
   "execution_count": 43,
   "metadata": {
    "collapsed": false,
    "scrolled": true
   },
   "outputs": [
    {
     "name": "stdout",
     "output_type": "stream",
     "text": [
      "said :  659\n",
      "mr :  620\n",
      "one :  427\n",
      "lorry :  322\n",
      "upon :  290\n",
      "will :  290\n",
      "defarge :  268\n",
      "man :  265\n",
      "little :  264\n",
      "time :  246\n",
      "hand :  241\n",
      "now :  233\n",
      "miss :  226\n",
      "two :  214\n",
      "know :  213\n"
     ]
    }
   ],
   "source": [
    "#print out top 15 words via .most_common() method from collections lib\n",
    "for word, count in wordCount_sorted.most_common(15):\n",
    "    print(word, ': ', count)"
   ]
  },
  {
   "cell_type": "code",
   "execution_count": null,
   "metadata": {
    "collapsed": true
   },
   "outputs": [],
   "source": []
  }
 ],
 "metadata": {
  "anaconda-cloud": {},
  "kernelspec": {
   "display_name": "Python [conda root]",
   "language": "python",
   "name": "conda-root-py"
  },
  "language_info": {
   "codemirror_mode": {
    "name": "ipython",
    "version": 3
   },
   "file_extension": ".py",
   "mimetype": "text/x-python",
   "name": "python",
   "nbconvert_exporter": "python",
   "pygments_lexer": "ipython3",
   "version": "3.5.2"
  }
 },
 "nbformat": 4,
 "nbformat_minor": 1
}
