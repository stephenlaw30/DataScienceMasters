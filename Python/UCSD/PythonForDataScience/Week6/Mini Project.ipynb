{
 "cells": [
  {
   "cell_type": "markdown",
   "metadata": {},
   "source": [
    "# Animated Movie Analysis\n",
    "\n",
    "\n",
    "## Environment Set-up\n",
    "\n",
    "First, we need to set up our environment by importing the **pandas**, **numpy**, **math**, and **matplotlib** libraries.\n",
    "\n",
    "Then, we need to use pandas' **read_csv** function to read in our datasets."
   ]
  },
  {
   "cell_type": "code",
   "execution_count": 3,
   "metadata": {
    "collapsed": true
   },
   "outputs": [],
   "source": [
    "import pandas as pd\n",
    "import numpy as np\n",
    "import matplotlib.pyplot as plt\n",
    "import math\n",
    "\n",
    "# load in data \n",
    "movies = pd.read_csv('C:/ml-20m/movies.csv', sep = ',')\n",
    "ratings = pd.read_csv('C:/ml-20m/ratings.csv', sep = ',', parse_dates = ['timestamp'])"
   ]
  },
  {
   "cell_type": "markdown",
   "metadata": {},
   "source": [
    "<p>Then, the first step after loading in the data is to inspect it quickly to get a quick idea of what the datasets contain.</p>"
   ]
  },
  {
   "cell_type": "code",
   "execution_count": 3,
   "metadata": {
    "collapsed": false
   },
   "outputs": [
    {
     "data": {
      "text/html": [
       "<div>\n",
       "<style>\n",
       "    .dataframe thead tr:only-child th {\n",
       "        text-align: right;\n",
       "    }\n",
       "\n",
       "    .dataframe thead th {\n",
       "        text-align: left;\n",
       "    }\n",
       "\n",
       "    .dataframe tbody tr th {\n",
       "        vertical-align: top;\n",
       "    }\n",
       "</style>\n",
       "<table border=\"1\" class=\"dataframe\">\n",
       "  <thead>\n",
       "    <tr style=\"text-align: right;\">\n",
       "      <th></th>\n",
       "      <th>movieId</th>\n",
       "      <th>title</th>\n",
       "      <th>genres</th>\n",
       "    </tr>\n",
       "  </thead>\n",
       "  <tbody>\n",
       "    <tr>\n",
       "      <th>0</th>\n",
       "      <td>1</td>\n",
       "      <td>Toy Story (1995)</td>\n",
       "      <td>Adventure|Animation|Children|Comedy|Fantasy</td>\n",
       "    </tr>\n",
       "    <tr>\n",
       "      <th>1</th>\n",
       "      <td>2</td>\n",
       "      <td>Jumanji (1995)</td>\n",
       "      <td>Adventure|Children|Fantasy</td>\n",
       "    </tr>\n",
       "    <tr>\n",
       "      <th>2</th>\n",
       "      <td>3</td>\n",
       "      <td>Grumpier Old Men (1995)</td>\n",
       "      <td>Comedy|Romance</td>\n",
       "    </tr>\n",
       "    <tr>\n",
       "      <th>3</th>\n",
       "      <td>4</td>\n",
       "      <td>Waiting to Exhale (1995)</td>\n",
       "      <td>Comedy|Drama|Romance</td>\n",
       "    </tr>\n",
       "    <tr>\n",
       "      <th>4</th>\n",
       "      <td>5</td>\n",
       "      <td>Father of the Bride Part II (1995)</td>\n",
       "      <td>Comedy</td>\n",
       "    </tr>\n",
       "  </tbody>\n",
       "</table>\n",
       "</div>"
      ],
      "text/plain": [
       "   movieId                               title  \\\n",
       "0        1                    Toy Story (1995)   \n",
       "1        2                      Jumanji (1995)   \n",
       "2        3             Grumpier Old Men (1995)   \n",
       "3        4            Waiting to Exhale (1995)   \n",
       "4        5  Father of the Bride Part II (1995)   \n",
       "\n",
       "                                        genres  \n",
       "0  Adventure|Animation|Children|Comedy|Fantasy  \n",
       "1                   Adventure|Children|Fantasy  \n",
       "2                               Comedy|Romance  \n",
       "3                         Comedy|Drama|Romance  \n",
       "4                                       Comedy  "
      ]
     },
     "execution_count": 3,
     "metadata": {},
     "output_type": "execute_result"
    }
   ],
   "source": [
    "movies.head()"
   ]
  },
  {
   "cell_type": "markdown",
   "metadata": {},
   "source": [
    "So in the **movies** dataset, I've got a unique identifer in **movieId**, and then the **title** of the movie as well as the genre(s) it belongs to."
   ]
  },
  {
   "cell_type": "markdown",
   "metadata": {
    "collapsed": false
   },
   "source": [
    "ratings.head()"
   ]
  },
  {
   "cell_type": "markdown",
   "metadata": {},
   "source": [
    "Then for the **ratings** dataset, I've got movieId again as well as a unique indentifier for a user in **userId**, and then a value for each rating a specific user has given to a specific movie, including the UTC (seconds since midnight of January 1, 1970) **timestamp** of the rating.\n",
    "\n",
    "\n",
    "Now, for my primary research of question of comparing animated movies directed at children and those animated movies that are *not* directed at children, the first step would be to gather all movies that contain \"animation\" in the genre field."
   ]
  },
  {
   "cell_type": "code",
   "execution_count": 4,
   "metadata": {
    "collapsed": false
   },
   "outputs": [
    {
     "data": {
      "text/plain": [
       "(1027, 3)"
      ]
     },
     "execution_count": 4,
     "metadata": {},
     "output_type": "execute_result"
    }
   ],
   "source": [
    "# get all animated movies\n",
    "animated = movies[movies['genres'].str.contains('Animation')]\n",
    "animated.shape"
   ]
  },
  {
   "cell_type": "markdown",
   "metadata": {},
   "source": [
    "<p>So I've got just over 1000 animated movies in this dataset. Now I need to add in the ratings for these movies by joining in the ratings table on the movieId field</p>"
   ]
  },
  {
   "cell_type": "code",
   "execution_count": 5,
   "metadata": {
    "collapsed": false
   },
   "outputs": [
    {
     "data": {
      "text/html": [
       "<div>\n",
       "<style>\n",
       "    .dataframe thead tr:only-child th {\n",
       "        text-align: right;\n",
       "    }\n",
       "\n",
       "    .dataframe thead th {\n",
       "        text-align: left;\n",
       "    }\n",
       "\n",
       "    .dataframe tbody tr th {\n",
       "        vertical-align: top;\n",
       "    }\n",
       "</style>\n",
       "<table border=\"1\" class=\"dataframe\">\n",
       "  <thead>\n",
       "    <tr style=\"text-align: right;\">\n",
       "      <th></th>\n",
       "      <th>movieId</th>\n",
       "      <th>title</th>\n",
       "      <th>genres</th>\n",
       "      <th>userId</th>\n",
       "      <th>rating</th>\n",
       "      <th>timestamp</th>\n",
       "    </tr>\n",
       "  </thead>\n",
       "  <tbody>\n",
       "    <tr>\n",
       "      <th>0</th>\n",
       "      <td>1</td>\n",
       "      <td>Toy Story (1995)</td>\n",
       "      <td>Adventure|Animation|Children|Comedy|Fantasy</td>\n",
       "      <td>3</td>\n",
       "      <td>4.0</td>\n",
       "      <td>944919407</td>\n",
       "    </tr>\n",
       "    <tr>\n",
       "      <th>1</th>\n",
       "      <td>1</td>\n",
       "      <td>Toy Story (1995)</td>\n",
       "      <td>Adventure|Animation|Children|Comedy|Fantasy</td>\n",
       "      <td>6</td>\n",
       "      <td>5.0</td>\n",
       "      <td>858275452</td>\n",
       "    </tr>\n",
       "    <tr>\n",
       "      <th>2</th>\n",
       "      <td>1</td>\n",
       "      <td>Toy Story (1995)</td>\n",
       "      <td>Adventure|Animation|Children|Comedy|Fantasy</td>\n",
       "      <td>8</td>\n",
       "      <td>4.0</td>\n",
       "      <td>833981871</td>\n",
       "    </tr>\n",
       "    <tr>\n",
       "      <th>3</th>\n",
       "      <td>1</td>\n",
       "      <td>Toy Story (1995)</td>\n",
       "      <td>Adventure|Animation|Children|Comedy|Fantasy</td>\n",
       "      <td>10</td>\n",
       "      <td>4.0</td>\n",
       "      <td>943497887</td>\n",
       "    </tr>\n",
       "    <tr>\n",
       "      <th>4</th>\n",
       "      <td>1</td>\n",
       "      <td>Toy Story (1995)</td>\n",
       "      <td>Adventure|Animation|Children|Comedy|Fantasy</td>\n",
       "      <td>11</td>\n",
       "      <td>4.5</td>\n",
       "      <td>1230858821</td>\n",
       "    </tr>\n",
       "    <tr>\n",
       "      <th>5</th>\n",
       "      <td>1</td>\n",
       "      <td>Toy Story (1995)</td>\n",
       "      <td>Adventure|Animation|Children|Comedy|Fantasy</td>\n",
       "      <td>12</td>\n",
       "      <td>4.0</td>\n",
       "      <td>859063718</td>\n",
       "    </tr>\n",
       "    <tr>\n",
       "      <th>6</th>\n",
       "      <td>1</td>\n",
       "      <td>Toy Story (1995)</td>\n",
       "      <td>Adventure|Animation|Children|Comedy|Fantasy</td>\n",
       "      <td>13</td>\n",
       "      <td>4.0</td>\n",
       "      <td>849082891</td>\n",
       "    </tr>\n",
       "    <tr>\n",
       "      <th>7</th>\n",
       "      <td>1</td>\n",
       "      <td>Toy Story (1995)</td>\n",
       "      <td>Adventure|Animation|Children|Comedy|Fantasy</td>\n",
       "      <td>14</td>\n",
       "      <td>4.5</td>\n",
       "      <td>1225311239</td>\n",
       "    </tr>\n",
       "    <tr>\n",
       "      <th>8</th>\n",
       "      <td>1</td>\n",
       "      <td>Toy Story (1995)</td>\n",
       "      <td>Adventure|Animation|Children|Comedy|Fantasy</td>\n",
       "      <td>16</td>\n",
       "      <td>3.0</td>\n",
       "      <td>990969772</td>\n",
       "    </tr>\n",
       "    <tr>\n",
       "      <th>9</th>\n",
       "      <td>1</td>\n",
       "      <td>Toy Story (1995)</td>\n",
       "      <td>Adventure|Animation|Children|Comedy|Fantasy</td>\n",
       "      <td>19</td>\n",
       "      <td>5.0</td>\n",
       "      <td>855176628</td>\n",
       "    </tr>\n",
       "  </tbody>\n",
       "</table>\n",
       "</div>"
      ],
      "text/plain": [
       "   movieId             title                                       genres  \\\n",
       "0        1  Toy Story (1995)  Adventure|Animation|Children|Comedy|Fantasy   \n",
       "1        1  Toy Story (1995)  Adventure|Animation|Children|Comedy|Fantasy   \n",
       "2        1  Toy Story (1995)  Adventure|Animation|Children|Comedy|Fantasy   \n",
       "3        1  Toy Story (1995)  Adventure|Animation|Children|Comedy|Fantasy   \n",
       "4        1  Toy Story (1995)  Adventure|Animation|Children|Comedy|Fantasy   \n",
       "5        1  Toy Story (1995)  Adventure|Animation|Children|Comedy|Fantasy   \n",
       "6        1  Toy Story (1995)  Adventure|Animation|Children|Comedy|Fantasy   \n",
       "7        1  Toy Story (1995)  Adventure|Animation|Children|Comedy|Fantasy   \n",
       "8        1  Toy Story (1995)  Adventure|Animation|Children|Comedy|Fantasy   \n",
       "9        1  Toy Story (1995)  Adventure|Animation|Children|Comedy|Fantasy   \n",
       "\n",
       "   userId  rating   timestamp  \n",
       "0       3     4.0   944919407  \n",
       "1       6     5.0   858275452  \n",
       "2       8     4.0   833981871  \n",
       "3      10     4.0   943497887  \n",
       "4      11     4.5  1230858821  \n",
       "5      12     4.0   859063718  \n",
       "6      13     4.0   849082891  \n",
       "7      14     4.5  1225311239  \n",
       "8      16     3.0   990969772  \n",
       "9      19     5.0   855176628  "
      ]
     },
     "execution_count": 5,
     "metadata": {},
     "output_type": "execute_result"
    }
   ],
   "source": [
    "animated = pd.merge(animated, ratings, on = 'movieId', how = 'inner')\n",
    "animated.head(10)"
   ]
  },
  {
   "cell_type": "markdown",
   "metadata": {},
   "source": [
    "So we can see that I've got a bunch of ratings for Toy Story now in my animated movies subset. And for my research question, I don't need any info about users, so I can remove userId from my dataset. \n",
    "\n",
    "I am going to keep timestamp in there for now, as I may use this in a later analysis of animated movie ratings over time."
   ]
  },
  {
   "cell_type": "code",
   "execution_count": 6,
   "metadata": {
    "collapsed": false
   },
   "outputs": [
    {
     "data": {
      "text/html": [
       "<div>\n",
       "<style>\n",
       "    .dataframe thead tr:only-child th {\n",
       "        text-align: right;\n",
       "    }\n",
       "\n",
       "    .dataframe thead th {\n",
       "        text-align: left;\n",
       "    }\n",
       "\n",
       "    .dataframe tbody tr th {\n",
       "        vertical-align: top;\n",
       "    }\n",
       "</style>\n",
       "<table border=\"1\" class=\"dataframe\">\n",
       "  <thead>\n",
       "    <tr style=\"text-align: right;\">\n",
       "      <th></th>\n",
       "      <th>movieId</th>\n",
       "      <th>title</th>\n",
       "      <th>genres</th>\n",
       "      <th>rating</th>\n",
       "      <th>timestamp</th>\n",
       "    </tr>\n",
       "  </thead>\n",
       "  <tbody>\n",
       "    <tr>\n",
       "      <th>0</th>\n",
       "      <td>1</td>\n",
       "      <td>Toy Story (1995)</td>\n",
       "      <td>Adventure|Animation|Children|Comedy|Fantasy</td>\n",
       "      <td>4.0</td>\n",
       "      <td>944919407</td>\n",
       "    </tr>\n",
       "    <tr>\n",
       "      <th>1</th>\n",
       "      <td>1</td>\n",
       "      <td>Toy Story (1995)</td>\n",
       "      <td>Adventure|Animation|Children|Comedy|Fantasy</td>\n",
       "      <td>5.0</td>\n",
       "      <td>858275452</td>\n",
       "    </tr>\n",
       "    <tr>\n",
       "      <th>2</th>\n",
       "      <td>1</td>\n",
       "      <td>Toy Story (1995)</td>\n",
       "      <td>Adventure|Animation|Children|Comedy|Fantasy</td>\n",
       "      <td>4.0</td>\n",
       "      <td>833981871</td>\n",
       "    </tr>\n",
       "    <tr>\n",
       "      <th>3</th>\n",
       "      <td>1</td>\n",
       "      <td>Toy Story (1995)</td>\n",
       "      <td>Adventure|Animation|Children|Comedy|Fantasy</td>\n",
       "      <td>4.0</td>\n",
       "      <td>943497887</td>\n",
       "    </tr>\n",
       "    <tr>\n",
       "      <th>4</th>\n",
       "      <td>1</td>\n",
       "      <td>Toy Story (1995)</td>\n",
       "      <td>Adventure|Animation|Children|Comedy|Fantasy</td>\n",
       "      <td>4.5</td>\n",
       "      <td>1230858821</td>\n",
       "    </tr>\n",
       "  </tbody>\n",
       "</table>\n",
       "</div>"
      ],
      "text/plain": [
       "   movieId             title                                       genres  \\\n",
       "0        1  Toy Story (1995)  Adventure|Animation|Children|Comedy|Fantasy   \n",
       "1        1  Toy Story (1995)  Adventure|Animation|Children|Comedy|Fantasy   \n",
       "2        1  Toy Story (1995)  Adventure|Animation|Children|Comedy|Fantasy   \n",
       "3        1  Toy Story (1995)  Adventure|Animation|Children|Comedy|Fantasy   \n",
       "4        1  Toy Story (1995)  Adventure|Animation|Children|Comedy|Fantasy   \n",
       "\n",
       "   rating   timestamp  \n",
       "0     4.0   944919407  \n",
       "1     5.0   858275452  \n",
       "2     4.0   833981871  \n",
       "3     4.0   943497887  \n",
       "4     4.5  1230858821  "
      ]
     },
     "execution_count": 6,
     "metadata": {},
     "output_type": "execute_result"
    }
   ],
   "source": [
    "del animated['userId']\n",
    "animated.head(5)"
   ]
  },
  {
   "cell_type": "markdown",
   "metadata": {},
   "source": [
    "Now we need to split this already-subsetted dataset into 2 distinct subsets, one for those animated movies who also fall into the children's genre, and then all those that do not fall into that genre."
   ]
  },
  {
   "cell_type": "code",
   "execution_count": 8,
   "metadata": {
    "collapsed": false
   },
   "outputs": [
    {
     "data": {
      "text/plain": [
       "(922619, 5)"
      ]
     },
     "execution_count": 8,
     "metadata": {},
     "output_type": "execute_result"
    }
   ],
   "source": [
    "# get all animated CHILDREN's movies\n",
    "animated_children = animated[animated['genres'].str.contains('Children')]\n",
    "animated_children.shape"
   ]
  },
  {
   "cell_type": "code",
   "execution_count": 19,
   "metadata": {
    "collapsed": false
   },
   "outputs": [
    {
     "data": {
      "text/plain": [
       "Index(['Toy Story (1995)', 'Aladdin (1992)', 'Lion King, The (1994)',\n",
       "       'Beauty and the Beast (1991)', 'Shrek (2001)'],\n",
       "      dtype='object')"
      ]
     },
     "execution_count": 19,
     "metadata": {},
     "output_type": "execute_result"
    }
   ],
   "source": [
    "animated_children['title'].value_counts().head().index"
   ]
  },
  {
   "cell_type": "markdown",
   "metadata": {},
   "source": [
    "So, we've got over 900 thousand records for animated children's movies ratings, and, big shocker, the first couple of animated children's movies we get back are Disney classics.\n",
    "\n",
    "Now to get all those animated movies where \"children\" is *not* one of the genres under which it falls."
   ]
  },
  {
   "cell_type": "code",
   "execution_count": 46,
   "metadata": {
    "collapsed": false
   },
   "outputs": [
    {
     "data": {
      "text/plain": [
       "(217857, 5)"
      ]
     },
     "execution_count": 46,
     "metadata": {},
     "output_type": "execute_result"
    }
   ],
   "source": [
    "# all animated NON-CHILDREN's movies\n",
    "animated_non_children = animated[~animated['genres'].str.contains('Children')]\n",
    "animated_non_children.shape"
   ]
  },
  {
   "cell_type": "code",
   "execution_count": 22,
   "metadata": {
    "collapsed": false
   },
   "outputs": [
    {
     "data": {
      "text/plain": [
       "Index(['South Park: Bigger, Longer and Uncut (1999)',\n",
       "       'Spirited Away (Sen to Chihiro no kamikakushi) (2001)',\n",
       "       'Princess Mononoke (Mononoke-hime) (1997)',\n",
       "       'Beavis and Butt-Head Do America (1996)', 'Akira (1988)'],\n",
       "      dtype='object')"
      ]
     },
     "execution_count": 22,
     "metadata": {},
     "output_type": "execute_result"
    }
   ],
   "source": [
    "animated_non_children['title'].value_counts().head().index"
   ]
  },
  {
   "cell_type": "markdown",
   "metadata": {},
   "source": [
    "And we get over 200 thousand records for non-children's animated movie ratings, and then we see a couple examples of those movies (although I feel that Spirited Away can be argued as a children's movie, but maybe it really wasn't created and marketed as so).\n",
    "\n",
    "Now we can just get a quick statistical summary of each of our new subsets."
   ]
  },
  {
   "cell_type": "code",
   "execution_count": 12,
   "metadata": {
    "collapsed": false
   },
   "outputs": [
    {
     "data": {
      "text/plain": [
       "count    922619.000000\n",
       "mean          3.604636\n",
       "std           1.000843\n",
       "min           0.500000\n",
       "25%           3.000000\n",
       "50%           4.000000\n",
       "75%           4.000000\n",
       "max           5.000000\n",
       "Name: rating, dtype: float64"
      ]
     },
     "execution_count": 12,
     "metadata": {},
     "output_type": "execute_result"
    }
   ],
   "source": [
    "animated_children['rating'].describe()"
   ]
  },
  {
   "cell_type": "code",
   "execution_count": 13,
   "metadata": {
    "collapsed": false
   },
   "outputs": [
    {
     "data": {
      "text/plain": [
       "count    217857.000000\n",
       "mean          3.671945\n",
       "std           1.029405\n",
       "min           0.500000\n",
       "25%           3.000000\n",
       "50%           4.000000\n",
       "75%           4.500000\n",
       "max           5.000000\n",
       "Name: rating, dtype: float64"
      ]
     },
     "execution_count": 13,
     "metadata": {},
     "output_type": "execute_result"
    }
   ],
   "source": [
    "animated_non_children['rating'].describe()"
   ]
  },
  {
   "cell_type": "markdown",
   "metadata": {},
   "source": [
    "So, it looks like, on average, animated movies not directed towards children are more highly rated, but this could be due to a smaller sample size, and also we don't know if these datsets are normally distributed just yet, so the mean might not be the best measure of center here.\n",
    "\n",
    "So let's look at the distributions of each dataset to get an idea of how the ratings spread out."
   ]
  },
  {
   "cell_type": "code",
   "execution_count": 53,
   "metadata": {
    "collapsed": false
   },
   "outputs": [
    {
     "data": {
      "image/png": "[encoded data removed]",
      "text/plain": [
       "<matplotlib.figure.Figure at 0xb3f9cf8>"
      ]
     },
     "metadata": {},
     "output_type": "display_data"
    }
   ],
   "source": [
    "fig, axes = plt.subplots(nrows=1, ncols=2, figsize=(15,6)) # 2 resulting objects\n",
    "\n",
    "#plt.subplot(1,2,1)\n",
    "\n",
    "axes[0].hist(animated_children['rating'], 10, normed = False, facecolor = 'green')\n",
    "# label the axis and title the plot\n",
    "axes[0].set_xlabel('Rating')\n",
    "axes[0].set_ylabel('Count')\n",
    "axes[0].set_title('Animated Children\\'s Movie Ratings') # More on color options later\n",
    "#axes[0].grid(True)\n",
    "\n",
    "axes[1].hist(animated_non_children['rating'], 10, normed = False, facecolor = 'blue')\n",
    "# label the axis and title the plot\n",
    "axes[1].set_xlabel('Rating')\n",
    "axes[1].set_ylabel('Count')\n",
    "axes[1].set_title('Animated Non-Children\\'s Movie Ratings') # More on color options later\n",
    "#axes[1].grid(True)\n",
    "\n",
    "plt.show()"
   ]
  },
  {
   "cell_type": "markdown",
   "metadata": {},
   "source": [
    "So, both of these datasets are *not* normally distributed, and in fact are left/negatively-skewed. Therefore, the mean is most likely not the best measure of center for my analysis. \n",
    "\n",
    "There are a couple of options to go forward with not, and one would be to do a **logarithmic transformation** of the ratings field to try and get a normal distribution out of it.\n",
    "\n",
    "Let's try that now."
   ]
  },
  {
   "cell_type": "code",
   "execution_count": 67,
   "metadata": {
    "collapsed": false
   },
   "outputs": [
    {
     "data": {
      "text/html": [
       "<div>\n",
       "<style>\n",
       "    .dataframe thead tr:only-child th {\n",
       "        text-align: right;\n",
       "    }\n",
       "\n",
       "    .dataframe thead th {\n",
       "        text-align: left;\n",
       "    }\n",
       "\n",
       "    .dataframe tbody tr th {\n",
       "        vertical-align: top;\n",
       "    }\n",
       "</style>\n",
       "<table border=\"1\" class=\"dataframe\">\n",
       "  <thead>\n",
       "    <tr style=\"text-align: right;\">\n",
       "      <th></th>\n",
       "      <th>movieId</th>\n",
       "      <th>title</th>\n",
       "      <th>genres</th>\n",
       "      <th>rating</th>\n",
       "      <th>timestamp</th>\n",
       "      <th>rating_log</th>\n",
       "    </tr>\n",
       "  </thead>\n",
       "  <tbody>\n",
       "    <tr>\n",
       "      <th>0</th>\n",
       "      <td>1</td>\n",
       "      <td>Toy Story (1995)</td>\n",
       "      <td>Adventure|Animation|Children|Comedy|Fantasy</td>\n",
       "      <td>4.0</td>\n",
       "      <td>944919407</td>\n",
       "      <td>0.602060</td>\n",
       "    </tr>\n",
       "    <tr>\n",
       "      <th>1</th>\n",
       "      <td>1</td>\n",
       "      <td>Toy Story (1995)</td>\n",
       "      <td>Adventure|Animation|Children|Comedy|Fantasy</td>\n",
       "      <td>5.0</td>\n",
       "      <td>858275452</td>\n",
       "      <td>0.698970</td>\n",
       "    </tr>\n",
       "    <tr>\n",
       "      <th>2</th>\n",
       "      <td>1</td>\n",
       "      <td>Toy Story (1995)</td>\n",
       "      <td>Adventure|Animation|Children|Comedy|Fantasy</td>\n",
       "      <td>4.0</td>\n",
       "      <td>833981871</td>\n",
       "      <td>0.602060</td>\n",
       "    </tr>\n",
       "    <tr>\n",
       "      <th>3</th>\n",
       "      <td>1</td>\n",
       "      <td>Toy Story (1995)</td>\n",
       "      <td>Adventure|Animation|Children|Comedy|Fantasy</td>\n",
       "      <td>4.0</td>\n",
       "      <td>943497887</td>\n",
       "      <td>0.602060</td>\n",
       "    </tr>\n",
       "    <tr>\n",
       "      <th>4</th>\n",
       "      <td>1</td>\n",
       "      <td>Toy Story (1995)</td>\n",
       "      <td>Adventure|Animation|Children|Comedy|Fantasy</td>\n",
       "      <td>4.5</td>\n",
       "      <td>1230858821</td>\n",
       "      <td>0.653213</td>\n",
       "    </tr>\n",
       "  </tbody>\n",
       "</table>\n",
       "</div>"
      ],
      "text/plain": [
       "   movieId             title                                       genres  \\\n",
       "0        1  Toy Story (1995)  Adventure|Animation|Children|Comedy|Fantasy   \n",
       "1        1  Toy Story (1995)  Adventure|Animation|Children|Comedy|Fantasy   \n",
       "2        1  Toy Story (1995)  Adventure|Animation|Children|Comedy|Fantasy   \n",
       "3        1  Toy Story (1995)  Adventure|Animation|Children|Comedy|Fantasy   \n",
       "4        1  Toy Story (1995)  Adventure|Animation|Children|Comedy|Fantasy   \n",
       "\n",
       "   rating   timestamp  rating_log  \n",
       "0     4.0   944919407    0.602060  \n",
       "1     5.0   858275452    0.698970  \n",
       "2     4.0   833981871    0.602060  \n",
       "3     4.0   943497887    0.602060  \n",
       "4     4.5  1230858821    0.653213  "
      ]
     },
     "execution_count": 67,
     "metadata": {},
     "output_type": "execute_result"
    }
   ],
   "source": [
    "import warnings\n",
    "warnings.filterwarnings('ignore') \n",
    "\n",
    "animated_children['rating_log'] = np.log10(animated_children.loc[:,'rating'])\n",
    "animated_children.head(5)"
   ]
  },
  {
   "cell_type": "code",
   "execution_count": 68,
   "metadata": {
    "collapsed": false
   },
   "outputs": [
    {
     "data": {
      "text/html": [
       "<div>\n",
       "<style>\n",
       "    .dataframe thead tr:only-child th {\n",
       "        text-align: right;\n",
       "    }\n",
       "\n",
       "    .dataframe thead th {\n",
       "        text-align: left;\n",
       "    }\n",
       "\n",
       "    .dataframe tbody tr th {\n",
       "        vertical-align: top;\n",
       "    }\n",
       "</style>\n",
       "<table border=\"1\" class=\"dataframe\">\n",
       "  <thead>\n",
       "    <tr style=\"text-align: right;\">\n",
       "      <th></th>\n",
       "      <th>movieId</th>\n",
       "      <th>title</th>\n",
       "      <th>genres</th>\n",
       "      <th>rating</th>\n",
       "      <th>timestamp</th>\n",
       "      <th>rating_log</th>\n",
       "    </tr>\n",
       "  </thead>\n",
       "  <tbody>\n",
       "    <tr>\n",
       "      <th>107829</th>\n",
       "      <td>392</td>\n",
       "      <td>Secret Adventures of Tom Thumb, The (1993)</td>\n",
       "      <td>Adventure|Animation</td>\n",
       "      <td>1.0</td>\n",
       "      <td>992545537</td>\n",
       "      <td>0.00000</td>\n",
       "    </tr>\n",
       "    <tr>\n",
       "      <th>107830</th>\n",
       "      <td>392</td>\n",
       "      <td>Secret Adventures of Tom Thumb, The (1993)</td>\n",
       "      <td>Adventure|Animation</td>\n",
       "      <td>1.0</td>\n",
       "      <td>868840936</td>\n",
       "      <td>0.00000</td>\n",
       "    </tr>\n",
       "    <tr>\n",
       "      <th>107831</th>\n",
       "      <td>392</td>\n",
       "      <td>Secret Adventures of Tom Thumb, The (1993)</td>\n",
       "      <td>Adventure|Animation</td>\n",
       "      <td>4.0</td>\n",
       "      <td>1131798793</td>\n",
       "      <td>0.60206</td>\n",
       "    </tr>\n",
       "    <tr>\n",
       "      <th>107832</th>\n",
       "      <td>392</td>\n",
       "      <td>Secret Adventures of Tom Thumb, The (1993)</td>\n",
       "      <td>Adventure|Animation</td>\n",
       "      <td>5.0</td>\n",
       "      <td>875922590</td>\n",
       "      <td>0.69897</td>\n",
       "    </tr>\n",
       "    <tr>\n",
       "      <th>107833</th>\n",
       "      <td>392</td>\n",
       "      <td>Secret Adventures of Tom Thumb, The (1993)</td>\n",
       "      <td>Adventure|Animation</td>\n",
       "      <td>5.0</td>\n",
       "      <td>846421792</td>\n",
       "      <td>0.69897</td>\n",
       "    </tr>\n",
       "  </tbody>\n",
       "</table>\n",
       "</div>"
      ],
      "text/plain": [
       "        movieId                                       title  \\\n",
       "107829      392  Secret Adventures of Tom Thumb, The (1993)   \n",
       "107830      392  Secret Adventures of Tom Thumb, The (1993)   \n",
       "107831      392  Secret Adventures of Tom Thumb, The (1993)   \n",
       "107832      392  Secret Adventures of Tom Thumb, The (1993)   \n",
       "107833      392  Secret Adventures of Tom Thumb, The (1993)   \n",
       "\n",
       "                     genres  rating   timestamp  rating_log  \n",
       "107829  Adventure|Animation     1.0   992545537     0.00000  \n",
       "107830  Adventure|Animation     1.0   868840936     0.00000  \n",
       "107831  Adventure|Animation     4.0  1131798793     0.60206  \n",
       "107832  Adventure|Animation     5.0   875922590     0.69897  \n",
       "107833  Adventure|Animation     5.0   846421792     0.69897  "
      ]
     },
     "execution_count": 68,
     "metadata": {},
     "output_type": "execute_result"
    }
   ],
   "source": [
    "animated_non_children['rating_log'] = np.log10(animated_non_children.loc[:,'rating'])\n",
    "animated_non_children.head(5)"
   ]
  },
  {
   "cell_type": "code",
   "execution_count": 136,
   "metadata": {
    "collapsed": false
   },
   "outputs": [
    {
     "data": {
      "image/png": "[encoded data removed]",
      "text/plain": [
       "<matplotlib.figure.Figure at 0xafba358>"
      ]
     },
     "metadata": {},
     "output_type": "display_data"
    }
   ],
   "source": [
    "fig, axes = plt.subplots(nrows=1, ncols=2, figsize=(15,6)) # 2 resulting objects\n",
    "\n",
    "#plt.subplot(1,2,1)\n",
    "\n",
    "axes[0].hist(animated_children['rating_log'], 10, normed = False, facecolor = 'lime')\n",
    "# label the axis and title the plot\n",
    "axes[0].set_xlabel('Logarithmic Rating')\n",
    "axes[0].set_ylabel('Count')\n",
    "axes[0].set_title('Animated Children\\'s Movie Ratings') # More on color options later\n",
    "#axes[0].grid(True)\n",
    "\n",
    "axes[1].hist(animated_non_children['rating_log'], 10, normed = False, facecolor = 'blue')\n",
    "# label the axis and title the plot\n",
    "axes[1].set_xlabel('Logarithmic Rating')\n",
    "axes[1].set_ylabel('Count')\n",
    "axes[1].set_title('Animated Non-Children\\'s Movie Ratings') # More on color options later\n",
    "#axes[1].grid(True)\n",
    "\n",
    "plt.show()"
   ]
  },
  {
   "cell_type": "markdown",
   "metadata": {},
   "source": [
    "Oh my goodness, so that didn't work at all. It actually seemed to make it *worse*. \n",
    "\n",
    "Instead, I'm going to create sampling distributions of each dataset via a function to take "
   ]
  },
  {
   "cell_type": "code",
   "execution_count": 82,
   "metadata": {
    "collapsed": false
   },
   "outputs": [],
   "source": [
    "def create_sampling_distribution(df,listArg):\n",
    "    i = 0\n",
    "    while (i < 200):\n",
    "        x = np.array(df['rating'].sample(n=100)).mean()\n",
    "        listArg.append(float(round(x,2)))\n",
    "        i += 1\n",
    "#children_means[:5]"
   ]
  },
  {
   "cell_type": "code",
   "execution_count": 96,
   "metadata": {
    "collapsed": false
   },
   "outputs": [],
   "source": [
    "children_means = []\n",
    "non_children_means = []\n",
    "\n",
    "create_sampling_distribution(animated_children,children_means)\n",
    "create_sampling_distribution(animated_non_children,non_children_means)\n",
    "#len(non_children_mean)"
   ]
  },
  {
   "cell_type": "code",
   "execution_count": 78,
   "metadata": {
    "collapsed": false
   },
   "outputs": [
    {
     "data": {
      "text/plain": [
       "[3.61, 3.56, 3.64, 3.6, 3.74]"
      ]
     },
     "execution_count": 78,
     "metadata": {},
     "output_type": "execute_result"
    }
   ],
   "source": [
    "children_means[:5]"
   ]
  },
  {
   "cell_type": "code",
   "execution_count": 97,
   "metadata": {
    "collapsed": false
   },
   "outputs": [
    {
     "data": {
      "text/plain": [
       "[3.61, 3.92, 3.64, 3.69, 3.63]"
      ]
     },
     "execution_count": 97,
     "metadata": {},
     "output_type": "execute_result"
    }
   ],
   "source": [
    "non_children_means[:5]"
   ]
  },
  {
   "cell_type": "code",
   "execution_count": 141,
   "metadata": {
    "collapsed": false
   },
   "outputs": [
    {
     "data": {
      "image/png": "[encoded data removed]",
      "text/plain": [
       "<matplotlib.figure.Figure at 0xba7a208>"
      ]
     },
     "metadata": {},
     "output_type": "display_data"
    }
   ],
   "source": [
    "fig, axes = plt.subplots(nrows=1, ncols=2, figsize=(15,6)) # 2 resulting objects\n",
    "\n",
    "#plt.subplot(1,2,1)\n",
    "\n",
    "axes[0].hist(children_means, 10, normed = False, facecolor = 'lime')\n",
    "# label the axis and title the plot\n",
    "axes[0].set_xlabel('Rating')\n",
    "axes[0].set_ylabel('Count')\n",
    "axes[0].set_title('Sample Animated Children\\'s Movie Ratings') # More on color options later\n",
    "#axes[0].grid(True)\n",
    "\n",
    "axes[1].hist(non_children_means, 10, normed = False, facecolor = 'blue')\n",
    "# label the axis and title the plot\n",
    "axes[1].set_xlabel('Rating')\n",
    "axes[1].set_ylabel('Count')\n",
    "axes[1].set_title('Sample Animated Non-Children\\'s Movie Ratings') # More on color options later\n",
    "#axes[1].grid(True)\n",
    "\n",
    "plt.show()\n",
    "fig.savefig('animatedMovieSamplingDistributions.png')"
   ]
  },
  {
   "cell_type": "markdown",
   "metadata": {
    "collapsed": false
   },
   "source": [
    "Okay, cool, so these samples now seem relatively normal, and we can work with these in a **independent samples t-test** to see if these 2 distributions differ in a significant amount."
   ]
  },
  {
   "cell_type": "code",
   "execution_count": 128,
   "metadata": {
    "collapsed": false
   },
   "outputs": [],
   "source": [
    "# mu is from population = all animated movies\n",
    "x_children = round(float(np.float64(children_means).mean()),3)\n",
    "x_adult = round(float(np.float64(non_children_means).mean()),3)\n",
    "\n",
    "degFreedom = (len(children_means) + len(non_children_means)) - 2\n",
    "\n",
    "s_children = round(float(np.float64(children_means).std()),3)\n",
    "s_adult = round(float(np.float64(non_children_means).std()),3)\n",
    "\n",
    "stdErr = round(math.sqrt(s_children**2/len(children_means)) + (s_adult**2/len(non_children_means)),4)\n",
    "\n",
    "t = (x_children - x_adult)/stdErr"
   ]
  },
  {
   "cell_type": "code",
   "execution_count": 137,
   "metadata": {
    "collapsed": false
   },
   "outputs": [
    {
     "data": {
      "image/png": "[encoded data removed]",
      "text/plain": [
       "<matplotlib.figure.Figure at 0xd3684a8>"
      ]
     },
     "metadata": {},
     "output_type": "display_data"
    },
    {
     "name": "stdout",
     "output_type": "stream",
     "text": [
      "Mean of Sample of Animated Children's Movies: 3.6\n",
      "Standard Deviation of Sample of Animated Children's Movies: 0.102 \n",
      "\n",
      "Mean of Sample of Animated Adult Movies: 3.67\n",
      "Standard Deviation of Sample of Adult Children's Movies: 0.104 \n",
      "\n",
      "Degrees of Freedom: 398\n"
     ]
    }
   ],
   "source": [
    "fig, axes = plt.subplots(figsize=(15,6))\n",
    "\n",
    "data = [children_means, non_children_means]\n",
    "\n",
    "# Box plot: Notch Shape\n",
    "bplot1 = axes.boxplot(data, vert = True, patch_artist = True)\n",
    "\n",
    "colors = ['lime', 'blue']\n",
    "# more colors here: http://matplotlib.org/examples/color/named_colors.html\n",
    "\n",
    "for patch, color in zip(bplot1['boxes'], colors):\n",
    "        patch.set_facecolor(color)\n",
    "        \n",
    "axes.yaxis.grid(True)\n",
    "axes.set_xlabel('Animated Movie Types',fontsize=20)\n",
    "axes.set_ylabel('Average Ratings',fontsize=20)\n",
    "   \n",
    "# Xtick labels\n",
    "plt.setp(axes, xticklabels=['Children', 'Non-Children'])\n",
    "\n",
    "plt.show()\n",
    "fig.savefig(\"animated_movies_boxplot.png\")\n",
    "\n",
    "print(\"Mean of Sample of Animated Children's Movies:\",x_children)\n",
    "print(\"Standard Deviation of Sample of Animated Children's Movies:\",s_children,'\\n')\n",
    "\n",
    "print(\"Mean of Sample of Animated Adult Movies:\",x_adult)\n",
    "print(\"Standard Deviation of Sample of Adult Children's Movies:\",s_adult,'\\n')\n",
    "\n",
    "print(\"Degrees of Freedom:\",degFreedom)"
   ]
  },
  {
   "cell_type": "markdown",
   "metadata": {},
   "source": [
    "The mean average rating for animated childrens' movies is a bit lower, and there's a miniscule difference in standard deviations of both rating sampling distributions.\n",
    "\n",
    "Now, with the degrees of freedom being quite high at 398, we'd need to look at the highest df value in a t-table for an alpha level of 0.05 to get the 95% confidence level in our statement that the null hypothesis can be rejected."
   ]
  },
  {
   "cell_type": "code",
   "execution_count": 130,
   "metadata": {
    "collapsed": false
   },
   "outputs": [
    {
     "name": "stdout",
     "output_type": "stream",
     "text": [
      "t-test Value:  -9.59\n"
     ]
    }
   ],
   "source": [
    "print(\"t-test Value: \",round(t,2))"
   ]
  },
  {
   "cell_type": "markdown",
   "metadata": {
    "collapsed": true
   },
   "source": [
    "<img src=\"./t-table_values.PNG\" align=\"center\" style=\"width:650px;height:750px;\"/>"
   ]
  },
  {
   "cell_type": "markdown",
   "metadata": {},
   "source": [
    "Sigsig"
   ]
  },
  {
   "cell_type": "code",
   "execution_count": null,
   "metadata": {
    "collapsed": true
   },
   "outputs": [],
   "source": []
  }
 ],
 "metadata": {
  "kernelspec": {
   "display_name": "Python 3",
   "language": "python",
   "name": "python3"
  },
  "language_info": {
   "codemirror_mode": {
    "name": "ipython",
    "version": 3
   },
   "file_extension": ".py",
   "mimetype": "text/x-python",
   "name": "python",
   "nbconvert_exporter": "python",
   "pygments_lexer": "ipython3",
   "version": "3.6.0"
  }
 },
 "nbformat": 4,
 "nbformat_minor": 2
}
